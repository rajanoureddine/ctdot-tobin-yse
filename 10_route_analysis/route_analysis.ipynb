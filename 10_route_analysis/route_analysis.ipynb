{
 "cells": [
  {
   "cell_type": "markdown",
   "id": "c7699652-d211-4e91-950a-c6fd42def28b",
   "metadata": {},
   "source": [
    "# Setup"
   ]
  },
  {
   "cell_type": "code",
   "execution_count": 1,
   "id": "fe2680df-eec7-4d0d-b94b-1ec393e042ac",
   "metadata": {},
   "outputs": [],
   "source": [
    "# Manage paths\n",
    "import pathlib\n",
    "import os\n",
    "\n",
    "# Dataframes\n",
    "import pandas as pd\n",
    "from datetime import datetime\n",
    "import geopandas as gpd\n",
    "from itertools import combinations\n",
    "\n",
    "# Maths\n",
    "import numpy as np\n",
    "\n",
    "# Progress\n",
    "from tqdm import tqdm\n",
    "\n",
    "# Plotting\n",
    "import matplotlib.pyplot as plt\n",
    "\n",
    "# Warnings\n",
    "import warnings\n",
    "warnings.filterwarnings(\"ignore\")\n",
    "\n",
    "data_path = data_path = pathlib.Path().resolve().parent.parent / \"rn_home\" / \"data\"\n",
    "route_data_path = data_path / \"route_data\""
   ]
  },
  {
   "cell_type": "markdown",
   "id": "f73b3115-085e-4484-a74d-816bbaf395fc",
   "metadata": {},
   "source": [
    "# Import data"
   ]
  },
  {
   "cell_type": "code",
   "execution_count": 91,
   "id": "c47dc6f4-e781-42f5-8eaa-83b6e3583572",
   "metadata": {},
   "outputs": [],
   "source": [
    "route_data = pd.read_csv(route_data_path / \"locate_along_routes_test.csv\")"
   ]
  },
  {
   "cell_type": "markdown",
   "id": "ae3968e0-b0ac-44bf-8886-ce7b27ebe86f",
   "metadata": {},
   "source": [
    "# Clean data"
   ]
  },
  {
   "cell_type": "code",
   "execution_count": 199,
   "id": "a8de6eef-06e1-4002-8504-a77a11df6fe8",
   "metadata": {},
   "outputs": [],
   "source": [
    "def prep_raw_route_data(data):\n",
    "    \"\"\"\n",
    "    Takes as input a DataFrame of route intersection data from ArcGIS Pro and cleans it, removing duplicate entries of the same road\n",
    "    etc. \n",
    "    \"\"\"\n",
    "    # Create a copy of the data and keep only relevant columns\n",
    "    data = data.copy()\n",
    "    data = data.iloc[:, 0:6]\n",
    "\n",
    "    # Clean the data\n",
    "    data.loc[:, \"from_od\"] = data.loc[:, \"RID\"].str[0:13]\n",
    "    data.loc[:, \"to_od\"] = data.loc[:, \"RID\"].str[14:]\n",
    "    data.loc[:, \"keep\"] = 1\n",
    "\n",
    "    # Create an organized DF sorted by the Route ID, then the road, then the from measure\n",
    "    data = data.sort_values([\"RID\", \"OBJECTID2\", \"FMEAS\"]).reset_index(drop=True)\n",
    "\n",
    "    \n",
    "    curr_RID = data.iloc[0, data.columns.get_loc(\"RID\")]\n",
    "    curr_ROUTE_ID = data.iloc[0, data.columns.get_loc(\"OBJECTID2\")]\n",
    "    curr_FMEAS = data.iloc[0, data.columns.get_loc(\"FMEAS\")]\n",
    "    curr_TMEAS = data.iloc[0, data.columns.get_loc(\"TMEAS\")]\n",
    "    curr_index = 0\n",
    "    curr_count = 0 \n",
    "\n",
    "    for index, row in tqdm(data.iterrows()):\n",
    "        # Keep the first row\n",
    "        if index == 0:\n",
    "            curr_count += 1\n",
    "            continue\n",
    "        \n",
    "        # If we are on the same RID and same road, move on, but note that we have some repeat\n",
    "        if (row.loc[\"RID\"] == curr_RID) and (row.loc[\"OBJECTID2\"] == curr_ROUTE_ID) and (index != (len(data) - 1)):\n",
    "            curr_count += 1\n",
    "            continue\n",
    "        \n",
    "        # If we are on the same RID but the road changes\n",
    "        elif (row.loc[\"RID\"] == curr_RID) and (row.loc[\"OBJECTID2\"] != curr_ROUTE_ID) and (index != (len(data) - 1)): \n",
    "            if curr_count == 0:\n",
    "                curr_RID = row.loc[\"RID\"]\n",
    "                curr_ROUTE_ID = row.loc[\"OBJECTID2\"]\n",
    "                curr_FMEAS = row.loc[\"FMEAS\"]\n",
    "                curr_TMEAS = row.loc[\"TMEAS\"]\n",
    "                curr_index = index\n",
    "            else:\n",
    "                # Set the to measure on the original row to the new one\n",
    "                data.iloc[curr_index, data.columns.get_loc(\"TMEAS\")] = data.iloc[index-1, data.columns.get_loc(\"TMEAS\")]\n",
    "                \n",
    "                # Set all intermediate rows to be dropped\n",
    "                data.iloc[curr_index+1 : index,  data.columns.get_loc(\"keep\")] = 0\n",
    "    \n",
    "                # Reset indices etc.\n",
    "                curr_RID = row.loc[\"RID\"]\n",
    "                curr_ROUTE_ID = row.loc[\"OBJECTID2\"]\n",
    "                curr_FMEAS = row.loc[\"FMEAS\"]\n",
    "                curr_TMEAS = row.loc[\"TMEAS\"]\n",
    "                curr_index = index\n",
    "                curr_count = 0\n",
    "\n",
    "        # Final row\n",
    "        elif (index == (len(data) - 1)) and (curr_count != 0):\n",
    "             print(\"Final row\")\n",
    "             # Set the to measure on the original row to the new one\n",
    "             data.iloc[curr_index, data.columns.get_loc(\"TMEAS\")] = row.loc[\"TMEAS\"]\n",
    "             \n",
    "             # Set all intermediate rows to be dropped\n",
    "             data.iloc[curr_index+1 :,  data.columns.get_loc(\"keep\")] = 0\n",
    "                                               \n",
    "    return(data.sort_values(\"FMEAS\"))"
   ]
  },
  {
   "cell_type": "code",
   "execution_count": 201,
   "id": "461441db-e63d-48fa-926b-626e9e871dad",
   "metadata": {},
   "outputs": [],
   "source": [
    "test = route_data[route_data[\"RID\"] == \"090093614012 - 090091847002\"].sort_values(\"FMEAS\")"
   ]
  },
  {
   "cell_type": "code",
   "execution_count": 202,
   "id": "0d0a77a3-292f-48ed-803a-524a9cabc6c1",
   "metadata": {},
   "outputs": [
    {
     "name": "stderr",
     "output_type": "stream",
     "text": [
      "69it [00:00, 7767.86it/s]\n"
     ]
    }
   ],
   "source": [
    "test_out = prep_raw_route_data(test)"
   ]
  },
  {
   "cell_type": "code",
   "execution_count": 203,
   "id": "e1e6430a-736b-4dae-ac17-07f3696703d6",
   "metadata": {},
   "outputs": [
    {
     "data": {
      "text/plain": [
       "69"
      ]
     },
     "execution_count": 203,
     "metadata": {},
     "output_type": "execute_result"
    }
   ],
   "source": [
    "len(test_out)"
   ]
  }
 ],
 "metadata": {
  "kernelspec": {
   "display_name": "Python 3 (ipykernel)",
   "language": "python",
   "name": "python3"
  },
  "language_info": {
   "codemirror_mode": {
    "name": "ipython",
    "version": 3
   },
   "file_extension": ".py",
   "mimetype": "text/x-python",
   "name": "python",
   "nbconvert_exporter": "python",
   "pygments_lexer": "ipython3",
   "version": "3.12.0"
  }
 },
 "nbformat": 4,
 "nbformat_minor": 5
}
