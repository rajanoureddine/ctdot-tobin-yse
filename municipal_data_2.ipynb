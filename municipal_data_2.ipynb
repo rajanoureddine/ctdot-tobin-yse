{
 "cells": [
  {
   "cell_type": "markdown",
   "id": "eabd5182",
   "metadata": {},
   "source": [
    "# Set up"
   ]
  },
  {
   "cell_type": "code",
   "execution_count": 1,
   "id": "e030e2ed",
   "metadata": {},
   "outputs": [],
   "source": [
    "# DataFrames\n",
    "import pandas as pd\n",
    "\n",
    "# Numerical\n",
    "import numpy as np\n",
    "\n",
    "# Path management\n",
    "import pathlib"
   ]
  },
  {
   "cell_type": "code",
   "execution_count": 3,
   "id": "88c5e2f7",
   "metadata": {},
   "outputs": [],
   "source": [
    "path = pathlib.Path().resolve()"
   ]
  },
  {
   "cell_type": "markdown",
   "id": "cc7600c0",
   "metadata": {},
   "source": [
    "# Import"
   ]
  },
  {
   "cell_type": "code",
   "execution_count": 28,
   "id": "cc0bf97e",
   "metadata": {},
   "outputs": [],
   "source": [
    "ct_veh_all_years = pd.read_csv(path / \"ignored-data\" / \"vehicles_2022_cleaned\" / \"CT_veh_all_years.csv\", chunksize = 1000)"
   ]
  },
  {
   "cell_type": "markdown",
   "id": "e28ec101",
   "metadata": {},
   "source": [
    "# Browse"
   ]
  },
  {
   "cell_type": "code",
   "execution_count": 29,
   "id": "c026cb1d",
   "metadata": {},
   "outputs": [
    {
     "name": "stdout",
     "output_type": "stream",
     "text": [
      "On chunk number 0\n",
      "On chunk number 100\n",
      "On chunk number 200\n",
      "On chunk number 300\n",
      "On chunk number 400\n",
      "On chunk number 500\n",
      "On chunk number 600\n",
      "On chunk number 700\n",
      "On chunk number 800\n",
      "On chunk number 900\n",
      "On chunk number 1000\n",
      "On chunk number 1100\n",
      "On chunk number 1200\n",
      "On chunk number 1300\n",
      "On chunk number 1400\n",
      "On chunk number 1500\n",
      "On chunk number 1600\n",
      "On chunk number 1700\n",
      "On chunk number 1800\n",
      "On chunk number 1900\n",
      "On chunk number 2000\n",
      "On chunk number 2100\n",
      "On chunk number 2200\n",
      "On chunk number 2300\n",
      "On chunk number 2400\n",
      "On chunk number 2500\n",
      "On chunk number 2600\n",
      "On chunk number 2700\n",
      "On chunk number 2800\n",
      "On chunk number 2900\n",
      "On chunk number 3000\n",
      "On chunk number 3100\n",
      "On chunk number 3200\n",
      "On chunk number 3300\n",
      "On chunk number 3400\n",
      "On chunk number 3500\n",
      "On chunk number 3600\n",
      "On chunk number 3700\n",
      "On chunk number 3800\n",
      "On chunk number 3900\n",
      "On chunk number 4000\n",
      "On chunk number 4100\n",
      "On chunk number 4200\n",
      "On chunk number 4300\n"
     ]
    }
   ],
   "source": [
    "# Look at the first few chunks\n",
    "\n",
    "# Set up empty DataFrame and counter\n",
    "df = pd.DataFrame([])\n",
    "sources = []\n",
    "i = 0\n",
    "\n",
    "for chunk in ct_veh_all_years:\n",
    "    if i % 100 == 0:\n",
    "        print(f\"On chunk number {i}\")\n",
    "        \n",
    "    sources.append(list(chunk[\"record_from\"].unique()))\n",
    "        \n",
    "    nor = chunk[chunk[\"record_from\"].str.contains(\"Norfolk\")]\n",
    "    num_nor = len(nor)\n",
    "    \n",
    "    if num_nor > 0:\n",
    "        print(f\"Adding {num_nor} entries\")\n",
    "        df = pd.concat([df, nor])\n",
    "    \n",
    "    i+=1"
   ]
  },
  {
   "cell_type": "code",
   "execution_count": 30,
   "id": "3b2ba36f",
   "metadata": {},
   "outputs": [],
   "source": [
    "sources_flat = [item for sublist in sources for item in sublist]"
   ]
  },
  {
   "cell_type": "code",
   "execution_count": 40,
   "id": "31ed7bb0",
   "metadata": {},
   "outputs": [
    {
     "data": {
      "text/plain": [
       "0"
      ]
     },
     "execution_count": 40,
     "metadata": {},
     "output_type": "execute_result"
    }
   ],
   "source": [
    "sources_df = pd.DataFrame(sources_flat, columns = [\"source\"])\n",
    "sources_df[\"source\"].str.contains(\"Norwalk\")"
   ]
  },
  {
   "cell_type": "markdown",
   "id": "dcf7fea5",
   "metadata": {},
   "source": [
    "So Norwalk has been dropped?"
   ]
  }
 ],
 "metadata": {
  "kernelspec": {
   "display_name": "Python 3 (ipykernel)",
   "language": "python",
   "name": "python3"
  },
  "language_info": {
   "codemirror_mode": {
    "name": "ipython",
    "version": 3
   },
   "file_extension": ".py",
   "mimetype": "text/x-python",
   "name": "python",
   "nbconvert_exporter": "python",
   "pygments_lexer": "ipython3",
   "version": "3.9.12"
  }
 },
 "nbformat": 4,
 "nbformat_minor": 5
}
