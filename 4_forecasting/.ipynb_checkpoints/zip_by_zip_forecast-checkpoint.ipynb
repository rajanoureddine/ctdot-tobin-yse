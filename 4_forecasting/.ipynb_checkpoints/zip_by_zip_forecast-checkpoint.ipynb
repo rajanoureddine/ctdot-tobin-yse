{
 "cells": [
  {
   "cell_type": "markdown",
   "id": "d9a86c93",
   "metadata": {},
   "source": [
    "# Zip by zip forecast"
   ]
  },
  {
   "cell_type": "markdown",
   "id": "30c8ba0e",
   "metadata": {},
   "source": [
    "## Set up"
   ]
  },
  {
   "cell_type": "code",
   "execution_count": 1,
   "id": "53408553-186a-4073-87b9-206d7b56dc88",
   "metadata": {},
   "outputs": [],
   "source": [
    "# DataFrame Management\n",
    "import pandas as pd\n",
    "\n",
    "# Maths and statistics\n",
    "import numpy as np\n",
    "import statsmodels.api as sm\n",
    "import statsmodels.formula.api as smf\n",
    "from statsmodels.graphics.tsaplots import plot_acf\n",
    "\n",
    "# Plotting\n",
    "from matplotlib import pyplot as plt\n",
    "\n",
    "# Strings\n",
    "import re\n",
    "\n",
    "# Progress monitoring\n",
    "from tqdm import tqdm\n",
    "\n",
    "# Path management\n",
    "import pathlib\n",
    "import os\n",
    "import platform\n",
    "\n",
    "# Date Management\n",
    "import datetime\n",
    "from datetime import timedelta"
   ]
  },
  {
   "cell_type": "code",
   "execution_count": 2,
   "id": "456a6822-3523-4fee-b67e-24fbe12ef148",
   "metadata": {},
   "outputs": [],
   "source": [
    "# Set up path\n",
    "path = pathlib.Path().resolve()\n",
    "\n",
    "# If linux, different\n",
    "if platform.system() != 'Linux':\n",
    "    data_path = path.parent / \"Dropbox\" / \"DOT_Tobin_Collaboration\" / \"data\"\n",
    "else:\n",
    "    project_path = path.parent.parent / \"rn_home\"\n",
    "    data_path = project_path / \"data\" / \"rlpolk_data\""
   ]
  },
  {
   "cell_type": "markdown",
   "id": "0ad4ad08",
   "metadata": {},
   "source": [
    "# Prepare Data"
   ]
  },
  {
   "cell_type": "markdown",
   "id": "bef5f431-f617-43a5-80a7-58217a4d7bbc",
   "metadata": {},
   "source": [
    "### Import Data"
   ]
  },
  {
   "cell_type": "code",
   "execution_count": 3,
   "id": "3d045cfb",
   "metadata": {},
   "outputs": [],
   "source": [
    "# Import raw data to be used\n",
    "vehicle_sales = pd.read_csv(data_path / \"new_vehicle_sales_month_year_zip.csv\")\n",
    "vehicle_sales = vehicle_sales.drop(\"Unnamed: 0\", axis = 1)\n",
    "vehicle_sales_filled = pd.read_csv(data_path / \"vehicle_sales_filled.csv\", index_col = [0])"
   ]
  },
  {
   "cell_type": "code",
   "execution_count": 7,
   "id": "ac3abade-049d-4092-a66e-fd49819bae76",
   "metadata": {},
   "outputs": [],
   "source": [
    "total_by_zip_yr_mth = vehicle_sales_filled.groupby([\"ZIP_CODE\", \"year\", \"month\"]).sum()[[\"VEH_COUNT\"]].reset_index()\n",
    "total_by_yr_mth = vehicle_sales_filled.groupby([\"year\", \"month\"]).sum()[[\"VEH_COUNT\"]].reset_index()"
   ]
  },
  {
   "cell_type": "code",
   "execution_count": 8,
   "id": "d46fefde-7f2e-4695-a25c-720fbc447e32",
   "metadata": {},
   "outputs": [],
   "source": [
    "# Add the total vehicles sold\n",
    "vehicle_sales_filled = vehicle_sales_filled.merge(total_by_zip_yr_mth, \n",
    "                                                  left_on = [\"ZIP_CODE\", \"year\", \"month\"], \n",
    "                                                  right_on = [\"ZIP_CODE\", \"year\", \"month\"],\n",
    "                                                  how = 'left').rename(columns = {\"VEH_COUNT_y\" : \"TOTAL_VEH_COUNT\",\n",
    "                                                                                 \"VEH_COUNT_x\" : \"VEH_COUNT\"})"
   ]
  },
  {
   "cell_type": "code",
   "execution_count": 9,
   "id": "c0737bac-4db2-42c7-96ab-b5299cd66782",
   "metadata": {},
   "outputs": [],
   "source": [
    "# Add the total vehicles sold\n",
    "vehicle_sales_filled = vehicle_sales_filled.merge(total_by_yr_mth, \n",
    "                                                  left_on = [\"year\", \"month\"], \n",
    "                                                  right_on = [\"year\", \"month\"],\n",
    "                                                  how = 'left').rename(columns = {\"VEH_COUNT_y\" : \"TOTAL_VEH_COUNT_YEAR_MONTH\",\n",
    "                                                                                 \"VEH_COUNT_x\" : \"VEH_COUNT\"})"
   ]
  },
  {
   "cell_type": "code",
   "execution_count": 11,
   "id": "7a75d6e6-6094-47a7-9df4-a4a1d1464327",
   "metadata": {},
   "outputs": [],
   "source": [
    "# Calculate the share\n",
    "def f(veh_cnt, total_veh_cnt):\n",
    "    try: \n",
    "        if total_veh_cnt == 0:\n",
    "            return 0\n",
    "        else:\n",
    "            return round(veh_cnt / total_veh_cnt,4)\n",
    "    except:\n",
    "        return np.NaN\n",
    "\n",
    "vehicle_sales_filled[\"share_in_zip_yr_mth\"] = vehicle_sales_filled.apply(lambda x: f(x.VEH_COUNT, x.TOTAL_VEH_COUNT), axis = 1)\n",
    "vehicle_sales_filled[\"share_in_yr_mth\"] = vehicle_sales_filled.apply(lambda x: f(x.VEH_COUNT, x.TOTAL_VEH_COUNT_YEAR_MONTH), axis = 1)"
   ]
  },
  {
   "cell_type": "code",
   "execution_count": 13,
   "id": "ef116be1",
   "metadata": {},
   "outputs": [],
   "source": [
    "# Create EV sales data with zeroes filled (we create a date column to ease plotting)\n",
    "ev_sales_filled = vehicle_sales_filled.loc[vehicle_sales_filled[vehicle_sales_filled[\"FuelTypePrimary\"] == \"Electric\"].index, :]\n",
    "ev_sales_filled.loc[:, \"day\"] = 1\n",
    "ev_sales_filled.loc[:,\"date\"] = pd.to_datetime(ev_sales_filled[[\"year\", \"month\", \"day\"]])"
   ]
  },
  {
   "cell_type": "markdown",
   "id": "2260d17d",
   "metadata": {},
   "source": [
    "### Create out-of-sample data to be used for prediction later"
   ]
  },
  {
   "cell_type": "code",
   "execution_count": 15,
   "id": "988255be",
   "metadata": {
    "scrolled": true
   },
   "outputs": [
    {
     "name": "stderr",
     "output_type": "stream",
     "text": [
      "/tmp/ipykernel_2326829/2883918726.py:10: FutureWarning: Setting an item of incompatible dtype is deprecated and will raise in a future error of pandas. Value '01' has dtype incompatible with float64, please explicitly cast to a compatible dtype first.\n",
      "  predict_data.loc[i, \"month\"] = f\"{int(month)}\".zfill(2)\n",
      "/tmp/ipykernel_2326829/2883918726.py:20: FutureWarning: Setting an item of incompatible dtype is deprecated and will raise in a future error of pandas. Value 'True' has dtype incompatible with float64, please explicitly cast to a compatible dtype first.\n",
      "  predict_data.loc[dates > datetime.datetime(2020,7,1), \"post_jun_2020\"] = True\n"
     ]
    }
   ],
   "source": [
    "# Set up prediction data\n",
    "predict_years = [2018, 2019, 2020, 2021, 2022,2023, 2024, 2025, 2026,2027,2028,2029,2030]\n",
    "predict_months = [1,2,3,4,5,6,7,8,9,10,11,12]\n",
    "predict_data = pd.DataFrame([])\n",
    "\n",
    "i = 0\n",
    "for year in predict_years:\n",
    "    for month in predict_months:\n",
    "        predict_data.loc[i, \"year\"] = int(year)\n",
    "        predict_data.loc[i, \"month\"] = f\"{int(month)}\".zfill(2)\n",
    "        predict_data.loc[i, \"time\"] = int(i)\n",
    "        i+=1\n",
    "    \n",
    "predict_month_dummies = pd.get_dummies(predict_data[\"month\"], prefix = 'month')\n",
    "predict_data = pd.concat([predict_data, predict_month_dummies], axis = 1)\n",
    "predict_data[\"day\"] = 1\n",
    "\n",
    "dates = pd.to_datetime(predict_data[[\"year\", \"month\", \"day\"]])\n",
    "\n",
    "predict_data.loc[dates > datetime.datetime(2020,7,1), \"post_jun_2020\"] = True\n",
    "predict_data.loc[~(dates > datetime.datetime(2020,7,1)), \"post_jun_2020\"] = False\n",
    "\n",
    "# Prepare data\n",
    "predict_data[\"time2\"]=predict_data[\"time\"]**2"
   ]
  },
  {
   "cell_type": "markdown",
   "id": "3f2c8e62",
   "metadata": {},
   "source": [
    "# Model zip by zip"
   ]
  },
  {
   "cell_type": "markdown",
   "id": "ff5f3460-f4b0-4e20-b707-bcf9ee9d18fd",
   "metadata": {},
   "source": [
    "### Modelling"
   ]
  },
  {
   "cell_type": "code",
   "execution_count": 69,
   "id": "fade5685",
   "metadata": {},
   "outputs": [],
   "source": [
    "quad_model_dict = {}\n",
    "quad_share_model_dict = {}\n",
    "\n",
    "quad_predictions_dict = {}\n",
    "quad_share_predictions_dict = {}\n",
    "\n",
    "# lin_errors_dict = {}\n",
    "# quad_errors_dict = {}\n",
    "\n",
    "# lin_forecast_dict = {}\n",
    "quad_forecast_dict = {}\n",
    "quad_share_forecast_dict = {}\n",
    "logit_share_forecast_dict = {}\n",
    "\n",
    "observed_dict = {}\n",
    "\n",
    "failed_zips = []"
   ]
  },
  {
   "cell_type": "code",
   "execution_count": 71,
   "id": "791fd412-1d49-4fb3-aa65-bb607b6ee46e",
   "metadata": {},
   "outputs": [],
   "source": [
    "def model_by_zip(input_df, zip_codes):\n",
    "    # Define the formulas\n",
    "    form_lin = 'VEH_COUNT~time+month_01+month_02+month_03+month_04+month_05+month_06+month_07+month_08+month_09+month_10+month_11+month_12'\n",
    "    form_quad = 'VEH_COUNT~time2+month_01+month_02+month_03+month_04+month_05+month_06+month_07+month_08+month_09+month_10+month_11+month_12'\n",
    "    form_lin_share = 'share_in_zip_yr_mth~time+month_01+month_02+month_03+month_04+month_05+month_06+month_07+month_08+month_09+month_10+month_11+month_12'\n",
    "    form_quad_share = 'share_in_zip_yr_mth~time2+month_01+month_02+month_03+month_04+month_05+month_06+month_07+month_08+month_09+month_10+month_11+month_12'\n",
    "    \n",
    "    for zip_code in tqdm(zip_codes):\n",
    "        try:\n",
    "            # Create a dataframe containing a running time variable\n",
    "            df = input_df[input_df[\"ZIP_CODE\"]==zip_code][[\"VEH_COUNT\", \"TOTAL_VEH_COUNT\", \"share_in_zip_yr_mth\", \"year\", \"month\", \"day\", \"date\"]]\n",
    "            df = df.sort_values(\"date\", ascending=True).reset_index().reset_index().rename(columns = {\"level_0\":\"time\"}).drop(\"index\", axis=1)\n",
    "            \n",
    "            # Create dummies\n",
    "            df[\"month\"] = df[\"date\"].astype(str).str[5:7]\n",
    "            month_dummies = pd.get_dummies(df[\"month\"], prefix = 'month')\n",
    "            df = pd.concat([df, month_dummies], axis =1)\n",
    "            \n",
    "            # Create the quadratic time data\n",
    "            df[\"time2\"] = df[\"time\"]**2\n",
    "            \n",
    "            # Estimate the quadratic model\n",
    "            zip_model_quad = smf.ols(formula=form_quad, data = df)\n",
    "            zip_model_quad_results = zip_model_quad.fit()\n",
    "\n",
    "            # Estimate quadratic with shares\n",
    "            zip_model_quad_share = smf.ols(formula=form_quad_share, data = df)\n",
    "            zip_model_quad_share_results = zip_model_quad_share.fit()\n",
    "\n",
    "            # Estimate logit\n",
    "            form_logit = 'share_in_zip_yr_mth~time'\n",
    "            logit_model = smf.logit(form_logit, data = df)\n",
    "            logit_model_results = logit_model.fit(disp = 0)\n",
    "\n",
    "            # Add the linear and quadratic models to the respective dictionaries\n",
    "            quad_model_dict[zip_code] = zip_model_quad_results\n",
    "            quad_share_model_dict[zip_code] = zip_model_quad_share_results\n",
    "            \n",
    "            # Get quadratic forecast to 2030\n",
    "            forecast_quadratic = zip_model_quad_results.predict(predict_data)\n",
    "            quad_forecast_dict[zip_code] = forecast_quadratic\n",
    "\n",
    "            # Get quadratic share forecast to 2030\n",
    "            forecast_quadratic_share = zip_model_quad_share_results.predict(predict_data)\n",
    "            quad_share_forecast_dict[zip_code] = forecast_quadratic_share\n",
    "\n",
    "            # Get logistic share forecast \n",
    "            forecast_logit_share = logit_model_results.predict(predict_data)\n",
    "            logit_share_forecast_dict[zip_code] = forecast_logit_share\n",
    "            \n",
    "            # Get real\n",
    "            observed_dict[zip_code] = df[[\"year\", \"month\", \"VEH_COUNT\"]]\n",
    "        \n",
    "        except Exception as e:\n",
    "            failed_zips.append(zip_code)\n",
    "        "
   ]
  },
  {
   "cell_type": "markdown",
   "id": "3ea3105e-3929-41b8-9c9b-2502bb323426",
   "metadata": {},
   "source": [
    "# Save"
   ]
  },
  {
   "cell_type": "code",
   "execution_count": 72,
   "id": "be0cd459",
   "metadata": {},
   "outputs": [],
   "source": [
    "# Transform the predictions into long format and save as a csv\n",
    "zip_by_zip_predictions_lin = pd.DataFrame(lin_predictions_dict)\n",
    "value_vars = pd.DataFrame(lin_predictions_dict).T.index\n",
    "zip_by_zip_predictions_lin = pd.melt(pd.DataFrame(lin_predictions_dict).T.reset_index(), id_vars = 'index').rename(columns = {\"index\":\"zip\",\n",
    "                                                                                  \"variable\":\"time\"}).sort_values([\"zip\",\"time\"]).reset_index(drop=True)"
   ]
  },
  {
   "cell_type": "code",
   "execution_count": 73,
   "id": "b029b7d1",
   "metadata": {},
   "outputs": [],
   "source": [
    "# Create quad predictions\n",
    "zip_by_zip_predictions_quad = pd.DataFrame(quad_predictions_dict)\n",
    "value_vars = pd.DataFrame(quad_predictions_dict).T.index\n",
    "zip_by_zip_predictions_quad = pd.melt(pd.DataFrame(quad_predictions_dict).T.reset_index(), id_vars = 'index').rename(columns = {\"index\":\"zip\",\n",
    "                                                                                  \"variable\":\"time\"}).sort_values([\"zip\",\"time\"]).reset_index(drop=True)"
   ]
  },
  {
   "cell_type": "code",
   "execution_count": 74,
   "id": "7eb528aa",
   "metadata": {},
   "outputs": [
    {
     "data": {
      "text/plain": [
       "283226.6646530895"
      ]
     },
     "execution_count": 74,
     "metadata": {},
     "output_type": "execute_result"
    }
   ],
   "source": [
    "# Create quadratic forecast\n",
    "quad_forecast = pd.melt(pd.DataFrame(quad_forecast_dict).reset_index().rename(columns = {\"index\":\"time\"}), id_vars = 'time')\n",
    "quad_forecast = quad_forecast.rename(columns = {\"variable\":\"zip\"}).sort_values([\"zip\", \"time\"]).reset_index(drop=True)\n",
    "\n",
    "quad_forecast.groupby(\"time\").sum()[\"value\"].sum()"
   ]
  },
  {
   "cell_type": "code",
   "execution_count": 87,
   "id": "41127342-5d6a-4e47-93e4-0300915687e5",
   "metadata": {},
   "outputs": [],
   "source": [
    "logit_forecast = pd.melt(pd.DataFrame(logit_share_forecast_dict).reset_index().rename(columns = {\"index\":\"time\"}), id_vars = 'time')"
   ]
  },
  {
   "cell_type": "code",
   "execution_count": null,
   "id": "77cb7403-f98f-4b98-aa82-d9be34d6ec38",
   "metadata": {},
   "outputs": [],
   "source": [
    "logit_forecast"
   ]
  },
  {
   "cell_type": "code",
   "execution_count": 97,
   "id": "59535da2-0618-4c09-982a-48a03cbc13ea",
   "metadata": {},
   "outputs": [
    {
     "data": {
      "text/plain": [
       "[<matplotlib.lines.Line2D at 0x14dde573ca40>]"
      ]
     },
     "execution_count": 97,
     "metadata": {},
     "output_type": "execute_result"
    },
    {
     "data": {
      "image/png": "[encoded data removed]",
      "text/plain": [
       "<Figure size 640x480 with 1 Axes>"
      ]
     },
     "metadata": {},
     "output_type": "display_data"
    }
   ],
   "source": [
    "plt.plot(quad_forecast.groupby(\"time\").sum()[\"value\"])"
   ]
  },
  {
   "cell_type": "markdown",
   "id": "73a6a520",
   "metadata": {},
   "source": [
    "**We visualize the in-sample predictions for the top 10 zip codes by sales of all vehicles**"
   ]
  },
  {
   "cell_type": "code",
   "execution_count": 110,
   "id": "a97f93b5",
   "metadata": {},
   "outputs": [],
   "source": [
    "top_10_zips = total_sales_by_zip.groupby(\"ZIP_CODE\").sum().sort_values(\"TOTAL_VEH_COUNT\",ascending=False).head(10).reset_index()[\"ZIP_CODE\"].to_list()"
   ]
  }
 ],
 "metadata": {
  "kernelspec": {
   "display_name": "Python 3 (ipykernel)",
   "language": "python",
   "name": "python3"
  },
  "language_info": {
   "codemirror_mode": {
    "name": "ipython",
    "version": 3
   },
   "file_extension": ".py",
   "mimetype": "text/x-python",
   "name": "python",
   "nbconvert_exporter": "python",
   "pygments_lexer": "ipython3",
   "version": "3.12.0"
  }
 },
 "nbformat": 4,
 "nbformat_minor": 5
}
