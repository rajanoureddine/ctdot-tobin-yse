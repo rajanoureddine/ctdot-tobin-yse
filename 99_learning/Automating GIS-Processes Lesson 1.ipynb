{
 "cells": [
  {
   "cell_type": "code",
   "execution_count": 6,
   "id": "5063b5db",
   "metadata": {},
   "outputs": [],
   "source": [
    "import shapely\n",
    "from shapely.geometry import Point, LineString, Polygon"
   ]
  },
  {
   "cell_type": "markdown",
   "id": "ccda7fb9",
   "metadata": {},
   "source": [
    "Test creating some points"
   ]
  },
  {
   "cell_type": "code",
   "execution_count": 4,
   "id": "5bc6e960",
   "metadata": {},
   "outputs": [],
   "source": [
    "# Create some points\n",
    "point1 = Point(7.2, 3)"
   ]
  },
  {
   "cell_type": "markdown",
   "id": "9d7a070e",
   "metadata": {},
   "source": [
    "Point constructors take positional coordinate values or point tuple parameters. So we can also do:"
   ]
  },
  {
   "cell_type": "code",
   "execution_count": 8,
   "id": "d82e7fbe",
   "metadata": {},
   "outputs": [],
   "source": [
    "point2 = Point((4.1, 4.2))"
   ]
  },
  {
   "cell_type": "markdown",
   "id": "026052c2",
   "metadata": {},
   "source": [
    "What is in it:"
   ]
  },
  {
   "cell_type": "code",
   "execution_count": 11,
   "id": "6cd25797",
   "metadata": {},
   "outputs": [
    {
     "data": {
      "text/plain": [
       "['__module__',\n",
       " '__doc__',\n",
       " '__slots__',\n",
       " '__new__',\n",
       " 'x',\n",
       " 'y',\n",
       " 'z',\n",
       " '__geo_interface__',\n",
       " 'svg',\n",
       " 'xy',\n",
       " '_ndim',\n",
       " '__bool__',\n",
       " '__nonzero__',\n",
       " '__format__',\n",
       " '__repr__',\n",
       " '__str__',\n",
       " '__reduce__',\n",
       " '__and__',\n",
       " '__or__',\n",
       " '__sub__',\n",
       " '__xor__',\n",
       " 'coords',\n",
       " 'geometryType',\n",
       " 'type',\n",
       " 'wkt',\n",
       " 'wkb',\n",
       " 'wkb_hex',\n",
       " '_repr_svg_',\n",
       " 'geom_type',\n",
       " 'area',\n",
       " 'distance',\n",
       " 'hausdorff_distance',\n",
       " 'length',\n",
       " 'minimum_clearance',\n",
       " 'boundary',\n",
       " 'bounds',\n",
       " 'centroid',\n",
       " 'point_on_surface',\n",
       " 'representative_point',\n",
       " 'convex_hull',\n",
       " 'envelope',\n",
       " 'oriented_envelope',\n",
       " 'minimum_rotated_rectangle',\n",
       " 'buffer',\n",
       " 'simplify',\n",
       " 'normalize',\n",
       " 'difference',\n",
       " 'intersection',\n",
       " 'symmetric_difference',\n",
       " 'union',\n",
       " 'has_z',\n",
       " 'is_empty',\n",
       " 'is_ring',\n",
       " 'is_closed',\n",
       " 'is_simple',\n",
       " 'is_valid',\n",
       " 'relate',\n",
       " 'covers',\n",
       " 'covered_by',\n",
       " 'contains',\n",
       " 'contains_properly',\n",
       " 'crosses',\n",
       " 'disjoint',\n",
       " 'equals',\n",
       " 'intersects',\n",
       " 'overlaps',\n",
       " 'touches',\n",
       " 'within',\n",
       " 'dwithin',\n",
       " 'equals_exact',\n",
       " 'almost_equals',\n",
       " 'relate_pattern',\n",
       " 'line_locate_point',\n",
       " 'project',\n",
       " 'line_interpolate_point',\n",
       " 'interpolate',\n",
       " 'segmentize',\n",
       " 'reverse',\n",
       " '__hash__',\n",
       " '__lt__',\n",
       " '__le__',\n",
       " '__eq__',\n",
       " '__ne__',\n",
       " '__gt__',\n",
       " '__ge__',\n",
       " '__setstate__',\n",
       " '_geom',\n",
       " '_geom_prepared',\n",
       " '__getattribute__',\n",
       " '__setattr__',\n",
       " '__delattr__',\n",
       " '__init__',\n",
       " '__reduce_ex__',\n",
       " '__subclasshook__',\n",
       " '__init_subclass__',\n",
       " '__sizeof__',\n",
       " '__dir__',\n",
       " '__class__']"
      ]
     },
     "execution_count": 11,
     "metadata": {},
     "output_type": "execute_result"
    }
   ],
   "source": [
    "point1.__dir__()"
   ]
  },
  {
   "cell_type": "code",
   "execution_count": 13,
   "id": "105e2919",
   "metadata": {},
   "outputs": [
    {
     "data": {
      "image/svg+xml": [
       "<svg xmlns=\"http://www.w3.org/2000/svg\" xmlns:xlink=\"http://www.w3.org/1999/xlink\" width=\"100.0\" height=\"100.0\" viewBox=\"0.0 1.0 2.0 2.0\" preserveAspectRatio=\"xMinYMin meet\"><g transform=\"matrix(1,0,0,-1,0,4.0)\"><circle cx=\"1.0\" cy=\"2.0\" r=\"0.06\" stroke=\"#555555\" stroke-width=\"0.02\" fill=\"#66cc99\" opacity=\"0.6\" /></g></svg>"
      ],
      "text/plain": [
       "<POINT Z (1 2 3)>"
      ]
     },
     "execution_count": 13,
     "metadata": {},
     "output_type": "execute_result"
    }
   ],
   "source": [
    "# Create a 3D point\n",
    "point3D = Point((1, 2, 3))\n",
    "point3D"
   ]
  },
  {
   "cell_type": "code",
   "execution_count": 16,
   "id": "ffd42f5d",
   "metadata": {},
   "outputs": [
    {
     "name": "stdout",
     "output_type": "stream",
     "text": [
      "POINT Z (1 2 3)\n",
      "<class 'shapely.geometry.point.Point'>\n"
     ]
    }
   ],
   "source": [
    "print(point3D)\n",
    "print(type(point3D))"
   ]
  },
  {
   "cell_type": "code",
   "execution_count": 17,
   "id": "9af29b66",
   "metadata": {},
   "outputs": [
    {
     "data": {
      "text/plain": [
       "'Point'"
      ]
     },
     "execution_count": 17,
     "metadata": {},
     "output_type": "execute_result"
    }
   ],
   "source": [
    "point3D.geom_type"
   ]
  },
  {
   "cell_type": "code",
   "execution_count": 18,
   "id": "47862ac0",
   "metadata": {},
   "outputs": [
    {
     "data": {
      "text/plain": [
       "<shapely.coords.CoordinateSequence at 0x201a189ef40>"
      ]
     },
     "execution_count": 18,
     "metadata": {},
     "output_type": "execute_result"
    }
   ],
   "source": [
    "point3D.coords"
   ]
  },
  {
   "cell_type": "markdown",
   "id": "77ece119",
   "metadata": {},
   "source": [
    "We need to create a list in order to extract them"
   ]
  },
  {
   "cell_type": "code",
   "execution_count": 22,
   "id": "cde58143",
   "metadata": {},
   "outputs": [
    {
     "data": {
      "text/plain": [
       "[(1.0, 2.0, 3.0)]"
      ]
     },
     "execution_count": 22,
     "metadata": {},
     "output_type": "execute_result"
    }
   ],
   "source": [
    "list(point3D.coords)"
   ]
  },
  {
   "cell_type": "code",
   "execution_count": 25,
   "id": "f968382a",
   "metadata": {},
   "outputs": [
    {
     "data": {
      "text/plain": [
       "3.0"
      ]
     },
     "execution_count": 25,
     "metadata": {},
     "output_type": "execute_result"
    }
   ],
   "source": [
    "point3D.z"
   ]
  },
  {
   "cell_type": "code",
   "execution_count": 40,
   "id": "76e2bf47",
   "metadata": {},
   "outputs": [
    {
     "name": "stdout",
     "output_type": "stream",
     "text": [
      "The distance is 3.32\n"
     ]
    }
   ],
   "source": [
    "# Calculate the distance in the cartesian coordinate system\n",
    "dist = point1.distance(point2)\n",
    "print(f\"The distance is {dist:.2f}\")"
   ]
  },
  {
   "cell_type": "markdown",
   "id": "d5ee5864",
   "metadata": {},
   "source": [
    "## LineStrings"
   ]
  },
  {
   "cell_type": "code",
   "execution_count": 43,
   "id": "9419f775",
   "metadata": {},
   "outputs": [
    {
     "data": {
      "image/svg+xml": [
       "<svg xmlns=\"http://www.w3.org/2000/svg\" xmlns:xlink=\"http://www.w3.org/1999/xlink\" width=\"100.0\" height=\"100.0\" viewBox=\"-0.16 -0.16 2.3200000000000003 4.32\" preserveAspectRatio=\"xMinYMin meet\"><g transform=\"matrix(1,0,0,-1,0,4.0)\"><polyline fill=\"none\" stroke=\"#66cc99\" stroke-width=\"0.0864\" points=\"0.0,0.0 1.0,1.0 2.0,2.0 0.0,4.0\" opacity=\"0.8\" /></g></svg>"
      ],
      "text/plain": [
       "<LINESTRING (0 0, 1 1, 2 2, 0 4)>"
      ]
     },
     "execution_count": 43,
     "metadata": {},
     "output_type": "execute_result"
    }
   ],
   "source": [
    "# The linestring constructor takes an ordered sequence \n",
    "# of 2 or more x,y or x,y,z tuples\n",
    "line = LineString([[0,0],[1,1],[2,2], [0,4]])\n",
    "line"
   ]
  },
  {
   "cell_type": "code",
   "execution_count": 47,
   "id": "8ff07e5d",
   "metadata": {},
   "outputs": [
    {
     "name": "stdout",
     "output_type": "stream",
     "text": [
      "LINESTRING (0 0, 1 1, 2 2, 0 4)\n",
      "LineString\n"
     ]
    }
   ],
   "source": [
    "print(line)\n",
    "print(line.geom_type)"
   ]
  },
  {
   "cell_type": "code",
   "execution_count": 48,
   "id": "7603766b",
   "metadata": {},
   "outputs": [
    {
     "data": {
      "text/plain": [
       "[(0.0, 0.0), (1.0, 1.0), (2.0, 2.0), (0.0, 4.0)]"
      ]
     },
     "execution_count": 48,
     "metadata": {},
     "output_type": "execute_result"
    }
   ],
   "source": [
    "list(line.coords)"
   ]
  },
  {
   "cell_type": "code",
   "execution_count": 50,
   "id": "22e20573",
   "metadata": {},
   "outputs": [
    {
     "data": {
      "text/plain": [
       "[array('d', [0.0, 1.0, 2.0, 0.0]), array('d', [0.0, 1.0, 2.0, 4.0])]"
      ]
     },
     "execution_count": 50,
     "metadata": {},
     "output_type": "execute_result"
    }
   ],
   "source": [
    "# Create an array with first all the x coordinates, then\n",
    "# all the y coordinates\n",
    "list(line.xy)"
   ]
  },
  {
   "cell_type": "code",
   "execution_count": 55,
   "id": "a81962d4",
   "metadata": {},
   "outputs": [
    {
     "data": {
      "text/plain": [
       "(array('d', [0.0, 1.0, 2.0, 0.0]), array('d', [0.0, 1.0, 2.0, 4.0]))"
      ]
     },
     "execution_count": 55,
     "metadata": {},
     "output_type": "execute_result"
    }
   ],
   "source": [
    "line.xy"
   ]
  },
  {
   "cell_type": "code",
   "execution_count": 56,
   "id": "5c29716f",
   "metadata": {},
   "outputs": [
    {
     "data": {
      "text/plain": [
       "0.0"
      ]
     },
     "execution_count": 56,
     "metadata": {},
     "output_type": "execute_result"
    }
   ],
   "source": [
    "line.xy[0][0]"
   ]
  },
  {
   "cell_type": "code",
   "execution_count": 58,
   "id": "1d165a74",
   "metadata": {},
   "outputs": [
    {
     "data": {
      "text/plain": [
       "5.656854249492381"
      ]
     },
     "execution_count": 58,
     "metadata": {},
     "output_type": "execute_result"
    }
   ],
   "source": [
    "line_length = line.length\n",
    "line_length"
   ]
  },
  {
   "cell_type": "code",
   "execution_count": 59,
   "id": "b27e984d",
   "metadata": {},
   "outputs": [
    {
     "name": "stdout",
     "output_type": "stream",
     "text": [
      "POINT (1 2)\n"
     ]
    }
   ],
   "source": [
    "# We can also get the centrepoint of the line\n",
    "print(line.centroid)"
   ]
  },
  {
   "cell_type": "markdown",
   "id": "1225200b",
   "metadata": {},
   "source": [
    "We can also pass points to the LineString constructor"
   ]
  },
  {
   "cell_type": "code",
   "execution_count": 45,
   "id": "27be8520",
   "metadata": {},
   "outputs": [
    {
     "data": {
      "image/svg+xml": [
       "<svg xmlns=\"http://www.w3.org/2000/svg\" xmlns:xlink=\"http://www.w3.org/1999/xlink\" width=\"100.0\" height=\"100.0\" viewBox=\"3.9759999999999995 2.876 3.3480000000000003 1.448\" preserveAspectRatio=\"xMinYMin meet\"><g transform=\"matrix(1,0,0,-1,0,7.199999999999999)\"><polyline fill=\"none\" stroke=\"#66cc99\" stroke-width=\"0.06696\" points=\"7.2,3.0 4.1,4.2\" opacity=\"0.8\" /></g></svg>"
      ],
      "text/plain": [
       "<LINESTRING (7.2 3, 4.1 4.2)>"
      ]
     },
     "execution_count": 45,
     "metadata": {},
     "output_type": "execute_result"
    }
   ],
   "source": [
    "line2 = LineString([point1, point2])\n",
    "line2"
   ]
  },
  {
   "cell_type": "markdown",
   "id": "7ab0968f",
   "metadata": {},
   "source": [
    "# Polygons"
   ]
  },
  {
   "cell_type": "markdown",
   "id": "f3424f2b",
   "metadata": {},
   "source": [
    "Polygons take two positional parameters. The first is an ordered sequence of x, y (z) parameters and is treated as in a linear ring case. The second is an optional unordered sequence of ring-like sequences specifying the boundaries of inner rings"
   ]
  },
  {
   "cell_type": "code",
   "execution_count": 60,
   "id": "03b6b288",
   "metadata": {},
   "outputs": [],
   "source": [
    "poly1 = Polygon([[0,0],[0,1], [1,1],[1,0], [0,0]])"
   ]
  },
  {
   "cell_type": "code",
   "execution_count": 61,
   "id": "5ec1bfe9",
   "metadata": {},
   "outputs": [
    {
     "data": {
      "image/svg+xml": [
       "<svg xmlns=\"http://www.w3.org/2000/svg\" xmlns:xlink=\"http://www.w3.org/1999/xlink\" width=\"100.0\" height=\"100.0\" viewBox=\"-0.04 -0.04 1.08 1.08\" preserveAspectRatio=\"xMinYMin meet\"><g transform=\"matrix(1,0,0,-1,0,1.0)\"><path fill-rule=\"evenodd\" fill=\"#66cc99\" stroke=\"#555555\" stroke-width=\"0.0216\" opacity=\"0.6\" d=\"M 0.0,0.0 L 0.0,1.0 L 1.0,1.0 L 1.0,0.0 L 0.0,0.0 z\" /></g></svg>"
      ],
      "text/plain": [
       "<POLYGON ((0 0, 0 1, 1 1, 1 0, 0 0))>"
      ]
     },
     "execution_count": 61,
     "metadata": {},
     "output_type": "execute_result"
    }
   ],
   "source": [
    "poly1"
   ]
  },
  {
   "cell_type": "code",
   "execution_count": 65,
   "id": "a51b733e",
   "metadata": {},
   "outputs": [],
   "source": [
    "# Now create holes on the inside.\n",
    "# Note the extra square brackets - these are there because we\n",
    "# could have more than one hole\n",
    "poly2 = Polygon([[0,0],[0,1], [1,1],[1,0], [0,0]],\n",
    "                [[[0.25, 0.25], [0.25, 0.75], [0.75, 0.75], [0.75, 0.25],\n",
    "                [0.25, 0.25]]])      "
   ]
  },
  {
   "cell_type": "code",
   "execution_count": 66,
   "id": "90993123",
   "metadata": {},
   "outputs": [
    {
     "data": {
      "image/svg+xml": [
       "<svg xmlns=\"http://www.w3.org/2000/svg\" xmlns:xlink=\"http://www.w3.org/1999/xlink\" width=\"100.0\" height=\"100.0\" viewBox=\"-0.04 -0.04 1.08 1.08\" preserveAspectRatio=\"xMinYMin meet\"><g transform=\"matrix(1,0,0,-1,0,1.0)\"><path fill-rule=\"evenodd\" fill=\"#66cc99\" stroke=\"#555555\" stroke-width=\"0.0216\" opacity=\"0.6\" d=\"M 0.0,0.0 L 0.0,1.0 L 1.0,1.0 L 1.0,0.0 L 0.0,0.0 z M 0.25,0.25 L 0.25,0.75 L 0.75,0.75 L 0.75,0.25 L 0.25,0.25 z\" /></g></svg>"
      ],
      "text/plain": [
       "<POLYGON ((0 0, 0 1, 1 1, 1 0, 0 0), (0.25 0.25, 0.25 0.75, 0.75 0.75, 0.75 ...>"
      ]
     },
     "execution_count": 66,
     "metadata": {},
     "output_type": "execute_result"
    }
   ],
   "source": [
    "poly2"
   ]
  },
  {
   "cell_type": "code",
   "execution_count": 74,
   "id": "2580e5e9",
   "metadata": {},
   "outputs": [],
   "source": [
    "poly3 = Polygon([[0,0],[0,1], [1,1],[1,0], [0,0]],\n",
    "                [[[0.25, 0.25], [0.25, 0.75], [0.75, 0.75], [0.75, 0.25],\n",
    "                [0.25, 0.25]], [[0.1,0.1], [0.23,0.7], [0.24,0.24], [0.1,0.1]]])      "
   ]
  },
  {
   "cell_type": "code",
   "execution_count": 75,
   "id": "b3be8de2",
   "metadata": {},
   "outputs": [
    {
     "data": {
      "image/svg+xml": [
       "<svg xmlns=\"http://www.w3.org/2000/svg\" xmlns:xlink=\"http://www.w3.org/1999/xlink\" width=\"100.0\" height=\"100.0\" viewBox=\"-0.04 -0.04 1.08 1.08\" preserveAspectRatio=\"xMinYMin meet\"><g transform=\"matrix(1,0,0,-1,0,1.0)\"><path fill-rule=\"evenodd\" fill=\"#66cc99\" stroke=\"#555555\" stroke-width=\"0.0216\" opacity=\"0.6\" d=\"M 0.0,0.0 L 0.0,1.0 L 1.0,1.0 L 1.0,0.0 L 0.0,0.0 z M 0.25,0.25 L 0.25,0.75 L 0.75,0.75 L 0.75,0.25 L 0.25,0.25 z M 0.1,0.1 L 0.23,0.7 L 0.24,0.24 L 0.1,0.1 z\" /></g></svg>"
      ],
      "text/plain": [
       "<POLYGON ((0 0, 0 1, 1 1, 1 0, 0 0), (0.25 0.25, 0.25 0.75, 0.75 0.75, 0.75 ...>"
      ]
     },
     "execution_count": 75,
     "metadata": {},
     "output_type": "execute_result"
    }
   ],
   "source": [
    "poly3"
   ]
  },
  {
   "cell_type": "code",
   "execution_count": 84,
   "id": "090657a4",
   "metadata": {},
   "outputs": [
    {
     "name": "stdout",
     "output_type": "stream",
     "text": [
      "Polygon centroid: POINT (0.5142225631013806 0.5070348161576721)\n",
      "Polyfon area: 0.7171\n",
      "Polygon area with no holes: 1.0\n",
      "Polygon exterior length: 4.0\n"
     ]
    }
   ],
   "source": [
    "# Get attributes\n",
    "print(f\"Polygon centroid: {poly3.centroid}\")\n",
    "print(f\"Polyfon area: {poly3.area}\")\n",
    "print(f\"Polygon area with no holes: {poly1.area}\")\n",
    "print(f\"Polygon exterior length: {poly3.exterior.length}\")"
   ]
  },
  {
   "cell_type": "code",
   "execution_count": 83,
   "id": "218ce06c",
   "metadata": {
    "collapsed": true
   },
   "outputs": [
    {
     "data": {
      "text/plain": [
       "['__module__',\n",
       " '__doc__',\n",
       " '__slots__',\n",
       " '__new__',\n",
       " 'exterior',\n",
       " 'interiors',\n",
       " 'coords',\n",
       " '__geo_interface__',\n",
       " 'svg',\n",
       " 'from_bounds',\n",
       " '_ndim',\n",
       " '__bool__',\n",
       " '__nonzero__',\n",
       " '__format__',\n",
       " '__repr__',\n",
       " '__str__',\n",
       " '__reduce__',\n",
       " '__and__',\n",
       " '__or__',\n",
       " '__sub__',\n",
       " '__xor__',\n",
       " 'xy',\n",
       " 'geometryType',\n",
       " 'type',\n",
       " 'wkt',\n",
       " 'wkb',\n",
       " 'wkb_hex',\n",
       " '_repr_svg_',\n",
       " 'geom_type',\n",
       " 'area',\n",
       " 'distance',\n",
       " 'hausdorff_distance',\n",
       " 'length',\n",
       " 'minimum_clearance',\n",
       " 'boundary',\n",
       " 'bounds',\n",
       " 'centroid',\n",
       " 'point_on_surface',\n",
       " 'representative_point',\n",
       " 'convex_hull',\n",
       " 'envelope',\n",
       " 'oriented_envelope',\n",
       " 'minimum_rotated_rectangle',\n",
       " 'buffer',\n",
       " 'simplify',\n",
       " 'normalize',\n",
       " 'difference',\n",
       " 'intersection',\n",
       " 'symmetric_difference',\n",
       " 'union',\n",
       " 'has_z',\n",
       " 'is_empty',\n",
       " 'is_ring',\n",
       " 'is_closed',\n",
       " 'is_simple',\n",
       " 'is_valid',\n",
       " 'relate',\n",
       " 'covers',\n",
       " 'covered_by',\n",
       " 'contains',\n",
       " 'contains_properly',\n",
       " 'crosses',\n",
       " 'disjoint',\n",
       " 'equals',\n",
       " 'intersects',\n",
       " 'overlaps',\n",
       " 'touches',\n",
       " 'within',\n",
       " 'dwithin',\n",
       " 'equals_exact',\n",
       " 'almost_equals',\n",
       " 'relate_pattern',\n",
       " 'line_locate_point',\n",
       " 'project',\n",
       " 'line_interpolate_point',\n",
       " 'interpolate',\n",
       " 'segmentize',\n",
       " 'reverse',\n",
       " '__hash__',\n",
       " '__lt__',\n",
       " '__le__',\n",
       " '__eq__',\n",
       " '__ne__',\n",
       " '__gt__',\n",
       " '__ge__',\n",
       " '__setstate__',\n",
       " '_geom',\n",
       " '_geom_prepared',\n",
       " '__getattribute__',\n",
       " '__setattr__',\n",
       " '__delattr__',\n",
       " '__init__',\n",
       " '__reduce_ex__',\n",
       " '__subclasshook__',\n",
       " '__init_subclass__',\n",
       " '__sizeof__',\n",
       " '__dir__',\n",
       " '__class__']"
      ]
     },
     "execution_count": 83,
     "metadata": {},
     "output_type": "execute_result"
    }
   ],
   "source": [
    "poly3.__dir__()"
   ]
  },
  {
   "cell_type": "code",
   "execution_count": 92,
   "id": "c23c75b8",
   "metadata": {},
   "outputs": [
    {
     "data": {
      "text/plain": [
       "'Point'"
      ]
     },
     "execution_count": 92,
     "metadata": {},
     "output_type": "execute_result"
    }
   ],
   "source": [
    "# Create a circle - it starts out as a point\n",
    "circle = Point((0,0))\n",
    "circle.geom_type"
   ]
  },
  {
   "cell_type": "code",
   "execution_count": 93,
   "id": "41068cd2",
   "metadata": {},
   "outputs": [
    {
     "data": {
      "image/svg+xml": [
       "<svg xmlns=\"http://www.w3.org/2000/svg\" xmlns:xlink=\"http://www.w3.org/1999/xlink\" width=\"100.0\" height=\"100.0\" viewBox=\"-1.08 -1.08 2.16 2.16\" preserveAspectRatio=\"xMinYMin meet\"><g transform=\"matrix(1,0,0,-1,0,0.0)\"><path fill-rule=\"evenodd\" fill=\"#66cc99\" stroke=\"#555555\" stroke-width=\"0.0432\" opacity=\"0.6\" d=\"M 1.0,0.0 L 0.9951847266721969,-0.0980171403295606 L 0.9807852804032304,-0.19509032201612825 L 0.9569403357322088,-0.29028467725446233 L 0.9238795325112867,-0.3826834323650898 L 0.881921264348355,-0.47139673682599764 L 0.8314696123025452,-0.5555702330196022 L 0.773010453362737,-0.6343932841636455 L 0.7071067811865476,-0.7071067811865476 L 0.6343932841636455,-0.7730104533627369 L 0.5555702330196023,-0.8314696123025452 L 0.4713967368259978,-0.8819212643483549 L 0.38268343236508984,-0.9238795325112867 L 0.29028467725446233,-0.9569403357322089 L 0.19509032201612833,-0.9807852804032304 L 0.09801714032956077,-0.9951847266721968 L 6.123233995736766e-17,-1.0 L -0.09801714032956065,-0.9951847266721969 L -0.1950903220161282,-0.9807852804032304 L -0.29028467725446216,-0.9569403357322089 L -0.3826834323650897,-0.9238795325112867 L -0.4713967368259977,-0.881921264348355 L -0.555570233019602,-0.8314696123025453 L -0.6343932841636454,-0.7730104533627371 L -0.7071067811865475,-0.7071067811865476 L -0.773010453362737,-0.6343932841636455 L -0.8314696123025453,-0.5555702330196022 L -0.8819212643483549,-0.4713967368259978 L -0.9238795325112867,-0.3826834323650899 L -0.9569403357322088,-0.2902846772544624 L -0.9807852804032304,-0.1950903220161286 L -0.9951847266721968,-0.09801714032956083 L -1.0,-1.2246467991473532e-16 L -0.9951847266721969,0.09801714032956059 L -0.9807852804032304,0.19509032201612836 L -0.9569403357322089,0.2902846772544621 L -0.9238795325112868,0.38268343236508967 L -0.881921264348355,0.47139673682599764 L -0.8314696123025455,0.555570233019602 L -0.7730104533627371,0.6343932841636453 L -0.7071067811865477,0.7071067811865475 L -0.6343932841636459,0.7730104533627367 L -0.5555702330196022,0.8314696123025452 L -0.47139673682599786,0.8819212643483549 L -0.38268343236509034,0.9238795325112865 L -0.29028467725446244,0.9569403357322088 L -0.19509032201612866,0.9807852804032303 L -0.09801714032956045,0.9951847266721969 L -1.8369701987210297e-16,1.0 L 0.09801714032956009,0.9951847266721969 L 0.1950903220161283,0.9807852804032304 L 0.29028467725446205,0.9569403357322089 L 0.38268343236509,0.9238795325112866 L 0.4713967368259976,0.881921264348355 L 0.5555702330196018,0.8314696123025455 L 0.6343932841636456,0.7730104533627369 L 0.7071067811865474,0.7071067811865477 L 0.7730104533627365,0.6343932841636459 L 0.8314696123025452,0.5555702330196022 L 0.8819212643483548,0.4713967368259979 L 0.9238795325112865,0.3826834323650904 L 0.9569403357322088,0.2902846772544625 L 0.9807852804032303,0.19509032201612872 L 0.9951847266721969,0.0980171403295605 L 1.0,0.0 z\" /></g></svg>"
      ],
      "text/plain": [
       "<POLYGON ((1 0, 0.995 -0.098, 0.981 -0.195, 0.957 -0.29, 0.924 -0.383, 0.882...>"
      ]
     },
     "execution_count": 93,
     "metadata": {},
     "output_type": "execute_result"
    }
   ],
   "source": [
    "# Now add a buffer around it - it becomes a polygon\n",
    "circle = circle.buffer(1)\n",
    "circle"
   ]
  },
  {
   "cell_type": "code",
   "execution_count": 89,
   "id": "252a3d7e",
   "metadata": {},
   "outputs": [
    {
     "data": {
      "text/plain": [
       "'Polygon'"
      ]
     },
     "execution_count": 89,
     "metadata": {},
     "output_type": "execute_result"
    }
   ],
   "source": [
    "circle.geom_type"
   ]
  },
  {
   "cell_type": "markdown",
   "id": "76710612",
   "metadata": {},
   "source": [
    "### Playing around with convex hulls"
   ]
  },
  {
   "cell_type": "code",
   "execution_count": 96,
   "id": "047f5f55",
   "metadata": {},
   "outputs": [],
   "source": [
    "from shapely import MultiPoint"
   ]
  },
  {
   "cell_type": "code",
   "execution_count": 102,
   "id": "42139b05",
   "metadata": {},
   "outputs": [
    {
     "data": {
      "image/svg+xml": [
       "<svg xmlns=\"http://www.w3.org/2000/svg\" xmlns:xlink=\"http://www.w3.org/1999/xlink\" width=\"100.0\" height=\"100.0\" viewBox=\"0.12 -0.28 10.260000000000002 6.66\" preserveAspectRatio=\"xMinYMin meet\"><g transform=\"matrix(1,0,0,-1,0,6.1)\"><g><circle cx=\"1.0\" cy=\"1.0\" r=\"0.3078\" stroke=\"#555555\" stroke-width=\"0.10260000000000001\" fill=\"#66cc99\" opacity=\"0.6\" /><circle cx=\"2.0\" cy=\"4.0\" r=\"0.3078\" stroke=\"#555555\" stroke-width=\"0.10260000000000001\" fill=\"#66cc99\" opacity=\"0.6\" /><circle cx=\"4.0\" cy=\"2.0\" r=\"0.3078\" stroke=\"#555555\" stroke-width=\"0.10260000000000001\" fill=\"#66cc99\" opacity=\"0.6\" /><circle cx=\"0.5\" cy=\"6.0\" r=\"0.3078\" stroke=\"#555555\" stroke-width=\"0.10260000000000001\" fill=\"#66cc99\" opacity=\"0.6\" /><circle cx=\"7.0\" cy=\"0.1\" r=\"0.3078\" stroke=\"#555555\" stroke-width=\"0.10260000000000001\" fill=\"#66cc99\" opacity=\"0.6\" /><circle cx=\"4.0\" cy=\"4.0\" r=\"0.3078\" stroke=\"#555555\" stroke-width=\"0.10260000000000001\" fill=\"#66cc99\" opacity=\"0.6\" /><circle cx=\"3.0\" cy=\"3.0\" r=\"0.3078\" stroke=\"#555555\" stroke-width=\"0.10260000000000001\" fill=\"#66cc99\" opacity=\"0.6\" /><circle cx=\"10.0\" cy=\"0.2\" r=\"0.3078\" stroke=\"#555555\" stroke-width=\"0.10260000000000001\" fill=\"#66cc99\" opacity=\"0.6\" /></g></g></svg>"
      ],
      "text/plain": [
       "<MULTIPOINT (1 1, 2 4, 4 2, 0.5 6, 7 0.1, 4 4, 3 3, 10 0.2)>"
      ]
     },
     "execution_count": 102,
     "metadata": {},
     "output_type": "execute_result"
    }
   ],
   "source": [
    "points = MultiPoint([[1,1], [2,4], [4,2],\n",
    "                     [0.5,6], [7,0.1], [4,4], [3,3], [10,0.2]])\n",
    "points"
   ]
  },
  {
   "cell_type": "code",
   "execution_count": 104,
   "id": "108ef962",
   "metadata": {},
   "outputs": [
    {
     "data": {
      "text/plain": [
       "'Polygon'"
      ]
     },
     "execution_count": 104,
     "metadata": {},
     "output_type": "execute_result"
    }
   ],
   "source": [
    "hull = points.convex_hull\n",
    "hull.geom_type"
   ]
  },
  {
   "cell_type": "code",
   "execution_count": 105,
   "id": "4b4a3161",
   "metadata": {},
   "outputs": [
    {
     "data": {
      "image/svg+xml": [
       "<svg xmlns=\"http://www.w3.org/2000/svg\" xmlns:xlink=\"http://www.w3.org/1999/xlink\" width=\"100.0\" height=\"100.0\" viewBox=\"0.12 -0.28 10.260000000000002 6.66\" preserveAspectRatio=\"xMinYMin meet\"><g transform=\"matrix(1,0,0,-1,0,6.1)\"><path fill-rule=\"evenodd\" fill=\"#66cc99\" stroke=\"#555555\" stroke-width=\"0.20520000000000002\" opacity=\"0.6\" d=\"M 7.0,0.1 L 1.0,1.0 L 0.5,6.0 L 4.0,4.0 L 10.0,0.2 L 7.0,0.1 z\" /></g></svg>"
      ],
      "text/plain": [
       "<POLYGON ((7 0.1, 1 1, 0.5 6, 4 4, 10 0.2, 7 0.1))>"
      ]
     },
     "execution_count": 105,
     "metadata": {},
     "output_type": "execute_result"
    }
   ],
   "source": [
    "hull"
   ]
  },
  {
   "cell_type": "code",
   "execution_count": 107,
   "id": "c2d2049e",
   "metadata": {},
   "outputs": [
    {
     "data": {
      "text/plain": [
       "'Polygon'"
      ]
     },
     "execution_count": 107,
     "metadata": {},
     "output_type": "execute_result"
    }
   ],
   "source": [
    "env = points.envelope\n",
    "env.geom_type"
   ]
  },
  {
   "cell_type": "code",
   "execution_count": 108,
   "id": "57972623",
   "metadata": {},
   "outputs": [
    {
     "data": {
      "image/svg+xml": [
       "<svg xmlns=\"http://www.w3.org/2000/svg\" xmlns:xlink=\"http://www.w3.org/1999/xlink\" width=\"100.0\" height=\"100.0\" viewBox=\"0.12 -0.28 10.260000000000002 6.66\" preserveAspectRatio=\"xMinYMin meet\"><g transform=\"matrix(1,0,0,-1,0,6.1)\"><path fill-rule=\"evenodd\" fill=\"#66cc99\" stroke=\"#555555\" stroke-width=\"0.20520000000000002\" opacity=\"0.6\" d=\"M 0.5,0.1 L 10.0,0.1 L 10.0,6.0 L 0.5,6.0 L 0.5,0.1 z\" /></g></svg>"
      ],
      "text/plain": [
       "<POLYGON ((0.5 0.1, 10 0.1, 10 6, 0.5 6, 0.5 0.1))>"
      ]
     },
     "execution_count": 108,
     "metadata": {},
     "output_type": "execute_result"
    }
   ],
   "source": [
    "env"
   ]
  }
 ],
 "metadata": {
  "kernelspec": {
   "display_name": "Python 3 (ipykernel)",
   "language": "python",
   "name": "python3"
  },
  "language_info": {
   "codemirror_mode": {
    "name": "ipython",
    "version": 3
   },
   "file_extension": ".py",
   "mimetype": "text/x-python",
   "name": "python",
   "nbconvert_exporter": "python",
   "pygments_lexer": "ipython3",
   "version": "3.8.13"
  }
 },
 "nbformat": 4,
 "nbformat_minor": 5
}
