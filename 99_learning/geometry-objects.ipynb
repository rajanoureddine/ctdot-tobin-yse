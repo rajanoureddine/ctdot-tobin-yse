{
 "cells": [
  {
   "cell_type": "markdown",
   "id": "03fc33b4",
   "metadata": {},
   "source": [
    "# Shapely and geometry objects\n",
    "\n",
    "In this lesson, you will learn how to create and manipulate geometries in Python\n",
    "using the [Shapely Python\n",
    "Package](https://shapely.readthedocs.io/en/stable/manual.html).\n",
    "\n",
    "**Sources:** Parts of this chapter are based on [shapely’s\n",
    "documentation](https://shapely.readthedocs.io/) and on chapter 3 of [Westra E.\n",
    "(2013)](https://www.packtpub.com/application-development/python-geospatial-development-second-edition).\n",
    "\n",
    "\n",
    "## Spatial data model\n",
    "\n",
    ":::{figure} ../../static/images/lesson-1/simple-features_595x500px.svg\n",
    ":alt: Spatial data model\n",
    "\n",
    "Fundamental geometric objects (‘simple features’) that can be used in Python\n",
    "with [shapely](https://shapely.readthedocs.io/). <br /> *(Figures by M. W.\n",
    "Toews; cf. [Wikipedia’s article on GeoJSON](https://en.wikipedia.org/wiki/GeoJSON))*\n",
    ":::\n",
    "\n",
    "All geospatial vector data can be described by a combining a set of fundamental\n",
    "geometric objects: **points**, **lines**, and **polygons** are the basic\n",
    "ingredients of working with spatial data.\n",
    "\n",
    "In Python, the library package [shapely](https://shapely.readthedocs.io/) has\n",
    "become the standard tool for working with geo-spatial objects, and for carruing\n",
    "out a range of geometric operations. A basic understanding of how *shapely*\n",
    "works is paramount for using higher-level tools, such as, for instance,\n",
    "[geopandas](https://geopandas.pydata.org/) (see [lesson 2](../lesson-2/overview))\n",
    "that handles entire data sets of geographic information (a.k.a. ‘layers’).\n",
    "\n",
    "\n",
    "Shapely, like the vast majority of geospatial software, follows the data model\n",
    "set forward in the [Open Geospatial Consortium’s *Simple Feature Access*\n",
    "standard](https://www.ogc.org/standards/sfa). In this chapter, we use the\n",
    "terminology used by *shapely*, but the general concepts are applicable much more\n",
    "widely.\n",
    "\n",
    "\n",
    "### Geometric objects are described and constructed by *coordinate tuples*\n",
    "\n",
    "Even more fundamental than that, **coordinate tuples** are what is used to\n",
    "define the geometric fundamentals point, line, and polygon. Coordinate tuples\n",
    "typically are either two-dimensional `(x, y)`, or three-dimensional `(x, y, z)`.\n",
    "\n",
    ":::{admonition} Tuples\n",
    ":class: info\n",
    "\n",
    "A [tuple](https://docs.python.org/3/tutorial/datastructures.html#tuples-and-sequences)\n",
    "is a Python data structure that consists of a number of values separated by\n",
    "commas. Coordinate pairs are often represented as a tuple. For example,\n",
    "`(60.192059, 24.945831)` is a tuple with two values, `(1,)` a tuple with one\n",
    "value (note the comma that distinguishes a one-value tuple from a mathematical\n",
    "expression in parentheses), and `tuple([1, 2, 3])` converts (‘casts’) a `list`\n",
    "into a `tuple`.\n",
    "\n",
    "Tuples belong to the [sequence data\n",
    "types](https://docs.python.org/3/library/stdtypes.html#typesseq) in Python.\n",
    "Other sequence data types are lists and ranges. Tuples have many similarities\n",
    "with lists and ranges, but they are often used for different purposes.\n",
    "\n",
    "The main difference between tuples and lists is that tuples are\n",
    "[immutable](https://docs.python.org/3/glossary.html#term-immutable), which means\n",
    "that the contents of a tuple cannot be altered (while lists are mutable; you\n",
    "can, for example, add and remove values from lists).\n",
    "\n",
    ":::\n",
    "\n",
    "### Points\n",
    "\n",
    "**Point** geometries represent a singular point (in two- or three-dimensional\n",
    "Euclidean space). Points are defined by a single coordinate tuple.\n",
    "\n",
    "(#linestrings)=\n",
    "### LineStrings\n",
    "\n",
    "**LineString** geometries (and the related **LinearRing**s) represent lines.\n",
    "They are defined by a sequence of points. By connecting the points in order,\n",
    "a line is formed, if the first and last point are the same, a linear ring.\n",
    "Consequently, to describe a *LineString*, at least two points are necessary, \n",
    "for a *LinearRing* at least three (first and last being identical).\n",
    "\n",
    "(#polygons)=\n",
    "### Polygons\n",
    "\n",
    "Finally, **Polygon** geometries represent an area. A polygon is defined by\n",
    "exactly one *LinearRing* as its circumference, and any number of additional\n",
    "*LinearRing*s representing holes that are cut out. As such, at minimum, three\n",
    "coordinate tuples are needed to define a Polygon (but it becomes more difficult\n",
    "quickly, as, naturally, the coordinates that define the holes have to lie within\n",
    "the exterior *LinearRing*, and also must not intersect each other).\n",
    "\n",
    "\n",
    "### Collections of geometric objects\n",
    "\n",
    "All of the fundamental geometric types can be combined to represent more complex\n",
    "geographic features, such as, for instance, administrative areas that consist of\n",
    "multiple discontinuous regions:\n",
    "\n",
    "\n",
    "(#multipolygons)=\n",
    ":::{figure} ../../static/images/lesson-1/multipolygons_595x300px.svg\n",
    ":alt: A map of Austria showing that the province of Tyrol consists of two\n",
    "\n",
    "*Tyrol*, a federal state of Austria, is a **MultiPolygon**. *(Data: [Statistics\n",
    "Austria](https://data.statistik.gv.at/web/meta.jsp?dataset=OGDEXT_GEM_1))*\n",
    ":::\n",
    "\n",
    "\n",
    "- **MultiPoint** geometries represent collections of points.\n",
    "- **MultiLineString** geometries represent collections of lines.\n",
    "- **MultiPolygon** geometries represent collections of polygons.\n",
    "- **GeometryCollection** geometries are collections of points,\n",
    "  lines, and polygons, as well as multi-points, multi-lines,\n",
    "  and multi-polygons.\n",
    "\n",
    "\n",
    "## Using shapely to create, access, manipulate and analyse geometric objects\n",
    "\n",
    "Shapely can perform many useful operations on geometries, and provides a range\n",
    "of attributes of geometries. For instance, you can:\n",
    "- create lines and polygons from a set of points\n",
    "- calculate the area, length, perimeter, etc., of geometries\n",
    "- perform geometric operations on a set of geometries, for instance, merging\n",
    "  (`union`), subtracting (`difference`), or calculating the distance between\n",
    "  geometries.\n",
    "- query the relationship between geometries, i.e., find out whether two\n",
    "  geometries intersect, touch, cross, etc.\n",
    "\n",
    "\n",
    "### Creating `Point` geometries and accessing their properties\n",
    "\n",
    "Creating a point geometry object is easy: simply pass coordinates (x, y, and\n",
    "possibly z) to its [constructor](https://pythonbasics.org/constructor/)."
   ]
  },
  {
   "cell_type": "code",
   "execution_count": 1,
   "id": "5c552dd8",
   "metadata": {},
   "outputs": [],
   "source": [
    "# Import `shapely.geometry.Point` class\n",
    "from shapely.geometry import Point\n",
    "\n",
    "# Create `Point` objects:\n",
    "point1 = Point(2.2, 4.2)\n",
    "point2 = Point(7.2, -25.1)\n",
    "point3 = Point(9.26, -2.456)\n",
    "point4_3D = Point(9.26, -2.456, 0.57)"
   ]
  },
  {
   "cell_type": "markdown",
   "id": "0844dcb6",
   "metadata": {},
   "source": [
    "Let’s see what these variables now contain:"
   ]
  },
  {
   "cell_type": "code",
   "execution_count": 2,
   "id": "e29c405d",
   "metadata": {},
   "outputs": [
    {
     "data": {
      "image/svg+xml": [
       "<svg xmlns=\"http://www.w3.org/2000/svg\" xmlns:xlink=\"http://www.w3.org/1999/xlink\" width=\"100.0\" height=\"100.0\" viewBox=\"1.2000000000000002 3.2 2.0 2.0\" preserveAspectRatio=\"xMinYMin meet\"><g transform=\"matrix(1,0,0,-1,0,8.4)\"><circle cx=\"2.2\" cy=\"4.2\" r=\"0.06\" stroke=\"#555555\" stroke-width=\"0.02\" fill=\"#66cc99\" opacity=\"0.6\" /></g></svg>"
      ],
      "text/plain": [
       "<shapely.geometry.point.Point at 0x7f89f9fb9b10>"
      ]
     },
     "execution_count": 2,
     "metadata": {},
     "output_type": "execute_result"
    }
   ],
   "source": [
    "point1"
   ]
  },
  {
   "cell_type": "markdown",
   "id": "62022776",
   "metadata": {},
   "source": [
    "As we can see, Jupyter notebook is able to display the shape directly on the screen.\n",
    "\n",
    "Alternatively, use a `print` statement to show the text representation of a\n",
    "shapely geometry object:"
   ]
  },
  {
   "cell_type": "code",
   "execution_count": 3,
   "id": "fa97ee0e",
   "metadata": {},
   "outputs": [
    {
     "name": "stdout",
     "output_type": "stream",
     "text": [
      "POINT (2.2 4.2)\n",
      "POINT Z (9.26 -2.456 0.57)\n"
     ]
    }
   ],
   "source": [
    "print(point1)\n",
    "print(point4_3D)"
   ]
  },
  {
   "cell_type": "markdown",
   "id": "afd8c962",
   "metadata": {},
   "source": [
    "This text representation is in [‘Well-Known Text’ (WKT)\n",
    "format](https://en.wikipedia.org/wiki/Well-Known_Text/), a standard set forward\n",
    "in the [Open Geospatial Consortium’s (OGC)](https://www.ogc.org/) [*Simple\n",
    "Feature Access*](https://www.ogc.org/standards/sfa) (see above). This includes\n",
    "the additional letter ‘Z’ that marks the three-dimensional version of a\n",
    "geometry (e.g., our point `point4_3D`).\n",
    "\n",
    "\n",
    "Let’s also check the data type of a point:"
   ]
  },
  {
   "cell_type": "code",
   "execution_count": 4,
   "id": "2b94d0bd",
   "metadata": {},
   "outputs": [
    {
     "data": {
      "text/plain": [
       "shapely.geometry.point.Point"
      ]
     },
     "execution_count": 4,
     "metadata": {},
     "output_type": "execute_result"
    }
   ],
   "source": [
    "type(point1)"
   ]
  },
  {
   "cell_type": "markdown",
   "id": "479c16c6",
   "metadata": {},
   "source": [
    "We can see that the type of the point is a `shapely.geometry.point.Point`\n",
    "(which is equivalent to `shapely.geometry.Point`, the class we used to\n",
    "instantiate the point object). \n",
    "\n",
    "Under the hood, shapely uses [GEOS](https://osgeo.org/projects/geos/) to handle\n",
    "geometry objects. GEOS is a C++ library (much faster than Python code), and is\n",
    "one of the fundamental pillars of the open source GIS world, powering\n",
    "geospatial processing for many projects, including [QGIS](https://qgis.org/).\n",
    "\n",
    "\n",
    "### Point properties and methods\n",
    "\n",
    "Points and other shapely geometry objects have useful built-in [properties and\n",
    "methods](https://shapely.readthedocs.io/en/stable/manual.html#general-attributes-and-methods).\n",
    "Using the available attributes, we can for example extract the coordinate\n",
    "values of a Point and calculate the Euclidian distance between points.\n",
    "\n",
    "The `geom_type` property contains information about the geometry type of a\n",
    "shapely geometry:"
   ]
  },
  {
   "cell_type": "code",
   "execution_count": 5,
   "id": "c0057435",
   "metadata": {},
   "outputs": [
    {
     "data": {
      "text/plain": [
       "'Point'"
      ]
     },
     "execution_count": 5,
     "metadata": {},
     "output_type": "execute_result"
    }
   ],
   "source": [
    "point1.geom_type"
   ]
  },
  {
   "cell_type": "markdown",
   "id": "95b5b0d3",
   "metadata": {},
   "source": [
    "There are multiple ways to access the coordinates of geometry object. For\n",
    "instance, `coords` is a `spapely.coords.CoordinateSequence`. It is an\n",
    "`Iterator`, an efficient Python data structure to iterate over lists of items,\n",
    "but for now we can simply convert it into a list of the (one pair of)\n",
    "coordinates:"
   ]
  },
  {
   "cell_type": "code",
   "execution_count": 6,
   "id": "ea9c94c6",
   "metadata": {},
   "outputs": [
    {
     "data": {
      "text/plain": [
       "[(2.2, 4.2)]"
      ]
     },
     "execution_count": 6,
     "metadata": {},
     "output_type": "execute_result"
    }
   ],
   "source": [
    "# Get coordinate tuple(s)\n",
    "list(point1.coords)"
   ]
  },
  {
   "cell_type": "markdown",
   "id": "8341b25f",
   "metadata": {},
   "source": [
    "However, since points, by definition, only contain one coordinate tuple,\n",
    "`shapely.geometry.Point`s have properties to *directly* access its coordinate\n",
    "values: the properties `x`, `y`, and (possibly) `z`, which are basic `float`\n",
    "type decimal numbers."
   ]
  },
  {
   "cell_type": "code",
   "execution_count": 7,
   "id": "bd91eb73",
   "metadata": {},
   "outputs": [
    {
     "name": "stdout",
     "output_type": "stream",
     "text": [
      "2.2 4.2\n"
     ]
    }
   ],
   "source": [
    "# Read x and y coordinates separately\n",
    "x = point1.x\n",
    "y = point1.y\n",
    "\n",
    "print(x, y)"
   ]
  },
  {
   "cell_type": "code",
   "execution_count": 8,
   "id": "b32d4ba5",
   "metadata": {},
   "outputs": [
    {
     "name": "stdout",
     "output_type": "stream",
     "text": [
      "9.26 -2.456 0.57\n"
     ]
    }
   ],
   "source": [
    "# Read x, y, and z\n",
    "x = point4_3D.x\n",
    "y = point4_3D.y\n",
    "z = point4_3D.z\n",
    "\n",
    "print(x, y, z)"
   ]
  },
  {
   "cell_type": "markdown",
   "id": "6d519216",
   "metadata": {},
   "source": [
    "It is also possible to calculate the distance between two objects using the\n",
    "[distance](https://shapely.readthedocs.io/en/stable/manual.html#object.distance)\n",
    "method.\n",
    "\n",
    "In our example the distance is calculated in a cartesian coordinate system.\n",
    "When working with real GIS data the distance is based on the used coordinate\n",
    "reference system. always check what is the unit of measurement (for example,\n",
    "meters) in the coordinate reference system you are using.\n",
    "\n",
    "Let’s calculate the distance between `point1` and `point2`:"
   ]
  },
  {
   "cell_type": "code",
   "execution_count": 9,
   "id": "5fa14b4b",
   "metadata": {},
   "outputs": [
    {
     "name": "stdout",
     "output_type": "stream",
     "text": [
      "POINT (2.2 4.2)\n",
      "POINT (7.2 -25.1)\n"
     ]
    }
   ],
   "source": [
    "# Check input data\n",
    "print(point1)\n",
    "print(point2)"
   ]
  },
  {
   "cell_type": "code",
   "execution_count": 10,
   "id": "cf94e397",
   "metadata": {},
   "outputs": [
    {
     "name": "stdout",
     "output_type": "stream",
     "text": [
      "Distance between the points is 29.72 units\n"
     ]
    }
   ],
   "source": [
    "# Calculate the distance between point1 and point2\n",
    "dist = point1.distance(point2)\n",
    "\n",
    "# Print out a nicely formatted info message\n",
    "print(f\"Distance between the points is {dist:.2f} units\")"
   ]
  },
  {
   "cell_type": "markdown",
   "id": "4b973297",
   "metadata": {},
   "source": [
    ":::{caution}\n",
    "\n",
    "Shapely geometries are, by design, agnostic (unaware) of the reference system\n",
    "used to represent them. Distances and surface area calculated using the\n",
    "built-in shapely methods will always:\n",
    "a) assume a flat, Cartesian, Euclidean space, and \n",
    "b) return the calculated value in the unit of the coordinates (e.g.,\n",
    "   meters, or degrees).\n",
    "\n",
    "This is perfectly fine for small-scale geo-spatial operations, if you **keep\n",
    "yourself aware of the expected output unit**. Most packages built on top of\n",
    "shapely, for instance [GeoPandas](https://geopandas.org/), which we will get to\n",
    "know in lesson 2, bring their own functions and take the coordinate reference\n",
    "system into consideration.\n",
    "\n",
    ":::\n",
    "\n",
    "\n",
    "\n",
    "## Lines\n",
    "\n",
    "\n",
    "Creating `LineString` objects is similar to creating `Points`. Instead of a\n",
    "single coordinate tuple, we pass a list of coordinate tuples, or a list of\n",
    "points, that make up the line:"
   ]
  },
  {
   "cell_type": "code",
   "execution_count": 11,
   "id": "ea9337ad",
   "metadata": {},
   "outputs": [],
   "source": [
    "# import the LineString class\n",
    "from shapely.geometry import LineString\n",
    "\n",
    "# Create a LineString from our Point objects\n",
    "line = LineString([point1, point2, point3])"
   ]
  },
  {
   "cell_type": "code",
   "execution_count": 12,
   "id": "97af436f",
   "metadata": {},
   "outputs": [],
   "source": [
    "# Create a LineString from a list of coordinates:\n",
    "# (with the same coordinate values as the points, so results should be identical)\n",
    "line2 = LineString([(2.2, 4.2), (7.2, -25.1), (9.26, -2.456)])"
   ]
  },
  {
   "cell_type": "code",
   "execution_count": 13,
   "id": "b7e894a7",
   "metadata": {},
   "outputs": [
    {
     "data": {
      "text/plain": [
       "True"
      ]
     },
     "execution_count": 13,
     "metadata": {},
     "output_type": "execute_result"
    }
   ],
   "source": [
    "# Check if the lines are, indeed, identical:\n",
    "line == line2"
   ]
  },
  {
   "cell_type": "markdown",
   "id": "a43cfba2",
   "metadata": {},
   "source": [
    "Let’s see how our line looks like:"
   ]
  },
  {
   "cell_type": "code",
   "execution_count": 14,
   "id": "4c0a64f8",
   "metadata": {},
   "outputs": [
    {
     "data": {
      "image/svg+xml": [
       "<svg xmlns=\"http://www.w3.org/2000/svg\" xmlns:xlink=\"http://www.w3.org/1999/xlink\" width=\"100.0\" height=\"100.0\" viewBox=\"1.028 -26.272000000000002 9.404 31.644000000000002\" preserveAspectRatio=\"xMinYMin meet\"><g transform=\"matrix(1,0,0,-1,0,-20.900000000000002)\"><polyline fill=\"none\" stroke=\"#66cc99\" stroke-width=\"0.63288\" points=\"2.2,4.2 7.2,-25.1 9.26,-2.456\" opacity=\"0.8\" /></g></svg>"
      ],
      "text/plain": [
       "<shapely.geometry.linestring.LineString at 0x7f89f9f1be20>"
      ]
     },
     "execution_count": 14,
     "metadata": {},
     "output_type": "execute_result"
    }
   ],
   "source": [
    "line"
   ]
  },
  {
   "cell_type": "code",
   "execution_count": 15,
   "id": "ffeb7f13",
   "metadata": {},
   "outputs": [
    {
     "name": "stdout",
     "output_type": "stream",
     "text": [
      "LINESTRING (2.2 4.2, 7.2 -25.1, 9.26 -2.456)\n"
     ]
    }
   ],
   "source": [
    "print(line)"
   ]
  },
  {
   "cell_type": "markdown",
   "id": "8ec74e56",
   "metadata": {},
   "source": [
    "Again, the text representation is in WKT format. WKT is convenient as it is a\n",
    "human-readable text format that also most GIS tools can readily use. \n",
    "\n",
    "It’s not surprising, but we can see that a `LineString` is constituted of\n",
    "multiple coordinate tuples. In fact, the value(s) of a WKT `LINESTRING` are made\n",
    "up of the values of multiple WKT `POINTS`, joined together with a comma.\n",
    "\n",
    "Check also the data type:"
   ]
  },
  {
   "cell_type": "code",
   "execution_count": 16,
   "id": "23b6eb8f",
   "metadata": {},
   "outputs": [
    {
     "data": {
      "text/plain": [
       "shapely.geometry.linestring.LineString"
      ]
     },
     "execution_count": 16,
     "metadata": {},
     "output_type": "execute_result"
    }
   ],
   "source": [
    "# Check data type of the line object\n",
    "type(line)"
   ]
  },
  {
   "cell_type": "code",
   "execution_count": 17,
   "id": "ba2b856a",
   "metadata": {},
   "outputs": [
    {
     "data": {
      "text/plain": [
       "'LineString'"
      ]
     },
     "execution_count": 17,
     "metadata": {},
     "output_type": "execute_result"
    }
   ],
   "source": [
    "# Check geometry type of the line object\n",
    "line.geom_type"
   ]
  },
  {
   "cell_type": "markdown",
   "id": "a4c2f0aa",
   "metadata": {},
   "source": [
    "### `LineString` properties and methods\n",
    "\n",
    "Linear geometries in their shapely representations (`LineString`, `LinearRing`,\n",
    "`MultiLineString`) have a variety of properties and methods that expose useful\n",
    "functionality. For instance, it is possible to access a geometry’s coordinates,\n",
    "calculate its lengths, find its centre point, create points along the line at a\n",
    "specified interval, or compute the closest distance between a line an another\n",
    "geometry. \n",
    "\n",
    "\n",
    ":::{tip}\n",
    "\n",
    "Consult the [Shapely user\n",
    "manual](https://shapely.readthedocs.io/en/stable/manual.html) for a complete\n",
    "list of geometry attributes and operations on one or more geometries.\n",
    "\n",
    ":::\n",
    "\n",
    "\n",
    "Fundamentally, accessing the coordinates of a line is very similar as accessing\n",
    "the ones of a point:"
   ]
  },
  {
   "cell_type": "code",
   "execution_count": 18,
   "id": "4b064304",
   "metadata": {},
   "outputs": [
    {
     "data": {
      "text/plain": [
       "[(2.2, 4.2), (7.2, -25.1), (9.26, -2.456)]"
      ]
     },
     "execution_count": 18,
     "metadata": {},
     "output_type": "execute_result"
    }
   ],
   "source": [
    "# Get coordinate tuples\n",
    "list(line.coords)"
   ]
  },
  {
   "cell_type": "markdown",
   "id": "abbdf469",
   "metadata": {},
   "source": [
    "Because a line has to have at least two coordinate tuples, the list now\n",
    "contains more than the one value we saw earlier with points.\n",
    "\n",
    "\n",
    "If you would need to access all x-coordinates or all y-coordinates of the line,\n",
    "you can use its `xy` attribute (an iterator, but, again, for now, we can use\n",
    "them as lists):"
   ]
  },
  {
   "cell_type": "code",
   "execution_count": 19,
   "id": "cf5e88b0",
   "metadata": {},
   "outputs": [
    {
     "name": "stdout",
     "output_type": "stream",
     "text": [
      "[2.2, 7.2, 9.26]\n",
      "[4.2, -25.1, -2.456]\n"
     ]
    }
   ],
   "source": [
    "# Obtain x and y coordinates\n",
    "xcoords = list(line.xy[0])\n",
    "ycoords = list(line.xy[1])\n",
    "\n",
    "print(xcoords)\n",
    "print(ycoords)"
   ]
  },
  {
   "cell_type": "markdown",
   "id": "966ec922",
   "metadata": {},
   "source": [
    ":::{admonition} 3D-LineStrings\n",
    ":class: warning\n",
    "\n",
    "Note that the `xy` property of shapely geometries does not return `z` values\n",
    "for three-dimensional geometries.\n",
    "\n",
    ":::\n",
    "\n",
    "\n",
    "Other properties of lines that are useful for GIS analyses include the length\n",
    "and the centre point (centroid) of lines:"
   ]
  },
  {
   "cell_type": "code",
   "execution_count": 20,
   "id": "ad468fb1",
   "metadata": {},
   "outputs": [
    {
     "name": "stdout",
     "output_type": "stream",
     "text": [
      "Length of our line: 52.5 units\n"
     ]
    }
   ],
   "source": [
    "# Get the length of the line\n",
    "line_length = line.length\n",
    "print(f\"Length of our line: {line_length:.1f} units\")"
   ]
  },
  {
   "cell_type": "code",
   "execution_count": 21,
   "id": "1f7bab23",
   "metadata": {},
   "outputs": [
    {
     "name": "stdout",
     "output_type": "stream",
     "text": [
      "POINT (6.229961354035622 -11.892411157572392)\n"
     ]
    }
   ],
   "source": [
    "# Get the centre point of the line\n",
    "print(line.centroid)"
   ]
  },
  {
   "cell_type": "markdown",
   "id": "5a5d6988",
   "metadata": {},
   "source": [
    "The centroid (or centre *point*) of a line (or any other shapely geometry) is a\n",
    "`shapely.geometry.Point` object.\n",
    "\n",
    "\n",
    "\n",
    "## Polygon\n",
    "\n",
    "Creating a polygon geometry follows the same logic as creating a point or line\n",
    "geometry. However, [as discussed above](#polygons) the rules for what\n",
    "constitutes a polygon are more complex: It is constructed of exactly one linear\n",
    "ring forming its exterior (perimeter), and any number of additional linear\n",
    "rings forming holes that are cut out of the exterior shell.\n",
    "\n",
    "Consequently, the `shapely.geometry.Polygon` *constructor* function accepts two\n",
    "parameter: the first one, `shell`, is a list of coordinate tuples, a list of\n",
    "points, or a `LinearRing`, and will form the outer hull of the new polygon. The\n",
    "second, optional, parameter `holes` can be a list of holes to cut out of\n",
    "`shell` (the items in the list can be the same data types as `shell`).\n",
    "\n",
    "For now, let’s create a simple polygon without any holes. The first example\n",
    "uses **(at least three) coordinate tuples** (three points are required to form\n",
    "a surface):"
   ]
  },
  {
   "cell_type": "code",
   "execution_count": 22,
   "id": "a9f5e7bd",
   "metadata": {},
   "outputs": [],
   "source": [
    "from shapely.geometry import Polygon\n",
    "\n",
    "# Create a Polygon from the coordinates\n",
    "polygon1 = Polygon([(2.2, 4.2), (7.2, -25.1), (9.26, -2.456)])"
   ]
  },
  {
   "cell_type": "markdown",
   "id": "6fde324d",
   "metadata": {},
   "source": [
    "We can also construct the polygon directly from a list of points:"
   ]
  },
  {
   "cell_type": "code",
   "execution_count": 23,
   "id": "e07d7a46",
   "metadata": {},
   "outputs": [],
   "source": [
    "polygon2 = Polygon([point1, point2, point3])"
   ]
  },
  {
   "cell_type": "markdown",
   "id": "364e7d16",
   "metadata": {},
   "source": [
    "… or from a [`LinearRing`](https://shapely.readthedocs.io/en/stable/manual.html#linearrings)\n",
    "(which has an [almost identical behaviour](#linestrings) as a `LineString`,\n",
    "except that it is closed, i.e., the first and last point are identical):"
   ]
  },
  {
   "cell_type": "code",
   "execution_count": 24,
   "id": "fdfd3205",
   "metadata": {},
   "outputs": [],
   "source": [
    "from shapely.geometry import LinearRing\n",
    "\n",
    "shell = LinearRing([point1, point2, point3, point1])\n",
    "polygon3 = Polygon(shell)"
   ]
  },
  {
   "cell_type": "markdown",
   "id": "ca70706f",
   "metadata": {},
   "source": [
    "(When constructing a `shapely.geometry.LinearRing`, you can omit listing\n",
    "the first point again at the end; shapely will then implicitely add the\n",
    "first point another time to the end of the list of points)\n",
    "\n",
    "We used different methods to construct the three polygons, but we used the\n",
    "same values. Let’s see whether they ended up describing identical geometries:"
   ]
  },
  {
   "cell_type": "code",
   "execution_count": 25,
   "id": "6e4c61e0",
   "metadata": {},
   "outputs": [
    {
     "data": {
      "text/plain": [
       "True"
      ]
     },
     "execution_count": 25,
     "metadata": {},
     "output_type": "execute_result"
    }
   ],
   "source": [
    "polygon1 == polygon2 == polygon3"
   ]
  },
  {
   "cell_type": "markdown",
   "id": "e71f0bde",
   "metadata": {},
   "source": [
    "Let’s also see how the polygon looks like drawn, and what its text\n",
    "representation is:"
   ]
  },
  {
   "cell_type": "code",
   "execution_count": 26,
   "id": "a2f367b2",
   "metadata": {},
   "outputs": [
    {
     "data": {
      "image/svg+xml": [
       "<svg xmlns=\"http://www.w3.org/2000/svg\" xmlns:xlink=\"http://www.w3.org/1999/xlink\" width=\"100.0\" height=\"100.0\" viewBox=\"1.028 -26.272000000000002 9.404 31.644000000000002\" preserveAspectRatio=\"xMinYMin meet\"><g transform=\"matrix(1,0,0,-1,0,-20.900000000000002)\"><path fill-rule=\"evenodd\" fill=\"#66cc99\" stroke=\"#555555\" stroke-width=\"0.63288\" opacity=\"0.6\" d=\"M 2.2,4.2 L 7.2,-25.1 L 9.26,-2.456 L 2.2,4.2 z\" /></g></svg>"
      ],
      "text/plain": [
       "<shapely.geometry.polygon.Polygon at 0x7f89f9fbbb50>"
      ]
     },
     "execution_count": 26,
     "metadata": {},
     "output_type": "execute_result"
    }
   ],
   "source": [
    "polygon1"
   ]
  },
  {
   "cell_type": "code",
   "execution_count": 27,
   "id": "cd381d50",
   "metadata": {},
   "outputs": [
    {
     "name": "stdout",
     "output_type": "stream",
     "text": [
      "POLYGON ((2.2 4.2, 7.2 -25.1, 9.26 -2.456, 2.2 4.2))\n"
     ]
    }
   ],
   "source": [
    "print(polygon1)"
   ]
  },
  {
   "cell_type": "markdown",
   "id": "8c06be92",
   "metadata": {},
   "source": [
    "Just like with points and lines, the text representation of a\n",
    "`shapely.geometry.Polygon` is in the Well-Known Text format. Note how a WKT\n",
    "`POLYGON` is made up of the values of one or more WKT `LINEARRING`’s values\n",
    "(closed line strings), in parentheses, and joined together by commas. The first\n",
    "linear ring represents the exterior, all following ones holes.\n",
    "(Our example polygon consists of one linear ring, only, so no need for the comma).\n",
    "\n",
    "\n",
    "Check also the data type:"
   ]
  },
  {
   "cell_type": "code",
   "execution_count": 28,
   "id": "13d4bd0b",
   "metadata": {},
   "outputs": [
    {
     "data": {
      "text/plain": [
       "shapely.geometry.polygon.Polygon"
      ]
     },
     "execution_count": 28,
     "metadata": {},
     "output_type": "execute_result"
    }
   ],
   "source": [
    "# Data type\n",
    "type(polygon1)"
   ]
  },
  {
   "cell_type": "code",
   "execution_count": 29,
   "id": "abf8f98b",
   "metadata": {},
   "outputs": [
    {
     "data": {
      "text/plain": [
       "'Polygon'"
      ]
     },
     "execution_count": 29,
     "metadata": {},
     "output_type": "execute_result"
    }
   ],
   "source": [
    "# Geometry type\n",
    "polygon1.geom_type"
   ]
  },
  {
   "cell_type": "markdown",
   "id": "99cebbac",
   "metadata": {},
   "source": [
    ":::{tip}\n",
    "\n",
    "You can always use the built-in `help()` function to find out how a function or\n",
    "class works, which parameters it expects, and what properties and methods you\n",
    "can use:\n",
    "\n",
    ":::"
   ]
  },
  {
   "cell_type": "code",
   "execution_count": 30,
   "id": "119646f0",
   "metadata": {
    "tags": [
     "hide-output"
    ]
   },
   "outputs": [
    {
     "name": "stdout",
     "output_type": "stream",
     "text": [
      "Help on class Polygon in module shapely.geometry.polygon:\n",
      "\n",
      "class Polygon(shapely.geometry.base.BaseGeometry)\n",
      " |  Polygon(shell=None, holes=None)\n",
      " |  \n",
      " |  A two-dimensional figure bounded by a linear ring\n",
      " |  \n",
      " |  A polygon has a non-zero area. It may have one or more negative-space\n",
      " |  \"holes\" which are also bounded by linear rings. If any rings cross each\n",
      " |  other, the feature is invalid and operations on it may fail.\n",
      " |  \n",
      " |  Attributes\n",
      " |  ----------\n",
      " |  exterior : LinearRing\n",
      " |      The ring which bounds the positive space of the polygon.\n",
      " |  interiors : sequence\n",
      " |      A sequence of rings which bound all existing holes.\n",
      " |  \n",
      " |  Method resolution order:\n",
      " |      Polygon\n",
      " |      shapely.geometry.base.BaseGeometry\n",
      " |      builtins.object\n",
      " |  \n",
      " |  Methods defined here:\n",
      " |  \n",
      " |  __eq__(self, other)\n",
      " |      Return self==value.\n",
      " |  \n",
      " |  __init__(self, shell=None, holes=None)\n",
      " |      Parameters\n",
      " |      ----------\n",
      " |      shell : sequence\n",
      " |          A sequence of (x, y [,z]) numeric coordinate pairs or triples.\n",
      " |          Also can be a sequence of Point objects.\n",
      " |      holes : sequence\n",
      " |          A sequence of objects which satisfy the same requirements as the\n",
      " |          shell parameters above\n",
      " |      \n",
      " |      Example\n",
      " |      -------\n",
      " |      Create a square polygon with no holes\n",
      " |      \n",
      " |        >>> coords = ((0., 0.), (0., 1.), (1., 1.), (1., 0.), (0., 0.))\n",
      " |        >>> polygon = Polygon(coords)\n",
      " |        >>> polygon.area\n",
      " |        1.0\n",
      " |  \n",
      " |  __ne__(self, other)\n",
      " |      Return self!=value.\n",
      " |  \n",
      " |  svg(self, scale_factor=1.0, fill_color=None, opacity=None)\n",
      " |      Returns SVG path element for the Polygon geometry.\n",
      " |      \n",
      " |      Parameters\n",
      " |      ==========\n",
      " |      scale_factor : float\n",
      " |          Multiplication factor for the SVG stroke-width.  Default is 1.\n",
      " |      fill_color : str, optional\n",
      " |          Hex string for fill color. Default is to use \"#66cc99\" if\n",
      " |          geometry is valid, and \"#ff3333\" if invalid.\n",
      " |      opacity : float\n",
      " |          Float number between 0 and 1 for color opacity. Default value is 0.6\n",
      " |  \n",
      " |  ----------------------------------------------------------------------\n",
      " |  Class methods defined here:\n",
      " |  \n",
      " |  from_bounds(xmin, ymin, xmax, ymax) from builtins.type\n",
      " |      Construct a `Polygon()` from spatial bounds.\n",
      " |  \n",
      " |  ----------------------------------------------------------------------\n",
      " |  Readonly properties defined here:\n",
      " |  \n",
      " |  __array_interface__\n",
      " |      Provide the Numpy array protocol.\n",
      " |  \n",
      " |  __geo_interface__\n",
      " |      Dictionary representation of the geometry\n",
      " |  \n",
      " |  coords\n",
      " |      Access to geometry's coordinates (CoordinateSequence)\n",
      " |  \n",
      " |  exterior\n",
      " |  \n",
      " |  interiors\n",
      " |  \n",
      " |  ----------------------------------------------------------------------\n",
      " |  Data and other attributes defined here:\n",
      " |  \n",
      " |  __hash__ = None\n",
      " |  \n",
      " |  ----------------------------------------------------------------------\n",
      " |  Methods inherited from shapely.geometry.base.BaseGeometry:\n",
      " |  \n",
      " |  __and__(self, other)\n",
      " |  \n",
      " |  __bool__(self)\n",
      " |  \n",
      " |  __del__(self)\n",
      " |  \n",
      " |  __nonzero__(self)\n",
      " |  \n",
      " |  __or__(self, other)\n",
      " |      Return self|value.\n",
      " |  \n",
      " |  __reduce__(self)\n",
      " |      Helper for pickle.\n",
      " |  \n",
      " |  __setattr__(self, name, value)\n",
      " |      Implement setattr(self, name, value).\n",
      " |  \n",
      " |  __setstate__(self, state)\n",
      " |  \n",
      " |  __str__(self)\n",
      " |      Return str(self).\n",
      " |  \n",
      " |  __sub__(self, other)\n",
      " |  \n",
      " |  __xor__(self, other)\n",
      " |  \n",
      " |  almost_equals(self, other, decimal=6)\n",
      " |      True if geometries are equal at all coordinates to a\n",
      " |      specified decimal place.\n",
      " |      \n",
      " |      .. deprecated:: 1.8.0 The 'almost_equals()' method is deprecated\n",
      " |          and will be removed in Shapely 2.0 because the name is\n",
      " |          confusing. The 'equals_exact()' method should be used\n",
      " |          instead.\n",
      " |      \n",
      " |      Refers to approximate coordinate equality, which requires\n",
      " |      coordinates to be approximately equal and in the same order for\n",
      " |      all components of a geometry.\n",
      " |      \n",
      " |      Because of this it is possible for \"equals()\" to be True for two\n",
      " |      geometries and \"almost_equals()\" to be False.\n",
      " |      \n",
      " |      Examples\n",
      " |      --------\n",
      " |      >>> LineString(\n",
      " |      ...     [(0, 0), (2, 2)]\n",
      " |      ... ).equals_exact(\n",
      " |      ...     LineString([(0, 0), (1, 1), (2, 2)]),\n",
      " |      ...     1e-6\n",
      " |      ... )\n",
      " |      False\n",
      " |      \n",
      " |      Returns\n",
      " |      -------\n",
      " |      bool\n",
      " |  \n",
      " |  buffer(self, distance, resolution=16, quadsegs=None, cap_style=1, join_style=1, mitre_limit=5.0, single_sided=False)\n",
      " |      Get a geometry that represents all points within a distance\n",
      " |      of this geometry.\n",
      " |      \n",
      " |      A positive distance produces a dilation, a negative distance an\n",
      " |      erosion. A very small or zero distance may sometimes be used to\n",
      " |      \"tidy\" a polygon.\n",
      " |      \n",
      " |      Parameters\n",
      " |      ----------\n",
      " |      distance : float\n",
      " |          The distance to buffer around the object.\n",
      " |      resolution : int, optional\n",
      " |          The resolution of the buffer around each vertex of the\n",
      " |          object.\n",
      " |      quadsegs : int, optional\n",
      " |          Sets the number of line segments used to approximate an\n",
      " |          angle fillet.  Note: the use of a `quadsegs` parameter is\n",
      " |          deprecated and will be gone from the next major release.\n",
      " |      cap_style : int, optional\n",
      " |          The styles of caps are: CAP_STYLE.round (1), CAP_STYLE.flat\n",
      " |          (2), and CAP_STYLE.square (3).\n",
      " |      join_style : int, optional\n",
      " |          The styles of joins between offset segments are:\n",
      " |          JOIN_STYLE.round (1), JOIN_STYLE.mitre (2), and\n",
      " |          JOIN_STYLE.bevel (3).\n",
      " |      mitre_limit : float, optional\n",
      " |          The mitre limit ratio is used for very sharp corners. The\n",
      " |          mitre ratio is the ratio of the distance from the corner to\n",
      " |          the end of the mitred offset corner. When two line segments\n",
      " |          meet at a sharp angle, a miter join will extend the original\n",
      " |          geometry. To prevent unreasonable geometry, the mitre limit\n",
      " |          allows controlling the maximum length of the join corner.\n",
      " |          Corners with a ratio which exceed the limit will be beveled.\n",
      " |      single_side : bool, optional\n",
      " |          The side used is determined by the sign of the buffer\n",
      " |          distance:\n",
      " |      \n",
      " |              a positive distance indicates the left-hand side\n",
      " |              a negative distance indicates the right-hand side\n",
      " |      \n",
      " |          The single-sided buffer of point geometries is the same as\n",
      " |          the regular buffer.  The End Cap Style for single-sided\n",
      " |          buffers is always ignored, and forced to the equivalent of\n",
      " |          CAP_FLAT.\n",
      " |      \n",
      " |      Returns\n",
      " |      -------\n",
      " |      Geometry\n",
      " |      \n",
      " |      Notes\n",
      " |      -----\n",
      " |      The return value is a strictly two-dimensional geometry. All\n",
      " |      Z coordinates of the original geometry will be ignored.\n",
      " |      \n",
      " |      Examples\n",
      " |      --------\n",
      " |      >>> from shapely.wkt import loads\n",
      " |      >>> g = loads('POINT (0.0 0.0)')\n",
      " |      >>> g.buffer(1.0).area        # 16-gon approx of a unit radius circle\n",
      " |      3.1365484905459...\n",
      " |      >>> g.buffer(1.0, 128).area   # 128-gon approximation\n",
      " |      3.141513801144...\n",
      " |      >>> round(g.buffer(1.0, 3).area, 10)  # triangle approximation\n",
      " |      3.0\n",
      " |      >>> list(g.buffer(1.0, cap_style=CAP_STYLE.square).exterior.coords)\n",
      " |      [(1.0, 1.0), (1.0, -1.0), (-1.0, -1.0), (-1.0, 1.0), (1.0, 1.0)]\n",
      " |      >>> g.buffer(1.0, cap_style=CAP_STYLE.square).area\n",
      " |      4.0\n",
      " |  \n",
      " |  contains(self, other)\n",
      " |      Returns True if the geometry contains the other, else False\n",
      " |  \n",
      " |  covered_by(self, other)\n",
      " |      Returns True if the geometry is covered by the other, else False\n",
      " |  \n",
      " |  covers(self, other)\n",
      " |      Returns True if the geometry covers the other, else False\n",
      " |  \n",
      " |  crosses(self, other)\n",
      " |      Returns True if the geometries cross, else False\n",
      " |  \n",
      " |  difference(self, other)\n",
      " |      Returns the difference of the geometries\n",
      " |  \n",
      " |  disjoint(self, other)\n",
      " |      Returns True if geometries are disjoint, else False\n",
      " |  \n",
      " |  distance(self, other)\n",
      " |      Unitless distance to other geometry (float)\n",
      " |  \n",
      " |  empty(self, val=94416274249504)\n",
      " |  \n",
      " |  equals(self, other)\n",
      " |      Returns True if geometries are equal, else False.\n",
      " |      \n",
      " |      This method considers point-set equality (or topological\n",
      " |      equality), and is equivalent to (self.within(other) &\n",
      " |      self.contains(other)).\n",
      " |      \n",
      " |      Examples\n",
      " |      --------\n",
      " |      >>> LineString(\n",
      " |      ...     [(0, 0), (2, 2)]\n",
      " |      ... ).equals(\n",
      " |      ...     LineString([(0, 0), (1, 1), (2, 2)])\n",
      " |      ... )\n",
      " |      True\n",
      " |      \n",
      " |      Returns\n",
      " |      -------\n",
      " |      bool\n",
      " |  \n",
      " |  equals_exact(self, other, tolerance)\n",
      " |      True if geometries are equal to within a specified\n",
      " |      tolerance.\n",
      " |      \n",
      " |      Parameters\n",
      " |      ----------\n",
      " |      other : BaseGeometry\n",
      " |          The other geometry object in this comparison.\n",
      " |      tolerance : float\n",
      " |          Absolute tolerance in the same units as coordinates.\n",
      " |      \n",
      " |      This method considers coordinate equality, which requires\n",
      " |      coordinates to be equal and in the same order for all components\n",
      " |      of a geometry.\n",
      " |      \n",
      " |      Because of this it is possible for \"equals()\" to be True for two\n",
      " |      geometries and \"equals_exact()\" to be False.\n",
      " |      \n",
      " |      Examples\n",
      " |      --------\n",
      " |      >>> LineString(\n",
      " |      ...     [(0, 0), (2, 2)]\n",
      " |      ... ).equals_exact(\n",
      " |      ...     LineString([(0, 0), (1, 1), (2, 2)]),\n",
      " |      ...     1e-6\n",
      " |      ... )\n",
      " |      False\n",
      " |      \n",
      " |      Returns\n",
      " |      -------\n",
      " |      bool\n",
      " |  \n",
      " |  geometryType(self)\n",
      " |  \n",
      " |  hausdorff_distance(self, other)\n",
      " |      Unitless hausdorff distance to other geometry (float)\n",
      " |  \n",
      " |  interpolate(self, distance, normalized=False)\n",
      " |      Return a point at the specified distance along a linear geometry\n",
      " |      \n",
      " |      Negative length values are taken as measured in the reverse\n",
      " |      direction from the end of the geometry. Out-of-range index\n",
      " |      values are handled by clamping them to the valid range of values.\n",
      " |      If the normalized arg is True, the distance will be interpreted as a\n",
      " |      fraction of the geometry's length.\n",
      " |  \n",
      " |  intersection(self, other)\n",
      " |      Returns the intersection of the geometries\n",
      " |  \n",
      " |  intersects(self, other)\n",
      " |      Returns True if geometries intersect, else False\n",
      " |  \n",
      " |  normalize(self)\n",
      " |      Converts geometry to normal form (or canonical form).\n",
      " |      \n",
      " |      This method orders the coordinates, rings of a polygon and parts of\n",
      " |      multi geometries consistently. Typically useful for testing purposes\n",
      " |      (for example in combination with `equals_exact`).\n",
      " |      \n",
      " |      Examples\n",
      " |      --------\n",
      " |      >>> from shapely.wkt import loads\n",
      " |      >>> p = loads(\"MULTILINESTRING((0 0, 1 1), (3 3, 2 2))\")\n",
      " |      >>> p.normalize().wkt\n",
      " |      'MULTILINESTRING ((2 2, 3 3), (0 0, 1 1))'\n",
      " |  \n",
      " |  overlaps(self, other)\n",
      " |      Returns True if geometries overlap, else False\n",
      " |  \n",
      " |  project(self, other, normalized=False)\n",
      " |      Returns the distance along this geometry to a point nearest the\n",
      " |      specified point\n",
      " |      \n",
      " |      If the normalized arg is True, return the distance normalized to the\n",
      " |      length of the linear geometry.\n",
      " |  \n",
      " |  relate(self, other)\n",
      " |      Returns the DE-9IM intersection matrix for the two geometries\n",
      " |      (string)\n",
      " |  \n",
      " |  relate_pattern(self, other, pattern)\n",
      " |      Returns True if the DE-9IM string code for the relationship between\n",
      " |      the geometries satisfies the pattern, else False\n",
      " |  \n",
      " |  representative_point(self)\n",
      " |      Returns a point guaranteed to be within the object, cheaply.\n",
      " |  \n",
      " |  simplify(self, tolerance, preserve_topology=True)\n",
      " |      Returns a simplified geometry produced by the Douglas-Peucker\n",
      " |      algorithm\n",
      " |      \n",
      " |      Coordinates of the simplified geometry will be no more than the\n",
      " |      tolerance distance from the original. Unless the topology preserving\n",
      " |      option is used, the algorithm may produce self-intersecting or\n",
      " |      otherwise invalid geometries.\n",
      " |  \n",
      " |  symmetric_difference(self, other)\n",
      " |      Returns the symmetric difference of the geometries\n",
      " |      (Shapely geometry)\n",
      " |  \n",
      " |  touches(self, other)\n",
      " |      Returns True if geometries touch, else False\n",
      " |  \n",
      " |  union(self, other)\n",
      " |      Returns the union of the geometries (Shapely geometry)\n",
      " |  \n",
      " |  within(self, other)\n",
      " |      Returns True if geometry is within the other, else False\n",
      " |  \n",
      " |  ----------------------------------------------------------------------\n",
      " |  Readonly properties inherited from shapely.geometry.base.BaseGeometry:\n",
      " |  \n",
      " |  area\n",
      " |      Unitless area of the geometry (float)\n",
      " |  \n",
      " |  array_interface_base\n",
      " |  \n",
      " |  boundary\n",
      " |      Returns a lower dimension geometry that bounds the object\n",
      " |      \n",
      " |      The boundary of a polygon is a line, the boundary of a line is a\n",
      " |      collection of points. The boundary of a point is an empty (null)\n",
      " |      collection.\n",
      " |  \n",
      " |  bounds\n",
      " |      Returns minimum bounding region (minx, miny, maxx, maxy)\n",
      " |  \n",
      " |  centroid\n",
      " |      Returns the geometric center of the object\n",
      " |  \n",
      " |  convex_hull\n",
      " |      Imagine an elastic band stretched around the geometry: that's a\n",
      " |      convex hull, more or less\n",
      " |      \n",
      " |      The convex hull of a three member multipoint, for example, is a\n",
      " |      triangular polygon.\n",
      " |  \n",
      " |  ctypes\n",
      " |      Return ctypes buffer\n",
      " |  \n",
      " |  envelope\n",
      " |      A figure that envelopes the geometry\n",
      " |  \n",
      " |  geom_type\n",
      " |      Name of the geometry's type, such as 'Point'\n",
      " |  \n",
      " |  has_z\n",
      " |      True if the geometry's coordinate sequence(s) have z values (are\n",
      " |      3-dimensional)\n",
      " |  \n",
      " |  is_closed\n",
      " |      True if the geometry is closed, else False\n",
      " |      \n",
      " |      Applicable only to 1-D geometries.\n",
      " |  \n",
      " |  is_empty\n",
      " |      True if the set of points in this geometry is empty, else False\n",
      " |  \n",
      " |  is_ring\n",
      " |      True if the geometry is a closed ring, else False\n",
      " |  \n",
      " |  is_simple\n",
      " |      True if the geometry is simple, meaning that any self-intersections\n",
      " |      are only at boundary points, else False\n",
      " |  \n",
      " |  is_valid\n",
      " |      True if the geometry is valid (definition depends on sub-class),\n",
      " |      else False\n",
      " |  \n",
      " |  length\n",
      " |      Unitless length of the geometry (float)\n",
      " |  \n",
      " |  minimum_clearance\n",
      " |      Unitless distance by which a node could be moved to produce an invalid geometry (float)\n",
      " |  \n",
      " |  minimum_rotated_rectangle\n",
      " |      Returns the general minimum bounding rectangle of\n",
      " |      the geometry. Can possibly be rotated. If the convex hull\n",
      " |      of the object is a degenerate (line or point) this same degenerate\n",
      " |      is returned.\n",
      " |  \n",
      " |  type\n",
      " |  \n",
      " |  wkb\n",
      " |      WKB representation of the geometry\n",
      " |  \n",
      " |  wkb_hex\n",
      " |      WKB hex representation of the geometry\n",
      " |  \n",
      " |  wkt\n",
      " |      WKT representation of the geometry\n",
      " |  \n",
      " |  xy\n",
      " |      Separate arrays of X and Y coordinate values\n",
      " |  \n",
      " |  ----------------------------------------------------------------------\n",
      " |  Data descriptors inherited from shapely.geometry.base.BaseGeometry:\n",
      " |  \n",
      " |  __dict__\n",
      " |      dictionary for instance variables (if defined)\n",
      " |  \n",
      " |  __weakref__\n",
      " |      list of weak references to the object (if defined)\n",
      " |  \n",
      " |  ----------------------------------------------------------------------\n",
      " |  Data and other attributes inherited from shapely.geometry.base.BaseGeometry:\n",
      " |  \n",
      " |  __geom__ = 94416274249504\n",
      " |  \n",
      " |  __p__ = None\n",
      " |  \n",
      " |  impl = <GEOSImpl object: GEOS C API version (1, 13, 0)>\n",
      "\n"
     ]
    }
   ],
   "source": [
    "# Check the help for Polygon objects:\n",
    "help(Polygon)"
   ]
  },
  {
   "cell_type": "markdown",
   "id": "83a06217",
   "metadata": {},
   "source": [
    "Let’s still see how to create a polygon with a hole:"
   ]
  },
  {
   "cell_type": "code",
   "execution_count": 31,
   "id": "aff5a931",
   "metadata": {},
   "outputs": [],
   "source": [
    "# define the exterior\n",
    "outer = LinearRing([(-180, 90), (-180, -90), (180, -90), (180, 90)])\n",
    "\n",
    "# define a hole:\n",
    "hole = LinearRing([(-170, 80), (-100, -80), (100, -80), (170, 80)])"
   ]
  },
  {
   "cell_type": "markdown",
   "id": "9282f6c0",
   "metadata": {},
   "source": [
    "Let’s see how the exterior shell and the hole look like on their own:"
   ]
  },
  {
   "cell_type": "code",
   "execution_count": 32,
   "id": "4e95ebef",
   "metadata": {},
   "outputs": [
    {
     "data": {
      "image/svg+xml": [
       "<svg xmlns=\"http://www.w3.org/2000/svg\" xmlns:xlink=\"http://www.w3.org/1999/xlink\" width=\"300\" height=\"208.8\" viewBox=\"-194.4 -104.4 388.8 208.8\" preserveAspectRatio=\"xMinYMin meet\"><g transform=\"matrix(1,0,0,-1,0,0.0)\"><polyline fill=\"none\" stroke=\"#66cc99\" stroke-width=\"2.592\" points=\"-180.0,90.0 -180.0,-90.0 180.0,-90.0 180.0,90.0 -180.0,90.0\" opacity=\"0.8\" /></g></svg>"
      ],
      "text/plain": [
       "<shapely.geometry.polygon.LinearRing at 0x7f89f0043af0>"
      ]
     },
     "execution_count": 32,
     "metadata": {},
     "output_type": "execute_result"
    }
   ],
   "source": [
    "outer"
   ]
  },
  {
   "cell_type": "code",
   "execution_count": 33,
   "id": "db2cc300",
   "metadata": {},
   "outputs": [
    {
     "data": {
      "image/svg+xml": [
       "<svg xmlns=\"http://www.w3.org/2000/svg\" xmlns:xlink=\"http://www.w3.org/1999/xlink\" width=\"300\" height=\"187.2\" viewBox=\"-183.6 -93.6 367.2 187.2\" preserveAspectRatio=\"xMinYMin meet\"><g transform=\"matrix(1,0,0,-1,0,0.0)\"><polyline fill=\"none\" stroke=\"#66cc99\" stroke-width=\"2.448\" points=\"-170.0,80.0 -100.0,-80.0 100.0,-80.0 170.0,80.0 -170.0,80.0\" opacity=\"0.8\" /></g></svg>"
      ],
      "text/plain": [
       "<shapely.geometry.polygon.LinearRing at 0x7f89f0043580>"
      ]
     },
     "execution_count": 33,
     "metadata": {},
     "output_type": "execute_result"
    }
   ],
   "source": [
    "hole"
   ]
  },
  {
   "cell_type": "markdown",
   "id": "c5ee922b",
   "metadata": {},
   "source": [
    "A polygon using only the exterior shell:"
   ]
  },
  {
   "cell_type": "code",
   "execution_count": 34,
   "id": "8dcd233c",
   "metadata": {},
   "outputs": [
    {
     "data": {
      "image/svg+xml": [
       "<svg xmlns=\"http://www.w3.org/2000/svg\" xmlns:xlink=\"http://www.w3.org/1999/xlink\" width=\"300\" height=\"208.8\" viewBox=\"-194.4 -104.4 388.8 208.8\" preserveAspectRatio=\"xMinYMin meet\"><g transform=\"matrix(1,0,0,-1,0,0.0)\"><path fill-rule=\"evenodd\" fill=\"#66cc99\" stroke=\"#555555\" stroke-width=\"2.592\" opacity=\"0.6\" d=\"M -180.0,90.0 L -180.0,-90.0 L 180.0,-90.0 L 180.0,90.0 L -180.0,90.0 z\" /></g></svg>"
      ],
      "text/plain": [
       "<shapely.geometry.polygon.Polygon at 0x7f89f0043430>"
      ]
     },
     "execution_count": 34,
     "metadata": {},
     "output_type": "execute_result"
    }
   ],
   "source": [
    "polygon_without_hole = Polygon(outer)\n",
    "polygon_without_hole"
   ]
  },
  {
   "cell_type": "markdown",
   "id": "46e40c1f",
   "metadata": {},
   "source": [
    "And, finally, a polygon defined by the exterior shell, and one hole\n",
    "(note that `holes` need to be specified as a list):"
   ]
  },
  {
   "cell_type": "code",
   "execution_count": 35,
   "id": "c6dd7b27",
   "metadata": {},
   "outputs": [
    {
     "data": {
      "image/svg+xml": [
       "<svg xmlns=\"http://www.w3.org/2000/svg\" xmlns:xlink=\"http://www.w3.org/1999/xlink\" width=\"300\" height=\"208.8\" viewBox=\"-194.4 -104.4 388.8 208.8\" preserveAspectRatio=\"xMinYMin meet\"><g transform=\"matrix(1,0,0,-1,0,0.0)\"><path fill-rule=\"evenodd\" fill=\"#66cc99\" stroke=\"#555555\" stroke-width=\"2.592\" opacity=\"0.6\" d=\"M -180.0,90.0 L -180.0,-90.0 L 180.0,-90.0 L 180.0,90.0 L -180.0,90.0 z M -170.0,80.0 L -100.0,-80.0 L 100.0,-80.0 L 170.0,80.0 L -170.0,80.0 z\" /></g></svg>"
      ],
      "text/plain": [
       "<shapely.geometry.polygon.Polygon at 0x7f89f0043490>"
      ]
     },
     "execution_count": 35,
     "metadata": {},
     "output_type": "execute_result"
    }
   ],
   "source": [
    "polygon_with_hole = Polygon(outer, [hole])\n",
    "polygon_with_hole"
   ]
  },
  {
   "cell_type": "code",
   "execution_count": 36,
   "id": "b2a20f58",
   "metadata": {},
   "outputs": [
    {
     "name": "stdout",
     "output_type": "stream",
     "text": [
      "POLYGON ((-180 90, -180 -90, 180 -90, 180 90, -180 90))\n",
      "POLYGON ((-180 90, -180 -90, 180 -90, 180 90, -180 90), (-170 80, -100 -80, 100 -80, 170 80, -170 80))\n"
     ]
    }
   ],
   "source": [
    "print(polygon_without_hole)\n",
    "print(polygon_with_hole)"
   ]
  },
  {
   "cell_type": "markdown",
   "id": "acb3358d",
   "metadata": {},
   "source": [
    "### Polygon properties and methods\n",
    "\n",
    "Very similar to lines and points, also `shapely.geometry.Polygon`s expose a\n",
    "number of properties and methods that can be useful for spatial analysis tasks.\n",
    "Consult the [shapely user\n",
    "manual](https://shapely.readthedocs.io/en/stable/manual.html) for a complete\n",
    "list, and see a few examples here:"
   ]
  },
  {
   "cell_type": "code",
   "execution_count": 37,
   "id": "9d17335d",
   "metadata": {},
   "outputs": [
    {
     "name": "stdout",
     "output_type": "stream",
     "text": [
      "Polygon centroid: POINT (0 -13.827160493827162)\n",
      "Polygon area: 21600.0\n",
      "Polygon bounding box: (-180.0, -90.0, 180.0, 90.0)\n",
      "Polygon exterior ring: LINEARRING (-180 90, -180 -90, 180 -90, 180 90, -180 90)\n",
      "Polygon circumference: 1080.0\n"
     ]
    }
   ],
   "source": [
    "print(f\"Polygon centroid: {polygon_with_hole.centroid}\")\n",
    "print(f\"Polygon area: {polygon_with_hole.area}\")\n",
    "print(f\"Polygon bounding box: {polygon_with_hole.bounds}\")\n",
    "print(f\"Polygon exterior ring: {polygon_with_hole.exterior}\")\n",
    "print(f\"Polygon circumference: {polygon_with_hole.exterior.length}\")"
   ]
  },
  {
   "cell_type": "markdown",
   "id": "ae4cca5b",
   "metadata": {},
   "source": [
    "As we can see above, it is again fairly straightforward to access different attributes of `Polygon` objects. Note that distance metrics will make more sense when we start working with data in projected coordinate systems.\n",
    "\n",
    "\n",
    "## Check your understanding\n",
    "\n",
    "Plot these shapes using shapely!\n",
    "\n",
    "- **Pentagon**, example coordinates: `(30, 2.01), (31.91, 0.62), (31.18, -1.63), (28.82, -1.63), (28.09, 0.62)`\n",
    "- **Triangle**\n",
    "- **Square**\n",
    "- **Circle**"
   ]
  },
  {
   "cell_type": "code",
   "execution_count": 38,
   "id": "836de2a7",
   "metadata": {},
   "outputs": [
    {
     "data": {
      "image/svg+xml": [
       "<svg xmlns=\"http://www.w3.org/2000/svg\" xmlns:xlink=\"http://www.w3.org/1999/xlink\" width=\"100.0\" height=\"100.0\" viewBox=\"27.9372 -1.7828 4.125600000000002 3.9455999999999998\" preserveAspectRatio=\"xMinYMin meet\"><g transform=\"matrix(1,0,0,-1,0,0.3799999999999999)\"><path fill-rule=\"evenodd\" fill=\"#66cc99\" stroke=\"#555555\" stroke-width=\"0.08251200000000004\" opacity=\"0.6\" d=\"M 30.0,2.01 L 31.91,0.62 L 31.18,-1.63 L 28.82,-1.63 L 28.09,0.62 L 30.0,2.01 z\" /></g></svg>"
      ],
      "text/plain": [
       "<shapely.geometry.polygon.Polygon at 0x7f89f9fbbb80>"
      ]
     },
     "execution_count": 38,
     "metadata": {},
     "output_type": "execute_result"
    }
   ],
   "source": [
    "# Pentagon \n",
    "Polygon([(30, 2.01), (31.91, 0.62), (31.18, -1.63), (28.82, -1.63), (28.09, 0.62)])"
   ]
  },
  {
   "cell_type": "code",
   "execution_count": 39,
   "id": "756fa0be",
   "metadata": {},
   "outputs": [
    {
     "data": {
      "image/svg+xml": [
       "<svg xmlns=\"http://www.w3.org/2000/svg\" xmlns:xlink=\"http://www.w3.org/1999/xlink\" width=\"100.0\" height=\"100.0\" viewBox=\"-0.16 -0.16 4.32 4.32\" preserveAspectRatio=\"xMinYMin meet\"><g transform=\"matrix(1,0,0,-1,0,4.0)\"><path fill-rule=\"evenodd\" fill=\"#66cc99\" stroke=\"#555555\" stroke-width=\"0.0864\" opacity=\"0.6\" d=\"M 0.0,0.0 L 2.0,4.0 L 4.0,0.0 L 0.0,0.0 z\" /></g></svg>"
      ],
      "text/plain": [
       "<shapely.geometry.polygon.Polygon at 0x7f89f0043b50>"
      ]
     },
     "execution_count": 39,
     "metadata": {},
     "output_type": "execute_result"
    }
   ],
   "source": [
    "# Triangle\n",
    "Polygon([(0,0), (2,4), (4,0)])"
   ]
  },
  {
   "cell_type": "code",
   "execution_count": 40,
   "id": "8ad209c0",
   "metadata": {},
   "outputs": [
    {
     "data": {
      "image/svg+xml": [
       "<svg xmlns=\"http://www.w3.org/2000/svg\" xmlns:xlink=\"http://www.w3.org/1999/xlink\" width=\"100.0\" height=\"100.0\" viewBox=\"-0.16 -0.16 4.32 4.32\" preserveAspectRatio=\"xMinYMin meet\"><g transform=\"matrix(1,0,0,-1,0,4.0)\"><path fill-rule=\"evenodd\" fill=\"#66cc99\" stroke=\"#555555\" stroke-width=\"0.0864\" opacity=\"0.6\" d=\"M 0.0,0.0 L 0.0,4.0 L 4.0,4.0 L 4.0,0.0 L 0.0,0.0 z\" /></g></svg>"
      ],
      "text/plain": [
       "<shapely.geometry.polygon.Polygon at 0x7f89f00433a0>"
      ]
     },
     "execution_count": 40,
     "metadata": {},
     "output_type": "execute_result"
    }
   ],
   "source": [
    "# Square\n",
    "Polygon([(0,0), (0,4), (4,4), (4,0)])"
   ]
  },
  {
   "cell_type": "code",
   "execution_count": 41,
   "id": "3f5ca8ef",
   "metadata": {},
   "outputs": [
    {
     "data": {
      "image/svg+xml": [
       "<svg xmlns=\"http://www.w3.org/2000/svg\" xmlns:xlink=\"http://www.w3.org/1999/xlink\" width=\"100.0\" height=\"100.0\" viewBox=\"-1.08 -1.08 2.16 2.16\" preserveAspectRatio=\"xMinYMin meet\"><g transform=\"matrix(1,0,0,-1,0,0.0)\"><path fill-rule=\"evenodd\" fill=\"#66cc99\" stroke=\"#555555\" stroke-width=\"0.0432\" opacity=\"0.6\" d=\"M 1.0,0.0 L 0.9951847266721969,-0.0980171403295606 L 0.9807852804032304,-0.19509032201612825 L 0.9569403357322088,-0.29028467725446233 L 0.9238795325112867,-0.3826834323650898 L 0.881921264348355,-0.47139673682599764 L 0.8314696123025452,-0.5555702330196022 L 0.773010453362737,-0.6343932841636455 L 0.7071067811865476,-0.7071067811865475 L 0.6343932841636455,-0.773010453362737 L 0.5555702330196023,-0.8314696123025452 L 0.4713967368259978,-0.8819212643483549 L 0.38268343236508984,-0.9238795325112867 L 0.29028467725446233,-0.9569403357322089 L 0.19509032201612833,-0.9807852804032304 L 0.09801714032956077,-0.9951847266721968 L 6.123233995736766e-17,-1.0 L -0.09801714032956065,-0.9951847266721969 L -0.1950903220161282,-0.9807852804032304 L -0.29028467725446216,-0.9569403357322089 L -0.3826834323650897,-0.9238795325112867 L -0.4713967368259977,-0.881921264348355 L -0.555570233019602,-0.8314696123025455 L -0.6343932841636454,-0.7730104533627371 L -0.7071067811865475,-0.7071067811865476 L -0.773010453362737,-0.6343932841636455 L -0.8314696123025453,-0.5555702330196022 L -0.8819212643483549,-0.47139673682599786 L -0.9238795325112867,-0.3826834323650899 L -0.9569403357322088,-0.2902846772544624 L -0.9807852804032304,-0.1950903220161286 L -0.9951847266721968,-0.09801714032956083 L -1.0,-1.2246467991473532e-16 L -0.9951847266721969,0.09801714032956059 L -0.9807852804032304,0.19509032201612836 L -0.9569403357322089,0.2902846772544621 L -0.9238795325112868,0.38268343236508967 L -0.881921264348355,0.47139673682599764 L -0.8314696123025455,0.555570233019602 L -0.7730104533627371,0.6343932841636453 L -0.7071067811865477,0.7071067811865475 L -0.6343932841636459,0.7730104533627367 L -0.5555702330196022,0.8314696123025452 L -0.47139673682599786,0.8819212643483549 L -0.38268343236509034,0.9238795325112865 L -0.29028467725446244,0.9569403357322088 L -0.19509032201612866,0.9807852804032303 L -0.09801714032956045,0.9951847266721969 L -1.8369701987210297e-16,1.0 L 0.09801714032956009,0.9951847266721969 L 0.1950903220161283,0.9807852804032304 L 0.29028467725446205,0.9569403357322089 L 0.38268343236509,0.9238795325112866 L 0.4713967368259976,0.881921264348355 L 0.5555702330196018,0.8314696123025455 L 0.6343932841636456,0.7730104533627369 L 0.7071067811865474,0.7071067811865477 L 0.7730104533627367,0.6343932841636459 L 0.8314696123025452,0.5555702330196022 L 0.8819212643483548,0.4713967368259979 L 0.9238795325112865,0.3826834323650904 L 0.9569403357322088,0.2902846772544625 L 0.9807852804032303,0.19509032201612872 L 0.9951847266721969,0.0980171403295605 L 1.0,0.0 z\" /></g></svg>"
      ],
      "text/plain": [
       "<shapely.geometry.polygon.Polygon at 0x7f89f9f1bfa0>"
      ]
     },
     "execution_count": 41,
     "metadata": {},
     "output_type": "execute_result"
    }
   ],
   "source": [
    "# Circle (using a buffer around a point)\n",
    "point = Point((0,0))\n",
    "point.buffer(1)"
   ]
  },
  {
   "cell_type": "markdown",
   "id": "cdd7c04f",
   "metadata": {},
   "source": [
    "## Geometry collections (optional)\n",
    "\n",
    "Sometimes, it can be useful to store multiple geometries (for example, several\n",
    "points or several polygons) in a single feature. See, for instance, the\n",
    "[example of Tyrol above](#multipolygons). Its two parts share the same\n",
    "attributes, and together are equivalent to any of the other provinces of\n",
    "Austria. Semantically, it would not make sense to store the two polygons in\n",
    "separate rows. If expressed as a MultiPolygon, Tyrol would represent one\n",
    "row of information in the attribute table with multiple polygons attached.\n",
    "\n",
    "\n",
    ":::{caution}\n",
    "By convention, data sets should always consist of either single- or\n",
    "multi-geometries. Some file formats enforce this, and many GIS tools refuse\n",
    "operation on data sets with mixed single- and multi-geometries.\n",
    "\n",
    "If one feature in a data set is a MultiGeometry, all other features should be\n",
    "converted, too. All single geometries can be expressed as a collection of one\n",
    "item.\n",
    ":::\n",
    "\n",
    "\n",
    "In shapely, collections of points are implemented as `MultiPoint` geometries,\n",
    "collections of lines as `MultiLineString` geometries, and collections of\n",
    "polygons as `MultiPolygon` geometries."
   ]
  },
  {
   "cell_type": "code",
   "execution_count": 42,
   "id": "ebfb26df",
   "metadata": {},
   "outputs": [
    {
     "name": "stdout",
     "output_type": "stream",
     "text": [
      "MULTIPOINT (2.2 4.2, 7.2 -25.1, 9.26 -2.456)\n",
      "MULTILINESTRING ((2.2 4.2, 7.2 -25.1), (7.2 -25.1, 9.26 -2.456))\n"
     ]
    }
   ],
   "source": [
    "from shapely.geometry import MultiPoint, MultiLineString, MultiPolygon\n",
    "\n",
    "# Create a MultiPoint object of our points 1,2 and 3\n",
    "multipoint = MultiPoint([point1, point2, point3])\n",
    "\n",
    "# We can also create a MultiLineString with two lines\n",
    "line1 = LineString([point1, point2])\n",
    "line2 = LineString([point2, point3])\n",
    "multiline = MultiLineString([line1, line2])\n",
    "\n",
    "print(multipoint)\n",
    "print(multiline)"
   ]
  },
  {
   "cell_type": "code",
   "execution_count": 43,
   "id": "5f445685",
   "metadata": {},
   "outputs": [
    {
     "data": {
      "image/svg+xml": [
       "<svg xmlns=\"http://www.w3.org/2000/svg\" xmlns:xlink=\"http://www.w3.org/1999/xlink\" width=\"100.0\" height=\"100.0\" viewBox=\"1.028 -26.272000000000002 9.404 31.644000000000002\" preserveAspectRatio=\"xMinYMin meet\"><g transform=\"matrix(1,0,0,-1,0,-20.900000000000002)\"><g><circle cx=\"2.2\" cy=\"4.2\" r=\"0.9493199999999999\" stroke=\"#555555\" stroke-width=\"0.31644\" fill=\"#66cc99\" opacity=\"0.6\" /><circle cx=\"7.2\" cy=\"-25.1\" r=\"0.9493199999999999\" stroke=\"#555555\" stroke-width=\"0.31644\" fill=\"#66cc99\" opacity=\"0.6\" /><circle cx=\"9.26\" cy=\"-2.456\" r=\"0.9493199999999999\" stroke=\"#555555\" stroke-width=\"0.31644\" fill=\"#66cc99\" opacity=\"0.6\" /></g></g></svg>"
      ],
      "text/plain": [
       "<shapely.geometry.multipoint.MultiPoint at 0x7f89f9fbbd00>"
      ]
     },
     "execution_count": 43,
     "metadata": {},
     "output_type": "execute_result"
    }
   ],
   "source": [
    "multipoint"
   ]
  },
  {
   "cell_type": "code",
   "execution_count": 44,
   "id": "08aaf0d7",
   "metadata": {},
   "outputs": [
    {
     "data": {
      "image/svg+xml": [
       "<svg xmlns=\"http://www.w3.org/2000/svg\" xmlns:xlink=\"http://www.w3.org/1999/xlink\" width=\"100.0\" height=\"100.0\" viewBox=\"1.028 -26.272000000000002 9.404 31.644000000000002\" preserveAspectRatio=\"xMinYMin meet\"><g transform=\"matrix(1,0,0,-1,0,-20.900000000000002)\"><g><polyline fill=\"none\" stroke=\"#66cc99\" stroke-width=\"0.63288\" points=\"2.2,4.2 7.2,-25.1\" opacity=\"0.8\" /><polyline fill=\"none\" stroke=\"#66cc99\" stroke-width=\"0.63288\" points=\"7.2,-25.1 9.26,-2.456\" opacity=\"0.8\" /></g></g></svg>"
      ],
      "text/plain": [
       "<shapely.geometry.multilinestring.MultiLineString at 0x7f89f9fbbaf0>"
      ]
     },
     "execution_count": 44,
     "metadata": {},
     "output_type": "execute_result"
    }
   ],
   "source": [
    "multiline"
   ]
  },
  {
   "cell_type": "markdown",
   "id": "3807cca5",
   "metadata": {},
   "source": [
    "`MultiPolygons` are constructed in a similar manner. Let’s create a bounding box\n",
    "for ‘the world’ by combining two separate polygons that represent the western and\n",
    "eastern hemispheres."
   ]
  },
  {
   "cell_type": "code",
   "execution_count": 45,
   "id": "f4acef4f",
   "metadata": {},
   "outputs": [
    {
     "name": "stdout",
     "output_type": "stream",
     "text": [
      "POLYGON ((-180 90, -180 -90, 0 -90, 0 90, -180 90))\n"
     ]
    },
    {
     "data": {
      "image/svg+xml": [
       "<svg xmlns=\"http://www.w3.org/2000/svg\" xmlns:xlink=\"http://www.w3.org/1999/xlink\" width=\"194.39999999999998\" height=\"194.4\" viewBox=\"-187.2 -97.2 194.39999999999998 194.4\" preserveAspectRatio=\"xMinYMin meet\"><g transform=\"matrix(1,0,0,-1,0,0.0)\"><path fill-rule=\"evenodd\" fill=\"#66cc99\" stroke=\"#555555\" stroke-width=\"2.0\" opacity=\"0.6\" d=\"M -180.0,90.0 L -180.0,-90.0 L 0.0,-90.0 L 0.0,90.0 L -180.0,90.0 z\" /></g></svg>"
      ],
      "text/plain": [
       "<shapely.geometry.polygon.Polygon at 0x7f89f00439a0>"
      ]
     },
     "execution_count": 45,
     "metadata": {},
     "output_type": "execute_result"
    }
   ],
   "source": [
    "# Let’s create the exterior of the western part of the world\n",
    "western_hemisphere = Polygon([(-180, 90), (-180, -90), (0, -90), (0, 90)])\n",
    "print(western_hemisphere)\n",
    "western_hemisphere"
   ]
  },
  {
   "cell_type": "markdown",
   "id": "c1cc5a6c",
   "metadata": {},
   "source": [
    "Shapely has a short-hand function for creating rectangular polygons, ‘boxes’. It\n",
    "can be used, for instance, to create [bounding\n",
    "boxes](https://en.wikipedia.org/wiki/Minimum_bounding_box) using minimum and\n",
    "maximum x and y coordinates. \n",
    "\n",
    "Let’s use\n",
    "[shapely.geometry.box()](https://shapely.readthedocs.io/en/stable/manual.html#shapely.geometry.box)\n",
    "for creating the polygon representing the the eastern hemisphere:"
   ]
  },
  {
   "cell_type": "code",
   "execution_count": 46,
   "id": "1c6f50ea",
   "metadata": {},
   "outputs": [
    {
     "name": "stdout",
     "output_type": "stream",
     "text": [
      "POLYGON ((180 -90, 180 90, 0 90, 0 -90, 180 -90))\n"
     ]
    },
    {
     "data": {
      "image/svg+xml": [
       "<svg xmlns=\"http://www.w3.org/2000/svg\" xmlns:xlink=\"http://www.w3.org/1999/xlink\" width=\"194.39999999999998\" height=\"194.4\" viewBox=\"-7.2 -97.2 194.39999999999998 194.4\" preserveAspectRatio=\"xMinYMin meet\"><g transform=\"matrix(1,0,0,-1,0,0.0)\"><path fill-rule=\"evenodd\" fill=\"#66cc99\" stroke=\"#555555\" stroke-width=\"2.0\" opacity=\"0.6\" d=\"M 180.0,-90.0 L 180.0,90.0 L 0.0,90.0 L 0.0,-90.0 L 180.0,-90.0 z\" /></g></svg>"
      ],
      "text/plain": [
       "<shapely.geometry.polygon.Polygon at 0x7f89f0043c40>"
      ]
     },
     "execution_count": 46,
     "metadata": {},
     "output_type": "execute_result"
    }
   ],
   "source": [
    "from shapely.geometry import box\n",
    "min_x = 0\n",
    "max_x = 180\n",
    "min_y = -90\n",
    "max_y = 90\n",
    "\n",
    "eastern_hemisphere = box(min_x, min_y, max_x, max_y)\n",
    "\n",
    "print(eastern_hemisphere)\n",
    "eastern_hemisphere"
   ]
  },
  {
   "cell_type": "markdown",
   "id": "948674b2",
   "metadata": {},
   "source": [
    "Finally, we can combine the two polygons into a MultiPolygon:"
   ]
  },
  {
   "cell_type": "code",
   "execution_count": 47,
   "id": "c97e705a",
   "metadata": {},
   "outputs": [
    {
     "name": "stdout",
     "output_type": "stream",
     "text": [
      "MULTIPOLYGON (((-180 90, -180 -90, 0 -90, 0 90, -180 90)), ((180 -90, 180 90, 0 90, 0 -90, 180 -90)))\n"
     ]
    },
    {
     "data": {
      "image/svg+xml": [
       "<svg xmlns=\"http://www.w3.org/2000/svg\" xmlns:xlink=\"http://www.w3.org/1999/xlink\" width=\"300\" height=\"208.8\" viewBox=\"-194.4 -104.4 388.8 208.8\" preserveAspectRatio=\"xMinYMin meet\"><g transform=\"matrix(1,0,0,-1,0,0.0)\"><g><path fill-rule=\"evenodd\" fill=\"#ff3333\" stroke=\"#555555\" stroke-width=\"2.592\" opacity=\"0.6\" d=\"M -180.0,90.0 L -180.0,-90.0 L 0.0,-90.0 L 0.0,90.0 L -180.0,90.0 z\" /><path fill-rule=\"evenodd\" fill=\"#ff3333\" stroke=\"#555555\" stroke-width=\"2.592\" opacity=\"0.6\" d=\"M 180.0,-90.0 L 180.0,90.0 L 0.0,90.0 L 0.0,-90.0 L 180.0,-90.0 z\" /></g></g></svg>"
      ],
      "text/plain": [
       "<shapely.geometry.multipolygon.MultiPolygon at 0x7f89f00438b0>"
      ]
     },
     "execution_count": 47,
     "metadata": {},
     "output_type": "execute_result"
    }
   ],
   "source": [
    "# Let’s create our MultiPolygon.\n",
    "# Pass multiple Polygon objects as a list\n",
    "multipolygon = MultiPolygon([western_hemisphere, eastern_hemisphere])\n",
    "\n",
    "print(multipolygon)\n",
    "multipolygon"
   ]
  },
  {
   "cell_type": "markdown",
   "id": "5c41e3d1",
   "metadata": {},
   "source": [
    "Multi-geometries are in many ways similar to simple geometries, like the ones we\n",
    "created earlier. The main difference is that they can combine multiple geometric\n",
    "primitives into one feature.\n",
    "\n",
    "\n",
    "## Convex hull and envelope\n",
    "\n",
    "A ‘convex hull’ refers to the smallest possible\n",
    "[convex](https://en.wikipedia.org/wiki/Convex_set) polygon that can contain a\n",
    "geometry or a set of geometries. Alongside bounding boxes, convex hulls are\n",
    "useful to describe the extent of data sets."
   ]
  },
  {
   "cell_type": "code",
   "execution_count": 48,
   "id": "1c2eb65e",
   "metadata": {},
   "outputs": [
    {
     "data": {
      "image/svg+xml": [
       "<svg xmlns=\"http://www.w3.org/2000/svg\" xmlns:xlink=\"http://www.w3.org/1999/xlink\" width=\"100.0\" height=\"100.0\" viewBox=\"1.028 -26.272000000000002 9.404 31.644000000000002\" preserveAspectRatio=\"xMinYMin meet\"><g transform=\"matrix(1,0,0,-1,0,-20.900000000000002)\"><g><circle cx=\"2.2\" cy=\"4.2\" r=\"0.9493199999999999\" stroke=\"#555555\" stroke-width=\"0.31644\" fill=\"#66cc99\" opacity=\"0.6\" /><circle cx=\"7.2\" cy=\"-25.1\" r=\"0.9493199999999999\" stroke=\"#555555\" stroke-width=\"0.31644\" fill=\"#66cc99\" opacity=\"0.6\" /><circle cx=\"9.26\" cy=\"-2.456\" r=\"0.9493199999999999\" stroke=\"#555555\" stroke-width=\"0.31644\" fill=\"#66cc99\" opacity=\"0.6\" /></g></g></svg>"
      ],
      "text/plain": [
       "<shapely.geometry.multipoint.MultiPoint at 0x7f89f9fbbd00>"
      ]
     },
     "execution_count": 48,
     "metadata": {},
     "output_type": "execute_result"
    }
   ],
   "source": [
    "# Check input geometry\n",
    "multipoint"
   ]
  },
  {
   "cell_type": "code",
   "execution_count": 49,
   "id": "1b1d6516",
   "metadata": {},
   "outputs": [
    {
     "data": {
      "text/plain": [
       "[<shapely.geometry.polygon.Polygon at 0x7f89f9f1b880>,\n",
       " <shapely.geometry.multipoint.MultiPoint at 0x7f89f9fbbd00>]"
      ]
     },
     "execution_count": 49,
     "metadata": {},
     "output_type": "execute_result"
    }
   ],
   "source": [
    "# Convex Hull\n",
    "[multipoint.convex_hull, multipoint]"
   ]
  },
  {
   "cell_type": "code",
   "execution_count": 50,
   "id": "724c0c97",
   "metadata": {},
   "outputs": [
    {
     "data": {
      "image/svg+xml": [
       "<svg xmlns=\"http://www.w3.org/2000/svg\" xmlns:xlink=\"http://www.w3.org/1999/xlink\" width=\"100.0\" height=\"100.0\" viewBox=\"1.028 -26.272000000000002 9.404 31.644000000000002\" preserveAspectRatio=\"xMinYMin meet\"><g transform=\"matrix(1,0,0,-1,0,-20.900000000000002)\"><path fill-rule=\"evenodd\" fill=\"#66cc99\" stroke=\"#555555\" stroke-width=\"0.63288\" opacity=\"0.6\" d=\"M 2.2,-25.1 L 9.26,-25.1 L 9.26,4.2 L 2.2,4.2 L 2.2,-25.1 z\" /></g></svg>"
      ],
      "text/plain": [
       "<shapely.geometry.polygon.Polygon at 0x7f89f0043be0>"
      ]
     },
     "execution_count": 50,
     "metadata": {},
     "output_type": "execute_result"
    }
   ],
   "source": [
    "# Envelope (smalles rectangular polygon around a geometry/set of geometries):\n",
    "multipoint.envelope"
   ]
  },
  {
   "cell_type": "markdown",
   "id": "26ceca6e",
   "metadata": {},
   "source": [
    "## Validity of geometries\n",
    "\n",
    "As discussed on the very top of this page, already the geometric primitives have\n",
    "certain requirements. For instance, a `LineString` must consist of at least two\n",
    "points, and a `Polygon`’s [exterior shell and holes must not\n",
    "intersect](https://shapely.readthedocs.io/en/1.8.5/manual.html#polygons).\n",
    "\n",
    "Each shapely geometry has a built-in check that can be of great help, for\n",
    "instance, finding topological errors:"
   ]
  },
  {
   "cell_type": "code",
   "execution_count": 51,
   "id": "d8fd495e",
   "metadata": {},
   "outputs": [
    {
     "name": "stdout",
     "output_type": "stream",
     "text": [
      "Is polygon valid?: True\n"
     ]
    }
   ],
   "source": [
    "print(f\"Is polygon valid?: {polygon_with_hole.is_valid}\")"
   ]
  },
  {
   "cell_type": "markdown",
   "id": "2634f15d",
   "metadata": {},
   "source": [
    ":::{admonition} shapely 2.0\n",
    ":class: caution\n",
    "\n",
    "While we are having this course, the team developing shapely is preparing the\n",
    "library’s next updates. It will be a major version that breaks with some of the\n",
    "programming patterns that were possible with earlier versions.\n",
    "\n",
    "When you work with shapely in the future, be sure to [check out what will have\n",
    "changed](https://shapely.readthedocs.io/1.8.5/migration.html).\n",
    "\n",
    ":::"
   ]
  }
 ],
 "metadata": {
  "jupytext": {
   "text_representation": {
    "extension": ".md",
    "format_name": "myst",
    "format_version": "0.13",
    "jupytext_version": "1.14.1"
   }
  },
  "kernelspec": {
   "display_name": "python3",
   "name": "python3"
  },
  "language_info": {
   "codemirror_mode": {
    "name": "ipython",
    "version": 3
   },
   "file_extension": ".py",
   "mimetype": "text/x-python",
   "name": "python",
   "nbconvert_exporter": "python",
   "pygments_lexer": "ipython3",
   "version": "3.10.12"
  },
  "source_map": [
   11,
   150,
   159,
   163,
   165,
   172,
   175,
   187,
   189,
   211,
   213,
   221,
   224,
   231,
   239,
   246,
   259,
   265,
   271,
   299,
   307,
   313,
   316,
   320,
   324,
   326,
   337,
   342,
   345,
   369,
   372,
   382,
   389,
   404,
   410,
   413,
   438,
   443,
   447,
   449,
   455,
   460,
   469,
   471,
   477,
   481,
   483,
   495,
   500,
   503,
   513,
   518,
   522,
   528,
   532,
   536,
   538,
   542,
   545,
   550,
   555,
   558,
   569,
   575,
   590,
   595,
   600,
   605,
   609,
   638,
   653,
   657,
   659,
   665,
   670,
   681,
   692,
   696,
   703,
   717,
   722,
   727,
   730,
   743,
   745
  ]
 },
 "nbformat": 4,
 "nbformat_minor": 5
}