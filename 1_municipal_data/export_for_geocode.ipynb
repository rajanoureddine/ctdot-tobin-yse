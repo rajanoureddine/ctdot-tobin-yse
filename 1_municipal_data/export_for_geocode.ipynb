{
 "cells": [
  {
   "cell_type": "code",
   "execution_count": 2,
   "id": "c014696f-76c9-428e-9927-b64005ac4617",
   "metadata": {},
   "outputs": [],
   "source": [
    "# Warning Management\n",
    "import warnings\n",
    "warnings.simplefilter(action='ignore', category=FutureWarning)\n",
    "\n",
    "# DataFrames\n",
    "import pandas as pd\n",
    "\n",
    "# Plotting\n",
    "import matplotlib.pyplot as plt\n",
    "\n",
    "# Maths\n",
    "import numpy as np\n",
    "import math\n",
    "\n",
    "# Path management\n",
    "import pathlib\n",
    "import os\n",
    "import sys\n",
    "\n",
    "# Progress tracking\n",
    "from tqdm import tqdm\n",
    "\n",
    "# Regular Expressions\n",
    "import re\n",
    "\n",
    "# Logging\n",
    "import logging\n",
    "\n",
    "# Helpers\n",
    "from helper_fns import convert_vin_valid, return_matched_vins, create_valid_zip, try_divide"
   ]
  },
  {
   "cell_type": "markdown",
   "id": "84e557fe-718c-4426-949f-e54c45b3440b",
   "metadata": {},
   "source": [
    "# 1. Import Data"
   ]
  },
  {
   "cell_type": "code",
   "execution_count": 12,
   "id": "4cee8afb-022e-429b-85e8-4eb3c6561067",
   "metadata": {},
   "outputs": [],
   "source": [
    "# Version of raw data to get\n",
    "version = \"102423\"\n",
    "\n",
    "# Paths \n",
    "path = pathlib.Path().resolve()\n",
    "\n",
    "\n",
    "if sys.platform == 'linux':\n",
    "    data_path = path.parent.parent / \"data\" \n",
    "    matched_municipal_path = data_path / \"municipal_dataset_matched\" / f\"municipal_dataset_matched_{version}.csv\"\n",
    "    rlpolk_path = data_path / \"rlpolk_data\" / \"rlpolk_data_matched.csv\"\n",
    "    export_to_geocode_path = data_path / \"exported_to_geocode\"\n",
    "else:\n",
    "    data_path = path.parent / \"data\"\n",
    "    print(\"YET TO FIX THIS\")"
   ]
  },
  {
   "cell_type": "code",
   "execution_count": 10,
   "id": "c2b32796-4089-4ca7-a1e6-f0f6dbfeab26",
   "metadata": {},
   "outputs": [
    {
     "name": "stderr",
     "output_type": "stream",
     "text": [
      "/tmp/ipykernel_1755361/1938370545.py:2: DtypeWarning: Columns (7,8,9,10,11) have mixed types. Specify dtype option on import or set low_memory=False.\n",
      "  matched_municipal_data = pd.read_csv(matched_municipal_path, index_col = False)\n"
     ]
    }
   ],
   "source": [
    "matched_rlpolk_data = pd.read_csv(rlpolk_path, index_col = 0)\n",
    "matched_municipal_data = pd.read_csv(matched_municipal_path, index_col = False)"
   ]
  },
  {
   "cell_type": "markdown",
   "id": "7f21b3bb-4169-4efa-b332-d18942f695b5",
   "metadata": {},
   "source": [
    "# 2. Select to Export"
   ]
  },
  {
   "cell_type": "code",
   "execution_count": 30,
   "id": "428115a4-49f2-4d58-9f43-5a165c81c4a2",
   "metadata": {},
   "outputs": [],
   "source": [
    "matched_municipal_data = matched_municipal_data.drop(\"Unnamed: 0.1\", axis = 1)\n",
    "matched_municipal_data = matched_municipal_data.drop(\"Unnamed: 0\", axis = 1)"
   ]
  },
  {
   "cell_type": "code",
   "execution_count": null,
   "id": "4f7ac04e-b751-495a-a091-9c943ab25100",
   "metadata": {},
   "outputs": [],
   "source": [
    "matched_municipal_data.loc[matched_municipal_data[\"Electrification Level\"].isna(), \"Electrification Level\"] = matched_municipal_data.loc[matched_municipal_data[\"Electrification Level\"].isna(), \"ElectrificationLevel\"]\n",
    "matched_municipal_data = matched_municipal_data.drop(\"ElectrificationLevel\", axis = 1)"
   ]
  },
  {
   "cell_type": "code",
   "execution_count": 32,
   "id": "85ee396c-1d27-4c5e-80e3-e9f2e7fc437e",
   "metadata": {},
   "outputs": [],
   "source": [
    "matched_municipal_evs = matched_municipal_data.loc[matched_municipal_data[\"Fuel Type - Primary\"] == \"Electric\"]"
   ]
  },
  {
   "cell_type": "markdown",
   "id": "38484567-1c76-41c4-afbf-6b306e63254a",
   "metadata": {},
   "source": [
    "# 3. Export"
   ]
  },
  {
   "cell_type": "code",
   "execution_count": 34,
   "id": "f0e99de7-1642-40c8-a6ed-8d4d8f8da36e",
   "metadata": {},
   "outputs": [],
   "source": [
    "export_version = \"102423\""
   ]
  },
  {
   "cell_type": "code",
   "execution_count": 35,
   "id": "2c32c3f9-c5f3-42fa-b3b3-70cde775f301",
   "metadata": {},
   "outputs": [],
   "source": [
    "matched_municipal_evs.to_csv(export_to_geocode_path / f\"matched_municipal_evs{export_version}.csv\")"
   ]
  }
 ],
 "metadata": {
  "kernelspec": {
   "display_name": "Python 3 (ipykernel)",
   "language": "python",
   "name": "python3"
  },
  "language_info": {
   "codemirror_mode": {
    "name": "ipython",
    "version": 3
   },
   "file_extension": ".py",
   "mimetype": "text/x-python",
   "name": "python",
   "nbconvert_exporter": "python",
   "pygments_lexer": "ipython3",
   "version": "3.12.0"
  }
 },
 "nbformat": 4,
 "nbformat_minor": 5
}
