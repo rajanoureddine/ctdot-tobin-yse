{
 "cells": [
  {
   "cell_type": "code",
   "execution_count": 1,
   "id": "41b9adc7-3da8-4b41-9295-5477f5a65317",
   "metadata": {},
   "outputs": [],
   "source": [
    "# DataFrame Management\n",
    "import pandas as pd\n",
    "\n",
    "# Path Management\n",
    "import pathlib"
   ]
  },
  {
   "cell_type": "code",
   "execution_count": 10,
   "id": "c8747dea-870a-4614-aa35-727b88724ceb",
   "metadata": {},
   "outputs": [],
   "source": [
    "# Set path\n",
    "path = pathlib.Path().resolve()\n",
    "processed_data_path = path.parent.parent / \"data\" / \"processed_chunks_new_new\""
   ]
  },
  {
   "cell_type": "code",
   "execution_count": 14,
   "id": "3a85ed5a-79ee-4a48-99be-aedf933de391",
   "metadata": {},
   "outputs": [
    {
     "name": "stderr",
     "output_type": "stream",
     "text": [
      "/tmp/ipykernel_3495632/2710129087.py:6: DtypeWarning: Columns (6,7,10) have mixed types. Specify dtype option on import or set low_memory=False.\n",
      "  df = pd.read_csv(file)\n",
      "/tmp/ipykernel_3495632/2710129087.py:6: DtypeWarning: Columns (6,7,10) have mixed types. Specify dtype option on import or set low_memory=False.\n",
      "  df = pd.read_csv(file)\n",
      "/tmp/ipykernel_3495632/2710129087.py:6: DtypeWarning: Columns (6,7,10) have mixed types. Specify dtype option on import or set low_memory=False.\n",
      "  df = pd.read_csv(file)\n",
      "/tmp/ipykernel_3495632/2710129087.py:6: DtypeWarning: Columns (6,7,8,9,10,12) have mixed types. Specify dtype option on import or set low_memory=False.\n",
      "  df = pd.read_csv(file)\n",
      "/tmp/ipykernel_3495632/2710129087.py:6: DtypeWarning: Columns (6,7,10) have mixed types. Specify dtype option on import or set low_memory=False.\n",
      "  df = pd.read_csv(file)\n",
      "/tmp/ipykernel_3495632/2710129087.py:6: DtypeWarning: Columns (6,7,10) have mixed types. Specify dtype option on import or set low_memory=False.\n",
      "  df = pd.read_csv(file)\n"
     ]
    }
   ],
   "source": [
    "# Read in the files and keep only rows that are EVs\n",
    "output_df = pd.DataFrame([])\n",
    "\n",
    "for file in processed_data_path.iterdir():\n",
    "    if file.name[0:8] == \"matching\":\n",
    "        df = pd.read_csv(file)\n",
    "        df = df.loc[df[\"Fuel Type - Primary\"] == \"Electric\", :]\n",
    "        output_df = pd.concat([output_df, df])"
   ]
  },
  {
   "cell_type": "code",
   "execution_count": 18,
   "id": "d4e1d304-66e8-4bff-be37-eae161e14c92",
   "metadata": {},
   "outputs": [],
   "source": [
    "# output_df = output_df.drop(\"Unnamed: 0.1\", axis = 1).reset_index(drop=True)\n",
    "output_df.to_csv(path.parent.parent / \"data\" / \"municipal_dataset_extracts\" / \"all_evs.csv\")"
   ]
  }
 ],
 "metadata": {
  "kernelspec": {
   "display_name": "Python 3 (ipykernel)",
   "language": "python",
   "name": "python3"
  },
  "language_info": {
   "codemirror_mode": {
    "name": "ipython",
    "version": 3
   },
   "file_extension": ".py",
   "mimetype": "text/x-python",
   "name": "python",
   "nbconvert_exporter": "python",
   "pygments_lexer": "ipython3",
   "version": "3.12.0"
  }
 },
 "nbformat": 4,
 "nbformat_minor": 5
}
