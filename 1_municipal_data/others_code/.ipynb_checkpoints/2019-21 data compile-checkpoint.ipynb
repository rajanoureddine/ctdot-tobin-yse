{
 "cells": [
  {
   "cell_type": "code",
   "execution_count": 1,
   "metadata": {},
   "outputs": [],
   "source": [
    "import pandas as pd\n",
    "import numpy as np\n",
    "import os"
   ]
  },
  {
   "cell_type": "markdown",
   "metadata": {},
   "source": [
    "# read"
   ]
  },
  {
   "cell_type": "markdown",
   "metadata": {},
   "source": [
    "### data files"
   ]
  },
  {
   "cell_type": "code",
   "execution_count": 34,
   "metadata": {},
   "outputs": [],
   "source": [
    "try:\n",
    "    df_19 = pd.read_csv('../../1_rawdata/Vehicles_2022/Compiled/2019/vehicle_2019_compiled.csv', low_memory=False)\n",
    "except UnicodeDecodeError:\n",
    "    df_19 = pd.read_csv('../../1_rawdata/Vehicles_2022/Compiled/2019/vehicle_2019_compiled.csv', low_memory=False, encoding='latin1')\n",
    "    \n",
    "try:\n",
    "    df_20 = pd.read_csv('../../1_rawdata/Vehicles_2022/Compiled/2020/vehicle_2020_compiled.csv', low_memory=False)\n",
    "except UnicodeDecodeError:\n",
    "    df_20 = pd.read_csv('../../1_rawdata/Vehicles_2022/Compiled/2020/vehicle_2020_compiled.csv', low_memory=False, encoding='latin1')\n",
    "\n",
    "try:\n",
    "    df_21 = pd.read_csv('../../1_rawdata/Vehicles_2022/Compiled/2021/vehicle_2021_compiled.csv', low_memory=False)\n",
    "except UnicodeDecodeError:\n",
    "    df_21 = pd.read_csv('../../1_rawdata/Vehicles_2022/Compiled/2021/vehicle_2021_compiled.csv', low_memory=False, encoding='latin1')"
   ]
  },
  {
   "cell_type": "code",
   "execution_count": 35,
   "metadata": {},
   "outputs": [],
   "source": [
    "df_19_backup = df_19.copy()\n",
    "df_20_backup = df_20.copy()\n",
    "df_21_backup = df_21.copy()"
   ]
  },
  {
   "cell_type": "markdown",
   "metadata": {},
   "source": [
    "### towns w./ lease info"
   ]
  },
  {
   "cell_type": "code",
   "execution_count": 3,
   "metadata": {},
   "outputs": [],
   "source": [
    "# refer to the doc file below:\n",
    "# '../../../2019 MV Data by Town/CSVFiles2019/CT_EV_lesee_data.docx'"
   ]
  },
  {
   "cell_type": "code",
   "execution_count": 4,
   "metadata": {},
   "outputs": [],
   "source": [
    "lease_town_list = [13, 14, 20, 21, 32, 47, 55, 61, 66, 82, 93, 99, 101, 104, 105, 118, 123, 124, 130, 148]\n",
    "lease_town_list = [str(i).zfill(3) for i in lease_town_list]"
   ]
  },
  {
   "cell_type": "markdown",
   "metadata": {},
   "source": [
    "### check columns"
   ]
  },
  {
   "cell_type": "code",
   "execution_count": 10,
   "metadata": {},
   "outputs": [
    {
     "data": {
      "text/plain": [
       "True"
      ]
     },
     "execution_count": 10,
     "metadata": {},
     "output_type": "execute_result"
    }
   ],
   "source": [
    "df_19.columns.tolist().sort() == df_20.columns.tolist().sort()"
   ]
  },
  {
   "cell_type": "code",
   "execution_count": 11,
   "metadata": {},
   "outputs": [
    {
     "data": {
      "text/plain": [
       "True"
      ]
     },
     "execution_count": 11,
     "metadata": {},
     "output_type": "execute_result"
    }
   ],
   "source": [
    "df_19.columns.tolist().sort() == df_21.columns.tolist().sort()"
   ]
  },
  {
   "cell_type": "code",
   "execution_count": 12,
   "metadata": {},
   "outputs": [
    {
     "data": {
      "text/plain": [
       "Index(['record_from', 'name', 'street', 'city', 'state', 'zip', 'vehicle_year',\n",
       "       'vehicle_make', 'vehicle_model', 'vehicle_class', 'vehicle_id',\n",
       "       'lease_street', 'UID', 'lease_city', 'lease_state', 'lease_zip'],\n",
       "      dtype='object')"
      ]
     },
     "execution_count": 12,
     "metadata": {},
     "output_type": "execute_result"
    }
   ],
   "source": [
    "df_21.columns"
   ]
  },
  {
   "cell_type": "markdown",
   "metadata": {},
   "source": [
    "### target column"
   ]
  },
  {
   "cell_type": "code",
   "execution_count": 18,
   "metadata": {},
   "outputs": [],
   "source": [
    "target_col = ['record_from', 'data_year',\n",
    "       'name', 'street', 'city', 'state', 'zip', 'vehicle_year',\n",
    "       'vehicle_make', 'vehicle_model', 'vehicle_class', 'vehicle_id',\n",
    "       'is_lease_town', 'leased', \n",
    "       'lease_street', 'UID', 'lease_city', 'lease_state', 'lease_zip']"
   ]
  },
  {
   "cell_type": "markdown",
   "metadata": {},
   "source": [
    "# add lease info"
   ]
  },
  {
   "cell_type": "code",
   "execution_count": 36,
   "metadata": {},
   "outputs": [],
   "source": [
    "df_19 = df_19_backup.copy()\n",
    "df_20 = df_20_backup.copy()\n",
    "df_21 = df_21_backup.copy()"
   ]
  },
  {
   "cell_type": "code",
   "execution_count": 37,
   "metadata": {},
   "outputs": [],
   "source": [
    "# add lease_town & lease info & data_year\n",
    "def whether_lease_town(s):\n",
    "    if s[:s.find('_')].zfill(3) in lease_town_list:\n",
    "        return 1\n",
    "    else:\n",
    "        return np.nan\n",
    "\n",
    "def whether_leased(row):\n",
    "    if row['is_lease_town'] != 1:\n",
    "        return np.nan\n",
    "    else:\n",
    "        if row['street'] != row['lease_street']:\n",
    "            return 1\n",
    "        else:\n",
    "            return 0"
   ]
  },
  {
   "cell_type": "code",
   "execution_count": 38,
   "metadata": {},
   "outputs": [],
   "source": [
    "df_19['is_lease_town'] = df_19.record_from.map(whether_lease_town)\n",
    "df_19['leased'] = df_19.apply(lambda x: whether_leased(x), axis=1)\n",
    "df_19['data_year'] = '2019'"
   ]
  },
  {
   "cell_type": "code",
   "execution_count": 39,
   "metadata": {},
   "outputs": [],
   "source": [
    "df_20['is_lease_town'] = df_20.record_from.map(whether_lease_town)\n",
    "df_20['leased'] = df_20.apply(lambda x: whether_leased(x), axis=1)\n",
    "df_20['data_year'] = '2020'"
   ]
  },
  {
   "cell_type": "code",
   "execution_count": 40,
   "metadata": {},
   "outputs": [],
   "source": [
    "df_21['is_lease_town'] = df_21.record_from.map(whether_lease_town)\n",
    "df_21['leased'] = df_21.apply(lambda x: whether_leased(x), axis=1)\n",
    "df_21['data_year'] = '2021'"
   ]
  },
  {
   "cell_type": "markdown",
   "metadata": {},
   "source": [
    "# combine"
   ]
  },
  {
   "cell_type": "code",
   "execution_count": 46,
   "metadata": {},
   "outputs": [],
   "source": [
    "df_192021 = pd.DataFrame(columns=target_col)\n",
    "df_192021 = df_192021.append(df_19, ignore_index = True)\n",
    "df_192021 = df_192021.append(df_20, ignore_index = True)\n",
    "df_192021 = df_192021.append(df_21, ignore_index = True)"
   ]
  },
  {
   "cell_type": "code",
   "execution_count": 47,
   "metadata": {},
   "outputs": [],
   "source": [
    "df_192021.to_csv('../../1_rawdata/Vehicles_2022/Compiled/2019-21 data compiled.csv')"
   ]
  },
  {
   "cell_type": "code",
   "execution_count": null,
   "metadata": {},
   "outputs": [],
   "source": []
  }
 ],
 "metadata": {
  "kernelspec": {
   "display_name": "Python 3 (ipykernel)",
   "language": "python",
   "name": "python3"
  },
  "language_info": {
   "codemirror_mode": {
    "name": "ipython",
    "version": 3
   },
   "file_extension": ".py",
   "mimetype": "text/x-python",
   "name": "python",
   "nbconvert_exporter": "python",
   "pygments_lexer": "ipython3",
   "version": "3.9.12"
  },
  "vscode": {
   "interpreter": {
    "hash": "0a54084e6b208ee8d1ce3989ffc20924477a5f55f5a43e22e699a6741623861e"
   }
  }
 },
 "nbformat": 4,
 "nbformat_minor": 2
}
