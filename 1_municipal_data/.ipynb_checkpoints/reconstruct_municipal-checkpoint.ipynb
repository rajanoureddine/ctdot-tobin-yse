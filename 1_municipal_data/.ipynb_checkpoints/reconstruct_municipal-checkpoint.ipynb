{
 "cells": [
  {
   "cell_type": "markdown",
   "id": "efecb7b1",
   "metadata": {},
   "source": [
    "# Reconstructing municipal data"
   ]
  },
  {
   "cell_type": "code",
   "execution_count": 3,
   "id": "4f6dd94d-eae9-4e90-b746-a61fe42b84a1",
   "metadata": {},
   "outputs": [],
   "source": [
    "# Path Management\n",
    "import pathlib\n",
    "import os\n",
    "import sys\n",
    "\n",
    "# DataFrame Management\n",
    "import pandas as pd\n",
    "\n",
    "# Regex\n",
    "import re\n",
    "\n",
    "# Progress tracking\n",
    "from tqdm import tqdm"
   ]
  },
  {
   "cell_type": "code",
   "execution_count": 4,
   "id": "2cf56976-657b-4913-905a-7ef0d6e6a04c",
   "metadata": {},
   "outputs": [],
   "source": [
    "# Address parsing\n",
    "import usaddress"
   ]
  },
  {
   "cell_type": "markdown",
   "id": "745976e3",
   "metadata": {},
   "source": [
    "# Set up"
   ]
  },
  {
   "cell_type": "markdown",
   "id": "536aca7e",
   "metadata": {},
   "source": [
    "## Setup raw file paths"
   ]
  },
  {
   "cell_type": "markdown",
   "id": "62818f32",
   "metadata": {},
   "source": [
    "These files are in the Dropbox master folder `2019 MV Data by Town` under the respective files shown below"
   ]
  },
  {
   "cell_type": "code",
   "execution_count": 8,
   "id": "590d9415-bb9d-4845-afbc-12f570dc3dfb",
   "metadata": {},
   "outputs": [
    {
     "data": {
      "text/plain": [
       "'linux'"
      ]
     },
     "execution_count": 8,
     "metadata": {},
     "output_type": "execute_result"
    }
   ],
   "source": [
    "sys.platform"
   ]
  },
  {
   "cell_type": "code",
   "execution_count": 5,
   "id": "390f3bed-6513-4403-83ee-86569ca303ea",
   "metadata": {},
   "outputs": [],
   "source": [
    "if sys.platform == \"linux\":\n",
    "    path = pathlib.Path().resolve()\n",
    "    raw_files_20_19 = path.parent.parent / \"data\" / \"municipal_compilation\" / \"town_files_2019_2020\"\n",
    "    raw_files_21 =    path.parent.parent / \"data\" / \"municipal_compilation\" / \"town_files_2021\"\n",
    "else:\n",
    "    raw_files_20_19 = pathlib.Path().resolve().parent.parent / \"Dropbox\" / \"2019 MV Data by Town\" / \"CSVFiles2019\"\n",
    "    raw_files_21 = pathlib.Path().resolve().parent.parent / \"Dropbox\" / \"2019 MV Data by Town\" /\"Vehicles_2022\" / \"Town files\""
   ]
  },
  {
   "cell_type": "markdown",
   "id": "9bd8d36f",
   "metadata": {},
   "source": [
    "In the list comprehension, we drop files that are not required. **Note:** It would be simpler to move these unneeded files to a separate directory, but I don't do this, for replicability."
   ]
  },
  {
   "cell_type": "code",
   "execution_count": 6,
   "id": "abf22771",
   "metadata": {},
   "outputs": [
    {
     "name": "stderr",
     "output_type": "stream",
     "text": [
      "/tmp/ipykernel_2678173/2654345209.py:4: DeprecationWarning: Bitwise inversion '~' on bool is deprecated. This returns the bitwise inversion of the underlying int object and is usually not what you expect from negating a bool. Use the 'not' operator for boolean negation or ~int(x) if you really want the bitwise inversion of the underlying int.\n",
      "  & ~( (\"_old\" in filename.name) | (\"noVIN\" in filename.name) | (\"uncleaned\" in filename.name) | (\"towns\" in filename.name)))]\n"
     ]
    }
   ],
   "source": [
    "# Create lists\n",
    "list_20_19 = [filename.name for filename in raw_files_20_19.iterdir() \n",
    "              if ((filename.suffix!=\".dta\") & (filename.is_file()) \n",
    "                  & ~( (\"_old\" in filename.name) | (\"noVIN\" in filename.name) | (\"uncleaned\" in filename.name) | (\"towns\" in filename.name)))]\n",
    "list_20_19 = [x for x in list_20_19 if x not in ['CT_2019_vindecoded.csv','all_pace_missing_clean.csv']]\n",
    "list_20_19.remove(\"102_NorthStonington_MVData_2020.xlsx\")\n",
    "\n",
    "# Create 2021 lists\n",
    "list_21 = [filename.name for filename in raw_files_21.iterdir()]"
   ]
  },
  {
   "cell_type": "markdown",
   "id": "6dbe4a3f",
   "metadata": {},
   "source": [
    "We do some more manual editing of the file lists. Everything after the file `all_pace_missing_clean.csv` is not needed."
   ]
  },
  {
   "cell_type": "code",
   "execution_count": 22,
   "id": "7adf3ab5",
   "metadata": {},
   "outputs": [],
   "source": [
    "# list_20_19 = list_20_19[0:list_20_19.index('all_pace_missing_clean.csv')]\n",
    "# list_20_19.remove(\"102_NorthStonington_MVData_2020.xlsx\")"
   ]
  },
  {
   "cell_type": "code",
   "execution_count": 7,
   "id": "d34a81d9",
   "metadata": {},
   "outputs": [],
   "source": [
    "# all_raw_files is the list of files I am going to use\n",
    "all_raw_files = list_20_19 + list_21"
   ]
  },
  {
   "cell_type": "markdown",
   "id": "080a9d85",
   "metadata": {},
   "source": [
    "## Confirm these correspond to the large CSV"
   ]
  },
  {
   "cell_type": "markdown",
   "id": "00d808fd",
   "metadata": {},
   "source": [
    "To confirm I am using the correct list of files, I compare the list of files I am using to the previous version of the dataset (large_csv). "
   ]
  },
  {
   "cell_type": "code",
   "execution_count": 8,
   "id": "b56775d6",
   "metadata": {},
   "outputs": [],
   "source": [
    "if sys.platform == \"linux\":\n",
    "    large_csv = pd.read_csv(path.parent.parent / \"data\" / \"municipal_compilation\"/ \"2019-21_data_compiled_simplified_zipcitymatched.csv\", chunksize = 1000)\n",
    "else:\n",
    "    large_csv = pd.read_csv(pathlib.Path().resolve().parent / \"ignored-data\" / \"vehicles_2022\" / \"2019-21_data_compiled_simplified_zipcitymatched.csv\", chunksize = 1000)"
   ]
  },
  {
   "cell_type": "code",
   "execution_count": 9,
   "id": "b2f71b00",
   "metadata": {},
   "outputs": [
    {
     "name": "stderr",
     "output_type": "stream",
     "text": [
      "5791it [00:26, 215.45it/s]\n"
     ]
    }
   ],
   "source": [
    "large_csv_sources = []\n",
    "\n",
    "for chunk in tqdm(large_csv):\n",
    "    sources = list(chunk[\"record_from\"].unique())\n",
    "\n",
    "    for item in sources:\n",
    "        if item not in large_csv_sources:\n",
    "            large_csv_sources.append(item)"
   ]
  },
  {
   "cell_type": "code",
   "execution_count": 10,
   "id": "ad034d96",
   "metadata": {},
   "outputs": [],
   "source": [
    "# Rename\n",
    "unique_sources_large_csv = large_csv_sources"
   ]
  },
  {
   "cell_type": "markdown",
   "id": "b930b9ef",
   "metadata": {},
   "source": [
    "### Identify and resolve differences"
   ]
  },
  {
   "cell_type": "markdown",
   "id": "2c39be09",
   "metadata": {},
   "source": [
    "**Compare items that are in all_raw_files but not in the large CSV**"
   ]
  },
  {
   "cell_type": "code",
   "execution_count": 11,
   "id": "34935d1f",
   "metadata": {},
   "outputs": [
    {
     "name": "stdout",
     "output_type": "stream",
     "text": [
      "77_Manchester_MVData_2019_ALTERED.csv\n",
      "016_Bridgewater_MV_21_ALTERED.csv\n",
      "028_Colchester_MV_21_ALTERED.csv\n",
      "122_Salisbury_MV_21_ALTERED.csv\n",
      "072_Ledyard_MV_21_ALTERED.csv\n",
      "077_Manchester_MV_21_ALTERED.csv\n",
      "045_East_Lyme_MV_21_ALTERED.csv\n"
     ]
    }
   ],
   "source": [
    "for item in all_raw_files:\n",
    "    if item not in unique_sources_large_csv:\n",
    "        print(item)"
   ]
  },
  {
   "cell_type": "markdown",
   "id": "b5bc85ae",
   "metadata": {},
   "source": [
    "Thus we find that files that RN has altered, are the only files that differ between them - that makes sense."
   ]
  },
  {
   "cell_type": "markdown",
   "id": "312c410c",
   "metadata": {},
   "source": [
    "**Items that are in the large CSV but not in all raw files**"
   ]
  },
  {
   "cell_type": "code",
   "execution_count": 12,
   "id": "49cc4b84",
   "metadata": {},
   "outputs": [],
   "source": [
    "for item in unique_sources_large_csv:\n",
    "    if item not in all_raw_files:\n",
    "        print(item)"
   ]
  },
  {
   "cell_type": "markdown",
   "id": "aeb4e124",
   "metadata": {},
   "source": [
    "There are no items that are in the large CSV but not in all_raw_files. That is, all_raw_files (the file list that will be used in the remainder of this `.ipynb`) is a larger set."
   ]
  },
  {
   "cell_type": "markdown",
   "id": "2bb44ca7",
   "metadata": {},
   "source": [
    "**So all differences are now resolved.**"
   ]
  },
  {
   "cell_type": "markdown",
   "id": "82d0ceff",
   "metadata": {},
   "source": [
    "# Fix Renamer Files and Underlying Files"
   ]
  },
  {
   "cell_type": "markdown",
   "id": "307c1991",
   "metadata": {},
   "source": [
    "In this section, we **make manual changes to the renamer files.** That is, rather than rebuilding the run controller files that are used to create the renamer files, we manually change the renamer files.\n",
    "\n",
    "The renamer files are used to rename column headers in the underlying csv and xlsx files provided by the municipalities. The renamer files are created by a separate script written by Jiarong Qi (jiarong.qi@yale.edu) - we take these as a fixed input and make changes to them.\n",
    "\n",
    "A superior approach would be to make direct edits to the code that creates the renamer files. This code is to be found under `SEEDS3_SolarEVs/Jiarong/0_Codes/vehicle_registration_compile.ipynb`. We *do not make edits to that file* but instead treat its outputs as given, and directly alter them to address issues."
   ]
  },
  {
   "cell_type": "markdown",
   "id": "82076c04",
   "metadata": {},
   "source": [
    "## Confirm correspondence to the three renamer files"
   ]
  },
  {
   "cell_type": "markdown",
   "id": "5876f987",
   "metadata": {},
   "source": [
    "First, we *again* confirm that we are using the correct list of files. \n",
    "\n",
    "To do this, I place all the renamer files in a separate directory, go through them, and pull out all the filenames in the renamers (the filenames are in the column \"record_from\", that is present in each renamer file). I then confirm correspondence to `all_raw_files`."
   ]
  },
  {
   "cell_type": "code",
   "execution_count": 18,
   "id": "883fbb97",
   "metadata": {},
   "outputs": [],
   "source": [
    "if sys.platform == 'linux':\n",
    "    renamer_files_dir = path.parent.parent / \"data\" / \"municipal_compilation\" / \"renamer_files\"\n",
    "else:\n",
    "    renamer_files_dir = pathlib.Path().resolve().parent.parent / \"Dropbox\" / \"2019 MV Data by Town\" / \"RN_0923_rerun\""
   ]
  },
  {
   "cell_type": "code",
   "execution_count": 19,
   "id": "20e46fe4",
   "metadata": {},
   "outputs": [],
   "source": [
    "source_files_renamers = []\n",
    "\n",
    "for file in renamer_files_dir.iterdir():\n",
    "    df = pd.read_csv(file)\n",
    "    source_files_renamers.append(list(df[\"record_from\"]))"
   ]
  },
  {
   "cell_type": "code",
   "execution_count": 20,
   "id": "586d2d50",
   "metadata": {},
   "outputs": [],
   "source": [
    "source_files_renamers = [item for sublist in source_files_renamers for item in sublist]"
   ]
  },
  {
   "cell_type": "markdown",
   "id": "e457dc9f",
   "metadata": {},
   "source": [
    "**Confirm correspondence**"
   ]
  },
  {
   "cell_type": "code",
   "execution_count": 21,
   "id": "9868c2a0",
   "metadata": {},
   "outputs": [],
   "source": [
    "for item in source_files_renamers:\n",
    "    if item not in all_raw_files:\n",
    "        print(item)"
   ]
  },
  {
   "cell_type": "code",
   "execution_count": 22,
   "id": "92ec82d8",
   "metadata": {},
   "outputs": [
    {
     "name": "stdout",
     "output_type": "stream",
     "text": [
      "77_Manchester_MVData_2019_ALTERED.csv\n",
      "016_Bridgewater_MV_21_ALTERED.csv\n",
      "028_Colchester_MV_21_ALTERED.csv\n",
      "122_Salisbury_MV_21_ALTERED.csv\n",
      "072_Ledyard_MV_21_ALTERED.csv\n",
      "077_Manchester_MV_21_ALTERED.csv\n",
      "045_East_Lyme_MV_21_ALTERED.csv\n"
     ]
    }
   ],
   "source": [
    "for item in all_raw_files:\n",
    "    if item not in source_files_renamers:\n",
    "        print(item)"
   ]
  },
  {
   "cell_type": "markdown",
   "id": "7c8fff9b",
   "metadata": {},
   "source": [
    "This confirms that we are using the correct list of files. The ALTERED files are produced below."
   ]
  },
  {
   "cell_type": "markdown",
   "id": "99a1a7bf",
   "metadata": {},
   "source": [
    "# Make Manual Adjustments to renamer files and underlying files."
   ]
  },
  {
   "cell_type": "markdown",
   "id": "2489a00b",
   "metadata": {},
   "source": [
    "In this section, we fix two types of errors:\n",
    "* Errors in the renamer files (that are produced by the script `SEEDS3_SolarEVs/Jiarong/0_Codes/vehicle_registration_compile.ipynb`) which we do not alter. In particular, in many cases these renamer files do NOT accurately record the correct column name in the underlying file. This means that data from the underlying file is not transferred to the compiled file. We fix these errors.\n",
    "* Erros in the UNDERLYING files provided by the municipalities. For example, in some cases the Zip code and the street address are in the same column, meaning we cannot use them. The current `.ipynb` addresses these issues. Whenever we make updates to an underlying file, we re-save it with `_ALTERED.csv` at the end. See the list of altered files above."
   ]
  },
  {
   "cell_type": "markdown",
   "id": "18b1d537",
   "metadata": {},
   "source": [
    "## Load column renamers\n",
    "These are the raw column renamers produced by `SEEDS3_SolarEVs/Jiarong/0_Codes/vehicle_registration_compile.ipynb.` We copy and paste them into a separate directory for ease of use, but their original locations are under:\n",
    "* `SEEDS3_SolarEVs/1_rawdata/Vehicles_2022/compiled/2019` or `/2020` or `/2021` as `vehicle_\\{year}_column_renamer.csv`"
   ]
  },
  {
   "cell_type": "code",
   "execution_count": 23,
   "id": "e0a1c50b",
   "metadata": {},
   "outputs": [],
   "source": [
    "if sys.platform == \"linux\":\n",
    "    column_renamer_2021 = pd.read_csv(path.parent.parent / \"data\" / \"municipal_compilation\"/ \"renamer_files\"/ \"vehicle_2021_column_renamer_RN.csv\")\n",
    "    column_renamer_2020 = pd.read_csv(path.parent.parent / \"data\" / \"municipal_compilation\"/ \"renamer_files\"/ \"vehicle_2020_column_renamer_RN.csv\")\n",
    "    column_renamer_2019 = pd.read_csv(path.parent.parent / \"data\" / \"municipal_compilation\"/ \"renamer_files\"/ \"vehicle_2019_column_renamer_RN.csv\") \n",
    "else:\n",
    "    column_renamer_2021 = pd.read_csv(pathlib.Path().resolve().parent.parent / \"Dropbox\" / \"2019 MV Data by Town\" / \"RN_0923_rerun\" / \"vehicle_2021_column_renamer_RN.csv\")\n",
    "    column_renamer_2020 = pd.read_csv(pathlib.Path().resolve().parent.parent / \"Dropbox\" / \"2019 MV Data by Town\" / \"RN_0923_rerun\" / \"vehicle_2020_column_renamer_RN.csv\")\n",
    "    column_renamer_2019 = pd.read_csv(pathlib.Path().resolve().parent.parent / \"Dropbox\" / \"2019 MV Data by Town\" / \"RN_0923_rerun\" / \"vehicle_2019_column_renamer_RN.csv\") "
   ]
  },
  {
   "cell_type": "markdown",
   "id": "d8793443-1f64-4fa4-b93d-f480e200bf2b",
   "metadata": {},
   "source": [
    "### Function to alter renamers"
   ]
  },
  {
   "cell_type": "code",
   "execution_count": 24,
   "id": "1e51ef2f-3726-4ab2-a306-80950256e986",
   "metadata": {},
   "outputs": [],
   "source": [
    "def fix_renamer(year, name, change_dict):\n",
    "    renamer_dict = {\"2021\": column_renamer_2021, \"2020\" : column_renamer_2020, \"2019\":column_renamer_2019}\n",
    "    renamer_fields = {'name': None,\n",
    "                         'street': None,\n",
    "                         'city': None,\n",
    "                         'state': None,\n",
    "                         'zip': None,\n",
    "                         'vehicle_year': None,\n",
    "                         'vehicle_make': None,\n",
    "                         'vehicle_model': None,\n",
    "                         'vehicle_class': None,\n",
    "                         'vehicle_id': None,\n",
    "                         'lease_street': None,\n",
    "                         'UID': None,\n",
    "                         'lease_city': None,\n",
    "                         'lease_state': None,\n",
    "                         'lease_zip': None}\n",
    "    renamer = renamer_dict[year]\n",
    "    renamer_old = renamer.copy(deep = True)\n",
    "    town_index = renamer[renamer[\"record_from\"].str.contains(name)].index.tolist()[0]\n",
    "    print(\"-----OLD-----\")\n",
    "    print(renamer.loc[town_index])\n",
    "    for key in change_dict.keys():\n",
    "        try:\n",
    "            renamer.iloc[town_index, renamer.columns.isin([key])] = change_dict[key]\n",
    "        except:\n",
    "            print(f\"{key} not in renamer columns\")\n",
    "\n",
    "    print(\"-----NEW-----\")\n",
    "    print(renamer.loc[town_index])"
   ]
  },
  {
   "cell_type": "markdown",
   "id": "333d9569",
   "metadata": {},
   "source": [
    "### (Renamer Edits) Norwalk - 2021"
   ]
  },
  {
   "cell_type": "markdown",
   "id": "d86c8349",
   "metadata": {},
   "source": [
    "We now commence making direct edits to the renamer files. **Note:** As I wrote this code, I discovered improved ways to make these edits, so the methodology is not identical for every town. However, it should be similar."
   ]
  },
  {
   "cell_type": "code",
   "execution_count": 25,
   "id": "f5857f72",
   "metadata": {},
   "outputs": [],
   "source": [
    "# Extract the index (row number) of the relevant town in the relevant renamer file\n",
    "norwalk_index_21 = column_renamer_2021[column_renamer_2021[\"record_from\"].str.contains(\"Norwalk\")].index.tolist()[0]"
   ]
  },
  {
   "cell_type": "markdown",
   "id": "e0873017",
   "metadata": {},
   "source": [
    "Note: To work out what the column names should be, I needed to go into the underlying file. For 2021, this is to be found under `vehicles_2022/town_files` "
   ]
  },
  {
   "cell_type": "code",
   "execution_count": 26,
   "id": "44e5367f",
   "metadata": {},
   "outputs": [],
   "source": [
    "# Manually change the values\n",
    "nor_cols_21 = [\"txcm prim name full\",\"txcm prim addr1\",\"txcm prim city\",\n",
    "            \"txcm prim state\",\"txcm prim zip\",\"txcm veh year\",\n",
    "            \"txcm make\",\"txcm model\",\"txcm class\",\"txcm vin\"]\n",
    "\n",
    "for i in range(1,11):\n",
    "        column_renamer_2021.iloc[norwalk_index_21,i] = nor_cols_21[i-1]"
   ]
  },
  {
   "cell_type": "code",
   "execution_count": 27,
   "id": "6372fb0f",
   "metadata": {},
   "outputs": [
    {
     "data": {
      "text/plain": [
       "record_from      103_Norwalk_MV_21.xlsx\n",
       "name                txcm prim name full\n",
       "street                  txcm prim addr1\n",
       "city                     txcm prim city\n",
       "state                   txcm prim state\n",
       "zip                       txcm prim zip\n",
       "vehicle_year              txcm veh year\n",
       "vehicle_make                  txcm make\n",
       "vehicle_model                txcm model\n",
       "vehicle_class                txcm class\n",
       "vehicle_id                     txcm vin\n",
       "lease_street                        NaN\n",
       "UID                                 NaN\n",
       "lease_city                          NaN\n",
       "lease_state                         NaN\n",
       "lease_zip                           NaN\n",
       "Name: 140, dtype: object"
      ]
     },
     "execution_count": 27,
     "metadata": {},
     "output_type": "execute_result"
    }
   ],
   "source": [
    "column_renamer_2021.iloc[140,: ]"
   ]
  },
  {
   "cell_type": "markdown",
   "id": "65575fb9",
   "metadata": {},
   "source": [
    "### (Renamer Edits) Norwalk - 2020"
   ]
  },
  {
   "cell_type": "code",
   "execution_count": 28,
   "id": "f16fc85b",
   "metadata": {},
   "outputs": [],
   "source": [
    "# Norwalk\n",
    "norwalk_index_20 = column_renamer_2020[column_renamer_2020[\"record_from\"].str.contains(\"Norwalk\")].index.tolist()[0]"
   ]
  },
  {
   "cell_type": "code",
   "execution_count": 29,
   "id": "07e8b80d",
   "metadata": {},
   "outputs": [
    {
     "data": {
      "text/plain": [
       "record_from      103_Norwalk_MVData_2020.csv\n",
       "name                                     NaN\n",
       "street                                   NaN\n",
       "vehicle_id                               NaN\n",
       "vehicle_make                             NaN\n",
       "vehicle_model                            NaN\n",
       "vehicle_year                             NaN\n",
       "city                                     NaN\n",
       "state                                    NaN\n",
       "vehicle_class                            NaN\n",
       "zip                                      NaN\n",
       "UID                                      NaN\n",
       "lease_city                               NaN\n",
       "lease_state                              NaN\n",
       "lease_street                             NaN\n",
       "lease_zip                                NaN\n",
       "Name: 44, dtype: object"
      ]
     },
     "execution_count": 29,
     "metadata": {},
     "output_type": "execute_result"
    }
   ],
   "source": [
    "column_renamer_2020.loc[norwalk_index_20]"
   ]
  },
  {
   "cell_type": "code",
   "execution_count": 30,
   "id": "82e76898",
   "metadata": {},
   "outputs": [],
   "source": [
    "nor_cols_20 = [\"txcm prim name full\",\"txcm prim addr1\",\"txcm vin\",\n",
    "               \"txcm make\",\"txcm model\", \"txcm veh year\",\n",
    "               \"txcm prim city\", \"txcm prim state\",\"txcm class\", \n",
    "               \"txcm prim zip\"]"
   ]
  },
  {
   "cell_type": "code",
   "execution_count": 31,
   "id": "36cb32a5",
   "metadata": {},
   "outputs": [],
   "source": [
    "for i in range(1,11):\n",
    "        column_renamer_2020.iloc[norwalk_index_20,i] = nor_cols_20[i-1]"
   ]
  },
  {
   "cell_type": "code",
   "execution_count": 32,
   "id": "d5cf4f5f",
   "metadata": {},
   "outputs": [
    {
     "data": {
      "text/plain": [
       "record_from      103_Norwalk_MVData_2020.csv\n",
       "name                     txcm prim name full\n",
       "street                       txcm prim addr1\n",
       "vehicle_id                          txcm vin\n",
       "vehicle_make                       txcm make\n",
       "vehicle_model                     txcm model\n",
       "vehicle_year                   txcm veh year\n",
       "city                          txcm prim city\n",
       "state                        txcm prim state\n",
       "vehicle_class                     txcm class\n",
       "zip                            txcm prim zip\n",
       "UID                                      NaN\n",
       "lease_city                               NaN\n",
       "lease_state                              NaN\n",
       "lease_street                             NaN\n",
       "lease_zip                                NaN\n",
       "Name: 44, dtype: object"
      ]
     },
     "execution_count": 32,
     "metadata": {},
     "output_type": "execute_result"
    }
   ],
   "source": [
    "column_renamer_2020.loc[norwalk_index_20]"
   ]
  },
  {
   "cell_type": "markdown",
   "id": "bda65031",
   "metadata": {},
   "source": [
    "### (Renamer Edits & Underlying Edits) Colchester - 2021"
   ]
  },
  {
   "cell_type": "markdown",
   "id": "fad49f93",
   "metadata": {},
   "source": [
    "As can be seen below, for Colchester, it is necessary to make **direct edits to the underlying file provided by the municipality.** Therefore for this town the code comes in two sections. First, make the underlying changes, then, update the column renamer"
   ]
  },
  {
   "cell_type": "code",
   "execution_count": 33,
   "id": "cd69ca74",
   "metadata": {},
   "outputs": [],
   "source": [
    "colchester_index_21 = column_renamer_2021[column_renamer_2021[\"record_from\"].str.contains(\"Colchester\")].index.tolist()[0]"
   ]
  },
  {
   "cell_type": "code",
   "execution_count": 34,
   "id": "6a870df4",
   "metadata": {},
   "outputs": [
    {
     "data": {
      "text/plain": [
       "record_from      028_Colchester_MV_21.xlsx\n",
       "name                                   NaN\n",
       "street                             address\n",
       "city                                   NaN\n",
       "state                                  NaN\n",
       "zip                                    NaN\n",
       "vehicle_year                           NaN\n",
       "vehicle_make                           NaN\n",
       "vehicle_model                          NaN\n",
       "vehicle_class                          NaN\n",
       "vehicle_id                             NaN\n",
       "lease_street                           NaN\n",
       "UID                                    NaN\n",
       "lease_city                             NaN\n",
       "lease_state                            NaN\n",
       "lease_zip                              NaN\n",
       "Name: 149, dtype: object"
      ]
     },
     "execution_count": 34,
     "metadata": {},
     "output_type": "execute_result"
    }
   ],
   "source": [
    "column_renamer_2021.loc[colchester_index_21]"
   ]
  },
  {
   "cell_type": "markdown",
   "id": "86bab154",
   "metadata": {},
   "source": [
    "**Manual adjustments required**"
   ]
  },
  {
   "cell_type": "code",
   "execution_count": 37,
   "id": "1095c35a",
   "metadata": {},
   "outputs": [],
   "source": [
    "colchester_21 = pd.read_excel(raw_files_21 / \"028_Colchester_MV_21.xlsx\")"
   ]
  },
  {
   "cell_type": "markdown",
   "id": "0d70d5c1",
   "metadata": {},
   "source": [
    "As we can see below, the issue with this file is that the city, state, and zip are all in the same column (NOTE: If you see a city, state, and zip column separately at the end - that is because you've already run the edits below). We need to make manual edits to the file to separate these out."
   ]
  },
  {
   "cell_type": "code",
   "execution_count": 38,
   "id": "14128c58",
   "metadata": {},
   "outputs": [
    {
     "data": {
      "text/html": [
       "<div>\n",
       "<style scoped>\n",
       "    .dataframe tbody tr th:only-of-type {\n",
       "        vertical-align: middle;\n",
       "    }\n",
       "\n",
       "    .dataframe tbody tr th {\n",
       "        vertical-align: top;\n",
       "    }\n",
       "\n",
       "    .dataframe thead th {\n",
       "        text-align: right;\n",
       "    }\n",
       "</style>\n",
       "<table border=\"1\" class=\"dataframe\">\n",
       "  <thead>\n",
       "    <tr style=\"text-align: right;\">\n",
       "      <th></th>\n",
       "      <th>id</th>\n",
       "      <th>name_1</th>\n",
       "      <th>name_2</th>\n",
       "      <th>address</th>\n",
       "      <th>city_state_zip</th>\n",
       "      <th>identification</th>\n",
       "    </tr>\n",
       "  </thead>\n",
       "  <tbody>\n",
       "    <tr>\n",
       "      <th>0</th>\n",
       "      <td>50001</td>\n",
       "      <td>A BEST GUTTERS LLC</td>\n",
       "      <td>NaN</td>\n",
       "      <td>381 CABIN RD</td>\n",
       "      <td>COLCHESTER CT 06415-</td>\n",
       "      <td>5NHUCC42X8N055055</td>\n",
       "    </tr>\n",
       "    <tr>\n",
       "      <th>1</th>\n",
       "      <td>50002</td>\n",
       "      <td>A BEST GUTTERS LLC</td>\n",
       "      <td>NaN</td>\n",
       "      <td>381 CABIN RD</td>\n",
       "      <td>COLCHESTER CT 06415-</td>\n",
       "      <td>55NBE1213J1005012</td>\n",
       "    </tr>\n",
       "    <tr>\n",
       "      <th>2</th>\n",
       "      <td>50003</td>\n",
       "      <td>A BEST GUTTERS LLC</td>\n",
       "      <td>NaN</td>\n",
       "      <td>381 CABIN RD</td>\n",
       "      <td>COLCHESTER CT 06415-</td>\n",
       "      <td>1GTEC14C18Z901358</td>\n",
       "    </tr>\n",
       "  </tbody>\n",
       "</table>\n",
       "</div>"
      ],
      "text/plain": [
       "      id              name_1 name_2       address        city_state_zip  \\\n",
       "0  50001  A BEST GUTTERS LLC    NaN  381 CABIN RD  COLCHESTER CT 06415-   \n",
       "1  50002  A BEST GUTTERS LLC    NaN  381 CABIN RD  COLCHESTER CT 06415-   \n",
       "2  50003  A BEST GUTTERS LLC    NaN  381 CABIN RD  COLCHESTER CT 06415-   \n",
       "\n",
       "      identification  \n",
       "0  5NHUCC42X8N055055  \n",
       "1  55NBE1213J1005012  \n",
       "2  1GTEC14C18Z901358  "
      ]
     },
     "execution_count": 38,
     "metadata": {},
     "output_type": "execute_result"
    }
   ],
   "source": [
    "colchester_21.head(3)"
   ]
  },
  {
   "cell_type": "markdown",
   "id": "7ffdc4bc",
   "metadata": {},
   "source": [
    "This code splits out the city, state, and zip code from the one column, and turns them into three separate columns."
   ]
  },
  {
   "cell_type": "code",
   "execution_count": 39,
   "id": "80f3c61f",
   "metadata": {},
   "outputs": [],
   "source": [
    "colchester_cities = []\n",
    "colchester_zipcodes = []\n",
    "colchester_states = []\n",
    "for entry in list(colchester_21[\"city_state_zip\"]):\n",
    "    if not pd.isna(entry):\n",
    "        split = entry.split(\" \")\n",
    "        zip_code = split[len(split) - 1]\n",
    "        state = split[len(split)-2]\n",
    "        city = ' '.join(split[0:len(split)-2])\n",
    "    else:\n",
    "        zip_code = 'nan'\n",
    "        state = 'nan'\n",
    "        city = 'nan'\n",
    "\n",
    "    colchester_cities.append(city)\n",
    "    colchester_zipcodes.append(zip_code)\n",
    "    colchester_states.append(state)"
   ]
  },
  {
   "cell_type": "code",
   "execution_count": 40,
   "id": "9143e2e0",
   "metadata": {},
   "outputs": [],
   "source": [
    "colchester_21[\"city\"] = colchester_cities\n",
    "colchester_21[\"state\"] = colchester_states\n",
    "colchester_21[\"zip\"] = colchester_zipcodes"
   ]
  },
  {
   "cell_type": "code",
   "execution_count": 41,
   "id": "439ae913",
   "metadata": {},
   "outputs": [
    {
     "data": {
      "text/html": [
       "<div>\n",
       "<style scoped>\n",
       "    .dataframe tbody tr th:only-of-type {\n",
       "        vertical-align: middle;\n",
       "    }\n",
       "\n",
       "    .dataframe tbody tr th {\n",
       "        vertical-align: top;\n",
       "    }\n",
       "\n",
       "    .dataframe thead th {\n",
       "        text-align: right;\n",
       "    }\n",
       "</style>\n",
       "<table border=\"1\" class=\"dataframe\">\n",
       "  <thead>\n",
       "    <tr style=\"text-align: right;\">\n",
       "      <th></th>\n",
       "      <th>id</th>\n",
       "      <th>name_1</th>\n",
       "      <th>name_2</th>\n",
       "      <th>address</th>\n",
       "      <th>city_state_zip</th>\n",
       "      <th>identification</th>\n",
       "      <th>city</th>\n",
       "      <th>state</th>\n",
       "      <th>zip</th>\n",
       "    </tr>\n",
       "  </thead>\n",
       "  <tbody>\n",
       "    <tr>\n",
       "      <th>0</th>\n",
       "      <td>50001</td>\n",
       "      <td>A BEST GUTTERS LLC</td>\n",
       "      <td>NaN</td>\n",
       "      <td>381 CABIN RD</td>\n",
       "      <td>COLCHESTER CT 06415-</td>\n",
       "      <td>5NHUCC42X8N055055</td>\n",
       "      <td>COLCHESTER</td>\n",
       "      <td>CT</td>\n",
       "      <td>06415-</td>\n",
       "    </tr>\n",
       "    <tr>\n",
       "      <th>1</th>\n",
       "      <td>50002</td>\n",
       "      <td>A BEST GUTTERS LLC</td>\n",
       "      <td>NaN</td>\n",
       "      <td>381 CABIN RD</td>\n",
       "      <td>COLCHESTER CT 06415-</td>\n",
       "      <td>55NBE1213J1005012</td>\n",
       "      <td>COLCHESTER</td>\n",
       "      <td>CT</td>\n",
       "      <td>06415-</td>\n",
       "    </tr>\n",
       "    <tr>\n",
       "      <th>2</th>\n",
       "      <td>50003</td>\n",
       "      <td>A BEST GUTTERS LLC</td>\n",
       "      <td>NaN</td>\n",
       "      <td>381 CABIN RD</td>\n",
       "      <td>COLCHESTER CT 06415-</td>\n",
       "      <td>1GTEC14C18Z901358</td>\n",
       "      <td>COLCHESTER</td>\n",
       "      <td>CT</td>\n",
       "      <td>06415-</td>\n",
       "    </tr>\n",
       "  </tbody>\n",
       "</table>\n",
       "</div>"
      ],
      "text/plain": [
       "      id              name_1 name_2       address        city_state_zip  \\\n",
       "0  50001  A BEST GUTTERS LLC    NaN  381 CABIN RD  COLCHESTER CT 06415-   \n",
       "1  50002  A BEST GUTTERS LLC    NaN  381 CABIN RD  COLCHESTER CT 06415-   \n",
       "2  50003  A BEST GUTTERS LLC    NaN  381 CABIN RD  COLCHESTER CT 06415-   \n",
       "\n",
       "      identification        city state     zip  \n",
       "0  5NHUCC42X8N055055  COLCHESTER    CT  06415-  \n",
       "1  55NBE1213J1005012  COLCHESTER    CT  06415-  \n",
       "2  1GTEC14C18Z901358  COLCHESTER    CT  06415-  "
      ]
     },
     "execution_count": 41,
     "metadata": {},
     "output_type": "execute_result"
    }
   ],
   "source": [
    "colchester_21.head(3)"
   ]
  },
  {
   "cell_type": "markdown",
   "id": "b7286af8",
   "metadata": {},
   "source": [
    "**Edit the renamer**\n",
    "Now that we have fixed the issues in the underlying file, we make edits to the renamer file."
   ]
  },
  {
   "cell_type": "code",
   "execution_count": 42,
   "id": "3e1ffebd",
   "metadata": {},
   "outputs": [],
   "source": [
    "colchester_cols_21 = [\"name_1\", \"address\", \"city\", \"state\", \"zip\",\"\",\"\",\"\",\"\", \"identification\"]\n",
    "\n",
    "for i in [1,2,3,4,5,10]:\n",
    "        column_renamer_2021.iloc[colchester_index_21, i] = colchester_cols_21[i-1]"
   ]
  },
  {
   "cell_type": "markdown",
   "id": "3d679e15",
   "metadata": {},
   "source": [
    "Because we have made manual edits to the underlying file and will re-save the file later on with a new name, containing `_ALTERED.csv` as a suffix, we update the `record_from` column."
   ]
  },
  {
   "cell_type": "code",
   "execution_count": 43,
   "id": "130a75d4",
   "metadata": {},
   "outputs": [],
   "source": [
    "column_renamer_2021.loc[colchester_index_21, \"record_from\"] = \"028_Colchester_MV_21_ALTERED.csv\""
   ]
  },
  {
   "cell_type": "code",
   "execution_count": 44,
   "id": "6979f2ae",
   "metadata": {},
   "outputs": [
    {
     "data": {
      "text/plain": [
       "record_from      028_Colchester_MV_21_ALTERED.csv\n",
       "name                                       name_1\n",
       "street                                    address\n",
       "city                                         city\n",
       "state                                       state\n",
       "zip                                           zip\n",
       "vehicle_year                                  NaN\n",
       "vehicle_make                                  NaN\n",
       "vehicle_model                                 NaN\n",
       "vehicle_class                                 NaN\n",
       "vehicle_id                         identification\n",
       "lease_street                                  NaN\n",
       "UID                                           NaN\n",
       "lease_city                                    NaN\n",
       "lease_state                                   NaN\n",
       "lease_zip                                     NaN\n",
       "Name: 149, dtype: object"
      ]
     },
     "execution_count": 44,
     "metadata": {},
     "output_type": "execute_result"
    }
   ],
   "source": [
    " column_renamer_2021.iloc[colchester_index_21]"
   ]
  },
  {
   "cell_type": "markdown",
   "id": "a6fc1a02",
   "metadata": {},
   "source": [
    "## Salisbury 2021"
   ]
  },
  {
   "cell_type": "markdown",
   "id": "1ee0e314",
   "metadata": {},
   "source": [
    "**Manual edits required**\n",
    "\n",
    "It doesn't seem like it, but this file required manual edits to the underlying file as well - this is because the underlying file did not have any column headers at all. Consequently, I add them back in."
   ]
  },
  {
   "cell_type": "code",
   "execution_count": 45,
   "id": "03cc5832",
   "metadata": {},
   "outputs": [],
   "source": [
    "salisbury_21 = pd.read_excel(raw_files_21 / \"122_Salisbury_MV_21.xlsx\", header = None)\n",
    "salisbury_21.columns = [\"name\", \"street\", \"city\", \"state\", \"zip\", \"vehicle_year\", \"vehicle_make\", \"vehicle_model\", \"unknown\", \"vehicle_id\"]\n",
    "salisbury_21 = salisbury_21.drop(\"unknown\", axis =1)"
   ]
  },
  {
   "cell_type": "code",
   "execution_count": 46,
   "id": "3b80b11c",
   "metadata": {},
   "outputs": [
    {
     "data": {
      "text/html": [
       "<div>\n",
       "<style scoped>\n",
       "    .dataframe tbody tr th:only-of-type {\n",
       "        vertical-align: middle;\n",
       "    }\n",
       "\n",
       "    .dataframe tbody tr th {\n",
       "        vertical-align: top;\n",
       "    }\n",
       "\n",
       "    .dataframe thead th {\n",
       "        text-align: right;\n",
       "    }\n",
       "</style>\n",
       "<table border=\"1\" class=\"dataframe\">\n",
       "  <thead>\n",
       "    <tr style=\"text-align: right;\">\n",
       "      <th></th>\n",
       "      <th>name</th>\n",
       "      <th>street</th>\n",
       "      <th>city</th>\n",
       "      <th>state</th>\n",
       "      <th>zip</th>\n",
       "      <th>vehicle_year</th>\n",
       "      <th>vehicle_make</th>\n",
       "      <th>vehicle_model</th>\n",
       "      <th>vehicle_id</th>\n",
       "    </tr>\n",
       "  </thead>\n",
       "  <tbody>\n",
       "    <tr>\n",
       "      <th>0</th>\n",
       "      <td>ABENDROTH MAXWELL H</td>\n",
       "      <td>211 INDIAN MTN RD</td>\n",
       "      <td>LAKEVILLE</td>\n",
       "      <td>CT</td>\n",
       "      <td>6039</td>\n",
       "      <td>2015</td>\n",
       "      <td>VOLKS</td>\n",
       "      <td>PASSAT S</td>\n",
       "      <td>1VWAT7A36FC096475</td>\n",
       "    </tr>\n",
       "  </tbody>\n",
       "</table>\n",
       "</div>"
      ],
      "text/plain": [
       "                  name             street       city state   zip  \\\n",
       "0  ABENDROTH MAXWELL H  211 INDIAN MTN RD  LAKEVILLE    CT  6039   \n",
       "\n",
       "   vehicle_year vehicle_make vehicle_model         vehicle_id  \n",
       "0          2015        VOLKS      PASSAT S  1VWAT7A36FC096475  "
      ]
     },
     "execution_count": 46,
     "metadata": {},
     "output_type": "execute_result"
    }
   ],
   "source": [
    "salisbury_21.head(1)"
   ]
  },
  {
   "cell_type": "markdown",
   "id": "e52c0ca7",
   "metadata": {},
   "source": [
    "**Make edits to the renamer**\n",
    "\n",
    "Having rectified the issues in the underlying file, I make edits to the renamer file."
   ]
  },
  {
   "cell_type": "markdown",
   "id": "c02103b3-b364-46dc-8291-9ff3785566a1",
   "metadata": {},
   "source": [
    "### Salisbury 2021"
   ]
  },
  {
   "cell_type": "code",
   "execution_count": 163,
   "id": "5894a3ef-4e45-4fa7-85d1-2decedb81535",
   "metadata": {},
   "outputs": [],
   "source": [
    "salisbury_rename_dict = {\"record_from\":\"122_Salisbury_MV_21_ALTERED.csv\",\n",
    "                        \"name\" : \"name\",\n",
    "                          \"street\" : \"street\",\n",
    "                          \"city\" : \"city\", \n",
    "                          \"state\" :\"state\",\n",
    "                          \"zip\":\"zip\",\n",
    "                          \"vehicle_year\" :\"vehicle_year\",\n",
    "                          \"vehicle_make\" :\"vehicle_make\", \n",
    "                          \"vehicle_model\" : \"vehicle_model\",\n",
    "                          \"vehicle_id\":\"vehicle_id\"}"
   ]
  },
  {
   "cell_type": "code",
   "execution_count": 164,
   "id": "755d7071-d8f6-4df0-ab7d-4e75f6ba2707",
   "metadata": {},
   "outputs": [
    {
     "name": "stdout",
     "output_type": "stream",
     "text": [
      "-----OLD-----\n",
      "record_from      122_Salisbury_MV_21_ALTERED.xlsx\n",
      "name                                         name\n",
      "street                                     street\n",
      "city                                         city\n",
      "state                                       state\n",
      "zip                                           zip\n",
      "vehicle_year                         vehicle_year\n",
      "vehicle_make                         vehicle_make\n",
      "vehicle_model                       vehicle_model\n",
      "vehicle_class                                 NaN\n",
      "vehicle_id                             vehicle_id\n",
      "lease_street                                  NaN\n",
      "UID                                           NaN\n",
      "lease_city                                    NaN\n",
      "lease_state                                   NaN\n",
      "lease_zip                                     NaN\n",
      "Name: 96, dtype: object\n",
      "-----NEW-----\n",
      "record_from      122_Salisbury_MV_21_ALTERED.csv\n",
      "name                                        name\n",
      "street                                    street\n",
      "city                                        city\n",
      "state                                      state\n",
      "zip                                          zip\n",
      "vehicle_year                        vehicle_year\n",
      "vehicle_make                        vehicle_make\n",
      "vehicle_model                      vehicle_model\n",
      "vehicle_class                                NaN\n",
      "vehicle_id                            vehicle_id\n",
      "lease_street                                 NaN\n",
      "UID                                          NaN\n",
      "lease_city                                   NaN\n",
      "lease_state                                  NaN\n",
      "lease_zip                                    NaN\n",
      "Name: 96, dtype: object\n"
     ]
    }
   ],
   "source": [
    "fix_renamer(\"2021\", \"Salisbury\", salisbury_rename_dict)"
   ]
  },
  {
   "cell_type": "markdown",
   "id": "9dcd0e46",
   "metadata": {},
   "source": [
    "### Torrington 2021"
   ]
  },
  {
   "cell_type": "code",
   "execution_count": 49,
   "id": "8e7497ae",
   "metadata": {},
   "outputs": [
    {
     "data": {
      "text/plain": [
       "record_from      143_Torrington_MV_21.xlsx\n",
       "name                              TAXPAYER\n",
       "street                              STREET\n",
       "city                                  CITY\n",
       "state                                STATE\n",
       "zip                               ZIP CODE\n",
       "vehicle_year                  VEHICLE YEAR\n",
       "vehicle_make                           NaN\n",
       "vehicle_model                VEHICLE MODEL\n",
       "vehicle_class                          NaN\n",
       "vehicle_id                      VEHICLE ID\n",
       "lease_street                           NaN\n",
       "UID                                    NaN\n",
       "lease_city                             NaN\n",
       "lease_state                            NaN\n",
       "lease_zip                              NaN\n",
       "Name: 115, dtype: object"
      ]
     },
     "execution_count": 49,
     "metadata": {},
     "output_type": "execute_result"
    }
   ],
   "source": [
    "torrington_index_21 = column_renamer_2021[column_renamer_2021[\"record_from\"].str.contains(\"Torrington\")].index.tolist()[0]\n",
    "column_renamer_2021.iloc[torrington_index_21, column_renamer_2021.columns.isin([\"vehicle_id\"])] = \"VEHICLE ID\"\n",
    "column_renamer_2021.loc[torrington_index_21]"
   ]
  },
  {
   "cell_type": "markdown",
   "id": "af6c2c00",
   "metadata": {},
   "source": [
    "### Shelton - 2021"
   ]
  },
  {
   "cell_type": "code",
   "execution_count": 50,
   "id": "e83a43d7",
   "metadata": {},
   "outputs": [
    {
     "data": {
      "text/plain": [
       "record_from      126_Shelton_MV_21.xlsx\n",
       "name                           TAXPAYER\n",
       "street                           STREET\n",
       "city                               CITY\n",
       "state                             STATE\n",
       "zip                                ZIP1\n",
       "vehicle_year                       YEAR\n",
       "vehicle_make                       MAKE\n",
       "vehicle_model                     MODEL\n",
       "vehicle_class                     CLASS\n",
       "vehicle_id                        VIN #\n",
       "lease_street                        NaN\n",
       "UID                                 NaN\n",
       "lease_city                          NaN\n",
       "lease_state                         NaN\n",
       "lease_zip                           NaN\n",
       "Name: 100, dtype: object"
      ]
     },
     "execution_count": 50,
     "metadata": {},
     "output_type": "execute_result"
    }
   ],
   "source": [
    "shelton_index_21 = column_renamer_2021[column_renamer_2021[\"record_from\"].str.contains(\"Shelton\")].index.tolist()[0]\n",
    "column_renamer_2021.iloc[shelton_index_21, column_renamer_2021.columns.isin([\"vehicle_id\"])] = \"VIN #\"\n",
    "column_renamer_2021.loc[shelton_index_21]"
   ]
  },
  {
   "cell_type": "markdown",
   "id": "ccb919dd",
   "metadata": {},
   "source": [
    "### Bethel - 2021"
   ]
  },
  {
   "cell_type": "code",
   "execution_count": 51,
   "id": "afe95cca",
   "metadata": {},
   "outputs": [
    {
     "data": {
      "text/plain": [
       "record_from      009_Bethel_MV_21.xlsx\n",
       "name                          Taxpayer\n",
       "street                 Mailing Address\n",
       "city                              City\n",
       "state                           State \n",
       "zip                                Zip\n",
       "vehicle_year                      Year\n",
       "vehicle_make                      Make\n",
       "vehicle_model                      NaN\n",
       "vehicle_class                    Class\n",
       "vehicle_id                 Vehicle Vin\n",
       "lease_street         Residence Address\n",
       "UID                                NaN\n",
       "lease_city                         NaN\n",
       "lease_state                        NaN\n",
       "lease_zip                          NaN\n",
       "Name: 8, dtype: object"
      ]
     },
     "execution_count": 51,
     "metadata": {},
     "output_type": "execute_result"
    }
   ],
   "source": [
    "bethel_index_21 = column_renamer_2021[column_renamer_2021[\"record_from\"].str.contains(\"Bethel\")].index.tolist()[0]\n",
    "column_renamer_2021.iloc[bethel_index_21, column_renamer_2021.columns.isin([\"street\"])] = \"Mailing Address\"\n",
    "column_renamer_2021.loc[bethel_index_21]"
   ]
  },
  {
   "cell_type": "markdown",
   "id": "3ff1b3d3",
   "metadata": {},
   "source": [
    "### Manchester - 2021"
   ]
  },
  {
   "cell_type": "markdown",
   "id": "55d07fc0",
   "metadata": {},
   "source": [
    "**Manual edits required**\n",
    "\n",
    "In this case, some of the critical columns we require were unnamed in the underlying file, so we give them column names."
   ]
  },
  {
   "cell_type": "code",
   "execution_count": 53,
   "id": "a35bae32-d419-4e55-878d-52a841a4f90c",
   "metadata": {},
   "outputs": [
    {
     "name": "stdout",
     "output_type": "stream",
     "text": [
      "Collecting xlrd\n",
      "  Downloading xlrd-2.0.1-py2.py3-none-any.whl (96 kB)\n",
      "\u001b[2K     \u001b[90m━━━━━━━━━━━━━━━━━━━━━━━━━━━━━━━━━━━━━━━━\u001b[0m \u001b[32m96.5/96.5 kB\u001b[0m \u001b[31m1.7 MB/s\u001b[0m eta \u001b[36m0:00:00\u001b[0ma \u001b[36m0:00:01\u001b[0m\n",
      "\u001b[?25hInstalling collected packages: xlrd\n",
      "Successfully installed xlrd-2.0.1\n"
     ]
    }
   ],
   "source": [
    "!pip install xlrd"
   ]
  },
  {
   "cell_type": "code",
   "execution_count": 54,
   "id": "05c2c6ad",
   "metadata": {},
   "outputs": [],
   "source": [
    "manchester_21 = pd.read_excel(raw_files_21 / \"077_Manchester_MV_21.xls\")"
   ]
  },
  {
   "cell_type": "code",
   "execution_count": 55,
   "id": "e7bac097",
   "metadata": {},
   "outputs": [
    {
     "data": {
      "text/html": [
       "<div>\n",
       "<style scoped>\n",
       "    .dataframe tbody tr th:only-of-type {\n",
       "        vertical-align: middle;\n",
       "    }\n",
       "\n",
       "    .dataframe tbody tr th {\n",
       "        vertical-align: top;\n",
       "    }\n",
       "\n",
       "    .dataframe thead th {\n",
       "        text-align: right;\n",
       "    }\n",
       "</style>\n",
       "<table border=\"1\" class=\"dataframe\">\n",
       "  <thead>\n",
       "    <tr style=\"text-align: right;\">\n",
       "      <th></th>\n",
       "      <th>#</th>\n",
       "      <th>LIST #</th>\n",
       "      <th>TAXPAYER</th>\n",
       "      <th>CARE OF</th>\n",
       "      <th>MAILING ADDRESS</th>\n",
       "      <th>city</th>\n",
       "      <th>state</th>\n",
       "      <th>zip</th>\n",
       "      <th>Unnamed: 8</th>\n",
       "      <th>Unnamed: 9</th>\n",
       "      <th>TAX DIST</th>\n",
       "      <th>YEAR</th>\n",
       "      <th>MAKE</th>\n",
       "      <th>MODEL</th>\n",
       "      <th>CLASS CODE</th>\n",
       "      <th>VIN NUMBER</th>\n",
       "      <th>STYLE</th>\n",
       "      <th>COLOR</th>\n",
       "      <th>ASMNT</th>\n",
       "    </tr>\n",
       "  </thead>\n",
       "  <tbody>\n",
       "    <tr>\n",
       "      <th>0</th>\n",
       "      <td>1.0</td>\n",
       "      <td>50001.0</td>\n",
       "      <td>@URSVC LLC</td>\n",
       "      <td></td>\n",
       "      <td>2 WILLOWBROOK RD</td>\n",
       "      <td>CROMWELL</td>\n",
       "      <td>CT</td>\n",
       "      <td>06416</td>\n",
       "      <td>-</td>\n",
       "      <td>2505</td>\n",
       "      <td>T</td>\n",
       "      <td>2013.0</td>\n",
       "      <td>CADIL</td>\n",
       "      <td>SRX PREM</td>\n",
       "      <td>1.0</td>\n",
       "      <td>3GYFNJE33DS595309</td>\n",
       "      <td>WAGON</td>\n",
       "      <td>BLA</td>\n",
       "      <td>10890.0</td>\n",
       "    </tr>\n",
       "    <tr>\n",
       "      <th>1</th>\n",
       "      <td>2.0</td>\n",
       "      <td>50002.0</td>\n",
       "      <td>1 800 DUMP RUNS OF HARTFORD LLC</td>\n",
       "      <td></td>\n",
       "      <td>PO BOX 8231</td>\n",
       "      <td>MANCHESTER</td>\n",
       "      <td>CT</td>\n",
       "      <td>06040</td>\n",
       "      <td>-</td>\n",
       "      <td>0231</td>\n",
       "      <td>E</td>\n",
       "      <td>2004.0</td>\n",
       "      <td>ISUZU</td>\n",
       "      <td>FRR</td>\n",
       "      <td>2.0</td>\n",
       "      <td>JALF5C13547700369</td>\n",
       "      <td>TILT C</td>\n",
       "      <td>WHI</td>\n",
       "      <td>6510.0</td>\n",
       "    </tr>\n",
       "    <tr>\n",
       "      <th>2</th>\n",
       "      <td>3.0</td>\n",
       "      <td>50003.0</td>\n",
       "      <td>1 800 DUMP RUNS OF HARTFORD LLC</td>\n",
       "      <td></td>\n",
       "      <td>PO BOX 8231</td>\n",
       "      <td>MANCHESTER</td>\n",
       "      <td>CT</td>\n",
       "      <td>06040</td>\n",
       "      <td>-</td>\n",
       "      <td>0231</td>\n",
       "      <td>E</td>\n",
       "      <td>2004.0</td>\n",
       "      <td>UDUMP</td>\n",
       "      <td>61214R0</td>\n",
       "      <td>10.0</td>\n",
       "      <td>43ZDN22B340000019</td>\n",
       "      <td>TRAILE</td>\n",
       "      <td>BLA</td>\n",
       "      <td>550.0</td>\n",
       "    </tr>\n",
       "    <tr>\n",
       "      <th>3</th>\n",
       "      <td>4.0</td>\n",
       "      <td>50004.0</td>\n",
       "      <td>1 800 DUMP RUNS OF HARTFORD LLC</td>\n",
       "      <td></td>\n",
       "      <td>PO BOX 8231</td>\n",
       "      <td>MANCHESTER</td>\n",
       "      <td>CT</td>\n",
       "      <td>06040</td>\n",
       "      <td>-</td>\n",
       "      <td>0231</td>\n",
       "      <td>E</td>\n",
       "      <td>1998.0</td>\n",
       "      <td>WELD</td>\n",
       "      <td>UTILITY</td>\n",
       "      <td>10.0</td>\n",
       "      <td>1J9HH2421W1118262</td>\n",
       "      <td>TRAILE</td>\n",
       "      <td>BLA</td>\n",
       "      <td>550.0</td>\n",
       "    </tr>\n",
       "    <tr>\n",
       "      <th>4</th>\n",
       "      <td>5.0</td>\n",
       "      <td>50005.0</td>\n",
       "      <td>1 800 DUMP RUNS OF HARTFORD LLC</td>\n",
       "      <td></td>\n",
       "      <td>PO BOX 8231</td>\n",
       "      <td>MANCHESTER</td>\n",
       "      <td>CT</td>\n",
       "      <td>06040</td>\n",
       "      <td>-</td>\n",
       "      <td>0231</td>\n",
       "      <td>E</td>\n",
       "      <td>2007.0</td>\n",
       "      <td>KENWO</td>\n",
       "      <td>CONSTRUC</td>\n",
       "      <td>2.0</td>\n",
       "      <td>2NKMHZ7X07M210675</td>\n",
       "      <td>HOIST</td>\n",
       "      <td>WHI</td>\n",
       "      <td>12580.0</td>\n",
       "    </tr>\n",
       "    <tr>\n",
       "      <th>...</th>\n",
       "      <td>...</td>\n",
       "      <td>...</td>\n",
       "      <td>...</td>\n",
       "      <td>...</td>\n",
       "      <td>...</td>\n",
       "      <td>...</td>\n",
       "      <td>...</td>\n",
       "      <td>...</td>\n",
       "      <td>...</td>\n",
       "      <td>...</td>\n",
       "      <td>...</td>\n",
       "      <td>...</td>\n",
       "      <td>...</td>\n",
       "      <td>...</td>\n",
       "      <td>...</td>\n",
       "      <td>...</td>\n",
       "      <td>...</td>\n",
       "      <td>...</td>\n",
       "      <td>...</td>\n",
       "    </tr>\n",
       "    <tr>\n",
       "      <th>44482</th>\n",
       "      <td>44483.0</td>\n",
       "      <td>95117.0</td>\n",
       "      <td>ZYSK DONALD R</td>\n",
       "      <td></td>\n",
       "      <td>197 GARDNER ST</td>\n",
       "      <td>MANCHESTER</td>\n",
       "      <td>CT</td>\n",
       "      <td>06040</td>\n",
       "      <td>-</td>\n",
       "      <td>6754</td>\n",
       "      <td>T</td>\n",
       "      <td>2009.0</td>\n",
       "      <td>FORD</td>\n",
       "      <td>F150</td>\n",
       "      <td>1.0</td>\n",
       "      <td>1FTRF12859KB23566</td>\n",
       "      <td>PICKUP</td>\n",
       "      <td>WHI</td>\n",
       "      <td>6860.0</td>\n",
       "    </tr>\n",
       "    <tr>\n",
       "      <th>44483</th>\n",
       "      <td>44484.0</td>\n",
       "      <td>95118.0</td>\n",
       "      <td>ZYSK DONALD R</td>\n",
       "      <td></td>\n",
       "      <td>197 GARDNER ST</td>\n",
       "      <td>MANCHESTER</td>\n",
       "      <td>CT</td>\n",
       "      <td>06040</td>\n",
       "      <td>-</td>\n",
       "      <td>6754</td>\n",
       "      <td>T</td>\n",
       "      <td>2010.0</td>\n",
       "      <td>NISSA</td>\n",
       "      <td>ALTIMA 2</td>\n",
       "      <td>1.0</td>\n",
       "      <td>1N4AL2AP2AN549552</td>\n",
       "      <td>SEDAN</td>\n",
       "      <td>GRA</td>\n",
       "      <td>4220.0</td>\n",
       "    </tr>\n",
       "    <tr>\n",
       "      <th>44484</th>\n",
       "      <td>NaN</td>\n",
       "      <td>NaN</td>\n",
       "      <td>NaN</td>\n",
       "      <td>NaN</td>\n",
       "      <td>NaN</td>\n",
       "      <td>NaN</td>\n",
       "      <td>NaN</td>\n",
       "      <td>NaN</td>\n",
       "      <td>NaN</td>\n",
       "      <td>NaN</td>\n",
       "      <td>NaN</td>\n",
       "      <td>NaN</td>\n",
       "      <td>NaN</td>\n",
       "      <td>NaN</td>\n",
       "      <td>NaN</td>\n",
       "      <td>NaN</td>\n",
       "      <td>NaN</td>\n",
       "      <td>NaN</td>\n",
       "      <td>NaN</td>\n",
       "    </tr>\n",
       "    <tr>\n",
       "      <th>44485</th>\n",
       "      <td>NaN</td>\n",
       "      <td>NaN</td>\n",
       "      <td>NaN</td>\n",
       "      <td>NaN</td>\n",
       "      <td>NaN</td>\n",
       "      <td>NaN</td>\n",
       "      <td>NaN</td>\n",
       "      <td>NaN</td>\n",
       "      <td>NaN</td>\n",
       "      <td>NaN</td>\n",
       "      <td>NaN</td>\n",
       "      <td>NaN</td>\n",
       "      <td>NaN</td>\n",
       "      <td>NaN</td>\n",
       "      <td>NaN</td>\n",
       "      <td>NaN</td>\n",
       "      <td>NaN</td>\n",
       "      <td>NaN</td>\n",
       "      <td>NaN</td>\n",
       "    </tr>\n",
       "    <tr>\n",
       "      <th>44486</th>\n",
       "      <td>NaN</td>\n",
       "      <td>NaN</td>\n",
       "      <td>NaN</td>\n",
       "      <td>NaN</td>\n",
       "      <td>NaN</td>\n",
       "      <td>NaN</td>\n",
       "      <td>NaN</td>\n",
       "      <td>NaN</td>\n",
       "      <td>NaN</td>\n",
       "      <td>NaN</td>\n",
       "      <td>NaN</td>\n",
       "      <td>NaN</td>\n",
       "      <td>NaN</td>\n",
       "      <td>NaN</td>\n",
       "      <td>NaN</td>\n",
       "      <td>462643140</td>\n",
       "      <td>NaN</td>\n",
       "      <td>NaN</td>\n",
       "      <td>NaN</td>\n",
       "    </tr>\n",
       "  </tbody>\n",
       "</table>\n",
       "<p>44487 rows × 19 columns</p>\n",
       "</div>"
      ],
      "text/plain": [
       "             #   LIST #                                  TAXPAYER  \\\n",
       "0          1.0  50001.0  @URSVC LLC                                 \n",
       "1          2.0  50002.0  1 800 DUMP RUNS OF HARTFORD LLC            \n",
       "2          3.0  50003.0  1 800 DUMP RUNS OF HARTFORD LLC            \n",
       "3          4.0  50004.0  1 800 DUMP RUNS OF HARTFORD LLC            \n",
       "4          5.0  50005.0  1 800 DUMP RUNS OF HARTFORD LLC            \n",
       "...        ...      ...                                       ...   \n",
       "44482  44483.0  95117.0  ZYSK DONALD R                              \n",
       "44483  44484.0  95118.0  ZYSK DONALD R                              \n",
       "44484      NaN      NaN                                       NaN   \n",
       "44485      NaN      NaN                                       NaN   \n",
       "44486      NaN      NaN                                       NaN   \n",
       "\n",
       "                              CARE OF                 MAILING ADDRESS  \\\n",
       "0                                      2 WILLOWBROOK RD                 \n",
       "1                                      PO BOX 8231                      \n",
       "2                                      PO BOX 8231                      \n",
       "3                                      PO BOX 8231                      \n",
       "4                                      PO BOX 8231                      \n",
       "...                               ...                             ...   \n",
       "44482                                  197 GARDNER ST                   \n",
       "44483                                  197 GARDNER ST                   \n",
       "44484                             NaN                             NaN   \n",
       "44485                             NaN                             NaN   \n",
       "44486                             NaN                             NaN   \n",
       "\n",
       "                                 city state    zip Unnamed: 8 Unnamed: 9  \\\n",
       "0      CROMWELL                          CT  06416          -       2505   \n",
       "1      MANCHESTER                        CT  06040          -       0231   \n",
       "2      MANCHESTER                        CT  06040          -       0231   \n",
       "3      MANCHESTER                        CT  06040          -       0231   \n",
       "4      MANCHESTER                        CT  06040          -       0231   \n",
       "...                               ...   ...    ...        ...        ...   \n",
       "44482  MANCHESTER                        CT  06040          -       6754   \n",
       "44483  MANCHESTER                        CT  06040          -       6754   \n",
       "44484                             NaN   NaN    NaN        NaN        NaN   \n",
       "44485                             NaN   NaN    NaN        NaN        NaN   \n",
       "44486                             NaN   NaN    NaN        NaN        NaN   \n",
       "\n",
       "      TAX DIST    YEAR   MAKE     MODEL  CLASS CODE         VIN NUMBER  \\\n",
       "0           T   2013.0  CADIL  SRX PREM         1.0  3GYFNJE33DS595309   \n",
       "1           E   2004.0  ISUZU  FRR              2.0  JALF5C13547700369   \n",
       "2           E   2004.0  UDUMP  61214R0         10.0  43ZDN22B340000019   \n",
       "3           E   1998.0  WELD   UTILITY         10.0  1J9HH2421W1118262   \n",
       "4           E   2007.0  KENWO  CONSTRUC         2.0  2NKMHZ7X07M210675   \n",
       "...        ...     ...    ...       ...         ...                ...   \n",
       "44482       T   2009.0  FORD   F150             1.0  1FTRF12859KB23566   \n",
       "44483       T   2010.0  NISSA  ALTIMA 2         1.0  1N4AL2AP2AN549552   \n",
       "44484      NaN     NaN    NaN       NaN         NaN                NaN   \n",
       "44485      NaN     NaN    NaN       NaN         NaN                NaN   \n",
       "44486      NaN     NaN    NaN       NaN         NaN          462643140   \n",
       "\n",
       "        STYLE COLOR    ASMNT  \n",
       "0      WAGON    BLA  10890.0  \n",
       "1      TILT C   WHI   6510.0  \n",
       "2      TRAILE   BLA    550.0  \n",
       "3      TRAILE   BLA    550.0  \n",
       "4      HOIST    WHI  12580.0  \n",
       "...       ...   ...      ...  \n",
       "44482  PICKUP   WHI   6860.0  \n",
       "44483  SEDAN    GRA   4220.0  \n",
       "44484     NaN   NaN      NaN  \n",
       "44485     NaN   NaN      NaN  \n",
       "44486     NaN   NaN      NaN  \n",
       "\n",
       "[44487 rows x 19 columns]"
      ]
     },
     "execution_count": 55,
     "metadata": {},
     "output_type": "execute_result"
    }
   ],
   "source": [
    "manchester_21 = manchester_21.rename(columns = {\"Unnamed: 5\": \"city\",\n",
    "                                      \"Unnamed: 6\":\"state\",\n",
    "                                      \"Unnamed: 7\":\"zip\"})\n",
    "manchester_21"
   ]
  },
  {
   "cell_type": "markdown",
   "id": "6d91d13b",
   "metadata": {},
   "source": [
    "**Make edits to the column renamer**\n",
    "\n",
    "A different technique here is used to update the column renamer. I use the `.loc[]` method on the DataFrame object. "
   ]
  },
  {
   "cell_type": "code",
   "execution_count": 56,
   "id": "8b638398",
   "metadata": {},
   "outputs": [],
   "source": [
    "manchester_index_21 = column_renamer_2021[column_renamer_2021[\"record_from\"].str.contains(\"Manchester\")].index.tolist()[0]\n",
    "column_renamer_2021.iloc[manchester_index_21, column_renamer_2021.columns.isin([\"street\"])] = \"MAILING ADDRESS\"\n",
    "column_renamer_2021.iloc[manchester_index_21, column_renamer_2021.columns.isin([\"city\"])] = \"city\"\n",
    "column_renamer_2021.iloc[manchester_index_21, column_renamer_2021.columns.isin([\"state\"])] = \"state\"\n",
    "column_renamer_2021.iloc[manchester_index_21, column_renamer_2021.columns.isin([\"zip\"])] = \"zip\""
   ]
  },
  {
   "cell_type": "markdown",
   "id": "5a2ec96a",
   "metadata": {},
   "source": [
    "This part is important - when we alter the file, we re-save it with `_ALTERED` at the end (this happens later). Therefore we must update the `record_from` column with the new filename (again, there are probably better ways to do this)"
   ]
  },
  {
   "cell_type": "code",
   "execution_count": 57,
   "id": "0afeb3f5",
   "metadata": {},
   "outputs": [
    {
     "data": {
      "text/plain": [
       "record_from      077_Manchester_MV_21_ALTERED.csv\n",
       "name                                     TAXPAYER\n",
       "street                            MAILING ADDRESS\n",
       "city                                         city\n",
       "state                                       state\n",
       "zip                                           zip\n",
       "vehicle_year                                 YEAR\n",
       "vehicle_make                                 MAKE\n",
       "vehicle_model                               MODEL\n",
       "vehicle_class                          CLASS CODE\n",
       "vehicle_id                             VIN NUMBER\n",
       "lease_street                                  NaN\n",
       "UID                                        LIST #\n",
       "lease_city                                    NaN\n",
       "lease_state                                   NaN\n",
       "lease_zip                                     NaN\n",
       "Name: 61, dtype: object"
      ]
     },
     "execution_count": 57,
     "metadata": {},
     "output_type": "execute_result"
    }
   ],
   "source": [
    "column_renamer_2021.loc[manchester_index_21, \"record_from\"] = \"077_Manchester_MV_21_ALTERED.csv\"\n",
    "column_renamer_2021.loc[manchester_index_21]"
   ]
  },
  {
   "cell_type": "markdown",
   "id": "70c6192a",
   "metadata": {},
   "source": [
    "### Norfolk - 2021\n",
    "**NOTE that I have placed `RESIDENCE_STREET` as the street address**"
   ]
  },
  {
   "cell_type": "code",
   "execution_count": 58,
   "id": "7f3acebe",
   "metadata": {},
   "outputs": [
    {
     "data": {
      "text/plain": [
       "record_from      098_Norfolk_MV_21.xlsx\n",
       "name                           TAXPAYER\n",
       "street                 RESIDENCE_STREET\n",
       "city                     RESIDENCE_CITY\n",
       "state                               NaN\n",
       "zip                                 NaN\n",
       "vehicle_year               VEHICLE_YEAR\n",
       "vehicle_make               VEHICLE_MAKE\n",
       "vehicle_model             VEHICLE_MODEL\n",
       "vehicle_class             VEHICLE_CLASS\n",
       "vehicle_id                   VEHICLE_ID\n",
       "lease_street           RESIDENCE_STREET\n",
       "UID                                 NaN\n",
       "lease_city               RESIDENCE_CITY\n",
       "lease_state                         NaN\n",
       "lease_zip                           NaN\n",
       "Name: 77, dtype: object"
      ]
     },
     "execution_count": 58,
     "metadata": {},
     "output_type": "execute_result"
    }
   ],
   "source": [
    "norfolk_index_21 = column_renamer_2021[column_renamer_2021[\"record_from\"].str.contains(\"Norfolk\")].index.tolist()[0]\n",
    "column_renamer_2021.iloc[norfolk_index_21, column_renamer_2021.columns.isin([\"street\"])] = \"RESIDENCE_STREET\"\n",
    "column_renamer_2021.iloc[norfolk_index_21, column_renamer_2021.columns.isin([\"city\"])] = \"RESIDENCE_CITY\"\n",
    "column_renamer_2021.iloc[norfolk_index_21]"
   ]
  },
  {
   "cell_type": "markdown",
   "id": "97b34cd5",
   "metadata": {},
   "source": [
    "### Thompson - 2021"
   ]
  },
  {
   "cell_type": "code",
   "execution_count": 59,
   "id": "423ab0be",
   "metadata": {},
   "outputs": [
    {
     "data": {
      "text/plain": [
       "record_from      141_Thompson_MV_21.xlsx\n",
       "name                       taxpayer_name\n",
       "street                            street\n",
       "city                                 NaN\n",
       "state                              state\n",
       "zip                                  zip\n",
       "vehicle_year                         NaN\n",
       "vehicle_make                         NaN\n",
       "vehicle_model                        NaN\n",
       "vehicle_class                        NaN\n",
       "vehicle_id                           vin\n",
       "lease_street                         NaN\n",
       "UID                                  NaN\n",
       "lease_city                           NaN\n",
       "lease_state                          NaN\n",
       "lease_zip                            NaN\n",
       "Name: 113, dtype: object"
      ]
     },
     "execution_count": 59,
     "metadata": {},
     "output_type": "execute_result"
    }
   ],
   "source": [
    "thompson_index_21 = column_renamer_2021[column_renamer_2021[\"record_from\"].str.contains(\"Thompson\")].index.tolist()[0]\n",
    "column_renamer_2021.iloc[thompson_index_21, column_renamer_2021.columns.isin([\"street\"])] = \"street\"\n",
    "column_renamer_2021.iloc[thompson_index_21, column_renamer_2021.columns.isin([\"state\"])] = \"state\"\n",
    "column_renamer_2021.iloc[thompson_index_21, column_renamer_2021.columns.isin([\"zip\"])] = \"zip\"\n",
    "column_renamer_2021.iloc[thompson_index_21]"
   ]
  },
  {
   "cell_type": "markdown",
   "id": "ef8664f8",
   "metadata": {},
   "source": [
    "### Bridgewater - 2021"
   ]
  },
  {
   "cell_type": "markdown",
   "id": "6b26fa00",
   "metadata": {},
   "source": [
    "**Manual edits required**\n",
    "\n",
    "For bridgewater, we need to make manual edits to the file. These are quite substantial edits. The Mail address contains the full address with the town and state and ZIP. Parsing this is very difficult, so we use the `usaddress` package to parse the address. `usaddress` uses a pre-trained NLP model to distinguish between the different elements of the address."
   ]
  },
  {
   "cell_type": "code",
   "execution_count": 60,
   "id": "1261d0bc",
   "metadata": {},
   "outputs": [],
   "source": [
    "bridgewater_21 = pd.read_excel(raw_files_21 / \"016_Bridgewater_MV_21.xlsx\")"
   ]
  },
  {
   "cell_type": "code",
   "execution_count": 61,
   "id": "725252a9",
   "metadata": {},
   "outputs": [
    {
     "data": {
      "text/html": [
       "<div>\n",
       "<style scoped>\n",
       "    .dataframe tbody tr th:only-of-type {\n",
       "        vertical-align: middle;\n",
       "    }\n",
       "\n",
       "    .dataframe tbody tr th {\n",
       "        vertical-align: top;\n",
       "    }\n",
       "\n",
       "    .dataframe thead th {\n",
       "        text-align: right;\n",
       "    }\n",
       "</style>\n",
       "<table border=\"1\" class=\"dataframe\">\n",
       "  <thead>\n",
       "    <tr style=\"text-align: right;\">\n",
       "      <th></th>\n",
       "      <th>id</th>\n",
       "      <th>taxpayer_name</th>\n",
       "      <th>2nd_name</th>\n",
       "      <th>mail_address</th>\n",
       "      <th>vin</th>\n",
       "      <th>address_2</th>\n",
       "    </tr>\n",
       "  </thead>\n",
       "  <tbody>\n",
       "    <tr>\n",
       "      <th>0</th>\n",
       "      <td>50001.0</td>\n",
       "      <td>ABBETT LINDA J</td>\n",
       "      <td>ABBETT MARILYN S</td>\n",
       "      <td>PO BOX 357 BRIDGEWATER CT 06752-0357</td>\n",
       "      <td>2T3DFREV1GW496859</td>\n",
       "      <td>121 CLATTER VALLEY RD BRIDGEWATER CT 06752-</td>\n",
       "    </tr>\n",
       "  </tbody>\n",
       "</table>\n",
       "</div>"
      ],
      "text/plain": [
       "        id   taxpayer_name                           2nd_name  \\\n",
       "0  50001.0  ABBETT LINDA J  ABBETT MARILYN S                    \n",
       "\n",
       "                           mail_address                vin  \\\n",
       "0  PO BOX 357 BRIDGEWATER CT 06752-0357  2T3DFREV1GW496859   \n",
       "\n",
       "                                     address_2  \n",
       "0  121 CLATTER VALLEY RD BRIDGEWATER CT 06752-  "
      ]
     },
     "execution_count": 61,
     "metadata": {},
     "output_type": "execute_result"
    }
   ],
   "source": [
    "bridgewater_21.head(1)"
   ]
  },
  {
   "cell_type": "markdown",
   "id": "d0c9a872",
   "metadata": {},
   "source": [
    "First fix the mailing addresses, by using `usaddress` package to parse the different parts of the column."
   ]
  },
  {
   "cell_type": "code",
   "execution_count": 62,
   "id": "d09e579d",
   "metadata": {},
   "outputs": [
    {
     "name": "stderr",
     "output_type": "stream",
     "text": [
      "100%|██████████| 7254/7254 [00:00<00:00, 16448.14it/s]\n"
     ]
    }
   ],
   "source": [
    "bridge_mail_address_states  = []\n",
    "bridge_mail_address_zips    = []\n",
    "bridge_mail_address_streets = []\n",
    "bridge_mail_address_cities  = []\n",
    "\n",
    "\n",
    "for address in tqdm(list(bridgewater_21[\"mail_address\"])):\n",
    "    # Fields needed\n",
    "    fields_needed = [\"USPSBoxType\", \"USPSBoxID\", \"AddressNumber\", \"StreetName\", \"StreetNamePostType\",\n",
    "                 \"PlaceName\", \"StateName\", \"ZipCode\"]\n",
    "    \n",
    "    # Create the street+city, state, and zip\n",
    "    try:\n",
    "        # Parse the address, and turn this into a list of lists\n",
    "        parsed_address = usaddress.parse(address)\n",
    "        parsed_address_list = [list(tup) for tup in parsed_address]\n",
    "        \n",
    "        # The parsed address includes duplicate fields, so we deduplicate the fields\n",
    "        fields = [sublist[1] for sublist in parsed_address_list]\n",
    "        fields = list(dict.fromkeys(fields))\n",
    "        \n",
    "        # We then create a dictionary based on these deduplicated fields\n",
    "        fields_dict = dict.fromkeys(fields)\n",
    "        \n",
    "        # For each key in the dictionary, we set the value by appending all values for that field\n",
    "        for field in fields:\n",
    "            field_value = ' '.join([sublist[0] for sublist in parsed_address_list if sublist[1]==field])\n",
    "            fields_dict[field] = field_value\n",
    "        \n",
    "        # Standardize the dictionary - we ensure that all required fields are in the dictionary\n",
    "        # Where there is no value for that key, we set the value as an empty string\n",
    "        for field_needed in fields_needed:\n",
    "            if not field_needed in fields_dict.keys():\n",
    "                 fields_dict[field_needed] = \"\"\n",
    "    \n",
    "        # We set the street, city, zip code, and state\n",
    "        street = \" \".join([fields_dict[\"USPSBoxType\"],\n",
    "                           fields_dict[\"USPSBoxID\"],\n",
    "                           fields_dict[\"AddressNumber\"],\n",
    "                           fields_dict[\"StreetName\"],\n",
    "                           fields_dict[\"StreetNamePostType\"]]).strip()\n",
    "        city = fields_dict[\"PlaceName\"]\n",
    "        zip_code = fields_dict[\"ZipCode\"]\n",
    "        state = fields_dict[\"StateName\"]\n",
    "    except:\n",
    "        street = \"\"\n",
    "        city = \"\"\n",
    "        zip_code = \"\"\n",
    "        state = \"\"\n",
    "    \n",
    "    # We append these to the master lists, that will be set as columns\n",
    "    bridge_mail_address_states.append(state)\n",
    "    bridge_mail_address_zips.append(zip_code)\n",
    "    bridge_mail_address_streets.append(street)\n",
    "    bridge_mail_address_cities.append(city)"
   ]
  },
  {
   "cell_type": "code",
   "execution_count": 63,
   "id": "6690e29b",
   "metadata": {},
   "outputs": [],
   "source": [
    "bridgewater_21[\"mail_address_street\"] = bridge_mail_address_streets\n",
    "bridgewater_21[\"mail_address_city\"] = bridge_mail_address_cities\n",
    "bridgewater_21[\"mail_address_zip\"] = bridge_mail_address_zips\n",
    "bridgewater_21[\"mail_address_state\"] = bridge_mail_address_states"
   ]
  },
  {
   "cell_type": "code",
   "execution_count": 64,
   "id": "b4860979",
   "metadata": {},
   "outputs": [
    {
     "data": {
      "text/html": [
       "<div>\n",
       "<style scoped>\n",
       "    .dataframe tbody tr th:only-of-type {\n",
       "        vertical-align: middle;\n",
       "    }\n",
       "\n",
       "    .dataframe tbody tr th {\n",
       "        vertical-align: top;\n",
       "    }\n",
       "\n",
       "    .dataframe thead th {\n",
       "        text-align: right;\n",
       "    }\n",
       "</style>\n",
       "<table border=\"1\" class=\"dataframe\">\n",
       "  <thead>\n",
       "    <tr style=\"text-align: right;\">\n",
       "      <th></th>\n",
       "      <th>id</th>\n",
       "      <th>taxpayer_name</th>\n",
       "      <th>2nd_name</th>\n",
       "      <th>mail_address</th>\n",
       "      <th>vin</th>\n",
       "      <th>address_2</th>\n",
       "      <th>mail_address_street</th>\n",
       "      <th>mail_address_city</th>\n",
       "      <th>mail_address_zip</th>\n",
       "      <th>mail_address_state</th>\n",
       "    </tr>\n",
       "  </thead>\n",
       "  <tbody>\n",
       "    <tr>\n",
       "      <th>0</th>\n",
       "      <td>50001.0</td>\n",
       "      <td>ABBETT LINDA J</td>\n",
       "      <td>ABBETT MARILYN S</td>\n",
       "      <td>PO BOX 357 BRIDGEWATER CT 06752-0357</td>\n",
       "      <td>2T3DFREV1GW496859</td>\n",
       "      <td>121 CLATTER VALLEY RD BRIDGEWATER CT 06752-</td>\n",
       "      <td>PO BOX 357</td>\n",
       "      <td>BRIDGEWATER</td>\n",
       "      <td>06752-0357</td>\n",
       "      <td>CT</td>\n",
       "    </tr>\n",
       "    <tr>\n",
       "      <th>1</th>\n",
       "      <td>50002.0</td>\n",
       "      <td>ABBETT LINDA J</td>\n",
       "      <td>NaN</td>\n",
       "      <td>PO BOX 357 BRIDGEWATER CT 06752-0357</td>\n",
       "      <td>JTMBD33V476023102</td>\n",
       "      <td>121 CLATTER VLY RD BRIDGEWATER CT      -</td>\n",
       "      <td>PO BOX 357</td>\n",
       "      <td>BRIDGEWATER</td>\n",
       "      <td>06752-0357</td>\n",
       "      <td>CT</td>\n",
       "    </tr>\n",
       "    <tr>\n",
       "      <th>2</th>\n",
       "      <td>50003.0</td>\n",
       "      <td>ABBETT MARILYN S</td>\n",
       "      <td>ABBETT LINDA J</td>\n",
       "      <td>PO BOX 126 BRIDGEWATER CT 06752-0126</td>\n",
       "      <td>JTMDJREV4GD005535</td>\n",
       "      <td>168 HENRY SANFORD RD BRIDGEWATER CT 06752-</td>\n",
       "      <td>PO BOX 126</td>\n",
       "      <td>BRIDGEWATER</td>\n",
       "      <td>06752-0126</td>\n",
       "      <td>CT</td>\n",
       "    </tr>\n",
       "    <tr>\n",
       "      <th>3</th>\n",
       "      <td>50004.0</td>\n",
       "      <td>ABBEY RESTAURANT LLC</td>\n",
       "      <td>NaN</td>\n",
       "      <td>11 CEDAR HILL RD BRIDGEWATER CT 06752-1001</td>\n",
       "      <td>1GNWGEFGXH1246624</td>\n",
       "      <td>NaN</td>\n",
       "      <td>11 CEDAR HILL RD</td>\n",
       "      <td>BRIDGEWATER</td>\n",
       "      <td>06752-1001</td>\n",
       "      <td>CT</td>\n",
       "    </tr>\n",
       "    <tr>\n",
       "      <th>4</th>\n",
       "      <td>50005.0</td>\n",
       "      <td>ABBOTT CHARLES D</td>\n",
       "      <td>NaN</td>\n",
       "      <td>113 HENRY SANFORD RD BRIDGEWATER CT 06752-1214</td>\n",
       "      <td>186RDB1C5JH000357</td>\n",
       "      <td>NaN</td>\n",
       "      <td>113 HENRY SANFORD RD</td>\n",
       "      <td>BRIDGEWATER</td>\n",
       "      <td>06752-1214</td>\n",
       "      <td>CT</td>\n",
       "    </tr>\n",
       "  </tbody>\n",
       "</table>\n",
       "</div>"
      ],
      "text/plain": [
       "        id         taxpayer_name                           2nd_name  \\\n",
       "0  50001.0        ABBETT LINDA J  ABBETT MARILYN S                    \n",
       "1  50002.0        ABBETT LINDA J                                NaN   \n",
       "2  50003.0      ABBETT MARILYN S  ABBETT LINDA J                      \n",
       "3  50004.0  ABBEY RESTAURANT LLC                                NaN   \n",
       "4  50005.0      ABBOTT CHARLES D                                NaN   \n",
       "\n",
       "                                     mail_address                vin  \\\n",
       "0            PO BOX 357 BRIDGEWATER CT 06752-0357  2T3DFREV1GW496859   \n",
       "1            PO BOX 357 BRIDGEWATER CT 06752-0357  JTMBD33V476023102   \n",
       "2            PO BOX 126 BRIDGEWATER CT 06752-0126  JTMDJREV4GD005535   \n",
       "3      11 CEDAR HILL RD BRIDGEWATER CT 06752-1001  1GNWGEFGXH1246624   \n",
       "4  113 HENRY SANFORD RD BRIDGEWATER CT 06752-1214  186RDB1C5JH000357   \n",
       "\n",
       "                                     address_2   mail_address_street  \\\n",
       "0  121 CLATTER VALLEY RD BRIDGEWATER CT 06752-            PO BOX 357   \n",
       "1     121 CLATTER VLY RD BRIDGEWATER CT      -            PO BOX 357   \n",
       "2   168 HENRY SANFORD RD BRIDGEWATER CT 06752-            PO BOX 126   \n",
       "3                                          NaN      11 CEDAR HILL RD   \n",
       "4                                          NaN  113 HENRY SANFORD RD   \n",
       "\n",
       "  mail_address_city mail_address_zip mail_address_state  \n",
       "0       BRIDGEWATER       06752-0357                 CT  \n",
       "1       BRIDGEWATER       06752-0357                 CT  \n",
       "2       BRIDGEWATER       06752-0126                 CT  \n",
       "3       BRIDGEWATER       06752-1001                 CT  \n",
       "4       BRIDGEWATER       06752-1214                 CT  "
      ]
     },
     "execution_count": 64,
     "metadata": {},
     "output_type": "execute_result"
    }
   ],
   "source": [
    "bridgewater_21.head(5)"
   ]
  },
  {
   "cell_type": "markdown",
   "id": "d0b2b2d6",
   "metadata": {},
   "source": [
    "Now fix the second address - probably the lease address"
   ]
  },
  {
   "cell_type": "code",
   "execution_count": 65,
   "id": "e11fdc5e",
   "metadata": {},
   "outputs": [
    {
     "name": "stderr",
     "output_type": "stream",
     "text": [
      "100%|██████████| 7254/7254 [00:00<00:00, 70580.48it/s]\n"
     ]
    }
   ],
   "source": [
    "bridge_secondary_address_states  = []\n",
    "bridge_secondary_address_zips    = []\n",
    "bridge_secondary_address_streets = []\n",
    "bridge_secondary_address_cities  = []\n",
    "\n",
    "\n",
    "for address in tqdm(list(bridgewater_21[\"address_2\"])):\n",
    "    # Fields needed\n",
    "    fields_needed = [\"USPSBoxType\", \"USPSBoxID\", \"AddressNumber\", \"StreetName\", \"StreetNamePostType\",\n",
    "                 \"PlaceName\", \"StateName\", \"ZipCode\"]\n",
    "    \n",
    "    # Create the street+city, state, and zip\n",
    "    try:\n",
    "        # Parse the address, and turn this into a list of lists\n",
    "        parsed_address = usaddress.parse(address)\n",
    "        parsed_address_list = [list(tup) for tup in parsed_address]\n",
    "        \n",
    "        # The parsed address includes duplicate fields, so we deduplicate the fields\n",
    "        fields = [sublist[1] for sublist in parsed_address_list]\n",
    "        fields = list(dict.fromkeys(fields))\n",
    "        \n",
    "        # We then create a dictionary based on these deduplicated fields\n",
    "        fields_dict = dict.fromkeys(fields)\n",
    "        \n",
    "        # For each key in the dictionary, we set the value by appending all values for that field\n",
    "        for field in fields:\n",
    "            field_value = ' '.join([sublist[0] for sublist in parsed_address_list if sublist[1]==field])\n",
    "            fields_dict[field] = field_value\n",
    "        \n",
    "        # Standardize the dictionary - we ensure that all required fields are in the dictionary\n",
    "        # Where there is no value for that key, we set the value as an empty string\n",
    "        for field_needed in fields_needed:\n",
    "            if not field_needed in fields_dict.keys():\n",
    "                 fields_dict[field_needed] = \"\"\n",
    "    \n",
    "        # We set the street, city, zip code, and state\n",
    "        street = \" \".join([fields_dict[\"USPSBoxType\"],\n",
    "                           fields_dict[\"USPSBoxID\"],\n",
    "                           fields_dict[\"AddressNumber\"],\n",
    "                           fields_dict[\"StreetName\"],\n",
    "                           fields_dict[\"StreetNamePostType\"]]).strip()\n",
    "        city = fields_dict[\"PlaceName\"]\n",
    "        zip_code = fields_dict[\"ZipCode\"]\n",
    "        state = fields_dict[\"StateName\"]\n",
    "    except:\n",
    "        street = \"\"\n",
    "        city = \"\"\n",
    "        zip_code = \"\"\n",
    "        state = \"\"\n",
    "    \n",
    "    # We append these to the master lists, that will be set as columns\n",
    "    bridge_secondary_address_states.append(state)\n",
    "    bridge_secondary_address_zips.append(zip_code)\n",
    "    bridge_secondary_address_streets.append(street)\n",
    "    bridge_secondary_address_cities.append(city)"
   ]
  },
  {
   "cell_type": "code",
   "execution_count": 66,
   "id": "be082eea",
   "metadata": {},
   "outputs": [],
   "source": [
    "bridgewater_21[\"secondary_address_street\"] = bridge_secondary_address_streets\n",
    "bridgewater_21[\"secondary_address_city\"] =   bridge_secondary_address_cities\n",
    "bridgewater_21[\"secondary_address_zip\"] =    bridge_secondary_address_zips\n",
    "bridgewater_21[\"secondary_address_state\"] =  bridge_secondary_address_states"
   ]
  },
  {
   "cell_type": "code",
   "execution_count": 67,
   "id": "a97862a6",
   "metadata": {},
   "outputs": [
    {
     "data": {
      "text/html": [
       "<div>\n",
       "<style scoped>\n",
       "    .dataframe tbody tr th:only-of-type {\n",
       "        vertical-align: middle;\n",
       "    }\n",
       "\n",
       "    .dataframe tbody tr th {\n",
       "        vertical-align: top;\n",
       "    }\n",
       "\n",
       "    .dataframe thead th {\n",
       "        text-align: right;\n",
       "    }\n",
       "</style>\n",
       "<table border=\"1\" class=\"dataframe\">\n",
       "  <thead>\n",
       "    <tr style=\"text-align: right;\">\n",
       "      <th></th>\n",
       "      <th>id</th>\n",
       "      <th>taxpayer_name</th>\n",
       "      <th>2nd_name</th>\n",
       "      <th>mail_address</th>\n",
       "      <th>vin</th>\n",
       "      <th>address_2</th>\n",
       "      <th>mail_address_street</th>\n",
       "      <th>mail_address_city</th>\n",
       "      <th>mail_address_zip</th>\n",
       "      <th>mail_address_state</th>\n",
       "      <th>secondary_address_street</th>\n",
       "      <th>secondary_address_city</th>\n",
       "      <th>secondary_address_zip</th>\n",
       "      <th>secondary_address_state</th>\n",
       "    </tr>\n",
       "  </thead>\n",
       "  <tbody>\n",
       "    <tr>\n",
       "      <th>0</th>\n",
       "      <td>50001.0</td>\n",
       "      <td>ABBETT LINDA J</td>\n",
       "      <td>ABBETT MARILYN S</td>\n",
       "      <td>PO BOX 357 BRIDGEWATER CT 06752-0357</td>\n",
       "      <td>2T3DFREV1GW496859</td>\n",
       "      <td>121 CLATTER VALLEY RD BRIDGEWATER CT 06752-</td>\n",
       "      <td>PO BOX 357</td>\n",
       "      <td>BRIDGEWATER</td>\n",
       "      <td>06752-0357</td>\n",
       "      <td>CT</td>\n",
       "      <td>121 CLATTER VALLEY RD</td>\n",
       "      <td>BRIDGEWATER</td>\n",
       "      <td>06752-</td>\n",
       "      <td>CT</td>\n",
       "    </tr>\n",
       "    <tr>\n",
       "      <th>1</th>\n",
       "      <td>50002.0</td>\n",
       "      <td>ABBETT LINDA J</td>\n",
       "      <td>NaN</td>\n",
       "      <td>PO BOX 357 BRIDGEWATER CT 06752-0357</td>\n",
       "      <td>JTMBD33V476023102</td>\n",
       "      <td>121 CLATTER VLY RD BRIDGEWATER CT      -</td>\n",
       "      <td>PO BOX 357</td>\n",
       "      <td>BRIDGEWATER</td>\n",
       "      <td>06752-0357</td>\n",
       "      <td>CT</td>\n",
       "      <td>121 CLATTER VLY RD</td>\n",
       "      <td>BRIDGEWATER</td>\n",
       "      <td></td>\n",
       "      <td>CT</td>\n",
       "    </tr>\n",
       "    <tr>\n",
       "      <th>2</th>\n",
       "      <td>50003.0</td>\n",
       "      <td>ABBETT MARILYN S</td>\n",
       "      <td>ABBETT LINDA J</td>\n",
       "      <td>PO BOX 126 BRIDGEWATER CT 06752-0126</td>\n",
       "      <td>JTMDJREV4GD005535</td>\n",
       "      <td>168 HENRY SANFORD RD BRIDGEWATER CT 06752-</td>\n",
       "      <td>PO BOX 126</td>\n",
       "      <td>BRIDGEWATER</td>\n",
       "      <td>06752-0126</td>\n",
       "      <td>CT</td>\n",
       "      <td>168 HENRY SANFORD RD</td>\n",
       "      <td>BRIDGEWATER</td>\n",
       "      <td>06752-</td>\n",
       "      <td>CT</td>\n",
       "    </tr>\n",
       "    <tr>\n",
       "      <th>3</th>\n",
       "      <td>50004.0</td>\n",
       "      <td>ABBEY RESTAURANT LLC</td>\n",
       "      <td>NaN</td>\n",
       "      <td>11 CEDAR HILL RD BRIDGEWATER CT 06752-1001</td>\n",
       "      <td>1GNWGEFGXH1246624</td>\n",
       "      <td>NaN</td>\n",
       "      <td>11 CEDAR HILL RD</td>\n",
       "      <td>BRIDGEWATER</td>\n",
       "      <td>06752-1001</td>\n",
       "      <td>CT</td>\n",
       "      <td></td>\n",
       "      <td></td>\n",
       "      <td></td>\n",
       "      <td></td>\n",
       "    </tr>\n",
       "    <tr>\n",
       "      <th>4</th>\n",
       "      <td>50005.0</td>\n",
       "      <td>ABBOTT CHARLES D</td>\n",
       "      <td>NaN</td>\n",
       "      <td>113 HENRY SANFORD RD BRIDGEWATER CT 06752-1214</td>\n",
       "      <td>186RDB1C5JH000357</td>\n",
       "      <td>NaN</td>\n",
       "      <td>113 HENRY SANFORD RD</td>\n",
       "      <td>BRIDGEWATER</td>\n",
       "      <td>06752-1214</td>\n",
       "      <td>CT</td>\n",
       "      <td></td>\n",
       "      <td></td>\n",
       "      <td></td>\n",
       "      <td></td>\n",
       "    </tr>\n",
       "  </tbody>\n",
       "</table>\n",
       "</div>"
      ],
      "text/plain": [
       "        id         taxpayer_name                           2nd_name  \\\n",
       "0  50001.0        ABBETT LINDA J  ABBETT MARILYN S                    \n",
       "1  50002.0        ABBETT LINDA J                                NaN   \n",
       "2  50003.0      ABBETT MARILYN S  ABBETT LINDA J                      \n",
       "3  50004.0  ABBEY RESTAURANT LLC                                NaN   \n",
       "4  50005.0      ABBOTT CHARLES D                                NaN   \n",
       "\n",
       "                                     mail_address                vin  \\\n",
       "0            PO BOX 357 BRIDGEWATER CT 06752-0357  2T3DFREV1GW496859   \n",
       "1            PO BOX 357 BRIDGEWATER CT 06752-0357  JTMBD33V476023102   \n",
       "2            PO BOX 126 BRIDGEWATER CT 06752-0126  JTMDJREV4GD005535   \n",
       "3      11 CEDAR HILL RD BRIDGEWATER CT 06752-1001  1GNWGEFGXH1246624   \n",
       "4  113 HENRY SANFORD RD BRIDGEWATER CT 06752-1214  186RDB1C5JH000357   \n",
       "\n",
       "                                     address_2   mail_address_street  \\\n",
       "0  121 CLATTER VALLEY RD BRIDGEWATER CT 06752-            PO BOX 357   \n",
       "1     121 CLATTER VLY RD BRIDGEWATER CT      -            PO BOX 357   \n",
       "2   168 HENRY SANFORD RD BRIDGEWATER CT 06752-            PO BOX 126   \n",
       "3                                          NaN      11 CEDAR HILL RD   \n",
       "4                                          NaN  113 HENRY SANFORD RD   \n",
       "\n",
       "  mail_address_city mail_address_zip mail_address_state  \\\n",
       "0       BRIDGEWATER       06752-0357                 CT   \n",
       "1       BRIDGEWATER       06752-0357                 CT   \n",
       "2       BRIDGEWATER       06752-0126                 CT   \n",
       "3       BRIDGEWATER       06752-1001                 CT   \n",
       "4       BRIDGEWATER       06752-1214                 CT   \n",
       "\n",
       "  secondary_address_street secondary_address_city secondary_address_zip  \\\n",
       "0    121 CLATTER VALLEY RD            BRIDGEWATER                06752-   \n",
       "1       121 CLATTER VLY RD            BRIDGEWATER                         \n",
       "2     168 HENRY SANFORD RD            BRIDGEWATER                06752-   \n",
       "3                                                                         \n",
       "4                                                                         \n",
       "\n",
       "  secondary_address_state  \n",
       "0                      CT  \n",
       "1                      CT  \n",
       "2                      CT  \n",
       "3                          \n",
       "4                          "
      ]
     },
     "execution_count": 67,
     "metadata": {},
     "output_type": "execute_result"
    }
   ],
   "source": [
    "bridgewater_21.head(5)"
   ]
  },
  {
   "cell_type": "markdown",
   "id": "14649038",
   "metadata": {},
   "source": [
    "**Now fix the column renamer**"
   ]
  },
  {
   "cell_type": "code",
   "execution_count": 68,
   "id": "66fe8afb",
   "metadata": {},
   "outputs": [],
   "source": [
    "bridgewater_index_21 = column_renamer_2021[column_renamer_2021[\"record_from\"].str.contains(\"Bridgewater\")].index.tolist()[0]"
   ]
  },
  {
   "cell_type": "code",
   "execution_count": 69,
   "id": "7f909a65",
   "metadata": {},
   "outputs": [
    {
     "data": {
      "text/plain": [
       "record_from      016_Bridgewater_MV_21.xlsx\n",
       "name                          taxpayer_name\n",
       "street                                  NaN\n",
       "city                                    NaN\n",
       "state                                   NaN\n",
       "zip                                     NaN\n",
       "vehicle_year                            NaN\n",
       "vehicle_make                            NaN\n",
       "vehicle_model                           NaN\n",
       "vehicle_class                           NaN\n",
       "vehicle_id                              vin\n",
       "lease_street                            NaN\n",
       "UID                                     NaN\n",
       "lease_city                              NaN\n",
       "lease_state                             NaN\n",
       "lease_zip                               NaN\n",
       "Name: 135, dtype: object"
      ]
     },
     "execution_count": 69,
     "metadata": {},
     "output_type": "execute_result"
    }
   ],
   "source": [
    "column_renamer_2021.loc[bridgewater_index_21]"
   ]
  },
  {
   "cell_type": "code",
   "execution_count": 70,
   "id": "74225206",
   "metadata": {},
   "outputs": [],
   "source": [
    "renamer_fields_bridgewater = dict.fromkeys(column_renamer_2021.columns[1:])"
   ]
  },
  {
   "cell_type": "code",
   "execution_count": 71,
   "id": "06d65c81",
   "metadata": {},
   "outputs": [],
   "source": [
    "renamer_fields_bridgewater[\"name\"] = \"taxpayer_name\"\n",
    "renamer_fields_bridgewater[\"street\"] = \"mail_address_street\"\n",
    "renamer_fields_bridgewater[\"city\"] = \"mail_address_city\"\n",
    "renamer_fields_bridgewater[\"state\"]=  \"mail_address_state\"\n",
    "renamer_fields_bridgewater[\"zip\"] = \"mail_address_zip\"\n",
    "# renamer_fields_bridgewater[\"vehicle_year\"] \n",
    "# renamer_fields_bridgewater[\"vehicle_make\"]\n",
    "# renamer_fields_bridgewater[\"vehicle_model\"]\n",
    "# renamer_fields_bridgewater[\"vehicle_class\"]\n",
    "renamer_fields_bridgewater[\"vehicle_id\"] = \"vin\"\n",
    "renamer_fields_bridgewater[\"lease_street\"] = \"secondary_address_street\"\n",
    "# renamer_fields_bridgewater[\"UID\"]\n",
    "renamer_fields_bridgewater[\"lease_city\"] = \"secondary_address_city\"\n",
    "renamer_fields_bridgewater[\"lease_state\"] = \"secondary_address_state\"\n",
    "renamer_fields_bridgewater[\"lease_zip\"] = \"secondary_address_zip\""
   ]
  },
  {
   "cell_type": "code",
   "execution_count": 72,
   "id": "df6b2406",
   "metadata": {},
   "outputs": [],
   "source": [
    "for key in renamer_fields_bridgewater.keys():\n",
    "    column_renamer_2021.iloc[bridgewater_index_21, column_renamer_2021.columns.isin([key])] = renamer_fields_bridgewater[key]"
   ]
  },
  {
   "cell_type": "code",
   "execution_count": 73,
   "id": "14a5adcd",
   "metadata": {},
   "outputs": [],
   "source": [
    "# Set the record_from column appropriately\n",
    "column_renamer_2021.loc[bridgewater_index_21, \"record_from\"] = \"016_Bridgewater_MV_21_ALTERED.csv\""
   ]
  },
  {
   "cell_type": "code",
   "execution_count": 74,
   "id": "249f27b2",
   "metadata": {},
   "outputs": [
    {
     "data": {
      "text/plain": [
       "record_from      016_Bridgewater_MV_21_ALTERED.csv\n",
       "name                                 taxpayer_name\n",
       "street                         mail_address_street\n",
       "city                             mail_address_city\n",
       "state                           mail_address_state\n",
       "zip                               mail_address_zip\n",
       "vehicle_year                                  None\n",
       "vehicle_make                                  None\n",
       "vehicle_model                                 None\n",
       "vehicle_class                                 None\n",
       "vehicle_id                                     vin\n",
       "lease_street              secondary_address_street\n",
       "UID                                           None\n",
       "lease_city                  secondary_address_city\n",
       "lease_state                secondary_address_state\n",
       "lease_zip                    secondary_address_zip\n",
       "Name: 135, dtype: object"
      ]
     },
     "execution_count": 74,
     "metadata": {},
     "output_type": "execute_result"
    }
   ],
   "source": [
    "column_renamer_2021.loc[bridgewater_index_21]"
   ]
  },
  {
   "cell_type": "markdown",
   "id": "774df4b5",
   "metadata": {},
   "source": [
    "### Southington - 2021"
   ]
  },
  {
   "cell_type": "code",
   "execution_count": 75,
   "id": "0a6f1569-7e2d-498a-bbf6-7b0bf2fdbbd8",
   "metadata": {},
   "outputs": [
    {
     "data": {
      "text/plain": [
       "{'name': None,\n",
       " 'street': None,\n",
       " 'city': None,\n",
       " 'state': None,\n",
       " 'zip': None,\n",
       " 'vehicle_year': None,\n",
       " 'vehicle_make': None,\n",
       " 'vehicle_model': None,\n",
       " 'vehicle_class': None,\n",
       " 'vehicle_id': None,\n",
       " 'lease_street': None,\n",
       " 'UID': None,\n",
       " 'lease_city': None,\n",
       " 'lease_state': None,\n",
       " 'lease_zip': None}"
      ]
     },
     "execution_count": 75,
     "metadata": {},
     "output_type": "execute_result"
    }
   ],
   "source": [
    "renamer_fields_southington = dict.fromkeys(column_renamer_2021.columns[1:])\n",
    "renamer_fields_southington"
   ]
  },
  {
   "cell_type": "code",
   "execution_count": 76,
   "id": "a451e88c",
   "metadata": {},
   "outputs": [],
   "source": [
    "southington_index_21 = column_renamer_2021[column_renamer_2021[\"record_from\"].str.contains(\"Southington\")].index.tolist()[0]"
   ]
  },
  {
   "cell_type": "code",
   "execution_count": 77,
   "id": "f37a207a",
   "metadata": {},
   "outputs": [
    {
     "data": {
      "text/plain": [
       "record_from      131_Southington_MV_21.xlsx\n",
       "name                                   Name\n",
       "street                                  NaN\n",
       "city                                   City\n",
       "state                                 State\n",
       "zip                                     Zip\n",
       "vehicle_year                           Year\n",
       "vehicle_make                           Make\n",
       "vehicle_model                         Model\n",
       "vehicle_class                         Class\n",
       "vehicle_id                              VIN\n",
       "lease_street                            NaN\n",
       "UID                                     NaN\n",
       "lease_city                              NaN\n",
       "lease_state                             NaN\n",
       "lease_zip                               NaN\n",
       "Name: 155, dtype: object"
      ]
     },
     "execution_count": 77,
     "metadata": {},
     "output_type": "execute_result"
    }
   ],
   "source": [
    "column_renamer_2021.loc[southington_index_21]"
   ]
  },
  {
   "cell_type": "code",
   "execution_count": 78,
   "id": "158bec42",
   "metadata": {},
   "outputs": [],
   "source": [
    "renamer_fields_southington = dict.fromkeys(column_renamer_2021.columns[1:])"
   ]
  },
  {
   "cell_type": "code",
   "execution_count": 79,
   "id": "19092bdb",
   "metadata": {},
   "outputs": [],
   "source": [
    "renamer_fields_southington[\"street\"] = \"Street Address\""
   ]
  },
  {
   "cell_type": "code",
   "execution_count": 80,
   "id": "f6027520",
   "metadata": {},
   "outputs": [],
   "source": [
    "for key in renamer_fields_southington.keys():\n",
    "    if renamer_fields_southington[key]:\n",
    "        column_renamer_2021.iloc[southington_index_21, column_renamer_2021.columns.isin([key])] = renamer_fields_southington[key]"
   ]
  },
  {
   "cell_type": "code",
   "execution_count": 81,
   "id": "7a8580c4",
   "metadata": {},
   "outputs": [
    {
     "data": {
      "text/plain": [
       "record_from      131_Southington_MV_21.xlsx\n",
       "name                                   Name\n",
       "street                       Street Address\n",
       "city                                   City\n",
       "state                                 State\n",
       "zip                                     Zip\n",
       "vehicle_year                           Year\n",
       "vehicle_make                           Make\n",
       "vehicle_model                         Model\n",
       "vehicle_class                         Class\n",
       "vehicle_id                              VIN\n",
       "lease_street                            NaN\n",
       "UID                                     NaN\n",
       "lease_city                              NaN\n",
       "lease_state                             NaN\n",
       "lease_zip                               NaN\n",
       "Name: 155, dtype: object"
      ]
     },
     "execution_count": 81,
     "metadata": {},
     "output_type": "execute_result"
    }
   ],
   "source": [
    "column_renamer_2021.loc[southington_index_21]"
   ]
  },
  {
   "cell_type": "markdown",
   "id": "d6006297-b8d4-4b0f-93e1-25b649929fbc",
   "metadata": {},
   "source": [
    "### North Branford 2021"
   ]
  },
  {
   "cell_type": "code",
   "execution_count": 82,
   "id": "75a9968f-c18a-4496-9769-7904468aba19",
   "metadata": {},
   "outputs": [
    {
     "name": "stdout",
     "output_type": "stream",
     "text": [
      "-----OLD-----\n",
      "record_from      099_North_Branford_MV_21.xlsx\n",
      "name                                      Name\n",
      "street                                      ST\n",
      "city                                      City\n",
      "state                                      NaN\n",
      "zip                                        Zip\n",
      "vehicle_year                              YEAR\n",
      "vehicle_make                              Make\n",
      "vehicle_model                            Model\n",
      "vehicle_class                            CLASS\n",
      "vehicle_id                                 Vin\n",
      "lease_street             Residential Address 1\n",
      "UID                                        NaN\n",
      "lease_city                    Residential City\n",
      "lease_state                                NaN\n",
      "lease_zip                              Res Zip\n",
      "Name: 78, dtype: object\n",
      "-----NEW-----\n",
      "record_from      099_North_Branford_MV_21.xlsx\n",
      "name                                      Name\n",
      "street                               Address 1\n",
      "city                                      City\n",
      "state                                       ST\n",
      "zip                                        Zip\n",
      "vehicle_year                              YEAR\n",
      "vehicle_make                              Make\n",
      "vehicle_model                            Model\n",
      "vehicle_class                            CLASS\n",
      "vehicle_id                                 Vin\n",
      "lease_street             Residential Address 1\n",
      "UID                                        NaN\n",
      "lease_city                    Residential City\n",
      "lease_state                             Res ST\n",
      "lease_zip                              Res Zip\n",
      "Name: 78, dtype: object\n"
     ]
    }
   ],
   "source": [
    "fix_renamer(\"2021\", \"North_Branford\", {\"street\":\"Address 1\",\n",
    "                                       \"state\":\"ST\",\n",
    "                                       \"lease_state\":\"Res ST\"})"
   ]
  },
  {
   "cell_type": "code",
   "execution_count": 83,
   "id": "83aa6de4-9d03-4622-8f40-ea661c600d22",
   "metadata": {},
   "outputs": [
    {
     "name": "stdout",
     "output_type": "stream",
     "text": [
      "-----OLD-----\n",
      "record_from      96_Newington_MVData_2020.csv\n",
      "name                                 TAXPAYER\n",
      "street                                     ST\n",
      "vehicle_id                                VIN\n",
      "vehicle_make                             MAKE\n",
      "vehicle_model                           MODEL\n",
      "vehicle_year                             YEAR\n",
      "city                                     CITY\n",
      "state                                     NaN\n",
      "vehicle_class                             NaN\n",
      "zip                                       NaN\n",
      "UID                                       UID\n",
      "lease_city                                NaN\n",
      "lease_state                               NaN\n",
      "lease_street                              NaN\n",
      "lease_zip                                 NaN\n",
      "Name: 39, dtype: object\n",
      "-----NEW-----\n",
      "record_from      96_Newington_MVData_2020.csv\n",
      "name                                 TAXPAYER\n",
      "street                                     ST\n",
      "vehicle_id                                VIN\n",
      "vehicle_make                             MAKE\n",
      "vehicle_model                           MODEL\n",
      "vehicle_year                             YEAR\n",
      "city                                     CITY\n",
      "state                                     NaN\n",
      "vehicle_class                             NaN\n",
      "zip                                       ZIP\n",
      "UID                                       UID\n",
      "lease_city                                NaN\n",
      "lease_state                               NaN\n",
      "lease_street                              NaN\n",
      "lease_zip                                 NaN\n",
      "Name: 39, dtype: object\n"
     ]
    }
   ],
   "source": [
    "newington_20_rename_dict = {\"zip\" : \"ZIP\"}\n",
    "fix_renamer(\"2020\", \"Newington\", newington_20_rename_dict)"
   ]
  },
  {
   "cell_type": "markdown",
   "id": "0b2f0b89-88db-43b6-8c75-501108cc87a3",
   "metadata": {},
   "source": [
    "### Sherman 2021"
   ]
  },
  {
   "cell_type": "code",
   "execution_count": 84,
   "id": "ad61f64c-35d2-436f-9160-a82f236ac077",
   "metadata": {},
   "outputs": [
    {
     "name": "stdout",
     "output_type": "stream",
     "text": [
      "-----OLD-----\n",
      "record_from      127_Sherman_MV_21.xlsx\n",
      "name                              owner\n",
      "street                               st\n",
      "city                                NaN\n",
      "state                               NaN\n",
      "zip                                 NaN\n",
      "vehicle_year                       year\n",
      "vehicle_make                       make\n",
      "vehicle_model                   MODEL X\n",
      "vehicle_class                     class\n",
      "vehicle_id                          vin\n",
      "lease_street                        NaN\n",
      "UID                                 NaN\n",
      "lease_city                          NaN\n",
      "lease_state                         NaN\n",
      "lease_zip                           NaN\n",
      "Name: 101, dtype: object\n",
      "-----NEW-----\n",
      "record_from      127_Sherman_MV_21.xlsx\n",
      "name                              owner\n",
      "street                          address\n",
      "city                               town\n",
      "state                                st\n",
      "zip                                 zip\n",
      "vehicle_year                       year\n",
      "vehicle_make                       make\n",
      "vehicle_model                   MODEL X\n",
      "vehicle_class                     class\n",
      "vehicle_id                          vin\n",
      "lease_street                        NaN\n",
      "UID                                 NaN\n",
      "lease_city                          NaN\n",
      "lease_state                         NaN\n",
      "lease_zip                           NaN\n",
      "Name: 101, dtype: object\n"
     ]
    }
   ],
   "source": [
    "fix_renamer(\"2021\", \"Sherman\", {\"state\":\"st\",\n",
    "                                \"city\": \"town\",\n",
    "                               \"street\":\"address\",\n",
    "                               \"zip\": \"zip\"})"
   ]
  },
  {
   "cell_type": "markdown",
   "id": "8ad97c2e",
   "metadata": {},
   "source": [
    "#### Address those that can be done automatically"
   ]
  },
  {
   "cell_type": "code",
   "execution_count": 85,
   "id": "c2e70c39",
   "metadata": {},
   "outputs": [],
   "source": [
    "missing_zips_2021_dict = {\n",
    " \"004_Avon_MV_21.xlsx\" : \"ZIP\",\n",
    " \"031_Cornwall_MV_21.xlsx\" : \"ZIP\",\n",
    "}\n",
    "\n",
    "for source_file in missing_zips_2021_dict.keys():\n",
    "    source_file_index = column_renamer_2021[column_renamer_2021[\"record_from\"]==source_file].index.tolist()[0]\n",
    "    column_renamer_2021.loc[source_file_index, \"zip\"] = missing_zips_2021_dict[source_file]"
   ]
  },
  {
   "cell_type": "code",
   "execution_count": 86,
   "id": "a7cb3781",
   "metadata": {
    "scrolled": true
   },
   "outputs": [
    {
     "data": {
      "text/html": [
       "<div>\n",
       "<style scoped>\n",
       "    .dataframe tbody tr th:only-of-type {\n",
       "        vertical-align: middle;\n",
       "    }\n",
       "\n",
       "    .dataframe tbody tr th {\n",
       "        vertical-align: top;\n",
       "    }\n",
       "\n",
       "    .dataframe thead th {\n",
       "        text-align: right;\n",
       "    }\n",
       "</style>\n",
       "<table border=\"1\" class=\"dataframe\">\n",
       "  <thead>\n",
       "    <tr style=\"text-align: right;\">\n",
       "      <th></th>\n",
       "      <th>record_from</th>\n",
       "      <th>name</th>\n",
       "      <th>street</th>\n",
       "      <th>city</th>\n",
       "      <th>state</th>\n",
       "      <th>zip</th>\n",
       "      <th>vehicle_year</th>\n",
       "      <th>vehicle_make</th>\n",
       "      <th>vehicle_model</th>\n",
       "      <th>vehicle_class</th>\n",
       "      <th>vehicle_id</th>\n",
       "      <th>lease_street</th>\n",
       "      <th>UID</th>\n",
       "      <th>lease_city</th>\n",
       "      <th>lease_state</th>\n",
       "      <th>lease_zip</th>\n",
       "    </tr>\n",
       "  </thead>\n",
       "  <tbody>\n",
       "    <tr>\n",
       "      <th>101</th>\n",
       "      <td>127_Sherman_MV_21.xlsx</td>\n",
       "      <td>owner</td>\n",
       "      <td>address</td>\n",
       "      <td>town</td>\n",
       "      <td>st</td>\n",
       "      <td>zip</td>\n",
       "      <td>year</td>\n",
       "      <td>make</td>\n",
       "      <td>MODEL X</td>\n",
       "      <td>class</td>\n",
       "      <td>vin</td>\n",
       "      <td>NaN</td>\n",
       "      <td>NaN</td>\n",
       "      <td>NaN</td>\n",
       "      <td>NaN</td>\n",
       "      <td>NaN</td>\n",
       "    </tr>\n",
       "  </tbody>\n",
       "</table>\n",
       "</div>"
      ],
      "text/plain": [
       "                record_from   name   street  city state  zip vehicle_year  \\\n",
       "101  127_Sherman_MV_21.xlsx  owner  address  town    st  zip         year   \n",
       "\n",
       "    vehicle_make vehicle_model vehicle_class vehicle_id lease_street  UID  \\\n",
       "101         make       MODEL X         class        vin          NaN  NaN   \n",
       "\n",
       "    lease_city lease_state lease_zip  \n",
       "101        NaN         NaN       NaN  "
      ]
     },
     "execution_count": 86,
     "metadata": {},
     "output_type": "execute_result"
    }
   ],
   "source": [
    "column_renamer_2021[column_renamer_2021[\"record_from\"]==\"127_Sherman_MV_21.xlsx\"]"
   ]
  },
  {
   "cell_type": "markdown",
   "id": "c1489174",
   "metadata": {},
   "source": [
    "#### Address those requiring manual edits"
   ]
  },
  {
   "cell_type": "code",
   "execution_count": 87,
   "id": "557a108a",
   "metadata": {},
   "outputs": [
    {
     "data": {
      "text/html": [
       "<div>\n",
       "<style scoped>\n",
       "    .dataframe tbody tr th:only-of-type {\n",
       "        vertical-align: middle;\n",
       "    }\n",
       "\n",
       "    .dataframe tbody tr th {\n",
       "        vertical-align: top;\n",
       "    }\n",
       "\n",
       "    .dataframe thead th {\n",
       "        text-align: right;\n",
       "    }\n",
       "</style>\n",
       "<table border=\"1\" class=\"dataframe\">\n",
       "  <thead>\n",
       "    <tr style=\"text-align: right;\">\n",
       "      <th></th>\n",
       "      <th>Act #</th>\n",
       "      <th>Address</th>\n",
       "      <th>Name</th>\n",
       "      <th>Unnamed: 3</th>\n",
       "      <th>Address cont</th>\n",
       "      <th>Style</th>\n",
       "      <th>Make</th>\n",
       "      <th>Yr</th>\n",
       "      <th>C</th>\n",
       "      <th>Color</th>\n",
       "      <th>...</th>\n",
       "      <th>Unnamed: 24</th>\n",
       "      <th>Unnamed: 25</th>\n",
       "      <th>Unnamed: 26</th>\n",
       "      <th>Unnamed: 27</th>\n",
       "      <th>Unnamed: 28</th>\n",
       "      <th>Unnamed: 29</th>\n",
       "      <th>Unnamed: 30</th>\n",
       "      <th>Unnamed: 31</th>\n",
       "      <th>Unnamed: 32</th>\n",
       "      <th>Unnamed: 33</th>\n",
       "    </tr>\n",
       "  </thead>\n",
       "  <tbody>\n",
       "    <tr>\n",
       "      <th>0</th>\n",
       "      <td>10000</td>\n",
       "      <td>11 WEST SOCIETY RD</td>\n",
       "      <td>205-207 MONTAUK AVE LLC</td>\n",
       "      <td>16,480</td>\n",
       "      <td>EAST LYME, CT 06333</td>\n",
       "      <td>SPORTV</td>\n",
       "      <td>MERCE</td>\n",
       "      <td>2016</td>\n",
       "      <td>4</td>\n",
       "      <td>SIL</td>\n",
       "      <td>...</td>\n",
       "      <td>Page: Exemptions</td>\n",
       "      <td>2962222</td>\n",
       "      <td>Gross:</td>\n",
       "      <td>206501863</td>\n",
       "      <td>Net:</td>\n",
       "      <td>203539641</td>\n",
       "      <td>ZUR</td>\n",
       "      <td>-</td>\n",
       "      <td>300153</td>\n",
       "      <td>Page -1 of 1</td>\n",
       "    </tr>\n",
       "    <tr>\n",
       "      <th>1</th>\n",
       "      <td>10001</td>\n",
       "      <td>PO BOX 297</td>\n",
       "      <td>2CDP LLC</td>\n",
       "      <td>76,300</td>\n",
       "      <td>WATERFORD, CT 06385-0297</td>\n",
       "      <td>WAGON4</td>\n",
       "      <td>AUDI</td>\n",
       "      <td>2021</td>\n",
       "      <td>8</td>\n",
       "      <td>GRY</td>\n",
       "      <td>...</td>\n",
       "      <td>Page: Exemptions</td>\n",
       "      <td>2962222</td>\n",
       "      <td>Gross:</td>\n",
       "      <td>206501863</td>\n",
       "      <td>Net:</td>\n",
       "      <td>203539641</td>\n",
       "      <td>ZUR</td>\n",
       "      <td>-</td>\n",
       "      <td>300153</td>\n",
       "      <td>Page -1 of 1</td>\n",
       "    </tr>\n",
       "    <tr>\n",
       "      <th>2</th>\n",
       "      <td>20000</td>\n",
       "      <td>BOX 881</td>\n",
       "      <td>5 STAR SEALCOATING LLC</td>\n",
       "      <td>6,030</td>\n",
       "      <td>EAST LYME, CT 06333-0881</td>\n",
       "      <td>CABAND</td>\n",
       "      <td>GMC</td>\n",
       "      <td>2001</td>\n",
       "      <td>8</td>\n",
       "      <td>GRN</td>\n",
       "      <td>...</td>\n",
       "      <td>Page: Exemptions</td>\n",
       "      <td>2962222</td>\n",
       "      <td>Gross:</td>\n",
       "      <td>206501863</td>\n",
       "      <td>Net:</td>\n",
       "      <td>203539641</td>\n",
       "      <td>ZUR</td>\n",
       "      <td>-</td>\n",
       "      <td>300153</td>\n",
       "      <td>Page -1 of 1</td>\n",
       "    </tr>\n",
       "    <tr>\n",
       "      <th>3</th>\n",
       "      <td>30000</td>\n",
       "      <td>335 MAIN ST</td>\n",
       "      <td>A BEAUTIFUL COMPANY GENERAL CONTRAC</td>\n",
       "      <td>18,160</td>\n",
       "      <td>NIANTIC, CT 06357-3128</td>\n",
       "      <td>CREWPI</td>\n",
       "      <td>FORD</td>\n",
       "      <td>2014</td>\n",
       "      <td>6</td>\n",
       "      <td>GRN</td>\n",
       "      <td>...</td>\n",
       "      <td>Page: Exemptions</td>\n",
       "      <td>2962222</td>\n",
       "      <td>Gross:</td>\n",
       "      <td>206501863</td>\n",
       "      <td>Net:</td>\n",
       "      <td>203539641</td>\n",
       "      <td>ZUR</td>\n",
       "      <td>-</td>\n",
       "      <td>300153</td>\n",
       "      <td>Page -1 of 1</td>\n",
       "    </tr>\n",
       "    <tr>\n",
       "      <th>4</th>\n",
       "      <td>30001</td>\n",
       "      <td>335 MAIN ST</td>\n",
       "      <td>A BEAUTIFUL COMPANY GENERAL CONTRAC</td>\n",
       "      <td>21,770</td>\n",
       "      <td>NIANTIC, CT 06357-3128</td>\n",
       "      <td>Truck</td>\n",
       "      <td>RAM</td>\n",
       "      <td>2019</td>\n",
       "      <td>6</td>\n",
       "      <td>BLK</td>\n",
       "      <td>...</td>\n",
       "      <td>Page: Exemptions</td>\n",
       "      <td>2962222</td>\n",
       "      <td>Gross:</td>\n",
       "      <td>206501863</td>\n",
       "      <td>Net:</td>\n",
       "      <td>203539641</td>\n",
       "      <td>ZUR</td>\n",
       "      <td>-</td>\n",
       "      <td>300153</td>\n",
       "      <td>Page -1 of 1</td>\n",
       "    </tr>\n",
       "    <tr>\n",
       "      <th>...</th>\n",
       "      <td>...</td>\n",
       "      <td>...</td>\n",
       "      <td>...</td>\n",
       "      <td>...</td>\n",
       "      <td>...</td>\n",
       "      <td>...</td>\n",
       "      <td>...</td>\n",
       "      <td>...</td>\n",
       "      <td>...</td>\n",
       "      <td>...</td>\n",
       "      <td>...</td>\n",
       "      <td>...</td>\n",
       "      <td>...</td>\n",
       "      <td>...</td>\n",
       "      <td>...</td>\n",
       "      <td>...</td>\n",
       "      <td>...</td>\n",
       "      <td>...</td>\n",
       "      <td>...</td>\n",
       "      <td>...</td>\n",
       "      <td>...</td>\n",
       "    </tr>\n",
       "    <tr>\n",
       "      <th>17611</th>\n",
       "      <td>300149</td>\n",
       "      <td>13 ROXBURY CT</td>\n",
       "      <td>ZURZUSKI DAVID THOMAS 3rd</td>\n",
       "      <td>25,880</td>\n",
       "      <td>NIANTIC, CT 06357-1313</td>\n",
       "      <td>SUPERC</td>\n",
       "      <td>FORD</td>\n",
       "      <td>2018</td>\n",
       "      <td>6</td>\n",
       "      <td>BLK</td>\n",
       "      <td>...</td>\n",
       "      <td>Page: Exemptions</td>\n",
       "      <td>2962222</td>\n",
       "      <td>Gross:</td>\n",
       "      <td>206501863</td>\n",
       "      <td>Net:</td>\n",
       "      <td>203539641</td>\n",
       "      <td>ZUR</td>\n",
       "      <td>-</td>\n",
       "      <td>300153</td>\n",
       "      <td>Page -1 of 1</td>\n",
       "    </tr>\n",
       "    <tr>\n",
       "      <th>17612</th>\n",
       "      <td>300150</td>\n",
       "      <td>ZURZUSKI SHEILA L</td>\n",
       "      <td>ZURZUSKI DAVID THOMAS 3rd</td>\n",
       "      <td>16,970</td>\n",
       "      <td>13 ROXBURY CT</td>\n",
       "      <td>SEDAN4</td>\n",
       "      <td>SUBAR</td>\n",
       "      <td>2019</td>\n",
       "      <td>4</td>\n",
       "      <td>SIL</td>\n",
       "      <td>...</td>\n",
       "      <td>Page: Exemptions</td>\n",
       "      <td>2962222</td>\n",
       "      <td>Gross:</td>\n",
       "      <td>206501863</td>\n",
       "      <td>Net:</td>\n",
       "      <td>203539641</td>\n",
       "      <td>ZUR</td>\n",
       "      <td>-</td>\n",
       "      <td>300153</td>\n",
       "      <td>Page -1 of 1</td>\n",
       "    </tr>\n",
       "    <tr>\n",
       "      <th>17613</th>\n",
       "      <td>300151</td>\n",
       "      <td>13 ROXBURY CT</td>\n",
       "      <td>ZURZUSKI DAVID THOMAS 3rd</td>\n",
       "      <td>2,905</td>\n",
       "      <td>NIANTIC, CT 06357-1313</td>\n",
       "      <td>WAGON4</td>\n",
       "      <td>JEEP</td>\n",
       "      <td>1999</td>\n",
       "      <td>6</td>\n",
       "      <td>GRY</td>\n",
       "      <td>...</td>\n",
       "      <td>Page: Exemptions</td>\n",
       "      <td>2962222</td>\n",
       "      <td>Gross:</td>\n",
       "      <td>206501863</td>\n",
       "      <td>Net:</td>\n",
       "      <td>203539641</td>\n",
       "      <td>ZUR</td>\n",
       "      <td>-</td>\n",
       "      <td>300153</td>\n",
       "      <td>Page -1 of 1</td>\n",
       "    </tr>\n",
       "    <tr>\n",
       "      <th>17614</th>\n",
       "      <td>300152</td>\n",
       "      <td>13 ROXBURY CT</td>\n",
       "      <td>ZURZUSKI ZACHARY H</td>\n",
       "      <td>18,410</td>\n",
       "      <td>NIANTIC, CT 06357-1313</td>\n",
       "      <td>SEDAN4</td>\n",
       "      <td>SUBAR</td>\n",
       "      <td>2018</td>\n",
       "      <td>4</td>\n",
       "      <td>BLU</td>\n",
       "      <td>...</td>\n",
       "      <td>Page: Exemptions</td>\n",
       "      <td>2962222</td>\n",
       "      <td>Gross:</td>\n",
       "      <td>206501863</td>\n",
       "      <td>Net:</td>\n",
       "      <td>203539641</td>\n",
       "      <td>ZUR</td>\n",
       "      <td>-</td>\n",
       "      <td>300153</td>\n",
       "      <td>Page -1 of 1</td>\n",
       "    </tr>\n",
       "    <tr>\n",
       "      <th>17615</th>\n",
       "      <td>300153</td>\n",
       "      <td>13 ROXBURY CT</td>\n",
       "      <td>ZURZUSKI ZACHARY H</td>\n",
       "      <td>7,470</td>\n",
       "      <td>NIANTIC, CT 06357-1313</td>\n",
       "      <td>SEDAN4</td>\n",
       "      <td>SUBAR</td>\n",
       "      <td>2008</td>\n",
       "      <td>4</td>\n",
       "      <td>GRY</td>\n",
       "      <td>...</td>\n",
       "      <td>Page: Exemptions</td>\n",
       "      <td>2962222</td>\n",
       "      <td>Gross:</td>\n",
       "      <td>206501863</td>\n",
       "      <td>Net:</td>\n",
       "      <td>203539641</td>\n",
       "      <td>ZUR</td>\n",
       "      <td>-</td>\n",
       "      <td>300153</td>\n",
       "      <td>Page -1 of 1</td>\n",
       "    </tr>\n",
       "  </tbody>\n",
       "</table>\n",
       "<p>17616 rows × 34 columns</p>\n",
       "</div>"
      ],
      "text/plain": [
       "        Act #             Address                                 Name  \\\n",
       "0       10000  11 WEST SOCIETY RD              205-207 MONTAUK AVE LLC   \n",
       "1       10001          PO BOX 297                             2CDP LLC   \n",
       "2       20000             BOX 881               5 STAR SEALCOATING LLC   \n",
       "3       30000         335 MAIN ST  A BEAUTIFUL COMPANY GENERAL CONTRAC   \n",
       "4       30001         335 MAIN ST  A BEAUTIFUL COMPANY GENERAL CONTRAC   \n",
       "...       ...                 ...                                  ...   \n",
       "17611  300149       13 ROXBURY CT            ZURZUSKI DAVID THOMAS 3rd   \n",
       "17612  300150   ZURZUSKI SHEILA L            ZURZUSKI DAVID THOMAS 3rd   \n",
       "17613  300151       13 ROXBURY CT            ZURZUSKI DAVID THOMAS 3rd   \n",
       "17614  300152       13 ROXBURY CT                   ZURZUSKI ZACHARY H   \n",
       "17615  300153       13 ROXBURY CT                   ZURZUSKI ZACHARY H   \n",
       "\n",
       "      Unnamed: 3              Address cont   Style   Make    Yr  C Color  ...  \\\n",
       "0         16,480       EAST LYME, CT 06333  SPORTV  MERCE  2016  4   SIL  ...   \n",
       "1         76,300  WATERFORD, CT 06385-0297  WAGON4   AUDI  2021  8   GRY  ...   \n",
       "2          6,030  EAST LYME, CT 06333-0881  CABAND    GMC  2001  8   GRN  ...   \n",
       "3         18,160    NIANTIC, CT 06357-3128  CREWPI   FORD  2014  6   GRN  ...   \n",
       "4         21,770    NIANTIC, CT 06357-3128   Truck    RAM  2019  6   BLK  ...   \n",
       "...          ...                       ...     ...    ...   ... ..   ...  ...   \n",
       "17611     25,880    NIANTIC, CT 06357-1313  SUPERC   FORD  2018  6   BLK  ...   \n",
       "17612     16,970             13 ROXBURY CT  SEDAN4  SUBAR  2019  4   SIL  ...   \n",
       "17613      2,905    NIANTIC, CT 06357-1313  WAGON4   JEEP  1999  6   GRY  ...   \n",
       "17614     18,410    NIANTIC, CT 06357-1313  SEDAN4  SUBAR  2018  4   BLU  ...   \n",
       "17615      7,470    NIANTIC, CT 06357-1313  SEDAN4  SUBAR  2008  4   GRY  ...   \n",
       "\n",
       "            Unnamed: 24  Unnamed: 25  Unnamed: 26 Unnamed: 27 Unnamed: 28  \\\n",
       "0      Page: Exemptions      2962222       Gross:   206501863        Net:   \n",
       "1      Page: Exemptions      2962222       Gross:   206501863        Net:   \n",
       "2      Page: Exemptions      2962222       Gross:   206501863        Net:   \n",
       "3      Page: Exemptions      2962222       Gross:   206501863        Net:   \n",
       "4      Page: Exemptions      2962222       Gross:   206501863        Net:   \n",
       "...                 ...          ...          ...         ...         ...   \n",
       "17611  Page: Exemptions      2962222       Gross:   206501863        Net:   \n",
       "17612  Page: Exemptions      2962222       Gross:   206501863        Net:   \n",
       "17613  Page: Exemptions      2962222       Gross:   206501863        Net:   \n",
       "17614  Page: Exemptions      2962222       Gross:   206501863        Net:   \n",
       "17615  Page: Exemptions      2962222       Gross:   206501863        Net:   \n",
       "\n",
       "      Unnamed: 29  Unnamed: 30  Unnamed: 31 Unnamed: 32   Unnamed: 33  \n",
       "0       203539641          ZUR            -      300153  Page -1 of 1  \n",
       "1       203539641          ZUR            -      300153  Page -1 of 1  \n",
       "2       203539641          ZUR            -      300153  Page -1 of 1  \n",
       "3       203539641          ZUR            -      300153  Page -1 of 1  \n",
       "4       203539641          ZUR            -      300153  Page -1 of 1  \n",
       "...           ...          ...          ...         ...           ...  \n",
       "17611   203539641          ZUR            -      300153  Page -1 of 1  \n",
       "17612   203539641          ZUR            -      300153  Page -1 of 1  \n",
       "17613   203539641          ZUR            -      300153  Page -1 of 1  \n",
       "17614   203539641          ZUR            -      300153  Page -1 of 1  \n",
       "17615   203539641          ZUR            -      300153  Page -1 of 1  \n",
       "\n",
       "[17616 rows x 34 columns]"
      ]
     },
     "execution_count": 87,
     "metadata": {},
     "output_type": "execute_result"
    }
   ],
   "source": [
    "east_lyme_21 = pd.read_csv(raw_files_21 / \"045_East_Lyme_MV_21.csv\")\n",
    "east_lyme_21"
   ]
  },
  {
   "cell_type": "code",
   "execution_count": 88,
   "id": "7cbba9ad",
   "metadata": {},
   "outputs": [],
   "source": [
    "def address_splitter(addresses):\n",
    "    address_list = list(addresses)\n",
    "    \n",
    "    address_states  = []\n",
    "    address_zips    = []\n",
    "    address_streets = []\n",
    "    address_cities  = []\n",
    "    \n",
    "    # Fields needed\n",
    "    fields_needed = [\"USPSBoxType\", \n",
    "                     \"USPSBoxID\", \n",
    "                     \"AddressNumber\", \n",
    "                     \"StreetName\", \n",
    "                     \"StreetNamePostType\",\n",
    "                     \"PlaceName\", \n",
    "                     \"StateName\", \n",
    "                     \"ZipCode\"]\n",
    "    \n",
    "    \n",
    "    # Go through each address and parse it\n",
    "    for address in tqdm(addresses):\n",
    "        empty_address_dict = dict.fromkeys(fields_needed)\n",
    "        \n",
    "        # Create the street+city, state, and zip\n",
    "        try:\n",
    "            parsed_address = usaddress.parse(address)\n",
    "            parsed_address_list = [list(tup) for tup in parsed_address]\n",
    "            \n",
    "            for field in empty_address_dict.keys():\n",
    "                field_values = [sublist[0] for sublist in parsed_address_list if sublist[1]==field]\n",
    "                num_notempty = len(field_values)\n",
    "                \n",
    "                if num_notempty > 0:\n",
    "                    empty_address_dict[field] = ' '.join([sublist[0].replace(',','') for sublist in parsed_address_list if sublist[1]==field])\n",
    "                else:\n",
    "                    empty_address_dict[field] = \"\"\n",
    "            \n",
    "            # We set the street, city, zip code, and state\n",
    "            street = \" \".join([empty_address_dict[\"USPSBoxType\"],\n",
    "                               empty_address_dict[\"USPSBoxID\"],\n",
    "                               empty_address_dict[\"AddressNumber\"],\n",
    "                               empty_address_dict[\"StreetName\"],\n",
    "                               empty_address_dict[\"StreetNamePostType\"]]).strip()\n",
    "            city =     empty_address_dict[\"PlaceName\"]\n",
    "            zip_code = empty_address_dict[\"ZipCode\"]\n",
    "            state =    empty_address_dict[\"StateName\"]\n",
    "            \n",
    "        except:\n",
    "            street = \"\"\n",
    "            city = \"\"\n",
    "            zip_code = \"\"\n",
    "            state = \"\"\n",
    "                \n",
    "        # We append these to the master lists, that will be set as columns\n",
    "        address_states.append(state)\n",
    "        address_zips.append(zip_code)\n",
    "        address_streets.append(street)\n",
    "        address_cities.append(city)\n",
    "        \n",
    "    output_df = pd.DataFrame({\"state\": address_states,\n",
    "                              \"zip\": address_zips,\n",
    "                              \"street\":address_streets,\n",
    "                              \"city\": address_cities})\n",
    "    return output_df"
   ]
  },
  {
   "cell_type": "code",
   "execution_count": 89,
   "id": "b992e025",
   "metadata": {},
   "outputs": [
    {
     "name": "stderr",
     "output_type": "stream",
     "text": [
      "100%|██████████| 17616/17616 [00:01<00:00, 12273.97it/s]\n"
     ]
    }
   ],
   "source": [
    "df = address_splitter(east_lyme_21[\"Address cont\"])"
   ]
  },
  {
   "cell_type": "code",
   "execution_count": 90,
   "id": "febfb787",
   "metadata": {},
   "outputs": [],
   "source": [
    "east_lyme_21 = east_lyme_21.join(df)"
   ]
  },
  {
   "cell_type": "code",
   "execution_count": 91,
   "id": "0f911091",
   "metadata": {},
   "outputs": [],
   "source": [
    "east_lyme_index_21 = column_renamer_2021[column_renamer_2021[\"record_from\"].str.contains(\"Lyme\")].index.tolist()[0]\n",
    "for column in [\"state\", \"zip\", \"street\", \"city\"]:\n",
    "    column_renamer_2021.loc[east_lyme_index_21, column] = column"
   ]
  },
  {
   "cell_type": "code",
   "execution_count": 92,
   "id": "f54ce239",
   "metadata": {},
   "outputs": [
    {
     "data": {
      "text/plain": [
       "record_from      045_East_Lyme_MV_21.csv\n",
       "name                                Name\n",
       "street                            street\n",
       "city                                city\n",
       "state                              state\n",
       "zip                                  zip\n",
       "vehicle_year                         NaN\n",
       "vehicle_make                        Make\n",
       "vehicle_model                      Model\n",
       "vehicle_class                        NaN\n",
       "vehicle_id                           Vin\n",
       "lease_street                         NaN\n",
       "UID                                  NaN\n",
       "lease_city                           NaN\n",
       "lease_state                          NaN\n",
       "lease_zip                            NaN\n",
       "Name: 33, dtype: object"
      ]
     },
     "execution_count": 92,
     "metadata": {},
     "output_type": "execute_result"
    }
   ],
   "source": [
    "column_renamer_2021.loc[east_lyme_index_21]"
   ]
  },
  {
   "cell_type": "code",
   "execution_count": 93,
   "id": "c6d7fd04",
   "metadata": {},
   "outputs": [],
   "source": [
    "column_renamer_2021.loc[east_lyme_index_21, \"record_from\"] = \"045_East_Lyme_MV_21_ALTERED.csv\""
   ]
  },
  {
   "cell_type": "markdown",
   "id": "676e70d2",
   "metadata": {},
   "source": [
    "### Ledyard 2021"
   ]
  },
  {
   "cell_type": "code",
   "execution_count": 94,
   "id": "2fa9e2d3",
   "metadata": {},
   "outputs": [],
   "source": [
    "ledyard_21 = pd.read_excel(raw_files_21 / \"072_Ledyard_MV_21.xlsx\")"
   ]
  },
  {
   "cell_type": "code",
   "execution_count": 95,
   "id": "2f61b594",
   "metadata": {},
   "outputs": [
    {
     "name": "stderr",
     "output_type": "stream",
     "text": [
      "100%|██████████| 13858/13858 [00:01<00:00, 11990.34it/s]\n",
      "100%|██████████| 13858/13858 [00:01<00:00, 12700.06it/s]\n"
     ]
    }
   ],
   "source": [
    "ledyard_parse_address_1 = address_splitter(ledyard_21[\"ADDRESS\"])\n",
    "ledyard_parse_address_2 = address_splitter(ledyard_21[\"SECOND NAME/ADDRESS\"])\n",
    "\n",
    "ledyard_full_parsed_address = ledyard_parse_address_1.join(ledyard_parse_address_2, rsuffix = \"_2\")"
   ]
  },
  {
   "cell_type": "code",
   "execution_count": 96,
   "id": "fc2e3cbc",
   "metadata": {},
   "outputs": [
    {
     "name": "stderr",
     "output_type": "stream",
     "text": [
      "100%|██████████| 13858/13858 [00:00<00:00, 44812.14it/s]\n"
     ]
    }
   ],
   "source": [
    "ledyard_parse_address_3 = address_splitter(ledyard_21[\"ADDRESS.1\"])"
   ]
  },
  {
   "cell_type": "code",
   "execution_count": 97,
   "id": "0c45ac7f",
   "metadata": {},
   "outputs": [],
   "source": [
    "mask_1 = ~(ledyard_full_parsed_address[\"street\"] ==\"\") #use street\n",
    "mask_2 = ~(ledyard_full_parsed_address[\"street_2\"] ==\"\") #When there is NOT a name in the second address column\n",
    "mask_3 = (ledyard_full_parsed_address[\"street_2\"] ==\"\") #When there is a name in the second address column\n",
    "ledyard_full_parsed_address.loc[mask_1, \"street_final\"] = ledyard_full_parsed_address.loc[mask_1, \"street\"]\n",
    "ledyard_full_parsed_address.loc[mask_2, \"street_final\"] = ledyard_full_parsed_address.loc[mask_2, \"street_2\"]\n",
    "ledyard_full_parsed_address.loc[mask_3, \"city\"] = ledyard_parse_address_3.loc[mask_3, \"city\"]\n",
    "ledyard_full_parsed_address.loc[mask_3, \"zip\"] = ledyard_parse_address_3.loc[mask_3, \"zip\"]\n",
    "ledyard_full_parsed_address.loc[mask_3, \"state\"] = ledyard_parse_address_3.loc[mask_3, \"state\"]"
   ]
  },
  {
   "cell_type": "code",
   "execution_count": 98,
   "id": "e50009b9",
   "metadata": {},
   "outputs": [],
   "source": [
    "ledyard_21 = ledyard_21.join(ledyard_full_parsed_address[[\"state\", \"city\", \"zip\", \"street_final\"]])\n",
    "ledyard_21 = ledyard_21.rename(columns = {\"street_final\":\"street\"})"
   ]
  },
  {
   "cell_type": "code",
   "execution_count": 99,
   "id": "63f62b66",
   "metadata": {},
   "outputs": [],
   "source": [
    "ledyard_index_21 = column_renamer_2021[column_renamer_2021[\"record_from\"].str.contains(\"Ledyard\")].index.tolist()[0]\n",
    "for column in [\"state\", \"zip\", \"street\", \"city\"]:\n",
    "    column_renamer_2021.loc[ledyard_index_21, column] = column"
   ]
  },
  {
   "cell_type": "code",
   "execution_count": 100,
   "id": "4291896b",
   "metadata": {},
   "outputs": [],
   "source": [
    "column_renamer_2021.loc[ledyard_index_21, \"record_from\"] = \"072_Ledyard_MV_21_ALTERED.csv\""
   ]
  },
  {
   "cell_type": "markdown",
   "id": "01e54b19",
   "metadata": {},
   "source": [
    "## Check 2021 renamer"
   ]
  },
  {
   "cell_type": "markdown",
   "id": "b2fd6034",
   "metadata": {},
   "source": [
    "**Missing street address**"
   ]
  },
  {
   "cell_type": "code",
   "execution_count": 101,
   "id": "dcc9016b",
   "metadata": {},
   "outputs": [
    {
     "data": {
      "text/html": [
       "<div>\n",
       "<style scoped>\n",
       "    .dataframe tbody tr th:only-of-type {\n",
       "        vertical-align: middle;\n",
       "    }\n",
       "\n",
       "    .dataframe tbody tr th {\n",
       "        vertical-align: top;\n",
       "    }\n",
       "\n",
       "    .dataframe thead th {\n",
       "        text-align: right;\n",
       "    }\n",
       "</style>\n",
       "<table border=\"1\" class=\"dataframe\">\n",
       "  <thead>\n",
       "    <tr style=\"text-align: right;\">\n",
       "      <th></th>\n",
       "      <th>record_from</th>\n",
       "      <th>name</th>\n",
       "      <th>street</th>\n",
       "      <th>city</th>\n",
       "      <th>state</th>\n",
       "      <th>zip</th>\n",
       "      <th>vehicle_year</th>\n",
       "      <th>vehicle_make</th>\n",
       "      <th>vehicle_model</th>\n",
       "      <th>vehicle_class</th>\n",
       "      <th>vehicle_id</th>\n",
       "      <th>lease_street</th>\n",
       "      <th>UID</th>\n",
       "      <th>lease_city</th>\n",
       "      <th>lease_state</th>\n",
       "      <th>lease_zip</th>\n",
       "    </tr>\n",
       "  </thead>\n",
       "  <tbody>\n",
       "    <tr>\n",
       "      <th>27</th>\n",
       "      <td>037_Derby_MV_21.xls</td>\n",
       "      <td>NaN</td>\n",
       "      <td>NaN</td>\n",
       "      <td>NaN</td>\n",
       "      <td>NaN</td>\n",
       "      <td>NaN</td>\n",
       "      <td>YEAR</td>\n",
       "      <td>MAKE</td>\n",
       "      <td>MODEL</td>\n",
       "      <td>NaN</td>\n",
       "      <td>VIN</td>\n",
       "      <td>NaN</td>\n",
       "      <td>NaN</td>\n",
       "      <td>NaN</td>\n",
       "      <td>NaN</td>\n",
       "      <td>NaN</td>\n",
       "    </tr>\n",
       "    <tr>\n",
       "      <th>42</th>\n",
       "      <td>055_Goshen_MV_21.XLSX</td>\n",
       "      <td>TAXPAYER</td>\n",
       "      <td>NaN</td>\n",
       "      <td>NaN</td>\n",
       "      <td>NaN</td>\n",
       "      <td>NaN</td>\n",
       "      <td>VEHICLE_YEAR</td>\n",
       "      <td>VEHICLE_MAKE</td>\n",
       "      <td>VEHICLE_MODEL</td>\n",
       "      <td>VEHICLE_CLASS</td>\n",
       "      <td>VEHICLE_ID</td>\n",
       "      <td>NaN</td>\n",
       "      <td>NaN</td>\n",
       "      <td>NaN</td>\n",
       "      <td>NaN</td>\n",
       "      <td>NaN</td>\n",
       "    </tr>\n",
       "    <tr>\n",
       "      <th>84</th>\n",
       "      <td>107_Orange_MV_21.xlsx</td>\n",
       "      <td>NaN</td>\n",
       "      <td>NaN</td>\n",
       "      <td>NaN</td>\n",
       "      <td>NaN</td>\n",
       "      <td>NaN</td>\n",
       "      <td>VEHICLE_YEAR</td>\n",
       "      <td>VEHICLE_MAKE</td>\n",
       "      <td>VEHICLE_MODEL</td>\n",
       "      <td>VEHICLE_CLASS</td>\n",
       "      <td>VEHICLE_ID</td>\n",
       "      <td>NaN</td>\n",
       "      <td>NaN</td>\n",
       "      <td>NaN</td>\n",
       "      <td>NaN</td>\n",
       "      <td>NaN</td>\n",
       "    </tr>\n",
       "  </tbody>\n",
       "</table>\n",
       "</div>"
      ],
      "text/plain": [
       "              record_from      name street city state  zip  vehicle_year  \\\n",
       "27    037_Derby_MV_21.xls       NaN    NaN  NaN   NaN  NaN          YEAR   \n",
       "42  055_Goshen_MV_21.XLSX  TAXPAYER    NaN  NaN   NaN  NaN  VEHICLE_YEAR   \n",
       "84  107_Orange_MV_21.xlsx       NaN    NaN  NaN   NaN  NaN  VEHICLE_YEAR   \n",
       "\n",
       "    vehicle_make  vehicle_model  vehicle_class  vehicle_id lease_street  UID  \\\n",
       "27          MAKE          MODEL            NaN         VIN          NaN  NaN   \n",
       "42  VEHICLE_MAKE  VEHICLE_MODEL  VEHICLE_CLASS  VEHICLE_ID          NaN  NaN   \n",
       "84  VEHICLE_MAKE  VEHICLE_MODEL  VEHICLE_CLASS  VEHICLE_ID          NaN  NaN   \n",
       "\n",
       "   lease_city lease_state lease_zip  \n",
       "27        NaN         NaN       NaN  \n",
       "42        NaN         NaN       NaN  \n",
       "84        NaN         NaN       NaN  "
      ]
     },
     "execution_count": 101,
     "metadata": {},
     "output_type": "execute_result"
    }
   ],
   "source": [
    "column_renamer_2021[column_renamer_2021[\"street\"].isna()]"
   ]
  },
  {
   "cell_type": "markdown",
   "id": "dcfc642b",
   "metadata": {},
   "source": [
    "These three files do not contain street addresses anyway - no way to fix this."
   ]
  },
  {
   "cell_type": "markdown",
   "id": "c3f628df",
   "metadata": {},
   "source": [
    "**Missing VIN**"
   ]
  },
  {
   "cell_type": "code",
   "execution_count": 102,
   "id": "f3fd896a",
   "metadata": {
    "scrolled": true
   },
   "outputs": [
    {
     "data": {
      "text/html": [
       "<div>\n",
       "<style scoped>\n",
       "    .dataframe tbody tr th:only-of-type {\n",
       "        vertical-align: middle;\n",
       "    }\n",
       "\n",
       "    .dataframe tbody tr th {\n",
       "        vertical-align: top;\n",
       "    }\n",
       "\n",
       "    .dataframe thead th {\n",
       "        text-align: right;\n",
       "    }\n",
       "</style>\n",
       "<table border=\"1\" class=\"dataframe\">\n",
       "  <thead>\n",
       "    <tr style=\"text-align: right;\">\n",
       "      <th></th>\n",
       "      <th>record_from</th>\n",
       "      <th>name</th>\n",
       "      <th>street</th>\n",
       "      <th>city</th>\n",
       "      <th>state</th>\n",
       "      <th>zip</th>\n",
       "      <th>vehicle_year</th>\n",
       "      <th>vehicle_make</th>\n",
       "      <th>vehicle_model</th>\n",
       "      <th>vehicle_class</th>\n",
       "      <th>vehicle_id</th>\n",
       "      <th>lease_street</th>\n",
       "      <th>UID</th>\n",
       "      <th>lease_city</th>\n",
       "      <th>lease_state</th>\n",
       "      <th>lease_zip</th>\n",
       "    </tr>\n",
       "  </thead>\n",
       "  <tbody>\n",
       "  </tbody>\n",
       "</table>\n",
       "</div>"
      ],
      "text/plain": [
       "Empty DataFrame\n",
       "Columns: [record_from, name, street, city, state, zip, vehicle_year, vehicle_make, vehicle_model, vehicle_class, vehicle_id, lease_street, UID, lease_city, lease_state, lease_zip]\n",
       "Index: []"
      ]
     },
     "execution_count": 102,
     "metadata": {},
     "output_type": "execute_result"
    }
   ],
   "source": [
    "column_renamer_2021[column_renamer_2021[\"vehicle_id\"].isna()]"
   ]
  },
  {
   "cell_type": "markdown",
   "id": "0f448aa6",
   "metadata": {},
   "source": [
    "So there are no places where we don't have a name for the VIN column."
   ]
  },
  {
   "cell_type": "markdown",
   "id": "0943f3a8",
   "metadata": {},
   "source": [
    "**Missing ZIP**"
   ]
  },
  {
   "cell_type": "code",
   "execution_count": 103,
   "id": "126e3590",
   "metadata": {},
   "outputs": [
    {
     "data": {
      "text/html": [
       "<div>\n",
       "<style scoped>\n",
       "    .dataframe tbody tr th:only-of-type {\n",
       "        vertical-align: middle;\n",
       "    }\n",
       "\n",
       "    .dataframe tbody tr th {\n",
       "        vertical-align: top;\n",
       "    }\n",
       "\n",
       "    .dataframe thead th {\n",
       "        text-align: right;\n",
       "    }\n",
       "</style>\n",
       "<table border=\"1\" class=\"dataframe\">\n",
       "  <thead>\n",
       "    <tr style=\"text-align: right;\">\n",
       "      <th></th>\n",
       "      <th>record_from</th>\n",
       "      <th>name</th>\n",
       "      <th>street</th>\n",
       "      <th>city</th>\n",
       "      <th>state</th>\n",
       "      <th>zip</th>\n",
       "      <th>vehicle_year</th>\n",
       "      <th>vehicle_make</th>\n",
       "      <th>vehicle_model</th>\n",
       "      <th>vehicle_class</th>\n",
       "      <th>vehicle_id</th>\n",
       "      <th>lease_street</th>\n",
       "      <th>UID</th>\n",
       "      <th>lease_city</th>\n",
       "      <th>lease_state</th>\n",
       "      <th>lease_zip</th>\n",
       "    </tr>\n",
       "  </thead>\n",
       "  <tbody>\n",
       "    <tr>\n",
       "      <th>27</th>\n",
       "      <td>037_Derby_MV_21.xls</td>\n",
       "      <td>NaN</td>\n",
       "      <td>NaN</td>\n",
       "      <td>NaN</td>\n",
       "      <td>NaN</td>\n",
       "      <td>NaN</td>\n",
       "      <td>YEAR</td>\n",
       "      <td>MAKE</td>\n",
       "      <td>MODEL</td>\n",
       "      <td>NaN</td>\n",
       "      <td>VIN</td>\n",
       "      <td>NaN</td>\n",
       "      <td>NaN</td>\n",
       "      <td>NaN</td>\n",
       "      <td>NaN</td>\n",
       "      <td>NaN</td>\n",
       "    </tr>\n",
       "    <tr>\n",
       "      <th>42</th>\n",
       "      <td>055_Goshen_MV_21.XLSX</td>\n",
       "      <td>TAXPAYER</td>\n",
       "      <td>NaN</td>\n",
       "      <td>NaN</td>\n",
       "      <td>NaN</td>\n",
       "      <td>NaN</td>\n",
       "      <td>VEHICLE_YEAR</td>\n",
       "      <td>VEHICLE_MAKE</td>\n",
       "      <td>VEHICLE_MODEL</td>\n",
       "      <td>VEHICLE_CLASS</td>\n",
       "      <td>VEHICLE_ID</td>\n",
       "      <td>NaN</td>\n",
       "      <td>NaN</td>\n",
       "      <td>NaN</td>\n",
       "      <td>NaN</td>\n",
       "      <td>NaN</td>\n",
       "    </tr>\n",
       "    <tr>\n",
       "      <th>77</th>\n",
       "      <td>098_Norfolk_MV_21.xlsx</td>\n",
       "      <td>TAXPAYER</td>\n",
       "      <td>RESIDENCE_STREET</td>\n",
       "      <td>RESIDENCE_CITY</td>\n",
       "      <td>NaN</td>\n",
       "      <td>NaN</td>\n",
       "      <td>VEHICLE_YEAR</td>\n",
       "      <td>VEHICLE_MAKE</td>\n",
       "      <td>VEHICLE_MODEL</td>\n",
       "      <td>VEHICLE_CLASS</td>\n",
       "      <td>VEHICLE_ID</td>\n",
       "      <td>RESIDENCE_STREET</td>\n",
       "      <td>NaN</td>\n",
       "      <td>RESIDENCE_CITY</td>\n",
       "      <td>NaN</td>\n",
       "      <td>NaN</td>\n",
       "    </tr>\n",
       "    <tr>\n",
       "      <th>84</th>\n",
       "      <td>107_Orange_MV_21.xlsx</td>\n",
       "      <td>NaN</td>\n",
       "      <td>NaN</td>\n",
       "      <td>NaN</td>\n",
       "      <td>NaN</td>\n",
       "      <td>NaN</td>\n",
       "      <td>VEHICLE_YEAR</td>\n",
       "      <td>VEHICLE_MAKE</td>\n",
       "      <td>VEHICLE_MODEL</td>\n",
       "      <td>VEHICLE_CLASS</td>\n",
       "      <td>VEHICLE_ID</td>\n",
       "      <td>NaN</td>\n",
       "      <td>NaN</td>\n",
       "      <td>NaN</td>\n",
       "      <td>NaN</td>\n",
       "      <td>NaN</td>\n",
       "    </tr>\n",
       "    <tr>\n",
       "      <th>143</th>\n",
       "      <td>117_Redding_MV_21.xlsx</td>\n",
       "      <td>NaN</td>\n",
       "      <td>STREET</td>\n",
       "      <td>NaN</td>\n",
       "      <td>NaN</td>\n",
       "      <td>NaN</td>\n",
       "      <td>VEHICLE_YEAR</td>\n",
       "      <td>VEHICLE_MAKE</td>\n",
       "      <td>VEHICLE_MODEL</td>\n",
       "      <td>VEHICLE_CLASS</td>\n",
       "      <td>VEHICLE_ID</td>\n",
       "      <td>NaN</td>\n",
       "      <td>NaN</td>\n",
       "      <td>NaN</td>\n",
       "      <td>NaN</td>\n",
       "      <td>NaN</td>\n",
       "    </tr>\n",
       "  </tbody>\n",
       "</table>\n",
       "</div>"
      ],
      "text/plain": [
       "                record_from      name            street            city state  \\\n",
       "27      037_Derby_MV_21.xls       NaN               NaN             NaN   NaN   \n",
       "42    055_Goshen_MV_21.XLSX  TAXPAYER               NaN             NaN   NaN   \n",
       "77   098_Norfolk_MV_21.xlsx  TAXPAYER  RESIDENCE_STREET  RESIDENCE_CITY   NaN   \n",
       "84    107_Orange_MV_21.xlsx       NaN               NaN             NaN   NaN   \n",
       "143  117_Redding_MV_21.xlsx       NaN            STREET             NaN   NaN   \n",
       "\n",
       "     zip  vehicle_year  vehicle_make  vehicle_model  vehicle_class  \\\n",
       "27   NaN          YEAR          MAKE          MODEL            NaN   \n",
       "42   NaN  VEHICLE_YEAR  VEHICLE_MAKE  VEHICLE_MODEL  VEHICLE_CLASS   \n",
       "77   NaN  VEHICLE_YEAR  VEHICLE_MAKE  VEHICLE_MODEL  VEHICLE_CLASS   \n",
       "84   NaN  VEHICLE_YEAR  VEHICLE_MAKE  VEHICLE_MODEL  VEHICLE_CLASS   \n",
       "143  NaN  VEHICLE_YEAR  VEHICLE_MAKE  VEHICLE_MODEL  VEHICLE_CLASS   \n",
       "\n",
       "     vehicle_id      lease_street  UID      lease_city lease_state lease_zip  \n",
       "27          VIN               NaN  NaN             NaN         NaN       NaN  \n",
       "42   VEHICLE_ID               NaN  NaN             NaN         NaN       NaN  \n",
       "77   VEHICLE_ID  RESIDENCE_STREET  NaN  RESIDENCE_CITY         NaN       NaN  \n",
       "84   VEHICLE_ID               NaN  NaN             NaN         NaN       NaN  \n",
       "143  VEHICLE_ID               NaN  NaN             NaN         NaN       NaN  "
      ]
     },
     "execution_count": 103,
     "metadata": {},
     "output_type": "execute_result"
    }
   ],
   "source": [
    "column_renamer_2021[column_renamer_2021[\"zip\"].isna()]"
   ]
  },
  {
   "cell_type": "markdown",
   "id": "6344aaf2",
   "metadata": {},
   "source": [
    "The ZIP is genuinely missing in these underlying files - so nothing to be done here."
   ]
  },
  {
   "cell_type": "markdown",
   "id": "fdadb6cd",
   "metadata": {},
   "source": [
    "# 2020 Renamer"
   ]
  },
  {
   "cell_type": "markdown",
   "id": "69e8846b-e819-423e-bca2-e67fc7c0a3f2",
   "metadata": {},
   "source": [
    "### Avon 2020"
   ]
  },
  {
   "cell_type": "code",
   "execution_count": 169,
   "id": "969e68f9-2606-4124-b469-a77f6cd98571",
   "metadata": {},
   "outputs": [],
   "source": [
    "avon_2020 = pd.read_csv(path.parent.parent / \"data\" / \"municipal_compilation\" /\"town_files_2019_2020\" / \"4_Avon_MVData_2020.csv\")"
   ]
  },
  {
   "cell_type": "code",
   "execution_count": 186,
   "id": "80c18499-2026-4d3f-a24d-0c8058ac2ce0",
   "metadata": {},
   "outputs": [],
   "source": [
    "avon_2020[\"state\"] =  avon_2020[\"CITYST\"].str[-2:].str.strip()\n",
    "avon_2020[\"city\"] = avon_2020[\"CITYST\"].str[:-2].str.strip()\n",
    "avon_2020.to_csv(path.parent.parent / \"data\" / \"municipal_compilation\" /\"town_files_2019_2020\" / \"4_Avon_MVData_2020_ALTERED.csv\")"
   ]
  },
  {
   "cell_type": "code",
   "execution_count": 190,
   "id": "78dab579-59d4-4b0e-b9de-c9fa28fa7f40",
   "metadata": {},
   "outputs": [
    {
     "name": "stdout",
     "output_type": "stream",
     "text": [
      "-----OLD-----\n",
      "record_from      4_Avon_MVData_2020.csv\n",
      "name                               NAME\n",
      "street                           STREET\n",
      "vehicle_id                       IDENT#\n",
      "vehicle_make                       MAKE\n",
      "vehicle_model                     MODEL\n",
      "vehicle_year                         YR\n",
      "city                               city\n",
      "state                             state\n",
      "vehicle_class                       NaN\n",
      "zip                                 ZIP\n",
      "UID                                 NaN\n",
      "lease_city                          NaN\n",
      "lease_state                         NaN\n",
      "lease_street                        NaN\n",
      "lease_zip                           NaN\n",
      "Name: 1, dtype: object\n",
      "-----NEW-----\n",
      "record_from      4_Avon_MVData_2020_ALTERED.csv\n",
      "name                                       NAME\n",
      "street                                   STREET\n",
      "vehicle_id                               IDENT#\n",
      "vehicle_make                               MAKE\n",
      "vehicle_model                             MODEL\n",
      "vehicle_year                                 YR\n",
      "city                                       city\n",
      "state                                     state\n",
      "vehicle_class                               NaN\n",
      "zip                                         ZIP\n",
      "UID                                         NaN\n",
      "lease_city                                  NaN\n",
      "lease_state                                 NaN\n",
      "lease_street                                NaN\n",
      "lease_zip                                   NaN\n",
      "Name: 1, dtype: object\n"
     ]
    }
   ],
   "source": [
    "avon_20_rename_dict = {\"zip\" : \"ZIP\",\n",
    "                       \"state\" : \"state\",\n",
    "                       \"city\" : \"city\",\n",
    "                       \"record_from\" : \"4_Avon_MVData_2020_ALTERED.csv\"}\n",
    "                       \n",
    "fix_renamer(\"2020\", \"Avon\", avon_20_rename_dict)"
   ]
  },
  {
   "cell_type": "markdown",
   "id": "5b1c9ed6-8f60-4318-970a-e5cd263b646a",
   "metadata": {},
   "source": [
    "### Newington 2020"
   ]
  },
  {
   "cell_type": "code",
   "execution_count": 193,
   "id": "1a2fbfc9-4bb9-4933-aea6-b09bf446901c",
   "metadata": {},
   "outputs": [
    {
     "name": "stdout",
     "output_type": "stream",
     "text": [
      "-----OLD-----\n",
      "record_from      96_Newington_MVData_2020.csv\n",
      "name                                 TAXPAYER\n",
      "street                        MAILING ADDRESS\n",
      "vehicle_id                                VIN\n",
      "vehicle_make                             MAKE\n",
      "vehicle_model                           MODEL\n",
      "vehicle_year                             YEAR\n",
      "city                                     CITY\n",
      "state                                      ST\n",
      "vehicle_class                       DMV CLASS\n",
      "zip                                       ZIP\n",
      "UID                                       UID\n",
      "lease_city                                NaN\n",
      "lease_state                               NaN\n",
      "lease_street                              NaN\n",
      "lease_zip                                 NaN\n",
      "Name: 39, dtype: object\n",
      "-----NEW-----\n",
      "record_from      96_Newington_MVData_2020.csv\n",
      "name                                 TAXPAYER\n",
      "street                        MAILING ADDRESS\n",
      "vehicle_id                                VIN\n",
      "vehicle_make                             MAKE\n",
      "vehicle_model                           MODEL\n",
      "vehicle_year                             YEAR\n",
      "city                                     CITY\n",
      "state                                      ST\n",
      "vehicle_class                       DMV CLASS\n",
      "zip                                       ZIP\n",
      "UID                                       UID\n",
      "lease_city                                NaN\n",
      "lease_state                               NaN\n",
      "lease_street                              NaN\n",
      "lease_zip                                 NaN\n",
      "Name: 39, dtype: object\n"
     ]
    }
   ],
   "source": [
    "fix_renamer(\"2020\", \"Newington\", {\"street\":\"MAILING ADDRESS\",\"state\":\"ST\", \"vehicle_class\":\"DMV CLASS\"})"
   ]
  },
  {
   "cell_type": "markdown",
   "id": "8427c65d",
   "metadata": {},
   "source": [
    "### Andover - 2020"
   ]
  },
  {
   "cell_type": "code",
   "execution_count": 105,
   "id": "3ef092b5",
   "metadata": {},
   "outputs": [],
   "source": [
    "renamer_fields_andover = dict.fromkeys(column_renamer_2020.columns[1:])"
   ]
  },
  {
   "cell_type": "code",
   "execution_count": 106,
   "id": "1daf4376",
   "metadata": {},
   "outputs": [],
   "source": [
    "renamer_fields_andover[\"street\"] = \"street\"\n",
    "renamer_fields_andover[\"city\"] = \"city\"\n",
    "renamer_fields_andover[\"state\"]=  \"state\"\n",
    "renamer_fields_andover[\"zip\"] = \"zip1\"\n",
    "renamer_fields_andover[\"vehicle_year\"] = \"vehicle_year\" \n",
    "renamer_fields_andover[\"vehicle_make\"] = \"vehicle_make\"\n",
    "renamer_fields_andover[\"vehicle_model\"] = \"vehicle_model\"\n",
    "renamer_fields_andover[\"vehicle_class\"] = \"vehicle_class\"\n",
    "renamer_fields_andover[\"vehicle_id\"] = \"vehicle_id\""
   ]
  },
  {
   "cell_type": "code",
   "execution_count": 107,
   "id": "e38f3b69-f4f1-4c0d-808c-c6832857fdab",
   "metadata": {},
   "outputs": [
    {
     "name": "stdout",
     "output_type": "stream",
     "text": [
      "-----OLD-----\n",
      "record_from      1_Andover_MVData_2020.csv\n",
      "name                              TAXPAYER\n",
      "street                                 NaN\n",
      "vehicle_id                             NaN\n",
      "vehicle_make                           NaN\n",
      "vehicle_model                          NaN\n",
      "vehicle_year                           NaN\n",
      "city                                   NaN\n",
      "state                                  NaN\n",
      "vehicle_class                          NaN\n",
      "zip                                    NaN\n",
      "UID                                    NaN\n",
      "lease_city                             NaN\n",
      "lease_state                            NaN\n",
      "lease_street                           NaN\n",
      "lease_zip                              NaN\n",
      "Name: 0, dtype: object\n",
      "-----NEW-----\n",
      "record_from      1_Andover_MVData_2020.csv\n",
      "name                                  None\n",
      "street                              street\n",
      "vehicle_id                      vehicle_id\n",
      "vehicle_make                  vehicle_make\n",
      "vehicle_model                vehicle_model\n",
      "vehicle_year                  vehicle_year\n",
      "city                                  city\n",
      "state                                state\n",
      "vehicle_class                vehicle_class\n",
      "zip                                   zip1\n",
      "UID                                   None\n",
      "lease_city                            None\n",
      "lease_state                           None\n",
      "lease_street                          None\n",
      "lease_zip                             None\n",
      "Name: 0, dtype: object\n"
     ]
    }
   ],
   "source": [
    "fix_renamer(\"2020\", \"Andover\", renamer_fields_andover)"
   ]
  },
  {
   "cell_type": "markdown",
   "id": "7d8f8a19",
   "metadata": {},
   "source": [
    "### Chaplin - 2020"
   ]
  },
  {
   "cell_type": "code",
   "execution_count": 108,
   "id": "55b3d370",
   "metadata": {},
   "outputs": [],
   "source": [
    "renamer_fields_chaplin = dict.fromkeys(column_renamer_2020.columns[1:])"
   ]
  },
  {
   "cell_type": "code",
   "execution_count": 109,
   "id": "6d6f48c1",
   "metadata": {},
   "outputs": [],
   "source": [
    "renamer_fields_chaplin[\"name\"] = \"taxpayer\"\n",
    "renamer_fields_chaplin[\"street\"] = \"street\"\n",
    "renamer_fields_chaplin[\"city\"] = \"city\"\n",
    "renamer_fields_chaplin[\"state\"]=  \"state\"\n",
    "renamer_fields_chaplin[\"zip\"] = \"zip1\"\n",
    "renamer_fields_chaplin[\"vehicle_year\"] = \"vehicle_year\" \n",
    "renamer_fields_chaplin[\"vehicle_make\"] = \"vehicle_make\"\n",
    "renamer_fields_chaplin[\"vehicle_model\"] = \"vehicle_model\"\n",
    "renamer_fields_chaplin[\"vehicle_class\"] = \"vehicle_class\"\n",
    "renamer_fields_chaplin[\"vehicle_id\"] = \"vehicle_id\""
   ]
  },
  {
   "cell_type": "code",
   "execution_count": 110,
   "id": "6a0c2083-08ef-4803-8409-7b509ed4bd93",
   "metadata": {},
   "outputs": [
    {
     "name": "stdout",
     "output_type": "stream",
     "text": [
      "-----OLD-----\n",
      "record_from      24_Chaplin_MVData_2020.csv\n",
      "name                               taxpayer\n",
      "street                                  NaN\n",
      "vehicle_id                              NaN\n",
      "vehicle_make                            NaN\n",
      "vehicle_model                           NaN\n",
      "vehicle_year                            NaN\n",
      "city                                    NaN\n",
      "state                                   NaN\n",
      "vehicle_class                           NaN\n",
      "zip                                     NaN\n",
      "UID                                     NaN\n",
      "lease_city                              NaN\n",
      "lease_state                             NaN\n",
      "lease_street                            NaN\n",
      "lease_zip                               NaN\n",
      "Name: 6, dtype: object\n",
      "-----NEW-----\n",
      "record_from      24_Chaplin_MVData_2020.csv\n",
      "name                               taxpayer\n",
      "street                               street\n",
      "vehicle_id                       vehicle_id\n",
      "vehicle_make                   vehicle_make\n",
      "vehicle_model                 vehicle_model\n",
      "vehicle_year                   vehicle_year\n",
      "city                                   city\n",
      "state                                 state\n",
      "vehicle_class                 vehicle_class\n",
      "zip                                    zip1\n",
      "UID                                    None\n",
      "lease_city                             None\n",
      "lease_state                            None\n",
      "lease_street                           None\n",
      "lease_zip                              None\n",
      "Name: 6, dtype: object\n"
     ]
    }
   ],
   "source": [
    "fix_renamer(\"2020\", \"Chaplin\", renamer_fields_chaplin)"
   ]
  },
  {
   "cell_type": "markdown",
   "id": "311dfa1a",
   "metadata": {},
   "source": [
    "### Torrington - 2020"
   ]
  },
  {
   "cell_type": "code",
   "execution_count": 111,
   "id": "9f05d1cd",
   "metadata": {},
   "outputs": [],
   "source": [
    "torrington_index_20 = column_renamer_2020[column_renamer_2020[\"record_from\"].str.contains(\"Torrington\")].index.tolist()[0]"
   ]
  },
  {
   "cell_type": "code",
   "execution_count": 112,
   "id": "7133a0a2",
   "metadata": {},
   "outputs": [
    {
     "data": {
      "text/plain": [
       "record_from      143_Torrington_MVData_2020.csv\n",
       "name                                   TAXPAYER\n",
       "street                                   STREET\n",
       "vehicle_id                                  NaN\n",
       "vehicle_make                                NaN\n",
       "vehicle_model                     VEHICLE MODEL\n",
       "vehicle_year                       VEHICLE YEAR\n",
       "city                                       CITY\n",
       "state                                     STATE\n",
       "vehicle_class                               NaN\n",
       "zip                                    ZIP CODE\n",
       "UID                                         NaN\n",
       "lease_city                                  NaN\n",
       "lease_state                                 NaN\n",
       "lease_street                                NaN\n",
       "lease_zip                                   NaN\n",
       "Name: 69, dtype: object"
      ]
     },
     "execution_count": 112,
     "metadata": {},
     "output_type": "execute_result"
    }
   ],
   "source": [
    "column_renamer_2020.loc[torrington_index_20]"
   ]
  },
  {
   "cell_type": "code",
   "execution_count": 113,
   "id": "f1005048",
   "metadata": {},
   "outputs": [],
   "source": [
    "column_renamer_2020.loc[torrington_index_20, \"vehicle_id\"] = \"VEHICLE ID\"\n",
    "column_renamer_2020.loc[torrington_index_20, \"vehicle_make\"] = \"VEHICLE MAKE\"\n",
    "column_renamer_2020.loc[torrington_index_20, \"vehicle_class\"] = \"VEHICLE CLASS\""
   ]
  },
  {
   "cell_type": "code",
   "execution_count": 114,
   "id": "520a095d",
   "metadata": {},
   "outputs": [
    {
     "data": {
      "text/plain": [
       "record_from      143_Torrington_MVData_2020.csv\n",
       "name                                   TAXPAYER\n",
       "street                                   STREET\n",
       "vehicle_id                           VEHICLE ID\n",
       "vehicle_make                       VEHICLE MAKE\n",
       "vehicle_model                     VEHICLE MODEL\n",
       "vehicle_year                       VEHICLE YEAR\n",
       "city                                       CITY\n",
       "state                                     STATE\n",
       "vehicle_class                     VEHICLE CLASS\n",
       "zip                                    ZIP CODE\n",
       "UID                                         NaN\n",
       "lease_city                                  NaN\n",
       "lease_state                                 NaN\n",
       "lease_street                                NaN\n",
       "lease_zip                                   NaN\n",
       "Name: 69, dtype: object"
      ]
     },
     "execution_count": 114,
     "metadata": {},
     "output_type": "execute_result"
    }
   ],
   "source": [
    "column_renamer_2020.loc[torrington_index_20]"
   ]
  },
  {
   "cell_type": "markdown",
   "id": "7eaa30c0",
   "metadata": {},
   "source": [
    "### Orange - 2020"
   ]
  },
  {
   "cell_type": "markdown",
   "id": "5e6915ca",
   "metadata": {},
   "source": [
    "Cannot change this - the underlying file does not contain VINs"
   ]
  },
  {
   "cell_type": "code",
   "execution_count": 115,
   "id": "d6d66ae7",
   "metadata": {},
   "outputs": [
    {
     "data": {
      "text/plain": [
       "record_from      107_Orange_MVData_2020.csv\n",
       "name                               TAXPAYER\n",
       "street                               STREET\n",
       "vehicle_id                              NaN\n",
       "vehicle_make                   VEHICLE_MAKE\n",
       "vehicle_model                 VEHICLE_MODEL\n",
       "vehicle_year                   VEHICLE_YEAR\n",
       "city                                   CITY\n",
       "state                                 STATE\n",
       "vehicle_class                 VEHICLE_CLASS\n",
       "zip                                    ZIP1\n",
       "UID                                     NaN\n",
       "lease_city                              NaN\n",
       "lease_state                             NaN\n",
       "lease_street                            NaN\n",
       "lease_zip                               NaN\n",
       "Name: 47, dtype: object"
      ]
     },
     "execution_count": 115,
     "metadata": {},
     "output_type": "execute_result"
    }
   ],
   "source": [
    "orange_index_20 = column_renamer_2020[column_renamer_2020[\"record_from\"].str.contains(\"Orange\")].index.tolist()[0]\n",
    "column_renamer_2020.loc[orange_index_20]"
   ]
  },
  {
   "cell_type": "code",
   "execution_count": 116,
   "id": "6de58083-4ed9-4eb0-a925-500e36b420bf",
   "metadata": {},
   "outputs": [
    {
     "name": "stdout",
     "output_type": "stream",
     "text": [
      "-----OLD-----\n",
      "record_from      127_Sherman_MVData_2020.csv\n",
      "name                                   OWNER\n",
      "street                                    ST\n",
      "vehicle_id                               VIN\n",
      "vehicle_make                            MAKE\n",
      "vehicle_model                            NaN\n",
      "vehicle_year                            YEAR\n",
      "city                                    CITY\n",
      "state                                    NaN\n",
      "vehicle_class                          CLASS\n",
      "zip                                      NaN\n",
      "UID                                      NaN\n",
      "lease_city                               NaN\n",
      "lease_state                              NaN\n",
      "lease_street                             NaN\n",
      "lease_zip                                NaN\n",
      "Name: 59, dtype: object\n",
      "-----NEW-----\n",
      "record_from      127_Sherman_MVData_2020.csv\n",
      "name                                   OWNER\n",
      "street                               ADDRESS\n",
      "vehicle_id                               VIN\n",
      "vehicle_make                            MAKE\n",
      "vehicle_model                        MODEL 3\n",
      "vehicle_year                            YEAR\n",
      "city                                    CITY\n",
      "state                                     ST\n",
      "vehicle_class                          CLASS\n",
      "zip                                      ZIP\n",
      "UID                                      NaN\n",
      "lease_city                               NaN\n",
      "lease_state                              NaN\n",
      "lease_street                             NaN\n",
      "lease_zip                                NaN\n",
      "Name: 59, dtype: object\n"
     ]
    }
   ],
   "source": [
    "fix_renamer(\"2020\", \"Sherman\", {\"street\":\"ADDRESS\", \"state\":\"ST\", \"zip\":\"ZIP\", \"vehicle_model\":\"MODEL 3\"})"
   ]
  },
  {
   "cell_type": "markdown",
   "id": "3e44c657",
   "metadata": {},
   "source": [
    "## Address missing ZIPs in 2020 renamer"
   ]
  },
  {
   "cell_type": "code",
   "execution_count": 117,
   "id": "9994ea0f",
   "metadata": {},
   "outputs": [],
   "source": [
    "missing_zips_2020_dict = {\n",
    " \"96_Newington_MVData_2020.csv\" : \"ZIP\",\n",
    " \"127_Sherman_MVData_2020.csv\" : \"ZIP\",\n",
    " \"4_Avon_MVData_2020.csv\" : \"ZIP\",\n",
    "}\n",
    "\n",
    "for source_file in missing_zips_2020_dict.keys():\n",
    "    source_file_index = column_renamer_2020[column_renamer_2020[\"record_from\"]==source_file].index.tolist()[0]\n",
    "    column_renamer_2020.loc[source_file_index, \"zip\"] = missing_zips_2020_dict[source_file]"
   ]
  },
  {
   "cell_type": "code",
   "execution_count": 118,
   "id": "382b209a",
   "metadata": {},
   "outputs": [
    {
     "data": {
      "text/plain": [
       "record_from      4_Avon_MVData_2020.csv\n",
       "name                               NAME\n",
       "street                           STREET\n",
       "vehicle_id                       IDENT#\n",
       "vehicle_make                       MAKE\n",
       "vehicle_model                     MODEL\n",
       "vehicle_year                         YR\n",
       "city                                NaN\n",
       "state                               NaN\n",
       "vehicle_class                       NaN\n",
       "zip                                 ZIP\n",
       "UID                                 NaN\n",
       "lease_city                          NaN\n",
       "lease_state                         NaN\n",
       "lease_street                        NaN\n",
       "lease_zip                           NaN\n",
       "Name: 1, dtype: object"
      ]
     },
     "execution_count": 118,
     "metadata": {},
     "output_type": "execute_result"
    }
   ],
   "source": [
    "column_renamer_2020.loc[source_file_index]"
   ]
  },
  {
   "cell_type": "markdown",
   "id": "128c9ae1",
   "metadata": {},
   "source": [
    "## Check 2020 renamer"
   ]
  },
  {
   "cell_type": "code",
   "execution_count": 119,
   "id": "c49571db",
   "metadata": {},
   "outputs": [
    {
     "data": {
      "text/html": [
       "<div>\n",
       "<style scoped>\n",
       "    .dataframe tbody tr th:only-of-type {\n",
       "        vertical-align: middle;\n",
       "    }\n",
       "\n",
       "    .dataframe tbody tr th {\n",
       "        vertical-align: top;\n",
       "    }\n",
       "\n",
       "    .dataframe thead th {\n",
       "        text-align: right;\n",
       "    }\n",
       "</style>\n",
       "<table border=\"1\" class=\"dataframe\">\n",
       "  <thead>\n",
       "    <tr style=\"text-align: right;\">\n",
       "      <th></th>\n",
       "      <th>record_from</th>\n",
       "      <th>name</th>\n",
       "      <th>street</th>\n",
       "      <th>vehicle_id</th>\n",
       "      <th>vehicle_make</th>\n",
       "      <th>vehicle_model</th>\n",
       "      <th>vehicle_year</th>\n",
       "      <th>city</th>\n",
       "      <th>state</th>\n",
       "      <th>vehicle_class</th>\n",
       "      <th>zip</th>\n",
       "      <th>UID</th>\n",
       "      <th>lease_city</th>\n",
       "      <th>lease_state</th>\n",
       "      <th>lease_street</th>\n",
       "      <th>lease_zip</th>\n",
       "    </tr>\n",
       "  </thead>\n",
       "  <tbody>\n",
       "    <tr>\n",
       "      <th>47</th>\n",
       "      <td>107_Orange_MVData_2020.csv</td>\n",
       "      <td>TAXPAYER</td>\n",
       "      <td>STREET</td>\n",
       "      <td>NaN</td>\n",
       "      <td>VEHICLE_MAKE</td>\n",
       "      <td>VEHICLE_MODEL</td>\n",
       "      <td>VEHICLE_YEAR</td>\n",
       "      <td>CITY</td>\n",
       "      <td>STATE</td>\n",
       "      <td>VEHICLE_CLASS</td>\n",
       "      <td>ZIP1</td>\n",
       "      <td>NaN</td>\n",
       "      <td>NaN</td>\n",
       "      <td>NaN</td>\n",
       "      <td>NaN</td>\n",
       "      <td>NaN</td>\n",
       "    </tr>\n",
       "  </tbody>\n",
       "</table>\n",
       "</div>"
      ],
      "text/plain": [
       "                   record_from      name  street vehicle_id  vehicle_make  \\\n",
       "47  107_Orange_MVData_2020.csv  TAXPAYER  STREET        NaN  VEHICLE_MAKE   \n",
       "\n",
       "    vehicle_model  vehicle_year  city  state  vehicle_class   zip  UID  \\\n",
       "47  VEHICLE_MODEL  VEHICLE_YEAR  CITY  STATE  VEHICLE_CLASS  ZIP1  NaN   \n",
       "\n",
       "   lease_city lease_state lease_street lease_zip  \n",
       "47        NaN         NaN          NaN       NaN  "
      ]
     },
     "execution_count": 119,
     "metadata": {},
     "output_type": "execute_result"
    }
   ],
   "source": [
    "column_renamer_2020[column_renamer_2020[\"vehicle_id\"].isna()]"
   ]
  },
  {
   "cell_type": "markdown",
   "id": "e3bbc53c",
   "metadata": {},
   "source": [
    "So it is just Orange, for which there are no VINs in the underlying file."
   ]
  },
  {
   "cell_type": "code",
   "execution_count": 120,
   "id": "410f210e",
   "metadata": {},
   "outputs": [
    {
     "data": {
      "text/html": [
       "<div>\n",
       "<style scoped>\n",
       "    .dataframe tbody tr th:only-of-type {\n",
       "        vertical-align: middle;\n",
       "    }\n",
       "\n",
       "    .dataframe tbody tr th {\n",
       "        vertical-align: top;\n",
       "    }\n",
       "\n",
       "    .dataframe thead th {\n",
       "        text-align: right;\n",
       "    }\n",
       "</style>\n",
       "<table border=\"1\" class=\"dataframe\">\n",
       "  <thead>\n",
       "    <tr style=\"text-align: right;\">\n",
       "      <th></th>\n",
       "      <th>record_from</th>\n",
       "      <th>name</th>\n",
       "      <th>street</th>\n",
       "      <th>vehicle_id</th>\n",
       "      <th>vehicle_make</th>\n",
       "      <th>vehicle_model</th>\n",
       "      <th>vehicle_year</th>\n",
       "      <th>city</th>\n",
       "      <th>state</th>\n",
       "      <th>vehicle_class</th>\n",
       "      <th>zip</th>\n",
       "      <th>UID</th>\n",
       "      <th>lease_city</th>\n",
       "      <th>lease_state</th>\n",
       "      <th>lease_street</th>\n",
       "      <th>lease_zip</th>\n",
       "    </tr>\n",
       "  </thead>\n",
       "  <tbody>\n",
       "    <tr>\n",
       "      <th>8</th>\n",
       "      <td>27_Clinton_MVData_2020.csv</td>\n",
       "      <td>NaN</td>\n",
       "      <td>NaN</td>\n",
       "      <td>VIN</td>\n",
       "      <td>Make</td>\n",
       "      <td>Model</td>\n",
       "      <td>Year</td>\n",
       "      <td>NaN</td>\n",
       "      <td>NaN</td>\n",
       "      <td>Class</td>\n",
       "      <td>NaN</td>\n",
       "      <td>NaN</td>\n",
       "      <td>NaN</td>\n",
       "      <td>NaN</td>\n",
       "      <td>NaN</td>\n",
       "      <td>NaN</td>\n",
       "    </tr>\n",
       "    <tr>\n",
       "      <th>49</th>\n",
       "      <td>112_Pomfret_MVData_2020.csv</td>\n",
       "      <td>TAXPAYER</td>\n",
       "      <td>NaN</td>\n",
       "      <td>VEHICLE_ID</td>\n",
       "      <td>VEHICLE_MAKE</td>\n",
       "      <td>VEHICLE_MODEL</td>\n",
       "      <td>VEHICLE_YEAR</td>\n",
       "      <td>NaN</td>\n",
       "      <td>NaN</td>\n",
       "      <td>VEHICLE_CLASS</td>\n",
       "      <td>NaN</td>\n",
       "      <td>NaN</td>\n",
       "      <td>NaN</td>\n",
       "      <td>NaN</td>\n",
       "      <td>NaN</td>\n",
       "      <td>NaN</td>\n",
       "    </tr>\n",
       "  </tbody>\n",
       "</table>\n",
       "</div>"
      ],
      "text/plain": [
       "                    record_from      name street  vehicle_id  vehicle_make  \\\n",
       "8    27_Clinton_MVData_2020.csv       NaN    NaN         VIN          Make   \n",
       "49  112_Pomfret_MVData_2020.csv  TAXPAYER    NaN  VEHICLE_ID  VEHICLE_MAKE   \n",
       "\n",
       "    vehicle_model  vehicle_year city state  vehicle_class  zip  UID  \\\n",
       "8           Model          Year  NaN   NaN          Class  NaN  NaN   \n",
       "49  VEHICLE_MODEL  VEHICLE_YEAR  NaN   NaN  VEHICLE_CLASS  NaN  NaN   \n",
       "\n",
       "   lease_city lease_state lease_street lease_zip  \n",
       "8         NaN         NaN          NaN       NaN  \n",
       "49        NaN         NaN          NaN       NaN  "
      ]
     },
     "execution_count": 120,
     "metadata": {},
     "output_type": "execute_result"
    }
   ],
   "source": [
    "column_renamer_2020[column_renamer_2020[\"street\"].isna()]"
   ]
  },
  {
   "cell_type": "markdown",
   "id": "cc41fdaf",
   "metadata": {},
   "source": [
    "It is Clinton and Pomfret - neither of which contain street data in the underlying file."
   ]
  },
  {
   "cell_type": "code",
   "execution_count": 121,
   "id": "848453e0",
   "metadata": {},
   "outputs": [
    {
     "data": {
      "text/html": [
       "<div>\n",
       "<style scoped>\n",
       "    .dataframe tbody tr th:only-of-type {\n",
       "        vertical-align: middle;\n",
       "    }\n",
       "\n",
       "    .dataframe tbody tr th {\n",
       "        vertical-align: top;\n",
       "    }\n",
       "\n",
       "    .dataframe thead th {\n",
       "        text-align: right;\n",
       "    }\n",
       "</style>\n",
       "<table border=\"1\" class=\"dataframe\">\n",
       "  <thead>\n",
       "    <tr style=\"text-align: right;\">\n",
       "      <th></th>\n",
       "      <th>record_from</th>\n",
       "      <th>name</th>\n",
       "      <th>street</th>\n",
       "      <th>vehicle_id</th>\n",
       "      <th>vehicle_make</th>\n",
       "      <th>vehicle_model</th>\n",
       "      <th>vehicle_year</th>\n",
       "      <th>city</th>\n",
       "      <th>state</th>\n",
       "      <th>vehicle_class</th>\n",
       "      <th>zip</th>\n",
       "      <th>UID</th>\n",
       "      <th>lease_city</th>\n",
       "      <th>lease_state</th>\n",
       "      <th>lease_street</th>\n",
       "      <th>lease_zip</th>\n",
       "    </tr>\n",
       "  </thead>\n",
       "  <tbody>\n",
       "    <tr>\n",
       "      <th>8</th>\n",
       "      <td>27_Clinton_MVData_2020.csv</td>\n",
       "      <td>NaN</td>\n",
       "      <td>NaN</td>\n",
       "      <td>VIN</td>\n",
       "      <td>Make</td>\n",
       "      <td>Model</td>\n",
       "      <td>Year</td>\n",
       "      <td>NaN</td>\n",
       "      <td>NaN</td>\n",
       "      <td>Class</td>\n",
       "      <td>NaN</td>\n",
       "      <td>NaN</td>\n",
       "      <td>NaN</td>\n",
       "      <td>NaN</td>\n",
       "      <td>NaN</td>\n",
       "      <td>NaN</td>\n",
       "    </tr>\n",
       "    <tr>\n",
       "      <th>49</th>\n",
       "      <td>112_Pomfret_MVData_2020.csv</td>\n",
       "      <td>TAXPAYER</td>\n",
       "      <td>NaN</td>\n",
       "      <td>VEHICLE_ID</td>\n",
       "      <td>VEHICLE_MAKE</td>\n",
       "      <td>VEHICLE_MODEL</td>\n",
       "      <td>VEHICLE_YEAR</td>\n",
       "      <td>NaN</td>\n",
       "      <td>NaN</td>\n",
       "      <td>VEHICLE_CLASS</td>\n",
       "      <td>NaN</td>\n",
       "      <td>NaN</td>\n",
       "      <td>NaN</td>\n",
       "      <td>NaN</td>\n",
       "      <td>NaN</td>\n",
       "      <td>NaN</td>\n",
       "    </tr>\n",
       "  </tbody>\n",
       "</table>\n",
       "</div>"
      ],
      "text/plain": [
       "                    record_from      name street  vehicle_id  vehicle_make  \\\n",
       "8    27_Clinton_MVData_2020.csv       NaN    NaN         VIN          Make   \n",
       "49  112_Pomfret_MVData_2020.csv  TAXPAYER    NaN  VEHICLE_ID  VEHICLE_MAKE   \n",
       "\n",
       "    vehicle_model  vehicle_year city state  vehicle_class  zip  UID  \\\n",
       "8           Model          Year  NaN   NaN          Class  NaN  NaN   \n",
       "49  VEHICLE_MODEL  VEHICLE_YEAR  NaN   NaN  VEHICLE_CLASS  NaN  NaN   \n",
       "\n",
       "   lease_city lease_state lease_street lease_zip  \n",
       "8         NaN         NaN          NaN       NaN  \n",
       "49        NaN         NaN          NaN       NaN  "
      ]
     },
     "execution_count": 121,
     "metadata": {},
     "output_type": "execute_result"
    }
   ],
   "source": [
    "column_renamer_2020[column_renamer_2020[\"zip\"].isna()]"
   ]
  },
  {
   "cell_type": "markdown",
   "id": "8c3ddb76",
   "metadata": {},
   "source": [
    "This data is missing in the underlying file anyway"
   ]
  },
  {
   "cell_type": "markdown",
   "id": "f23dc976",
   "metadata": {},
   "source": [
    "## 2019 Renamer"
   ]
  },
  {
   "cell_type": "markdown",
   "id": "cd0d9424-b12b-4115-a1e7-5c17c0a66b3e",
   "metadata": {},
   "source": [
    "### Canterbury 2019"
   ]
  },
  {
   "cell_type": "code",
   "execution_count": 209,
   "id": "de20da47-7da8-4273-8fd1-e0739b5d4b60",
   "metadata": {},
   "outputs": [
    {
     "name": "stdout",
     "output_type": "stream",
     "text": [
      "-----OLD-----\n",
      "record_from      22_Canterbury_MVData_2019.csv\n",
      "UID                                        NaN\n",
      "name                                     Owner\n",
      "street                                 Address\n",
      "city                                      City\n",
      "state                                       ST\n",
      "zip                                        ZIP\n",
      "vehicle_year                              Year\n",
      "vehicle_make                              Make\n",
      "vehicle_model                            Model\n",
      "vehicle_class                            Class\n",
      "vehicle_id                                 VIN\n",
      "lease_city                                 NaN\n",
      "lease_state                                NaN\n",
      "lease_street                               NaN\n",
      "lease_zip                                  NaN\n",
      "Name: 15, dtype: object\n",
      "-----NEW-----\n",
      "record_from      22_Canterbury_MVData_2019.csv\n",
      "UID                                        NaN\n",
      "name                                     Owner\n",
      "street                                 Address\n",
      "city                                      City\n",
      "state                                       ST\n",
      "zip                                        ZIP\n",
      "vehicle_year                              Year\n",
      "vehicle_make                              Make\n",
      "vehicle_model                            Model\n",
      "vehicle_class                            Class\n",
      "vehicle_id                                 VIN\n",
      "lease_city                                 NaN\n",
      "lease_state                                NaN\n",
      "lease_street                               NaN\n",
      "lease_zip                                  NaN\n",
      "Name: 15, dtype: object\n"
     ]
    }
   ],
   "source": [
    "fix_renamer(\"2019\", \"Canterbury\", {\"name\":\"Owner\",\n",
    "                                   \"street\":\"Address\",\n",
    "                                  \"state\":\"ST\"})"
   ]
  },
  {
   "cell_type": "markdown",
   "id": "59e296df",
   "metadata": {},
   "source": [
    "### Bloomfield - 2019"
   ]
  },
  {
   "cell_type": "code",
   "execution_count": 122,
   "id": "c3d25881",
   "metadata": {},
   "outputs": [
    {
     "data": {
      "text/plain": [
       "record_from      11_Bloomfield_MVData_2019.csv\n",
       "UID                                    LIST NO\n",
       "name                                  TAXPAYER\n",
       "street                                     NaN\n",
       "city                                       NaN\n",
       "state                                    STATE\n",
       "zip                                        NaN\n",
       "vehicle_year                              YEAR\n",
       "vehicle_make                               NaN\n",
       "vehicle_model                            MODEL\n",
       "vehicle_class                            CLASS\n",
       "vehicle_id                                 NaN\n",
       "lease_city                                 NaN\n",
       "lease_state                                NaN\n",
       "lease_street                               NaN\n",
       "lease_zip                                  NaN\n",
       "Name: 6, dtype: object"
      ]
     },
     "execution_count": 122,
     "metadata": {},
     "output_type": "execute_result"
    }
   ],
   "source": [
    "bloomfield_index_19 = column_renamer_2019[column_renamer_2019[\"record_from\"].str.contains(\"Bloomfield\")].index.tolist()[0]\n",
    "column_renamer_2019.loc[bloomfield_index_19]"
   ]
  },
  {
   "cell_type": "code",
   "execution_count": 123,
   "id": "8e9d33f9",
   "metadata": {},
   "outputs": [
    {
     "data": {
      "text/plain": [
       "record_from      11_Bloomfield_MVData_2019.csv\n",
       "UID                                    LIST NO\n",
       "name                                  TAXPAYER\n",
       "street                          ADDRESS LINE 1\n",
       "city                                 CITY/TOWN\n",
       "state                                    STATE\n",
       "zip                                        ZIP\n",
       "vehicle_year                              YEAR\n",
       "vehicle_make                             MAKE \n",
       "vehicle_model                            MODEL\n",
       "vehicle_class                            CLASS\n",
       "vehicle_id                                 NaN\n",
       "lease_city                                 NaN\n",
       "lease_state                                NaN\n",
       "lease_street                               NaN\n",
       "lease_zip                                  NaN\n",
       "Name: 6, dtype: object"
      ]
     },
     "execution_count": 123,
     "metadata": {},
     "output_type": "execute_result"
    }
   ],
   "source": [
    "column_renamer_2019.loc[bloomfield_index_19, \"street\"] = \"ADDRESS LINE 1\"\n",
    "column_renamer_2019.loc[bloomfield_index_19, \"city\"] = \"CITY/TOWN\"\n",
    "column_renamer_2019.loc[bloomfield_index_19, \"zip\"] = \"ZIP\"\n",
    "column_renamer_2019.loc[bloomfield_index_19, \"vehicle_make\"] = \"MAKE \"\n",
    "column_renamer_2019.loc[bloomfield_index_19, \"vehicle_year\"] = \"YEAR\"\n",
    "column_renamer_2019.loc[bloomfield_index_19]"
   ]
  },
  {
   "cell_type": "markdown",
   "id": "771a0d3b",
   "metadata": {},
   "source": [
    "### Manchester -  2019"
   ]
  },
  {
   "cell_type": "code",
   "execution_count": 124,
   "id": "ab4a5f4a",
   "metadata": {},
   "outputs": [],
   "source": [
    "manchester_19 = pd.read_csv(raw_files_20_19 / \"77_Manchester_MVData_2019.csv\")"
   ]
  },
  {
   "cell_type": "code",
   "execution_count": 125,
   "id": "608b0ebd",
   "metadata": {},
   "outputs": [],
   "source": [
    "manchester_19 = manchester_19[0:45785]"
   ]
  },
  {
   "cell_type": "code",
   "execution_count": 126,
   "id": "e507996a",
   "metadata": {},
   "outputs": [],
   "source": [
    "manchester_19 = manchester_19.rename(columns = {\"Unnamed: 4\" : \"city\",\n",
    "                                                \"Unnamed: 5\" : \"state\"})\n",
    "manchester_19[\"zip\"] = manchester_19[\"Unnamed: 6\"].astype('Int64').astype(str) + manchester_19[\"Unnamed: 7\"] + manchester_19[\"Unnamed: 8\"]"
   ]
  },
  {
   "cell_type": "code",
   "execution_count": 127,
   "id": "f0c841cc",
   "metadata": {},
   "outputs": [
    {
     "data": {
      "text/html": [
       "<div>\n",
       "<style scoped>\n",
       "    .dataframe tbody tr th:only-of-type {\n",
       "        vertical-align: middle;\n",
       "    }\n",
       "\n",
       "    .dataframe tbody tr th {\n",
       "        vertical-align: top;\n",
       "    }\n",
       "\n",
       "    .dataframe thead th {\n",
       "        text-align: right;\n",
       "    }\n",
       "</style>\n",
       "<table border=\"1\" class=\"dataframe\">\n",
       "  <thead>\n",
       "    <tr style=\"text-align: right;\">\n",
       "      <th></th>\n",
       "      <th>#</th>\n",
       "      <th>TAXPAYER</th>\n",
       "      <th>CARE OF</th>\n",
       "      <th>MAILING ADDRESS</th>\n",
       "      <th>city</th>\n",
       "      <th>state</th>\n",
       "      <th>Unnamed: 6</th>\n",
       "      <th>Unnamed: 7</th>\n",
       "      <th>Unnamed: 8</th>\n",
       "      <th>DIST</th>\n",
       "      <th>...</th>\n",
       "      <th>MODEL</th>\n",
       "      <th>CODE</th>\n",
       "      <th>VIN NUMBER</th>\n",
       "      <th>STYLE</th>\n",
       "      <th>COLOR</th>\n",
       "      <th>ASMNT</th>\n",
       "      <th>Unnamed: 18</th>\n",
       "      <th>Unnamed: 19</th>\n",
       "      <th>Unnamed: 20</th>\n",
       "      <th>zip</th>\n",
       "    </tr>\n",
       "  </thead>\n",
       "  <tbody>\n",
       "    <tr>\n",
       "      <th>0</th>\n",
       "      <td>50001.0</td>\n",
       "      <td>1 800 DUMP RUNS OF HARTFORD LLC</td>\n",
       "      <td></td>\n",
       "      <td>PO BOX 183</td>\n",
       "      <td>NORTH WINDHAM</td>\n",
       "      <td>CT</td>\n",
       "      <td>6256.0</td>\n",
       "      <td>-</td>\n",
       "      <td>0183</td>\n",
       "      <td>E</td>\n",
       "      <td>...</td>\n",
       "      <td>FRR</td>\n",
       "      <td>2.0</td>\n",
       "      <td>JALF5C13547700369</td>\n",
       "      <td>TILT C</td>\n",
       "      <td>WHI</td>\n",
       "      <td>$7,540</td>\n",
       "      <td>NaN</td>\n",
       "      <td>NaN</td>\n",
       "      <td>NaN</td>\n",
       "      <td>6256-0183</td>\n",
       "    </tr>\n",
       "    <tr>\n",
       "      <th>1</th>\n",
       "      <td>50002.0</td>\n",
       "      <td>1 800 DUMP RUNS OF HARTFORD LLC</td>\n",
       "      <td></td>\n",
       "      <td>PO BOX 183</td>\n",
       "      <td>NORTH WINDHAM</td>\n",
       "      <td>CT</td>\n",
       "      <td>6256.0</td>\n",
       "      <td>-</td>\n",
       "      <td>0183</td>\n",
       "      <td>E</td>\n",
       "      <td>...</td>\n",
       "      <td>61214R0</td>\n",
       "      <td>10.0</td>\n",
       "      <td>43ZDN22B340000019</td>\n",
       "      <td>TRAILE</td>\n",
       "      <td>BLA</td>\n",
       "      <td>$550</td>\n",
       "      <td>NaN</td>\n",
       "      <td>NaN</td>\n",
       "      <td>NaN</td>\n",
       "      <td>6256-0183</td>\n",
       "    </tr>\n",
       "    <tr>\n",
       "      <th>2</th>\n",
       "      <td>50003.0</td>\n",
       "      <td>1 800 DUMP RUNS OF HARTFORD LLC</td>\n",
       "      <td></td>\n",
       "      <td>PO BOX 183</td>\n",
       "      <td>NORTH WINDHAM</td>\n",
       "      <td>CT</td>\n",
       "      <td>6256.0</td>\n",
       "      <td>-</td>\n",
       "      <td>0183</td>\n",
       "      <td>E</td>\n",
       "      <td>...</td>\n",
       "      <td>CONSTRUC</td>\n",
       "      <td>2.0</td>\n",
       "      <td>2NKMHZ7X07M210675</td>\n",
       "      <td>HOIST</td>\n",
       "      <td>WHI</td>\n",
       "      <td>$16,230</td>\n",
       "      <td>NaN</td>\n",
       "      <td>NaN</td>\n",
       "      <td>NaN</td>\n",
       "      <td>6256-0183</td>\n",
       "    </tr>\n",
       "    <tr>\n",
       "      <th>3</th>\n",
       "      <td>50004.0</td>\n",
       "      <td>A &amp; A INTEGRATED PEST MAN &amp;</td>\n",
       "      <td></td>\n",
       "      <td>457 CENTER ST</td>\n",
       "      <td>MANCHESTER</td>\n",
       "      <td>CT</td>\n",
       "      <td>6040.0</td>\n",
       "      <td>-</td>\n",
       "      <td>3937</td>\n",
       "      <td>T</td>\n",
       "      <td>...</td>\n",
       "      <td>SILVERAD</td>\n",
       "      <td>3.0</td>\n",
       "      <td>1GCVKREC4FZ374901</td>\n",
       "      <td>4 DOOR</td>\n",
       "      <td>SIL</td>\n",
       "      <td>$17,500</td>\n",
       "      <td>NaN</td>\n",
       "      <td>NaN</td>\n",
       "      <td>NaN</td>\n",
       "      <td>6040-3937</td>\n",
       "    </tr>\n",
       "    <tr>\n",
       "      <th>4</th>\n",
       "      <td>50005.0</td>\n",
       "      <td>A &amp; A INTEGRATED PEST MANAGEMENT COMPANY</td>\n",
       "      <td></td>\n",
       "      <td>457 CENTER ST</td>\n",
       "      <td>MANCHESTER</td>\n",
       "      <td>CT</td>\n",
       "      <td>6040.0</td>\n",
       "      <td>-</td>\n",
       "      <td>3937</td>\n",
       "      <td>T</td>\n",
       "      <td>...</td>\n",
       "      <td>CITY EXP</td>\n",
       "      <td>3.0</td>\n",
       "      <td>3N63M0ZN8HK697113</td>\n",
       "      <td>VAN</td>\n",
       "      <td>WHI</td>\n",
       "      <td>$10,970</td>\n",
       "      <td>NaN</td>\n",
       "      <td>NaN</td>\n",
       "      <td>NaN</td>\n",
       "      <td>6040-3937</td>\n",
       "    </tr>\n",
       "    <tr>\n",
       "      <th>...</th>\n",
       "      <td>...</td>\n",
       "      <td>...</td>\n",
       "      <td>...</td>\n",
       "      <td>...</td>\n",
       "      <td>...</td>\n",
       "      <td>...</td>\n",
       "      <td>...</td>\n",
       "      <td>...</td>\n",
       "      <td>...</td>\n",
       "      <td>...</td>\n",
       "      <td>...</td>\n",
       "      <td>...</td>\n",
       "      <td>...</td>\n",
       "      <td>...</td>\n",
       "      <td>...</td>\n",
       "      <td>...</td>\n",
       "      <td>...</td>\n",
       "      <td>...</td>\n",
       "      <td>...</td>\n",
       "      <td>...</td>\n",
       "      <td>...</td>\n",
       "    </tr>\n",
       "    <tr>\n",
       "      <th>45780</th>\n",
       "      <td>96539.0</td>\n",
       "      <td>ZYLBERMAN SOL</td>\n",
       "      <td></td>\n",
       "      <td>87 CONCORD RD</td>\n",
       "      <td>MANCHESTER</td>\n",
       "      <td>CT</td>\n",
       "      <td>6042.0</td>\n",
       "      <td>-</td>\n",
       "      <td>1723</td>\n",
       "      <td>T</td>\n",
       "      <td>...</td>\n",
       "      <td>GENESIS</td>\n",
       "      <td>1.0</td>\n",
       "      <td>KMHGN4JE6GU143308</td>\n",
       "      <td>SEDAN</td>\n",
       "      <td>SIL</td>\n",
       "      <td>$14,960</td>\n",
       "      <td>NaN</td>\n",
       "      <td>NaN</td>\n",
       "      <td>NaN</td>\n",
       "      <td>6042-1723</td>\n",
       "    </tr>\n",
       "    <tr>\n",
       "      <th>45781</th>\n",
       "      <td>96540.0</td>\n",
       "      <td>ZYREK ANDREW R</td>\n",
       "      <td>ZYREK GEORGE P</td>\n",
       "      <td>37 ABBE RD</td>\n",
       "      <td>MANCHESTER</td>\n",
       "      <td>CT</td>\n",
       "      <td>6040.0</td>\n",
       "      <td>-</td>\n",
       "      <td>6867</td>\n",
       "      <td>T</td>\n",
       "      <td>...</td>\n",
       "      <td>SPIDER G</td>\n",
       "      <td>25.0</td>\n",
       "      <td>ZARBA5649H1046161</td>\n",
       "      <td>CONVER</td>\n",
       "      <td>BLA</td>\n",
       "      <td>$500</td>\n",
       "      <td>NaN</td>\n",
       "      <td>NaN</td>\n",
       "      <td>NaN</td>\n",
       "      <td>6040-6867</td>\n",
       "    </tr>\n",
       "    <tr>\n",
       "      <th>45782</th>\n",
       "      <td>96541.0</td>\n",
       "      <td>ZYREK GEORGE P</td>\n",
       "      <td></td>\n",
       "      <td>37 ABBE RD</td>\n",
       "      <td>MANCHESTER</td>\n",
       "      <td>CT</td>\n",
       "      <td>6040.0</td>\n",
       "      <td>-</td>\n",
       "      <td>6867</td>\n",
       "      <td>T</td>\n",
       "      <td>...</td>\n",
       "      <td>E3504M A</td>\n",
       "      <td>1.0</td>\n",
       "      <td>WDDHF8JB3CA537403</td>\n",
       "      <td>SEDAN</td>\n",
       "      <td>BLU</td>\n",
       "      <td>$9,800</td>\n",
       "      <td>NaN</td>\n",
       "      <td>NaN</td>\n",
       "      <td>NaN</td>\n",
       "      <td>6040-6867</td>\n",
       "    </tr>\n",
       "    <tr>\n",
       "      <th>45783</th>\n",
       "      <td>96542.0</td>\n",
       "      <td>ZYSK DONALD R</td>\n",
       "      <td></td>\n",
       "      <td>197 GARDNER ST</td>\n",
       "      <td>MANCHESTER</td>\n",
       "      <td>CT</td>\n",
       "      <td>6040.0</td>\n",
       "      <td>-</td>\n",
       "      <td>6754</td>\n",
       "      <td>T</td>\n",
       "      <td>...</td>\n",
       "      <td>F150</td>\n",
       "      <td>1.0</td>\n",
       "      <td>1FTRF12859KB23566</td>\n",
       "      <td>PICKUP</td>\n",
       "      <td>WHI</td>\n",
       "      <td>$6,530</td>\n",
       "      <td>NaN</td>\n",
       "      <td>NaN</td>\n",
       "      <td>NaN</td>\n",
       "      <td>6040-6754</td>\n",
       "    </tr>\n",
       "    <tr>\n",
       "      <th>45784</th>\n",
       "      <td>96543.0</td>\n",
       "      <td>ZYSK DONALD R</td>\n",
       "      <td></td>\n",
       "      <td>197 GARDNER ST</td>\n",
       "      <td>MANCHESTER</td>\n",
       "      <td>CT</td>\n",
       "      <td>6040.0</td>\n",
       "      <td>-</td>\n",
       "      <td>6754</td>\n",
       "      <td>T</td>\n",
       "      <td>...</td>\n",
       "      <td>ALTIMA 2</td>\n",
       "      <td>1.0</td>\n",
       "      <td>1N4AL2AP2AN549552</td>\n",
       "      <td>SEDAN</td>\n",
       "      <td>GRA</td>\n",
       "      <td>$3,850</td>\n",
       "      <td>NaN</td>\n",
       "      <td>NaN</td>\n",
       "      <td>NaN</td>\n",
       "      <td>6040-6754</td>\n",
       "    </tr>\n",
       "  </tbody>\n",
       "</table>\n",
       "<p>45785 rows × 22 columns</p>\n",
       "</div>"
      ],
      "text/plain": [
       "             #                                  TAXPAYER  \\\n",
       "0      50001.0  1 800 DUMP RUNS OF HARTFORD LLC            \n",
       "1      50002.0  1 800 DUMP RUNS OF HARTFORD LLC            \n",
       "2      50003.0  1 800 DUMP RUNS OF HARTFORD LLC            \n",
       "3      50004.0  A & A INTEGRATED PEST MAN &                \n",
       "4      50005.0  A & A INTEGRATED PEST MANAGEMENT COMPANY   \n",
       "...        ...                                       ...   \n",
       "45780  96539.0  ZYLBERMAN SOL                              \n",
       "45781  96540.0  ZYREK ANDREW R                             \n",
       "45782  96541.0  ZYREK GEORGE P                             \n",
       "45783  96542.0  ZYSK DONALD R                              \n",
       "45784  96543.0  ZYSK DONALD R                              \n",
       "\n",
       "                              CARE OF                 MAILING ADDRESS  \\\n",
       "0                                      PO BOX 183                       \n",
       "1                                      PO BOX 183                       \n",
       "2                                      PO BOX 183                       \n",
       "3                                      457 CENTER ST                    \n",
       "4                                      457 CENTER ST                    \n",
       "...                               ...                             ...   \n",
       "45780                                  87 CONCORD RD                    \n",
       "45781  ZYREK GEORGE P                  37 ABBE RD                       \n",
       "45782                                  37 ABBE RD                       \n",
       "45783                                  197 GARDNER ST                   \n",
       "45784                                  197 GARDNER ST                   \n",
       "\n",
       "                                 city state  Unnamed: 6 Unnamed: 7 Unnamed: 8  \\\n",
       "0      NORTH WINDHAM                     CT      6256.0          -       0183   \n",
       "1      NORTH WINDHAM                     CT      6256.0          -       0183   \n",
       "2      NORTH WINDHAM                     CT      6256.0          -       0183   \n",
       "3      MANCHESTER                        CT      6040.0          -       3937   \n",
       "4      MANCHESTER                        CT      6040.0          -       3937   \n",
       "...                               ...   ...         ...        ...        ...   \n",
       "45780  MANCHESTER                        CT      6042.0          -       1723   \n",
       "45781  MANCHESTER                        CT      6040.0          -       6867   \n",
       "45782  MANCHESTER                        CT      6040.0          -       6867   \n",
       "45783  MANCHESTER                        CT      6040.0          -       6754   \n",
       "45784  MANCHESTER                        CT      6040.0          -       6754   \n",
       "\n",
       "      DIST  ...     MODEL  CODE         VIN NUMBER   STYLE COLOR    ASMNT  \\\n",
       "0       E   ...  FRR        2.0  JALF5C13547700369  TILT C   WHI   $7,540   \n",
       "1       E   ...  61214R0   10.0  43ZDN22B340000019  TRAILE   BLA     $550   \n",
       "2       E   ...  CONSTRUC   2.0  2NKMHZ7X07M210675  HOIST    WHI  $16,230   \n",
       "3       T   ...  SILVERAD   3.0  1GCVKREC4FZ374901  4 DOOR   SIL  $17,500   \n",
       "4       T   ...  CITY EXP   3.0  3N63M0ZN8HK697113  VAN      WHI  $10,970   \n",
       "...    ...  ...       ...   ...                ...     ...   ...      ...   \n",
       "45780   T   ...  GENESIS    1.0  KMHGN4JE6GU143308  SEDAN    SIL  $14,960   \n",
       "45781   T   ...  SPIDER G  25.0  ZARBA5649H1046161  CONVER   BLA     $500   \n",
       "45782   T   ...  E3504M A   1.0  WDDHF8JB3CA537403  SEDAN    BLU   $9,800   \n",
       "45783   T   ...  F150       1.0  1FTRF12859KB23566  PICKUP   WHI   $6,530   \n",
       "45784   T   ...  ALTIMA 2   1.0  1N4AL2AP2AN549552  SEDAN    GRA   $3,850   \n",
       "\n",
       "      Unnamed: 18 Unnamed: 19  Unnamed: 20        zip  \n",
       "0             NaN         NaN          NaN  6256-0183  \n",
       "1             NaN         NaN          NaN  6256-0183  \n",
       "2             NaN         NaN          NaN  6256-0183  \n",
       "3             NaN         NaN          NaN  6040-3937  \n",
       "4             NaN         NaN          NaN  6040-3937  \n",
       "...           ...         ...          ...        ...  \n",
       "45780         NaN         NaN          NaN  6042-1723  \n",
       "45781         NaN         NaN          NaN  6040-6867  \n",
       "45782         NaN         NaN          NaN  6040-6867  \n",
       "45783         NaN         NaN          NaN  6040-6754  \n",
       "45784         NaN         NaN          NaN  6040-6754  \n",
       "\n",
       "[45785 rows x 22 columns]"
      ]
     },
     "execution_count": 127,
     "metadata": {},
     "output_type": "execute_result"
    }
   ],
   "source": [
    "manchester_19"
   ]
  },
  {
   "cell_type": "code",
   "execution_count": 128,
   "id": "ee242f25",
   "metadata": {},
   "outputs": [
    {
     "data": {
      "text/plain": [
       "record_from      77_Manchester_MVData_2019.csv\n",
       "UID                                        NaN\n",
       "name                                  TAXPAYER\n",
       "street                                     NaN\n",
       "city                                       NaN\n",
       "state                                      NaN\n",
       "zip                                        NaN\n",
       "vehicle_year                              YEAR\n",
       "vehicle_make                              MAKE\n",
       "vehicle_model                            MODEL\n",
       "vehicle_class                              NaN\n",
       "vehicle_id                          VIN NUMBER\n",
       "lease_city                                 NaN\n",
       "lease_state                                NaN\n",
       "lease_street                               NaN\n",
       "lease_zip                                  NaN\n",
       "Name: 48, dtype: object"
      ]
     },
     "execution_count": 128,
     "metadata": {},
     "output_type": "execute_result"
    }
   ],
   "source": [
    "manchester_index_19 = column_renamer_2019[column_renamer_2019[\"record_from\"].str.contains('Manchester')].index.tolist()[0]\n",
    "column_renamer_2019.loc[manchester_index_19]"
   ]
  },
  {
   "cell_type": "code",
   "execution_count": 129,
   "id": "38809bab",
   "metadata": {},
   "outputs": [
    {
     "data": {
      "text/plain": [
       "record_from      77_Manchester_MVData_2019_ALTERED.csv\n",
       "UID                                                NaN\n",
       "name                                          TAXPAYER\n",
       "street                                 MAILING ADDRESS\n",
       "city                                              city\n",
       "state                                            state\n",
       "zip                                                zip\n",
       "vehicle_year                                      YEAR\n",
       "vehicle_make                                      MAKE\n",
       "vehicle_model                                    MODEL\n",
       "vehicle_class                                      NaN\n",
       "vehicle_id                                  VIN NUMBER\n",
       "lease_city                                         NaN\n",
       "lease_state                                        NaN\n",
       "lease_street                                       NaN\n",
       "lease_zip                                          NaN\n",
       "Name: 48, dtype: object"
      ]
     },
     "execution_count": 129,
     "metadata": {},
     "output_type": "execute_result"
    }
   ],
   "source": [
    "column_renamer_2019.loc[manchester_index_19, \"street\"] = \"MAILING ADDRESS\"\n",
    "column_renamer_2019.loc[manchester_index_19, \"state\"] = \"state\"\n",
    "column_renamer_2019.loc[manchester_index_19, \"city\"] = \"city\"\n",
    "column_renamer_2019.loc[manchester_index_19, \"zip\"] = \"zip\"\n",
    "column_renamer_2019.loc[manchester_index_19, \"record_from\"] = \"77_Manchester_MVData_2019_ALTERED.csv\"\n",
    "column_renamer_2019.loc[manchester_index_19]"
   ]
  },
  {
   "cell_type": "markdown",
   "id": "3323ff34",
   "metadata": {},
   "source": [
    "### Address missing ZIPs in 2019 renamer"
   ]
  },
  {
   "cell_type": "code",
   "execution_count": 130,
   "id": "97b42f2d",
   "metadata": {},
   "outputs": [],
   "source": [
    "missing_zips_2019_dict = {\n",
    " \"22_Canterbury_MVData_2019.csv\" : \"ZIP\",\n",
    " \"44_East_Lyme_MVData_2019.csv\" : \"Zip1\"\n",
    "}\n",
    "\n",
    "for source_file in missing_zips_2019_dict.keys():\n",
    "    source_file_index = column_renamer_2019[column_renamer_2019[\"record_from\"]==source_file].index.tolist()[0]\n",
    "    column_renamer_2019.loc[source_file_index, \"zip\"] = missing_zips_2019_dict[source_file]"
   ]
  },
  {
   "cell_type": "markdown",
   "id": "b2edfaab",
   "metadata": {},
   "source": [
    "## Check 2019"
   ]
  },
  {
   "cell_type": "code",
   "execution_count": 131,
   "id": "9b3d855e",
   "metadata": {},
   "outputs": [
    {
     "data": {
      "text/html": [
       "<div>\n",
       "<style scoped>\n",
       "    .dataframe tbody tr th:only-of-type {\n",
       "        vertical-align: middle;\n",
       "    }\n",
       "\n",
       "    .dataframe tbody tr th {\n",
       "        vertical-align: top;\n",
       "    }\n",
       "\n",
       "    .dataframe thead th {\n",
       "        text-align: right;\n",
       "    }\n",
       "</style>\n",
       "<table border=\"1\" class=\"dataframe\">\n",
       "  <thead>\n",
       "    <tr style=\"text-align: right;\">\n",
       "      <th></th>\n",
       "      <th>record_from</th>\n",
       "      <th>UID</th>\n",
       "      <th>name</th>\n",
       "      <th>street</th>\n",
       "      <th>city</th>\n",
       "      <th>state</th>\n",
       "      <th>zip</th>\n",
       "      <th>vehicle_year</th>\n",
       "      <th>vehicle_make</th>\n",
       "      <th>vehicle_model</th>\n",
       "      <th>vehicle_class</th>\n",
       "      <th>vehicle_id</th>\n",
       "      <th>lease_city</th>\n",
       "      <th>lease_state</th>\n",
       "      <th>lease_street</th>\n",
       "      <th>lease_zip</th>\n",
       "    </tr>\n",
       "  </thead>\n",
       "  <tbody>\n",
       "    <tr>\n",
       "      <th>5</th>\n",
       "      <td>10_Bethlehem_MVData_2019.csv</td>\n",
       "      <td>NaN</td>\n",
       "      <td>TAXPAYER</td>\n",
       "      <td>NaN</td>\n",
       "      <td>CITY</td>\n",
       "      <td>STATE</td>\n",
       "      <td>ZIP1</td>\n",
       "      <td>VEHICLE_YEAR</td>\n",
       "      <td>VEHICLE_MAKE</td>\n",
       "      <td>VEHICLE_MODEL</td>\n",
       "      <td>VEHICLE_CLASS</td>\n",
       "      <td>VEHICLE_ID</td>\n",
       "      <td>NaN</td>\n",
       "      <td>NaN</td>\n",
       "      <td>NaN</td>\n",
       "      <td>NaN</td>\n",
       "    </tr>\n",
       "  </tbody>\n",
       "</table>\n",
       "</div>"
      ],
      "text/plain": [
       "                    record_from  UID      name street  city  state   zip  \\\n",
       "5  10_Bethlehem_MVData_2019.csv  NaN  TAXPAYER    NaN  CITY  STATE  ZIP1   \n",
       "\n",
       "   vehicle_year  vehicle_make  vehicle_model  vehicle_class  vehicle_id  \\\n",
       "5  VEHICLE_YEAR  VEHICLE_MAKE  VEHICLE_MODEL  VEHICLE_CLASS  VEHICLE_ID   \n",
       "\n",
       "  lease_city lease_state lease_street lease_zip  \n",
       "5        NaN         NaN          NaN       NaN  "
      ]
     },
     "execution_count": 131,
     "metadata": {},
     "output_type": "execute_result"
    }
   ],
   "source": [
    "column_renamer_2019[column_renamer_2019[\"street\"].isna()]"
   ]
  },
  {
   "cell_type": "markdown",
   "id": "af2a4d1d",
   "metadata": {},
   "source": [
    "Bethlehem does not contain street addresses in the underlying file, anyway."
   ]
  },
  {
   "cell_type": "code",
   "execution_count": 132,
   "id": "9050b344",
   "metadata": {
    "scrolled": true
   },
   "outputs": [
    {
     "data": {
      "text/html": [
       "<div>\n",
       "<style scoped>\n",
       "    .dataframe tbody tr th:only-of-type {\n",
       "        vertical-align: middle;\n",
       "    }\n",
       "\n",
       "    .dataframe tbody tr th {\n",
       "        vertical-align: top;\n",
       "    }\n",
       "\n",
       "    .dataframe thead th {\n",
       "        text-align: right;\n",
       "    }\n",
       "</style>\n",
       "<table border=\"1\" class=\"dataframe\">\n",
       "  <thead>\n",
       "    <tr style=\"text-align: right;\">\n",
       "      <th></th>\n",
       "      <th>record_from</th>\n",
       "      <th>UID</th>\n",
       "      <th>name</th>\n",
       "      <th>street</th>\n",
       "      <th>city</th>\n",
       "      <th>state</th>\n",
       "      <th>zip</th>\n",
       "      <th>vehicle_year</th>\n",
       "      <th>vehicle_make</th>\n",
       "      <th>vehicle_model</th>\n",
       "      <th>vehicle_class</th>\n",
       "      <th>vehicle_id</th>\n",
       "      <th>lease_city</th>\n",
       "      <th>lease_state</th>\n",
       "      <th>lease_street</th>\n",
       "      <th>lease_zip</th>\n",
       "    </tr>\n",
       "  </thead>\n",
       "  <tbody>\n",
       "    <tr>\n",
       "      <th>6</th>\n",
       "      <td>11_Bloomfield_MVData_2019.csv</td>\n",
       "      <td>LIST NO</td>\n",
       "      <td>TAXPAYER</td>\n",
       "      <td>ADDRESS LINE 1</td>\n",
       "      <td>CITY/TOWN</td>\n",
       "      <td>STATE</td>\n",
       "      <td>ZIP</td>\n",
       "      <td>YEAR</td>\n",
       "      <td>MAKE</td>\n",
       "      <td>MODEL</td>\n",
       "      <td>CLASS</td>\n",
       "      <td>NaN</td>\n",
       "      <td>NaN</td>\n",
       "      <td>NaN</td>\n",
       "      <td>NaN</td>\n",
       "      <td>NaN</td>\n",
       "    </tr>\n",
       "  </tbody>\n",
       "</table>\n",
       "</div>"
      ],
      "text/plain": [
       "                     record_from      UID      name          street  \\\n",
       "6  11_Bloomfield_MVData_2019.csv  LIST NO  TAXPAYER  ADDRESS LINE 1   \n",
       "\n",
       "        city  state  zip vehicle_year vehicle_make vehicle_model  \\\n",
       "6  CITY/TOWN  STATE  ZIP         YEAR        MAKE          MODEL   \n",
       "\n",
       "  vehicle_class vehicle_id lease_city lease_state lease_street lease_zip  \n",
       "6         CLASS        NaN        NaN         NaN          NaN       NaN  "
      ]
     },
     "execution_count": 132,
     "metadata": {},
     "output_type": "execute_result"
    }
   ],
   "source": [
    "column_renamer_2019[column_renamer_2019[\"vehicle_id\"].isna()]"
   ]
  },
  {
   "cell_type": "markdown",
   "id": "e28e79bf",
   "metadata": {},
   "source": [
    "Bloomfield does not contain VINs in the underlying file, anyway."
   ]
  },
  {
   "cell_type": "code",
   "execution_count": 133,
   "id": "c2a0fb1b",
   "metadata": {},
   "outputs": [
    {
     "data": {
      "text/html": [
       "<div>\n",
       "<style scoped>\n",
       "    .dataframe tbody tr th:only-of-type {\n",
       "        vertical-align: middle;\n",
       "    }\n",
       "\n",
       "    .dataframe tbody tr th {\n",
       "        vertical-align: top;\n",
       "    }\n",
       "\n",
       "    .dataframe thead th {\n",
       "        text-align: right;\n",
       "    }\n",
       "</style>\n",
       "<table border=\"1\" class=\"dataframe\">\n",
       "  <thead>\n",
       "    <tr style=\"text-align: right;\">\n",
       "      <th></th>\n",
       "      <th>record_from</th>\n",
       "      <th>UID</th>\n",
       "      <th>name</th>\n",
       "      <th>street</th>\n",
       "      <th>city</th>\n",
       "      <th>state</th>\n",
       "      <th>zip</th>\n",
       "      <th>vehicle_year</th>\n",
       "      <th>vehicle_make</th>\n",
       "      <th>vehicle_model</th>\n",
       "      <th>vehicle_class</th>\n",
       "      <th>vehicle_id</th>\n",
       "      <th>lease_city</th>\n",
       "      <th>lease_state</th>\n",
       "      <th>lease_street</th>\n",
       "      <th>lease_zip</th>\n",
       "    </tr>\n",
       "  </thead>\n",
       "  <tbody>\n",
       "  </tbody>\n",
       "</table>\n",
       "</div>"
      ],
      "text/plain": [
       "Empty DataFrame\n",
       "Columns: [record_from, UID, name, street, city, state, zip, vehicle_year, vehicle_make, vehicle_model, vehicle_class, vehicle_id, lease_city, lease_state, lease_street, lease_zip]\n",
       "Index: []"
      ]
     },
     "execution_count": 133,
     "metadata": {},
     "output_type": "execute_result"
    }
   ],
   "source": [
    "column_renamer_2019[column_renamer_2019[\"zip\"].isna()]"
   ]
  },
  {
   "cell_type": "markdown",
   "id": "850f5c8f",
   "metadata": {},
   "source": [
    "So no issues with missing ZIPs here"
   ]
  },
  {
   "cell_type": "markdown",
   "id": "6b3fa9c5",
   "metadata": {},
   "source": [
    "# --- REMAKE FILE ---"
   ]
  },
  {
   "cell_type": "markdown",
   "id": "588750a7",
   "metadata": {},
   "source": [
    "In this section we finally recompile the file."
   ]
  },
  {
   "cell_type": "code",
   "execution_count": 134,
   "id": "4c7a8341",
   "metadata": {},
   "outputs": [],
   "source": [
    "import time\n",
    "import warnings\n",
    "\n",
    "warnings.filterwarnings(\"ignore\")"
   ]
  },
  {
   "cell_type": "code",
   "execution_count": 135,
   "id": "867a7b7d",
   "metadata": {},
   "outputs": [
    {
     "data": {
      "text/plain": [
       "True"
      ]
     },
     "execution_count": 135,
     "metadata": {},
     "output_type": "execute_result"
    }
   ],
   "source": [
    "sorted(column_renamer_2021.columns) == sorted(column_renamer_2020.columns)== sorted(column_renamer_2019.columns)"
   ]
  },
  {
   "cell_type": "markdown",
   "id": "51badc0c",
   "metadata": {},
   "source": [
    "First we save all of the underlying files we edited, with `_ALTERED` at the end. Note that we have updated the `record_from` column of the renamers before doing this."
   ]
  },
  {
   "cell_type": "code",
   "execution_count": 408,
   "id": "0dede3e4",
   "metadata": {},
   "outputs": [],
   "source": [
    "# Files that will be updated. However, recall that some of the files, we've made edits to. \n",
    "# Therefore we save them\n",
    "colchester_21.to_csv(raw_files_21 / \"028_Colchester_MV_21_ALTERED.csv\")\n",
    "salisbury_21.to_csv(raw_files_21  /  \"122_Salisbury_MV_21_ALTERED.csv\")\n",
    "manchester_21.to_csv(raw_files_21 / \"077_Manchester_MV_21_ALTERED.csv\")\n",
    "bridgewater_21.to_csv(raw_files_21 / \"016_Bridgewater_MV_21_ALTERED.csv\")\n",
    "east_lyme_21.to_csv(raw_files_21 / \"045_East_Lyme_MV_21_ALTERED.csv\")\n",
    "ledyard_21.to_csv(raw_files_21 / \"072_Ledyard_MV_21_ALTERED.csv\")\n",
    "manchester_19.to_csv(raw_files_20_19 / \"77_Manchester_MVData_2019_ALTERED.csv\")\n",
    "# Add AVON"
   ]
  },
  {
   "cell_type": "markdown",
   "id": "49a02d40",
   "metadata": {},
   "source": [
    "We must update the raw file lists to ensure that the old files are removed"
   ]
  },
  {
   "cell_type": "code",
   "execution_count": null,
   "id": "acd38b25-a266-4627-97ed-c22c6f5ce80f",
   "metadata": {},
   "outputs": [],
   "source": [
    "# We then update the file lists\n",
    "# First remove the files that we have changed\n",
    "list_21 = [item for item in list_21 if not item in [\"028_Colchester_MV_21.xlsx\",\n",
    "                                                    \"122_Salisbury_MV_21.xlsx\",\n",
    "                                                    \"077_Manchester_MV_21.xls\",\n",
    "                                                    \"016_Bridgewater_MV_21.xlsx\",\n",
    "                                                    \"045_East_Lyme_MV_21.csv\",\n",
    "                                                    \"072_Ledyard_MV_21.xlsx\"]]\n",
    "\n",
    "list_20_19.remove(\"77_Manchester_MVData_2019.csv\")\n",
    "list_20_19.remove(\"4_Avon_MVData_2020.csv\")"
   ]
  },
  {
   "cell_type": "code",
   "execution_count": 218,
   "id": "b7873d98-7d30-41c6-b116-4d5510a933c6",
   "metadata": {},
   "outputs": [],
   "source": [
    "# List of altered files\n",
    "altered_files = [\"028_Colchester_MV_21_ALTERED.csv\", \"122_Salisbury_MV_21_ALTERED.csv\", \"077_Manchester_MV_21_ALTERED.csv\",\n",
    "                 \"016_Bridgewater_MV_21_ALTERED.csv\", \"77_Manchester_MVData_2019_ALTERED.csv\",\"045_East_Lyme_MV_21_ALTERED.csv\",\n",
    "                 \"072_Ledyard_MV_21_ALTERED.csv\", \"4_Avon_MVData_2020_ALTERED.csv\"]\n",
    "\n",
    "# Now append the altered files to the lists \n",
    "for altered_file in altered_files:\n",
    "    if \"_MV_21\" in altered_file:\n",
    "        if not altered_file in list_21:\n",
    "            list_21.append(altered_file)\n",
    "    else:\n",
    "        if not altered_file in list_20_19:\n",
    "            list_20_19.append(altered_file)"
   ]
  },
  {
   "cell_type": "markdown",
   "id": "12edf156",
   "metadata": {},
   "source": [
    "Now change the renamers so that the \"record_from\" column is right"
   ]
  },
  {
   "cell_type": "code",
   "execution_count": 150,
   "id": "4dfeafe7",
   "metadata": {},
   "outputs": [],
   "source": [
    "# Create master output dataframe\n",
    "df_compiled_update = pd.DataFrame(columns = column_renamer_2021.columns)"
   ]
  },
  {
   "cell_type": "code",
   "execution_count": 151,
   "id": "55ae0181",
   "metadata": {},
   "outputs": [],
   "source": [
    "updating_files = list_21 + list_20_19"
   ]
  },
  {
   "cell_type": "code",
   "execution_count": 152,
   "id": "dd69c911",
   "metadata": {},
   "outputs": [],
   "source": [
    "count = 0\n",
    "t_start = time.time()\n",
    "rows = 0"
   ]
  },
  {
   "cell_type": "code",
   "execution_count": 165,
   "id": "e79e9aa4",
   "metadata": {},
   "outputs": [
    {
     "name": "stderr",
     "output_type": "stream",
     "text": [
      "  2%|▏         | 4/262 [00:08<11:47,  2.74s/it]"
     ]
    },
    {
     "name": "stdout",
     "output_type": "stream",
     "text": [
      "finished the 70th file; time used for the last ten files: 311.326070 sec\n"
     ]
    },
    {
     "name": "stderr",
     "output_type": "stream",
     "text": [
      "  5%|▌         | 14/262 [00:27<07:11,  1.74s/it]"
     ]
    },
    {
     "name": "stdout",
     "output_type": "stream",
     "text": [
      "finished the 80th file; time used for the last ten files: 19.264122 sec\n"
     ]
    },
    {
     "name": "stderr",
     "output_type": "stream",
     "text": [
      "  9%|▉         | 24/262 [00:53<07:52,  1.99s/it]"
     ]
    },
    {
     "name": "stdout",
     "output_type": "stream",
     "text": [
      "finished the 90th file; time used for the last ten files: 25.886863 sec\n"
     ]
    },
    {
     "name": "stderr",
     "output_type": "stream",
     "text": [
      " 13%|█▎        | 34/262 [01:12<12:41,  3.34s/it]"
     ]
    },
    {
     "name": "stdout",
     "output_type": "stream",
     "text": [
      "finished the 100th file; time used for the last ten files: 19.111655 sec\n"
     ]
    },
    {
     "name": "stderr",
     "output_type": "stream",
     "text": [
      " 17%|█▋        | 44/262 [01:42<07:35,  2.09s/it]"
     ]
    },
    {
     "name": "stdout",
     "output_type": "stream",
     "text": [
      "finished the 110th file; time used for the last ten files: 30.153198 sec\n"
     ]
    },
    {
     "name": "stderr",
     "output_type": "stream",
     "text": [
      " 21%|██        | 54/262 [02:06<08:03,  2.32s/it]"
     ]
    },
    {
     "name": "stdout",
     "output_type": "stream",
     "text": [
      "finished the 120th file; time used for the last ten files: 23.168924 sec\n"
     ]
    },
    {
     "name": "stderr",
     "output_type": "stream",
     "text": [
      " 24%|██▍       | 64/262 [02:28<07:20,  2.22s/it]"
     ]
    },
    {
     "name": "stdout",
     "output_type": "stream",
     "text": [
      "finished the 130th file; time used for the last ten files: 22.710615 sec\n"
     ]
    },
    {
     "name": "stderr",
     "output_type": "stream",
     "text": [
      " 28%|██▊       | 74/262 [02:57<08:57,  2.86s/it]"
     ]
    },
    {
     "name": "stdout",
     "output_type": "stream",
     "text": [
      "finished the 140th file; time used for the last ten files: 29.078697 sec\n"
     ]
    },
    {
     "name": "stderr",
     "output_type": "stream",
     "text": [
      " 32%|███▏      | 84/262 [03:21<07:05,  2.39s/it]"
     ]
    },
    {
     "name": "stdout",
     "output_type": "stream",
     "text": [
      "finished the 150th file; time used for the last ten files: 23.224851 sec\n"
     ]
    },
    {
     "name": "stderr",
     "output_type": "stream",
     "text": [
      " 36%|███▌      | 94/262 [03:47<08:21,  2.98s/it]"
     ]
    },
    {
     "name": "stdout",
     "output_type": "stream",
     "text": [
      "finished the 160th file; time used for the last ten files: 26.786367 sec\n"
     ]
    },
    {
     "name": "stderr",
     "output_type": "stream",
     "text": [
      " 40%|███▉      | 104/262 [03:53<01:44,  1.52it/s]"
     ]
    },
    {
     "name": "stdout",
     "output_type": "stream",
     "text": [
      "finished the 170th file; time used for the last ten files: 5.923675 sec\n"
     ]
    },
    {
     "name": "stderr",
     "output_type": "stream",
     "text": [
      " 44%|████▎     | 114/262 [03:59<01:27,  1.68it/s]"
     ]
    },
    {
     "name": "stdout",
     "output_type": "stream",
     "text": [
      "finished the 180th file; time used for the last ten files: 5.966673 sec\n"
     ]
    },
    {
     "name": "stderr",
     "output_type": "stream",
     "text": [
      " 47%|████▋     | 124/262 [04:06<01:39,  1.38it/s]"
     ]
    },
    {
     "name": "stdout",
     "output_type": "stream",
     "text": [
      "finished the 190th file; time used for the last ten files: 6.832741 sec\n"
     ]
    },
    {
     "name": "stderr",
     "output_type": "stream",
     "text": [
      " 51%|█████     | 134/262 [04:13<01:20,  1.59it/s]"
     ]
    },
    {
     "name": "stdout",
     "output_type": "stream",
     "text": [
      "finished the 200th file; time used for the last ten files: 6.438436 sec\n"
     ]
    },
    {
     "name": "stderr",
     "output_type": "stream",
     "text": [
      " 55%|█████▍    | 144/262 [04:19<01:25,  1.38it/s]"
     ]
    },
    {
     "name": "stdout",
     "output_type": "stream",
     "text": [
      "finished the 210th file; time used for the last ten files: 6.863443 sec\n"
     ]
    },
    {
     "name": "stderr",
     "output_type": "stream",
     "text": [
      " 59%|█████▉    | 154/262 [04:27<01:25,  1.26it/s]"
     ]
    },
    {
     "name": "stdout",
     "output_type": "stream",
     "text": [
      "finished the 220th file; time used for the last ten files: 7.685555 sec\n"
     ]
    },
    {
     "name": "stderr",
     "output_type": "stream",
     "text": [
      " 63%|██████▎   | 164/262 [04:35<01:15,  1.29it/s]"
     ]
    },
    {
     "name": "stdout",
     "output_type": "stream",
     "text": [
      "finished the 230th file; time used for the last ten files: 7.672926 sec\n"
     ]
    },
    {
     "name": "stderr",
     "output_type": "stream",
     "text": [
      " 66%|██████▋   | 174/262 [04:43<01:17,  1.13it/s]"
     ]
    },
    {
     "name": "stdout",
     "output_type": "stream",
     "text": [
      "finished the 240th file; time used for the last ten files: 8.402695 sec\n"
     ]
    },
    {
     "name": "stderr",
     "output_type": "stream",
     "text": [
      " 70%|███████   | 184/262 [04:51<01:00,  1.28it/s]"
     ]
    },
    {
     "name": "stdout",
     "output_type": "stream",
     "text": [
      "finished the 250th file; time used for the last ten files: 7.797152 sec\n"
     ]
    },
    {
     "name": "stderr",
     "output_type": "stream",
     "text": [
      " 74%|███████▍  | 194/262 [04:59<00:56,  1.20it/s]"
     ]
    },
    {
     "name": "stdout",
     "output_type": "stream",
     "text": [
      "finished the 260th file; time used for the last ten files: 8.412917 sec\n"
     ]
    },
    {
     "name": "stderr",
     "output_type": "stream",
     "text": [
      " 78%|███████▊  | 204/262 [05:08<00:49,  1.17it/s]"
     ]
    },
    {
     "name": "stdout",
     "output_type": "stream",
     "text": [
      "finished the 270th file; time used for the last ten files: 8.647869 sec\n"
     ]
    },
    {
     "name": "stderr",
     "output_type": "stream",
     "text": [
      " 82%|████████▏ | 214/262 [05:17<00:41,  1.16it/s]"
     ]
    },
    {
     "name": "stdout",
     "output_type": "stream",
     "text": [
      "finished the 280th file; time used for the last ten files: 8.766355 sec\n"
     ]
    },
    {
     "name": "stderr",
     "output_type": "stream",
     "text": [
      " 85%|████████▌ | 224/262 [05:27<00:38,  1.01s/it]"
     ]
    },
    {
     "name": "stdout",
     "output_type": "stream",
     "text": [
      "finished the 290th file; time used for the last ten files: 10.034203 sec\n"
     ]
    },
    {
     "name": "stderr",
     "output_type": "stream",
     "text": [
      " 89%|████████▉ | 234/262 [05:36<00:26,  1.06it/s]"
     ]
    },
    {
     "name": "stdout",
     "output_type": "stream",
     "text": [
      "finished the 300th file; time used for the last ten files: 9.383341 sec\n"
     ]
    },
    {
     "name": "stderr",
     "output_type": "stream",
     "text": [
      " 93%|█████████▎| 244/262 [05:46<00:17,  1.01it/s]"
     ]
    },
    {
     "name": "stdout",
     "output_type": "stream",
     "text": [
      "finished the 310th file; time used for the last ten files: 9.956859 sec\n"
     ]
    },
    {
     "name": "stderr",
     "output_type": "stream",
     "text": [
      " 97%|█████████▋| 254/262 [05:56<00:08,  1.00s/it]"
     ]
    },
    {
     "name": "stdout",
     "output_type": "stream",
     "text": [
      "finished the 320th file; time used for the last ten files: 10.045131 sec\n"
     ]
    },
    {
     "name": "stderr",
     "output_type": "stream",
     "text": [
      "100%|██████████| 262/262 [06:04<00:00,  1.39s/it]\n"
     ]
    }
   ],
   "source": [
    "for f in tqdm(updating_files[66:]):\n",
    "    year = 0\n",
    "    \n",
    "    # Set paths and renaming file depending on the year\n",
    "    # Set renaming dictionary depending on the year\n",
    "    if \"_21\" in f:\n",
    "        year = 2021\n",
    "        f_path = raw_files_21 / f\n",
    "        df_rename = column_renamer_2021\n",
    "    elif \"_2019\" in f:\n",
    "        year = 2019\n",
    "        f_path = raw_files_20_19 / f\n",
    "        df_rename = column_renamer_2019\n",
    "    elif \"_2020\" in f:\n",
    "        year = 2020\n",
    "        f_path = raw_files_20_19 / f\n",
    "        df_rename = column_renamer_2020\n",
    "    \n",
    "    df_rename = df_rename.set_index(\"record_from\")\n",
    "    \n",
    "    # Open the file\n",
    "    try:\n",
    "        if f.capitalize().endswith('csv') or f.capitalize().endswith('txt'):\n",
    "            df_f = pd.read_csv(f_path)\n",
    "        elif f.capitalize().endswith('xlsx') or f.capitalize().endswith('xls'):\n",
    "            df_f = pd.read_excel(f_path)\n",
    "        else:\n",
    "            continue\n",
    "    except:\n",
    "        if f.capitalize().endswith('csv') or f.capitalize().endswith('txt'):\n",
    "            df_f = pd.read_csv(f_path, encoding = 'unicode_escape')\n",
    "        elif f.capitalize().endswith('xlsx') or f.capitalize().endswith('xls'):\n",
    "            df_f = pd.read_excel(f_path, encoding= 'unicode_escape')\n",
    "        else:\n",
    "            continue\n",
    "\n",
    "    # get the renaming dict for f and keep valid columns\n",
    "    rename_dict_f = {v: k for k, v in df_rename.loc[f][df_rename.loc[f].notnull()].to_dict().items()}\n",
    "    valid_col_f = [k for k in rename_dict_f]\n",
    "    df_f = df_f[valid_col_f].rename(columns=rename_dict_f)\n",
    "    df_f['record_from'] = f        # add a column for path\n",
    "\n",
    "    # Get length\n",
    "    add_rows = len(df_f)\n",
    "    rows +=add_rows\n",
    "\n",
    "    # Concat\n",
    "    df_compiled_update = pd.concat([df_compiled_update, df_f], ignore_index=True)\n",
    "\n",
    "    count = count + 1\n",
    "    if count % 10 == 0:\n",
    "        t_end = time.time()\n",
    "        print('finished the {}th file; time used for the last ten files: {:2f} sec'.format(count, t_end - t_start))\n",
    "        t_start = t_end"
   ]
  },
  {
   "cell_type": "code",
   "execution_count": 216,
   "id": "d5806f29",
   "metadata": {},
   "outputs": [],
   "source": [
    "version = \"102023\"\n",
    "if sys.platform == 'linux':\n",
    "    df_compiled_update.to_csv(path.parent.parent/ \"data\" / \"municipal_dataset_latest\" / f\"2019-21_data_compiled_RN_{version}.csv\")\n",
    "else:\n",
    "    df_compiled_update.to_csv(raw_files_21.parent / \"Compiled\" / \"2019-21_data_compiled_RN_100323.csv\")"
   ]
  },
  {
   "cell_type": "code",
   "execution_count": 168,
   "id": "971894e7-6810-4734-bf6c-52d6341c9332",
   "metadata": {},
   "outputs": [
    {
     "data": {
      "text/plain": [
       "5787151"
      ]
     },
     "execution_count": 168,
     "metadata": {},
     "output_type": "execute_result"
    }
   ],
   "source": [
    "len(df_compiled_update)"
   ]
  },
  {
   "cell_type": "code",
   "execution_count": 686,
   "id": "29b5a33e",
   "metadata": {},
   "outputs": [
    {
     "data": {
      "text/plain": [
       "5787151"
      ]
     },
     "execution_count": 686,
     "metadata": {},
     "output_type": "execute_result"
    }
   ],
   "source": [
    "len(df_compiled_update)"
   ]
  },
  {
   "cell_type": "markdown",
   "id": "0c4cc5f8-1939-4e0c-a8c7-03a0ea9b3785",
   "metadata": {},
   "source": [
    "### Hack add"
   ]
  },
  {
   "cell_type": "code",
   "execution_count": 210,
   "id": "5d0e8703-f624-402e-b6a6-ad1ac5aea11d",
   "metadata": {},
   "outputs": [],
   "source": [
    "df_compiled_update_2 = df_compiled_update.copy(deep=True)\n",
    "df_compiled_update = pd.DataFrame([])"
   ]
  },
  {
   "cell_type": "code",
   "execution_count": 211,
   "id": "7adace64-334c-4df4-83b1-6a588f71b0ca",
   "metadata": {},
   "outputs": [
    {
     "name": "stderr",
     "output_type": "stream",
     "text": [
      "100%|██████████| 1/1 [00:00<00:00, 22.47it/s]\n"
     ]
    }
   ],
   "source": [
    "for f in tqdm([\"22_Canterbury_MVData_2019.csv\"]):\n",
    "    year = 0\n",
    "    \n",
    "    # Set paths and renaming file depending on the year\n",
    "    # Set renaming dictionary depending on the year\n",
    "    if \"_21\" in f:\n",
    "        year = 2021\n",
    "        f_path = raw_files_21 / f\n",
    "        df_rename = column_renamer_2021\n",
    "    elif \"_2019\" in f:\n",
    "        year = 2019\n",
    "        f_path = raw_files_20_19 / f\n",
    "        df_rename = column_renamer_2019\n",
    "    elif \"_2020\" in f:\n",
    "        year = 2020\n",
    "        f_path = raw_files_20_19 / f\n",
    "        df_rename = column_renamer_2020\n",
    "    \n",
    "    df_rename = df_rename.set_index(\"record_from\")\n",
    "    \n",
    "    # Open the file\n",
    "    try:\n",
    "        if f.capitalize().endswith('csv') or f.capitalize().endswith('txt'):\n",
    "            df_f = pd.read_csv(f_path)\n",
    "        elif f.capitalize().endswith('xlsx') or f.capitalize().endswith('xls'):\n",
    "            df_f = pd.read_excel(f_path)\n",
    "        else:\n",
    "            continue\n",
    "    except:\n",
    "        if f.capitalize().endswith('csv') or f.capitalize().endswith('txt'):\n",
    "            df_f = pd.read_csv(f_path, encoding = 'unicode_escape')\n",
    "        elif f.capitalize().endswith('xlsx') or f.capitalize().endswith('xls'):\n",
    "            df_f = pd.read_excel(f_path, encoding= 'unicode_escape')\n",
    "        else:\n",
    "            continue\n",
    "\n",
    "    # get the renaming dict for f and keep valid columns\n",
    "    rename_dict_f = {v: k for k, v in df_rename.loc[f][df_rename.loc[f].notnull()].to_dict().items()}\n",
    "    valid_col_f = [k for k in rename_dict_f]\n",
    "    df_f = df_f[valid_col_f].rename(columns=rename_dict_f)\n",
    "    df_f['record_from'] = f        # add a column for path\n",
    "\n",
    "    # Get length\n",
    "    add_rows = len(df_f)\n",
    "    rows +=add_rows\n",
    "\n",
    "    # Concat\n",
    "    df_compiled_update = pd.concat([df_compiled_update, df_f], ignore_index=True)\n",
    "\n",
    "    count = count + 1\n",
    "    if count % 10 == 0:\n",
    "        t_end = time.time()\n",
    "        print('finished the {}th file; time used for the last ten files: {:2f} sec'.format(count, t_end - t_start))\n",
    "        t_start = t_end"
   ]
  },
  {
   "cell_type": "code",
   "execution_count": 212,
   "id": "9491eb40-8b93-4ae5-b7bd-7f29e1dccecd",
   "metadata": {},
   "outputs": [
    {
     "name": "stdout",
     "output_type": "stream",
     "text": [
      "5787151\n",
      "5780817\n"
     ]
    }
   ],
   "source": [
    "print(len(df_compiled_update_2))\n",
    "df_compiled_update_2 = df_compiled_update_2.loc[~df_compiled_update_2[\"record_from\"].isin([\"22_Canterbury_MVData_2019.csv\"]), :]\n",
    "print(len(df_compiled_update_2))"
   ]
  },
  {
   "cell_type": "code",
   "execution_count": 214,
   "id": "ef605379-75a7-4f71-b990-c7b0fe894391",
   "metadata": {},
   "outputs": [
    {
     "data": {
      "text/plain": [
       "6334"
      ]
     },
     "execution_count": 214,
     "metadata": {},
     "output_type": "execute_result"
    }
   ],
   "source": [
    "5787151-5780817"
   ]
  },
  {
   "cell_type": "code",
   "execution_count": 215,
   "id": "ace3daa0-da5d-4499-950c-87e02ef0f0f8",
   "metadata": {},
   "outputs": [],
   "source": [
    "df_compiled_update = pd.concat([df_compiled_update_2, df_compiled_update])"
   ]
  }
 ],
 "metadata": {
  "kernelspec": {
   "display_name": "Python 3 (ipykernel)",
   "language": "python",
   "name": "python3"
  },
  "language_info": {
   "codemirror_mode": {
    "name": "ipython",
    "version": 3
   },
   "file_extension": ".py",
   "mimetype": "text/x-python",
   "name": "python",
   "nbconvert_exporter": "python",
   "pygments_lexer": "ipython3",
   "version": "3.12.0"
  }
 },
 "nbformat": 4,
 "nbformat_minor": 5
}
