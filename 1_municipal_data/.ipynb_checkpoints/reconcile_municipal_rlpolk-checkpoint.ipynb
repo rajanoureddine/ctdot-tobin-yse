{
 "cells": [
  {
   "cell_type": "code",
   "execution_count": 28,
   "id": "c014696f-76c9-428e-9927-b64005ac4617",
   "metadata": {},
   "outputs": [],
   "source": [
    "# Warning Management\n",
    "import warnings\n",
    "warnings.simplefilter(action='ignore', category=FutureWarning)\n",
    "\n",
    "# DataFrames\n",
    "import pandas as pd\n",
    "\n",
    "# Plotting\n",
    "import matplotlib.pyplot as plt\n",
    "\n",
    "# Maths\n",
    "import numpy as np\n",
    "import math\n",
    "\n",
    "# Path management\n",
    "import pathlib\n",
    "import os\n",
    "import sys\n",
    "\n",
    "# Progress tracking\n",
    "from tqdm import tqdm\n",
    "\n",
    "# Regular Expressions\n",
    "import re\n",
    "\n",
    "# Logging\n",
    "import logging\n",
    "\n",
    "# Helpers\n",
    "from helper_fns import convert_vin_valid, return_matched_vins, create_valid_zip, try_divide"
   ]
  },
  {
   "cell_type": "markdown",
   "id": "84e557fe-718c-4426-949f-e54c45b3440b",
   "metadata": {},
   "source": [
    "# 1. Import Data"
   ]
  },
  {
   "cell_type": "code",
   "execution_count": 8,
   "id": "4cee8afb-022e-429b-85e8-4eb3c6561067",
   "metadata": {},
   "outputs": [],
   "source": [
    "# Version of raw data to get\n",
    "version = \"110723\"\n",
    "\n",
    "# Paths \n",
    "path = pathlib.Path().resolve().parent.parent/ \"rn_home\"\n",
    "\n",
    "# Set up paths for different systems\n",
    "if sys.platform == 'linux':\n",
    "    data_path = path / \"data\" \n",
    "    matched_municipal_path = data_path / \"municipal_dataset_matched\" / f\"municipal_dataset_matched_{version}.csv\"\n",
    "    rlpolk_path = data_path / \"rlpolk_data\" / \"rlpolk_data_matched.csv\"\n",
    "else:\n",
    "    data_path = path.parent / \"data\"\n",
    "    print(\"YET TO FIX THIS\")"
   ]
  },
  {
   "cell_type": "code",
   "execution_count": null,
   "id": "8f97140e-8644-44aa-9d8e-de40609e472c",
   "metadata": {},
   "outputs": [],
   "source": [
    "matched_municipal_data = pd.read_csv(matched_municipal_path, index_col = [0])\n",
    "matched_rlpolk_data = pd.read_csv(rlpolk_path, index_col = 0)\n",
    "matched_rlpolk_data[\"year\"] = matched_rlpolk_data[\"YEAR_MONTH\"].astype(str).str[0:4].astype(int)\n",
    "matched_rlpolk_data[\"month\"] = matched_rlpolk_data[\"YEAR_MONTH\"].astype(str).str[4:].astype(int)"
   ]
  },
  {
   "cell_type": "markdown",
   "id": "8cc0c98c-6ddd-41c7-99c6-a0499a0089ba",
   "metadata": {},
   "source": [
    "# 2. Comparison"
   ]
  },
  {
   "cell_type": "markdown",
   "id": "c98801db-16b2-4ba5-80d1-61aad97f8c5c",
   "metadata": {},
   "source": [
    "## Set up data"
   ]
  },
  {
   "cell_type": "code",
   "execution_count": 50,
   "id": "c818da04-aeb0-4428-8baa-b0f35101e7ca",
   "metadata": {},
   "outputs": [
    {
     "name": "stdout",
     "output_type": "stream",
     "text": [
      "There is a difference of 28152 when deduplicating by VINs\n"
     ]
    }
   ],
   "source": [
    "# Get 2021 data for the municipal dataset\n",
    "matched_municipal_21 = matched_municipal_data[matched_municipal_data[\"record_from\"].str.contains(\"_MV_21\")]\n",
    "\n",
    "# Drop duplicates\n",
    "matched_municipal_21_dd = matched_municipal_21.drop_duplicates(\"vehicle_id\")\n",
    "\n",
    "# Print difference\n",
    "print(f\"There is a difference of {len(matched_municipal_21) - len(matched_municipal_21_dd)} when deduplicating by VINs\")"
   ]
  },
  {
   "cell_type": "code",
   "execution_count": 14,
   "id": "34dde12f-f83b-4b29-9315-48ffb8cb26fd",
   "metadata": {},
   "outputs": [],
   "source": [
    "# Get 2021 data for RLPolk\n",
    "matched_rlpolk_21_filter = ((matched_rlpolk_data[\"year\"] == 2020) & (matched_rlpolk_data[\"month\"] >=7)) | ((matched_rlpolk_data[\"year\"] == 2021)  & (matched_rlpolk_data[\"month\"] <7))\n",
    "matched_rlpolk_21 = matched_rlpolk_data.loc[matched_rlpolk_21_filter]"
   ]
  },
  {
   "cell_type": "markdown",
   "id": "00ac55b1-7238-4dde-a539-533668024285",
   "metadata": {},
   "source": [
    "## Comparisons"
   ]
  },
  {
   "cell_type": "markdown",
   "id": "f3f3c54b-1b13-4890-abcd-db14106d0323",
   "metadata": {},
   "source": [
    "### Compare the number of vehicles between municipal and RLPolk"
   ]
  },
  {
   "cell_type": "markdown",
   "id": "23d7a40b-d7a2-4f91-b346-2eeaaaa8651e",
   "metadata": {},
   "source": [
    "### Define filters"
   ]
  },
  {
   "cell_type": "code",
   "execution_count": 58,
   "id": "03f27ddc-d081-41f4-8cf9-8e7dc6838fca",
   "metadata": {},
   "outputs": [],
   "source": [
    "def get_lease_mask(data):\n",
    "    mask = data[\"lease_street\"].notna()| data[\"lease_city\"].notna() | data[\"lease_state\"].notna() | data[\"lease_zip\"].notna()\n",
    "    return mask\n",
    "\n",
    "def get_model_year_mask(data):\n",
    "    mask = (data[\"Model Year\"] == 2020) | (data[\"Model Year\"] ==2021) | (data[\"Model Year\"] ==2019)\n",
    "    return mask\n",
    "\n",
    "def get_matched_mask(data):\n",
    "    mask = (data[\"Manufacturer Name\"].notna())\n",
    "    return mask\n",
    "\n",
    "def get_rlp_mask(data):\n",
    "    rlpolk_models = matched_rlpolk_21[\"Model\"].unique().tolist()\n",
    "    mask = data[\"Model\"].isin(rlpolk_models)\n",
    "    return mask"
   ]
  },
  {
   "cell_type": "code",
   "execution_count": 39,
   "id": "2dbc13d8-5353-4347-a26f-66438c273937",
   "metadata": {},
   "outputs": [],
   "source": [
    "# Filter for leased vehicles\n",
    "lease_mask = get_lease_mask(matched_municipal_21)\n",
    "\n",
    "# Get model years 20 and 2021\n",
    "model_year_mask = get_model_year_mask(matched_municipal_21)\n",
    "\n",
    "# Filter for matches\n",
    "matched_mask = get_matched_mask(matched_municipal_21)\n",
    "\n",
    "# Filter for CT\n",
    "ct_mask = (matched_municipal_21[\"state\"] == \"CT\") | (matched_municipal_21[\"zip_corrected\"].astype(str).str[:-2].str.zfill(5).str[0:2] == \"06\")"
   ]
  },
  {
   "cell_type": "code",
   "execution_count": 43,
   "id": "069ad513-067c-4885-b811-fe7134c1a6e8",
   "metadata": {},
   "outputs": [
    {
     "name": "stdout",
     "output_type": "stream",
     "text": [
      "In the municipal dataset, 392137 vehicles are sold in tax year 2021\n",
      "In the municipal dataset, 455306 vehicles are sold in tax year 2021, including leases\n",
      "This is calculated by taking tax year 2021, and filtering for model years > 2020 and 2021\n"
     ]
    }
   ],
   "source": [
    "# Print results\n",
    "print(f\"In the municipal dataset, {sum(~lease_mask & mun_veh_year_mask & matched_mask)} vehicles are sold in tax year 2021\")\n",
    "print(f\"In the municipal dataset, {sum(mun_veh_year_mask & matched_mask)} vehicles are sold in tax year 2021, including leases\")\n",
    "print(f\"This is calculated by taking tax year 2021, and filtering for model years > 2020 and 2021\")"
   ]
  },
  {
   "cell_type": "code",
   "execution_count": 42,
   "id": "86edb957-59b3-4726-b059-bc808e067372",
   "metadata": {},
   "outputs": [
    {
     "name": "stdout",
     "output_type": "stream",
     "text": [
      "In the RLPolk Dataset, 191187 vehicles are sold in FY 2021\n",
      "In the RLPolk Dataset, 173449 vehicles are sold in CY 2021\n"
     ]
    }
   ],
   "source": [
    "# Do the same for RLPolk\n",
    "print(f\"In the RLPolk Dataset, {matched_rlpolk_21[\"VEH_COUNT\"].sum()} vehicles are sold in FY 2021\")\n",
    "\n",
    "# Try for the CY\n",
    "print(f\"In the RLPolk Dataset, {matched_rlpolk_data[matched_rlpolk_data[\"year\"]==2021][\"VEH_COUNT\"].sum()} vehicles are sold in CY 2021\")"
   ]
  },
  {
   "cell_type": "markdown",
   "id": "c6c8cc25-cb8c-4038-a46d-d5b7211a594b",
   "metadata": {},
   "source": [
    "### Compare only those models present in both datasets"
   ]
  },
  {
   "cell_type": "code",
   "execution_count": 59,
   "id": "148c9fc2-7e64-4e20-b594-df72bfd073fb",
   "metadata": {},
   "outputs": [
    {
     "name": "stdout",
     "output_type": "stream",
     "text": [
      "In the municipal dataset, 425607 vehicles **with the same models as RLPolk** sold in 2021\n",
      "In the municipal dataset, 365708 vehicles **with the same models as RLPolk** sold in 2021, excl. leases\n"
     ]
    }
   ],
   "source": [
    "# Filter for being in RLP \n",
    "mun_rlpolk_model_filter = get_rlp_mask(matched_municipal_21)\n",
    "num_veh_rlpolk_mun = num_veh_mun & mun_rlpolk_model_filter\n",
    "num_veh_rlpolk_mun_notlease = num_veh_rlpolk_mun & ~lease_mask\n",
    "\n",
    "# Print results\n",
    "print(f\"In the municipal dataset, {num_veh_rlpolk_mun.sum()} vehicles **with the same models as RLPolk** sold in 2021\")\n",
    "print(f\"In the municipal dataset, {num_veh_rlpolk_mun_notlease.sum()} vehicles **with the same models as RLPolk** sold in 2021, excl. leases\")"
   ]
  },
  {
   "cell_type": "markdown",
   "id": "15718e76-dc25-4855-b104-c72d413210b1",
   "metadata": {},
   "source": [
    "### Compare EVs"
   ]
  },
  {
   "cell_type": "code",
   "execution_count": 56,
   "id": "14b9578f-a437-4674-b531-d713ff9a0a6a",
   "metadata": {},
   "outputs": [
    {
     "name": "stdout",
     "output_type": "stream",
     "text": [
      "In the municipal dataset, 10505 EVs **with the same models as RLPolk** sold in 2021\n",
      "In the municipal dataset, 8545 EVs **with the same models as RLPolk** sold in 2021, excl. leases\n"
     ]
    }
   ],
   "source": [
    "num_veh_rlpolk_mun_evs = num_veh_mun & mun_rlpolk_model_filter & (matched_municipal_21[\"Fuel Type - Primary\"] == \"Electric\")\n",
    "num_veh_rlpolk_mun_evs_nl = num_veh_rlpolk_mun_evs & ~lease_mask\n",
    "\n",
    "# Print results\n",
    "print(f\"In the municipal dataset, {num_veh_rlpolk_mun_evs.sum()} EVs **with the same models as RLPolk** sold in 2021\")\n",
    "print(f\"In the municipal dataset, {num_veh_rlpolk_mun_evs_nl.sum()} EVs **with the same models as RLPolk** sold in 2021, excl. leases\")"
   ]
  },
  {
   "cell_type": "code",
   "execution_count": 57,
   "id": "4dd13b36-f6f5-43fc-8513-62542e2d0cb2",
   "metadata": {},
   "outputs": [
    {
     "name": "stdout",
     "output_type": "stream",
     "text": [
      "In the RLPolk Dataset, 6086 EVs sold in FY 2021\n",
      "In the RLPolk Dataset, 8461 EVs sold in CY 2021\n"
     ]
    }
   ],
   "source": [
    "matched_rlpolk_21_evs = matched_rlpolk_21[\"Fuel Type - Primary\"] == \"Electric\"\n",
    "\n",
    "# Do the same for RLPolk\n",
    "print(f\"In the RLPolk Dataset, {matched_rlpolk_21[matched_rlpolk_21_evs][\"VEH_COUNT\"].sum()} EVs sold in FY 2021\")\n",
    "\n",
    "# Try with just calendar year\n",
    "print(f\"In the RLPolk Dataset, {matched_rlpolk_data[(matched_rlpolk_data[\"year\"]==2021) & (matched_rlpolk_data[\"Fuel Type - Primary\"]==\"Electric\")][\"VEH_COUNT\"].sum()} EVs sold in CY 2021\")"
   ]
  },
  {
   "cell_type": "markdown",
   "id": "e74bd4b2-4ca6-4f35-8b30-9dc96090228d",
   "metadata": {},
   "source": [
    "### Compare EVs with CT state"
   ]
  },
  {
   "cell_type": "code",
   "execution_count": 115,
   "id": "1c9691cb-118a-47d4-87d2-d3dc08e6eca8",
   "metadata": {},
   "outputs": [
    {
     "data": {
      "text/plain": [
       "12193"
      ]
     },
     "execution_count": 115,
     "metadata": {},
     "output_type": "execute_result"
    }
   ],
   "source": [
    "len(matched_municipal_21[ct_mask & mun_rlpolk_model_filter &  (matched_municipal_21[\"Fuel Type - Primary\"] == \"Electric\")])"
   ]
  }
 ],
 "metadata": {
  "kernelspec": {
   "display_name": "Python 3 (ipykernel)",
   "language": "python",
   "name": "python3"
  },
  "language_info": {
   "codemirror_mode": {
    "name": "ipython",
    "version": 3
   },
   "file_extension": ".py",
   "mimetype": "text/x-python",
   "name": "python",
   "nbconvert_exporter": "python",
   "pygments_lexer": "ipython3",
   "version": "3.12.0"
  }
 },
 "nbformat": 4,
 "nbformat_minor": 5
}
