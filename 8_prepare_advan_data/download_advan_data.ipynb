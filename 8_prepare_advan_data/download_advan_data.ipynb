{
 "cells": [
  {
   "cell_type": "code",
   "execution_count": 1,
   "id": "6e519b64-a037-473a-baa1-186d65460bbf",
   "metadata": {},
   "outputs": [],
   "source": [
    "# DataFrames and Math\n",
    "import pandas as pd\n",
    "import numpy as np\n",
    "import tqdm\n",
    "pd.options.display.max_columns = 100\n",
    "\n",
    "# API management\n",
    "import json\n",
    "import base64\n",
    "import requests\n",
    "from getpass import getpass\n",
    "\n",
    "# Plotting\n",
    "import matplotlib.pyplot as plt\n",
    "\n",
    "# Paths\n",
    "import pathlib\n",
    "import os\n",
    "import platform\n",
    "\n",
    "# Set the paths\n",
    "if platform.platform()[0:5] == 'macOS':\n",
    "    on_cluster = False\n",
    "    cd = pathlib.Path().resolve().parent\n",
    "    str_project = cd / \"Documents\" \n",
    "    str_data = str_project / \"tobin_working_data\"\n",
    "    footfall_output_path = str_data / \"advan_data_footfall\"\n",
    "    processed_output_path = str_data / \"advan_data_footfall_processed\"\n",
    "\n",
    "if platform.platform()[0:5] == 'Linux':\n",
    "    on_cluster = True\n",
    "    home_path = pathlib.Path().resolve().parent.parent/\"rn_home\"\n",
    "    data_output_path = home_path / \"data\" / \"advan_data\"\n",
    "    footfall_output_path = home_path / \"data\" / \"advan_data_footfall\"\n",
    "    processed_output_path = home_path / \"data\" / \"advan_data_processed\""
   ]
  },
  {
   "cell_type": "markdown",
   "id": "27486037-44c1-49b5-9cbb-6d2b3d32b7aa",
   "metadata": {},
   "source": [
    "# Define required functions"
   ]
  },
  {
   "cell_type": "code",
   "execution_count": 2,
   "id": "7f894d33-e667-4e7f-9004-39013891ad24",
   "metadata": {},
   "outputs": [],
   "source": [
    "# Define a helper function to download advan data\n",
    "def download_advan_data(url, partition, output_path):\n",
    "    # Get Raja's access token\n",
    "    access_token = \"DhLxzliD.DAdc1X2Wd9DtI2OuUjtZBekzoKxJMPiCBXlMKLKIKbWM4r2mGKrL6e1X\"\n",
    "\n",
    "    # Get the links to download individual files\n",
    "    results = requests.get(url=url,\n",
    "                       headers={\n",
    "                        \"X-API-KEY\": access_token,\n",
    "                        'accept': 'application/json'\n",
    "                       })\n",
    "    # print(results.json())\n",
    "    # Download the files we want\n",
    "    # Download all files for one month\n",
    "    for item in results.json()['download_links']:\n",
    "       if item['partition_key'] == partition:\n",
    "           filename = item['file_name']\n",
    "           print(f\"Downloading {filename}\")\n",
    "           link = item['link']\n",
    "           data = requests.get(link)\n",
    "           open(output_path / filename, 'wb').write(data.content)"
   ]
  },
  {
   "cell_type": "code",
   "execution_count": 3,
   "id": "17c7d14e-14b5-4e0f-8cb0-8594b8e8ffaa",
   "metadata": {},
   "outputs": [],
   "source": [
    "def extract_ct_data(input_path, partitions, output_path, output_name, save = False):\n",
    "    # Create blank data frame\n",
    "    ct_data = pd.DataFrame([])\n",
    "\n",
    "    # Iterate through all the files in the directory\n",
    "    for file in input_path.iterdir():\n",
    "        for partition in partitions:\n",
    "            if partition in file.name:\n",
    "                print(f\"Reading file {file.name}\")\n",
    "                # Read the file\n",
    "                data = pd.read_csv(file)\n",
    "                # Extract rows for CT\n",
    "                ct_rows = data[data[\"REGION\"]==\"CT\"].reset_index(drop=True)\n",
    "                \n",
    "                # Update the DataFrame\n",
    "                ct_data = pd.concat([ct_data, ct_rows]).reset_index(drop=True)\n",
    "\n",
    "    # Save the master data frame\n",
    "    if save:\n",
    "        print(f\"Saving to {output_path}\")\n",
    "        ct_data.to_csv(output_path / f\"{output_name}.csv\")\n",
    "    else:\n",
    "        print(\"Save setting set to false, not saving\")\n",
    "\n",
    "    return(ct_data)"
   ]
  },
  {
   "cell_type": "markdown",
   "id": "e92f2e18-7127-4b61-9773-09078165b728",
   "metadata": {},
   "source": [
    "# Download monthly patterns data"
   ]
  },
  {
   "cell_type": "code",
   "execution_count": 22,
   "id": "8ec8049b-7ca1-487a-8ae2-94d12ef7ca90",
   "metadata": {},
   "outputs": [],
   "source": [
    "months_to_download = [[x +\"-\"+y+\"-01\" for y in [str(z).zfill(2) for z in range(1,13)]] for x in [\"2021\", \"2022\"]]\n",
    "months_to_download = [item for sublist in months_to_download for item in sublist]"
   ]
  },
  {
   "cell_type": "code",
   "execution_count": null,
   "id": "8db1d21c-c52e-4bed-833c-05e02bdf84da",
   "metadata": {},
   "outputs": [],
   "source": [
    "for month in months_to_download:\n",
    "    download_advan_data(\"https://app.deweydata.io/external-api/v3/products/2dfcb598-6e30-49f1-bdba-1deae113a951/files\",\n",
    "                        month,\n",
    "                        data_output_path)"
   ]
  },
  {
   "cell_type": "code",
   "execution_count": 20,
   "id": "2ca894ef-db74-431c-b44d-8eae732cfe6e",
   "metadata": {},
   "outputs": [],
   "source": [
    "months_to_download = [[x +\"-\"+y+\"-01\" for y in [str(z).zfill(2) for z in range(1,13)]] for x in [\"2018\", \"2019\"]]\n",
    "months_to_download = [item for sublist in months_to_download for item in sublist]"
   ]
  },
  {
   "cell_type": "code",
   "execution_count": null,
   "id": "9be08e02-5669-491c-b88d-278c6b3454c6",
   "metadata": {},
   "outputs": [],
   "source": [
    "for month in months_to_download:\n",
    "    download_advan_data(\"https://app.deweydata.io/external-api/v3/products/2dfcb598-6e30-49f1-bdba-1deae113a951/files\",\n",
    "                        month,\n",
    "                        data_output_path)"
   ]
  },
  {
   "cell_type": "markdown",
   "id": "7c4207b3-abfb-409f-9357-2ddf00fc7e2b",
   "metadata": {
    "jp-MarkdownHeadingCollapsed": true
   },
   "source": [
    "# Download footfall data"
   ]
  },
  {
   "cell_type": "markdown",
   "id": "d45aac52-ba8f-4f04-9973-785f7d4db33d",
   "metadata": {},
   "source": [
    "Download the latest Advan data we have to check if the same errors exist"
   ]
  },
  {
   "cell_type": "code",
   "execution_count": 7,
   "id": "516cdabd-5af3-4173-94f4-21232b72359e",
   "metadata": {},
   "outputs": [
    {
     "ename": "KeyError",
     "evalue": "'download_links'",
     "output_type": "error",
     "traceback": [
      "\u001b[0;31m---------------------------------------------------------------------------\u001b[0m",
      "\u001b[0;31mKeyError\u001b[0m                                  Traceback (most recent call last)",
      "Cell \u001b[0;32mIn[7], line 1\u001b[0m\n\u001b[0;32m----> 1\u001b[0m \u001b[43mdownload_advan_data\u001b[49m\u001b[43m(\u001b[49m\u001b[38;5;124;43m\"\u001b[39;49m\u001b[38;5;124;43mhttps://app.deweydata.io/external-api/v3/products/5acc9f39-1ca6-4535-b3ff-38f6b9baf85e/files\u001b[39;49m\u001b[38;5;124;43m\"\u001b[39;49m\u001b[43m,\u001b[49m\n\u001b[1;32m      2\u001b[0m \u001b[43m                    \u001b[49m\u001b[38;5;124;43m\"\u001b[39;49m\u001b[38;5;124;43m2020-07-01\u001b[39;49m\u001b[38;5;124;43m\"\u001b[39;49m\u001b[43m,\u001b[49m\n\u001b[1;32m      3\u001b[0m \u001b[43m                    \u001b[49m\u001b[43mfootfall_output_path\u001b[49m\u001b[43m)\u001b[49m\n",
      "Cell \u001b[0;32mIn[2], line 15\u001b[0m, in \u001b[0;36mdownload_advan_data\u001b[0;34m(url, partition, output_path)\u001b[0m\n\u001b[1;32m      7\u001b[0m results \u001b[38;5;241m=\u001b[39m requests\u001b[38;5;241m.\u001b[39mget(url\u001b[38;5;241m=\u001b[39murl,\n\u001b[1;32m      8\u001b[0m                    headers\u001b[38;5;241m=\u001b[39m{\n\u001b[1;32m      9\u001b[0m                     \u001b[38;5;124m\"\u001b[39m\u001b[38;5;124mX-API-KEY\u001b[39m\u001b[38;5;124m\"\u001b[39m: access_token,\n\u001b[1;32m     10\u001b[0m                     \u001b[38;5;124m'\u001b[39m\u001b[38;5;124maccept\u001b[39m\u001b[38;5;124m'\u001b[39m: \u001b[38;5;124m'\u001b[39m\u001b[38;5;124mapplication/json\u001b[39m\u001b[38;5;124m'\u001b[39m\n\u001b[1;32m     11\u001b[0m                    })\n\u001b[1;32m     12\u001b[0m \u001b[38;5;66;03m# print(results.json())\u001b[39;00m\n\u001b[1;32m     13\u001b[0m \u001b[38;5;66;03m# Download the files we want\u001b[39;00m\n\u001b[1;32m     14\u001b[0m \u001b[38;5;66;03m# Download all files for one month\u001b[39;00m\n\u001b[0;32m---> 15\u001b[0m \u001b[38;5;28;01mfor\u001b[39;00m item \u001b[38;5;129;01min\u001b[39;00m \u001b[43mresults\u001b[49m\u001b[38;5;241;43m.\u001b[39;49m\u001b[43mjson\u001b[49m\u001b[43m(\u001b[49m\u001b[43m)\u001b[49m\u001b[43m[\u001b[49m\u001b[38;5;124;43m'\u001b[39;49m\u001b[38;5;124;43mdownload_links\u001b[39;49m\u001b[38;5;124;43m'\u001b[39;49m\u001b[43m]\u001b[49m:\n\u001b[1;32m     16\u001b[0m    \u001b[38;5;28;01mif\u001b[39;00m item[\u001b[38;5;124m'\u001b[39m\u001b[38;5;124mpartition_key\u001b[39m\u001b[38;5;124m'\u001b[39m] \u001b[38;5;241m==\u001b[39m partition:\n\u001b[1;32m     17\u001b[0m        filename \u001b[38;5;241m=\u001b[39m item[\u001b[38;5;124m'\u001b[39m\u001b[38;5;124mfile_name\u001b[39m\u001b[38;5;124m'\u001b[39m]\n",
      "\u001b[0;31mKeyError\u001b[0m: 'download_links'"
     ]
    }
   ],
   "source": [
    "download_advan_data(\"https://app.deweydata.io/external-api/v3/products/5acc9f39-1ca6-4535-b3ff-38f6b9baf85e/files\",\n",
    "                    \"2020-07-01\",\n",
    "                    footfall_output_path)"
   ]
  },
  {
   "cell_type": "code",
   "execution_count": null,
   "id": "b8fc33f8-6526-40b9-8e72-ea40654738eb",
   "metadata": {},
   "outputs": [],
   "source": [
    "ct_ff_dat = extract_ct_data(footfall_output_path, '2020-07-01', processed_output_path, \"ct_ff_2020-07-01_110723\")"
   ]
  },
  {
   "cell_type": "markdown",
   "id": "670f81cb-8ddf-4c26-8e4a-ffa07d109225",
   "metadata": {},
   "source": [
    "# Extract CT Data"
   ]
  },
  {
   "cell_type": "code",
   "execution_count": null,
   "id": "6780a067-2382-4d42-9122-8baf34c32246",
   "metadata": {},
   "outputs": [
    {
     "name": "stdout",
     "output_type": "stream",
     "text": [
      "Reading file Neighborhood_Patterns_US-303-DATE_RANGE_START-2021-01-01.csv.gz\n",
      "Reading file Neighborhood_Patterns_US-304-DATE_RANGE_START-2021-01-01.csv.gz\n",
      "Reading file Neighborhood_Patterns_US-305-DATE_RANGE_START-2021-01-01.csv.gz\n",
      "Reading file Neighborhood_Patterns_US-306-DATE_RANGE_START-2021-01-01.csv.gz\n",
      "Reading file Neighborhood_Patterns_US-307-DATE_RANGE_START-2021-01-01.csv.gz\n",
      "Reading file Neighborhood_Patterns_US-308-DATE_RANGE_START-2021-01-01.csv.gz\n",
      "Reading file Neighborhood_Patterns_US-309-DATE_RANGE_START-2021-02-01.csv.gz\n",
      "Reading file Neighborhood_Patterns_US-310-DATE_RANGE_START-2021-02-01.csv.gz\n",
      "Reading file Neighborhood_Patterns_US-311-DATE_RANGE_START-2021-02-01.csv.gz\n",
      "Reading file Neighborhood_Patterns_US-312-DATE_RANGE_START-2021-02-01.csv.gz\n",
      "Reading file Neighborhood_Patterns_US-313-DATE_RANGE_START-2021-02-01.csv.gz\n",
      "Reading file Neighborhood_Patterns_US-314-DATE_RANGE_START-2021-02-01.csv.gz\n",
      "Reading file Neighborhood_Patterns_US-315-DATE_RANGE_START-2021-03-01.csv.gz\n",
      "Reading file Neighborhood_Patterns_US-316-DATE_RANGE_START-2021-03-01.csv.gz\n",
      "Reading file Neighborhood_Patterns_US-317-DATE_RANGE_START-2021-03-01.csv.gz\n",
      "Reading file Neighborhood_Patterns_US-318-DATE_RANGE_START-2021-03-01.csv.gz\n",
      "Reading file Neighborhood_Patterns_US-319-DATE_RANGE_START-2021-03-01.csv.gz\n",
      "Reading file Neighborhood_Patterns_US-320-DATE_RANGE_START-2021-03-01.csv.gz\n",
      "Reading file Neighborhood_Patterns_US-321-DATE_RANGE_START-2021-03-01.csv.gz\n",
      "Reading file Neighborhood_Patterns_US-322-DATE_RANGE_START-2021-04-01.csv.gz\n",
      "Reading file Neighborhood_Patterns_US-323-DATE_RANGE_START-2021-04-01.csv.gz\n",
      "Reading file Neighborhood_Patterns_US-324-DATE_RANGE_START-2021-04-01.csv.gz\n",
      "Reading file Neighborhood_Patterns_US-325-DATE_RANGE_START-2021-04-01.csv.gz\n",
      "Reading file Neighborhood_Patterns_US-326-DATE_RANGE_START-2021-04-01.csv.gz\n",
      "Reading file Neighborhood_Patterns_US-327-DATE_RANGE_START-2021-04-01.csv.gz\n",
      "Reading file Neighborhood_Patterns_US-328-DATE_RANGE_START-2021-04-01.csv.gz\n",
      "Reading file Neighborhood_Patterns_US-329-DATE_RANGE_START-2021-05-01.csv.gz\n",
      "Reading file Neighborhood_Patterns_US-330-DATE_RANGE_START-2021-05-01.csv.gz\n",
      "Reading file Neighborhood_Patterns_US-331-DATE_RANGE_START-2021-05-01.csv.gz\n",
      "Reading file Neighborhood_Patterns_US-332-DATE_RANGE_START-2021-05-01.csv.gz\n",
      "Reading file Neighborhood_Patterns_US-333-DATE_RANGE_START-2021-05-01.csv.gz\n",
      "Reading file Neighborhood_Patterns_US-334-DATE_RANGE_START-2021-05-01.csv.gz\n",
      "Reading file Neighborhood_Patterns_US-335-DATE_RANGE_START-2021-05-01.csv.gz\n",
      "Reading file Neighborhood_Patterns_US-336-DATE_RANGE_START-2021-05-01.csv.gz\n",
      "Reading file Neighborhood_Patterns_US-337-DATE_RANGE_START-2021-06-01.csv.gz\n",
      "Reading file Neighborhood_Patterns_US-338-DATE_RANGE_START-2021-06-01.csv.gz\n",
      "Reading file Neighborhood_Patterns_US-339-DATE_RANGE_START-2021-06-01.csv.gz\n",
      "Reading file Neighborhood_Patterns_US-340-DATE_RANGE_START-2021-06-01.csv.gz\n",
      "Reading file Neighborhood_Patterns_US-341-DATE_RANGE_START-2021-06-01.csv.gz\n",
      "Reading file Neighborhood_Patterns_US-342-DATE_RANGE_START-2021-06-01.csv.gz\n",
      "Reading file Neighborhood_Patterns_US-343-DATE_RANGE_START-2021-06-01.csv.gz\n",
      "Reading file Neighborhood_Patterns_US-344-DATE_RANGE_START-2021-06-01.csv.gz\n",
      "Reading file Neighborhood_Patterns_US-345-DATE_RANGE_START-2021-07-01.csv.gz\n",
      "Reading file Neighborhood_Patterns_US-346-DATE_RANGE_START-2021-07-01.csv.gz\n",
      "Reading file Neighborhood_Patterns_US-347-DATE_RANGE_START-2021-07-01.csv.gz\n",
      "Reading file Neighborhood_Patterns_US-348-DATE_RANGE_START-2021-07-01.csv.gz\n",
      "Reading file Neighborhood_Patterns_US-349-DATE_RANGE_START-2021-07-01.csv.gz\n",
      "Reading file Neighborhood_Patterns_US-350-DATE_RANGE_START-2021-07-01.csv.gz\n",
      "Reading file Neighborhood_Patterns_US-351-DATE_RANGE_START-2021-07-01.csv.gz\n",
      "Reading file Neighborhood_Patterns_US-352-DATE_RANGE_START-2021-07-01.csv.gz\n",
      "Reading file Neighborhood_Patterns_US-353-DATE_RANGE_START-2021-08-01.csv.gz\n",
      "Reading file Neighborhood_Patterns_US-354-DATE_RANGE_START-2021-08-01.csv.gz\n",
      "Reading file Neighborhood_Patterns_US-355-DATE_RANGE_START-2021-08-01.csv.gz\n",
      "Reading file Neighborhood_Patterns_US-356-DATE_RANGE_START-2021-08-01.csv.gz\n",
      "Reading file Neighborhood_Patterns_US-357-DATE_RANGE_START-2021-08-01.csv.gz\n",
      "Reading file Neighborhood_Patterns_US-358-DATE_RANGE_START-2021-08-01.csv.gz\n",
      "Reading file Neighborhood_Patterns_US-359-DATE_RANGE_START-2021-08-01.csv.gz\n",
      "Reading file Neighborhood_Patterns_US-360-DATE_RANGE_START-2021-08-01.csv.gz\n",
      "Reading file Neighborhood_Patterns_US-361-DATE_RANGE_START-2021-09-01.csv.gz\n",
      "Reading file Neighborhood_Patterns_US-362-DATE_RANGE_START-2021-09-01.csv.gz\n",
      "Reading file Neighborhood_Patterns_US-363-DATE_RANGE_START-2021-09-01.csv.gz\n",
      "Reading file Neighborhood_Patterns_US-364-DATE_RANGE_START-2021-09-01.csv.gz\n",
      "Reading file Neighborhood_Patterns_US-365-DATE_RANGE_START-2021-09-01.csv.gz\n",
      "Reading file Neighborhood_Patterns_US-366-DATE_RANGE_START-2021-09-01.csv.gz\n",
      "Reading file Neighborhood_Patterns_US-367-DATE_RANGE_START-2021-09-01.csv.gz\n",
      "Reading file Neighborhood_Patterns_US-368-DATE_RANGE_START-2021-10-01.csv.gz\n",
      "Reading file Neighborhood_Patterns_US-369-DATE_RANGE_START-2021-10-01.csv.gz\n",
      "Reading file Neighborhood_Patterns_US-370-DATE_RANGE_START-2021-10-01.csv.gz\n",
      "Reading file Neighborhood_Patterns_US-371-DATE_RANGE_START-2021-10-01.csv.gz\n",
      "Reading file Neighborhood_Patterns_US-372-DATE_RANGE_START-2021-10-01.csv.gz\n",
      "Reading file Neighborhood_Patterns_US-373-DATE_RANGE_START-2021-10-01.csv.gz\n",
      "Reading file Neighborhood_Patterns_US-374-DATE_RANGE_START-2021-10-01.csv.gz\n",
      "Reading file Neighborhood_Patterns_US-375-DATE_RANGE_START-2021-10-01.csv.gz\n",
      "Reading file Neighborhood_Patterns_US-376-DATE_RANGE_START-2021-11-01.csv.gz\n",
      "Reading file Neighborhood_Patterns_US-377-DATE_RANGE_START-2021-11-01.csv.gz\n",
      "Reading file Neighborhood_Patterns_US-378-DATE_RANGE_START-2021-11-01.csv.gz\n",
      "Reading file Neighborhood_Patterns_US-379-DATE_RANGE_START-2021-11-01.csv.gz\n",
      "Reading file Neighborhood_Patterns_US-380-DATE_RANGE_START-2021-11-01.csv.gz\n",
      "Reading file Neighborhood_Patterns_US-381-DATE_RANGE_START-2021-11-01.csv.gz\n",
      "Reading file Neighborhood_Patterns_US-382-DATE_RANGE_START-2021-11-01.csv.gz\n",
      "Reading file Neighborhood_Patterns_US-383-DATE_RANGE_START-2021-12-01.csv.gz\n",
      "Reading file Neighborhood_Patterns_US-384-DATE_RANGE_START-2021-12-01.csv.gz\n",
      "Reading file Neighborhood_Patterns_US-385-DATE_RANGE_START-2021-12-01.csv.gz\n",
      "Reading file Neighborhood_Patterns_US-386-DATE_RANGE_START-2021-12-01.csv.gz\n",
      "Reading file Neighborhood_Patterns_US-387-DATE_RANGE_START-2021-12-01.csv.gz\n",
      "Reading file Neighborhood_Patterns_US-388-DATE_RANGE_START-2021-12-01.csv.gz\n",
      "Reading file Neighborhood_Patterns_US-389-DATE_RANGE_START-2021-12-01.csv.gz\n",
      "Reading file Neighborhood_Patterns_US-390-DATE_RANGE_START-2021-12-01.csv.gz\n",
      "Reading file Neighborhood_Patterns_US-391-DATE_RANGE_START-2022-01-01.csv.gz\n",
      "Reading file Neighborhood_Patterns_US-392-DATE_RANGE_START-2022-01-01.csv.gz\n",
      "Reading file Neighborhood_Patterns_US-393-DATE_RANGE_START-2022-01-01.csv.gz\n",
      "Reading file Neighborhood_Patterns_US-394-DATE_RANGE_START-2022-01-01.csv.gz\n",
      "Reading file Neighborhood_Patterns_US-395-DATE_RANGE_START-2022-01-01.csv.gz\n",
      "Reading file Neighborhood_Patterns_US-396-DATE_RANGE_START-2022-01-01.csv.gz\n",
      "Reading file Neighborhood_Patterns_US-397-DATE_RANGE_START-2022-01-01.csv.gz\n",
      "Reading file Neighborhood_Patterns_US-398-DATE_RANGE_START-2022-02-01.csv.gz\n",
      "Reading file Neighborhood_Patterns_US-399-DATE_RANGE_START-2022-02-01.csv.gz\n",
      "Reading file Neighborhood_Patterns_US-400-DATE_RANGE_START-2022-02-01.csv.gz\n",
      "Reading file Neighborhood_Patterns_US-401-DATE_RANGE_START-2022-02-01.csv.gz\n",
      "Reading file Neighborhood_Patterns_US-402-DATE_RANGE_START-2022-02-01.csv.gz\n",
      "Reading file Neighborhood_Patterns_US-403-DATE_RANGE_START-2022-02-01.csv.gz\n",
      "Reading file Neighborhood_Patterns_US-404-DATE_RANGE_START-2022-02-01.csv.gz\n",
      "Reading file Neighborhood_Patterns_US-405-DATE_RANGE_START-2022-03-01.csv.gz\n",
      "Reading file Neighborhood_Patterns_US-406-DATE_RANGE_START-2022-03-01.csv.gz\n",
      "Reading file Neighborhood_Patterns_US-407-DATE_RANGE_START-2022-03-01.csv.gz\n",
      "Reading file Neighborhood_Patterns_US-408-DATE_RANGE_START-2022-03-01.csv.gz\n",
      "Reading file Neighborhood_Patterns_US-409-DATE_RANGE_START-2022-03-01.csv.gz\n",
      "Reading file Neighborhood_Patterns_US-410-DATE_RANGE_START-2022-03-01.csv.gz\n",
      "Reading file Neighborhood_Patterns_US-411-DATE_RANGE_START-2022-03-01.csv.gz\n",
      "Reading file Neighborhood_Patterns_US-412-DATE_RANGE_START-2022-03-01.csv.gz\n",
      "Reading file Neighborhood_Patterns_US-413-DATE_RANGE_START-2022-03-01.csv.gz\n",
      "Reading file Neighborhood_Patterns_US-414-DATE_RANGE_START-2022-04-01.csv.gz\n",
      "Reading file Neighborhood_Patterns_US-415-DATE_RANGE_START-2022-04-01.csv.gz\n",
      "Reading file Neighborhood_Patterns_US-416-DATE_RANGE_START-2022-04-01.csv.gz\n",
      "Reading file Neighborhood_Patterns_US-417-DATE_RANGE_START-2022-04-01.csv.gz\n",
      "Reading file Neighborhood_Patterns_US-418-DATE_RANGE_START-2022-04-01.csv.gz\n",
      "Reading file Neighborhood_Patterns_US-419-DATE_RANGE_START-2022-04-01.csv.gz\n",
      "Reading file Neighborhood_Patterns_US-420-DATE_RANGE_START-2022-04-01.csv.gz\n"
     ]
    }
   ],
   "source": [
    "ct_data = extract_ct_data(data_output_path, months_to_download, processed_output_path, \"ct_advan_data_2021-22_121123\", save = True)"
   ]
  },
  {
   "cell_type": "markdown",
   "id": "82591c7a-eb23-4b16-bd17-4ce4c1950d4c",
   "metadata": {},
   "source": [
    "### Observe data for CT"
   ]
  },
  {
   "cell_type": "code",
   "execution_count": 101,
   "id": "b7980929-4945-4d10-8b23-c03ef669d858",
   "metadata": {},
   "outputs": [
    {
     "name": "stdout",
     "output_type": "stream",
     "text": [
      "There are 2585 rows for CT, corresponding to this many block groups\n"
     ]
    }
   ],
   "source": [
    "print(f\"There are {len(ct_data)} rows for CT, corresponding to this many block groups\")"
   ]
  },
  {
   "cell_type": "code",
   "execution_count": 146,
   "id": "a24a6442-def1-4a43-9e53-735c11c51ca4",
   "metadata": {},
   "outputs": [],
   "source": [
    "ct_data = ct_data.sort_values(\"AREA\")\n",
    "ct_bg_codes = ct_data[\"AREA\"].astype(str).str.zfill(12).unique().tolist()"
   ]
  },
  {
   "cell_type": "markdown",
   "id": "17756994-cb93-415a-8aaa-f38168e909e2",
   "metadata": {},
   "source": [
    "Now observe how many home destinations there are"
   ]
  },
  {
   "cell_type": "code",
   "execution_count": 102,
   "id": "896058cd-8a41-4519-afc1-d3e7269e5edb",
   "metadata": {},
   "outputs": [],
   "source": [
    "home_areas_list = []\n",
    "\n",
    "for index, row in ct_data.iterrows():\n",
    "    home_areas = json.loads(row[\"DEVICE_HOME_AREAS\"])\n",
    "\n",
    "    # For each one\n",
    "    for home_area in home_areas.keys():\n",
    "        if not home_area in home_areas_list:\n",
    "            home_areas_list.append(home_area)"
   ]
  },
  {
   "cell_type": "code",
   "execution_count": 104,
   "id": "658e0642-e384-4ac7-bb44-e1bbb03ac904",
   "metadata": {},
   "outputs": [
    {
     "name": "stdout",
     "output_type": "stream",
     "text": [
      "Thus there are 18674 home destinations of which 2583 are from CT\n"
     ]
    }
   ],
   "source": [
    "home_areas_list_ct = [x for x in home_areas_list if str(x)[0:2]==\"09\"]\n",
    "print(f\"Thus there are {len(home_areas_list)} home destinations of which {len(home_areas_list_ct)} are from CT\")"
   ]
  }
 ],
 "metadata": {
  "kernelspec": {
   "display_name": "Python 3 (ipykernel)",
   "language": "python",
   "name": "python3"
  },
  "language_info": {
   "codemirror_mode": {
    "name": "ipython",
    "version": 3
   },
   "file_extension": ".py",
   "mimetype": "text/x-python",
   "name": "python",
   "nbconvert_exporter": "python",
   "pygments_lexer": "ipython3",
   "version": "3.9.18"
  }
 },
 "nbformat": 4,
 "nbformat_minor": 5
}
