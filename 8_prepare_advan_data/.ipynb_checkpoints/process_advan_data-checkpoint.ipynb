{
 "cells": [
  {
   "cell_type": "code",
   "execution_count": 57,
   "id": "6e519b64-a037-473a-baa1-186d65460bbf",
   "metadata": {},
   "outputs": [],
   "source": [
    "# DataFrames and Math\n",
    "import pandas as pd\n",
    "import numpy as np\n",
    "import tqdm\n",
    "pd.options.display.max_columns = 100\n",
    "\n",
    "# API management\n",
    "import json\n",
    "import base64\n",
    "import requests\n",
    "from getpass import getpass\n",
    "\n",
    "# Plotting\n",
    "import matplotlib.pyplot as plt\n",
    "\n",
    "# Paths\n",
    "import pathlib\n",
    "data_output_path = pathlib.Path().resolve().parent.parent / \"data\" / \"advan_data\"\n",
    "footfall_output_path = pathlib.Path().resolve().parent.parent / \"data\" / \"advan_data_footfall\"\n",
    "processed_output_path = pathlib.Path().resolve().parent.parent / \"data\" / \"advan_data_processed\""
   ]
  },
  {
   "cell_type": "markdown",
   "id": "27486037-44c1-49b5-9cbb-6d2b3d32b7aa",
   "metadata": {},
   "source": [
    "# Define required functions"
   ]
  },
  {
   "cell_type": "code",
   "execution_count": 62,
   "id": "7f894d33-e667-4e7f-9004-39013891ad24",
   "metadata": {},
   "outputs": [],
   "source": [
    "# Define a helper function to download advan data\n",
    "def download_advan_data(url, partition, output_path):\n",
    "    # Get Raja's access token\n",
    "    access_token = getpass(\"Enter the access token: \")\n",
    "\n",
    "    # Get the links to download individual files\n",
    "    results = requests.get(url=url,\n",
    "                       headers={\n",
    "                        \"X-API-KEY\": access_token,\n",
    "                        'accept': 'application/json'\n",
    "                       })\n",
    "\n",
    "    # Download the files we want\n",
    "    # Download all files for one month\n",
    "    for item in results.json()['download_links']:\n",
    "        if item['partition_key'] == partition:\n",
    "            filename = item['file_name']\n",
    "            print(f\"Downloading {filename}\")\n",
    "            link = item['link']\n",
    "            data = requests.get(link)\n",
    "            open(output_path / filename, 'wb').write(data.content)"
   ]
  },
  {
   "cell_type": "code",
   "execution_count": 61,
   "id": "17c7d14e-14b5-4e0f-8cb0-8594b8e8ffaa",
   "metadata": {},
   "outputs": [],
   "source": [
    "def extract_ct_data(input_path, output_path, output_name):\n",
    "    # Create blank data frame\n",
    "    ct_data = pd.DataFrame([])\n",
    "\n",
    "    # Iterate through all the files in the directory\n",
    "    for file in input_path.iterdir():\n",
    "        print(f\"Reading file {file.name}\")\n",
    "        # Read the file\n",
    "        data = pd.read_csv(file)\n",
    "        # Extract rows for CT\n",
    "        ct_rows = data[data[\"REGION\"]==\"CT\"].reset_index(drop=True)\n",
    "        \n",
    "        # Update the DataFrame\n",
    "        ct_data = pd.concat([ct_data, ct_rows]).reset_index(drop=True)\n",
    "\n",
    "    # Save the master data frame\n",
    "    print(f\"Saving to {output_path}\")\n",
    "    ct_data.to_csv(output_path / f\"{output_name}.csv\")\n",
    "\n",
    "    return(ct_data)"
   ]
  },
  {
   "cell_type": "markdown",
   "id": "7c4207b3-abfb-409f-9357-2ddf00fc7e2b",
   "metadata": {},
   "source": [
    "# Download footfall data"
   ]
  },
  {
   "cell_type": "code",
   "execution_count": 49,
   "id": "d20a0719-4bd9-41bd-880d-812dacf56065",
   "metadata": {},
   "outputs": [
    {
     "name": "stdin",
     "output_type": "stream",
     "text": [
      "Enter the access token:  ········\n"
     ]
    },
    {
     "name": "stdout",
     "output_type": "stream",
     "text": [
      "Downloading Monthly_Patterns_Foot_Traffic-0-DATE_RANGE_START-2019-01-01.csv.gz\n",
      "Downloading Monthly_Patterns_Foot_Traffic-1-DATE_RANGE_START-2019-01-01.csv.gz\n",
      "Downloading Monthly_Patterns_Foot_Traffic-2-DATE_RANGE_START-2019-01-01.csv.gz\n",
      "Downloading Monthly_Patterns_Foot_Traffic-3-DATE_RANGE_START-2019-01-01.csv.gz\n",
      "Downloading Monthly_Patterns_Foot_Traffic-4-DATE_RANGE_START-2019-01-01.csv.gz\n",
      "Downloading Monthly_Patterns_Foot_Traffic-5-DATE_RANGE_START-2019-01-01.csv.gz\n",
      "Downloading Monthly_Patterns_Foot_Traffic-6-DATE_RANGE_START-2019-01-01.csv.gz\n",
      "Downloading Monthly_Patterns_Foot_Traffic-7-DATE_RANGE_START-2019-01-01.csv.gz\n",
      "Downloading Monthly_Patterns_Foot_Traffic-8-DATE_RANGE_START-2019-01-01.csv.gz\n",
      "Downloading Monthly_Patterns_Foot_Traffic-9-DATE_RANGE_START-2019-01-01.csv.gz\n",
      "Downloading Monthly_Patterns_Foot_Traffic-10-DATE_RANGE_START-2019-01-01.csv.gz\n",
      "Downloading Monthly_Patterns_Foot_Traffic-11-DATE_RANGE_START-2019-01-01.csv.gz\n",
      "Downloading Monthly_Patterns_Foot_Traffic-12-DATE_RANGE_START-2019-01-01.csv.gz\n",
      "Downloading Monthly_Patterns_Foot_Traffic-13-DATE_RANGE_START-2019-01-01.csv.gz\n",
      "Downloading Monthly_Patterns_Foot_Traffic-14-DATE_RANGE_START-2019-01-01.csv.gz\n",
      "Downloading Monthly_Patterns_Foot_Traffic-15-DATE_RANGE_START-2019-01-01.csv.gz\n",
      "Downloading Monthly_Patterns_Foot_Traffic-16-DATE_RANGE_START-2019-01-01.csv.gz\n",
      "Downloading Monthly_Patterns_Foot_Traffic-17-DATE_RANGE_START-2019-01-01.csv.gz\n",
      "Downloading Monthly_Patterns_Foot_Traffic-18-DATE_RANGE_START-2019-01-01.csv.gz\n",
      "Downloading Monthly_Patterns_Foot_Traffic-19-DATE_RANGE_START-2019-01-01.csv.gz\n",
      "Downloading Monthly_Patterns_Foot_Traffic-20-DATE_RANGE_START-2019-01-01.csv.gz\n",
      "Downloading Monthly_Patterns_Foot_Traffic-21-DATE_RANGE_START-2019-01-01.csv.gz\n",
      "Downloading Monthly_Patterns_Foot_Traffic-22-DATE_RANGE_START-2019-01-01.csv.gz\n",
      "Downloading Monthly_Patterns_Foot_Traffic-23-DATE_RANGE_START-2019-01-01.csv.gz\n",
      "Downloading Monthly_Patterns_Foot_Traffic-24-DATE_RANGE_START-2019-01-01.csv.gz\n",
      "Downloading Monthly_Patterns_Foot_Traffic-25-DATE_RANGE_START-2019-01-01.csv.gz\n",
      "Downloading Monthly_Patterns_Foot_Traffic-26-DATE_RANGE_START-2019-01-01.csv.gz\n",
      "Downloading Monthly_Patterns_Foot_Traffic-27-DATE_RANGE_START-2019-01-01.csv.gz\n",
      "Downloading Monthly_Patterns_Foot_Traffic-28-DATE_RANGE_START-2019-01-01.csv.gz\n",
      "Downloading Monthly_Patterns_Foot_Traffic-29-DATE_RANGE_START-2019-01-01.csv.gz\n",
      "Downloading Monthly_Patterns_Foot_Traffic-30-DATE_RANGE_START-2019-01-01.csv.gz\n",
      "Downloading Monthly_Patterns_Foot_Traffic-31-DATE_RANGE_START-2019-01-01.csv.gz\n",
      "Downloading Monthly_Patterns_Foot_Traffic-32-DATE_RANGE_START-2019-01-01.csv.gz\n",
      "Downloading Monthly_Patterns_Foot_Traffic-33-DATE_RANGE_START-2019-01-01.csv.gz\n",
      "Downloading Monthly_Patterns_Foot_Traffic-34-DATE_RANGE_START-2019-01-01.csv.gz\n",
      "Downloading Monthly_Patterns_Foot_Traffic-35-DATE_RANGE_START-2019-01-01.csv.gz\n",
      "Downloading Monthly_Patterns_Foot_Traffic-36-DATE_RANGE_START-2019-01-01.csv.gz\n",
      "Downloading Monthly_Patterns_Foot_Traffic-37-DATE_RANGE_START-2019-01-01.csv.gz\n",
      "Downloading Monthly_Patterns_Foot_Traffic-38-DATE_RANGE_START-2019-01-01.csv.gz\n",
      "Downloading Monthly_Patterns_Foot_Traffic-39-DATE_RANGE_START-2019-01-01.csv.gz\n",
      "Downloading Monthly_Patterns_Foot_Traffic-40-DATE_RANGE_START-2019-01-01.csv.gz\n",
      "Downloading Monthly_Patterns_Foot_Traffic-41-DATE_RANGE_START-2019-01-01.csv.gz\n",
      "Downloading Monthly_Patterns_Foot_Traffic-42-DATE_RANGE_START-2019-01-01.csv.gz\n",
      "Downloading Monthly_Patterns_Foot_Traffic-43-DATE_RANGE_START-2019-01-01.csv.gz\n",
      "Downloading Monthly_Patterns_Foot_Traffic-44-DATE_RANGE_START-2019-01-01.csv.gz\n",
      "Downloading Monthly_Patterns_Foot_Traffic-45-DATE_RANGE_START-2019-01-01.csv.gz\n",
      "Downloading Monthly_Patterns_Foot_Traffic-46-DATE_RANGE_START-2019-01-01.csv.gz\n",
      "Downloading Monthly_Patterns_Foot_Traffic-47-DATE_RANGE_START-2019-01-01.csv.gz\n",
      "Downloading Monthly_Patterns_Foot_Traffic-48-DATE_RANGE_START-2019-01-01.csv.gz\n",
      "Downloading Monthly_Patterns_Foot_Traffic-49-DATE_RANGE_START-2019-01-01.csv.gz\n",
      "Downloading Monthly_Patterns_Foot_Traffic-50-DATE_RANGE_START-2019-01-01.csv.gz\n",
      "Downloading Monthly_Patterns_Foot_Traffic-51-DATE_RANGE_START-2019-01-01.csv.gz\n",
      "Downloading Monthly_Patterns_Foot_Traffic-52-DATE_RANGE_START-2019-01-01.csv.gz\n",
      "Downloading Monthly_Patterns_Foot_Traffic-53-DATE_RANGE_START-2019-01-01.csv.gz\n",
      "Downloading Monthly_Patterns_Foot_Traffic-54-DATE_RANGE_START-2019-01-01.csv.gz\n",
      "Downloading Monthly_Patterns_Foot_Traffic-55-DATE_RANGE_START-2019-01-01.csv.gz\n"
     ]
    }
   ],
   "source": [
    "download_advan_data(\"https://app.deweydata.io/external-api/v3/products/5acc9f39-1ca6-4535-b3ff-38f6b9baf85e/files\",\n",
    "                    \"2019-01-01\",\n",
    "                    footfall_output_path)"
   ]
  },
  {
   "cell_type": "markdown",
   "id": "670f81cb-8ddf-4c26-8e4a-ffa07d109225",
   "metadata": {},
   "source": [
    "## Extract CT Footfall Data"
   ]
  },
  {
   "cell_type": "code",
   "execution_count": null,
   "id": "ee6d4d8b-4d03-405d-bc27-94b3be52ae85",
   "metadata": {},
   "outputs": [],
   "source": [
    "ct_ff_dat = extract_ct_data(footfall_output_path, processed_output_path, \"ct_ff_2019-01-01_110623\")"
   ]
  },
  {
   "cell_type": "markdown",
   "id": "6a8a5458-ed08-483c-8e06-fa7ac344e7f8",
   "metadata": {},
   "source": [
    "### Create O-D Matrix (CT Origins Only)"
   ]
  },
  {
   "cell_type": "markdown",
   "id": "88cae433-cad6-4a88-a460-1c6e4cd54f83",
   "metadata": {},
   "source": [
    "### Extract data for CT"
   ]
  },
  {
   "cell_type": "code",
   "execution_count": 36,
   "id": "95427acd-3067-47d7-b6df-5b37fe4267bc",
   "metadata": {},
   "outputs": [
    {
     "name": "stdout",
     "output_type": "stream",
     "text": [
      "Reading file Neighborhood_Patterns_US-3-DATE_RANGE_START-2018-01-01.csv.gz\n",
      "Reading file Neighborhood_Patterns_US-5-DATE_RANGE_START-2018-01-01.csv.gz\n",
      "Reading file Neighborhood_Patterns_US-0-DATE_RANGE_START-2018-01-01.csv.gz\n",
      "Reading file Neighborhood_Patterns_US-6-DATE_RANGE_START-2018-01-01.csv.gz\n",
      "Reading file Neighborhood_Patterns_US-4-DATE_RANGE_START-2018-01-01.csv.gz\n",
      "Reading file Neighborhood_Patterns_US-1-DATE_RANGE_START-2018-01-01.csv.gz\n",
      "Reading file Neighborhood_Patterns_US-2-DATE_RANGE_START-2018-01-01.csv.gz\n",
      "Reading file Neighborhood_Patterns_US-7-DATE_RANGE_START-2018-01-01.csv.gz\n"
     ]
    }
   ],
   "source": [
    "ct_data = pd.DataFrame([])\n",
    "for file in data_output_path.iterdir():\n",
    "    print(f\"Reading file {file.name}\")\n",
    "    data = pd.read_csv(file)\n",
    "    ct_rows = data[data[\"REGION\"]==\"CT\"].reset_index(drop=True)\n",
    "    ct_data = pd.concat([ct_data, ct_rows]).reset_index(drop=True)"
   ]
  },
  {
   "cell_type": "code",
   "execution_count": 38,
   "id": "a6be4946-0742-4a4f-bd10-a860d47ec8aa",
   "metadata": {},
   "outputs": [],
   "source": [
    "ct_data.to_csv(processed_output_path / \"ct_advan_data_2018-01-01_110623.csv\")"
   ]
  },
  {
   "cell_type": "markdown",
   "id": "82591c7a-eb23-4b16-bd17-4ce4c1950d4c",
   "metadata": {},
   "source": [
    "### Observe data for CT"
   ]
  },
  {
   "cell_type": "code",
   "execution_count": 101,
   "id": "b7980929-4945-4d10-8b23-c03ef669d858",
   "metadata": {},
   "outputs": [
    {
     "name": "stdout",
     "output_type": "stream",
     "text": [
      "There are 2585 rows for CT, corresponding to this many block groups\n"
     ]
    }
   ],
   "source": [
    "print(f\"There are {len(ct_data)} rows for CT, corresponding to this many block groups\")"
   ]
  },
  {
   "cell_type": "code",
   "execution_count": 146,
   "id": "a24a6442-def1-4a43-9e53-735c11c51ca4",
   "metadata": {},
   "outputs": [],
   "source": [
    "ct_data = ct_data.sort_values(\"AREA\")\n",
    "ct_bg_codes = ct_data[\"AREA\"].astype(str).str.zfill(12).unique().tolist()"
   ]
  },
  {
   "cell_type": "markdown",
   "id": "17756994-cb93-415a-8aaa-f38168e909e2",
   "metadata": {},
   "source": [
    "Now observe how many home destinations there are"
   ]
  },
  {
   "cell_type": "code",
   "execution_count": 102,
   "id": "896058cd-8a41-4519-afc1-d3e7269e5edb",
   "metadata": {},
   "outputs": [],
   "source": [
    "home_areas_list = []\n",
    "\n",
    "for index, row in ct_data.iterrows():\n",
    "    home_areas = json.loads(row[\"DEVICE_HOME_AREAS\"])\n",
    "\n",
    "    # For each one\n",
    "    for home_area in home_areas.keys():\n",
    "        if not home_area in home_areas_list:\n",
    "            home_areas_list.append(home_area)"
   ]
  },
  {
   "cell_type": "code",
   "execution_count": 104,
   "id": "658e0642-e384-4ac7-bb44-e1bbb03ac904",
   "metadata": {},
   "outputs": [
    {
     "name": "stdout",
     "output_type": "stream",
     "text": [
      "Thus there are 18674 home destinations of which 2583 are from CT\n"
     ]
    }
   ],
   "source": [
    "home_areas_list_ct = [x for x in home_areas_list if str(x)[0:2]==\"09\"]\n",
    "print(f\"Thus there are {len(home_areas_list)} home destinations of which {len(home_areas_list_ct)} are from CT\")"
   ]
  },
  {
   "cell_type": "markdown",
   "id": "67ba10ef-1314-4055-9285-a905b3a9a29c",
   "metadata": {},
   "source": [
    "## Extract O-D Matrix"
   ]
  },
  {
   "cell_type": "code",
   "execution_count": 225,
   "id": "3256cd2b-f54a-4956-accc-3740f41f5336",
   "metadata": {},
   "outputs": [],
   "source": [
    "od_matrix = pd.DataFrame([])"
   ]
  },
  {
   "cell_type": "code",
   "execution_count": 226,
   "id": "a2b82e3e-d66d-46d8-82aa-453ace634fcf",
   "metadata": {
    "scrolled": true
   },
   "outputs": [
    {
     "name": "stderr",
     "output_type": "stream",
     "text": [
      "2585it [07:38,  5.64it/s]\n"
     ]
    }
   ],
   "source": [
    "for index, row in tqdm.tqdm(ct_data.iterrows()):\n",
    "    # Get the area (i.e. the block group)\n",
    "    destination = str(row[\"AREA\"]).zfill(12)\n",
    "\n",
    "    # These are all the origin destinations\n",
    "    origins = json.loads(row[\"DEVICE_HOME_AREAS\"])\n",
    "\n",
    "    # Create DF\n",
    "    origins_df = pd.DataFrame(origins, index = [destination])\n",
    "    origins_df = origins_df.iloc[[0], origins_df.columns.isin(ct_bg_codes)].sort_index(axis=1)\n",
    "    od_matrix = pd.concat([od_matrix, origins_df])"
   ]
  },
  {
   "cell_type": "code",
   "execution_count": 229,
   "id": "a89dcbd0-ddf0-468f-88a4-e694369b3c7a",
   "metadata": {},
   "outputs": [],
   "source": [
    "od_matrix = od_matrix.fillna(0)\n",
    "od_matrix = od_matrix.sort_index(axis =1)\n",
    "od_matrix = od_matrix.sort_index(axis = 0)"
   ]
  },
  {
   "cell_type": "code",
   "execution_count": 230,
   "id": "8c32c4b2-93aa-4238-a52f-567d8771e7aa",
   "metadata": {},
   "outputs": [],
   "source": [
    "# Save\n",
    "od_matrix.to_csv(processed_output_path / \"od_matrix_110523.csv\")"
   ]
  },
  {
   "cell_type": "code",
   "execution_count": 17,
   "id": "1b8138a6-9317-40c8-9db4-dcf3105a0dad",
   "metadata": {},
   "outputs": [],
   "source": [
    "# Read\n",
    "od_matrix = pd.read_csv(processed_output_path / \"od_matrix_110523.csv\", index_col =[0])"
   ]
  },
  {
   "cell_type": "code",
   "execution_count": 18,
   "id": "7f563acf-51e4-43c0-b97d-3a4144224299",
   "metadata": {},
   "outputs": [],
   "source": [
    "od_matrix_np = od_matrix.copy(deep=True)"
   ]
  },
  {
   "cell_type": "code",
   "execution_count": 19,
   "id": "77b154de-c97f-44d9-86c3-b1036f3ed451",
   "metadata": {},
   "outputs": [],
   "source": [
    "od_matrix_np = od_matrix_np.to_numpy()\n",
    "od_matrix_np_nodiag = od_matrix_np.copy()\n",
    "np.fill_diagonal(od_matrix_np_nodiag, 0)"
   ]
  },
  {
   "cell_type": "code",
   "execution_count": 24,
   "id": "5d658a6b-0440-4723-847d-114d01da70fc",
   "metadata": {},
   "outputs": [
    {
     "name": "stderr",
     "output_type": "stream",
     "text": [
      "/tmp/ipykernel_3229881/3120664391.py:2: RuntimeWarning: invalid value encountered in divide\n",
      "  od_matrix_np_pct_nodiag = od_matrix_np_nodiag / np.max(od_matrix_np_nodiag, axis = 0)\n"
     ]
    }
   ],
   "source": [
    "od_matrix_np_pct = od_matrix_np / np.max(od_matrix_np, axis = 0)\n",
    "od_matrix_np_pct_nodiag = od_matrix_np_nodiag / np.max(od_matrix_np_nodiag, axis = 0)\n",
    "od_matrix_np_pct_nodiag_singlemax = od_matrix_np_nodiag / np.max(od_matrix_np_nodiag)"
   ]
  },
  {
   "cell_type": "code",
   "execution_count": 22,
   "id": "dbe137a6-c02c-453c-87e4-31656f8e96d7",
   "metadata": {},
   "outputs": [
    {
     "data": {
      "text/plain": [
       "<matplotlib.image.AxesImage at 0x145977c51bb0>"
      ]
     },
     "execution_count": 22,
     "metadata": {},
     "output_type": "execute_result"
    },
    {
     "data": {
      "image/png": "[encoded data removed]",
      "text/plain": [
       "<Figure size 640x480 with 1 Axes>"
      ]
     },
     "metadata": {},
     "output_type": "display_data"
    }
   ],
   "source": [
    "plt.imshow(od_matrix_np_pct[0:100, 0:100], vmin = 0, vmax = 1, cmap = 'plasma')"
   ]
  },
  {
   "cell_type": "code",
   "execution_count": 23,
   "id": "0d0709b0-2a16-4b5b-bd78-ef0619606ada",
   "metadata": {},
   "outputs": [
    {
     "data": {
      "text/plain": [
       "<matplotlib.image.AxesImage at 0x145977c67f20>"
      ]
     },
     "execution_count": 23,
     "metadata": {},
     "output_type": "execute_result"
    },
    {
     "data": {
      "image/png": "[encoded data removed]",
      "text/plain": [
       "<Figure size 640x480 with 1 Axes>"
      ]
     },
     "metadata": {},
     "output_type": "display_data"
    }
   ],
   "source": [
    "plt.imshow(od_matrix_np_pct_nodiag[0:100, 0:100], vmin = 0, vmax = 1, cmap = 'plasma')"
   ]
  }
 ],
 "metadata": {
  "kernelspec": {
   "display_name": "Python 3 (ipykernel)",
   "language": "python",
   "name": "python3"
  },
  "language_info": {
   "codemirror_mode": {
    "name": "ipython",
    "version": 3
   },
   "file_extension": ".py",
   "mimetype": "text/x-python",
   "name": "python",
   "nbconvert_exporter": "python",
   "pygments_lexer": "ipython3",
   "version": "3.12.0"
  }
 },
 "nbformat": 4,
 "nbformat_minor": 5
}
