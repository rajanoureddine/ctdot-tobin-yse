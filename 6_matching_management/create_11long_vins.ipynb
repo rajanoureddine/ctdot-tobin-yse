{
 "cells": [
  {
   "cell_type": "code",
   "execution_count": 2,
   "id": "a5e77f11-cb45-4916-8ee2-50783b47d5e0",
   "metadata": {},
   "outputs": [],
   "source": [
    "import pandas as pd\n",
    "import pathlib"
   ]
  },
  {
   "cell_type": "code",
   "execution_count": 9,
   "id": "5ffb705e-62ac-429b-80eb-38b01961aba7",
   "metadata": {},
   "outputs": [
    {
     "name": "stderr",
     "output_type": "stream",
     "text": [
      "/tmp/ipykernel_1732676/3528026048.py:2: DtypeWarning: Columns (7,9,10,13,20,25,30,34,42,44,56,58,68,78,80,114,115,138,146) have mixed types. Specify dtype option on import or set low_memory=False.\n",
      "  nhtsa_list = pd.read_csv(path / \"NHTSA_cleaned.csv\")\n"
     ]
    }
   ],
   "source": [
    "path = pathlib.Path().resolve().parent.parent / \"data\" / \"vin_matching\"\n",
    "nhtsa_list = pd.read_csv(path / \"NHTSA_cleaned.csv\")\n",
    "updated_list = pd.read_csv(path / \"matching_list_197200.csv\")"
   ]
  },
  {
   "cell_type": "code",
   "execution_count": 18,
   "id": "df1fe884-9252-4ad1-9816-84002299ec38",
   "metadata": {},
   "outputs": [],
   "source": [
    "nhtsa_cleaned = nhtsa_list[[\"Manufacturer\", \"Model\", \"ModelYear\", \"FuelTypePrimary\", \"ElectrificationLevel\", \"VIN\"]]\n",
    "nhtsa_cleaned = nhtsa_cleaned.rename(columns = {\"Manufacturer\" : \"Manufacturer Name\",\n",
    "                                                \"ModelYear\" : \"Model Year\",\n",
    "                                                \"FuelTypePrimary\" : \"Fuel Type - Primary\",\n",
    "                                                \"Electrification Level\" : \"Electrification Level\",\n",
    "                                                \"VIN\" : \"vin_corrected\"})"
   ]
  },
  {
   "cell_type": "code",
   "execution_count": 20,
   "id": "bb0eb9dc-23c0-4bc0-8ce3-dcdbd37e20d7",
   "metadata": {},
   "outputs": [],
   "source": [
    "full_list = pd.concat([nhtsa_cleaned, updated_list])"
   ]
  },
  {
   "cell_type": "code",
   "execution_count": 22,
   "id": "1320a06e-5623-4d6f-82f1-a68f5b82be06",
   "metadata": {},
   "outputs": [],
   "source": [
    "full_list = full_list.drop_duplicates(\"vin_corrected\")"
   ]
  },
  {
   "cell_type": "code",
   "execution_count": 24,
   "id": "1d3e076f-6224-4d25-850f-0c4c8e41c001",
   "metadata": {},
   "outputs": [],
   "source": [
    "full_list.to_csv(path / \"all_vins_nhtsa_11long.csv\")"
   ]
  }
 ],
 "metadata": {
  "kernelspec": {
   "display_name": "Python 3 (ipykernel)",
   "language": "python",
   "name": "python3"
  },
  "language_info": {
   "codemirror_mode": {
    "name": "ipython",
    "version": 3
   },
   "file_extension": ".py",
   "mimetype": "text/x-python",
   "name": "python",
   "nbconvert_exporter": "python",
   "pygments_lexer": "ipython3",
   "version": "3.12.0"
  }
 },
 "nbformat": 4,
 "nbformat_minor": 5
}
