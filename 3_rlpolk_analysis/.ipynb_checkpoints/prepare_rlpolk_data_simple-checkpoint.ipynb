{
 "cells": [
  {
   "cell_type": "markdown",
   "id": "9277fee0",
   "metadata": {},
   "source": [
    "# Setup"
   ]
  },
  {
   "cell_type": "code",
   "execution_count": 2,
   "id": "8e77d18e",
   "metadata": {},
   "outputs": [],
   "source": [
    "import pathlib\n",
    "import pandas as pd\n",
    "import numpy as np\n",
    "from itertools import combinations\n",
    "import os\n",
    "from tqdm import tqdm\n",
    "import requests\n",
    "from datetime import datetime\n",
    "import geopandas as gpd\n",
    "import matplotlib.pyplot as plt"
   ]
  },
  {
   "cell_type": "code",
   "execution_count": 18,
   "id": "1adbb110",
   "metadata": {},
   "outputs": [],
   "source": [
    "data_path = pathlib.Path().resolve().parent.parent / \"data\"\n",
    "rlpolk_data_path = data_path / \"rlpolk_data\"\n",
    "vin_matching_path = data_path / \"vin_matching\""
   ]
  },
  {
   "cell_type": "markdown",
   "id": "fd821be1-cf5b-4999-898e-322ddd8ceb50",
   "metadata": {},
   "source": [
    "# 1. Import Raw RLPolk Data"
   ]
  },
  {
   "cell_type": "code",
   "execution_count": 24,
   "id": "383f9fbd-7f13-48a3-b615-4ada7b6dc95a",
   "metadata": {},
   "outputs": [],
   "source": [
    "raw_rlpolk_data = pd.read_csv(rlpolk_data_path / \"US_Yale_University_OP0001562727_NV_CT_VIN_Prefix_202212.txt\", sep = '|')"
   ]
  },
  {
   "cell_type": "markdown",
   "id": "595ce828",
   "metadata": {},
   "source": [
    "# 1. Prepare CT NV Registrations Data"
   ]
  },
  {
   "cell_type": "code",
   "execution_count": 25,
   "id": "df846dea",
   "metadata": {},
   "outputs": [
    {
     "data": {
      "text/plain": [
       "975076"
      ]
     },
     "execution_count": 25,
     "metadata": {},
     "output_type": "execute_result"
    }
   ],
   "source": [
    "raw_rlpolk_data[\"VEH_COUNT\"].sum()"
   ]
  },
  {
   "cell_type": "markdown",
   "id": "38a64e27",
   "metadata": {},
   "source": [
    "## 1a. Initial Descriptives - CT NV Registration Data"
   ]
  },
  {
   "cell_type": "code",
   "execution_count": 26,
   "id": "c4056320",
   "metadata": {},
   "outputs": [
    {
     "name": "stdout",
     "output_type": "stream",
     "text": [
      "The data goes from 201801 to 202212\n"
     ]
    }
   ],
   "source": [
    "max_date = max(raw_rlpolk_data[\"everREPORT_YEAR_MONTH\"])\n",
    "min_date = min(raw_rlpolk_data[\"everREPORT_YEAR_MONTH\"])\n",
    "print(f\"The data goes from {min_date} to {max_date}\")"
   ]
  },
  {
   "cell_type": "code",
   "execution_count": 27,
   "id": "65774af9",
   "metadata": {},
   "outputs": [
    {
     "data": {
      "text/plain": [
       "924477"
      ]
     },
     "execution_count": 27,
     "metadata": {},
     "output_type": "execute_result"
    }
   ],
   "source": [
    "len(raw_rlpolk_data)"
   ]
  },
  {
   "cell_type": "code",
   "execution_count": 28,
   "id": "59c8faa0",
   "metadata": {},
   "outputs": [
    {
     "data": {
      "text/plain": [
       "975076"
      ]
     },
     "execution_count": 28,
     "metadata": {},
     "output_type": "execute_result"
    }
   ],
   "source": [
    "raw_rlpolk_data[\"VEH_COUNT\"].sum()"
   ]
  },
  {
   "cell_type": "code",
   "execution_count": 13,
   "id": "7c9826bf",
   "metadata": {},
   "outputs": [],
   "source": [
    "raw_rlpolk_data[\"YEAR\"] = raw_rlpolk_data[\"everREPORT_YEAR_MONTH\"].astype(str).str[:4]"
   ]
  },
  {
   "cell_type": "code",
   "execution_count": 14,
   "id": "0b5ce14f",
   "metadata": {},
   "outputs": [
    {
     "data": {
      "image/png": "[encoded data removed]",
      "text/plain": [
       "<Figure size 640x480 with 1 Axes>"
      ]
     },
     "metadata": {},
     "output_type": "display_data"
    }
   ],
   "source": [
    "fig, ax = plt.subplots(nrows =1, ncols = 1)\n",
    "\n",
    "ax.bar(x = \"YEAR\",\n",
    "        height = \"VEH_COUNT\",\n",
    "        data = raw_rlpolk_data[[\"YEAR\", \"VEH_COUNT\"]].groupby(\"YEAR\").sum().reset_index())\n",
    "\n",
    "fig.suptitle(\"CT New Vehicle Registrations by Year\")\n",
    "\n",
    "plt.show()"
   ]
  },
  {
   "cell_type": "markdown",
   "id": "86c9c56a",
   "metadata": {},
   "source": [
    "## 1b. Change VIN format to match with NHTSA"
   ]
  },
  {
   "cell_type": "code",
   "execution_count": 56,
   "id": "8209a6b0",
   "metadata": {},
   "outputs": [],
   "source": [
    "raw_rlpolk_data[\"vin_corrected\"] = raw_rlpolk_data[\"VIN_PREFIX\"].str[0:8]+\"*\"+raw_rlpolk_data[\"VIN_PREFIX\"].str[9:10]"
   ]
  },
  {
   "cell_type": "markdown",
   "id": "a5240f7b",
   "metadata": {},
   "source": [
    "# 2. Prepare NHTSA VIN dataset"
   ]
  },
  {
   "cell_type": "code",
   "execution_count": 58,
   "id": "33406f9e",
   "metadata": {},
   "outputs": [
    {
     "data": {
      "text/plain": [
       "162685"
      ]
     },
     "execution_count": 58,
     "metadata": {},
     "output_type": "execute_result"
    }
   ],
   "source": [
    "vin_lookup = pd.read_csv(vin_matching_path / \"all_vins_nhtsa.csv\", index_col = [0]).reset_index(drop=True)\n",
    "vin_lookup[\"vin_corrected\"] = vin_lookup[\"vin_corrected\"].str[0:10]\n",
    "vin_lookup = vin_lookup.drop_duplicates(subset = \"vin_corrected\")"
   ]
  },
  {
   "cell_type": "markdown",
   "id": "59e48147-595d-441d-9d4e-8ca1825a48e6",
   "metadata": {},
   "source": [
    "# 3. Match"
   ]
  },
  {
   "cell_type": "code",
   "execution_count": 64,
   "id": "488d861d-44fa-4ac2-bd97-48914a566308",
   "metadata": {},
   "outputs": [
    {
     "data": {
      "text/plain": [
       "0.05111856339247079"
      ]
     },
     "execution_count": 64,
     "metadata": {},
     "output_type": "execute_result"
    }
   ],
   "source": [
    "rlpolk_matched[\"Model\"].isna().sum() / 924400"
   ]
  },
  {
   "cell_type": "code",
   "execution_count": 59,
   "id": "29f46631-c66b-4031-bbf4-52329bc06356",
   "metadata": {},
   "outputs": [
    {
     "name": "stdout",
     "output_type": "stream",
     "text": [
      "The matched DF is of the same length: success!\n"
     ]
    }
   ],
   "source": [
    "# Match\n",
    "rlpolk_matched = raw_rlpolk_data.merge(vin_lookup,\n",
    "                                       how = 'left',\n",
    "                                       right_on = 'vin_corrected',\n",
    "                                       left_on = 'vin_corrected')\n",
    "# Test the match worked\n",
    "if len(rlpolk_matched) == len(raw_rlpolk_data):\n",
    "    print(\"The matched DF is of the same length: success!\")"
   ]
  },
  {
   "cell_type": "markdown",
   "id": "959e51fb-287f-4f08-a7ff-b73515ce38a1",
   "metadata": {},
   "source": [
    "# 4. Query NHTSA API to get more"
   ]
  },
  {
   "cell_type": "code",
   "execution_count": 68,
   "id": "7b179d06-cd9c-454b-9c02-51a00c246b64",
   "metadata": {},
   "outputs": [
    {
     "name": "stdout",
     "output_type": "stream",
     "text": [
      "Thus there are 3130 unique unmatched VINs remaining\n"
     ]
    }
   ],
   "source": [
    "unmatched_vins = rlpolk_matched[rlpolk_matched[\"Model\"].isna()][\"vin_corrected\"].unique().tolist()\n",
    "print(f\"Thus there are {len(unmatched_vins)} unique unmatched VINs remaining\")"
   ]
  },
  {
   "cell_type": "code",
   "execution_count": 74,
   "id": "a98dca1b-0cd1-4452-bded-2858f2d9718c",
   "metadata": {},
   "outputs": [],
   "source": [
    "def fetch_unmatched_vin(unmatched_vin):\n",
    "        \"\"\"\n",
    "        Input: An unmatched, but corrected VIN\n",
    "        Output: A matched VIN or NA\n",
    "        \n",
    "        \"\"\"\n",
    "        variables = [\"Manufacturer Name\", \"Model\", \"Model Year\", \"Fuel Type - Primary\", \"Electrification Level\"]\n",
    "        \n",
    "        url = (f\"https://vpic.nhtsa.dot.gov/api/vehicles/DecodeVin/{unmatched_vin.strip()}?format=csv\")\n",
    "\n",
    "        # Download response\n",
    "        resp_df = pd.read_csv(url)\n",
    "\n",
    "        # Extract needed\n",
    "        resp_df = resp_df.loc[resp_df[\"variable\"].isin(variables), [\"variable\", \"value\"]].T\n",
    "        resp_df.columns = resp_df.iloc[0]\n",
    "        resp_df = resp_df.drop(\"variable\", axis = 0)\n",
    "        resp_df[\"vin_corrected\"] = unmatched_vin\n",
    "        \n",
    "        return resp_df"
   ]
  },
  {
   "cell_type": "code",
   "execution_count": null,
   "id": "15619acb-0165-4a63-b0b1-d6199f335c6c",
   "metadata": {},
   "outputs": [],
   "source": [
    "nhtsa_queries = pd.DataFrame([])"
   ]
  },
  {
   "cell_type": "code",
   "execution_count": 77,
   "id": "08abfb72-8559-4211-b063-1b4614a063f3",
   "metadata": {},
   "outputs": [
    {
     "name": "stderr",
     "output_type": "stream",
     "text": [
      "100%|██████████| 2497/2497 [09:50<00:00,  4.23it/s]\n"
     ]
    }
   ],
   "source": [
    "for vin in tqdm(unmatched_vins[633:]):\n",
    "    nhtsa_queries = pd.concat([nhtsa_queries, fetch_unmatched_vin(vin)]).reset_index(drop=True)"
   ]
  },
  {
   "cell_type": "code",
   "execution_count": 80,
   "id": "636781ee-4a89-4bea-b1ea-82564672a5f1",
   "metadata": {},
   "outputs": [],
   "source": [
    "vin_lookup = pd.concat([vin_lookup, nhtsa_queries.reset_index(drop=True)]).reset_index(drop =True)"
   ]
  },
  {
   "cell_type": "code",
   "execution_count": 82,
   "id": "f4288666-1d4d-44f4-aeee-0529f8e2e124",
   "metadata": {},
   "outputs": [],
   "source": [
    "vin_lookup = vin_lookup.drop_duplicates(subset = \"vin_corrected\")"
   ]
  },
  {
   "cell_type": "code",
   "execution_count": 81,
   "id": "60e35d56-a5cf-46c7-9de5-c8e438055fcf",
   "metadata": {},
   "outputs": [],
   "source": [
    "vin_lookup.to_csv(vin_matching_path / \"all_vins_nhtsa.csv\")"
   ]
  },
  {
   "cell_type": "markdown",
   "id": "f2efb556-28ea-47fc-b730-7dcf680e308e",
   "metadata": {},
   "source": [
    "## Rematch"
   ]
  },
  {
   "cell_type": "code",
   "execution_count": 83,
   "id": "72d9aaa6-5792-445d-9b3f-d9ca639d6c56",
   "metadata": {},
   "outputs": [
    {
     "name": "stdout",
     "output_type": "stream",
     "text": [
      "The matched DF is of the same length: success!\n"
     ]
    }
   ],
   "source": [
    "# Match\n",
    "rlpolk_matched = raw_rlpolk_data.merge(vin_lookup,\n",
    "                                       how = 'left',\n",
    "                                       right_on = 'vin_corrected',\n",
    "                                       left_on = 'vin_corrected')\n",
    "# Test the match worked\n",
    "if len(rlpolk_matched) == len(raw_rlpolk_data):\n",
    "    print(\"The matched DF is of the same length: success!\")"
   ]
  },
  {
   "cell_type": "code",
   "execution_count": null,
   "id": "ceeaf521-0700-4f4a-844b-dc05afa42e26",
   "metadata": {},
   "outputs": [],
   "source": [
    "rlpolk_matched[\"Manufacturer Name\"].isna().sum()"
   ]
  },
  {
   "cell_type": "markdown",
   "id": "d036b207",
   "metadata": {},
   "source": [
    "# Create grouped data"
   ]
  },
  {
   "cell_type": "markdown",
   "id": "ab73781f",
   "metadata": {},
   "source": [
    "### Grouped by month"
   ]
  },
  {
   "cell_type": "code",
   "execution_count": 18,
   "id": "1d294afa",
   "metadata": {},
   "outputs": [
    {
     "data": {
      "text/html": [
       "<div>\n",
       "<style scoped>\n",
       "    .dataframe tbody tr th:only-of-type {\n",
       "        vertical-align: middle;\n",
       "    }\n",
       "\n",
       "    .dataframe tbody tr th {\n",
       "        vertical-align: top;\n",
       "    }\n",
       "\n",
       "    .dataframe thead th {\n",
       "        text-align: right;\n",
       "    }\n",
       "</style>\n",
       "<table border=\"1\" class=\"dataframe\">\n",
       "  <thead>\n",
       "    <tr style=\"text-align: right;\">\n",
       "      <th></th>\n",
       "      <th>FuelTypePrimary</th>\n",
       "      <th>ZIP_CODE</th>\n",
       "      <th>VEH_COUNT</th>\n",
       "      <th>year</th>\n",
       "      <th>month</th>\n",
       "    </tr>\n",
       "  </thead>\n",
       "  <tbody>\n",
       "    <tr>\n",
       "      <th>0</th>\n",
       "      <td>Diesel</td>\n",
       "      <td>6001</td>\n",
       "      <td>5</td>\n",
       "      <td>2018</td>\n",
       "      <td>01</td>\n",
       "    </tr>\n",
       "    <tr>\n",
       "      <th>1</th>\n",
       "      <td>Diesel</td>\n",
       "      <td>6002</td>\n",
       "      <td>2</td>\n",
       "      <td>2018</td>\n",
       "      <td>01</td>\n",
       "    </tr>\n",
       "    <tr>\n",
       "      <th>2</th>\n",
       "      <td>Diesel</td>\n",
       "      <td>6010</td>\n",
       "      <td>5</td>\n",
       "      <td>2018</td>\n",
       "      <td>01</td>\n",
       "    </tr>\n",
       "    <tr>\n",
       "      <th>3</th>\n",
       "      <td>Diesel</td>\n",
       "      <td>6013</td>\n",
       "      <td>2</td>\n",
       "      <td>2018</td>\n",
       "      <td>01</td>\n",
       "    </tr>\n",
       "    <tr>\n",
       "      <th>4</th>\n",
       "      <td>Diesel</td>\n",
       "      <td>6019</td>\n",
       "      <td>2</td>\n",
       "      <td>2018</td>\n",
       "      <td>01</td>\n",
       "    </tr>\n",
       "    <tr>\n",
       "      <th>...</th>\n",
       "      <td>...</td>\n",
       "      <td>...</td>\n",
       "      <td>...</td>\n",
       "      <td>...</td>\n",
       "      <td>...</td>\n",
       "    </tr>\n",
       "    <tr>\n",
       "      <th>36575</th>\n",
       "      <td>NaN</td>\n",
       "      <td>6855</td>\n",
       "      <td>1</td>\n",
       "      <td>2022</td>\n",
       "      <td>12</td>\n",
       "    </tr>\n",
       "    <tr>\n",
       "      <th>36576</th>\n",
       "      <td>NaN</td>\n",
       "      <td>6880</td>\n",
       "      <td>3</td>\n",
       "      <td>2022</td>\n",
       "      <td>12</td>\n",
       "    </tr>\n",
       "    <tr>\n",
       "      <th>36577</th>\n",
       "      <td>NaN</td>\n",
       "      <td>6896</td>\n",
       "      <td>1</td>\n",
       "      <td>2022</td>\n",
       "      <td>12</td>\n",
       "    </tr>\n",
       "    <tr>\n",
       "      <th>36578</th>\n",
       "      <td>NaN</td>\n",
       "      <td>6897</td>\n",
       "      <td>1</td>\n",
       "      <td>2022</td>\n",
       "      <td>12</td>\n",
       "    </tr>\n",
       "    <tr>\n",
       "      <th>36579</th>\n",
       "      <td>NaN</td>\n",
       "      <td>6903</td>\n",
       "      <td>1</td>\n",
       "      <td>2022</td>\n",
       "      <td>12</td>\n",
       "    </tr>\n",
       "  </tbody>\n",
       "</table>\n",
       "<p>36580 rows × 5 columns</p>\n",
       "</div>"
      ],
      "text/plain": [
       "      FuelTypePrimary  ZIP_CODE  VEH_COUNT  year month\n",
       "0              Diesel      6001          5  2018    01\n",
       "1              Diesel      6002          2  2018    01\n",
       "2              Diesel      6010          5  2018    01\n",
       "3              Diesel      6013          2  2018    01\n",
       "4              Diesel      6019          2  2018    01\n",
       "...               ...       ...        ...   ...   ...\n",
       "36575             NaN      6855          1  2022    12\n",
       "36576             NaN      6880          3  2022    12\n",
       "36577             NaN      6896          1  2022    12\n",
       "36578             NaN      6897          1  2022    12\n",
       "36579             NaN      6903          1  2022    12\n",
       "\n",
       "[36580 rows x 5 columns]"
      ]
     },
     "execution_count": 18,
     "metadata": {},
     "output_type": "execute_result"
    }
   ],
   "source": [
    "by_month = match_4_resolved.groupby([\"everREPORT_YEAR_MONTH\", \"FuelTypePrimary\", \"ZIP_CODE\"], dropna = False).sum()\n",
    "by_month = by_month.iloc[:, ~by_month.columns.isin([\"MODEL_YEAR\", \"TRANSACTION_PRICE\", \"Unnamed: 0.2\", \"Unnamed: 0.1\", \"Unnamed: 0\"])]\n",
    "by_month = by_month.reset_index()\n",
    "by_month[\"year\"] = by_month[\"everREPORT_YEAR_MONTH\"].astype(str).str[0:4]\n",
    "by_month[\"month\"] = by_month[\"everREPORT_YEAR_MONTH\"].astype(str).str[4:6]\n",
    "by_month = by_month.drop(\"everREPORT_YEAR_MONTH\", axis = 1)"
   ]
  },
  {
   "cell_type": "code",
   "execution_count": 19,
   "id": "cafa2cd2",
   "metadata": {},
   "outputs": [],
   "source": [
    "by_month.to_csv(path / \"data\" / \"outputs\" / \"new_vehicle_sales_month_year_zip.csv\")"
   ]
  },
  {
   "cell_type": "markdown",
   "id": "9cd9a088",
   "metadata": {},
   "source": [
    "### Grouped by year"
   ]
  },
  {
   "cell_type": "code",
   "execution_count": 13,
   "id": "f2c1808d",
   "metadata": {},
   "outputs": [],
   "source": [
    "# Number of EVs registered by month\n",
    "by_year = match_4_resolved.groupby([\"everREPORT_YEAR_MONTH\", \"FuelTypePrimary\"], dropna = False).sum()\n",
    "by_year = by_year.iloc[:, ~by_year.columns.isin([\"MODEL_YEAR\", \"TRANSACTION_PRICE\", \"ZIP_CODE\"])]"
   ]
  },
  {
   "cell_type": "code",
   "execution_count": 101,
   "id": "0ae7bb63",
   "metadata": {},
   "outputs": [
    {
     "data": {
      "text/html": [
       "<div>\n",
       "<style scoped>\n",
       "    .dataframe tbody tr th:only-of-type {\n",
       "        vertical-align: middle;\n",
       "    }\n",
       "\n",
       "    .dataframe tbody tr th {\n",
       "        vertical-align: top;\n",
       "    }\n",
       "\n",
       "    .dataframe thead th {\n",
       "        text-align: right;\n",
       "    }\n",
       "</style>\n",
       "<table border=\"1\" class=\"dataframe\">\n",
       "  <thead>\n",
       "    <tr style=\"text-align: right;\">\n",
       "      <th></th>\n",
       "      <th>FuelTypePrimary</th>\n",
       "      <th>VEH_COUNT</th>\n",
       "      <th>Year</th>\n",
       "      <th>Month</th>\n",
       "      <th>Day</th>\n",
       "      <th>Date</th>\n",
       "    </tr>\n",
       "  </thead>\n",
       "  <tbody>\n",
       "    <tr>\n",
       "      <th>0</th>\n",
       "      <td>Diesel</td>\n",
       "      <td>380</td>\n",
       "      <td>2018</td>\n",
       "      <td>01</td>\n",
       "      <td>1</td>\n",
       "      <td>2018-01-01</td>\n",
       "    </tr>\n",
       "    <tr>\n",
       "      <th>1</th>\n",
       "      <td>Electric</td>\n",
       "      <td>278</td>\n",
       "      <td>2018</td>\n",
       "      <td>01</td>\n",
       "      <td>1</td>\n",
       "      <td>2018-01-01</td>\n",
       "    </tr>\n",
       "    <tr>\n",
       "      <th>2</th>\n",
       "      <td>Flexible Fuel Vehicle (FFV)</td>\n",
       "      <td>46</td>\n",
       "      <td>2018</td>\n",
       "      <td>01</td>\n",
       "      <td>1</td>\n",
       "      <td>2018-01-01</td>\n",
       "    </tr>\n",
       "    <tr>\n",
       "      <th>3</th>\n",
       "      <td>Gasoline</td>\n",
       "      <td>20210</td>\n",
       "      <td>2018</td>\n",
       "      <td>01</td>\n",
       "      <td>1</td>\n",
       "      <td>2018-01-01</td>\n",
       "    </tr>\n",
       "    <tr>\n",
       "      <th>4</th>\n",
       "      <td>NaN</td>\n",
       "      <td>175</td>\n",
       "      <td>2018</td>\n",
       "      <td>01</td>\n",
       "      <td>1</td>\n",
       "      <td>2018-01-01</td>\n",
       "    </tr>\n",
       "    <tr>\n",
       "      <th>...</th>\n",
       "      <td>...</td>\n",
       "      <td>...</td>\n",
       "      <td>...</td>\n",
       "      <td>...</td>\n",
       "      <td>...</td>\n",
       "      <td>...</td>\n",
       "    </tr>\n",
       "    <tr>\n",
       "      <th>318</th>\n",
       "      <td>Electric</td>\n",
       "      <td>1022</td>\n",
       "      <td>2022</td>\n",
       "      <td>12</td>\n",
       "      <td>1</td>\n",
       "      <td>2022-12-01</td>\n",
       "    </tr>\n",
       "    <tr>\n",
       "      <th>319</th>\n",
       "      <td>Flexible Fuel Vehicle (FFV)</td>\n",
       "      <td>19</td>\n",
       "      <td>2022</td>\n",
       "      <td>12</td>\n",
       "      <td>1</td>\n",
       "      <td>2022-12-01</td>\n",
       "    </tr>\n",
       "    <tr>\n",
       "      <th>320</th>\n",
       "      <td>Gasoline</td>\n",
       "      <td>9875</td>\n",
       "      <td>2022</td>\n",
       "      <td>12</td>\n",
       "      <td>1</td>\n",
       "      <td>2022-12-01</td>\n",
       "    </tr>\n",
       "    <tr>\n",
       "      <th>321</th>\n",
       "      <td>Liquefied Petroleum Gas (propane or LPG)</td>\n",
       "      <td>1</td>\n",
       "      <td>2022</td>\n",
       "      <td>12</td>\n",
       "      <td>1</td>\n",
       "      <td>2022-12-01</td>\n",
       "    </tr>\n",
       "    <tr>\n",
       "      <th>322</th>\n",
       "      <td>NaN</td>\n",
       "      <td>20</td>\n",
       "      <td>2022</td>\n",
       "      <td>12</td>\n",
       "      <td>1</td>\n",
       "      <td>2022-12-01</td>\n",
       "    </tr>\n",
       "  </tbody>\n",
       "</table>\n",
       "<p>323 rows × 6 columns</p>\n",
       "</div>"
      ],
      "text/plain": [
       "                              FuelTypePrimary  VEH_COUNT  Year Month  Day  \\\n",
       "0                                      Diesel        380  2018    01    1   \n",
       "1                                    Electric        278  2018    01    1   \n",
       "2                 Flexible Fuel Vehicle (FFV)         46  2018    01    1   \n",
       "3                                    Gasoline      20210  2018    01    1   \n",
       "4                                         NaN        175  2018    01    1   \n",
       "..                                        ...        ...   ...   ...  ...   \n",
       "318                                  Electric       1022  2022    12    1   \n",
       "319               Flexible Fuel Vehicle (FFV)         19  2022    12    1   \n",
       "320                                  Gasoline       9875  2022    12    1   \n",
       "321  Liquefied Petroleum Gas (propane or LPG)          1  2022    12    1   \n",
       "322                                       NaN         20  2022    12    1   \n",
       "\n",
       "          Date  \n",
       "0   2018-01-01  \n",
       "1   2018-01-01  \n",
       "2   2018-01-01  \n",
       "3   2018-01-01  \n",
       "4   2018-01-01  \n",
       "..         ...  \n",
       "318 2022-12-01  \n",
       "319 2022-12-01  \n",
       "320 2022-12-01  \n",
       "321 2022-12-01  \n",
       "322 2022-12-01  \n",
       "\n",
       "[323 rows x 6 columns]"
      ]
     },
     "execution_count": 101,
     "metadata": {},
     "output_type": "execute_result"
    }
   ],
   "source": [
    "# Reset index\n",
    "by_year = by_year.reset_index()\n",
    "\n",
    "# Rename\n",
    "by_year = by_year.rename(columns = {\"everREPORT_YEAR_MONTH\":\"YearMonth\"})\n",
    "\n",
    "# Fix years and months\n",
    "by_year[\"Year\"] = by_year[\"YearMonth\"].astype(str).str[0:4]\n",
    "by_year[\"Month\"] = by_year[\"YearMonth\"].astype(str).str[4:]\n",
    "by_year[\"Day\"] = 1\n",
    "\n",
    "# Make data\n",
    "by_year[\"Date\"] = pd.to_datetime(by_year[[\"Year\", \"Month\", \"Day\"]])\n",
    "\n",
    "# Drop unneeded\n",
    "by_year = by_year.iloc[:, ~by_year.columns.isin([\"YearMonth\", \"Unnamed: 0.2\", \"Unnamed: 0.1\", \"Unnamed: 0\"])]\n",
    "\n",
    "# Look\n",
    "by_year"
   ]
  },
  {
   "cell_type": "markdown",
   "id": "511eb06d",
   "metadata": {},
   "source": [
    "## Save vehicle sales by year"
   ]
  },
  {
   "cell_type": "code",
   "execution_count": 103,
   "id": "202198b6",
   "metadata": {},
   "outputs": [],
   "source": [
    "by_year.to_csv(path / \"data\"/  \"outputs\" / \"vehicle_sales_by_year.csv\")"
   ]
  },
  {
   "cell_type": "markdown",
   "id": "464d98ef",
   "metadata": {},
   "source": [
    "## Group sales by ZIP code, fuel type, and date"
   ]
  },
  {
   "cell_type": "code",
   "execution_count": 146,
   "id": "3e729597",
   "metadata": {},
   "outputs": [
    {
     "data": {
      "text/html": [
       "<div>\n",
       "<style scoped>\n",
       "    .dataframe tbody tr th:only-of-type {\n",
       "        vertical-align: middle;\n",
       "    }\n",
       "\n",
       "    .dataframe tbody tr th {\n",
       "        vertical-align: top;\n",
       "    }\n",
       "\n",
       "    .dataframe thead th {\n",
       "        text-align: right;\n",
       "    }\n",
       "</style>\n",
       "<table border=\"1\" class=\"dataframe\">\n",
       "  <thead>\n",
       "    <tr style=\"text-align: right;\">\n",
       "      <th></th>\n",
       "      <th>FuelTypePrimary</th>\n",
       "      <th>ZIP_CODE</th>\n",
       "      <th>Unnamed: 0.2</th>\n",
       "      <th>VEH_COUNT</th>\n",
       "      <th>Unnamed: 0.1</th>\n",
       "      <th>Year</th>\n",
       "      <th>Month</th>\n",
       "      <th>Day</th>\n",
       "      <th>Date</th>\n",
       "    </tr>\n",
       "  </thead>\n",
       "  <tbody>\n",
       "    <tr>\n",
       "      <th>0</th>\n",
       "      <td>Diesel</td>\n",
       "      <td>6001</td>\n",
       "      <td>950328</td>\n",
       "      <td>5</td>\n",
       "      <td>5247.0</td>\n",
       "      <td>2018</td>\n",
       "      <td>01</td>\n",
       "      <td>1</td>\n",
       "      <td>2018-01-01</td>\n",
       "    </tr>\n",
       "    <tr>\n",
       "      <th>1</th>\n",
       "      <td>Diesel</td>\n",
       "      <td>6002</td>\n",
       "      <td>300055</td>\n",
       "      <td>2</td>\n",
       "      <td>12509.0</td>\n",
       "      <td>2018</td>\n",
       "      <td>01</td>\n",
       "      <td>1</td>\n",
       "      <td>2018-01-01</td>\n",
       "    </tr>\n",
       "    <tr>\n",
       "      <th>2</th>\n",
       "      <td>Diesel</td>\n",
       "      <td>6010</td>\n",
       "      <td>1442926</td>\n",
       "      <td>5</td>\n",
       "      <td>9255.0</td>\n",
       "      <td>2018</td>\n",
       "      <td>01</td>\n",
       "      <td>1</td>\n",
       "      <td>2018-01-01</td>\n",
       "    </tr>\n",
       "    <tr>\n",
       "      <th>3</th>\n",
       "      <td>Diesel</td>\n",
       "      <td>6013</td>\n",
       "      <td>359801</td>\n",
       "      <td>2</td>\n",
       "      <td>13121.0</td>\n",
       "      <td>2018</td>\n",
       "      <td>01</td>\n",
       "      <td>1</td>\n",
       "      <td>2018-01-01</td>\n",
       "    </tr>\n",
       "    <tr>\n",
       "      <th>4</th>\n",
       "      <td>Diesel</td>\n",
       "      <td>6019</td>\n",
       "      <td>571511</td>\n",
       "      <td>2</td>\n",
       "      <td>3569.0</td>\n",
       "      <td>2018</td>\n",
       "      <td>01</td>\n",
       "      <td>1</td>\n",
       "      <td>2018-01-01</td>\n",
       "    </tr>\n",
       "    <tr>\n",
       "      <th>...</th>\n",
       "      <td>...</td>\n",
       "      <td>...</td>\n",
       "      <td>...</td>\n",
       "      <td>...</td>\n",
       "      <td>...</td>\n",
       "      <td>...</td>\n",
       "      <td>...</td>\n",
       "      <td>...</td>\n",
       "      <td>...</td>\n",
       "    </tr>\n",
       "    <tr>\n",
       "      <th>36575</th>\n",
       "      <td>NaN</td>\n",
       "      <td>6855</td>\n",
       "      <td>176162</td>\n",
       "      <td>1</td>\n",
       "      <td>960.0</td>\n",
       "      <td>2022</td>\n",
       "      <td>12</td>\n",
       "      <td>1</td>\n",
       "      <td>2022-12-01</td>\n",
       "    </tr>\n",
       "    <tr>\n",
       "      <th>36576</th>\n",
       "      <td>NaN</td>\n",
       "      <td>6880</td>\n",
       "      <td>440370</td>\n",
       "      <td>3</td>\n",
       "      <td>6249.0</td>\n",
       "      <td>2022</td>\n",
       "      <td>12</td>\n",
       "      <td>1</td>\n",
       "      <td>2022-12-01</td>\n",
       "    </tr>\n",
       "    <tr>\n",
       "      <th>36577</th>\n",
       "      <td>NaN</td>\n",
       "      <td>6896</td>\n",
       "      <td>173498</td>\n",
       "      <td>1</td>\n",
       "      <td>960.0</td>\n",
       "      <td>2022</td>\n",
       "      <td>12</td>\n",
       "      <td>1</td>\n",
       "      <td>2022-12-01</td>\n",
       "    </tr>\n",
       "    <tr>\n",
       "      <th>36578</th>\n",
       "      <td>NaN</td>\n",
       "      <td>6897</td>\n",
       "      <td>19579</td>\n",
       "      <td>1</td>\n",
       "      <td>4335.0</td>\n",
       "      <td>2022</td>\n",
       "      <td>12</td>\n",
       "      <td>1</td>\n",
       "      <td>2022-12-01</td>\n",
       "    </tr>\n",
       "    <tr>\n",
       "      <th>36579</th>\n",
       "      <td>NaN</td>\n",
       "      <td>6903</td>\n",
       "      <td>18183</td>\n",
       "      <td>1</td>\n",
       "      <td>0.0</td>\n",
       "      <td>2022</td>\n",
       "      <td>12</td>\n",
       "      <td>1</td>\n",
       "      <td>2022-12-01</td>\n",
       "    </tr>\n",
       "  </tbody>\n",
       "</table>\n",
       "<p>36580 rows × 9 columns</p>\n",
       "</div>"
      ],
      "text/plain": [
       "      FuelTypePrimary  ZIP_CODE  Unnamed: 0.2  VEH_COUNT  Unnamed: 0.1  Year  \\\n",
       "0              Diesel      6001        950328          5        5247.0  2018   \n",
       "1              Diesel      6002        300055          2       12509.0  2018   \n",
       "2              Diesel      6010       1442926          5        9255.0  2018   \n",
       "3              Diesel      6013        359801          2       13121.0  2018   \n",
       "4              Diesel      6019        571511          2        3569.0  2018   \n",
       "...               ...       ...           ...        ...           ...   ...   \n",
       "36575             NaN      6855        176162          1         960.0  2022   \n",
       "36576             NaN      6880        440370          3        6249.0  2022   \n",
       "36577             NaN      6896        173498          1         960.0  2022   \n",
       "36578             NaN      6897         19579          1        4335.0  2022   \n",
       "36579             NaN      6903         18183          1           0.0  2022   \n",
       "\n",
       "      Month  Day       Date  \n",
       "0        01    1 2018-01-01  \n",
       "1        01    1 2018-01-01  \n",
       "2        01    1 2018-01-01  \n",
       "3        01    1 2018-01-01  \n",
       "4        01    1 2018-01-01  \n",
       "...     ...  ...        ...  \n",
       "36575    12    1 2022-12-01  \n",
       "36576    12    1 2022-12-01  \n",
       "36577    12    1 2022-12-01  \n",
       "36578    12    1 2022-12-01  \n",
       "36579    12    1 2022-12-01  \n",
       "\n",
       "[36580 rows x 9 columns]"
      ]
     },
     "execution_count": 146,
     "metadata": {},
     "output_type": "execute_result"
    }
   ],
   "source": [
    "# Group by zip code\n",
    "by_zip = match_4_resolved.groupby([\"everREPORT_YEAR_MONTH\",\"FuelTypePrimary\", \"ZIP_CODE\"], dropna = False).sum()\n",
    "by_zip = by_zip.iloc[:, ~by_zip.columns.isin([\"MODEL_YEAR\", \"TRANSACTION_PRICE\"])]\n",
    "\n",
    "# Reset index\n",
    "by_zip = by_zip.reset_index()\n",
    "\n",
    "# Rename\n",
    "by_zip = by_zip.rename(columns = {\"everREPORT_YEAR_MONTH\":\"YearMonth\"})\n",
    "\n",
    "# Fix years and months\n",
    "by_zip[\"Year\"] = by_zip[\"YearMonth\"].astype(str).str[0:4]\n",
    "by_zip[\"Month\"] = by_zip[\"YearMonth\"].astype(str).str[4:]\n",
    "by_zip[\"Day\"] = 1\n",
    "\n",
    "# Make data\n",
    "by_zip[\"Date\"] = pd.to_datetime(by_zip[[\"Year\", \"Month\", \"Day\"]])\n",
    "\n",
    "# Drop unneeded\n",
    "by_zip = by_zip.iloc[:, ~by_zip.columns.isin([\"YearMonth\", \"Unnamed: 0\"])]\n",
    "\n",
    "# Look\n",
    "by_zip"
   ]
  },
  {
   "cell_type": "code",
   "execution_count": 147,
   "id": "7ab42991",
   "metadata": {},
   "outputs": [],
   "source": [
    "# Create version where we just group by zip and fuel type, dropping dates etc.\n",
    "by_zip_fueltype = by_zip.iloc[:, ~by_zip.columns.isin([\"Year\", \"Month\", \"Day\", \"Date\"])]\n",
    "by_zip_fueltype = by_zip_fueltype.groupby([\"ZIP_CODE\", \"FuelTypePrimary\"], dropna = False).sum()\n",
    "\n",
    "# Reset index\n",
    "by_zip_fueltype = by_zip_fueltype.reset_index()"
   ]
  },
  {
   "cell_type": "code",
   "execution_count": 148,
   "id": "4829f1e3",
   "metadata": {},
   "outputs": [],
   "source": [
    "# Now get the percentage within each zip\n",
    "by_zip_fueltype_percentage = by_zip_fueltype.groupby([\"ZIP_CODE\", \"FuelTypePrimary\"], dropna = False).agg({\"VEH_COUNT\":\"sum\"})\n",
    "by_zip_fueltype_percentage[\"Percentage\"] = by_zip_fueltype_percentage.groupby(level = 0, dropna = False).apply(lambda x: (x*100 / x.sum()))\n",
    "by_zip_fueltype_percentage = by_zip_fueltype_percentage.reset_index()"
   ]
  },
  {
   "cell_type": "code",
   "execution_count": 149,
   "id": "343cc9b9",
   "metadata": {},
   "outputs": [],
   "source": [
    "# Save\n",
    "by_zip_fueltype.to_csv(path / \"data\" / \"outputs\" / \"vehicle_sales_by_zip_fueltype.csv\")"
   ]
  },
  {
   "cell_type": "code",
   "execution_count": 150,
   "id": "9f596e03",
   "metadata": {},
   "outputs": [],
   "source": [
    "# Save\n",
    "by_zip_fueltype_percentage.to_csv(path / \"data\" / \"outputs\" / \"by_zip_fueltype_percentage.csv\")"
   ]
  },
  {
   "cell_type": "code",
   "execution_count": 206,
   "id": "88c89c7d",
   "metadata": {},
   "outputs": [],
   "source": [
    "# Load\n",
    "by_zip_fueltype = pd.read_csv(path / \"data\" / \"outputs\" / \"vehicle_sales_by_zip_fueltype.csv\")\n",
    "by_zip_fueltype_pctg = pd.read_csv(path / \"data\" / \"outputs\" / \"by_zip_fueltype_percentage.csv\")"
   ]
  },
  {
   "cell_type": "markdown",
   "id": "dfe39e7f",
   "metadata": {},
   "source": [
    "## Merge EV sales by ZIP to geographic data"
   ]
  },
  {
   "cell_type": "markdown",
   "id": "371e974c",
   "metadata": {},
   "source": [
    "### Merge"
   ]
  },
  {
   "cell_type": "code",
   "execution_count": 207,
   "id": "e9df862e",
   "metadata": {},
   "outputs": [],
   "source": [
    "# Clean up the csv\n",
    "by_zip_fueltype_pctg = by_zip_fueltype_pctg.iloc[:, ~by_zip_fueltype_pctg.columns.isin([\"Unnamed: 0\"])]"
   ]
  },
  {
   "cell_type": "code",
   "execution_count": 208,
   "id": "920e602f",
   "metadata": {},
   "outputs": [
    {
     "name": "stderr",
     "output_type": "stream",
     "text": [
      "C:\\Users\\rajan\\AppData\\Local\\Temp\\ipykernel_24760\\928021146.py:14: SettingWithCopyWarning: \n",
      "A value is trying to be set on a copy of a slice from a DataFrame.\n",
      "Try using .loc[row_indexer,col_indexer] = value instead\n",
      "\n",
      "See the caveats in the documentation: https://pandas.pydata.org/pandas-docs/stable/user_guide/indexing.html#returning-a-view-versus-a-copy\n",
      "  evs_by_zip_pctg[\"ZIP_CODE\"]=evs_by_zip_pctg[\"ZIP_CODE\"].astype(str)\n"
     ]
    }
   ],
   "source": [
    "# Add a sum column within the group\n",
    "total_veh_by_zip = by_zip_fueltype_pctg.groupby(\"ZIP_CODE\").sum().reset_index()[[\"ZIP_CODE\", \"VEH_COUNT\"]]\n",
    "total_veh_by_zip = total_veh_by_zip.rename(columns={\"VEH_COUNT\":\"TOTAL_VEH_COUNT\"})\n",
    "by_zip_fueltype_pctg =by_zip_fueltype_pctg.merge(total_veh_by_zip, left_on=\"ZIP_CODE\", right_on =\"ZIP_CODE\") \n",
    "\n",
    "# Restrict to EVs\n",
    "evs_by_zip_pctg = by_zip_fueltype_pctg[by_zip_fueltype_pctg[\"FuelTypePrimary\"] == \"Electric\"]\n",
    "\n",
    "# Import geographic data\n",
    "ct_zips = gpd.read_file(path / \"data\" / \"outputs\" / \"ct_zips.gpkg\")\n",
    "\n",
    "# Prepare for merge\n",
    "ct_zips[\"ZIP\"]=ct_zips[\"ZCTA5CE20\"].astype(str).str[1:]\n",
    "evs_by_zip_pctg[\"ZIP_CODE\"]=evs_by_zip_pctg[\"ZIP_CODE\"].astype(str)\n",
    "\n",
    "# Merge\n",
    "ct_zips_ev_pctg = ct_zips.merge(evs_by_zip_pctg, how = \"left\", left_on = \"ZIP\", right_on = \"ZIP_CODE\")"
   ]
  },
  {
   "cell_type": "markdown",
   "id": "1a6b5bbb",
   "metadata": {},
   "source": [
    "### Save"
   ]
  },
  {
   "cell_type": "code",
   "execution_count": 211,
   "id": "a5481744",
   "metadata": {},
   "outputs": [],
   "source": [
    "ct_zips_ev_pctg.to_file(path / \"data\" / \"outputs\" / \"ev_sales_by_zip_geo.gpkg\")"
   ]
  },
  {
   "cell_type": "markdown",
   "id": "7639b4da",
   "metadata": {},
   "source": [
    "# Match ZIPs to counties"
   ]
  },
  {
   "cell_type": "markdown",
   "id": "7551a403",
   "metadata": {},
   "source": [
    "## Prepare Data"
   ]
  },
  {
   "cell_type": "code",
   "execution_count": 155,
   "id": "be7a4fd7",
   "metadata": {},
   "outputs": [],
   "source": [
    "# Import zips to counties file\n",
    "zips_to_counties = pd.read_excel(path / \"data\" / \"ZIP_COUNTY_SUB_062023.xlsx\")"
   ]
  },
  {
   "cell_type": "code",
   "execution_count": 156,
   "id": "4d6f7b65",
   "metadata": {},
   "outputs": [],
   "source": [
    "# Get only those zips that are in CT\n",
    "zips_to_counties_ct = zips_to_counties[zips_to_counties[\"USPS_ZIP_PREF_STATE\"]==\"CT\"]"
   ]
  },
  {
   "cell_type": "code",
   "execution_count": 157,
   "id": "965970b8",
   "metadata": {},
   "outputs": [
    {
     "data": {
      "text/plain": [
       "403"
      ]
     },
     "execution_count": 157,
     "metadata": {},
     "output_type": "execute_result"
    }
   ],
   "source": [
    "# Get the number of unique zips\n",
    "zips_to_counties_ct[\"ZIP\"].nunique()"
   ]
  },
  {
   "cell_type": "code",
   "execution_count": 159,
   "id": "a18b9368",
   "metadata": {},
   "outputs": [
    {
     "data": {
      "text/html": [
       "<div>\n",
       "<style scoped>\n",
       "    .dataframe tbody tr th:only-of-type {\n",
       "        vertical-align: middle;\n",
       "    }\n",
       "\n",
       "    .dataframe tbody tr th {\n",
       "        vertical-align: top;\n",
       "    }\n",
       "\n",
       "    .dataframe thead th {\n",
       "        text-align: right;\n",
       "    }\n",
       "</style>\n",
       "<table border=\"1\" class=\"dataframe\">\n",
       "  <thead>\n",
       "    <tr style=\"text-align: right;\">\n",
       "      <th></th>\n",
       "      <th>ZIP</th>\n",
       "      <th>COUNTY_SUB</th>\n",
       "      <th>USPS_ZIP_PREF_CITY</th>\n",
       "      <th>USPS_ZIP_PREF_STATE</th>\n",
       "      <th>RES_RATIO</th>\n",
       "      <th>BUS_RATIO</th>\n",
       "      <th>OTH_RATIO</th>\n",
       "      <th>TOT_RATIO</th>\n",
       "    </tr>\n",
       "  </thead>\n",
       "  <tbody>\n",
       "    <tr>\n",
       "      <th>125</th>\n",
       "      <td>6078</td>\n",
       "      <td>900374540</td>\n",
       "      <td>SUFFIELD</td>\n",
       "      <td>CT</td>\n",
       "      <td>1.000000</td>\n",
       "      <td>1.000000</td>\n",
       "      <td>1.0</td>\n",
       "      <td>1.000000</td>\n",
       "    </tr>\n",
       "    <tr>\n",
       "      <th>126</th>\n",
       "      <td>6042</td>\n",
       "      <td>900371390</td>\n",
       "      <td>MANCHESTER</td>\n",
       "      <td>CT</td>\n",
       "      <td>0.004759</td>\n",
       "      <td>0.000000</td>\n",
       "      <td>0.0</td>\n",
       "      <td>0.003964</td>\n",
       "    </tr>\n",
       "    <tr>\n",
       "      <th>127</th>\n",
       "      <td>6042</td>\n",
       "      <td>900344700</td>\n",
       "      <td>MANCHESTER</td>\n",
       "      <td>CT</td>\n",
       "      <td>0.994967</td>\n",
       "      <td>1.000000</td>\n",
       "      <td>1.0</td>\n",
       "      <td>0.995808</td>\n",
       "    </tr>\n",
       "    <tr>\n",
       "      <th>128</th>\n",
       "      <td>6042</td>\n",
       "      <td>901378250</td>\n",
       "      <td>MANCHESTER</td>\n",
       "      <td>CT</td>\n",
       "      <td>0.000275</td>\n",
       "      <td>0.000000</td>\n",
       "      <td>0.0</td>\n",
       "      <td>0.000229</td>\n",
       "    </tr>\n",
       "    <tr>\n",
       "      <th>129</th>\n",
       "      <td>6052</td>\n",
       "      <td>900304300</td>\n",
       "      <td>NEW BRITAIN</td>\n",
       "      <td>CT</td>\n",
       "      <td>0.002824</td>\n",
       "      <td>0.004184</td>\n",
       "      <td>0.0</td>\n",
       "      <td>0.002682</td>\n",
       "    </tr>\n",
       "  </tbody>\n",
       "</table>\n",
       "</div>"
      ],
      "text/plain": [
       "      ZIP  COUNTY_SUB USPS_ZIP_PREF_CITY USPS_ZIP_PREF_STATE  RES_RATIO  \\\n",
       "125  6078   900374540           SUFFIELD                  CT   1.000000   \n",
       "126  6042   900371390         MANCHESTER                  CT   0.004759   \n",
       "127  6042   900344700         MANCHESTER                  CT   0.994967   \n",
       "128  6042   901378250         MANCHESTER                  CT   0.000275   \n",
       "129  6052   900304300        NEW BRITAIN                  CT   0.002824   \n",
       "\n",
       "     BUS_RATIO  OTH_RATIO  TOT_RATIO  \n",
       "125   1.000000        1.0   1.000000  \n",
       "126   0.000000        0.0   0.003964  \n",
       "127   1.000000        1.0   0.995808  \n",
       "128   0.000000        0.0   0.000229  \n",
       "129   0.004184        0.0   0.002682  "
      ]
     },
     "execution_count": 159,
     "metadata": {},
     "output_type": "execute_result"
    }
   ],
   "source": [
    "zips_to_counties_ct.head()"
   ]
  },
  {
   "cell_type": "code",
   "execution_count": null,
   "id": "6d902c6a",
   "metadata": {},
   "outputs": [],
   "source": [
    "# Check how many of these are at least 80% in one county\n",
    "zips_to_counties_ct[[\"ZIP\", \"COUNTY_SUB\", \"TOT_RATIO\"]].groupby(\"ZIP\").max().sort_values(\"TOT_RATIO\").head(20)"
   ]
  },
  {
   "cell_type": "markdown",
   "id": "723a6530",
   "metadata": {},
   "source": [
    "So we see that the least a ZIP is in a county is 53%, and approx 20 ZIPs are highly split (i.e. their max allocation to a county is 80%). This is an issue, but we can leave it aside for now and simply take the max."
   ]
  },
  {
   "cell_type": "code",
   "execution_count": 21,
   "id": "10121dd2",
   "metadata": {},
   "outputs": [
    {
     "data": {
      "text/html": [
       "<div>\n",
       "<style scoped>\n",
       "    .dataframe tbody tr th:only-of-type {\n",
       "        vertical-align: middle;\n",
       "    }\n",
       "\n",
       "    .dataframe tbody tr th {\n",
       "        vertical-align: top;\n",
       "    }\n",
       "\n",
       "    .dataframe thead th {\n",
       "        text-align: right;\n",
       "    }\n",
       "</style>\n",
       "<table border=\"1\" class=\"dataframe\">\n",
       "  <thead>\n",
       "    <tr style=\"text-align: right;\">\n",
       "      <th></th>\n",
       "      <th>ZIP</th>\n",
       "      <th>COUNTY_SUB</th>\n",
       "      <th>TOT_RATIO</th>\n",
       "    </tr>\n",
       "  </thead>\n",
       "  <tbody>\n",
       "    <tr>\n",
       "      <th>0</th>\n",
       "      <td>6001</td>\n",
       "      <td>900368940</td>\n",
       "      <td>0.975907</td>\n",
       "    </tr>\n",
       "    <tr>\n",
       "      <th>1</th>\n",
       "      <td>6002</td>\n",
       "      <td>900387000</td>\n",
       "      <td>0.990812</td>\n",
       "    </tr>\n",
       "    <tr>\n",
       "      <th>2</th>\n",
       "      <td>6006</td>\n",
       "      <td>900387000</td>\n",
       "      <td>1.000000</td>\n",
       "    </tr>\n",
       "    <tr>\n",
       "      <th>3</th>\n",
       "      <td>6010</td>\n",
       "      <td>900560750</td>\n",
       "      <td>0.998910</td>\n",
       "    </tr>\n",
       "    <tr>\n",
       "      <th>4</th>\n",
       "      <td>6011</td>\n",
       "      <td>900308490</td>\n",
       "      <td>1.000000</td>\n",
       "    </tr>\n",
       "  </tbody>\n",
       "</table>\n",
       "</div>"
      ],
      "text/plain": [
       "    ZIP  COUNTY_SUB  TOT_RATIO\n",
       "0  6001   900368940   0.975907\n",
       "1  6002   900387000   0.990812\n",
       "2  6006   900387000   1.000000\n",
       "3  6010   900560750   0.998910\n",
       "4  6011   900308490   1.000000"
      ]
     },
     "execution_count": 21,
     "metadata": {},
     "output_type": "execute_result"
    }
   ],
   "source": [
    "# We will use this for matching, noting that it is flawed\n",
    "zips_to_counties_ct_max = zips_to_counties_ct[[\"ZIP\", \"COUNTY_SUB\", \"TOT_RATIO\"]].groupby(\"ZIP\").max()\n",
    "zips_to_counties_ct_max = zips_to_counties_ct_max.reset_index()\n",
    "zips_to_counties_ct_max.head()"
   ]
  },
  {
   "cell_type": "markdown",
   "id": "9c0ec1fd",
   "metadata": {},
   "source": [
    "## Match data"
   ]
  },
  {
   "cell_type": "code",
   "execution_count": 28,
   "id": "d2e68a5f",
   "metadata": {},
   "outputs": [
    {
     "data": {
      "text/html": [
       "<div>\n",
       "<style scoped>\n",
       "    .dataframe tbody tr th:only-of-type {\n",
       "        vertical-align: middle;\n",
       "    }\n",
       "\n",
       "    .dataframe tbody tr th {\n",
       "        vertical-align: top;\n",
       "    }\n",
       "\n",
       "    .dataframe thead th {\n",
       "        text-align: right;\n",
       "    }\n",
       "</style>\n",
       "<table border=\"1\" class=\"dataframe\">\n",
       "  <thead>\n",
       "    <tr style=\"text-align: right;\">\n",
       "      <th></th>\n",
       "      <th>ZIP_CODE</th>\n",
       "      <th>FuelTypePrimary</th>\n",
       "      <th>VEH_COUNT</th>\n",
       "      <th>ZIP</th>\n",
       "      <th>COUNTY_SUB</th>\n",
       "    </tr>\n",
       "  </thead>\n",
       "  <tbody>\n",
       "    <tr>\n",
       "      <th>0</th>\n",
       "      <td>6001</td>\n",
       "      <td>Diesel</td>\n",
       "      <td>97</td>\n",
       "      <td>6001.0</td>\n",
       "      <td>900368940.0</td>\n",
       "    </tr>\n",
       "    <tr>\n",
       "      <th>1</th>\n",
       "      <td>6001</td>\n",
       "      <td>Electric</td>\n",
       "      <td>346</td>\n",
       "      <td>6001.0</td>\n",
       "      <td>900368940.0</td>\n",
       "    </tr>\n",
       "    <tr>\n",
       "      <th>2</th>\n",
       "      <td>6001</td>\n",
       "      <td>Flexible Fuel Vehicle (FFV)</td>\n",
       "      <td>13</td>\n",
       "      <td>6001.0</td>\n",
       "      <td>900368940.0</td>\n",
       "    </tr>\n",
       "    <tr>\n",
       "      <th>3</th>\n",
       "      <td>6001</td>\n",
       "      <td>Gasoline</td>\n",
       "      <td>5952</td>\n",
       "      <td>6001.0</td>\n",
       "      <td>900368940.0</td>\n",
       "    </tr>\n",
       "    <tr>\n",
       "      <th>4</th>\n",
       "      <td>6002</td>\n",
       "      <td>Diesel</td>\n",
       "      <td>166</td>\n",
       "      <td>6002.0</td>\n",
       "      <td>900387000.0</td>\n",
       "    </tr>\n",
       "  </tbody>\n",
       "</table>\n",
       "</div>"
      ],
      "text/plain": [
       "   ZIP_CODE              FuelTypePrimary  VEH_COUNT     ZIP   COUNTY_SUB\n",
       "0      6001                       Diesel         97  6001.0  900368940.0\n",
       "1      6001                     Electric        346  6001.0  900368940.0\n",
       "2      6001  Flexible Fuel Vehicle (FFV)         13  6001.0  900368940.0\n",
       "3      6001                     Gasoline       5952  6001.0  900368940.0\n",
       "4      6002                       Diesel        166  6002.0  900387000.0"
      ]
     },
     "execution_count": 28,
     "metadata": {},
     "output_type": "execute_result"
    }
   ],
   "source": [
    "by_cty_fueltype.head()"
   ]
  },
  {
   "cell_type": "code",
   "execution_count": 25,
   "id": "f39b889e",
   "metadata": {},
   "outputs": [],
   "source": [
    "# Match and drop unneeded columns\n",
    "by_cty_fueltype = by_zip_fueltype.merge(zips_to_counties_ct_max, left_on = \"ZIP_CODE\", right_on = \"ZIP\", how = \"left\")\n",
    "by_cty_fueltype = by_cty_fueltype.iloc[:, ~by_cty_fueltype.columns.isin([\"Unnamed: 0\", \"TOT_RATIO\"])]"
   ]
  },
  {
   "cell_type": "code",
   "execution_count": 27,
   "id": "b59d74aa",
   "metadata": {},
   "outputs": [
    {
     "data": {
      "text/html": [
       "<div>\n",
       "<style scoped>\n",
       "    .dataframe tbody tr th:only-of-type {\n",
       "        vertical-align: middle;\n",
       "    }\n",
       "\n",
       "    .dataframe tbody tr th {\n",
       "        vertical-align: top;\n",
       "    }\n",
       "\n",
       "    .dataframe thead th {\n",
       "        text-align: right;\n",
       "    }\n",
       "</style>\n",
       "<table border=\"1\" class=\"dataframe\">\n",
       "  <thead>\n",
       "    <tr style=\"text-align: right;\">\n",
       "      <th></th>\n",
       "      <th>ZIP_CODE</th>\n",
       "      <th>FuelTypePrimary</th>\n",
       "      <th>VEH_COUNT</th>\n",
       "      <th>ZIP</th>\n",
       "      <th>COUNTY_SUB</th>\n",
       "    </tr>\n",
       "  </thead>\n",
       "  <tbody>\n",
       "    <tr>\n",
       "      <th>224</th>\n",
       "      <td>6094</td>\n",
       "      <td>Gasoline</td>\n",
       "      <td>1</td>\n",
       "      <td>NaN</td>\n",
       "      <td>NaN</td>\n",
       "    </tr>\n",
       "    <tr>\n",
       "      <th>352</th>\n",
       "      <td>6245</td>\n",
       "      <td>Gasoline</td>\n",
       "      <td>2</td>\n",
       "      <td>NaN</td>\n",
       "      <td>NaN</td>\n",
       "    </tr>\n",
       "    <tr>\n",
       "      <th>722</th>\n",
       "      <td>6474</td>\n",
       "      <td>Electric</td>\n",
       "      <td>2</td>\n",
       "      <td>NaN</td>\n",
       "      <td>NaN</td>\n",
       "    </tr>\n",
       "    <tr>\n",
       "      <th>1105</th>\n",
       "      <td>6857</td>\n",
       "      <td>Gasoline</td>\n",
       "      <td>2</td>\n",
       "      <td>NaN</td>\n",
       "      <td>NaN</td>\n",
       "    </tr>\n",
       "  </tbody>\n",
       "</table>\n",
       "</div>"
      ],
      "text/plain": [
       "      ZIP_CODE FuelTypePrimary  VEH_COUNT  ZIP  COUNTY_SUB\n",
       "224       6094        Gasoline          1  NaN         NaN\n",
       "352       6245        Gasoline          2  NaN         NaN\n",
       "722       6474        Electric          2  NaN         NaN\n",
       "1105      6857        Gasoline          2  NaN         NaN"
      ]
     },
     "execution_count": 27,
     "metadata": {},
     "output_type": "execute_result"
    }
   ],
   "source": [
    "# Check what has not matched\n",
    "by_cty_fueltype[by_cty_fueltype[\"COUNTY_SUB\"].isna()]"
   ]
  },
  {
   "cell_type": "code",
   "execution_count": 29,
   "id": "1ef2312b",
   "metadata": {},
   "outputs": [],
   "source": [
    "# Save\n",
    "by_cty_fueltype.to_csv(path / \"data\" / \"outputs\" / \"vehicle_sales_by_zip_cty_fueltype.csv\")"
   ]
  },
  {
   "cell_type": "code",
   "execution_count": null,
   "id": "a0ebc58a",
   "metadata": {},
   "outputs": [],
   "source": [
    "# Now try and get the percentage within each zip\n",
    "by_zip_fueltype = by_zip_fueltype.groupby([\"ZIP_CODE\", \"FuelTypePrimary\"]).agg({\"VEH_COUNT\":\"sum\"})\n",
    "by_zip_fueltype[\"Percentage\"] = by_zip_fueltype.groupby(level = 0).apply(lambda x: (x*100 / x.sum()))"
   ]
  },
  {
   "cell_type": "code",
   "execution_count": 32,
   "id": "3960eef0",
   "metadata": {},
   "outputs": [],
   "source": [
    " # Now aggregate by percentage within ZIPs\n",
    "by_cty_fueltype_pctg = by_cty_fueltype.groupby([\"ZIP_CODE\", \"COUNTY_SUB\", \"FuelTypePrimary\"]).agg({\"VEH_COUNT\":\"sum\"})\n",
    "by_cty_fueltype_pctg[\"Percentage\"] = by_cty_fueltype_pctg.groupby(level = 0).apply(lambda x: (x*100 / x.sum()))"
   ]
  },
  {
   "cell_type": "code",
   "execution_count": 34,
   "id": "e98e2e98",
   "metadata": {},
   "outputs": [],
   "source": [
    "by_cty_fueltype_pctg = by_cty_fueltype_pctg.reset_index()"
   ]
  },
  {
   "cell_type": "code",
   "execution_count": 37,
   "id": "79712810",
   "metadata": {},
   "outputs": [],
   "source": [
    "# Save\n",
    "by_cty_fueltype_pctg.to_csv(path / \"data\" / \"outputs\" / \"vehicle_sales_by_zip_cty_fueltype_pctg.csv\")"
   ]
  },
  {
   "cell_type": "code",
   "execution_count": 67,
   "id": "f00ad374",
   "metadata": {},
   "outputs": [],
   "source": [
    "# Aggregate by percentage within COUNTIES, dropping zips\n",
    "# Drop ZIPs\n",
    "by_cty_only_fueltype = by_cty_fueltype.drop(\"ZIP_CODE\", axis = 1)\n",
    "by_cty_only_fueltype = by_cty_only_fueltype.drop(\"ZIP\", axis = 1)"
   ]
  },
  {
   "cell_type": "code",
   "execution_count": 68,
   "id": "8b87a343",
   "metadata": {},
   "outputs": [],
   "source": [
    "# Aggregate by county\n",
    "by_cty_only_fueltype = by_cty_only_fueltype.groupby([\"COUNTY_SUB\", \"FuelTypePrimary\"]).sum()\n",
    "by_cty_only_fueltype = by_cty_only_fueltype.reset_index()\n",
    "\n",
    "# Create a percentage\n",
    "by_cty_only_fueltype_pctg = by_cty_only_fueltype.groupby([\"COUNTY_SUB\", \"FuelTypePrimary\"]).agg({\"VEH_COUNT\":\"sum\"})\n",
    "by_cty_only_fueltype_pctg[\"Percentage\"] = by_cty_only_fueltype_pctg.groupby(level = 0).apply(lambda x: (x*100/x.sum()))"
   ]
  },
  {
   "cell_type": "code",
   "execution_count": 69,
   "id": "f7a4df8e",
   "metadata": {},
   "outputs": [],
   "source": [
    "by_cty_only_fueltype_pctg = by_cty_only_fueltype_pctg.reset_index()"
   ]
  },
  {
   "cell_type": "code",
   "execution_count": 71,
   "id": "d6e09a4a",
   "metadata": {},
   "outputs": [],
   "source": [
    "# Save\n",
    "by_cty_only_fueltype_pctg.to_csv(path / \"data\" / \"outputs\" / \"vehicle_sales_by_cty_pctg.csv\")"
   ]
  },
  {
   "cell_type": "code",
   "execution_count": 79,
   "id": "c185d7f5",
   "metadata": {},
   "outputs": [
    {
     "data": {
      "text/html": [
       "<div>\n",
       "<style scoped>\n",
       "    .dataframe tbody tr th:only-of-type {\n",
       "        vertical-align: middle;\n",
       "    }\n",
       "\n",
       "    .dataframe tbody tr th {\n",
       "        vertical-align: top;\n",
       "    }\n",
       "\n",
       "    .dataframe thead th {\n",
       "        text-align: right;\n",
       "    }\n",
       "</style>\n",
       "<table border=\"1\" class=\"dataframe\">\n",
       "  <thead>\n",
       "    <tr style=\"text-align: right;\">\n",
       "      <th></th>\n",
       "      <th>VEH_COUNT</th>\n",
       "      <th>Percentage</th>\n",
       "    </tr>\n",
       "    <tr>\n",
       "      <th>COUNTY_SUB</th>\n",
       "      <th></th>\n",
       "      <th></th>\n",
       "    </tr>\n",
       "  </thead>\n",
       "  <tbody>\n",
       "    <tr>\n",
       "      <th>900371390.0</th>\n",
       "      <td>1</td>\n",
       "      <td>100.0</td>\n",
       "    </tr>\n",
       "    <tr>\n",
       "      <th>901134250.0</th>\n",
       "      <td>2</td>\n",
       "      <td>100.0</td>\n",
       "    </tr>\n",
       "    <tr>\n",
       "      <th>901133900.0</th>\n",
       "      <td>2</td>\n",
       "      <td>100.0</td>\n",
       "    </tr>\n",
       "    <tr>\n",
       "      <th>900148620.0</th>\n",
       "      <td>7</td>\n",
       "      <td>100.0</td>\n",
       "    </tr>\n",
       "    <tr>\n",
       "      <th>900118500.0</th>\n",
       "      <td>13</td>\n",
       "      <td>100.0</td>\n",
       "    </tr>\n",
       "    <tr>\n",
       "      <th>900183430.0</th>\n",
       "      <td>16</td>\n",
       "      <td>100.0</td>\n",
       "    </tr>\n",
       "    <tr>\n",
       "      <th>900312270.0</th>\n",
       "      <td>20</td>\n",
       "      <td>100.0</td>\n",
       "    </tr>\n",
       "    <tr>\n",
       "      <th>901144210.0</th>\n",
       "      <td>24</td>\n",
       "      <td>100.0</td>\n",
       "    </tr>\n",
       "    <tr>\n",
       "      <th>901369220.0</th>\n",
       "      <td>24</td>\n",
       "      <td>100.0</td>\n",
       "    </tr>\n",
       "    <tr>\n",
       "      <th>900517240.0</th>\n",
       "      <td>58</td>\n",
       "      <td>100.0</td>\n",
       "    </tr>\n",
       "    <tr>\n",
       "      <th>901344910.0</th>\n",
       "      <td>123</td>\n",
       "      <td>100.0</td>\n",
       "    </tr>\n",
       "    <tr>\n",
       "      <th>900722490.0</th>\n",
       "      <td>172</td>\n",
       "      <td>100.0</td>\n",
       "    </tr>\n",
       "    <tr>\n",
       "      <th>900516050.0</th>\n",
       "      <td>190</td>\n",
       "      <td>100.0</td>\n",
       "    </tr>\n",
       "    <tr>\n",
       "      <th>901536000.0</th>\n",
       "      <td>508</td>\n",
       "      <td>100.0</td>\n",
       "    </tr>\n",
       "    <tr>\n",
       "      <th>900337140.0</th>\n",
       "      <td>657</td>\n",
       "      <td>100.0</td>\n",
       "    </tr>\n",
       "    <tr>\n",
       "      <th>901306260.0</th>\n",
       "      <td>764</td>\n",
       "      <td>100.0</td>\n",
       "    </tr>\n",
       "    <tr>\n",
       "      <th>900554030.0</th>\n",
       "      <td>846</td>\n",
       "      <td>100.0</td>\n",
       "    </tr>\n",
       "    <tr>\n",
       "      <th>900566420.0</th>\n",
       "      <td>846</td>\n",
       "      <td>100.0</td>\n",
       "    </tr>\n",
       "    <tr>\n",
       "      <th>900502760.0</th>\n",
       "      <td>865</td>\n",
       "      <td>100.0</td>\n",
       "    </tr>\n",
       "    <tr>\n",
       "      <th>901156270.0</th>\n",
       "      <td>902</td>\n",
       "      <td>100.0</td>\n",
       "    </tr>\n",
       "  </tbody>\n",
       "</table>\n",
       "</div>"
      ],
      "text/plain": [
       "             VEH_COUNT  Percentage\n",
       "COUNTY_SUB                        \n",
       "900371390.0          1       100.0\n",
       "901134250.0          2       100.0\n",
       "901133900.0          2       100.0\n",
       "900148620.0          7       100.0\n",
       "900118500.0         13       100.0\n",
       "900183430.0         16       100.0\n",
       "900312270.0         20       100.0\n",
       "901144210.0         24       100.0\n",
       "901369220.0         24       100.0\n",
       "900517240.0         58       100.0\n",
       "901344910.0        123       100.0\n",
       "900722490.0        172       100.0\n",
       "900516050.0        190       100.0\n",
       "901536000.0        508       100.0\n",
       "900337140.0        657       100.0\n",
       "901306260.0        764       100.0\n",
       "900554030.0        846       100.0\n",
       "900566420.0        846       100.0\n",
       "900502760.0        865       100.0\n",
       "901156270.0        902       100.0"
      ]
     },
     "execution_count": 79,
     "metadata": {},
     "output_type": "execute_result"
    }
   ],
   "source": [
    "by_cty_only_fueltype_pctg.groupby(\"COUNTY_SUB\").sum().sort_values(\"VEH_COUNT\").head(20)"
   ]
  }
 ],
 "metadata": {
  "kernelspec": {
   "display_name": "Python 3 (ipykernel)",
   "language": "python",
   "name": "python3"
  },
  "language_info": {
   "codemirror_mode": {
    "name": "ipython",
    "version": 3
   },
   "file_extension": ".py",
   "mimetype": "text/x-python",
   "name": "python",
   "nbconvert_exporter": "python",
   "pygments_lexer": "ipython3",
   "version": "3.12.0"
  }
 },
 "nbformat": 4,
 "nbformat_minor": 5
}
