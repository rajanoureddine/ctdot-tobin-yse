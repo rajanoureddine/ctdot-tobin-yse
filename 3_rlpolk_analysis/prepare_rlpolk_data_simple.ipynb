{
 "cells": [
  {
   "cell_type": "markdown",
   "id": "9277fee0",
   "metadata": {},
   "source": [
    "# Setup"
   ]
  },
  {
   "cell_type": "code",
   "execution_count": 2,
   "id": "8e77d18e",
   "metadata": {},
   "outputs": [],
   "source": [
    "import pathlib\n",
    "import pandas as pd\n",
    "import numpy as np\n",
    "from itertools import combinations\n",
    "import os\n",
    "from tqdm import tqdm\n",
    "import requests\n",
    "from datetime import datetime\n",
    "import geopandas as gpd\n",
    "import matplotlib.pyplot as plt"
   ]
  },
  {
   "cell_type": "code",
   "execution_count": 18,
   "id": "1adbb110",
   "metadata": {},
   "outputs": [],
   "source": [
    "data_path = pathlib.Path().resolve().parent.parent / \"data\"\n",
    "rlpolk_data_path = data_path / \"rlpolk_data\"\n",
    "vin_matching_path = data_path / \"vin_matching\""
   ]
  },
  {
   "cell_type": "markdown",
   "id": "fd821be1-cf5b-4999-898e-322ddd8ceb50",
   "metadata": {},
   "source": [
    "# 1. Import Raw RLPolk Data"
   ]
  },
  {
   "cell_type": "code",
   "execution_count": 24,
   "id": "383f9fbd-7f13-48a3-b615-4ada7b6dc95a",
   "metadata": {},
   "outputs": [],
   "source": [
    "raw_rlpolk_data = pd.read_csv(rlpolk_data_path / \"US_Yale_University_OP0001562727_NV_CT_VIN_Prefix_202212.txt\", sep = '|')"
   ]
  },
  {
   "cell_type": "markdown",
   "id": "595ce828",
   "metadata": {},
   "source": [
    "# 1. Prepare CT NV Registrations Data"
   ]
  },
  {
   "cell_type": "code",
   "execution_count": 25,
   "id": "df846dea",
   "metadata": {},
   "outputs": [
    {
     "data": {
      "text/plain": [
       "975076"
      ]
     },
     "execution_count": 25,
     "metadata": {},
     "output_type": "execute_result"
    }
   ],
   "source": [
    "raw_rlpolk_data[\"VEH_COUNT\"].sum()"
   ]
  },
  {
   "cell_type": "markdown",
   "id": "38a64e27",
   "metadata": {},
   "source": [
    "## 1a. Initial Descriptives - CT NV Registration Data"
   ]
  },
  {
   "cell_type": "code",
   "execution_count": 26,
   "id": "c4056320",
   "metadata": {},
   "outputs": [
    {
     "name": "stdout",
     "output_type": "stream",
     "text": [
      "The data goes from 201801 to 202212\n"
     ]
    }
   ],
   "source": [
    "max_date = max(raw_rlpolk_data[\"everREPORT_YEAR_MONTH\"])\n",
    "min_date = min(raw_rlpolk_data[\"everREPORT_YEAR_MONTH\"])\n",
    "print(f\"The data goes from {min_date} to {max_date}\")"
   ]
  },
  {
   "cell_type": "code",
   "execution_count": 27,
   "id": "65774af9",
   "metadata": {},
   "outputs": [
    {
     "data": {
      "text/plain": [
       "924477"
      ]
     },
     "execution_count": 27,
     "metadata": {},
     "output_type": "execute_result"
    }
   ],
   "source": [
    "len(raw_rlpolk_data)"
   ]
  },
  {
   "cell_type": "code",
   "execution_count": 28,
   "id": "59c8faa0",
   "metadata": {},
   "outputs": [
    {
     "data": {
      "text/plain": [
       "975076"
      ]
     },
     "execution_count": 28,
     "metadata": {},
     "output_type": "execute_result"
    }
   ],
   "source": [
    "raw_rlpolk_data[\"VEH_COUNT\"].sum()"
   ]
  },
  {
   "cell_type": "code",
   "execution_count": 13,
   "id": "7c9826bf",
   "metadata": {},
   "outputs": [],
   "source": [
    "raw_rlpolk_data[\"YEAR\"] = raw_rlpolk_data[\"everREPORT_YEAR_MONTH\"].astype(str).str[:4]"
   ]
  },
  {
   "cell_type": "code",
   "execution_count": 14,
   "id": "0b5ce14f",
   "metadata": {},
   "outputs": [
    {
     "data": {
      "image/png": "[encoded data removed]",
      "text/plain": [
       "<Figure size 640x480 with 1 Axes>"
      ]
     },
     "metadata": {},
     "output_type": "display_data"
    }
   ],
   "source": [
    "fig, ax = plt.subplots(nrows =1, ncols = 1)\n",
    "\n",
    "ax.bar(x = \"YEAR\",\n",
    "        height = \"VEH_COUNT\",\n",
    "        data = raw_rlpolk_data[[\"YEAR\", \"VEH_COUNT\"]].groupby(\"YEAR\").sum().reset_index())\n",
    "\n",
    "fig.suptitle(\"CT New Vehicle Registrations by Year\")\n",
    "\n",
    "plt.show()"
   ]
  },
  {
   "cell_type": "markdown",
   "id": "86c9c56a",
   "metadata": {},
   "source": [
    "## 1b. Change VIN format to match with NHTSA"
   ]
  },
  {
   "cell_type": "code",
   "execution_count": 56,
   "id": "8209a6b0",
   "metadata": {},
   "outputs": [],
   "source": [
    "raw_rlpolk_data[\"vin_corrected\"] = raw_rlpolk_data[\"VIN_PREFIX\"].str[0:8]+\"*\"+raw_rlpolk_data[\"VIN_PREFIX\"].str[9:10]"
   ]
  },
  {
   "cell_type": "markdown",
   "id": "a5240f7b",
   "metadata": {},
   "source": [
    "# 2. Prepare NHTSA VIN dataset"
   ]
  },
  {
   "cell_type": "code",
   "execution_count": 58,
   "id": "33406f9e",
   "metadata": {},
   "outputs": [
    {
     "data": {
      "text/plain": [
       "162685"
      ]
     },
     "execution_count": 58,
     "metadata": {},
     "output_type": "execute_result"
    }
   ],
   "source": [
    "vin_lookup = pd.read_csv(vin_matching_path / \"all_vins_nhtsa.csv\", index_col = [0]).reset_index(drop=True)\n",
    "vin_lookup[\"vin_corrected\"] = vin_lookup[\"vin_corrected\"].str[0:10]\n",
    "vin_lookup = vin_lookup.drop_duplicates(subset = \"vin_corrected\")"
   ]
  },
  {
   "cell_type": "markdown",
   "id": "59e48147-595d-441d-9d4e-8ca1825a48e6",
   "metadata": {},
   "source": [
    "# 3. Match"
   ]
  },
  {
   "cell_type": "code",
   "execution_count": 64,
   "id": "488d861d-44fa-4ac2-bd97-48914a566308",
   "metadata": {},
   "outputs": [
    {
     "data": {
      "text/plain": [
       "0.05111856339247079"
      ]
     },
     "execution_count": 64,
     "metadata": {},
     "output_type": "execute_result"
    }
   ],
   "source": [
    "rlpolk_matched[\"Model\"].isna().sum() / 924400"
   ]
  },
  {
   "cell_type": "code",
   "execution_count": 59,
   "id": "29f46631-c66b-4031-bbf4-52329bc06356",
   "metadata": {},
   "outputs": [
    {
     "name": "stdout",
     "output_type": "stream",
     "text": [
      "The matched DF is of the same length: success!\n"
     ]
    }
   ],
   "source": [
    "# Match\n",
    "rlpolk_matched = raw_rlpolk_data.merge(vin_lookup,\n",
    "                                       how = 'left',\n",
    "                                       right_on = 'vin_corrected',\n",
    "                                       left_on = 'vin_corrected')\n",
    "# Test the match worked\n",
    "if len(rlpolk_matched) == len(raw_rlpolk_data):\n",
    "    print(\"The matched DF is of the same length: success!\")"
   ]
  },
  {
   "cell_type": "markdown",
   "id": "959e51fb-287f-4f08-a7ff-b73515ce38a1",
   "metadata": {},
   "source": [
    "# 4. Query NHTSA API to get more"
   ]
  },
  {
   "cell_type": "code",
   "execution_count": 68,
   "id": "7b179d06-cd9c-454b-9c02-51a00c246b64",
   "metadata": {},
   "outputs": [
    {
     "name": "stdout",
     "output_type": "stream",
     "text": [
      "Thus there are 3130 unique unmatched VINs remaining\n"
     ]
    }
   ],
   "source": [
    "unmatched_vins = rlpolk_matched[rlpolk_matched[\"Model\"].isna()][\"vin_corrected\"].unique().tolist()\n",
    "print(f\"Thus there are {len(unmatched_vins)} unique unmatched VINs remaining\")"
   ]
  },
  {
   "cell_type": "code",
   "execution_count": 74,
   "id": "a98dca1b-0cd1-4452-bded-2858f2d9718c",
   "metadata": {},
   "outputs": [],
   "source": [
    "def fetch_unmatched_vin(unmatched_vin):\n",
    "        \"\"\"\n",
    "        Input: An unmatched, but corrected VIN\n",
    "        Output: A matched VIN or NA\n",
    "        \n",
    "        \"\"\"\n",
    "        variables = [\"Manufacturer Name\", \"Model\", \"Model Year\", \"Fuel Type - Primary\", \"Electrification Level\"]\n",
    "        \n",
    "        url = (f\"https://vpic.nhtsa.dot.gov/api/vehicles/DecodeVin/{unmatched_vin.strip()}?format=csv\")\n",
    "\n",
    "        # Download response\n",
    "        resp_df = pd.read_csv(url)\n",
    "\n",
    "        # Extract needed\n",
    "        resp_df = resp_df.loc[resp_df[\"variable\"].isin(variables), [\"variable\", \"value\"]].T\n",
    "        resp_df.columns = resp_df.iloc[0]\n",
    "        resp_df = resp_df.drop(\"variable\", axis = 0)\n",
    "        resp_df[\"vin_corrected\"] = unmatched_vin\n",
    "        \n",
    "        return resp_df"
   ]
  },
  {
   "cell_type": "code",
   "execution_count": null,
   "id": "15619acb-0165-4a63-b0b1-d6199f335c6c",
   "metadata": {},
   "outputs": [],
   "source": [
    "nhtsa_queries = pd.DataFrame([])"
   ]
  },
  {
   "cell_type": "code",
   "execution_count": 77,
   "id": "08abfb72-8559-4211-b063-1b4614a063f3",
   "metadata": {},
   "outputs": [
    {
     "name": "stderr",
     "output_type": "stream",
     "text": [
      "100%|██████████| 2497/2497 [09:50<00:00,  4.23it/s]\n"
     ]
    }
   ],
   "source": [
    "for vin in tqdm(unmatched_vins[633:]):\n",
    "    nhtsa_queries = pd.concat([nhtsa_queries, fetch_unmatched_vin(vin)]).reset_index(drop=True)"
   ]
  },
  {
   "cell_type": "code",
   "execution_count": 80,
   "id": "636781ee-4a89-4bea-b1ea-82564672a5f1",
   "metadata": {},
   "outputs": [],
   "source": [
    "vin_lookup = pd.concat([vin_lookup, nhtsa_queries.reset_index(drop=True)]).reset_index(drop =True)"
   ]
  },
  {
   "cell_type": "code",
   "execution_count": 82,
   "id": "f4288666-1d4d-44f4-aeee-0529f8e2e124",
   "metadata": {},
   "outputs": [],
   "source": [
    "vin_lookup = vin_lookup.drop_duplicates(subset = \"vin_corrected\")"
   ]
  },
  {
   "cell_type": "code",
   "execution_count": 81,
   "id": "60e35d56-a5cf-46c7-9de5-c8e438055fcf",
   "metadata": {},
   "outputs": [],
   "source": [
    "vin_lookup.to_csv(vin_matching_path / \"all_vins_nhtsa.csv\")"
   ]
  },
  {
   "cell_type": "markdown",
   "id": "f2efb556-28ea-47fc-b730-7dcf680e308e",
   "metadata": {},
   "source": [
    "## Rematch"
   ]
  },
  {
   "cell_type": "code",
   "execution_count": 83,
   "id": "72d9aaa6-5792-445d-9b3f-d9ca639d6c56",
   "metadata": {},
   "outputs": [
    {
     "name": "stdout",
     "output_type": "stream",
     "text": [
      "The matched DF is of the same length: success!\n"
     ]
    }
   ],
   "source": [
    "# Match\n",
    "rlpolk_matched = raw_rlpolk_data.merge(vin_lookup,\n",
    "                                       how = 'left',\n",
    "                                       right_on = 'vin_corrected',\n",
    "                                       left_on = 'vin_corrected')\n",
    "# Test the match worked\n",
    "if len(rlpolk_matched) == len(raw_rlpolk_data):\n",
    "    print(\"The matched DF is of the same length: success!\")"
   ]
  },
  {
   "cell_type": "code",
   "execution_count": 87,
   "id": "ceeaf521-0700-4f4a-844b-dc05afa42e26",
   "metadata": {},
   "outputs": [
    {
     "data": {
      "text/plain": [
       "18"
      ]
     },
     "execution_count": 87,
     "metadata": {},
     "output_type": "execute_result"
    }
   ],
   "source": [
    "rlpolk_matched[\"Manufacturer Name\"].isna().sum()"
   ]
  },
  {
   "cell_type": "markdown",
   "id": "6f1dca94-a8d3-4a84-8cb4-4f88a5f1a00e",
   "metadata": {},
   "source": [
    "## Save"
   ]
  },
  {
   "cell_type": "code",
   "execution_count": 88,
   "id": "581ab266-1a7c-458f-8d5f-59ccf102474b",
   "metadata": {},
   "outputs": [],
   "source": [
    "rlpolk_matched.to_csv(rlpolk_data_path / \"rlpolk_data_matched.csv\")"
   ]
  }
 ],
 "metadata": {
  "kernelspec": {
   "display_name": "Python 3 (ipykernel)",
   "language": "python",
   "name": "python3"
  },
  "language_info": {
   "codemirror_mode": {
    "name": "ipython",
    "version": 3
   },
   "file_extension": ".py",
   "mimetype": "text/x-python",
   "name": "python",
   "nbconvert_exporter": "python",
   "pygments_lexer": "ipython3",
   "version": "3.12.0"
  }
 },
 "nbformat": 4,
 "nbformat_minor": 5
}
