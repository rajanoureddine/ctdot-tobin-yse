{
 "cells": [
  {
   "cell_type": "markdown",
   "id": "3bf9ab00-3783-47ff-9675-a65d53a73d45",
   "metadata": {},
   "source": [
    "Add into the assignment loop an additional variable: Month adoption probability (add columns). Then can reduce the columns by having it be a quarter instead of monthly. Doesn't need to be this week - can be next week."
   ]
  },
  {
   "cell_type": "code",
   "execution_count": 1,
   "id": "3251b513-7143-40a4-8e17-18a32cfe08dc",
   "metadata": {},
   "outputs": [],
   "source": [
    "import pathlib\n",
    "import pandas as pd\n",
    "import numpy as np\n",
    "from itertools import combinations\n",
    "import os\n",
    "from tqdm import tqdm\n",
    "import requests\n",
    "from datetime import datetime\n",
    "import geopandas as gpd\n",
    "import matplotlib.pyplot as plt\n",
    "import itertools\n",
    "import re\n",
    "import difflib\n",
    "\n",
    "pd.options.display.max_columns = 30"
   ]
  },
  {
   "cell_type": "code",
   "execution_count": 2,
   "id": "5f65b1eb-fb32-4fcb-8683-c548136e9acc",
   "metadata": {},
   "outputs": [],
   "source": [
    "data_path = pathlib.Path().resolve().parent.parent / \"data\"\n",
    "rlpolk_data_path = data_path / \"rlpolk_data\"\n",
    "vin_matching_path = data_path / \"vin_matching\""
   ]
  },
  {
   "cell_type": "code",
   "execution_count": 3,
   "id": "3648f491-d964-4516-9e06-c7722ab53394",
   "metadata": {},
   "outputs": [
    {
     "ename": "FileNotFoundError",
     "evalue": "[Errno 2] No such file or directory: '/gpfs/gibbs/project/gillingham/rrn22/data/rlpolk_data/rlpolk_data_matched.csv'",
     "output_type": "error",
     "traceback": [
      "\u001b[0;31m---------------------------------------------------------------------------\u001b[0m",
      "\u001b[0;31mFileNotFoundError\u001b[0m                         Traceback (most recent call last)",
      "Cell \u001b[0;32mIn[3], line 1\u001b[0m\n\u001b[0;32m----> 1\u001b[0m rlpolk_matched \u001b[38;5;241m=\u001b[39m \u001b[43mpd\u001b[49m\u001b[38;5;241;43m.\u001b[39;49m\u001b[43mread_csv\u001b[49m\u001b[43m(\u001b[49m\u001b[43mrlpolk_data_path\u001b[49m\u001b[43m \u001b[49m\u001b[38;5;241;43m/\u001b[39;49m\u001b[43m \u001b[49m\u001b[38;5;124;43m\"\u001b[39;49m\u001b[38;5;124;43mrlpolk_data_matched.csv\u001b[39;49m\u001b[38;5;124;43m\"\u001b[39;49m\u001b[43m,\u001b[49m\u001b[43m \u001b[49m\u001b[43mindex_col\u001b[49m\u001b[43m \u001b[49m\u001b[38;5;241;43m=\u001b[39;49m\u001b[43m \u001b[49m\u001b[43m[\u001b[49m\u001b[38;5;241;43m0\u001b[39;49m\u001b[43m]\u001b[49m\u001b[43m)\u001b[49m\n",
      "File \u001b[0;32m~/.conda/envs/myenv/lib/python3.12/site-packages/pandas/io/parsers/readers.py:948\u001b[0m, in \u001b[0;36mread_csv\u001b[0;34m(filepath_or_buffer, sep, delimiter, header, names, index_col, usecols, dtype, engine, converters, true_values, false_values, skipinitialspace, skiprows, skipfooter, nrows, na_values, keep_default_na, na_filter, verbose, skip_blank_lines, parse_dates, infer_datetime_format, keep_date_col, date_parser, date_format, dayfirst, cache_dates, iterator, chunksize, compression, thousands, decimal, lineterminator, quotechar, quoting, doublequote, escapechar, comment, encoding, encoding_errors, dialect, on_bad_lines, delim_whitespace, low_memory, memory_map, float_precision, storage_options, dtype_backend)\u001b[0m\n\u001b[1;32m    935\u001b[0m kwds_defaults \u001b[38;5;241m=\u001b[39m _refine_defaults_read(\n\u001b[1;32m    936\u001b[0m     dialect,\n\u001b[1;32m    937\u001b[0m     delimiter,\n\u001b[0;32m   (...)\u001b[0m\n\u001b[1;32m    944\u001b[0m     dtype_backend\u001b[38;5;241m=\u001b[39mdtype_backend,\n\u001b[1;32m    945\u001b[0m )\n\u001b[1;32m    946\u001b[0m kwds\u001b[38;5;241m.\u001b[39mupdate(kwds_defaults)\n\u001b[0;32m--> 948\u001b[0m \u001b[38;5;28;01mreturn\u001b[39;00m \u001b[43m_read\u001b[49m\u001b[43m(\u001b[49m\u001b[43mfilepath_or_buffer\u001b[49m\u001b[43m,\u001b[49m\u001b[43m \u001b[49m\u001b[43mkwds\u001b[49m\u001b[43m)\u001b[49m\n",
      "File \u001b[0;32m~/.conda/envs/myenv/lib/python3.12/site-packages/pandas/io/parsers/readers.py:611\u001b[0m, in \u001b[0;36m_read\u001b[0;34m(filepath_or_buffer, kwds)\u001b[0m\n\u001b[1;32m    608\u001b[0m _validate_names(kwds\u001b[38;5;241m.\u001b[39mget(\u001b[38;5;124m\"\u001b[39m\u001b[38;5;124mnames\u001b[39m\u001b[38;5;124m\"\u001b[39m, \u001b[38;5;28;01mNone\u001b[39;00m))\n\u001b[1;32m    610\u001b[0m \u001b[38;5;66;03m# Create the parser.\u001b[39;00m\n\u001b[0;32m--> 611\u001b[0m parser \u001b[38;5;241m=\u001b[39m \u001b[43mTextFileReader\u001b[49m\u001b[43m(\u001b[49m\u001b[43mfilepath_or_buffer\u001b[49m\u001b[43m,\u001b[49m\u001b[43m \u001b[49m\u001b[38;5;241;43m*\u001b[39;49m\u001b[38;5;241;43m*\u001b[39;49m\u001b[43mkwds\u001b[49m\u001b[43m)\u001b[49m\n\u001b[1;32m    613\u001b[0m \u001b[38;5;28;01mif\u001b[39;00m chunksize \u001b[38;5;129;01mor\u001b[39;00m iterator:\n\u001b[1;32m    614\u001b[0m     \u001b[38;5;28;01mreturn\u001b[39;00m parser\n",
      "File \u001b[0;32m~/.conda/envs/myenv/lib/python3.12/site-packages/pandas/io/parsers/readers.py:1448\u001b[0m, in \u001b[0;36mTextFileReader.__init__\u001b[0;34m(self, f, engine, **kwds)\u001b[0m\n\u001b[1;32m   1445\u001b[0m     \u001b[38;5;28mself\u001b[39m\u001b[38;5;241m.\u001b[39moptions[\u001b[38;5;124m\"\u001b[39m\u001b[38;5;124mhas_index_names\u001b[39m\u001b[38;5;124m\"\u001b[39m] \u001b[38;5;241m=\u001b[39m kwds[\u001b[38;5;124m\"\u001b[39m\u001b[38;5;124mhas_index_names\u001b[39m\u001b[38;5;124m\"\u001b[39m]\n\u001b[1;32m   1447\u001b[0m \u001b[38;5;28mself\u001b[39m\u001b[38;5;241m.\u001b[39mhandles: IOHandles \u001b[38;5;241m|\u001b[39m \u001b[38;5;28;01mNone\u001b[39;00m \u001b[38;5;241m=\u001b[39m \u001b[38;5;28;01mNone\u001b[39;00m\n\u001b[0;32m-> 1448\u001b[0m \u001b[38;5;28mself\u001b[39m\u001b[38;5;241m.\u001b[39m_engine \u001b[38;5;241m=\u001b[39m \u001b[38;5;28;43mself\u001b[39;49m\u001b[38;5;241;43m.\u001b[39;49m\u001b[43m_make_engine\u001b[49m\u001b[43m(\u001b[49m\u001b[43mf\u001b[49m\u001b[43m,\u001b[49m\u001b[43m \u001b[49m\u001b[38;5;28;43mself\u001b[39;49m\u001b[38;5;241;43m.\u001b[39;49m\u001b[43mengine\u001b[49m\u001b[43m)\u001b[49m\n",
      "File \u001b[0;32m~/.conda/envs/myenv/lib/python3.12/site-packages/pandas/io/parsers/readers.py:1705\u001b[0m, in \u001b[0;36mTextFileReader._make_engine\u001b[0;34m(self, f, engine)\u001b[0m\n\u001b[1;32m   1703\u001b[0m     \u001b[38;5;28;01mif\u001b[39;00m \u001b[38;5;124m\"\u001b[39m\u001b[38;5;124mb\u001b[39m\u001b[38;5;124m\"\u001b[39m \u001b[38;5;129;01mnot\u001b[39;00m \u001b[38;5;129;01min\u001b[39;00m mode:\n\u001b[1;32m   1704\u001b[0m         mode \u001b[38;5;241m+\u001b[39m\u001b[38;5;241m=\u001b[39m \u001b[38;5;124m\"\u001b[39m\u001b[38;5;124mb\u001b[39m\u001b[38;5;124m\"\u001b[39m\n\u001b[0;32m-> 1705\u001b[0m \u001b[38;5;28mself\u001b[39m\u001b[38;5;241m.\u001b[39mhandles \u001b[38;5;241m=\u001b[39m \u001b[43mget_handle\u001b[49m\u001b[43m(\u001b[49m\n\u001b[1;32m   1706\u001b[0m \u001b[43m    \u001b[49m\u001b[43mf\u001b[49m\u001b[43m,\u001b[49m\n\u001b[1;32m   1707\u001b[0m \u001b[43m    \u001b[49m\u001b[43mmode\u001b[49m\u001b[43m,\u001b[49m\n\u001b[1;32m   1708\u001b[0m \u001b[43m    \u001b[49m\u001b[43mencoding\u001b[49m\u001b[38;5;241;43m=\u001b[39;49m\u001b[38;5;28;43mself\u001b[39;49m\u001b[38;5;241;43m.\u001b[39;49m\u001b[43moptions\u001b[49m\u001b[38;5;241;43m.\u001b[39;49m\u001b[43mget\u001b[49m\u001b[43m(\u001b[49m\u001b[38;5;124;43m\"\u001b[39;49m\u001b[38;5;124;43mencoding\u001b[39;49m\u001b[38;5;124;43m\"\u001b[39;49m\u001b[43m,\u001b[49m\u001b[43m \u001b[49m\u001b[38;5;28;43;01mNone\u001b[39;49;00m\u001b[43m)\u001b[49m\u001b[43m,\u001b[49m\n\u001b[1;32m   1709\u001b[0m \u001b[43m    \u001b[49m\u001b[43mcompression\u001b[49m\u001b[38;5;241;43m=\u001b[39;49m\u001b[38;5;28;43mself\u001b[39;49m\u001b[38;5;241;43m.\u001b[39;49m\u001b[43moptions\u001b[49m\u001b[38;5;241;43m.\u001b[39;49m\u001b[43mget\u001b[49m\u001b[43m(\u001b[49m\u001b[38;5;124;43m\"\u001b[39;49m\u001b[38;5;124;43mcompression\u001b[39;49m\u001b[38;5;124;43m\"\u001b[39;49m\u001b[43m,\u001b[49m\u001b[43m \u001b[49m\u001b[38;5;28;43;01mNone\u001b[39;49;00m\u001b[43m)\u001b[49m\u001b[43m,\u001b[49m\n\u001b[1;32m   1710\u001b[0m \u001b[43m    \u001b[49m\u001b[43mmemory_map\u001b[49m\u001b[38;5;241;43m=\u001b[39;49m\u001b[38;5;28;43mself\u001b[39;49m\u001b[38;5;241;43m.\u001b[39;49m\u001b[43moptions\u001b[49m\u001b[38;5;241;43m.\u001b[39;49m\u001b[43mget\u001b[49m\u001b[43m(\u001b[49m\u001b[38;5;124;43m\"\u001b[39;49m\u001b[38;5;124;43mmemory_map\u001b[39;49m\u001b[38;5;124;43m\"\u001b[39;49m\u001b[43m,\u001b[49m\u001b[43m \u001b[49m\u001b[38;5;28;43;01mFalse\u001b[39;49;00m\u001b[43m)\u001b[49m\u001b[43m,\u001b[49m\n\u001b[1;32m   1711\u001b[0m \u001b[43m    \u001b[49m\u001b[43mis_text\u001b[49m\u001b[38;5;241;43m=\u001b[39;49m\u001b[43mis_text\u001b[49m\u001b[43m,\u001b[49m\n\u001b[1;32m   1712\u001b[0m \u001b[43m    \u001b[49m\u001b[43merrors\u001b[49m\u001b[38;5;241;43m=\u001b[39;49m\u001b[38;5;28;43mself\u001b[39;49m\u001b[38;5;241;43m.\u001b[39;49m\u001b[43moptions\u001b[49m\u001b[38;5;241;43m.\u001b[39;49m\u001b[43mget\u001b[49m\u001b[43m(\u001b[49m\u001b[38;5;124;43m\"\u001b[39;49m\u001b[38;5;124;43mencoding_errors\u001b[39;49m\u001b[38;5;124;43m\"\u001b[39;49m\u001b[43m,\u001b[49m\u001b[43m \u001b[49m\u001b[38;5;124;43m\"\u001b[39;49m\u001b[38;5;124;43mstrict\u001b[39;49m\u001b[38;5;124;43m\"\u001b[39;49m\u001b[43m)\u001b[49m\u001b[43m,\u001b[49m\n\u001b[1;32m   1713\u001b[0m \u001b[43m    \u001b[49m\u001b[43mstorage_options\u001b[49m\u001b[38;5;241;43m=\u001b[39;49m\u001b[38;5;28;43mself\u001b[39;49m\u001b[38;5;241;43m.\u001b[39;49m\u001b[43moptions\u001b[49m\u001b[38;5;241;43m.\u001b[39;49m\u001b[43mget\u001b[49m\u001b[43m(\u001b[49m\u001b[38;5;124;43m\"\u001b[39;49m\u001b[38;5;124;43mstorage_options\u001b[39;49m\u001b[38;5;124;43m\"\u001b[39;49m\u001b[43m,\u001b[49m\u001b[43m \u001b[49m\u001b[38;5;28;43;01mNone\u001b[39;49;00m\u001b[43m)\u001b[49m\u001b[43m,\u001b[49m\n\u001b[1;32m   1714\u001b[0m \u001b[43m\u001b[49m\u001b[43m)\u001b[49m\n\u001b[1;32m   1715\u001b[0m \u001b[38;5;28;01massert\u001b[39;00m \u001b[38;5;28mself\u001b[39m\u001b[38;5;241m.\u001b[39mhandles \u001b[38;5;129;01mis\u001b[39;00m \u001b[38;5;129;01mnot\u001b[39;00m \u001b[38;5;28;01mNone\u001b[39;00m\n\u001b[1;32m   1716\u001b[0m f \u001b[38;5;241m=\u001b[39m \u001b[38;5;28mself\u001b[39m\u001b[38;5;241m.\u001b[39mhandles\u001b[38;5;241m.\u001b[39mhandle\n",
      "File \u001b[0;32m~/.conda/envs/myenv/lib/python3.12/site-packages/pandas/io/common.py:863\u001b[0m, in \u001b[0;36mget_handle\u001b[0;34m(path_or_buf, mode, encoding, compression, memory_map, is_text, errors, storage_options)\u001b[0m\n\u001b[1;32m    858\u001b[0m \u001b[38;5;28;01melif\u001b[39;00m \u001b[38;5;28misinstance\u001b[39m(handle, \u001b[38;5;28mstr\u001b[39m):\n\u001b[1;32m    859\u001b[0m     \u001b[38;5;66;03m# Check whether the filename is to be opened in binary mode.\u001b[39;00m\n\u001b[1;32m    860\u001b[0m     \u001b[38;5;66;03m# Binary mode does not support 'encoding' and 'newline'.\u001b[39;00m\n\u001b[1;32m    861\u001b[0m     \u001b[38;5;28;01mif\u001b[39;00m ioargs\u001b[38;5;241m.\u001b[39mencoding \u001b[38;5;129;01mand\u001b[39;00m \u001b[38;5;124m\"\u001b[39m\u001b[38;5;124mb\u001b[39m\u001b[38;5;124m\"\u001b[39m \u001b[38;5;129;01mnot\u001b[39;00m \u001b[38;5;129;01min\u001b[39;00m ioargs\u001b[38;5;241m.\u001b[39mmode:\n\u001b[1;32m    862\u001b[0m         \u001b[38;5;66;03m# Encoding\u001b[39;00m\n\u001b[0;32m--> 863\u001b[0m         handle \u001b[38;5;241m=\u001b[39m \u001b[38;5;28;43mopen\u001b[39;49m\u001b[43m(\u001b[49m\n\u001b[1;32m    864\u001b[0m \u001b[43m            \u001b[49m\u001b[43mhandle\u001b[49m\u001b[43m,\u001b[49m\n\u001b[1;32m    865\u001b[0m \u001b[43m            \u001b[49m\u001b[43mioargs\u001b[49m\u001b[38;5;241;43m.\u001b[39;49m\u001b[43mmode\u001b[49m\u001b[43m,\u001b[49m\n\u001b[1;32m    866\u001b[0m \u001b[43m            \u001b[49m\u001b[43mencoding\u001b[49m\u001b[38;5;241;43m=\u001b[39;49m\u001b[43mioargs\u001b[49m\u001b[38;5;241;43m.\u001b[39;49m\u001b[43mencoding\u001b[49m\u001b[43m,\u001b[49m\n\u001b[1;32m    867\u001b[0m \u001b[43m            \u001b[49m\u001b[43merrors\u001b[49m\u001b[38;5;241;43m=\u001b[39;49m\u001b[43merrors\u001b[49m\u001b[43m,\u001b[49m\n\u001b[1;32m    868\u001b[0m \u001b[43m            \u001b[49m\u001b[43mnewline\u001b[49m\u001b[38;5;241;43m=\u001b[39;49m\u001b[38;5;124;43m\"\u001b[39;49m\u001b[38;5;124;43m\"\u001b[39;49m\u001b[43m,\u001b[49m\n\u001b[1;32m    869\u001b[0m \u001b[43m        \u001b[49m\u001b[43m)\u001b[49m\n\u001b[1;32m    870\u001b[0m     \u001b[38;5;28;01melse\u001b[39;00m:\n\u001b[1;32m    871\u001b[0m         \u001b[38;5;66;03m# Binary mode\u001b[39;00m\n\u001b[1;32m    872\u001b[0m         handle \u001b[38;5;241m=\u001b[39m \u001b[38;5;28mopen\u001b[39m(handle, ioargs\u001b[38;5;241m.\u001b[39mmode)\n",
      "\u001b[0;31mFileNotFoundError\u001b[0m: [Errno 2] No such file or directory: '/gpfs/gibbs/project/gillingham/rrn22/data/rlpolk_data/rlpolk_data_matched.csv'"
     ]
    }
   ],
   "source": [
    "rlpolk_matched = pd.read_csv(rlpolk_data_path / \"rlpolk_data_matched.csv\", index_col = [0])"
   ]
  },
  {
   "cell_type": "markdown",
   "id": "555a4c9c-6a8f-45d0-b827-8832034f3b5c",
   "metadata": {},
   "source": [
    "# Prepare Data"
   ]
  },
  {
   "cell_type": "code",
   "execution_count": 4,
   "id": "6fd0f198-7d00-4b1f-bb82-9bfe27cfc281",
   "metadata": {},
   "outputs": [],
   "source": [
    "# Create a function that determines the start and end of a financial year\n",
    "def get_fy(cy, month, startmonth = 10, endmonth = 9):\n",
    "    \"\"\"Input: Calendar Year and Month.\n",
    "    Output: Financial Year\n",
    "    Parameters: FY includes October 1 - September 30 the next year.\"\"\"\n",
    "    if (month<0) | (month>12):\n",
    "        return False\n",
    "    elif month>endmonth:\n",
    "        return cy+1\n",
    "    else:\n",
    "        return cy"
   ]
  },
  {
   "cell_type": "code",
   "execution_count": 5,
   "id": "cbe74e66-0286-4a41-872a-38450adf489a",
   "metadata": {},
   "outputs": [],
   "source": [
    "# Get the financial year for each entry\n",
    "rlpolk_matched[\"FY\"]=rlpolk_matched.apply(lambda x: get_fy(x.year, x.month), axis = 1)"
   ]
  },
  {
   "cell_type": "code",
   "execution_count": 6,
   "id": "7cdff913-bfa4-4843-b710-6d204f2b4b49",
   "metadata": {},
   "outputs": [],
   "source": [
    "# Create a list of all unique makes, models, and model years\n",
    "make_model_list = rlpolk_matched[\"Manufacturer Name\"] +\"_\"+ rlpolk_matched[\"Model\"]+\"_\"+rlpolk_matched[\"Model Year\"].astype(str)\n",
    "make_model_list = make_model_list.unique().tolist()\n",
    "\n",
    "# Create column\n",
    "rlpolk_matched[\"make_model_my\"] = rlpolk_matched[\"Manufacturer Name\"] +\"_\"+ rlpolk_matched[\"Model\"]+\"_\"+rlpolk_matched[\"Model Year\"].astype(str).str[0:4]\n",
    "\n",
    "# Extract EVs\n",
    "ev_make_model_list = rlpolk_matched[rlpolk_matched[\"Fuel Type - Primary\"]==\"Electric\"][\"make_model_my\"].unique().tolist()"
   ]
  },
  {
   "cell_type": "code",
   "execution_count": 7,
   "id": "db208178-8d33-4c59-8428-07b687693ccf",
   "metadata": {},
   "outputs": [],
   "source": [
    "# Create dataframe\n",
    "evs_combos = [[x,y]+[0]*12 for x in ev_make_model_list for y in [2018,2019,2020,2021,2022,2023]]\n",
    "months = [\"month_\"+str(x).zfill(2) for x in range(1,13)]\n",
    "base_df = pd.DataFrame(evs_combos, columns = [\"make_model_my\", \"fy\"]+months)\n",
    "\n",
    "# Simplify DF to speed it up\n",
    "rlpolk_filtered = rlpolk_matched[(rlpolk_matched[\"Fuel Type - Primary\"] == \"Electric\")]"
   ]
  },
  {
   "cell_type": "code",
   "execution_count": 278,
   "id": "bf24d4df-617f-447a-a860-5380576ad6f0",
   "metadata": {},
   "outputs": [
    {
     "name": "stderr",
     "output_type": "stream",
     "text": [
      "100%|██████████| 292/292 [02:18<00:00,  2.11it/s]\n"
     ]
    }
   ],
   "source": [
    "# Create DF\n",
    "for make_model_my in tqdm(ev_make_model_list):\n",
    "    for fy in [2018,2019,2020,2021,2022,2023]:\n",
    "        for month in months:\n",
    "            cond = (rlpolk_filtered[\"Fuel Type - Primary\"] == \"Electric\") &(rlpolk_filtered[\"make_model_my\"]==make_model_my) & (rlpolk_filtered[\"FY\"]==fy) & (rlpolk_filtered[\"month\"]==int(month[-2:]))\n",
    "            count = rlpolk_filtered[cond][\"VEH_COUNT\"].sum()\n",
    "            base_df.loc[(base_df[\"make_model_my\"]==make_model_my) &(base_df[\"fy\"]==fy), month] = count"
   ]
  },
  {
   "cell_type": "code",
   "execution_count": 150,
   "id": "427a3235-78e9-4daa-9149-68a494b99d45",
   "metadata": {},
   "outputs": [],
   "source": [
    "base_df.to_csv(rlpolk_data_path / \"my_fy_month_sales_table_11021400.csv\")"
   ]
  },
  {
   "cell_type": "code",
   "execution_count": 8,
   "id": "69ce989a-0614-42ad-99a5-bb1c20ce955c",
   "metadata": {},
   "outputs": [],
   "source": [
    "# Create percentage columns\n",
    "months_pct = [x+\"_pct\" for x in months]"
   ]
  },
  {
   "cell_type": "code",
   "execution_count": 9,
   "id": "027b7425-cf29-4470-969b-1a24bc135fca",
   "metadata": {},
   "outputs": [],
   "source": [
    "# Define a function to produce a percentage\n",
    "def get_pct(row):\n",
    "    try:\n",
    "        return row.iloc[2:14] / row.iloc[2:14].sum()\n",
    "    except:\n",
    "        return row.iloc[2:14] / 1"
   ]
  },
  {
   "cell_type": "code",
   "execution_count": 350,
   "id": "da163121-4acf-47cc-b2e2-212b184e0c79",
   "metadata": {},
   "outputs": [],
   "source": [
    "# Produce percentages and sums\n",
    "base_df[months_pct] = base_df.apply(lambda x: get_pct(x), axis =1)\n",
    "base_df[\"pct_sum\"] = base_df[months_pct].apply(lambda x: sum(x), axis = 1)\n",
    "base_df[\"nonzero\"] = base_df[months].apply(lambda x: sum(x)>0, axis = 1)"
   ]
  },
  {
   "cell_type": "code",
   "execution_count": 352,
   "id": "8eb9a29f-dd5e-4e19-86cc-53ac80751d43",
   "metadata": {},
   "outputs": [],
   "source": [
    "base_df.to_csv(rlpolk_data_path / \"my_fy_month_sales_table_11021400.csv\")"
   ]
  },
  {
   "cell_type": "code",
   "execution_count": 10,
   "id": "af9deff7-7d5a-40fe-ab66-f11ca2c2a36f",
   "metadata": {},
   "outputs": [],
   "source": [
    "base_df=pd.read_csv(rlpolk_data_path / \"my_fy_month_sales_table_11021400.csv\", index_col = [0])"
   ]
  },
  {
   "cell_type": "markdown",
   "id": "73f414fb-1a69-462b-a6c0-94bab2c5a3c5",
   "metadata": {},
   "source": [
    "# Attempt merging to municipal"
   ]
  },
  {
   "cell_type": "code",
   "execution_count": 11,
   "id": "0c850487-ff53-4c76-a3e7-0b0c3bf1bb3b",
   "metadata": {},
   "outputs": [],
   "source": [
    "municipal_evs = pd.read_csv(data_path / \"municipal_dataset_extracts\" / \"all_evs.csv\", index_col = [0])"
   ]
  },
  {
   "cell_type": "code",
   "execution_count": 12,
   "id": "94bd13c8-1572-4989-a8f9-b8690d0018a1",
   "metadata": {},
   "outputs": [],
   "source": [
    "# Create a financial year column\n",
    "municipal_evs[\"fy\"] = municipal_evs[\"record_from\"].apply(lambda x: int(\"20\"+re.split(\"\\\\.\", re.split(\"_ALTERED\", x)[0])[0][-2:]))\n",
    "\n",
    "# Create a make_model_my column\n",
    "municipal_evs[\"make_model_my\"] = municipal_evs[\"Manufacturer Name\"]+\"_\"+municipal_evs[\"Model\"]+\"_\"+municipal_evs[\"Model Year\"].astype(str).str[0:4]"
   ]
  },
  {
   "cell_type": "code",
   "execution_count": 92,
   "id": "02192275-0f9b-44bf-aa2c-5d4cc54cbdfd",
   "metadata": {},
   "outputs": [],
   "source": [
    "# Create a function to get the most probable month\n",
    "def get_most_probable_month(fy, make_model_my, lookup_table, kept = True):\n",
    "    \"\"\"Inputs: \n",
    "    - Financial Year (integer)\n",
    "    - make_model_my (string)\n",
    "    - lookup table with at least the following columns\n",
    "        - fy\n",
    "        - make_model_my\n",
    "        - month_01 --> month_12\n",
    "        - month_01_pct --> month_12_pct\n",
    "        - For each make_model_fy, all fys are available, even if 0\n",
    "    Outputs: a randomly chosen month, or one chosen from the given distribution\"\"\"\n",
    "\n",
    "    # Set the conditions\n",
    "    cond_fy = lookup_table[\"fy\"] == fy\n",
    "    cond_make_model_my = lookup_table[\"make_model_my\"] == make_model_my\n",
    "\n",
    "    # First get all rows for same make model and year\n",
    "    filtered_make_model_my = lookup_table[cond_make_model_my]\n",
    "\n",
    "    # Then further filter to get fy\n",
    "    filtered = filtered_make_model_my.loc[cond_fy].reset_index(drop=True)\n",
    "\n",
    "    if (len(filtered_make_model_my) == 0):\n",
    "        # The model_make_my is not present in the dataset - it's a different model not in the RLPolk dataset\n",
    "        \n",
    "        # Attempt a closest match\n",
    "        try:\n",
    "            poss_matches = difflib.get_close_matches(make_model_my, ev_make_model_list)\n",
    "\n",
    "            # If we get at least one match, then uise it \n",
    "            if len(poss_matches) > 0:\n",
    "                return get_most_probable_month(fy, poss_matches[0], lookup_table, kept = False)\n",
    "    \n",
    "            # If no close match is found, just do random\n",
    "            else: \n",
    "                month = np.random.choice(np.arange(0,12), p=[1/12]*12)\n",
    "                how = \"random\"\n",
    "        except:\n",
    "            # If for some reason there's an error, return random\n",
    "            month = np.random.choice(np.arange(0,12), p=[1/12]*12)\n",
    "            how = \"random\"\n",
    "    \n",
    "        \n",
    "        \n",
    "    elif filtered.loc[0, \"nonzero\"]:\n",
    "        # The year has a distribution in it - we choose from that year\n",
    "        distribution = filtered.loc[0, months_pct].tolist()\n",
    "        month = np.random.choice(np.arange(0,12), p = distribution)\n",
    "        how = \"distribution\"\n",
    "        \n",
    "    else:\n",
    "        # The year doesn't have a distributuon, but another one does\n",
    "        filtered = filtered_make_model_my[filtered_make_model_my[\"nonzero\"]].reset_index(drop=True).iloc[0,:]\n",
    "        distribution = filtered.loc[months_pct].tolist()\n",
    "        month = np.random.choice(np.arange(0,12), p = distribution)\n",
    "        how = \"distribution\"\n",
    "        \n",
    "    return pd.Series([month, how, make_model_my, kept])"
   ]
  },
  {
   "cell_type": "markdown",
   "id": "a1d485f8-d20c-4078-b7d8-22622b795926",
   "metadata": {},
   "source": [
    "## Test"
   ]
  },
  {
   "cell_type": "code",
   "execution_count": 42,
   "id": "74942cf7-e59f-43b0-8a1a-fd15b0fa49a6",
   "metadata": {},
   "outputs": [],
   "source": [
    "# Test this with a subset\n",
    "test_subset = municipal_evs[municipal_evs[\"Fuel Type - Primary\"]==\"Electric\"].iloc[0:10]"
   ]
  },
  {
   "cell_type": "code",
   "execution_count": 35,
   "id": "0ec01fce-af32-4bef-8441-2654a2d2185f",
   "metadata": {},
   "outputs": [],
   "source": [
    "cols = [\"allocated_month\", \"allocation_method\"]"
   ]
  },
  {
   "cell_type": "code",
   "execution_count": 87,
   "id": "7fc7c754-475f-4701-a637-05f1b2cb903d",
   "metadata": {},
   "outputs": [],
   "source": [
    "test_subset[[\"allocated_month\", \"allocation_method\", \"matched_make_model_my\", \"kept\"]] = test_subset.apply(lambda x: get_most_probable_month(x.fy, x.make_model_my, base_df), axis = 1)"
   ]
  },
  {
   "cell_type": "code",
   "execution_count": 88,
   "id": "c804c90f-2275-4e22-8a81-da76292530c5",
   "metadata": {},
   "outputs": [
    {
     "data": {
      "text/html": [
       "<div>\n",
       "<style scoped>\n",
       "    .dataframe tbody tr th:only-of-type {\n",
       "        vertical-align: middle;\n",
       "    }\n",
       "\n",
       "    .dataframe tbody tr th {\n",
       "        vertical-align: top;\n",
       "    }\n",
       "\n",
       "    .dataframe thead th {\n",
       "        text-align: right;\n",
       "    }\n",
       "</style>\n",
       "<table border=\"1\" class=\"dataframe\">\n",
       "  <thead>\n",
       "    <tr style=\"text-align: right;\">\n",
       "      <th></th>\n",
       "      <th>record_from</th>\n",
       "      <th>name</th>\n",
       "      <th>street</th>\n",
       "      <th>city</th>\n",
       "      <th>state</th>\n",
       "      <th>zip</th>\n",
       "      <th>vehicle_year</th>\n",
       "      <th>vehicle_make</th>\n",
       "      <th>vehicle_model</th>\n",
       "      <th>vehicle_class</th>\n",
       "      <th>vehicle_id</th>\n",
       "      <th>zip_corrected</th>\n",
       "      <th>vin_corrected</th>\n",
       "      <th>Unnamed: 0</th>\n",
       "      <th>Manufacturer Name</th>\n",
       "      <th>Model</th>\n",
       "      <th>Model Year</th>\n",
       "      <th>Fuel Type - Primary</th>\n",
       "      <th>Electrification Level</th>\n",
       "      <th>fy</th>\n",
       "      <th>make_model_my</th>\n",
       "      <th>allocated_month</th>\n",
       "      <th>allocation_method</th>\n",
       "      <th>matched_make_model_my</th>\n",
       "      <th>kept</th>\n",
       "    </tr>\n",
       "  </thead>\n",
       "  <tbody>\n",
       "    <tr>\n",
       "      <th>0</th>\n",
       "      <td>126_Shelton_MV_21.xlsx</td>\n",
       "      <td>JACABACCI ROBERT</td>\n",
       "      <td>5 SHELVIEW DR</td>\n",
       "      <td>SHELTON</td>\n",
       "      <td>CT</td>\n",
       "      <td>06484</td>\n",
       "      <td>2018.0</td>\n",
       "      <td>CHEVR</td>\n",
       "      <td>VOLT LT</td>\n",
       "      <td>1.0</td>\n",
       "      <td>1G1RC6S53JU136992</td>\n",
       "      <td>6484.0</td>\n",
       "      <td>1G1RC6S5*JU</td>\n",
       "      <td>1030.0</td>\n",
       "      <td>GENERAL MOTORS LLC</td>\n",
       "      <td>Volt</td>\n",
       "      <td>2018.0</td>\n",
       "      <td>Electric</td>\n",
       "      <td>PHEV (Plug-in Hybrid Electric Vehicle)</td>\n",
       "      <td>2021</td>\n",
       "      <td>GENERAL MOTORS LLC_Volt_2018</td>\n",
       "      <td>6</td>\n",
       "      <td>distribution</td>\n",
       "      <td>GENERAL MOTORS LLC_Volt_2018</td>\n",
       "      <td>True</td>\n",
       "    </tr>\n",
       "    <tr>\n",
       "      <th>1</th>\n",
       "      <td>126_Shelton_MV_21.xlsx</td>\n",
       "      <td>JACKSON EILEEN M</td>\n",
       "      <td>212 FOX RUN</td>\n",
       "      <td>SHELTON</td>\n",
       "      <td>CT</td>\n",
       "      <td>06484</td>\n",
       "      <td>2014.0</td>\n",
       "      <td>TOYOT</td>\n",
       "      <td>PRIUS PL</td>\n",
       "      <td>1.0</td>\n",
       "      <td>JTDKN3DP6E3061619</td>\n",
       "      <td>6484.0</td>\n",
       "      <td>JTDKN3DP*E3</td>\n",
       "      <td>21233.0</td>\n",
       "      <td>TOYOTA MOTOR CORPORATION</td>\n",
       "      <td>Prius Plug-in</td>\n",
       "      <td>2014.0</td>\n",
       "      <td>Electric</td>\n",
       "      <td>PHEV (Plug-in Hybrid Electric Vehicle)</td>\n",
       "      <td>2021</td>\n",
       "      <td>TOYOTA MOTOR CORPORATION_Prius Plug-in_2014</td>\n",
       "      <td>4</td>\n",
       "      <td>distribution</td>\n",
       "      <td>TOYOTA MOTOR CORPORATION_Prius Prime_2021</td>\n",
       "      <td>False</td>\n",
       "    </tr>\n",
       "    <tr>\n",
       "      <th>2</th>\n",
       "      <td>126_Shelton_MV_21.xlsx</td>\n",
       "      <td>JP MORGAN CHASE BANK NA</td>\n",
       "      <td>P O BOX 901098</td>\n",
       "      <td>FORT WORTH</td>\n",
       "      <td>TX</td>\n",
       "      <td>76101</td>\n",
       "      <td>2020.0</td>\n",
       "      <td>LAND</td>\n",
       "      <td>RANGE RO</td>\n",
       "      <td>1.0</td>\n",
       "      <td>SALWR2RY6LA705798</td>\n",
       "      <td>76101.0</td>\n",
       "      <td>SALWR2RY*LA</td>\n",
       "      <td>49545.0</td>\n",
       "      <td>JAGUAR</td>\n",
       "      <td>Range Rover Sport</td>\n",
       "      <td>2020.0</td>\n",
       "      <td>Electric</td>\n",
       "      <td>PHEV (Plug-in Hybrid Electric Vehicle)</td>\n",
       "      <td>2021</td>\n",
       "      <td>JAGUAR_Range Rover Sport_2020</td>\n",
       "      <td>10</td>\n",
       "      <td>distribution</td>\n",
       "      <td>JAGUAR_Range Rover Sport_2020</td>\n",
       "      <td>True</td>\n",
       "    </tr>\n",
       "    <tr>\n",
       "      <th>3</th>\n",
       "      <td>126_Shelton_MV_21.xlsx</td>\n",
       "      <td>JP MORGAN CHASE BANK NA</td>\n",
       "      <td>P O BOX 901098</td>\n",
       "      <td>FORT WORTH</td>\n",
       "      <td>TX</td>\n",
       "      <td>76101</td>\n",
       "      <td>2020.0</td>\n",
       "      <td>JAGUA</td>\n",
       "      <td>I-PACE S</td>\n",
       "      <td>2.0</td>\n",
       "      <td>SADHB2S10L1F84906</td>\n",
       "      <td>76101.0</td>\n",
       "      <td>SADHB2S1*L1</td>\n",
       "      <td>42790.0</td>\n",
       "      <td>JAGUAR</td>\n",
       "      <td>I PACE S</td>\n",
       "      <td>2020.0</td>\n",
       "      <td>Electric</td>\n",
       "      <td>BEV (Battery Electric Vehicle)</td>\n",
       "      <td>2021</td>\n",
       "      <td>JAGUAR_I PACE S_2020</td>\n",
       "      <td>10</td>\n",
       "      <td>distribution</td>\n",
       "      <td>JAGUAR_I PACE S_2020</td>\n",
       "      <td>True</td>\n",
       "    </tr>\n",
       "    <tr>\n",
       "      <th>4</th>\n",
       "      <td>126_Shelton_MV_21.xlsx</td>\n",
       "      <td>KALMANIDIS NAZIKO M</td>\n",
       "      <td>124 WELLS VIEW RD</td>\n",
       "      <td>SHELTON</td>\n",
       "      <td>CT</td>\n",
       "      <td>06484</td>\n",
       "      <td>2019.0</td>\n",
       "      <td>TESLA</td>\n",
       "      <td>MODEL 3</td>\n",
       "      <td>1.0</td>\n",
       "      <td>5YJ3E1EB2KF421964</td>\n",
       "      <td>6484.0</td>\n",
       "      <td>5YJ3E1EB*KF</td>\n",
       "      <td>2432.0</td>\n",
       "      <td>TESLA, INC.</td>\n",
       "      <td>Model 3</td>\n",
       "      <td>2019.0</td>\n",
       "      <td>Electric</td>\n",
       "      <td>BEV (Battery Electric Vehicle)</td>\n",
       "      <td>2021</td>\n",
       "      <td>TESLA, INC._Model 3_2019</td>\n",
       "      <td>3</td>\n",
       "      <td>distribution</td>\n",
       "      <td>TESLA, INC._Model 3_2019</td>\n",
       "      <td>True</td>\n",
       "    </tr>\n",
       "    <tr>\n",
       "      <th>5</th>\n",
       "      <td>126_Shelton_MV_21.xlsx</td>\n",
       "      <td>KELKAR SWATI G</td>\n",
       "      <td>235 DEER RUN</td>\n",
       "      <td>SHELTON</td>\n",
       "      <td>CT</td>\n",
       "      <td>06484</td>\n",
       "      <td>2019.0</td>\n",
       "      <td>TESLA</td>\n",
       "      <td>MODEL 3</td>\n",
       "      <td>1.0</td>\n",
       "      <td>5YJ3E1EA0KF297863</td>\n",
       "      <td>6484.0</td>\n",
       "      <td>5YJ3E1EA*KF</td>\n",
       "      <td>1637.0</td>\n",
       "      <td>TESLA, INC.</td>\n",
       "      <td>Model 3</td>\n",
       "      <td>2019.0</td>\n",
       "      <td>Electric</td>\n",
       "      <td>BEV (Battery Electric Vehicle)</td>\n",
       "      <td>2021</td>\n",
       "      <td>TESLA, INC._Model 3_2019</td>\n",
       "      <td>6</td>\n",
       "      <td>distribution</td>\n",
       "      <td>TESLA, INC._Model 3_2019</td>\n",
       "      <td>True</td>\n",
       "    </tr>\n",
       "    <tr>\n",
       "      <th>6</th>\n",
       "      <td>126_Shelton_MV_21.xlsx</td>\n",
       "      <td>KENNEDY THOMAS J JR</td>\n",
       "      <td>37 TEN COAT LN</td>\n",
       "      <td>SHELTON</td>\n",
       "      <td>CT</td>\n",
       "      <td>06484</td>\n",
       "      <td>2017.0</td>\n",
       "      <td>FORD</td>\n",
       "      <td>FUSION S</td>\n",
       "      <td>1.0</td>\n",
       "      <td>3FA6P0PU3HR121606</td>\n",
       "      <td>6484.0</td>\n",
       "      <td>3FA6P0PU*HR</td>\n",
       "      <td>2593.0</td>\n",
       "      <td>FORD MOTOR COMPANY, MEXICO</td>\n",
       "      <td>Fusion</td>\n",
       "      <td>2017.0</td>\n",
       "      <td>Electric</td>\n",
       "      <td>PHEV (Plug-in Hybrid Electric Vehicle)</td>\n",
       "      <td>2021</td>\n",
       "      <td>FORD MOTOR COMPANY, MEXICO_Fusion_2017</td>\n",
       "      <td>0</td>\n",
       "      <td>distribution</td>\n",
       "      <td>FORD MOTOR COMPANY, MEXICO_Fusion_2017</td>\n",
       "      <td>True</td>\n",
       "    </tr>\n",
       "    <tr>\n",
       "      <th>7</th>\n",
       "      <td>126_Shelton_MV_21.xlsx</td>\n",
       "      <td>KHALIL ESSAM M</td>\n",
       "      <td>151 MEADOW ST</td>\n",
       "      <td>SHELTON</td>\n",
       "      <td>CT</td>\n",
       "      <td>06484</td>\n",
       "      <td>2021.0</td>\n",
       "      <td>TESLA</td>\n",
       "      <td>MODEL 3</td>\n",
       "      <td>1.0</td>\n",
       "      <td>5YJ3E1EB2MF849696</td>\n",
       "      <td>6484.0</td>\n",
       "      <td>5YJ3E1EB*MF</td>\n",
       "      <td>54685.0</td>\n",
       "      <td>TESLA, INC.</td>\n",
       "      <td>Model 3</td>\n",
       "      <td>2021.0</td>\n",
       "      <td>Electric</td>\n",
       "      <td>BEV (Battery Electric Vehicle)</td>\n",
       "      <td>2021</td>\n",
       "      <td>TESLA, INC._Model 3_2021</td>\n",
       "      <td>2</td>\n",
       "      <td>distribution</td>\n",
       "      <td>TESLA, INC._Model 3_2021</td>\n",
       "      <td>True</td>\n",
       "    </tr>\n",
       "    <tr>\n",
       "      <th>8</th>\n",
       "      <td>126_Shelton_MV_21.xlsx</td>\n",
       "      <td>KIRN STEVEN F</td>\n",
       "      <td>11 MEETING HOUSE LN</td>\n",
       "      <td>HUNTINGTON</td>\n",
       "      <td>CT</td>\n",
       "      <td>06484</td>\n",
       "      <td>2021.0</td>\n",
       "      <td>AUDI</td>\n",
       "      <td>E-TRON P</td>\n",
       "      <td>1.0</td>\n",
       "      <td>WA1VAAGE8MB004375</td>\n",
       "      <td>6484.0</td>\n",
       "      <td>WA1VAAGE*MB</td>\n",
       "      <td>1131.0</td>\n",
       "      <td>VOLKSWAGEN</td>\n",
       "      <td>e tron</td>\n",
       "      <td>2021.0</td>\n",
       "      <td>Electric</td>\n",
       "      <td>BEV (Battery Electric Vehicle)</td>\n",
       "      <td>2021</td>\n",
       "      <td>VOLKSWAGEN_e tron_2021</td>\n",
       "      <td>3</td>\n",
       "      <td>distribution</td>\n",
       "      <td>VOLKSWAGEN_e tron_2021</td>\n",
       "      <td>True</td>\n",
       "    </tr>\n",
       "    <tr>\n",
       "      <th>9</th>\n",
       "      <td>126_Shelton_MV_21.xlsx</td>\n",
       "      <td>KITCHENMAX LLC</td>\n",
       "      <td>22 FALMOUTH DR</td>\n",
       "      <td>SHELTON</td>\n",
       "      <td>CT</td>\n",
       "      <td>06484</td>\n",
       "      <td>2020.0</td>\n",
       "      <td>TESLA</td>\n",
       "      <td>MODEL X</td>\n",
       "      <td>3.0</td>\n",
       "      <td>5YJXCAE28LF298101</td>\n",
       "      <td>6484.0</td>\n",
       "      <td>5YJXCAE2*LF</td>\n",
       "      <td>61904.0</td>\n",
       "      <td>TESLA</td>\n",
       "      <td>Model X</td>\n",
       "      <td>2020.0</td>\n",
       "      <td>Electric</td>\n",
       "      <td>BEV (Battery Electric Vehicle)</td>\n",
       "      <td>2021</td>\n",
       "      <td>TESLA_Model X_2020</td>\n",
       "      <td>9</td>\n",
       "      <td>distribution</td>\n",
       "      <td>TESLA_Model X_2020</td>\n",
       "      <td>True</td>\n",
       "    </tr>\n",
       "  </tbody>\n",
       "</table>\n",
       "</div>"
      ],
      "text/plain": [
       "              record_from                                      name  \\\n",
       "0  126_Shelton_MV_21.xlsx  JACABACCI ROBERT                           \n",
       "1  126_Shelton_MV_21.xlsx  JACKSON EILEEN M                           \n",
       "2  126_Shelton_MV_21.xlsx  JP MORGAN CHASE BANK NA                    \n",
       "3  126_Shelton_MV_21.xlsx  JP MORGAN CHASE BANK NA                    \n",
       "4  126_Shelton_MV_21.xlsx  KALMANIDIS NAZIKO M                        \n",
       "5  126_Shelton_MV_21.xlsx  KELKAR SWATI G                             \n",
       "6  126_Shelton_MV_21.xlsx  KENNEDY THOMAS J JR                        \n",
       "7  126_Shelton_MV_21.xlsx  KHALIL ESSAM M                             \n",
       "8  126_Shelton_MV_21.xlsx  KIRN STEVEN F                              \n",
       "9  126_Shelton_MV_21.xlsx  KITCHENMAX LLC                             \n",
       "\n",
       "                           street                            city state  \\\n",
       "0  5 SHELVIEW DR                   SHELTON                           CT   \n",
       "1  212 FOX RUN                     SHELTON                           CT   \n",
       "2  P O BOX 901098                  FORT WORTH                        TX   \n",
       "3  P O BOX 901098                  FORT WORTH                        TX   \n",
       "4  124 WELLS VIEW RD               SHELTON                           CT   \n",
       "5  235 DEER RUN                    SHELTON                           CT   \n",
       "6  37 TEN COAT LN                  SHELTON                           CT   \n",
       "7  151 MEADOW ST                   SHELTON                           CT   \n",
       "8  11 MEETING HOUSE LN             HUNTINGTON                        CT   \n",
       "9  22 FALMOUTH DR                  SHELTON                           CT   \n",
       "\n",
       "     zip  vehicle_year vehicle_make vehicle_model vehicle_class  \\\n",
       "0  06484        2018.0        CHEVR      VOLT LT            1.0   \n",
       "1  06484        2014.0        TOYOT      PRIUS PL           1.0   \n",
       "2  76101        2020.0        LAND       RANGE RO           1.0   \n",
       "3  76101        2020.0        JAGUA      I-PACE S           2.0   \n",
       "4  06484        2019.0        TESLA      MODEL 3            1.0   \n",
       "5  06484        2019.0        TESLA      MODEL 3            1.0   \n",
       "6  06484        2017.0        FORD       FUSION S           1.0   \n",
       "7  06484        2021.0        TESLA      MODEL 3            1.0   \n",
       "8  06484        2021.0        AUDI       E-TRON P           1.0   \n",
       "9  06484        2020.0        TESLA      MODEL X            3.0   \n",
       "\n",
       "          vehicle_id zip_corrected vin_corrected  Unnamed: 0  \\\n",
       "0  1G1RC6S53JU136992        6484.0   1G1RC6S5*JU      1030.0   \n",
       "1  JTDKN3DP6E3061619        6484.0   JTDKN3DP*E3     21233.0   \n",
       "2  SALWR2RY6LA705798       76101.0   SALWR2RY*LA     49545.0   \n",
       "3  SADHB2S10L1F84906       76101.0   SADHB2S1*L1     42790.0   \n",
       "4  5YJ3E1EB2KF421964        6484.0   5YJ3E1EB*KF      2432.0   \n",
       "5  5YJ3E1EA0KF297863        6484.0   5YJ3E1EA*KF      1637.0   \n",
       "6  3FA6P0PU3HR121606        6484.0   3FA6P0PU*HR      2593.0   \n",
       "7  5YJ3E1EB2MF849696        6484.0   5YJ3E1EB*MF     54685.0   \n",
       "8  WA1VAAGE8MB004375        6484.0   WA1VAAGE*MB      1131.0   \n",
       "9  5YJXCAE28LF298101        6484.0   5YJXCAE2*LF     61904.0   \n",
       "\n",
       "            Manufacturer Name              Model  Model Year  \\\n",
       "0          GENERAL MOTORS LLC               Volt      2018.0   \n",
       "1    TOYOTA MOTOR CORPORATION      Prius Plug-in      2014.0   \n",
       "2                      JAGUAR  Range Rover Sport      2020.0   \n",
       "3                      JAGUAR           I PACE S      2020.0   \n",
       "4                 TESLA, INC.            Model 3      2019.0   \n",
       "5                 TESLA, INC.            Model 3      2019.0   \n",
       "6  FORD MOTOR COMPANY, MEXICO             Fusion      2017.0   \n",
       "7                 TESLA, INC.            Model 3      2021.0   \n",
       "8                  VOLKSWAGEN             e tron      2021.0   \n",
       "9                       TESLA            Model X      2020.0   \n",
       "\n",
       "  Fuel Type - Primary                   Electrification Level    fy  \\\n",
       "0            Electric  PHEV (Plug-in Hybrid Electric Vehicle)  2021   \n",
       "1            Electric  PHEV (Plug-in Hybrid Electric Vehicle)  2021   \n",
       "2            Electric  PHEV (Plug-in Hybrid Electric Vehicle)  2021   \n",
       "3            Electric          BEV (Battery Electric Vehicle)  2021   \n",
       "4            Electric          BEV (Battery Electric Vehicle)  2021   \n",
       "5            Electric          BEV (Battery Electric Vehicle)  2021   \n",
       "6            Electric  PHEV (Plug-in Hybrid Electric Vehicle)  2021   \n",
       "7            Electric          BEV (Battery Electric Vehicle)  2021   \n",
       "8            Electric          BEV (Battery Electric Vehicle)  2021   \n",
       "9            Electric          BEV (Battery Electric Vehicle)  2021   \n",
       "\n",
       "                                 make_model_my  allocated_month  \\\n",
       "0                 GENERAL MOTORS LLC_Volt_2018                6   \n",
       "1  TOYOTA MOTOR CORPORATION_Prius Plug-in_2014                4   \n",
       "2                JAGUAR_Range Rover Sport_2020               10   \n",
       "3                         JAGUAR_I PACE S_2020               10   \n",
       "4                     TESLA, INC._Model 3_2019                3   \n",
       "5                     TESLA, INC._Model 3_2019                6   \n",
       "6       FORD MOTOR COMPANY, MEXICO_Fusion_2017                0   \n",
       "7                     TESLA, INC._Model 3_2021                2   \n",
       "8                       VOLKSWAGEN_e tron_2021                3   \n",
       "9                           TESLA_Model X_2020                9   \n",
       "\n",
       "  allocation_method                      matched_make_model_my   kept  \n",
       "0      distribution               GENERAL MOTORS LLC_Volt_2018   True  \n",
       "1      distribution  TOYOTA MOTOR CORPORATION_Prius Prime_2021  False  \n",
       "2      distribution              JAGUAR_Range Rover Sport_2020   True  \n",
       "3      distribution                       JAGUAR_I PACE S_2020   True  \n",
       "4      distribution                   TESLA, INC._Model 3_2019   True  \n",
       "5      distribution                   TESLA, INC._Model 3_2019   True  \n",
       "6      distribution     FORD MOTOR COMPANY, MEXICO_Fusion_2017   True  \n",
       "7      distribution                   TESLA, INC._Model 3_2021   True  \n",
       "8      distribution                     VOLKSWAGEN_e tron_2021   True  \n",
       "9      distribution                         TESLA_Model X_2020   True  "
      ]
     },
     "execution_count": 88,
     "metadata": {},
     "output_type": "execute_result"
    }
   ],
   "source": [
    "test_subset"
   ]
  },
  {
   "cell_type": "code",
   "execution_count": 19,
   "id": "6277bdfb-327f-41a2-b646-0fad17f0694d",
   "metadata": {},
   "outputs": [
    {
     "data": {
      "text/plain": [
       "[3, 'distribution']"
      ]
     },
     "execution_count": 19,
     "metadata": {},
     "output_type": "execute_result"
    }
   ],
   "source": [
    "get_most_probable_month(2021, \"GENERAL MOTORS LLC_Volt_2018\", base_df)"
   ]
  },
  {
   "cell_type": "markdown",
   "id": "29b129f4-60b2-4f27-b245-8a9dd0d21ec8",
   "metadata": {},
   "source": [
    "## Apply"
   ]
  },
  {
   "cell_type": "code",
   "execution_count": 91,
   "id": "1fa68f5a-68ef-47f6-8646-5bc01ac43de2",
   "metadata": {},
   "outputs": [],
   "source": [
    "# Apply\n",
    "municipal_evs[[\"allocated_month\", \"allocation_method\", \"matched_make_model_my\", \"kept\"]] = municipal_evs.apply(lambda x: get_most_probable_month(x.fy, x.make_model_my, base_df), axis = 1)"
   ]
  },
  {
   "cell_type": "code",
   "execution_count": 97,
   "id": "f7dc5d0d-a2a6-473d-a9f0-10adff892ed6",
   "metadata": {},
   "outputs": [],
   "source": [
    "municipal_evs.to_csv(data_path / \"municipal_dataset_extracts\" / \"muncipal_evs_month_distributed_11021540.csv\")"
   ]
  },
  {
   "cell_type": "markdown",
   "id": "b93204c3-d363-4cc3-a720-716a2a25fd65",
   "metadata": {},
   "source": [
    "## Check which didn't work"
   ]
  },
  {
   "cell_type": "markdown",
   "id": "8dce5e05-651d-4c56-bb70-0ca4e4826022",
   "metadata": {},
   "source": [
    "Our aim is to see whether this is called by slight errors in how things are written out..."
   ]
  },
  {
   "cell_type": "code",
   "execution_count": 93,
   "id": "2324630b-b9f0-44b4-87a1-f06ea4fadb42",
   "metadata": {},
   "outputs": [
    {
     "data": {
      "text/plain": [
       "array([nan], dtype=object)"
      ]
     },
     "execution_count": 93,
     "metadata": {},
     "output_type": "execute_result"
    }
   ],
   "source": [
    "# Check teslas\n",
    "unmatched_teslas = municipal_evs[(municipal_evs[\"allocation_method\"] != \"distribution\") & (municipal_evs[\"Manufacturer Name\"].str.contains(\"TESLA\"))]\n",
    "unmatched_teslas[\"make_model_my\"].unique()"
   ]
  },
  {
   "cell_type": "code",
   "execution_count": 64,
   "id": "ce69a72e-0ce3-42c2-ba7e-81364b9f02fb",
   "metadata": {
    "scrolled": true
   },
   "outputs": [
    {
     "data": {
      "text/plain": [
       "['TESLA, INC._Model 3_2022',\n",
       " 'TESLA, INC._Model 3_2023',\n",
       " 'TESLA_Model Y_2022',\n",
       " 'TESLA, INC._Model 3_2019',\n",
       " 'TESLA_Model X_2020']"
      ]
     },
     "execution_count": 64,
     "metadata": {},
     "output_type": "execute_result"
    }
   ],
   "source": [
    "# Check teslas in RLPolk\n",
    "rlpolk_teslas = [x for x in ev_make_model_list if \"TESLA\" in x]\n",
    "rlpolk_teslas[0:5]"
   ]
  },
  {
   "cell_type": "code",
   "execution_count": 71,
   "id": "3f3d6a05-c038-4d95-9e43-268fb3d68556",
   "metadata": {},
   "outputs": [
    {
     "data": {
      "text/plain": [
       "['TOYOTA MOTOR CORPORATION_Prius Prime_2021',\n",
       " 'TOYOTA MOTOR CORPORATION_Prius Prime_2019',\n",
       " 'TOYOTA MOTOR CORPORATION_Prius Prime_2018']"
      ]
     },
     "execution_count": 71,
     "metadata": {},
     "output_type": "execute_result"
    }
   ],
   "source": [
    "difflib.get_close_matches('TOYOTA MOTOR CORPORATION_Prius Plug-in_2014', ev_make_model_list)"
   ]
  },
  {
   "cell_type": "code",
   "execution_count": 81,
   "id": "23f4e780-d867-471b-b034-6f8f18bc440d",
   "metadata": {},
   "outputs": [
    {
     "data": {
      "text/plain": [
       "0                          10\n",
       "1                distribution\n",
       "2    TESLA, INC._Model S_2021\n",
       "3                       False\n",
       "dtype: object"
      ]
     },
     "execution_count": 81,
     "metadata": {},
     "output_type": "execute_result"
    }
   ],
   "source": [
    "get_most_probable_month(2021,'TESLA, INC._Model S_2016', base_df)"
   ]
  },
  {
   "cell_type": "markdown",
   "id": "c75d17d7-7b1a-4623-8b36-c3413993b403",
   "metadata": {},
   "source": [
    "Thus we see that the issue for teslas - even when we look at more of them - is that in the RLPolk Dataset we only find ones for which the model years are much newer...."
   ]
  }
 ],
 "metadata": {
  "kernelspec": {
   "display_name": "Python 3 (ipykernel)",
   "language": "python",
   "name": "python3"
  },
  "language_info": {
   "codemirror_mode": {
    "name": "ipython",
    "version": 3
   },
   "file_extension": ".py",
   "mimetype": "text/x-python",
   "name": "python",
   "nbconvert_exporter": "python",
   "pygments_lexer": "ipython3",
   "version": "3.12.0"
  }
 },
 "nbformat": 4,
 "nbformat_minor": 5
}
