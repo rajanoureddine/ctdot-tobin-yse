{
 "cells": [
  {
   "cell_type": "markdown",
   "id": "9277fee0",
   "metadata": {},
   "source": [
    "# Setup"
   ]
  },
  {
   "cell_type": "code",
   "execution_count": 2,
   "id": "8e77d18e",
   "metadata": {},
   "outputs": [],
   "source": [
    "import pathlib\n",
    "import pandas as pd\n",
    "import numpy as np\n",
    "from itertools import combinations\n",
    "import os\n",
    "from tqdm import tqdm\n",
    "import requests\n",
    "from datetime import datetime\n",
    "import geopandas as gpd\n",
    "import matplotlib.pyplot as plt"
   ]
  },
  {
   "cell_type": "code",
   "execution_count": 3,
   "id": "1adbb110",
   "metadata": {},
   "outputs": [],
   "source": [
    "path = pathlib.Path().resolve()"
   ]
  },
  {
   "cell_type": "markdown",
   "id": "595ce828",
   "metadata": {},
   "source": [
    "# 1. Prepare CT NV Registrations Data"
   ]
  },
  {
   "cell_type": "code",
   "execution_count": 43,
   "id": "5fa54a63",
   "metadata": {},
   "outputs": [],
   "source": [
    "ct_vin_data = pd.read_csv(path / \"ignored-data\" / \"US_Yale_University_OP0001562727_NV_CT_VIN_Prefix_202212.txt\", sep = '|')"
   ]
  },
  {
   "cell_type": "code",
   "execution_count": 44,
   "id": "df846dea",
   "metadata": {},
   "outputs": [
    {
     "data": {
      "text/plain": [
       "975076"
      ]
     },
     "execution_count": 44,
     "metadata": {},
     "output_type": "execute_result"
    }
   ],
   "source": [
    "ct_vin_data[\"VEH_COUNT\"].sum()"
   ]
  },
  {
   "cell_type": "markdown",
   "id": "38a64e27",
   "metadata": {},
   "source": [
    "## 1a. Initial Descriptives - CT NV Registration Data"
   ]
  },
  {
   "cell_type": "code",
   "execution_count": 18,
   "id": "c4056320",
   "metadata": {},
   "outputs": [
    {
     "name": "stdout",
     "output_type": "stream",
     "text": [
      "The data goes from 201801 to 202212\n"
     ]
    }
   ],
   "source": [
    "max_date = max(ct_vin_data[\"everREPORT_YEAR_MONTH\"])\n",
    "min_date = min(ct_vin_data[\"everREPORT_YEAR_MONTH\"])\n",
    "print(f\"The data goes from {min_date} to {max_date}\")"
   ]
  },
  {
   "cell_type": "code",
   "execution_count": 19,
   "id": "65774af9",
   "metadata": {},
   "outputs": [
    {
     "data": {
      "text/plain": [
       "924477"
      ]
     },
     "execution_count": 19,
     "metadata": {},
     "output_type": "execute_result"
    }
   ],
   "source": [
    "len(ct_vin_data)"
   ]
  },
  {
   "cell_type": "code",
   "execution_count": 84,
   "id": "59c8faa0",
   "metadata": {},
   "outputs": [
    {
     "data": {
      "text/plain": [
       "975076"
      ]
     },
     "execution_count": 84,
     "metadata": {},
     "output_type": "execute_result"
    }
   ],
   "source": [
    "ct_vin_data[\"VEH_COUNT\"].sum()"
   ]
  },
  {
   "cell_type": "markdown",
   "id": "17ffd947",
   "metadata": {},
   "source": [
    "Count how many cars sold in 2018"
   ]
  },
  {
   "cell_type": "code",
   "execution_count": 86,
   "id": "7c9826bf",
   "metadata": {},
   "outputs": [],
   "source": [
    "ct_vin_data[\"YEAR\"] = ct_vin_data[\"everREPORT_YEAR_MONTH\"].astype(str).str[:4]"
   ]
  },
  {
   "cell_type": "code",
   "execution_count": 110,
   "id": "0b5ce14f",
   "metadata": {},
   "outputs": [
    {
     "data": {
      "image/png": "[encoded data removed]",
      "text/plain": [
       "<Figure size 432x288 with 1 Axes>"
      ]
     },
     "metadata": {
      "needs_background": "light"
     },
     "output_type": "display_data"
    }
   ],
   "source": [
    "fig, ax = plt.subplots(nrows =1, ncols = 1)\n",
    "\n",
    "ax.bar(x = \"YEAR\",\n",
    "        height = \"VEH_COUNT\",\n",
    "        data = ct_vin_data[[\"YEAR\", \"VEH_COUNT\"]].groupby(\"YEAR\").sum().reset_index())\n",
    "\n",
    "fig.suptitle(\"CT New Vehicle Registrations by Year\")\n",
    "\n",
    "plt.show()"
   ]
  },
  {
   "cell_type": "markdown",
   "id": "86c9c56a",
   "metadata": {},
   "source": [
    "## 1b. Change VIN format to match with NHTSA"
   ]
  },
  {
   "cell_type": "code",
   "execution_count": 64,
   "id": "3c8f7cab",
   "metadata": {},
   "outputs": [
    {
     "data": {
      "text/html": [
       "<div>\n",
       "<style scoped>\n",
       "    .dataframe tbody tr th:only-of-type {\n",
       "        vertical-align: middle;\n",
       "    }\n",
       "\n",
       "    .dataframe tbody tr th {\n",
       "        vertical-align: top;\n",
       "    }\n",
       "\n",
       "    .dataframe thead th {\n",
       "        text-align: right;\n",
       "    }\n",
       "</style>\n",
       "<table border=\"1\" class=\"dataframe\">\n",
       "  <thead>\n",
       "    <tr style=\"text-align: right;\">\n",
       "      <th></th>\n",
       "      <th>everREPORT_YEAR_MONTH</th>\n",
       "      <th>MAKE</th>\n",
       "      <th>MODEL</th>\n",
       "      <th>MODEL_YEAR</th>\n",
       "      <th>TRANSACTION_PRICE</th>\n",
       "      <th>ZIP_CODE</th>\n",
       "      <th>VIN_PREFIX</th>\n",
       "      <th>COUNTY_NAME</th>\n",
       "      <th>STATE_ABBRV</th>\n",
       "      <th>VEH_COUNT</th>\n",
       "      <th>YEAR</th>\n",
       "    </tr>\n",
       "  </thead>\n",
       "  <tbody>\n",
       "    <tr>\n",
       "      <th>0</th>\n",
       "      <td>201909</td>\n",
       "      <td>HONDA</td>\n",
       "      <td>CR-V</td>\n",
       "      <td>2019</td>\n",
       "      <td>25750.0</td>\n",
       "      <td>6461</td>\n",
       "      <td>2HKRW6H39K</td>\n",
       "      <td>NEW HAVEN</td>\n",
       "      <td>CT</td>\n",
       "      <td>1</td>\n",
       "      <td>2019</td>\n",
       "    </tr>\n",
       "    <tr>\n",
       "      <th>1</th>\n",
       "      <td>201902</td>\n",
       "      <td>HONDA</td>\n",
       "      <td>CIVIC</td>\n",
       "      <td>2019</td>\n",
       "      <td>17522.0</td>\n",
       "      <td>6512</td>\n",
       "      <td>2HGFC2F65K</td>\n",
       "      <td>NEW HAVEN</td>\n",
       "      <td>CT</td>\n",
       "      <td>1</td>\n",
       "      <td>2019</td>\n",
       "    </tr>\n",
       "    <tr>\n",
       "      <th>2</th>\n",
       "      <td>201909</td>\n",
       "      <td>KIA</td>\n",
       "      <td>FORTE</td>\n",
       "      <td>2019</td>\n",
       "      <td>NaN</td>\n",
       "      <td>6078</td>\n",
       "      <td>3KPF24AD2K</td>\n",
       "      <td>HARTFORD</td>\n",
       "      <td>CT</td>\n",
       "      <td>1</td>\n",
       "      <td>2019</td>\n",
       "    </tr>\n",
       "    <tr>\n",
       "      <th>3</th>\n",
       "      <td>201911</td>\n",
       "      <td>LEXUS</td>\n",
       "      <td>RX</td>\n",
       "      <td>2020</td>\n",
       "      <td>55356.0</td>\n",
       "      <td>6037</td>\n",
       "      <td>2T2YGMDA2L</td>\n",
       "      <td>HARTFORD</td>\n",
       "      <td>CT</td>\n",
       "      <td>1</td>\n",
       "      <td>2019</td>\n",
       "    </tr>\n",
       "    <tr>\n",
       "      <th>4</th>\n",
       "      <td>201907</td>\n",
       "      <td>HONDA</td>\n",
       "      <td>CR-V</td>\n",
       "      <td>2019</td>\n",
       "      <td>25769.0</td>\n",
       "      <td>6084</td>\n",
       "      <td>2HKRW6H32K</td>\n",
       "      <td>TOLLAND</td>\n",
       "      <td>CT</td>\n",
       "      <td>1</td>\n",
       "      <td>2019</td>\n",
       "    </tr>\n",
       "  </tbody>\n",
       "</table>\n",
       "</div>"
      ],
      "text/plain": [
       "   everREPORT_YEAR_MONTH   MAKE  MODEL  MODEL_YEAR  TRANSACTION_PRICE  \\\n",
       "0                 201909  HONDA   CR-V        2019            25750.0   \n",
       "1                 201902  HONDA  CIVIC        2019            17522.0   \n",
       "2                 201909    KIA  FORTE        2019                NaN   \n",
       "3                 201911  LEXUS     RX        2020            55356.0   \n",
       "4                 201907  HONDA   CR-V        2019            25769.0   \n",
       "\n",
       "   ZIP_CODE  VIN_PREFIX COUNTY_NAME STATE_ABBRV  VEH_COUNT  YEAR  \n",
       "0      6461  2HKRW6H39K   NEW HAVEN          CT          1  2019  \n",
       "1      6512  2HGFC2F65K   NEW HAVEN          CT          1  2019  \n",
       "2      6078  3KPF24AD2K    HARTFORD          CT          1  2019  \n",
       "3      6037  2T2YGMDA2L    HARTFORD          CT          1  2019  \n",
       "4      6084  2HKRW6H32K     TOLLAND          CT          1  2019  "
      ]
     },
     "execution_count": 64,
     "metadata": {},
     "output_type": "execute_result"
    }
   ],
   "source": [
    "ct_vin_data.head()"
   ]
  },
  {
   "cell_type": "code",
   "execution_count": 139,
   "id": "8209a6b0",
   "metadata": {},
   "outputs": [],
   "source": [
    "ct_vin_data[\"VIN_PREFIX_NEW\"] = ct_vin_data[\"VIN_PREFIX\"].str[0:8]+\"*\"+ct_vin_data[\"VIN_PREFIX\"].str[9:10]"
   ]
  },
  {
   "cell_type": "markdown",
   "id": "a5240f7b",
   "metadata": {},
   "source": [
    "# 2. Prepare NHTSA VIN dataset"
   ]
  },
  {
   "cell_type": "code",
   "execution_count": 129,
   "id": "33406f9e",
   "metadata": {},
   "outputs": [
    {
     "name": "stderr",
     "output_type": "stream",
     "text": [
      "C:\\Users\\rajan\\AppData\\Local\\Temp\\ipykernel_4236\\1854640047.py:1: DtypeWarning: Columns (7,9,10,13,20,25,30,34,42,44,56,58,68,78,80,114,115,138,146) have mixed types. Specify dtype option on import or set low_memory=False.\n",
      "  nhtsa_cleaned  = pd.read_csv(path / \"ignored-data\" / \"NHTSA_cleaned.csv\")\n"
     ]
    }
   ],
   "source": [
    "nhtsa_cleaned  = pd.read_csv(path / \"ignored-data\" / \"NHTSA_cleaned.csv\")"
   ]
  },
  {
   "cell_type": "code",
   "execution_count": 113,
   "id": "db4ae4b0",
   "metadata": {},
   "outputs": [
    {
     "data": {
      "text/plain": [
       "72136"
      ]
     },
     "execution_count": 113,
     "metadata": {},
     "output_type": "execute_result"
    }
   ],
   "source": [
    "len(nhtsa_cleaned)"
   ]
  },
  {
   "cell_type": "markdown",
   "id": "34d12621",
   "metadata": {},
   "source": [
    "Make the nhtsa code ready for matching (we need to drop the final character)."
   ]
  },
  {
   "cell_type": "code",
   "execution_count": 129,
   "id": "e0353b81",
   "metadata": {},
   "outputs": [],
   "source": [
    "pd.set_option('display.max_columns', None)"
   ]
  },
  {
   "cell_type": "code",
   "execution_count": 131,
   "id": "cedcffc4",
   "metadata": {},
   "outputs": [
    {
     "data": {
      "text/html": [
       "<div>\n",
       "<style scoped>\n",
       "    .dataframe tbody tr th:only-of-type {\n",
       "        vertical-align: middle;\n",
       "    }\n",
       "\n",
       "    .dataframe tbody tr th {\n",
       "        vertical-align: top;\n",
       "    }\n",
       "\n",
       "    .dataframe thead th {\n",
       "        text-align: right;\n",
       "    }\n",
       "</style>\n",
       "<table border=\"1\" class=\"dataframe\">\n",
       "  <thead>\n",
       "    <tr style=\"text-align: right;\">\n",
       "      <th></th>\n",
       "      <th>vin_row_start</th>\n",
       "      <th>ABS</th>\n",
       "      <th>ActiveSafetySysNote</th>\n",
       "      <th>AdaptiveCruiseControl</th>\n",
       "      <th>AdaptiveDrivingBeam</th>\n",
       "      <th>AdaptiveHeadlights</th>\n",
       "      <th>AdditionalErrorText</th>\n",
       "      <th>AirBagLocCurtain</th>\n",
       "      <th>AirBagLocFront</th>\n",
       "      <th>AirBagLocKnee</th>\n",
       "      <th>AirBagLocSeatCushion</th>\n",
       "      <th>AirBagLocSide</th>\n",
       "      <th>AutoReverseSystem</th>\n",
       "      <th>AutomaticPedestrianAlertingSound</th>\n",
       "      <th>AxleConfiguration</th>\n",
       "      <th>Axles</th>\n",
       "      <th>BasePrice</th>\n",
       "      <th>BatteryA</th>\n",
       "      <th>BatteryA_to</th>\n",
       "      <th>BatteryCells</th>\n",
       "      <th>BatteryInfo</th>\n",
       "      <th>BatteryKWh</th>\n",
       "      <th>BatteryKWh_to</th>\n",
       "      <th>BatteryModules</th>\n",
       "      <th>BatteryPacks</th>\n",
       "      <th>BatteryType</th>\n",
       "      <th>BatteryV</th>\n",
       "      <th>BatteryV_to</th>\n",
       "      <th>BedLengthIN</th>\n",
       "      <th>BedType</th>\n",
       "      <th>BlindSpotIntervention</th>\n",
       "      <th>BlindSpotMon</th>\n",
       "      <th>BodyCabType</th>\n",
       "      <th>BodyClass</th>\n",
       "      <th>BrakeSystemDesc</th>\n",
       "      <th>BrakeSystemType</th>\n",
       "      <th>BusFloorConfigType</th>\n",
       "      <th>BusLength</th>\n",
       "      <th>BusType</th>\n",
       "      <th>CAN_AACN</th>\n",
       "      <th>CIB</th>\n",
       "      <th>CashForClunkers</th>\n",
       "      <th>ChargerLevel</th>\n",
       "      <th>ChargerPowerKW</th>\n",
       "      <th>CoolingType</th>\n",
       "      <th>CurbWeightLB</th>\n",
       "      <th>CustomMotorcycleType</th>\n",
       "      <th>DaytimeRunningLight</th>\n",
       "      <th>DestinationMarket</th>\n",
       "      <th>DisplacementCC</th>\n",
       "      <th>DisplacementCI</th>\n",
       "      <th>DisplacementL</th>\n",
       "      <th>Doors</th>\n",
       "      <th>DriveType</th>\n",
       "      <th>DriverAssist</th>\n",
       "      <th>DynamicBrakeSupport</th>\n",
       "      <th>EDR</th>\n",
       "      <th>ESC</th>\n",
       "      <th>EVDriveUnit</th>\n",
       "      <th>ElectrificationLevel</th>\n",
       "      <th>EngineConfiguration</th>\n",
       "      <th>EngineCycles</th>\n",
       "      <th>EngineCylinders</th>\n",
       "      <th>EngineHP</th>\n",
       "      <th>EngineHP_to</th>\n",
       "      <th>EngineKW</th>\n",
       "      <th>EngineManufacturer</th>\n",
       "      <th>EngineModel</th>\n",
       "      <th>EntertainmentSystem</th>\n",
       "      <th>ErrorCode</th>\n",
       "      <th>ErrorText</th>\n",
       "      <th>ForwardCollisionWarning</th>\n",
       "      <th>FuelInjectionType</th>\n",
       "      <th>FuelTypePrimary</th>\n",
       "      <th>FuelTypeSecondary</th>\n",
       "      <th>GCWR</th>\n",
       "      <th>GCWR_to</th>\n",
       "      <th>GVWR</th>\n",
       "      <th>GVWR_to</th>\n",
       "      <th>KeylessIgnition</th>\n",
       "      <th>LaneCenteringAssistance</th>\n",
       "      <th>LaneDepartureWarning</th>\n",
       "      <th>LaneKeepSystem</th>\n",
       "      <th>LowerBeamHeadlampLightSource</th>\n",
       "      <th>Make</th>\n",
       "      <th>MakeID</th>\n",
       "      <th>Manufacturer</th>\n",
       "      <th>ManufacturerId</th>\n",
       "      <th>Model</th>\n",
       "      <th>ModelID</th>\n",
       "      <th>ModelYear</th>\n",
       "      <th>MotorcycleChassisType</th>\n",
       "      <th>MotorcycleSuspensionType</th>\n",
       "      <th>NCSABodyType</th>\n",
       "      <th>NCSAMake</th>\n",
       "      <th>NCSAMapExcApprovedBy</th>\n",
       "      <th>NCSAMapExcApprovedOn</th>\n",
       "      <th>NCSAMappingException</th>\n",
       "      <th>NCSAModel</th>\n",
       "      <th>NCSANote</th>\n",
       "      <th>NonLandUse</th>\n",
       "      <th>Note</th>\n",
       "      <th>OtherBusInfo</th>\n",
       "      <th>OtherEngineInfo</th>\n",
       "      <th>OtherMotorcycleInfo</th>\n",
       "      <th>OtherRestraintSystemInfo</th>\n",
       "      <th>OtherTrailerInfo</th>\n",
       "      <th>ParkAssist</th>\n",
       "      <th>PedestrianAutomaticEmergencyBraking</th>\n",
       "      <th>PlantCity</th>\n",
       "      <th>PlantCompanyName</th>\n",
       "      <th>PlantCountry</th>\n",
       "      <th>PlantState</th>\n",
       "      <th>PossibleValues</th>\n",
       "      <th>Pretensioner</th>\n",
       "      <th>RearAutomaticEmergencyBraking</th>\n",
       "      <th>RearCrossTrafficAlert</th>\n",
       "      <th>RearVisibilitySystem</th>\n",
       "      <th>SAEAutomationLevel</th>\n",
       "      <th>SAEAutomationLevel_to</th>\n",
       "      <th>SeatBeltsAll</th>\n",
       "      <th>SeatRows</th>\n",
       "      <th>Seats</th>\n",
       "      <th>SemiautomaticHeadlampBeamSwitching</th>\n",
       "      <th>Series</th>\n",
       "      <th>Series2</th>\n",
       "      <th>SteeringLocation</th>\n",
       "      <th>SuggestedVIN</th>\n",
       "      <th>TPMS</th>\n",
       "      <th>TopSpeedMPH</th>\n",
       "      <th>TrackWidth</th>\n",
       "      <th>TractionControl</th>\n",
       "      <th>TrailerBodyType</th>\n",
       "      <th>TrailerLength</th>\n",
       "      <th>TrailerType</th>\n",
       "      <th>TransmissionSpeeds</th>\n",
       "      <th>TransmissionStyle</th>\n",
       "      <th>Trim</th>\n",
       "      <th>Trim2</th>\n",
       "      <th>Turbo</th>\n",
       "      <th>VIN</th>\n",
       "      <th>ValveTrainDesign</th>\n",
       "      <th>VehicleDescriptor</th>\n",
       "      <th>VehicleType</th>\n",
       "      <th>WheelBaseLong</th>\n",
       "      <th>WheelBaseShort</th>\n",
       "      <th>WheelBaseType</th>\n",
       "      <th>WheelSizeFront</th>\n",
       "      <th>WheelSizeRear</th>\n",
       "      <th>Wheels</th>\n",
       "      <th>Windows</th>\n",
       "      <th>CAid</th>\n",
       "      <th>EPAid</th>\n",
       "    </tr>\n",
       "  </thead>\n",
       "  <tbody>\n",
       "    <tr>\n",
       "      <th>38636</th>\n",
       "      <td>84501</td>\n",
       "      <td>Standard</td>\n",
       "      <td>NaN</td>\n",
       "      <td>NaN</td>\n",
       "      <td>NaN</td>\n",
       "      <td>NaN</td>\n",
       "      <td>NaN</td>\n",
       "      <td>1st and 2nd Rows</td>\n",
       "      <td>1st Row (Driver and Passenger)</td>\n",
       "      <td>NaN</td>\n",
       "      <td>NaN</td>\n",
       "      <td>1st Row (Driver and Passenger)</td>\n",
       "      <td>Standard</td>\n",
       "      <td>Standard</td>\n",
       "      <td>NaN</td>\n",
       "      <td>2.0</td>\n",
       "      <td>25750.0</td>\n",
       "      <td>NaN</td>\n",
       "      <td>NaN</td>\n",
       "      <td>NaN</td>\n",
       "      <td>NaN</td>\n",
       "      <td>NaN</td>\n",
       "      <td>NaN</td>\n",
       "      <td>NaN</td>\n",
       "      <td>NaN</td>\n",
       "      <td>NaN</td>\n",
       "      <td>NaN</td>\n",
       "      <td>NaN</td>\n",
       "      <td>NaN</td>\n",
       "      <td>NaN</td>\n",
       "      <td>NaN</td>\n",
       "      <td>NaN</td>\n",
       "      <td>NaN</td>\n",
       "      <td>Sport Utility Vehicle (SUV)/Multi-Purpose Vehi...</td>\n",
       "      <td>NaN</td>\n",
       "      <td>NaN</td>\n",
       "      <td>Not Applicable</td>\n",
       "      <td>NaN</td>\n",
       "      <td>Not Applicable</td>\n",
       "      <td>NaN</td>\n",
       "      <td>NaN</td>\n",
       "      <td>NaN</td>\n",
       "      <td>NaN</td>\n",
       "      <td>NaN</td>\n",
       "      <td>Water</td>\n",
       "      <td>NaN</td>\n",
       "      <td>Not Applicable</td>\n",
       "      <td>Standard</td>\n",
       "      <td>NaN</td>\n",
       "      <td>2400.0</td>\n",
       "      <td>146.456986</td>\n",
       "      <td>2.4</td>\n",
       "      <td>5.0</td>\n",
       "      <td>4WD</td>\n",
       "      <td>NaN</td>\n",
       "      <td>Standard</td>\n",
       "      <td>NaN</td>\n",
       "      <td>Standard</td>\n",
       "      <td>NaN</td>\n",
       "      <td>NaN</td>\n",
       "      <td>In-Line</td>\n",
       "      <td>4.0</td>\n",
       "      <td>4.0</td>\n",
       "      <td>184.0</td>\n",
       "      <td>NaN</td>\n",
       "      <td>137.2088</td>\n",
       "      <td>Honda</td>\n",
       "      <td>K24W9/K24V9</td>\n",
       "      <td>NaN</td>\n",
       "      <td>6</td>\n",
       "      <td>6 - Incomplete VIN</td>\n",
       "      <td>NaN</td>\n",
       "      <td>NaN</td>\n",
       "      <td>Gasoline</td>\n",
       "      <td>NaN</td>\n",
       "      <td>NaN</td>\n",
       "      <td>NaN</td>\n",
       "      <td>Class 1C: 4,001 - 5,000 lb (1,814 - 2,268 kg)</td>\n",
       "      <td>NaN</td>\n",
       "      <td>Standard</td>\n",
       "      <td>NaN</td>\n",
       "      <td>NaN</td>\n",
       "      <td>NaN</td>\n",
       "      <td>NaN</td>\n",
       "      <td>HONDA</td>\n",
       "      <td>474.0</td>\n",
       "      <td>HONDA</td>\n",
       "      <td>990</td>\n",
       "      <td>CR V</td>\n",
       "      <td>1865.0</td>\n",
       "      <td>2019</td>\n",
       "      <td>Not Applicable</td>\n",
       "      <td>Not Applicable</td>\n",
       "      <td>NaN</td>\n",
       "      <td>NaN</td>\n",
       "      <td>NaN</td>\n",
       "      <td>NaN</td>\n",
       "      <td>NaN</td>\n",
       "      <td>NaN</td>\n",
       "      <td>NaN</td>\n",
       "      <td>NaN</td>\n",
       "      <td>NaN</td>\n",
       "      <td>NaN</td>\n",
       "      <td>Direct Fuel Injection</td>\n",
       "      <td>NaN</td>\n",
       "      <td>seat belts: front, rear, rear center</td>\n",
       "      <td>NaN</td>\n",
       "      <td>NaN</td>\n",
       "      <td>NaN</td>\n",
       "      <td>ALLISTON</td>\n",
       "      <td>NaN</td>\n",
       "      <td>CANADA</td>\n",
       "      <td>ONTARIO</td>\n",
       "      <td>NaN</td>\n",
       "      <td>NaN</td>\n",
       "      <td>NaN</td>\n",
       "      <td>NaN</td>\n",
       "      <td>Standard</td>\n",
       "      <td>NaN</td>\n",
       "      <td>NaN</td>\n",
       "      <td>Manual</td>\n",
       "      <td>2.0</td>\n",
       "      <td>5.0</td>\n",
       "      <td>Standard</td>\n",
       "      <td>LX</td>\n",
       "      <td>NaN</td>\n",
       "      <td>Left-Hand Drive (LHD)</td>\n",
       "      <td>NaN</td>\n",
       "      <td>Direct</td>\n",
       "      <td>NaN</td>\n",
       "      <td>NaN</td>\n",
       "      <td>Standard</td>\n",
       "      <td>Not Applicable</td>\n",
       "      <td>NaN</td>\n",
       "      <td>Not Applicable</td>\n",
       "      <td>NaN</td>\n",
       "      <td>Continuously Variable Transmission (CVT)</td>\n",
       "      <td>NaN</td>\n",
       "      <td>NaN</td>\n",
       "      <td>NaN</td>\n",
       "      <td>2HKRW6H3*KH</td>\n",
       "      <td>Dual Overhead Cam (DOHC)</td>\n",
       "      <td>2HKRW6H3*KH</td>\n",
       "      <td>MULTIPURPOSE PASSENGER VEHICLE (MPV)</td>\n",
       "      <td>NaN</td>\n",
       "      <td>104.7</td>\n",
       "      <td>NaN</td>\n",
       "      <td>17.0</td>\n",
       "      <td>17.0</td>\n",
       "      <td>4.0</td>\n",
       "      <td>NaN</td>\n",
       "      <td>30301.0</td>\n",
       "      <td>11237.0</td>\n",
       "    </tr>\n",
       "    <tr>\n",
       "      <th>38637</th>\n",
       "      <td>84501</td>\n",
       "      <td>Standard</td>\n",
       "      <td>NaN</td>\n",
       "      <td>NaN</td>\n",
       "      <td>NaN</td>\n",
       "      <td>NaN</td>\n",
       "      <td>In the Possible values section, the Numeric va...</td>\n",
       "      <td>1st and 2nd Rows</td>\n",
       "      <td>1st Row (Driver and Passenger)</td>\n",
       "      <td>NaN</td>\n",
       "      <td>NaN</td>\n",
       "      <td>1st Row (Driver and Passenger)</td>\n",
       "      <td>Standard</td>\n",
       "      <td>Standard</td>\n",
       "      <td>NaN</td>\n",
       "      <td>2.0</td>\n",
       "      <td>25750.0</td>\n",
       "      <td>NaN</td>\n",
       "      <td>NaN</td>\n",
       "      <td>NaN</td>\n",
       "      <td>NaN</td>\n",
       "      <td>NaN</td>\n",
       "      <td>NaN</td>\n",
       "      <td>NaN</td>\n",
       "      <td>NaN</td>\n",
       "      <td>NaN</td>\n",
       "      <td>NaN</td>\n",
       "      <td>NaN</td>\n",
       "      <td>NaN</td>\n",
       "      <td>NaN</td>\n",
       "      <td>NaN</td>\n",
       "      <td>NaN</td>\n",
       "      <td>NaN</td>\n",
       "      <td>Sport Utility Vehicle (SUV)/Multi-Purpose Vehi...</td>\n",
       "      <td>NaN</td>\n",
       "      <td>NaN</td>\n",
       "      <td>Not Applicable</td>\n",
       "      <td>NaN</td>\n",
       "      <td>Not Applicable</td>\n",
       "      <td>NaN</td>\n",
       "      <td>NaN</td>\n",
       "      <td>NaN</td>\n",
       "      <td>NaN</td>\n",
       "      <td>NaN</td>\n",
       "      <td>Water</td>\n",
       "      <td>NaN</td>\n",
       "      <td>Not Applicable</td>\n",
       "      <td>Standard</td>\n",
       "      <td>NaN</td>\n",
       "      <td>2400.0</td>\n",
       "      <td>146.456986</td>\n",
       "      <td>2.4</td>\n",
       "      <td>5.0</td>\n",
       "      <td>4WD</td>\n",
       "      <td>NaN</td>\n",
       "      <td>Standard</td>\n",
       "      <td>NaN</td>\n",
       "      <td>Standard</td>\n",
       "      <td>NaN</td>\n",
       "      <td>NaN</td>\n",
       "      <td>In-Line</td>\n",
       "      <td>4.0</td>\n",
       "      <td>4.0</td>\n",
       "      <td>184.0</td>\n",
       "      <td>NaN</td>\n",
       "      <td>137.2088</td>\n",
       "      <td>Honda</td>\n",
       "      <td>K24W9/K24V9</td>\n",
       "      <td>NaN</td>\n",
       "      <td>4,6,14</td>\n",
       "      <td>4 - VIN corrected, error in one position only ...</td>\n",
       "      <td>NaN</td>\n",
       "      <td>NaN</td>\n",
       "      <td>Gasoline</td>\n",
       "      <td>NaN</td>\n",
       "      <td>NaN</td>\n",
       "      <td>NaN</td>\n",
       "      <td>Class 1C: 4,001 - 5,000 lb (1,814 - 2,268 kg)</td>\n",
       "      <td>NaN</td>\n",
       "      <td>Standard</td>\n",
       "      <td>NaN</td>\n",
       "      <td>NaN</td>\n",
       "      <td>NaN</td>\n",
       "      <td>NaN</td>\n",
       "      <td>HONDA</td>\n",
       "      <td>474.0</td>\n",
       "      <td>HONDA</td>\n",
       "      <td>990</td>\n",
       "      <td>CR V</td>\n",
       "      <td>1865.0</td>\n",
       "      <td>2019</td>\n",
       "      <td>Not Applicable</td>\n",
       "      <td>Not Applicable</td>\n",
       "      <td>NaN</td>\n",
       "      <td>NaN</td>\n",
       "      <td>NaN</td>\n",
       "      <td>NaN</td>\n",
       "      <td>NaN</td>\n",
       "      <td>NaN</td>\n",
       "      <td>NaN</td>\n",
       "      <td>NaN</td>\n",
       "      <td>NaN</td>\n",
       "      <td>NaN</td>\n",
       "      <td>Direct Fuel Injection</td>\n",
       "      <td>NaN</td>\n",
       "      <td>seat belts: front, rear, rear center</td>\n",
       "      <td>NaN</td>\n",
       "      <td>NaN</td>\n",
       "      <td>NaN</td>\n",
       "      <td>NaN</td>\n",
       "      <td>NaN</td>\n",
       "      <td>NaN</td>\n",
       "      <td>NaN</td>\n",
       "      <td>(11:ABCEGHLMSTUXY)</td>\n",
       "      <td>NaN</td>\n",
       "      <td>NaN</td>\n",
       "      <td>NaN</td>\n",
       "      <td>Standard</td>\n",
       "      <td>NaN</td>\n",
       "      <td>NaN</td>\n",
       "      <td>Manual</td>\n",
       "      <td>2.0</td>\n",
       "      <td>5.0</td>\n",
       "      <td>Standard</td>\n",
       "      <td>LX</td>\n",
       "      <td>NaN</td>\n",
       "      <td>Left-Hand Drive (LHD)</td>\n",
       "      <td>2HKRW6H3*K!</td>\n",
       "      <td>Direct</td>\n",
       "      <td>NaN</td>\n",
       "      <td>NaN</td>\n",
       "      <td>Standard</td>\n",
       "      <td>Not Applicable</td>\n",
       "      <td>NaN</td>\n",
       "      <td>Not Applicable</td>\n",
       "      <td>NaN</td>\n",
       "      <td>Continuously Variable Transmission (CVT)</td>\n",
       "      <td>NaN</td>\n",
       "      <td>NaN</td>\n",
       "      <td>NaN</td>\n",
       "      <td>2HKRW6H3*KN</td>\n",
       "      <td>Dual Overhead Cam (DOHC)</td>\n",
       "      <td>2HKRW6H3*KN</td>\n",
       "      <td>MULTIPURPOSE PASSENGER VEHICLE (MPV)</td>\n",
       "      <td>NaN</td>\n",
       "      <td>104.7</td>\n",
       "      <td>NaN</td>\n",
       "      <td>17.0</td>\n",
       "      <td>17.0</td>\n",
       "      <td>4.0</td>\n",
       "      <td>NaN</td>\n",
       "      <td>30301.0</td>\n",
       "      <td>11237.0</td>\n",
       "    </tr>\n",
       "  </tbody>\n",
       "</table>\n",
       "</div>"
      ],
      "text/plain": [
       "       vin_row_start       ABS ActiveSafetySysNote AdaptiveCruiseControl  \\\n",
       "38636          84501  Standard                 NaN                   NaN   \n",
       "38637          84501  Standard                 NaN                   NaN   \n",
       "\n",
       "      AdaptiveDrivingBeam  AdaptiveHeadlights  \\\n",
       "38636                 NaN                 NaN   \n",
       "38637                 NaN                 NaN   \n",
       "\n",
       "                                     AdditionalErrorText  AirBagLocCurtain  \\\n",
       "38636                                                NaN  1st and 2nd Rows   \n",
       "38637  In the Possible values section, the Numeric va...  1st and 2nd Rows   \n",
       "\n",
       "                       AirBagLocFront AirBagLocKnee AirBagLocSeatCushion  \\\n",
       "38636  1st Row (Driver and Passenger)           NaN                  NaN   \n",
       "38637  1st Row (Driver and Passenger)           NaN                  NaN   \n",
       "\n",
       "                        AirBagLocSide AutoReverseSystem  \\\n",
       "38636  1st Row (Driver and Passenger)          Standard   \n",
       "38637  1st Row (Driver and Passenger)          Standard   \n",
       "\n",
       "      AutomaticPedestrianAlertingSound  AxleConfiguration  Axles  BasePrice  \\\n",
       "38636                         Standard                NaN    2.0    25750.0   \n",
       "38637                         Standard                NaN    2.0    25750.0   \n",
       "\n",
       "       BatteryA  BatteryA_to  BatteryCells BatteryInfo  BatteryKWh  \\\n",
       "38636       NaN          NaN           NaN         NaN         NaN   \n",
       "38637       NaN          NaN           NaN         NaN         NaN   \n",
       "\n",
       "       BatteryKWh_to  BatteryModules  BatteryPacks BatteryType  BatteryV  \\\n",
       "38636            NaN             NaN           NaN         NaN       NaN   \n",
       "38637            NaN             NaN           NaN         NaN       NaN   \n",
       "\n",
       "       BatteryV_to  BedLengthIN BedType BlindSpotIntervention BlindSpotMon  \\\n",
       "38636          NaN          NaN     NaN                   NaN          NaN   \n",
       "38637          NaN          NaN     NaN                   NaN          NaN   \n",
       "\n",
       "      BodyCabType                                          BodyClass  \\\n",
       "38636         NaN  Sport Utility Vehicle (SUV)/Multi-Purpose Vehi...   \n",
       "38637         NaN  Sport Utility Vehicle (SUV)/Multi-Purpose Vehi...   \n",
       "\n",
       "      BrakeSystemDesc BrakeSystemType BusFloorConfigType  BusLength  \\\n",
       "38636             NaN             NaN     Not Applicable        NaN   \n",
       "38637             NaN             NaN     Not Applicable        NaN   \n",
       "\n",
       "              BusType CAN_AACN  CIB  CashForClunkers ChargerLevel  \\\n",
       "38636  Not Applicable      NaN  NaN              NaN          NaN   \n",
       "38637  Not Applicable      NaN  NaN              NaN          NaN   \n",
       "\n",
       "       ChargerPowerKW CoolingType  CurbWeightLB CustomMotorcycleType  \\\n",
       "38636             NaN       Water           NaN       Not Applicable   \n",
       "38637             NaN       Water           NaN       Not Applicable   \n",
       "\n",
       "      DaytimeRunningLight DestinationMarket  DisplacementCC  DisplacementCI  \\\n",
       "38636            Standard               NaN          2400.0      146.456986   \n",
       "38637            Standard               NaN          2400.0      146.456986   \n",
       "\n",
       "       DisplacementL  Doors DriveType  DriverAssist DynamicBrakeSupport  EDR  \\\n",
       "38636            2.4    5.0       4WD           NaN            Standard  NaN   \n",
       "38637            2.4    5.0       4WD           NaN            Standard  NaN   \n",
       "\n",
       "            ESC EVDriveUnit ElectrificationLevel EngineConfiguration  \\\n",
       "38636  Standard         NaN                  NaN             In-Line   \n",
       "38637  Standard         NaN                  NaN             In-Line   \n",
       "\n",
       "       EngineCycles  EngineCylinders  EngineHP  EngineHP_to  EngineKW  \\\n",
       "38636           4.0              4.0     184.0          NaN  137.2088   \n",
       "38637           4.0              4.0     184.0          NaN  137.2088   \n",
       "\n",
       "      EngineManufacturer  EngineModel EntertainmentSystem ErrorCode  \\\n",
       "38636              Honda  K24W9/K24V9                 NaN         6   \n",
       "38637              Honda  K24W9/K24V9                 NaN    4,6,14   \n",
       "\n",
       "                                               ErrorText  \\\n",
       "38636                                 6 - Incomplete VIN   \n",
       "38637  4 - VIN corrected, error in one position only ...   \n",
       "\n",
       "      ForwardCollisionWarning FuelInjectionType FuelTypePrimary  \\\n",
       "38636                     NaN               NaN        Gasoline   \n",
       "38637                     NaN               NaN        Gasoline   \n",
       "\n",
       "      FuelTypeSecondary  GCWR  GCWR_to  \\\n",
       "38636               NaN   NaN      NaN   \n",
       "38637               NaN   NaN      NaN   \n",
       "\n",
       "                                                GVWR GVWR_to KeylessIgnition  \\\n",
       "38636  Class 1C: 4,001 - 5,000 lb (1,814 - 2,268 kg)     NaN        Standard   \n",
       "38637  Class 1C: 4,001 - 5,000 lb (1,814 - 2,268 kg)     NaN        Standard   \n",
       "\n",
       "      LaneCenteringAssistance LaneDepartureWarning LaneKeepSystem  \\\n",
       "38636                     NaN                  NaN            NaN   \n",
       "38637                     NaN                  NaN            NaN   \n",
       "\n",
       "      LowerBeamHeadlampLightSource   Make  MakeID Manufacturer  \\\n",
       "38636                          NaN  HONDA   474.0        HONDA   \n",
       "38637                          NaN  HONDA   474.0        HONDA   \n",
       "\n",
       "       ManufacturerId Model  ModelID  ModelYear MotorcycleChassisType  \\\n",
       "38636             990  CR V   1865.0       2019        Not Applicable   \n",
       "38637             990  CR V   1865.0       2019        Not Applicable   \n",
       "\n",
       "      MotorcycleSuspensionType  NCSABodyType  NCSAMake  NCSAMapExcApprovedBy  \\\n",
       "38636           Not Applicable           NaN       NaN                   NaN   \n",
       "38637           Not Applicable           NaN       NaN                   NaN   \n",
       "\n",
       "       NCSAMapExcApprovedOn  NCSAMappingException  NCSAModel  NCSANote  \\\n",
       "38636                   NaN                   NaN        NaN       NaN   \n",
       "38637                   NaN                   NaN        NaN       NaN   \n",
       "\n",
       "       NonLandUse Note  OtherBusInfo        OtherEngineInfo  \\\n",
       "38636         NaN  NaN           NaN  Direct Fuel Injection   \n",
       "38637         NaN  NaN           NaN  Direct Fuel Injection   \n",
       "\n",
       "       OtherMotorcycleInfo              OtherRestraintSystemInfo  \\\n",
       "38636                  NaN  seat belts: front, rear, rear center   \n",
       "38637                  NaN  seat belts: front, rear, rear center   \n",
       "\n",
       "       OtherTrailerInfo ParkAssist PedestrianAutomaticEmergencyBraking  \\\n",
       "38636               NaN        NaN                                 NaN   \n",
       "38637               NaN        NaN                                 NaN   \n",
       "\n",
       "      PlantCity PlantCompanyName PlantCountry PlantState      PossibleValues  \\\n",
       "38636  ALLISTON              NaN       CANADA    ONTARIO                 NaN   \n",
       "38637       NaN              NaN          NaN        NaN  (11:ABCEGHLMSTUXY)   \n",
       "\n",
       "      Pretensioner RearAutomaticEmergencyBraking RearCrossTrafficAlert  \\\n",
       "38636          NaN                           NaN                   NaN   \n",
       "38637          NaN                           NaN                   NaN   \n",
       "\n",
       "      RearVisibilitySystem  SAEAutomationLevel  SAEAutomationLevel_to  \\\n",
       "38636             Standard                 NaN                    NaN   \n",
       "38637             Standard                 NaN                    NaN   \n",
       "\n",
       "      SeatBeltsAll  SeatRows  Seats SemiautomaticHeadlampBeamSwitching Series  \\\n",
       "38636       Manual       2.0    5.0                           Standard     LX   \n",
       "38637       Manual       2.0    5.0                           Standard     LX   \n",
       "\n",
       "      Series2       SteeringLocation SuggestedVIN    TPMS  TopSpeedMPH  \\\n",
       "38636     NaN  Left-Hand Drive (LHD)          NaN  Direct          NaN   \n",
       "38637     NaN  Left-Hand Drive (LHD)  2HKRW6H3*K!  Direct          NaN   \n",
       "\n",
       "       TrackWidth TractionControl TrailerBodyType  TrailerLength  \\\n",
       "38636         NaN        Standard  Not Applicable            NaN   \n",
       "38637         NaN        Standard  Not Applicable            NaN   \n",
       "\n",
       "          TrailerType  TransmissionSpeeds  \\\n",
       "38636  Not Applicable                 NaN   \n",
       "38637  Not Applicable                 NaN   \n",
       "\n",
       "                              TransmissionStyle Trim Trim2 Turbo          VIN  \\\n",
       "38636  Continuously Variable Transmission (CVT)  NaN   NaN   NaN  2HKRW6H3*KH   \n",
       "38637  Continuously Variable Transmission (CVT)  NaN   NaN   NaN  2HKRW6H3*KN   \n",
       "\n",
       "               ValveTrainDesign VehicleDescriptor  \\\n",
       "38636  Dual Overhead Cam (DOHC)       2HKRW6H3*KH   \n",
       "38637  Dual Overhead Cam (DOHC)       2HKRW6H3*KN   \n",
       "\n",
       "                                VehicleType  WheelBaseLong  WheelBaseShort  \\\n",
       "38636  MULTIPURPOSE PASSENGER VEHICLE (MPV)            NaN           104.7   \n",
       "38637  MULTIPURPOSE PASSENGER VEHICLE (MPV)            NaN           104.7   \n",
       "\n",
       "      WheelBaseType  WheelSizeFront  WheelSizeRear  Wheels  Windows     CAid  \\\n",
       "38636           NaN            17.0           17.0     4.0      NaN  30301.0   \n",
       "38637           NaN            17.0           17.0     4.0      NaN  30301.0   \n",
       "\n",
       "         EPAid  \n",
       "38636  11237.0  \n",
       "38637  11237.0  "
      ]
     },
     "execution_count": 131,
     "metadata": {},
     "output_type": "execute_result"
    }
   ],
   "source": [
    "# So here the issue was that there was an error with the VIN, that was then corrected.\n",
    "nhtsa_cleaned[nhtsa_cleaned[\"VIN\"].str[0:10]==\"2HKRW6H3*K\"]"
   ]
  },
  {
   "cell_type": "markdown",
   "id": "0bd9414b",
   "metadata": {},
   "source": [
    "***\n",
    "# Identify duplicate VINS in NHTSA dataset\n",
    "**Note:**\n",
    "* NHTSA uses the first 11 alpha-numerics with the check variable in the 9th place replaced by '\\*': ie ABCEDFGH\\*JK\n",
    "* RL Polk just uses the first 10 alpha-numerics including the check variable. ie ABCEDFGHIJ\n",
    "* Therefore, to merge on the NHTSA VIN dataset, we must first **drop the 11th alpha-numeric**. However, this **leads to duplicates in the NHTSA VIN list** since VINs that were previously separate now become identical.\n",
    "\n",
    "To address this, we undertake a quality check to determine how much 10-long VINS within the same 11-long family differ from one another. If they do not differ on meaningful characteristics, then we can arbitrarily drop the 11th character and simply choose the first 10-long VIN matching that pattern"
   ]
  },
  {
   "cell_type": "markdown",
   "id": "d5820431",
   "metadata": {},
   "source": [
    "### Inspect those VINS that are not unique"
   ]
  },
  {
   "cell_type": "code",
   "execution_count": 114,
   "id": "ac17f860",
   "metadata": {},
   "outputs": [],
   "source": [
    "# Get those rows that are not unique\n",
    "\n",
    "# Create a copy of the initial list\n",
    "nhtsa_cleaned_notunique = nhtsa_cleaned.copy(deep = True)\n",
    "\n",
    "# Drop the 11th character of the VINs in the first list\n",
    "nhtsa_cleaned_notunique[\"VIN\"] = nhtsa_cleaned_notunique[\"VIN\"].str[0:10]\n",
    "\n",
    "# Create counter to sum\n",
    "nhtsa_cleaned_notunique[\"counter\"] = 1\n",
    "\n",
    "# Group by VIN and take a count. The count of the column \"counter\" reflects the number of repeats\n",
    "nhtsa_cleaned_notunique_grouped = nhtsa_cleaned_notunique.groupby(\"VIN\").count().reset_index()"
   ]
  },
  {
   "cell_type": "code",
   "execution_count": 115,
   "id": "ca7f4c19",
   "metadata": {},
   "outputs": [
    {
     "data": {
      "text/html": [
       "<div>\n",
       "<style scoped>\n",
       "    .dataframe tbody tr th:only-of-type {\n",
       "        vertical-align: middle;\n",
       "    }\n",
       "\n",
       "    .dataframe tbody tr th {\n",
       "        vertical-align: top;\n",
       "    }\n",
       "\n",
       "    .dataframe thead th {\n",
       "        text-align: right;\n",
       "    }\n",
       "</style>\n",
       "<table border=\"1\" class=\"dataframe\">\n",
       "  <thead>\n",
       "    <tr style=\"text-align: right;\">\n",
       "      <th></th>\n",
       "      <th>VIN</th>\n",
       "      <th>vin_row_start</th>\n",
       "      <th>ABS</th>\n",
       "      <th>ActiveSafetySysNote</th>\n",
       "      <th>AdaptiveCruiseControl</th>\n",
       "      <th>AdaptiveDrivingBeam</th>\n",
       "      <th>AdaptiveHeadlights</th>\n",
       "      <th>AdditionalErrorText</th>\n",
       "      <th>AirBagLocCurtain</th>\n",
       "      <th>AirBagLocFront</th>\n",
       "      <th>...</th>\n",
       "      <th>WheelBaseLong</th>\n",
       "      <th>WheelBaseShort</th>\n",
       "      <th>WheelBaseType</th>\n",
       "      <th>WheelSizeFront</th>\n",
       "      <th>WheelSizeRear</th>\n",
       "      <th>Wheels</th>\n",
       "      <th>Windows</th>\n",
       "      <th>CAid</th>\n",
       "      <th>EPAid</th>\n",
       "      <th>counter</th>\n",
       "    </tr>\n",
       "  </thead>\n",
       "  <tbody>\n",
       "    <tr>\n",
       "      <th>0</th>\n",
       "      <td>19UDE2F3*G</td>\n",
       "      <td>1</td>\n",
       "      <td>0</td>\n",
       "      <td>0</td>\n",
       "      <td>0</td>\n",
       "      <td>0</td>\n",
       "      <td>0</td>\n",
       "      <td>0</td>\n",
       "      <td>1</td>\n",
       "      <td>1</td>\n",
       "      <td>...</td>\n",
       "      <td>0</td>\n",
       "      <td>0</td>\n",
       "      <td>0</td>\n",
       "      <td>0</td>\n",
       "      <td>0</td>\n",
       "      <td>0</td>\n",
       "      <td>0</td>\n",
       "      <td>1</td>\n",
       "      <td>1</td>\n",
       "      <td>1</td>\n",
       "    </tr>\n",
       "    <tr>\n",
       "      <th>1</th>\n",
       "      <td>19UDE2F3*H</td>\n",
       "      <td>3</td>\n",
       "      <td>3</td>\n",
       "      <td>3</td>\n",
       "      <td>0</td>\n",
       "      <td>3</td>\n",
       "      <td>0</td>\n",
       "      <td>1</td>\n",
       "      <td>3</td>\n",
       "      <td>3</td>\n",
       "      <td>...</td>\n",
       "      <td>0</td>\n",
       "      <td>3</td>\n",
       "      <td>0</td>\n",
       "      <td>3</td>\n",
       "      <td>3</td>\n",
       "      <td>3</td>\n",
       "      <td>0</td>\n",
       "      <td>3</td>\n",
       "      <td>3</td>\n",
       "      <td>3</td>\n",
       "    </tr>\n",
       "    <tr>\n",
       "      <th>2</th>\n",
       "      <td>19UDE2F3*J</td>\n",
       "      <td>2</td>\n",
       "      <td>2</td>\n",
       "      <td>2</td>\n",
       "      <td>2</td>\n",
       "      <td>0</td>\n",
       "      <td>0</td>\n",
       "      <td>1</td>\n",
       "      <td>2</td>\n",
       "      <td>2</td>\n",
       "      <td>...</td>\n",
       "      <td>0</td>\n",
       "      <td>2</td>\n",
       "      <td>0</td>\n",
       "      <td>2</td>\n",
       "      <td>2</td>\n",
       "      <td>2</td>\n",
       "      <td>0</td>\n",
       "      <td>2</td>\n",
       "      <td>2</td>\n",
       "      <td>2</td>\n",
       "    </tr>\n",
       "    <tr>\n",
       "      <th>3</th>\n",
       "      <td>19UDE2F3*K</td>\n",
       "      <td>1</td>\n",
       "      <td>1</td>\n",
       "      <td>0</td>\n",
       "      <td>1</td>\n",
       "      <td>0</td>\n",
       "      <td>0</td>\n",
       "      <td>0</td>\n",
       "      <td>1</td>\n",
       "      <td>1</td>\n",
       "      <td>...</td>\n",
       "      <td>0</td>\n",
       "      <td>1</td>\n",
       "      <td>0</td>\n",
       "      <td>1</td>\n",
       "      <td>1</td>\n",
       "      <td>1</td>\n",
       "      <td>0</td>\n",
       "      <td>1</td>\n",
       "      <td>1</td>\n",
       "      <td>1</td>\n",
       "    </tr>\n",
       "    <tr>\n",
       "      <th>4</th>\n",
       "      <td>19UDE2F3*L</td>\n",
       "      <td>7</td>\n",
       "      <td>7</td>\n",
       "      <td>0</td>\n",
       "      <td>0</td>\n",
       "      <td>0</td>\n",
       "      <td>0</td>\n",
       "      <td>0</td>\n",
       "      <td>7</td>\n",
       "      <td>7</td>\n",
       "      <td>...</td>\n",
       "      <td>0</td>\n",
       "      <td>7</td>\n",
       "      <td>0</td>\n",
       "      <td>0</td>\n",
       "      <td>0</td>\n",
       "      <td>7</td>\n",
       "      <td>0</td>\n",
       "      <td>7</td>\n",
       "      <td>0</td>\n",
       "      <td>7</td>\n",
       "    </tr>\n",
       "  </tbody>\n",
       "</table>\n",
       "<p>5 rows × 154 columns</p>\n",
       "</div>"
      ],
      "text/plain": [
       "          VIN  vin_row_start  ABS  ActiveSafetySysNote  AdaptiveCruiseControl  \\\n",
       "0  19UDE2F3*G              1    0                    0                      0   \n",
       "1  19UDE2F3*H              3    3                    3                      0   \n",
       "2  19UDE2F3*J              2    2                    2                      2   \n",
       "3  19UDE2F3*K              1    1                    0                      1   \n",
       "4  19UDE2F3*L              7    7                    0                      0   \n",
       "\n",
       "   AdaptiveDrivingBeam  AdaptiveHeadlights  AdditionalErrorText  \\\n",
       "0                    0                   0                    0   \n",
       "1                    3                   0                    1   \n",
       "2                    0                   0                    1   \n",
       "3                    0                   0                    0   \n",
       "4                    0                   0                    0   \n",
       "\n",
       "   AirBagLocCurtain  AirBagLocFront  ...  WheelBaseLong  WheelBaseShort  \\\n",
       "0                 1               1  ...              0               0   \n",
       "1                 3               3  ...              0               3   \n",
       "2                 2               2  ...              0               2   \n",
       "3                 1               1  ...              0               1   \n",
       "4                 7               7  ...              0               7   \n",
       "\n",
       "   WheelBaseType  WheelSizeFront  WheelSizeRear  Wheels  Windows  CAid  EPAid  \\\n",
       "0              0               0              0       0        0     1      1   \n",
       "1              0               3              3       3        0     3      3   \n",
       "2              0               2              2       2        0     2      2   \n",
       "3              0               1              1       1        0     1      1   \n",
       "4              0               0              0       7        0     7      0   \n",
       "\n",
       "   counter  \n",
       "0        1  \n",
       "1        3  \n",
       "2        2  \n",
       "3        1  \n",
       "4        7  \n",
       "\n",
       "[5 rows x 154 columns]"
      ]
     },
     "execution_count": 115,
     "metadata": {},
     "output_type": "execute_result"
    }
   ],
   "source": [
    "# View result\n",
    "nhtsa_cleaned_notunique_grouped.head()"
   ]
  },
  {
   "cell_type": "code",
   "execution_count": 116,
   "id": "f6f44377",
   "metadata": {},
   "outputs": [
    {
     "name": "stdout",
     "output_type": "stream",
     "text": [
      "The length of the grouped dataset is 48645\n"
     ]
    }
   ],
   "source": [
    "# See how long this is\n",
    "print(f\"The length of the grouped dataset is {len(nhtsa_cleaned_notunique_grouped)}\")"
   ]
  },
  {
   "cell_type": "code",
   "execution_count": null,
   "id": "9b4ff9bb",
   "metadata": {},
   "outputs": [],
   "source": [
    "# Create a list of the nonunique VINs\n",
    "\n",
    "# To do this, we take all of the VINs with a counter of greater than 1.\n",
    "# This is the list of 10-digit VINs, belonging to an 11-digit family, that has more than 1 member (i.e.;\n",
    "# 10-digit VINs that have siblings)\n",
    "vins_not_unique = list(nhtsa_cleaned_notunique_grouped[nhtsa_cleaned_notunique_grouped[\"counter\"]>1][\"VIN\"])"
   ]
  },
  {
   "cell_type": "code",
   "execution_count": 117,
   "id": "01813b40",
   "metadata": {},
   "outputs": [
    {
     "data": {
      "text/plain": [
       "72136"
      ]
     },
     "execution_count": 117,
     "metadata": {},
     "output_type": "execute_result"
    }
   ],
   "source": [
    "len(nhtsa_cleaned)"
   ]
  },
  {
   "cell_type": "code",
   "execution_count": 371,
   "id": "ada46b6f",
   "metadata": {},
   "outputs": [
    {
     "data": {
      "text/plain": [
       "12590"
      ]
     },
     "execution_count": 371,
     "metadata": {},
     "output_type": "execute_result"
    }
   ],
   "source": [
    "# Look to see how many of these VINs there are\n",
    "len(vins_not_unique)"
   ]
  },
  {
   "cell_type": "code",
   "execution_count": 372,
   "id": "3f2245f8",
   "metadata": {},
   "outputs": [
    {
     "data": {
      "text/plain": [
       "36081"
      ]
     },
     "execution_count": 372,
     "metadata": {},
     "output_type": "execute_result"
    }
   ],
   "source": [
    "# Create a subset of the initial DF, containing only non-unique VINs\n",
    "nhtsa_cleaned_notunique_only = nhtsa_cleaned_notunique.loc[nhtsa_cleaned_notunique.VIN.isin(vins_not_unique), :]\n",
    "len(nhtsa_cleaned_notunique_only)"
   ]
  },
  {
   "cell_type": "markdown",
   "id": "9d96caa2",
   "metadata": {},
   "source": [
    "### Explanation\n",
    "We have cleaned the NHTSA dataframe to contain only entries for 10-digit VINs, belonging to multi-member 11-digit families. That is, when we shorten from an 11-digit to a 10-digit VIN by dropping the 11th digit, these are the VINs that now look identical to some other VIN.\n",
    "\n",
    "We now investigate how similar the vehicle attributes are for these VINs"
   ]
  },
  {
   "cell_type": "markdown",
   "id": "869ebb62",
   "metadata": {},
   "source": [
    "### Log differences between identical VINs"
   ]
  },
  {
   "cell_type": "code",
   "execution_count": 373,
   "id": "46a633b3",
   "metadata": {},
   "outputs": [],
   "source": [
    "# Replace all NaNs with 0 to facilitate comparison later on\n",
    "nhtsa_cleaned_notunique_only = nhtsa_cleaned_notunique_only.replace(np.nan,0)"
   ]
  },
  {
   "cell_type": "code",
   "execution_count": 367,
   "id": "376c9edb",
   "metadata": {
    "scrolled": true
   },
   "outputs": [],
   "source": [
    "# Create a file to record progress\n",
    "outfh_path = path / \"data\" / \"outputs\" / \"track_diffs.txt\"\n",
    "out_fh = open(outfh_path, \"w\" if not os.path.exists(outfh_path) else \"a\")"
   ]
  },
  {
   "cell_type": "code",
   "execution_count": null,
   "id": "0220ad94",
   "metadata": {},
   "outputs": [],
   "source": [
    "# This function will output a large text file, containing all the differences between\n",
    "# Rows that share the same VIN\n",
    "# \n",
    "# def diffs(df):\n",
    "#     index = 0\n",
    "#     num_indices = len(vins_not_unique)\n",
    "#     # Do this for every VIN in the non unique vins list \n",
    "#     for vin in vins_not_unique:\n",
    "#         if (index % 500 == 0):\n",
    "#             print(f\"Working on index number {index} of {num_indices}\")\n",
    "#         \n",
    "#         # Extract the entries of the dataframe with that VIN\n",
    "#         entries = df[df[\"VIN\"] == vin].reset_index()\n",
    "#         num_entries = len(entries)\n",
    "#         \n",
    "#         # Record it in the log file\n",
    "#         out_fh.write(f\"Working on VIN number {vin}, number of entries: {num_entries}\\n\")\n",
    "#         \n",
    "#         # Only if that VIN is to be found\n",
    "#         if num_entries > 0:\n",
    "#             \n",
    "#             # Create a list of all possible combinations of rows\n",
    "#             combos = list(combinations(list(np.arange(0, num_entries)), 2))\n",
    "#             \n",
    "#             # Go column by column\n",
    "#             columns = list(entries.columns)\n",
    "#             columns.remove(\"index\")\n",
    "#             columns.remove(\"vin_row_start\")\n",
    "#             \n",
    "#             for column in columns:\n",
    "#                 diff_count = 0\n",
    "#                 cells = list(entries[column])\n",
    "#                 \n",
    "#                 # Compare combos\n",
    "#                 for combo in combos:\n",
    "#                     if (cells[combo[0]] != cells[combo[1]]):\n",
    "#                         out_fh.write(f\"... Difference in column {column}:\\n\")\n",
    "#                         out_fh.write(f\"... ... Difference between {cells[combo[0]]} and {cells[combo[1]]}\\n\")\n",
    "#                         \n",
    "#             index +=1\n",
    "#     out_fh.close()\n",
    "# \n",
    "# diffs(nhtsa_cleaned_notunique_only)"
   ]
  },
  {
   "cell_type": "markdown",
   "id": "ac06f353",
   "metadata": {},
   "source": [
    "This text file shows that the majority of the differences between vehicles that share the same shortened 10-digit VIN  are aesthetic only. That is, they pertain mostly to the following columns:\n",
    "* AdditionalErrorText\n",
    "* ErrorCode\n",
    "* ErrorText\n",
    "* PlantState\n",
    "* PlantCounty\n",
    "* VehicleDescriptor\n",
    "\n",
    "These differences mean we should be able to freely drop the 11th digit, and simply match on the 10 remaining (we can choose the first row for which that 10-digit VIN appears)."
   ]
  },
  {
   "cell_type": "markdown",
   "id": "93428438",
   "metadata": {},
   "source": [
    "## Prepare NHTSA dataset for merge"
   ]
  },
  {
   "cell_type": "code",
   "execution_count": 132,
   "id": "0f36e7f8",
   "metadata": {},
   "outputs": [],
   "source": [
    "# Create a new DF\n",
    "nhtsa_for_merge = nhtsa_cleaned.copy(deep = True)\n",
    "\n",
    "# Set VINs to 10-long\n",
    "nhtsa_for_merge[\"VIN\"] = nhtsa_cleaned[\"VIN\"].str[0:10]\n",
    "\n",
    "# Those with drop set to 0 are to be kept\n",
    "nhtsa_for_merge[\"drop\"] = 0\n",
    "\n",
    "# Sort by VIN so we can check the row above\n",
    "nhtsa_for_merge = nhtsa_for_merge.sort_values(\"VIN\").reset_index()"
   ]
  },
  {
   "cell_type": "code",
   "execution_count": 133,
   "id": "ea32e1e3",
   "metadata": {
    "scrolled": true
   },
   "outputs": [
    {
     "name": "stderr",
     "output_type": "stream",
     "text": [
      "72136it [00:12, 5963.04it/s]\n"
     ]
    }
   ],
   "source": [
    "# Loop through the rows and find if the VIN is the same as the VIN above\n",
    "# If it is, mark it to be dropped\n",
    "for index, row in tqdm(nhtsa_for_merge.iterrows()):\n",
    "    if nhtsa_for_merge.iloc[index, nhtsa_for_merge.columns.get_loc(\"VIN\")] == nhtsa_for_merge.iloc[index - 1,  nhtsa_for_merge.columns.get_loc(\"VIN\")]:\n",
    "        nhtsa_for_merge.iloc[index, nhtsa_for_merge.columns.get_loc(\"drop\")] = 1"
   ]
  },
  {
   "cell_type": "code",
   "execution_count": 134,
   "id": "7d5e7f1b",
   "metadata": {},
   "outputs": [],
   "source": [
    "# Drop all marked as 1\n",
    "nhtsa_for_merge = nhtsa_for_merge[nhtsa_for_merge[\"drop\"]==0]"
   ]
  },
  {
   "cell_type": "code",
   "execution_count": 135,
   "id": "8e51b36a",
   "metadata": {},
   "outputs": [],
   "source": [
    "# Prepare the EV drive unit\n",
    "nhtsa_for_merge[\"EVDriveUnit\"] = nhtsa_for_merge[\"EVDriveUnit\"].fillna('non-ev')\n",
    "\n",
    "# Drop unnecessary columns\n",
    "nhtsa_for_merge = nhtsa_for_merge.iloc[:, nhtsa_for_merge.columns.isin([\"VIN\", \"EVDriveUnit\", \"FuelTypePrimary\"])]"
   ]
  },
  {
   "cell_type": "code",
   "execution_count": 136,
   "id": "f090e2e3",
   "metadata": {},
   "outputs": [
    {
     "data": {
      "text/plain": [
       "array(['Gasoline', nan, 'Electric', 'Diesel',\n",
       "       'Flexible Fuel Vehicle (FFV)', 'Compressed Natural Gas (CNG)',\n",
       "       'Ethanol (E85)', 'Liquefied Petroleum Gas (propane or LPG)',\n",
       "       'Compressed Hydrogen/Hydrogen', 'Fuel Cell'], dtype=object)"
      ]
     },
     "execution_count": 136,
     "metadata": {},
     "output_type": "execute_result"
    }
   ],
   "source": [
    "# Observe different fuel types\n",
    "nhtsa_cleaned[\"FuelTypePrimary\"].unique()"
   ]
  },
  {
   "cell_type": "markdown",
   "id": "c4e42be6",
   "metadata": {},
   "source": [
    "***"
   ]
  },
  {
   "cell_type": "markdown",
   "id": "4471d220",
   "metadata": {},
   "source": [
    "# Match New Vehicle Dataset and NHTSA VIN dataset"
   ]
  },
  {
   "cell_type": "markdown",
   "id": "ea8fae8e",
   "metadata": {},
   "source": [
    "### Prepare and match Data"
   ]
  },
  {
   "cell_type": "code",
   "execution_count": 137,
   "id": "6b2bdc1a",
   "metadata": {},
   "outputs": [],
   "source": [
    "# Prepare CT RLPolk data to merege\n",
    "ct_vin_data_to_match = ct_vin_data.loc[:, ~ct_vin_data.columns.isin([\"VIN_PREFIX\", \"TRANSACTION_PRICE\"])]"
   ]
  },
  {
   "cell_type": "code",
   "execution_count": 140,
   "id": "e324babc",
   "metadata": {},
   "outputs": [],
   "source": [
    "# Match\n",
    "match_4 = ct_vin_data.merge(nhtsa_for_merge, how = 'left', left_on = \"VIN_PREFIX_NEW\", right_on = \"VIN\")"
   ]
  },
  {
   "cell_type": "code",
   "execution_count": 142,
   "id": "f539e59b",
   "metadata": {},
   "outputs": [],
   "source": [
    "# Save match\n",
    "match_4.to_csv(path / \"data\" / \"outputs\" / \"new_vehicles_match_4.csv\")"
   ]
  },
  {
   "cell_type": "code",
   "execution_count": 46,
   "id": "f8002b4a",
   "metadata": {},
   "outputs": [],
   "source": [
    "match_4 = pd.read_csv(path / \"data\" / \"outputs\" / \"new_vehicles_match_4.csv\")"
   ]
  },
  {
   "cell_type": "code",
   "execution_count": 47,
   "id": "88717587",
   "metadata": {},
   "outputs": [
    {
     "data": {
      "text/plain": [
       "975076"
      ]
     },
     "execution_count": 47,
     "metadata": {},
     "output_type": "execute_result"
    }
   ],
   "source": [
    "match_4[\"VEH_COUNT\"].sum()"
   ]
  },
  {
   "cell_type": "markdown",
   "id": "06dad252",
   "metadata": {},
   "source": [
    "### Check quality\n",
    "Note: We use [this](https://portal.ct.gov/-/media/DEEP/air/mobile/CHEAPR/EV-Reg-Fact-Sheet.pdf) fact sheet to check quality. "
   ]
  },
  {
   "cell_type": "markdown",
   "id": "ff379427",
   "metadata": {},
   "source": [
    "##  Unmatched VINs"
   ]
  },
  {
   "cell_type": "code",
   "execution_count": 501,
   "id": "56d9a7e0",
   "metadata": {},
   "outputs": [
    {
     "data": {
      "text/plain": [
       "295950"
      ]
     },
     "execution_count": 501,
     "metadata": {},
     "output_type": "execute_result"
    }
   ],
   "source": [
    "# First, check the number of rows that have not been matched\n",
    "unmatched_count = match_4[\"VIN\"].isna().sum()\n",
    "unmatched_count"
   ]
  },
  {
   "cell_type": "code",
   "execution_count": null,
   "id": "8f81525f",
   "metadata": {},
   "outputs": [],
   "source": [
    "# Get a list of unmatched vins\n",
    "unmatched = list(match_4[match_4[\"VIN\"].isna()][\"VIN_PREFIX_NEW\"].unique())"
   ]
  },
  {
   "cell_type": "code",
   "execution_count": 527,
   "id": "332fe241",
   "metadata": {
    "scrolled": true
   },
   "outputs": [
    {
     "data": {
      "text/plain": [
       "9826"
      ]
     },
     "execution_count": 527,
     "metadata": {},
     "output_type": "execute_result"
    }
   ],
   "source": [
    "# The number of unique VIN Prefixes that we did not locate in our NHTSA database\n",
    "len(unmatched)"
   ]
  },
  {
   "cell_type": "code",
   "execution_count": 503,
   "id": "ce1249cc",
   "metadata": {},
   "outputs": [
    {
     "data": {
      "text/plain": [
       "everREPORT_YEAR_MONTH        201902\n",
       "MAKE                          HONDA\n",
       "MODEL                         CIVIC\n",
       "MODEL_YEAR                     2019\n",
       "TRANSACTION_PRICE           17522.0\n",
       "ZIP_CODE                       6512\n",
       "VIN_PREFIX               2HGFC2F65K\n",
       "COUNTY_NAME               NEW HAVEN\n",
       "STATE_ABBRV                      CT\n",
       "VEH_COUNT                         1\n",
       "YEAR                           2019\n",
       "VIN_PREFIX_NEW           2HGFC2F6*K\n",
       "EVDriveUnit                     NaN\n",
       "FuelTypePrimary                 NaN\n",
       "VIN                             NaN\n",
       "Name: 1, dtype: object"
      ]
     },
     "execution_count": 503,
     "metadata": {},
     "output_type": "execute_result"
    }
   ],
   "source": [
    "# Take an example unmatched VIN\n",
    "match_4[match_4[\"VIN\"].isna()].iloc[0,:]"
   ]
  },
  {
   "cell_type": "code",
   "execution_count": 121,
   "id": "4390d2cf",
   "metadata": {},
   "outputs": [
    {
     "data": {
      "text/html": [
       "<div>\n",
       "<style scoped>\n",
       "    .dataframe tbody tr th:only-of-type {\n",
       "        vertical-align: middle;\n",
       "    }\n",
       "\n",
       "    .dataframe tbody tr th {\n",
       "        vertical-align: top;\n",
       "    }\n",
       "\n",
       "    .dataframe thead th {\n",
       "        text-align: right;\n",
       "    }\n",
       "</style>\n",
       "<table border=\"1\" class=\"dataframe\">\n",
       "  <thead>\n",
       "    <tr style=\"text-align: right;\">\n",
       "      <th></th>\n",
       "      <th>vin_row_start</th>\n",
       "      <th>ABS</th>\n",
       "      <th>ActiveSafetySysNote</th>\n",
       "      <th>AdaptiveCruiseControl</th>\n",
       "      <th>AdaptiveDrivingBeam</th>\n",
       "      <th>AdaptiveHeadlights</th>\n",
       "      <th>AdditionalErrorText</th>\n",
       "      <th>AirBagLocCurtain</th>\n",
       "      <th>AirBagLocFront</th>\n",
       "      <th>AirBagLocKnee</th>\n",
       "      <th>...</th>\n",
       "      <th>VehicleType</th>\n",
       "      <th>WheelBaseLong</th>\n",
       "      <th>WheelBaseShort</th>\n",
       "      <th>WheelBaseType</th>\n",
       "      <th>WheelSizeFront</th>\n",
       "      <th>WheelSizeRear</th>\n",
       "      <th>Wheels</th>\n",
       "      <th>Windows</th>\n",
       "      <th>CAid</th>\n",
       "      <th>EPAid</th>\n",
       "    </tr>\n",
       "  </thead>\n",
       "  <tbody>\n",
       "  </tbody>\n",
       "</table>\n",
       "<p>0 rows × 153 columns</p>\n",
       "</div>"
      ],
      "text/plain": [
       "Empty DataFrame\n",
       "Columns: [vin_row_start, ABS, ActiveSafetySysNote, AdaptiveCruiseControl, AdaptiveDrivingBeam, AdaptiveHeadlights, AdditionalErrorText, AirBagLocCurtain, AirBagLocFront, AirBagLocKnee, AirBagLocSeatCushion, AirBagLocSide, AutoReverseSystem, AutomaticPedestrianAlertingSound, AxleConfiguration, Axles, BasePrice, BatteryA, BatteryA_to, BatteryCells, BatteryInfo, BatteryKWh, BatteryKWh_to, BatteryModules, BatteryPacks, BatteryType, BatteryV, BatteryV_to, BedLengthIN, BedType, BlindSpotIntervention, BlindSpotMon, BodyCabType, BodyClass, BrakeSystemDesc, BrakeSystemType, BusFloorConfigType, BusLength, BusType, CAN_AACN, CIB, CashForClunkers, ChargerLevel, ChargerPowerKW, CoolingType, CurbWeightLB, CustomMotorcycleType, DaytimeRunningLight, DestinationMarket, DisplacementCC, DisplacementCI, DisplacementL, Doors, DriveType, DriverAssist, DynamicBrakeSupport, EDR, ESC, EVDriveUnit, ElectrificationLevel, EngineConfiguration, EngineCycles, EngineCylinders, EngineHP, EngineHP_to, EngineKW, EngineManufacturer, EngineModel, EntertainmentSystem, ErrorCode, ErrorText, ForwardCollisionWarning, FuelInjectionType, FuelTypePrimary, FuelTypeSecondary, GCWR, GCWR_to, GVWR, GVWR_to, KeylessIgnition, LaneCenteringAssistance, LaneDepartureWarning, LaneKeepSystem, LowerBeamHeadlampLightSource, Make, MakeID, Manufacturer, ManufacturerId, Model, ModelID, ModelYear, MotorcycleChassisType, MotorcycleSuspensionType, NCSABodyType, NCSAMake, NCSAMapExcApprovedBy, NCSAMapExcApprovedOn, NCSAMappingException, NCSAModel, NCSANote, ...]\n",
       "Index: []\n",
       "\n",
       "[0 rows x 153 columns]"
      ]
     },
     "execution_count": 121,
     "metadata": {},
     "output_type": "execute_result"
    }
   ],
   "source": [
    "# See if this VIN_PREFIX_NEW can be identified in the nhtsa_cleaned (i.e. RAW) dataset\n",
    "nhtsa_cleaned[nhtsa_cleaned[\"VIN\"].str[0:10]==\"2HGFC2F6*K\"]"
   ]
  },
  {
   "cell_type": "code",
   "execution_count": 508,
   "id": "27df9f9d",
   "metadata": {},
   "outputs": [
    {
     "data": {
      "text/plain": [
       "everREPORT_YEAR_MONTH        202012\n",
       "MAKE                         SUBARU\n",
       "MODEL                       IMPREZA\n",
       "MODEL_YEAR                     2021\n",
       "TRANSACTION_PRICE           22494.0\n",
       "ZIP_CODE                       6498\n",
       "VIN_PREFIX               4S3GKAB65M\n",
       "COUNTY_NAME               MIDDLESEX\n",
       "STATE_ABBRV                      CT\n",
       "VEH_COUNT                         1\n",
       "YEAR                           2020\n",
       "VIN_PREFIX_NEW           4S3GKAB6*M\n",
       "EVDriveUnit                     NaN\n",
       "FuelTypePrimary                 NaN\n",
       "VIN                             NaN\n",
       "Name: 52279, dtype: object"
      ]
     },
     "execution_count": 508,
     "metadata": {},
     "output_type": "execute_result"
    }
   ],
   "source": [
    "# Take a second example unmatched VIN\n",
    "match_4[match_4[\"VIN\"].isna()].iloc[17000,:]"
   ]
  },
  {
   "cell_type": "code",
   "execution_count": 511,
   "id": "0b78b68e",
   "metadata": {
    "collapsed": true,
    "jupyter": {
     "outputs_hidden": true
    }
   },
   "outputs": [
    {
     "data": {
      "text/html": [
       "<div>\n",
       "<style scoped>\n",
       "    .dataframe tbody tr th:only-of-type {\n",
       "        vertical-align: middle;\n",
       "    }\n",
       "\n",
       "    .dataframe tbody tr th {\n",
       "        vertical-align: top;\n",
       "    }\n",
       "\n",
       "    .dataframe thead th {\n",
       "        text-align: right;\n",
       "    }\n",
       "</style>\n",
       "<table border=\"1\" class=\"dataframe\">\n",
       "  <thead>\n",
       "    <tr style=\"text-align: right;\">\n",
       "      <th></th>\n",
       "      <th>vin_row_start</th>\n",
       "      <th>ABS</th>\n",
       "      <th>ActiveSafetySysNote</th>\n",
       "      <th>AdaptiveCruiseControl</th>\n",
       "      <th>AdaptiveDrivingBeam</th>\n",
       "      <th>AdaptiveHeadlights</th>\n",
       "      <th>AdditionalErrorText</th>\n",
       "      <th>AirBagLocCurtain</th>\n",
       "      <th>AirBagLocFront</th>\n",
       "      <th>AirBagLocKnee</th>\n",
       "      <th>AirBagLocSeatCushion</th>\n",
       "      <th>AirBagLocSide</th>\n",
       "      <th>AutoReverseSystem</th>\n",
       "      <th>AutomaticPedestrianAlertingSound</th>\n",
       "      <th>AxleConfiguration</th>\n",
       "      <th>Axles</th>\n",
       "      <th>BasePrice</th>\n",
       "      <th>BatteryA</th>\n",
       "      <th>BatteryA_to</th>\n",
       "      <th>BatteryCells</th>\n",
       "      <th>BatteryInfo</th>\n",
       "      <th>BatteryKWh</th>\n",
       "      <th>BatteryKWh_to</th>\n",
       "      <th>BatteryModules</th>\n",
       "      <th>BatteryPacks</th>\n",
       "      <th>BatteryType</th>\n",
       "      <th>BatteryV</th>\n",
       "      <th>BatteryV_to</th>\n",
       "      <th>BedLengthIN</th>\n",
       "      <th>BedType</th>\n",
       "      <th>BlindSpotIntervention</th>\n",
       "      <th>BlindSpotMon</th>\n",
       "      <th>BodyCabType</th>\n",
       "      <th>BodyClass</th>\n",
       "      <th>BrakeSystemDesc</th>\n",
       "      <th>BrakeSystemType</th>\n",
       "      <th>BusFloorConfigType</th>\n",
       "      <th>BusLength</th>\n",
       "      <th>BusType</th>\n",
       "      <th>CAN_AACN</th>\n",
       "      <th>CIB</th>\n",
       "      <th>CashForClunkers</th>\n",
       "      <th>ChargerLevel</th>\n",
       "      <th>ChargerPowerKW</th>\n",
       "      <th>CoolingType</th>\n",
       "      <th>CurbWeightLB</th>\n",
       "      <th>CustomMotorcycleType</th>\n",
       "      <th>DaytimeRunningLight</th>\n",
       "      <th>DestinationMarket</th>\n",
       "      <th>DisplacementCC</th>\n",
       "      <th>DisplacementCI</th>\n",
       "      <th>DisplacementL</th>\n",
       "      <th>Doors</th>\n",
       "      <th>DriveType</th>\n",
       "      <th>DriverAssist</th>\n",
       "      <th>DynamicBrakeSupport</th>\n",
       "      <th>EDR</th>\n",
       "      <th>ESC</th>\n",
       "      <th>EVDriveUnit</th>\n",
       "      <th>ElectrificationLevel</th>\n",
       "      <th>EngineConfiguration</th>\n",
       "      <th>EngineCycles</th>\n",
       "      <th>EngineCylinders</th>\n",
       "      <th>EngineHP</th>\n",
       "      <th>EngineHP_to</th>\n",
       "      <th>EngineKW</th>\n",
       "      <th>EngineManufacturer</th>\n",
       "      <th>EngineModel</th>\n",
       "      <th>EntertainmentSystem</th>\n",
       "      <th>ErrorCode</th>\n",
       "      <th>ErrorText</th>\n",
       "      <th>ForwardCollisionWarning</th>\n",
       "      <th>FuelInjectionType</th>\n",
       "      <th>FuelTypePrimary</th>\n",
       "      <th>FuelTypeSecondary</th>\n",
       "      <th>GCWR</th>\n",
       "      <th>GCWR_to</th>\n",
       "      <th>GVWR</th>\n",
       "      <th>GVWR_to</th>\n",
       "      <th>KeylessIgnition</th>\n",
       "      <th>LaneCenteringAssistance</th>\n",
       "      <th>LaneDepartureWarning</th>\n",
       "      <th>LaneKeepSystem</th>\n",
       "      <th>LowerBeamHeadlampLightSource</th>\n",
       "      <th>Make</th>\n",
       "      <th>MakeID</th>\n",
       "      <th>Manufacturer</th>\n",
       "      <th>ManufacturerId</th>\n",
       "      <th>Model</th>\n",
       "      <th>ModelID</th>\n",
       "      <th>ModelYear</th>\n",
       "      <th>MotorcycleChassisType</th>\n",
       "      <th>MotorcycleSuspensionType</th>\n",
       "      <th>NCSABodyType</th>\n",
       "      <th>NCSAMake</th>\n",
       "      <th>NCSAMapExcApprovedBy</th>\n",
       "      <th>NCSAMapExcApprovedOn</th>\n",
       "      <th>NCSAMappingException</th>\n",
       "      <th>NCSAModel</th>\n",
       "      <th>NCSANote</th>\n",
       "      <th>NonLandUse</th>\n",
       "      <th>Note</th>\n",
       "      <th>OtherBusInfo</th>\n",
       "      <th>OtherEngineInfo</th>\n",
       "      <th>OtherMotorcycleInfo</th>\n",
       "      <th>OtherRestraintSystemInfo</th>\n",
       "      <th>OtherTrailerInfo</th>\n",
       "      <th>ParkAssist</th>\n",
       "      <th>PedestrianAutomaticEmergencyBraking</th>\n",
       "      <th>PlantCity</th>\n",
       "      <th>PlantCompanyName</th>\n",
       "      <th>PlantCountry</th>\n",
       "      <th>PlantState</th>\n",
       "      <th>PossibleValues</th>\n",
       "      <th>Pretensioner</th>\n",
       "      <th>RearAutomaticEmergencyBraking</th>\n",
       "      <th>RearCrossTrafficAlert</th>\n",
       "      <th>RearVisibilitySystem</th>\n",
       "      <th>SAEAutomationLevel</th>\n",
       "      <th>SAEAutomationLevel_to</th>\n",
       "      <th>SeatBeltsAll</th>\n",
       "      <th>SeatRows</th>\n",
       "      <th>Seats</th>\n",
       "      <th>SemiautomaticHeadlampBeamSwitching</th>\n",
       "      <th>Series</th>\n",
       "      <th>Series2</th>\n",
       "      <th>SteeringLocation</th>\n",
       "      <th>SuggestedVIN</th>\n",
       "      <th>TPMS</th>\n",
       "      <th>TopSpeedMPH</th>\n",
       "      <th>TrackWidth</th>\n",
       "      <th>TractionControl</th>\n",
       "      <th>TrailerBodyType</th>\n",
       "      <th>TrailerLength</th>\n",
       "      <th>TrailerType</th>\n",
       "      <th>TransmissionSpeeds</th>\n",
       "      <th>TransmissionStyle</th>\n",
       "      <th>Trim</th>\n",
       "      <th>Trim2</th>\n",
       "      <th>Turbo</th>\n",
       "      <th>VIN</th>\n",
       "      <th>ValveTrainDesign</th>\n",
       "      <th>VehicleDescriptor</th>\n",
       "      <th>VehicleType</th>\n",
       "      <th>WheelBaseLong</th>\n",
       "      <th>WheelBaseShort</th>\n",
       "      <th>WheelBaseType</th>\n",
       "      <th>WheelSizeFront</th>\n",
       "      <th>WheelSizeRear</th>\n",
       "      <th>Wheels</th>\n",
       "      <th>Windows</th>\n",
       "      <th>CAid</th>\n",
       "      <th>EPAid</th>\n",
       "    </tr>\n",
       "  </thead>\n",
       "  <tbody>\n",
       "  </tbody>\n",
       "</table>\n",
       "</div>"
      ],
      "text/plain": [
       "Empty DataFrame\n",
       "Columns: [vin_row_start, ABS, ActiveSafetySysNote, AdaptiveCruiseControl, AdaptiveDrivingBeam, AdaptiveHeadlights, AdditionalErrorText, AirBagLocCurtain, AirBagLocFront, AirBagLocKnee, AirBagLocSeatCushion, AirBagLocSide, AutoReverseSystem, AutomaticPedestrianAlertingSound, AxleConfiguration, Axles, BasePrice, BatteryA, BatteryA_to, BatteryCells, BatteryInfo, BatteryKWh, BatteryKWh_to, BatteryModules, BatteryPacks, BatteryType, BatteryV, BatteryV_to, BedLengthIN, BedType, BlindSpotIntervention, BlindSpotMon, BodyCabType, BodyClass, BrakeSystemDesc, BrakeSystemType, BusFloorConfigType, BusLength, BusType, CAN_AACN, CIB, CashForClunkers, ChargerLevel, ChargerPowerKW, CoolingType, CurbWeightLB, CustomMotorcycleType, DaytimeRunningLight, DestinationMarket, DisplacementCC, DisplacementCI, DisplacementL, Doors, DriveType, DriverAssist, DynamicBrakeSupport, EDR, ESC, EVDriveUnit, ElectrificationLevel, EngineConfiguration, EngineCycles, EngineCylinders, EngineHP, EngineHP_to, EngineKW, EngineManufacturer, EngineModel, EntertainmentSystem, ErrorCode, ErrorText, ForwardCollisionWarning, FuelInjectionType, FuelTypePrimary, FuelTypeSecondary, GCWR, GCWR_to, GVWR, GVWR_to, KeylessIgnition, LaneCenteringAssistance, LaneDepartureWarning, LaneKeepSystem, LowerBeamHeadlampLightSource, Make, MakeID, Manufacturer, ManufacturerId, Model, ModelID, ModelYear, MotorcycleChassisType, MotorcycleSuspensionType, NCSABodyType, NCSAMake, NCSAMapExcApprovedBy, NCSAMapExcApprovedOn, NCSAMappingException, NCSAModel, NCSANote, ...]\n",
       "Index: []"
      ]
     },
     "execution_count": 511,
     "metadata": {},
     "output_type": "execute_result"
    }
   ],
   "source": [
    "# See if this VIN_PREFIX_NEW can be identified in the nhtsa_cleaned (i.e. RAW) dataset\n",
    "nhtsa_cleaned[nhtsa_cleaned[\"VIN\"].str[0:10]==\"4S3GKAB6*M\"]"
   ]
  },
  {
   "cell_type": "markdown",
   "id": "c1c89914",
   "metadata": {},
   "source": [
    "## Extract unmatched VINs from NHTSA API"
   ]
  },
  {
   "cell_type": "code",
   "execution_count": 648,
   "id": "7f76cb1d",
   "metadata": {},
   "outputs": [
    {
     "name": "stderr",
     "output_type": "stream",
     "text": [
      "100%|██████████| 9826/9826 [51:21<00:00,  3.19it/s]  \n"
     ]
    }
   ],
   "source": [
    "# Create a blank DataFrame to fill with queries\n",
    "resp_df_out = pd.DataFrame([], columns = [\"EVDriveUnit\", \"FuelTypePrimary\", \"VIN\"])\n",
    "\n",
    "# Proceed through unmatched VINs one by one and query the NHTSA database\n",
    "for vin in tqdm(unmatched):\n",
    "    # Set URL\n",
    "    url = (f\"https://vpic.nhtsa.dot.gov/api/vehicles/DecodeVin/{vin}?format=csv\")\n",
    "    \n",
    "    # Download response\n",
    "    resp_df = pd.read_csv(url)\n",
    "    \n",
    "    # Create a DataFrame for this response\n",
    "    EVDriveUnit = resp_df.iloc[resp_df[resp_df[\"variable\"]==\"EV Drive Unit\"].index,3].tolist()[0]\n",
    "    FuelTypePrimary = resp_df.iloc[resp_df[resp_df[\"variable\"]==\"Fuel Type - Primary\"].index,3].tolist()[0]\n",
    "    VIN = f\"API: {vin}\"\n",
    "    resp_df_add = pd.DataFrame([[EVDriveUnit, FuelTypePrimary, VIN]], columns = [\"EVDriveUnit\", \"FuelTypePrimary\", \"VIN\"])\n",
    "   \n",
    "    # Add this to the master output DataFrame\n",
    "    resp_df_out = pd.concat([resp_df_out, resp_df_add])"
   ]
  },
  {
   "cell_type": "code",
   "execution_count": 42,
   "id": "63530fb9",
   "metadata": {},
   "outputs": [],
   "source": [
    "# Save\n",
    "resp_df_out.to_csv(path / \"data\" / \"outputs\" / \"nhtsa_queries.csv\")"
   ]
  },
  {
   "cell_type": "markdown",
   "id": "8e806021",
   "metadata": {},
   "source": [
    "VINs for which there is no response / there is not detailed data available"
   ]
  },
  {
   "cell_type": "code",
   "execution_count": 125,
   "id": "b14d5f81",
   "metadata": {},
   "outputs": [],
   "source": [
    "no_response = resp_df_out[resp_df_out[\"FuelTypePrimary\"].isna()]"
   ]
  },
  {
   "cell_type": "code",
   "execution_count": 126,
   "id": "e4bd6812",
   "metadata": {},
   "outputs": [
    {
     "data": {
      "text/plain": [
       "150"
      ]
     },
     "execution_count": 126,
     "metadata": {},
     "output_type": "execute_result"
    }
   ],
   "source": [
    "len(no_response)"
   ]
  },
  {
   "cell_type": "markdown",
   "id": "9f0b8a3b",
   "metadata": {},
   "source": [
    "We need a pure VIN column to match on"
   ]
  },
  {
   "cell_type": "code",
   "execution_count": 40,
   "id": "7a5a1ffe",
   "metadata": {},
   "outputs": [],
   "source": [
    "resp_df_out[\"VIN_ONLY\"] = resp_df_out[\"VIN\"].str[5:]"
   ]
  },
  {
   "cell_type": "code",
   "execution_count": 124,
   "id": "efb7fe80",
   "metadata": {},
   "outputs": [],
   "source": [
    "# Load\n",
    "resp_df_out = pd.read_csv(path / \"data\" / \"outputs\" / \"nhtsa_queries.csv\")"
   ]
  },
  {
   "cell_type": "markdown",
   "id": "729be4e1",
   "metadata": {},
   "source": [
    "## Resolve unmatched VINs by adding NHTSA queried VINs"
   ]
  },
  {
   "cell_type": "code",
   "execution_count": 143,
   "id": "1ca0fffe",
   "metadata": {},
   "outputs": [],
   "source": [
    "# We split match_4 into matched and unmatched segments\n",
    "match_4_matched = match_4[~match_4[\"VIN\"].isna()]\n",
    "match_4_unmatched = match_4[match_4[\"VIN\"].isna()]"
   ]
  },
  {
   "cell_type": "code",
   "execution_count": 144,
   "id": "566ee05e",
   "metadata": {},
   "outputs": [],
   "source": [
    "# For the unmatched part, we merge in the data from the API\n",
    "match_4_unmatched_fix = match_4_unmatched.merge(resp_df_out, how = 'left', left_on = 'VIN_PREFIX_NEW', right_on = 'VIN_ONLY')"
   ]
  },
  {
   "cell_type": "code",
   "execution_count": 145,
   "id": "9d26f468",
   "metadata": {},
   "outputs": [
    {
     "data": {
      "text/plain": [
       "295950"
      ]
     },
     "execution_count": 145,
     "metadata": {},
     "output_type": "execute_result"
    }
   ],
   "source": [
    "# Length is still the same\n",
    "len(match_4_unmatched_fix)"
   ]
  },
  {
   "cell_type": "code",
   "execution_count": 146,
   "id": "ed977f01",
   "metadata": {},
   "outputs": [],
   "source": [
    "# Remove unneeded columns\n",
    "match_4_unmatched_fix = match_4_unmatched_fix.iloc[:, ~match_4_unmatched_fix.columns.isin([\"EVDriveUnit_x\", \n",
    "                                                                                           \"FuelTypePrimary_x\",\n",
    "                                                                                           \"VIN_x\"])]"
   ]
  },
  {
   "cell_type": "code",
   "execution_count": 147,
   "id": "fa4ee1f9",
   "metadata": {},
   "outputs": [],
   "source": [
    "# Rename columns \n",
    "match_4_unmatched_fix = match_4_unmatched_fix.rename(columns = {\"FuelTypePrimary_y\" : \"FuelTypePrimary\",\n",
    "                                       \"VIN_y\" : \"VIN\",\n",
    "                                       \"EVDriveUnit_y\": \"EVDriveUnit\"})"
   ]
  },
  {
   "cell_type": "code",
   "execution_count": 148,
   "id": "cf461e57",
   "metadata": {},
   "outputs": [],
   "source": [
    "# Drop the extra VIN column\n",
    "match_4_unmatched_fix = match_4_unmatched_fix.drop(\"VIN_ONLY\", axis = 1)"
   ]
  },
  {
   "cell_type": "code",
   "execution_count": 149,
   "id": "ab7af3b2",
   "metadata": {},
   "outputs": [],
   "source": [
    "# Now concatenate these two dataframes\n",
    "match_4_resolved = pd.concat([match_4_matched, match_4_unmatched_fix])"
   ]
  },
  {
   "cell_type": "code",
   "execution_count": 150,
   "id": "ccfbf911",
   "metadata": {},
   "outputs": [
    {
     "data": {
      "text/plain": [
       "True"
      ]
     },
     "execution_count": 150,
     "metadata": {},
     "output_type": "execute_result"
    }
   ],
   "source": [
    "# Check they are the correct length\n",
    "len(match_4_resolved) == len(match_4)"
   ]
  },
  {
   "cell_type": "code",
   "execution_count": 151,
   "id": "06b13c2b",
   "metadata": {},
   "outputs": [
    {
     "data": {
      "text/plain": [
       "3028"
      ]
     },
     "execution_count": 151,
     "metadata": {},
     "output_type": "execute_result"
    }
   ],
   "source": [
    "# Check the number of NAs has reduced significantly - yes\n",
    "# Not exactly the same number, but close\n",
    "len(match_4_resolved[match_4_resolved[\"FuelTypePrimary\"].isna()])"
   ]
  },
  {
   "cell_type": "code",
   "execution_count": 152,
   "id": "a8b7de83",
   "metadata": {},
   "outputs": [
    {
     "data": {
      "text/plain": [
       "924477"
      ]
     },
     "execution_count": 152,
     "metadata": {},
     "output_type": "execute_result"
    }
   ],
   "source": [
    "len(match_4_resolved)"
   ]
  },
  {
   "cell_type": "code",
   "execution_count": 685,
   "id": "c92026ae",
   "metadata": {},
   "outputs": [
    {
     "data": {
      "text/plain": [
       "30695"
      ]
     },
     "execution_count": 685,
     "metadata": {},
     "output_type": "execute_result"
    }
   ],
   "source": [
    "# Number of EVs sold\n",
    "match_4_resolved[match_4_resolved[\"FuelTypePrimary\"]==\"Electric\"][\"VEH_COUNT\"].sum()"
   ]
  },
  {
   "cell_type": "markdown",
   "id": "f1cb9b5b",
   "metadata": {},
   "source": [
    "## Save resolved file"
   ]
  },
  {
   "cell_type": "code",
   "execution_count": 153,
   "id": "8eb23ed2",
   "metadata": {},
   "outputs": [],
   "source": [
    "match_4_resolved.to_csv(path / \"data\" / \"outputs\" / \"new_vehicles_match_4_resolved.csv\")"
   ]
  },
  {
   "cell_type": "code",
   "execution_count": 4,
   "id": "278cb783",
   "metadata": {},
   "outputs": [],
   "source": [
    "match_4_resolved = pd.read_csv(path / \"data\" / \"outputs\" / \"new_vehicles_match_4_resolved.csv\")"
   ]
  },
  {
   "cell_type": "markdown",
   "id": "d036b207",
   "metadata": {},
   "source": [
    "# Create grouped data"
   ]
  },
  {
   "cell_type": "markdown",
   "id": "ab73781f",
   "metadata": {},
   "source": [
    "### Grouped by month"
   ]
  },
  {
   "cell_type": "code",
   "execution_count": 18,
   "id": "1d294afa",
   "metadata": {},
   "outputs": [
    {
     "data": {
      "text/html": [
       "<div>\n",
       "<style scoped>\n",
       "    .dataframe tbody tr th:only-of-type {\n",
       "        vertical-align: middle;\n",
       "    }\n",
       "\n",
       "    .dataframe tbody tr th {\n",
       "        vertical-align: top;\n",
       "    }\n",
       "\n",
       "    .dataframe thead th {\n",
       "        text-align: right;\n",
       "    }\n",
       "</style>\n",
       "<table border=\"1\" class=\"dataframe\">\n",
       "  <thead>\n",
       "    <tr style=\"text-align: right;\">\n",
       "      <th></th>\n",
       "      <th>FuelTypePrimary</th>\n",
       "      <th>ZIP_CODE</th>\n",
       "      <th>VEH_COUNT</th>\n",
       "      <th>year</th>\n",
       "      <th>month</th>\n",
       "    </tr>\n",
       "  </thead>\n",
       "  <tbody>\n",
       "    <tr>\n",
       "      <th>0</th>\n",
       "      <td>Diesel</td>\n",
       "      <td>6001</td>\n",
       "      <td>5</td>\n",
       "      <td>2018</td>\n",
       "      <td>01</td>\n",
       "    </tr>\n",
       "    <tr>\n",
       "      <th>1</th>\n",
       "      <td>Diesel</td>\n",
       "      <td>6002</td>\n",
       "      <td>2</td>\n",
       "      <td>2018</td>\n",
       "      <td>01</td>\n",
       "    </tr>\n",
       "    <tr>\n",
       "      <th>2</th>\n",
       "      <td>Diesel</td>\n",
       "      <td>6010</td>\n",
       "      <td>5</td>\n",
       "      <td>2018</td>\n",
       "      <td>01</td>\n",
       "    </tr>\n",
       "    <tr>\n",
       "      <th>3</th>\n",
       "      <td>Diesel</td>\n",
       "      <td>6013</td>\n",
       "      <td>2</td>\n",
       "      <td>2018</td>\n",
       "      <td>01</td>\n",
       "    </tr>\n",
       "    <tr>\n",
       "      <th>4</th>\n",
       "      <td>Diesel</td>\n",
       "      <td>6019</td>\n",
       "      <td>2</td>\n",
       "      <td>2018</td>\n",
       "      <td>01</td>\n",
       "    </tr>\n",
       "    <tr>\n",
       "      <th>...</th>\n",
       "      <td>...</td>\n",
       "      <td>...</td>\n",
       "      <td>...</td>\n",
       "      <td>...</td>\n",
       "      <td>...</td>\n",
       "    </tr>\n",
       "    <tr>\n",
       "      <th>36575</th>\n",
       "      <td>NaN</td>\n",
       "      <td>6855</td>\n",
       "      <td>1</td>\n",
       "      <td>2022</td>\n",
       "      <td>12</td>\n",
       "    </tr>\n",
       "    <tr>\n",
       "      <th>36576</th>\n",
       "      <td>NaN</td>\n",
       "      <td>6880</td>\n",
       "      <td>3</td>\n",
       "      <td>2022</td>\n",
       "      <td>12</td>\n",
       "    </tr>\n",
       "    <tr>\n",
       "      <th>36577</th>\n",
       "      <td>NaN</td>\n",
       "      <td>6896</td>\n",
       "      <td>1</td>\n",
       "      <td>2022</td>\n",
       "      <td>12</td>\n",
       "    </tr>\n",
       "    <tr>\n",
       "      <th>36578</th>\n",
       "      <td>NaN</td>\n",
       "      <td>6897</td>\n",
       "      <td>1</td>\n",
       "      <td>2022</td>\n",
       "      <td>12</td>\n",
       "    </tr>\n",
       "    <tr>\n",
       "      <th>36579</th>\n",
       "      <td>NaN</td>\n",
       "      <td>6903</td>\n",
       "      <td>1</td>\n",
       "      <td>2022</td>\n",
       "      <td>12</td>\n",
       "    </tr>\n",
       "  </tbody>\n",
       "</table>\n",
       "<p>36580 rows × 5 columns</p>\n",
       "</div>"
      ],
      "text/plain": [
       "      FuelTypePrimary  ZIP_CODE  VEH_COUNT  year month\n",
       "0              Diesel      6001          5  2018    01\n",
       "1              Diesel      6002          2  2018    01\n",
       "2              Diesel      6010          5  2018    01\n",
       "3              Diesel      6013          2  2018    01\n",
       "4              Diesel      6019          2  2018    01\n",
       "...               ...       ...        ...   ...   ...\n",
       "36575             NaN      6855          1  2022    12\n",
       "36576             NaN      6880          3  2022    12\n",
       "36577             NaN      6896          1  2022    12\n",
       "36578             NaN      6897          1  2022    12\n",
       "36579             NaN      6903          1  2022    12\n",
       "\n",
       "[36580 rows x 5 columns]"
      ]
     },
     "execution_count": 18,
     "metadata": {},
     "output_type": "execute_result"
    }
   ],
   "source": [
    "by_month = match_4_resolved.groupby([\"everREPORT_YEAR_MONTH\", \"FuelTypePrimary\", \"ZIP_CODE\"], dropna = False).sum()\n",
    "by_month = by_month.iloc[:, ~by_month.columns.isin([\"MODEL_YEAR\", \"TRANSACTION_PRICE\", \"Unnamed: 0.2\", \"Unnamed: 0.1\", \"Unnamed: 0\"])]\n",
    "by_month = by_month.reset_index()\n",
    "by_month[\"year\"] = by_month[\"everREPORT_YEAR_MONTH\"].astype(str).str[0:4]\n",
    "by_month[\"month\"] = by_month[\"everREPORT_YEAR_MONTH\"].astype(str).str[4:6]\n",
    "by_month = by_month.drop(\"everREPORT_YEAR_MONTH\", axis = 1)"
   ]
  },
  {
   "cell_type": "code",
   "execution_count": 19,
   "id": "cafa2cd2",
   "metadata": {},
   "outputs": [],
   "source": [
    "by_month.to_csv(path / \"data\" / \"outputs\" / \"new_vehicle_sales_month_year_zip.csv\")"
   ]
  },
  {
   "cell_type": "markdown",
   "id": "9cd9a088",
   "metadata": {},
   "source": [
    "### Grouped by year"
   ]
  },
  {
   "cell_type": "code",
   "execution_count": 13,
   "id": "f2c1808d",
   "metadata": {},
   "outputs": [],
   "source": [
    "# Number of EVs registered by month\n",
    "by_year = match_4_resolved.groupby([\"everREPORT_YEAR_MONTH\", \"FuelTypePrimary\"], dropna = False).sum()\n",
    "by_year = by_year.iloc[:, ~by_year.columns.isin([\"MODEL_YEAR\", \"TRANSACTION_PRICE\", \"ZIP_CODE\"])]"
   ]
  },
  {
   "cell_type": "code",
   "execution_count": 101,
   "id": "0ae7bb63",
   "metadata": {},
   "outputs": [
    {
     "data": {
      "text/html": [
       "<div>\n",
       "<style scoped>\n",
       "    .dataframe tbody tr th:only-of-type {\n",
       "        vertical-align: middle;\n",
       "    }\n",
       "\n",
       "    .dataframe tbody tr th {\n",
       "        vertical-align: top;\n",
       "    }\n",
       "\n",
       "    .dataframe thead th {\n",
       "        text-align: right;\n",
       "    }\n",
       "</style>\n",
       "<table border=\"1\" class=\"dataframe\">\n",
       "  <thead>\n",
       "    <tr style=\"text-align: right;\">\n",
       "      <th></th>\n",
       "      <th>FuelTypePrimary</th>\n",
       "      <th>VEH_COUNT</th>\n",
       "      <th>Year</th>\n",
       "      <th>Month</th>\n",
       "      <th>Day</th>\n",
       "      <th>Date</th>\n",
       "    </tr>\n",
       "  </thead>\n",
       "  <tbody>\n",
       "    <tr>\n",
       "      <th>0</th>\n",
       "      <td>Diesel</td>\n",
       "      <td>380</td>\n",
       "      <td>2018</td>\n",
       "      <td>01</td>\n",
       "      <td>1</td>\n",
       "      <td>2018-01-01</td>\n",
       "    </tr>\n",
       "    <tr>\n",
       "      <th>1</th>\n",
       "      <td>Electric</td>\n",
       "      <td>278</td>\n",
       "      <td>2018</td>\n",
       "      <td>01</td>\n",
       "      <td>1</td>\n",
       "      <td>2018-01-01</td>\n",
       "    </tr>\n",
       "    <tr>\n",
       "      <th>2</th>\n",
       "      <td>Flexible Fuel Vehicle (FFV)</td>\n",
       "      <td>46</td>\n",
       "      <td>2018</td>\n",
       "      <td>01</td>\n",
       "      <td>1</td>\n",
       "      <td>2018-01-01</td>\n",
       "    </tr>\n",
       "    <tr>\n",
       "      <th>3</th>\n",
       "      <td>Gasoline</td>\n",
       "      <td>20210</td>\n",
       "      <td>2018</td>\n",
       "      <td>01</td>\n",
       "      <td>1</td>\n",
       "      <td>2018-01-01</td>\n",
       "    </tr>\n",
       "    <tr>\n",
       "      <th>4</th>\n",
       "      <td>NaN</td>\n",
       "      <td>175</td>\n",
       "      <td>2018</td>\n",
       "      <td>01</td>\n",
       "      <td>1</td>\n",
       "      <td>2018-01-01</td>\n",
       "    </tr>\n",
       "    <tr>\n",
       "      <th>...</th>\n",
       "      <td>...</td>\n",
       "      <td>...</td>\n",
       "      <td>...</td>\n",
       "      <td>...</td>\n",
       "      <td>...</td>\n",
       "      <td>...</td>\n",
       "    </tr>\n",
       "    <tr>\n",
       "      <th>318</th>\n",
       "      <td>Electric</td>\n",
       "      <td>1022</td>\n",
       "      <td>2022</td>\n",
       "      <td>12</td>\n",
       "      <td>1</td>\n",
       "      <td>2022-12-01</td>\n",
       "    </tr>\n",
       "    <tr>\n",
       "      <th>319</th>\n",
       "      <td>Flexible Fuel Vehicle (FFV)</td>\n",
       "      <td>19</td>\n",
       "      <td>2022</td>\n",
       "      <td>12</td>\n",
       "      <td>1</td>\n",
       "      <td>2022-12-01</td>\n",
       "    </tr>\n",
       "    <tr>\n",
       "      <th>320</th>\n",
       "      <td>Gasoline</td>\n",
       "      <td>9875</td>\n",
       "      <td>2022</td>\n",
       "      <td>12</td>\n",
       "      <td>1</td>\n",
       "      <td>2022-12-01</td>\n",
       "    </tr>\n",
       "    <tr>\n",
       "      <th>321</th>\n",
       "      <td>Liquefied Petroleum Gas (propane or LPG)</td>\n",
       "      <td>1</td>\n",
       "      <td>2022</td>\n",
       "      <td>12</td>\n",
       "      <td>1</td>\n",
       "      <td>2022-12-01</td>\n",
       "    </tr>\n",
       "    <tr>\n",
       "      <th>322</th>\n",
       "      <td>NaN</td>\n",
       "      <td>20</td>\n",
       "      <td>2022</td>\n",
       "      <td>12</td>\n",
       "      <td>1</td>\n",
       "      <td>2022-12-01</td>\n",
       "    </tr>\n",
       "  </tbody>\n",
       "</table>\n",
       "<p>323 rows × 6 columns</p>\n",
       "</div>"
      ],
      "text/plain": [
       "                              FuelTypePrimary  VEH_COUNT  Year Month  Day  \\\n",
       "0                                      Diesel        380  2018    01    1   \n",
       "1                                    Electric        278  2018    01    1   \n",
       "2                 Flexible Fuel Vehicle (FFV)         46  2018    01    1   \n",
       "3                                    Gasoline      20210  2018    01    1   \n",
       "4                                         NaN        175  2018    01    1   \n",
       "..                                        ...        ...   ...   ...  ...   \n",
       "318                                  Electric       1022  2022    12    1   \n",
       "319               Flexible Fuel Vehicle (FFV)         19  2022    12    1   \n",
       "320                                  Gasoline       9875  2022    12    1   \n",
       "321  Liquefied Petroleum Gas (propane or LPG)          1  2022    12    1   \n",
       "322                                       NaN         20  2022    12    1   \n",
       "\n",
       "          Date  \n",
       "0   2018-01-01  \n",
       "1   2018-01-01  \n",
       "2   2018-01-01  \n",
       "3   2018-01-01  \n",
       "4   2018-01-01  \n",
       "..         ...  \n",
       "318 2022-12-01  \n",
       "319 2022-12-01  \n",
       "320 2022-12-01  \n",
       "321 2022-12-01  \n",
       "322 2022-12-01  \n",
       "\n",
       "[323 rows x 6 columns]"
      ]
     },
     "execution_count": 101,
     "metadata": {},
     "output_type": "execute_result"
    }
   ],
   "source": [
    "# Reset index\n",
    "by_year = by_year.reset_index()\n",
    "\n",
    "# Rename\n",
    "by_year = by_year.rename(columns = {\"everREPORT_YEAR_MONTH\":\"YearMonth\"})\n",
    "\n",
    "# Fix years and months\n",
    "by_year[\"Year\"] = by_year[\"YearMonth\"].astype(str).str[0:4]\n",
    "by_year[\"Month\"] = by_year[\"YearMonth\"].astype(str).str[4:]\n",
    "by_year[\"Day\"] = 1\n",
    "\n",
    "# Make data\n",
    "by_year[\"Date\"] = pd.to_datetime(by_year[[\"Year\", \"Month\", \"Day\"]])\n",
    "\n",
    "# Drop unneeded\n",
    "by_year = by_year.iloc[:, ~by_year.columns.isin([\"YearMonth\", \"Unnamed: 0.2\", \"Unnamed: 0.1\", \"Unnamed: 0\"])]\n",
    "\n",
    "# Look\n",
    "by_year"
   ]
  },
  {
   "cell_type": "markdown",
   "id": "511eb06d",
   "metadata": {},
   "source": [
    "## Save vehicle sales by year"
   ]
  },
  {
   "cell_type": "code",
   "execution_count": 103,
   "id": "202198b6",
   "metadata": {},
   "outputs": [],
   "source": [
    "by_year.to_csv(path / \"data\"/  \"outputs\" / \"vehicle_sales_by_year.csv\")"
   ]
  },
  {
   "cell_type": "markdown",
   "id": "464d98ef",
   "metadata": {},
   "source": [
    "## Group sales by ZIP code, fuel type, and date"
   ]
  },
  {
   "cell_type": "code",
   "execution_count": 146,
   "id": "3e729597",
   "metadata": {},
   "outputs": [
    {
     "data": {
      "text/html": [
       "<div>\n",
       "<style scoped>\n",
       "    .dataframe tbody tr th:only-of-type {\n",
       "        vertical-align: middle;\n",
       "    }\n",
       "\n",
       "    .dataframe tbody tr th {\n",
       "        vertical-align: top;\n",
       "    }\n",
       "\n",
       "    .dataframe thead th {\n",
       "        text-align: right;\n",
       "    }\n",
       "</style>\n",
       "<table border=\"1\" class=\"dataframe\">\n",
       "  <thead>\n",
       "    <tr style=\"text-align: right;\">\n",
       "      <th></th>\n",
       "      <th>FuelTypePrimary</th>\n",
       "      <th>ZIP_CODE</th>\n",
       "      <th>Unnamed: 0.2</th>\n",
       "      <th>VEH_COUNT</th>\n",
       "      <th>Unnamed: 0.1</th>\n",
       "      <th>Year</th>\n",
       "      <th>Month</th>\n",
       "      <th>Day</th>\n",
       "      <th>Date</th>\n",
       "    </tr>\n",
       "  </thead>\n",
       "  <tbody>\n",
       "    <tr>\n",
       "      <th>0</th>\n",
       "      <td>Diesel</td>\n",
       "      <td>6001</td>\n",
       "      <td>950328</td>\n",
       "      <td>5</td>\n",
       "      <td>5247.0</td>\n",
       "      <td>2018</td>\n",
       "      <td>01</td>\n",
       "      <td>1</td>\n",
       "      <td>2018-01-01</td>\n",
       "    </tr>\n",
       "    <tr>\n",
       "      <th>1</th>\n",
       "      <td>Diesel</td>\n",
       "      <td>6002</td>\n",
       "      <td>300055</td>\n",
       "      <td>2</td>\n",
       "      <td>12509.0</td>\n",
       "      <td>2018</td>\n",
       "      <td>01</td>\n",
       "      <td>1</td>\n",
       "      <td>2018-01-01</td>\n",
       "    </tr>\n",
       "    <tr>\n",
       "      <th>2</th>\n",
       "      <td>Diesel</td>\n",
       "      <td>6010</td>\n",
       "      <td>1442926</td>\n",
       "      <td>5</td>\n",
       "      <td>9255.0</td>\n",
       "      <td>2018</td>\n",
       "      <td>01</td>\n",
       "      <td>1</td>\n",
       "      <td>2018-01-01</td>\n",
       "    </tr>\n",
       "    <tr>\n",
       "      <th>3</th>\n",
       "      <td>Diesel</td>\n",
       "      <td>6013</td>\n",
       "      <td>359801</td>\n",
       "      <td>2</td>\n",
       "      <td>13121.0</td>\n",
       "      <td>2018</td>\n",
       "      <td>01</td>\n",
       "      <td>1</td>\n",
       "      <td>2018-01-01</td>\n",
       "    </tr>\n",
       "    <tr>\n",
       "      <th>4</th>\n",
       "      <td>Diesel</td>\n",
       "      <td>6019</td>\n",
       "      <td>571511</td>\n",
       "      <td>2</td>\n",
       "      <td>3569.0</td>\n",
       "      <td>2018</td>\n",
       "      <td>01</td>\n",
       "      <td>1</td>\n",
       "      <td>2018-01-01</td>\n",
       "    </tr>\n",
       "    <tr>\n",
       "      <th>...</th>\n",
       "      <td>...</td>\n",
       "      <td>...</td>\n",
       "      <td>...</td>\n",
       "      <td>...</td>\n",
       "      <td>...</td>\n",
       "      <td>...</td>\n",
       "      <td>...</td>\n",
       "      <td>...</td>\n",
       "      <td>...</td>\n",
       "    </tr>\n",
       "    <tr>\n",
       "      <th>36575</th>\n",
       "      <td>NaN</td>\n",
       "      <td>6855</td>\n",
       "      <td>176162</td>\n",
       "      <td>1</td>\n",
       "      <td>960.0</td>\n",
       "      <td>2022</td>\n",
       "      <td>12</td>\n",
       "      <td>1</td>\n",
       "      <td>2022-12-01</td>\n",
       "    </tr>\n",
       "    <tr>\n",
       "      <th>36576</th>\n",
       "      <td>NaN</td>\n",
       "      <td>6880</td>\n",
       "      <td>440370</td>\n",
       "      <td>3</td>\n",
       "      <td>6249.0</td>\n",
       "      <td>2022</td>\n",
       "      <td>12</td>\n",
       "      <td>1</td>\n",
       "      <td>2022-12-01</td>\n",
       "    </tr>\n",
       "    <tr>\n",
       "      <th>36577</th>\n",
       "      <td>NaN</td>\n",
       "      <td>6896</td>\n",
       "      <td>173498</td>\n",
       "      <td>1</td>\n",
       "      <td>960.0</td>\n",
       "      <td>2022</td>\n",
       "      <td>12</td>\n",
       "      <td>1</td>\n",
       "      <td>2022-12-01</td>\n",
       "    </tr>\n",
       "    <tr>\n",
       "      <th>36578</th>\n",
       "      <td>NaN</td>\n",
       "      <td>6897</td>\n",
       "      <td>19579</td>\n",
       "      <td>1</td>\n",
       "      <td>4335.0</td>\n",
       "      <td>2022</td>\n",
       "      <td>12</td>\n",
       "      <td>1</td>\n",
       "      <td>2022-12-01</td>\n",
       "    </tr>\n",
       "    <tr>\n",
       "      <th>36579</th>\n",
       "      <td>NaN</td>\n",
       "      <td>6903</td>\n",
       "      <td>18183</td>\n",
       "      <td>1</td>\n",
       "      <td>0.0</td>\n",
       "      <td>2022</td>\n",
       "      <td>12</td>\n",
       "      <td>1</td>\n",
       "      <td>2022-12-01</td>\n",
       "    </tr>\n",
       "  </tbody>\n",
       "</table>\n",
       "<p>36580 rows × 9 columns</p>\n",
       "</div>"
      ],
      "text/plain": [
       "      FuelTypePrimary  ZIP_CODE  Unnamed: 0.2  VEH_COUNT  Unnamed: 0.1  Year  \\\n",
       "0              Diesel      6001        950328          5        5247.0  2018   \n",
       "1              Diesel      6002        300055          2       12509.0  2018   \n",
       "2              Diesel      6010       1442926          5        9255.0  2018   \n",
       "3              Diesel      6013        359801          2       13121.0  2018   \n",
       "4              Diesel      6019        571511          2        3569.0  2018   \n",
       "...               ...       ...           ...        ...           ...   ...   \n",
       "36575             NaN      6855        176162          1         960.0  2022   \n",
       "36576             NaN      6880        440370          3        6249.0  2022   \n",
       "36577             NaN      6896        173498          1         960.0  2022   \n",
       "36578             NaN      6897         19579          1        4335.0  2022   \n",
       "36579             NaN      6903         18183          1           0.0  2022   \n",
       "\n",
       "      Month  Day       Date  \n",
       "0        01    1 2018-01-01  \n",
       "1        01    1 2018-01-01  \n",
       "2        01    1 2018-01-01  \n",
       "3        01    1 2018-01-01  \n",
       "4        01    1 2018-01-01  \n",
       "...     ...  ...        ...  \n",
       "36575    12    1 2022-12-01  \n",
       "36576    12    1 2022-12-01  \n",
       "36577    12    1 2022-12-01  \n",
       "36578    12    1 2022-12-01  \n",
       "36579    12    1 2022-12-01  \n",
       "\n",
       "[36580 rows x 9 columns]"
      ]
     },
     "execution_count": 146,
     "metadata": {},
     "output_type": "execute_result"
    }
   ],
   "source": [
    "# Group by zip code\n",
    "by_zip = match_4_resolved.groupby([\"everREPORT_YEAR_MONTH\",\"FuelTypePrimary\", \"ZIP_CODE\"], dropna = False).sum()\n",
    "by_zip = by_zip.iloc[:, ~by_zip.columns.isin([\"MODEL_YEAR\", \"TRANSACTION_PRICE\"])]\n",
    "\n",
    "# Reset index\n",
    "by_zip = by_zip.reset_index()\n",
    "\n",
    "# Rename\n",
    "by_zip = by_zip.rename(columns = {\"everREPORT_YEAR_MONTH\":\"YearMonth\"})\n",
    "\n",
    "# Fix years and months\n",
    "by_zip[\"Year\"] = by_zip[\"YearMonth\"].astype(str).str[0:4]\n",
    "by_zip[\"Month\"] = by_zip[\"YearMonth\"].astype(str).str[4:]\n",
    "by_zip[\"Day\"] = 1\n",
    "\n",
    "# Make data\n",
    "by_zip[\"Date\"] = pd.to_datetime(by_zip[[\"Year\", \"Month\", \"Day\"]])\n",
    "\n",
    "# Drop unneeded\n",
    "by_zip = by_zip.iloc[:, ~by_zip.columns.isin([\"YearMonth\", \"Unnamed: 0\"])]\n",
    "\n",
    "# Look\n",
    "by_zip"
   ]
  },
  {
   "cell_type": "code",
   "execution_count": 147,
   "id": "7ab42991",
   "metadata": {},
   "outputs": [],
   "source": [
    "# Create version where we just group by zip and fuel type, dropping dates etc.\n",
    "by_zip_fueltype = by_zip.iloc[:, ~by_zip.columns.isin([\"Year\", \"Month\", \"Day\", \"Date\"])]\n",
    "by_zip_fueltype = by_zip_fueltype.groupby([\"ZIP_CODE\", \"FuelTypePrimary\"], dropna = False).sum()\n",
    "\n",
    "# Reset index\n",
    "by_zip_fueltype = by_zip_fueltype.reset_index()"
   ]
  },
  {
   "cell_type": "code",
   "execution_count": 148,
   "id": "4829f1e3",
   "metadata": {},
   "outputs": [],
   "source": [
    "# Now get the percentage within each zip\n",
    "by_zip_fueltype_percentage = by_zip_fueltype.groupby([\"ZIP_CODE\", \"FuelTypePrimary\"], dropna = False).agg({\"VEH_COUNT\":\"sum\"})\n",
    "by_zip_fueltype_percentage[\"Percentage\"] = by_zip_fueltype_percentage.groupby(level = 0, dropna = False).apply(lambda x: (x*100 / x.sum()))\n",
    "by_zip_fueltype_percentage = by_zip_fueltype_percentage.reset_index()"
   ]
  },
  {
   "cell_type": "code",
   "execution_count": 149,
   "id": "343cc9b9",
   "metadata": {},
   "outputs": [],
   "source": [
    "# Save\n",
    "by_zip_fueltype.to_csv(path / \"data\" / \"outputs\" / \"vehicle_sales_by_zip_fueltype.csv\")"
   ]
  },
  {
   "cell_type": "code",
   "execution_count": 150,
   "id": "9f596e03",
   "metadata": {},
   "outputs": [],
   "source": [
    "# Save\n",
    "by_zip_fueltype_percentage.to_csv(path / \"data\" / \"outputs\" / \"by_zip_fueltype_percentage.csv\")"
   ]
  },
  {
   "cell_type": "code",
   "execution_count": 206,
   "id": "88c89c7d",
   "metadata": {},
   "outputs": [],
   "source": [
    "# Load\n",
    "by_zip_fueltype = pd.read_csv(path / \"data\" / \"outputs\" / \"vehicle_sales_by_zip_fueltype.csv\")\n",
    "by_zip_fueltype_pctg = pd.read_csv(path / \"data\" / \"outputs\" / \"by_zip_fueltype_percentage.csv\")"
   ]
  },
  {
   "cell_type": "markdown",
   "id": "dfe39e7f",
   "metadata": {},
   "source": [
    "## Merge EV sales by ZIP to geographic data"
   ]
  },
  {
   "cell_type": "markdown",
   "id": "371e974c",
   "metadata": {},
   "source": [
    "### Merge"
   ]
  },
  {
   "cell_type": "code",
   "execution_count": 207,
   "id": "e9df862e",
   "metadata": {},
   "outputs": [],
   "source": [
    "# Clean up the csv\n",
    "by_zip_fueltype_pctg = by_zip_fueltype_pctg.iloc[:, ~by_zip_fueltype_pctg.columns.isin([\"Unnamed: 0\"])]"
   ]
  },
  {
   "cell_type": "code",
   "execution_count": 208,
   "id": "920e602f",
   "metadata": {},
   "outputs": [
    {
     "name": "stderr",
     "output_type": "stream",
     "text": [
      "C:\\Users\\rajan\\AppData\\Local\\Temp\\ipykernel_24760\\928021146.py:14: SettingWithCopyWarning: \n",
      "A value is trying to be set on a copy of a slice from a DataFrame.\n",
      "Try using .loc[row_indexer,col_indexer] = value instead\n",
      "\n",
      "See the caveats in the documentation: https://pandas.pydata.org/pandas-docs/stable/user_guide/indexing.html#returning-a-view-versus-a-copy\n",
      "  evs_by_zip_pctg[\"ZIP_CODE\"]=evs_by_zip_pctg[\"ZIP_CODE\"].astype(str)\n"
     ]
    }
   ],
   "source": [
    "# Add a sum column within the group\n",
    "total_veh_by_zip = by_zip_fueltype_pctg.groupby(\"ZIP_CODE\").sum().reset_index()[[\"ZIP_CODE\", \"VEH_COUNT\"]]\n",
    "total_veh_by_zip = total_veh_by_zip.rename(columns={\"VEH_COUNT\":\"TOTAL_VEH_COUNT\"})\n",
    "by_zip_fueltype_pctg =by_zip_fueltype_pctg.merge(total_veh_by_zip, left_on=\"ZIP_CODE\", right_on =\"ZIP_CODE\") \n",
    "\n",
    "# Restrict to EVs\n",
    "evs_by_zip_pctg = by_zip_fueltype_pctg[by_zip_fueltype_pctg[\"FuelTypePrimary\"] == \"Electric\"]\n",
    "\n",
    "# Import geographic data\n",
    "ct_zips = gpd.read_file(path / \"data\" / \"outputs\" / \"ct_zips.gpkg\")\n",
    "\n",
    "# Prepare for merge\n",
    "ct_zips[\"ZIP\"]=ct_zips[\"ZCTA5CE20\"].astype(str).str[1:]\n",
    "evs_by_zip_pctg[\"ZIP_CODE\"]=evs_by_zip_pctg[\"ZIP_CODE\"].astype(str)\n",
    "\n",
    "# Merge\n",
    "ct_zips_ev_pctg = ct_zips.merge(evs_by_zip_pctg, how = \"left\", left_on = \"ZIP\", right_on = \"ZIP_CODE\")"
   ]
  },
  {
   "cell_type": "markdown",
   "id": "1a6b5bbb",
   "metadata": {},
   "source": [
    "### Save"
   ]
  },
  {
   "cell_type": "code",
   "execution_count": 211,
   "id": "a5481744",
   "metadata": {},
   "outputs": [],
   "source": [
    "ct_zips_ev_pctg.to_file(path / \"data\" / \"outputs\" / \"ev_sales_by_zip_geo.gpkg\")"
   ]
  },
  {
   "cell_type": "markdown",
   "id": "7639b4da",
   "metadata": {},
   "source": [
    "# Match ZIPs to counties"
   ]
  },
  {
   "cell_type": "markdown",
   "id": "7551a403",
   "metadata": {},
   "source": [
    "## Prepare Data"
   ]
  },
  {
   "cell_type": "code",
   "execution_count": 155,
   "id": "be7a4fd7",
   "metadata": {},
   "outputs": [],
   "source": [
    "# Import zips to counties file\n",
    "zips_to_counties = pd.read_excel(path / \"data\" / \"ZIP_COUNTY_SUB_062023.xlsx\")"
   ]
  },
  {
   "cell_type": "code",
   "execution_count": 156,
   "id": "4d6f7b65",
   "metadata": {},
   "outputs": [],
   "source": [
    "# Get only those zips that are in CT\n",
    "zips_to_counties_ct = zips_to_counties[zips_to_counties[\"USPS_ZIP_PREF_STATE\"]==\"CT\"]"
   ]
  },
  {
   "cell_type": "code",
   "execution_count": 157,
   "id": "965970b8",
   "metadata": {},
   "outputs": [
    {
     "data": {
      "text/plain": [
       "403"
      ]
     },
     "execution_count": 157,
     "metadata": {},
     "output_type": "execute_result"
    }
   ],
   "source": [
    "# Get the number of unique zips\n",
    "zips_to_counties_ct[\"ZIP\"].nunique()"
   ]
  },
  {
   "cell_type": "code",
   "execution_count": 159,
   "id": "a18b9368",
   "metadata": {},
   "outputs": [
    {
     "data": {
      "text/html": [
       "<div>\n",
       "<style scoped>\n",
       "    .dataframe tbody tr th:only-of-type {\n",
       "        vertical-align: middle;\n",
       "    }\n",
       "\n",
       "    .dataframe tbody tr th {\n",
       "        vertical-align: top;\n",
       "    }\n",
       "\n",
       "    .dataframe thead th {\n",
       "        text-align: right;\n",
       "    }\n",
       "</style>\n",
       "<table border=\"1\" class=\"dataframe\">\n",
       "  <thead>\n",
       "    <tr style=\"text-align: right;\">\n",
       "      <th></th>\n",
       "      <th>ZIP</th>\n",
       "      <th>COUNTY_SUB</th>\n",
       "      <th>USPS_ZIP_PREF_CITY</th>\n",
       "      <th>USPS_ZIP_PREF_STATE</th>\n",
       "      <th>RES_RATIO</th>\n",
       "      <th>BUS_RATIO</th>\n",
       "      <th>OTH_RATIO</th>\n",
       "      <th>TOT_RATIO</th>\n",
       "    </tr>\n",
       "  </thead>\n",
       "  <tbody>\n",
       "    <tr>\n",
       "      <th>125</th>\n",
       "      <td>6078</td>\n",
       "      <td>900374540</td>\n",
       "      <td>SUFFIELD</td>\n",
       "      <td>CT</td>\n",
       "      <td>1.000000</td>\n",
       "      <td>1.000000</td>\n",
       "      <td>1.0</td>\n",
       "      <td>1.000000</td>\n",
       "    </tr>\n",
       "    <tr>\n",
       "      <th>126</th>\n",
       "      <td>6042</td>\n",
       "      <td>900371390</td>\n",
       "      <td>MANCHESTER</td>\n",
       "      <td>CT</td>\n",
       "      <td>0.004759</td>\n",
       "      <td>0.000000</td>\n",
       "      <td>0.0</td>\n",
       "      <td>0.003964</td>\n",
       "    </tr>\n",
       "    <tr>\n",
       "      <th>127</th>\n",
       "      <td>6042</td>\n",
       "      <td>900344700</td>\n",
       "      <td>MANCHESTER</td>\n",
       "      <td>CT</td>\n",
       "      <td>0.994967</td>\n",
       "      <td>1.000000</td>\n",
       "      <td>1.0</td>\n",
       "      <td>0.995808</td>\n",
       "    </tr>\n",
       "    <tr>\n",
       "      <th>128</th>\n",
       "      <td>6042</td>\n",
       "      <td>901378250</td>\n",
       "      <td>MANCHESTER</td>\n",
       "      <td>CT</td>\n",
       "      <td>0.000275</td>\n",
       "      <td>0.000000</td>\n",
       "      <td>0.0</td>\n",
       "      <td>0.000229</td>\n",
       "    </tr>\n",
       "    <tr>\n",
       "      <th>129</th>\n",
       "      <td>6052</td>\n",
       "      <td>900304300</td>\n",
       "      <td>NEW BRITAIN</td>\n",
       "      <td>CT</td>\n",
       "      <td>0.002824</td>\n",
       "      <td>0.004184</td>\n",
       "      <td>0.0</td>\n",
       "      <td>0.002682</td>\n",
       "    </tr>\n",
       "  </tbody>\n",
       "</table>\n",
       "</div>"
      ],
      "text/plain": [
       "      ZIP  COUNTY_SUB USPS_ZIP_PREF_CITY USPS_ZIP_PREF_STATE  RES_RATIO  \\\n",
       "125  6078   900374540           SUFFIELD                  CT   1.000000   \n",
       "126  6042   900371390         MANCHESTER                  CT   0.004759   \n",
       "127  6042   900344700         MANCHESTER                  CT   0.994967   \n",
       "128  6042   901378250         MANCHESTER                  CT   0.000275   \n",
       "129  6052   900304300        NEW BRITAIN                  CT   0.002824   \n",
       "\n",
       "     BUS_RATIO  OTH_RATIO  TOT_RATIO  \n",
       "125   1.000000        1.0   1.000000  \n",
       "126   0.000000        0.0   0.003964  \n",
       "127   1.000000        1.0   0.995808  \n",
       "128   0.000000        0.0   0.000229  \n",
       "129   0.004184        0.0   0.002682  "
      ]
     },
     "execution_count": 159,
     "metadata": {},
     "output_type": "execute_result"
    }
   ],
   "source": [
    "zips_to_counties_ct.head()"
   ]
  },
  {
   "cell_type": "code",
   "execution_count": null,
   "id": "6d902c6a",
   "metadata": {},
   "outputs": [],
   "source": [
    "# Check how many of these are at least 80% in one county\n",
    "zips_to_counties_ct[[\"ZIP\", \"COUNTY_SUB\", \"TOT_RATIO\"]].groupby(\"ZIP\").max().sort_values(\"TOT_RATIO\").head(20)"
   ]
  },
  {
   "cell_type": "markdown",
   "id": "723a6530",
   "metadata": {},
   "source": [
    "So we see that the least a ZIP is in a county is 53%, and approx 20 ZIPs are highly split (i.e. their max allocation to a county is 80%). This is an issue, but we can leave it aside for now and simply take the max."
   ]
  },
  {
   "cell_type": "code",
   "execution_count": 21,
   "id": "10121dd2",
   "metadata": {},
   "outputs": [
    {
     "data": {
      "text/html": [
       "<div>\n",
       "<style scoped>\n",
       "    .dataframe tbody tr th:only-of-type {\n",
       "        vertical-align: middle;\n",
       "    }\n",
       "\n",
       "    .dataframe tbody tr th {\n",
       "        vertical-align: top;\n",
       "    }\n",
       "\n",
       "    .dataframe thead th {\n",
       "        text-align: right;\n",
       "    }\n",
       "</style>\n",
       "<table border=\"1\" class=\"dataframe\">\n",
       "  <thead>\n",
       "    <tr style=\"text-align: right;\">\n",
       "      <th></th>\n",
       "      <th>ZIP</th>\n",
       "      <th>COUNTY_SUB</th>\n",
       "      <th>TOT_RATIO</th>\n",
       "    </tr>\n",
       "  </thead>\n",
       "  <tbody>\n",
       "    <tr>\n",
       "      <th>0</th>\n",
       "      <td>6001</td>\n",
       "      <td>900368940</td>\n",
       "      <td>0.975907</td>\n",
       "    </tr>\n",
       "    <tr>\n",
       "      <th>1</th>\n",
       "      <td>6002</td>\n",
       "      <td>900387000</td>\n",
       "      <td>0.990812</td>\n",
       "    </tr>\n",
       "    <tr>\n",
       "      <th>2</th>\n",
       "      <td>6006</td>\n",
       "      <td>900387000</td>\n",
       "      <td>1.000000</td>\n",
       "    </tr>\n",
       "    <tr>\n",
       "      <th>3</th>\n",
       "      <td>6010</td>\n",
       "      <td>900560750</td>\n",
       "      <td>0.998910</td>\n",
       "    </tr>\n",
       "    <tr>\n",
       "      <th>4</th>\n",
       "      <td>6011</td>\n",
       "      <td>900308490</td>\n",
       "      <td>1.000000</td>\n",
       "    </tr>\n",
       "  </tbody>\n",
       "</table>\n",
       "</div>"
      ],
      "text/plain": [
       "    ZIP  COUNTY_SUB  TOT_RATIO\n",
       "0  6001   900368940   0.975907\n",
       "1  6002   900387000   0.990812\n",
       "2  6006   900387000   1.000000\n",
       "3  6010   900560750   0.998910\n",
       "4  6011   900308490   1.000000"
      ]
     },
     "execution_count": 21,
     "metadata": {},
     "output_type": "execute_result"
    }
   ],
   "source": [
    "# We will use this for matching, noting that it is flawed\n",
    "zips_to_counties_ct_max = zips_to_counties_ct[[\"ZIP\", \"COUNTY_SUB\", \"TOT_RATIO\"]].groupby(\"ZIP\").max()\n",
    "zips_to_counties_ct_max = zips_to_counties_ct_max.reset_index()\n",
    "zips_to_counties_ct_max.head()"
   ]
  },
  {
   "cell_type": "markdown",
   "id": "9c0ec1fd",
   "metadata": {},
   "source": [
    "## Match data"
   ]
  },
  {
   "cell_type": "code",
   "execution_count": 28,
   "id": "d2e68a5f",
   "metadata": {},
   "outputs": [
    {
     "data": {
      "text/html": [
       "<div>\n",
       "<style scoped>\n",
       "    .dataframe tbody tr th:only-of-type {\n",
       "        vertical-align: middle;\n",
       "    }\n",
       "\n",
       "    .dataframe tbody tr th {\n",
       "        vertical-align: top;\n",
       "    }\n",
       "\n",
       "    .dataframe thead th {\n",
       "        text-align: right;\n",
       "    }\n",
       "</style>\n",
       "<table border=\"1\" class=\"dataframe\">\n",
       "  <thead>\n",
       "    <tr style=\"text-align: right;\">\n",
       "      <th></th>\n",
       "      <th>ZIP_CODE</th>\n",
       "      <th>FuelTypePrimary</th>\n",
       "      <th>VEH_COUNT</th>\n",
       "      <th>ZIP</th>\n",
       "      <th>COUNTY_SUB</th>\n",
       "    </tr>\n",
       "  </thead>\n",
       "  <tbody>\n",
       "    <tr>\n",
       "      <th>0</th>\n",
       "      <td>6001</td>\n",
       "      <td>Diesel</td>\n",
       "      <td>97</td>\n",
       "      <td>6001.0</td>\n",
       "      <td>900368940.0</td>\n",
       "    </tr>\n",
       "    <tr>\n",
       "      <th>1</th>\n",
       "      <td>6001</td>\n",
       "      <td>Electric</td>\n",
       "      <td>346</td>\n",
       "      <td>6001.0</td>\n",
       "      <td>900368940.0</td>\n",
       "    </tr>\n",
       "    <tr>\n",
       "      <th>2</th>\n",
       "      <td>6001</td>\n",
       "      <td>Flexible Fuel Vehicle (FFV)</td>\n",
       "      <td>13</td>\n",
       "      <td>6001.0</td>\n",
       "      <td>900368940.0</td>\n",
       "    </tr>\n",
       "    <tr>\n",
       "      <th>3</th>\n",
       "      <td>6001</td>\n",
       "      <td>Gasoline</td>\n",
       "      <td>5952</td>\n",
       "      <td>6001.0</td>\n",
       "      <td>900368940.0</td>\n",
       "    </tr>\n",
       "    <tr>\n",
       "      <th>4</th>\n",
       "      <td>6002</td>\n",
       "      <td>Diesel</td>\n",
       "      <td>166</td>\n",
       "      <td>6002.0</td>\n",
       "      <td>900387000.0</td>\n",
       "    </tr>\n",
       "  </tbody>\n",
       "</table>\n",
       "</div>"
      ],
      "text/plain": [
       "   ZIP_CODE              FuelTypePrimary  VEH_COUNT     ZIP   COUNTY_SUB\n",
       "0      6001                       Diesel         97  6001.0  900368940.0\n",
       "1      6001                     Electric        346  6001.0  900368940.0\n",
       "2      6001  Flexible Fuel Vehicle (FFV)         13  6001.0  900368940.0\n",
       "3      6001                     Gasoline       5952  6001.0  900368940.0\n",
       "4      6002                       Diesel        166  6002.0  900387000.0"
      ]
     },
     "execution_count": 28,
     "metadata": {},
     "output_type": "execute_result"
    }
   ],
   "source": [
    "by_cty_fueltype.head()"
   ]
  },
  {
   "cell_type": "code",
   "execution_count": 25,
   "id": "f39b889e",
   "metadata": {},
   "outputs": [],
   "source": [
    "# Match and drop unneeded columns\n",
    "by_cty_fueltype = by_zip_fueltype.merge(zips_to_counties_ct_max, left_on = \"ZIP_CODE\", right_on = \"ZIP\", how = \"left\")\n",
    "by_cty_fueltype = by_cty_fueltype.iloc[:, ~by_cty_fueltype.columns.isin([\"Unnamed: 0\", \"TOT_RATIO\"])]"
   ]
  },
  {
   "cell_type": "code",
   "execution_count": 27,
   "id": "b59d74aa",
   "metadata": {},
   "outputs": [
    {
     "data": {
      "text/html": [
       "<div>\n",
       "<style scoped>\n",
       "    .dataframe tbody tr th:only-of-type {\n",
       "        vertical-align: middle;\n",
       "    }\n",
       "\n",
       "    .dataframe tbody tr th {\n",
       "        vertical-align: top;\n",
       "    }\n",
       "\n",
       "    .dataframe thead th {\n",
       "        text-align: right;\n",
       "    }\n",
       "</style>\n",
       "<table border=\"1\" class=\"dataframe\">\n",
       "  <thead>\n",
       "    <tr style=\"text-align: right;\">\n",
       "      <th></th>\n",
       "      <th>ZIP_CODE</th>\n",
       "      <th>FuelTypePrimary</th>\n",
       "      <th>VEH_COUNT</th>\n",
       "      <th>ZIP</th>\n",
       "      <th>COUNTY_SUB</th>\n",
       "    </tr>\n",
       "  </thead>\n",
       "  <tbody>\n",
       "    <tr>\n",
       "      <th>224</th>\n",
       "      <td>6094</td>\n",
       "      <td>Gasoline</td>\n",
       "      <td>1</td>\n",
       "      <td>NaN</td>\n",
       "      <td>NaN</td>\n",
       "    </tr>\n",
       "    <tr>\n",
       "      <th>352</th>\n",
       "      <td>6245</td>\n",
       "      <td>Gasoline</td>\n",
       "      <td>2</td>\n",
       "      <td>NaN</td>\n",
       "      <td>NaN</td>\n",
       "    </tr>\n",
       "    <tr>\n",
       "      <th>722</th>\n",
       "      <td>6474</td>\n",
       "      <td>Electric</td>\n",
       "      <td>2</td>\n",
       "      <td>NaN</td>\n",
       "      <td>NaN</td>\n",
       "    </tr>\n",
       "    <tr>\n",
       "      <th>1105</th>\n",
       "      <td>6857</td>\n",
       "      <td>Gasoline</td>\n",
       "      <td>2</td>\n",
       "      <td>NaN</td>\n",
       "      <td>NaN</td>\n",
       "    </tr>\n",
       "  </tbody>\n",
       "</table>\n",
       "</div>"
      ],
      "text/plain": [
       "      ZIP_CODE FuelTypePrimary  VEH_COUNT  ZIP  COUNTY_SUB\n",
       "224       6094        Gasoline          1  NaN         NaN\n",
       "352       6245        Gasoline          2  NaN         NaN\n",
       "722       6474        Electric          2  NaN         NaN\n",
       "1105      6857        Gasoline          2  NaN         NaN"
      ]
     },
     "execution_count": 27,
     "metadata": {},
     "output_type": "execute_result"
    }
   ],
   "source": [
    "# Check what has not matched\n",
    "by_cty_fueltype[by_cty_fueltype[\"COUNTY_SUB\"].isna()]"
   ]
  },
  {
   "cell_type": "code",
   "execution_count": 29,
   "id": "1ef2312b",
   "metadata": {},
   "outputs": [],
   "source": [
    "# Save\n",
    "by_cty_fueltype.to_csv(path / \"data\" / \"outputs\" / \"vehicle_sales_by_zip_cty_fueltype.csv\")"
   ]
  },
  {
   "cell_type": "code",
   "execution_count": null,
   "id": "a0ebc58a",
   "metadata": {},
   "outputs": [],
   "source": [
    "# Now try and get the percentage within each zip\n",
    "by_zip_fueltype = by_zip_fueltype.groupby([\"ZIP_CODE\", \"FuelTypePrimary\"]).agg({\"VEH_COUNT\":\"sum\"})\n",
    "by_zip_fueltype[\"Percentage\"] = by_zip_fueltype.groupby(level = 0).apply(lambda x: (x*100 / x.sum()))"
   ]
  },
  {
   "cell_type": "code",
   "execution_count": 32,
   "id": "3960eef0",
   "metadata": {},
   "outputs": [],
   "source": [
    " # Now aggregate by percentage within ZIPs\n",
    "by_cty_fueltype_pctg = by_cty_fueltype.groupby([\"ZIP_CODE\", \"COUNTY_SUB\", \"FuelTypePrimary\"]).agg({\"VEH_COUNT\":\"sum\"})\n",
    "by_cty_fueltype_pctg[\"Percentage\"] = by_cty_fueltype_pctg.groupby(level = 0).apply(lambda x: (x*100 / x.sum()))"
   ]
  },
  {
   "cell_type": "code",
   "execution_count": 34,
   "id": "e98e2e98",
   "metadata": {},
   "outputs": [],
   "source": [
    "by_cty_fueltype_pctg = by_cty_fueltype_pctg.reset_index()"
   ]
  },
  {
   "cell_type": "code",
   "execution_count": 37,
   "id": "79712810",
   "metadata": {},
   "outputs": [],
   "source": [
    "# Save\n",
    "by_cty_fueltype_pctg.to_csv(path / \"data\" / \"outputs\" / \"vehicle_sales_by_zip_cty_fueltype_pctg.csv\")"
   ]
  },
  {
   "cell_type": "code",
   "execution_count": 67,
   "id": "f00ad374",
   "metadata": {},
   "outputs": [],
   "source": [
    "# Aggregate by percentage within COUNTIES, dropping zips\n",
    "# Drop ZIPs\n",
    "by_cty_only_fueltype = by_cty_fueltype.drop(\"ZIP_CODE\", axis = 1)\n",
    "by_cty_only_fueltype = by_cty_only_fueltype.drop(\"ZIP\", axis = 1)"
   ]
  },
  {
   "cell_type": "code",
   "execution_count": 68,
   "id": "8b87a343",
   "metadata": {},
   "outputs": [],
   "source": [
    "# Aggregate by county\n",
    "by_cty_only_fueltype = by_cty_only_fueltype.groupby([\"COUNTY_SUB\", \"FuelTypePrimary\"]).sum()\n",
    "by_cty_only_fueltype = by_cty_only_fueltype.reset_index()\n",
    "\n",
    "# Create a percentage\n",
    "by_cty_only_fueltype_pctg = by_cty_only_fueltype.groupby([\"COUNTY_SUB\", \"FuelTypePrimary\"]).agg({\"VEH_COUNT\":\"sum\"})\n",
    "by_cty_only_fueltype_pctg[\"Percentage\"] = by_cty_only_fueltype_pctg.groupby(level = 0).apply(lambda x: (x*100/x.sum()))"
   ]
  },
  {
   "cell_type": "code",
   "execution_count": 69,
   "id": "f7a4df8e",
   "metadata": {},
   "outputs": [],
   "source": [
    "by_cty_only_fueltype_pctg = by_cty_only_fueltype_pctg.reset_index()"
   ]
  },
  {
   "cell_type": "code",
   "execution_count": 71,
   "id": "d6e09a4a",
   "metadata": {},
   "outputs": [],
   "source": [
    "# Save\n",
    "by_cty_only_fueltype_pctg.to_csv(path / \"data\" / \"outputs\" / \"vehicle_sales_by_cty_pctg.csv\")"
   ]
  },
  {
   "cell_type": "code",
   "execution_count": 79,
   "id": "c185d7f5",
   "metadata": {},
   "outputs": [
    {
     "data": {
      "text/html": [
       "<div>\n",
       "<style scoped>\n",
       "    .dataframe tbody tr th:only-of-type {\n",
       "        vertical-align: middle;\n",
       "    }\n",
       "\n",
       "    .dataframe tbody tr th {\n",
       "        vertical-align: top;\n",
       "    }\n",
       "\n",
       "    .dataframe thead th {\n",
       "        text-align: right;\n",
       "    }\n",
       "</style>\n",
       "<table border=\"1\" class=\"dataframe\">\n",
       "  <thead>\n",
       "    <tr style=\"text-align: right;\">\n",
       "      <th></th>\n",
       "      <th>VEH_COUNT</th>\n",
       "      <th>Percentage</th>\n",
       "    </tr>\n",
       "    <tr>\n",
       "      <th>COUNTY_SUB</th>\n",
       "      <th></th>\n",
       "      <th></th>\n",
       "    </tr>\n",
       "  </thead>\n",
       "  <tbody>\n",
       "    <tr>\n",
       "      <th>900371390.0</th>\n",
       "      <td>1</td>\n",
       "      <td>100.0</td>\n",
       "    </tr>\n",
       "    <tr>\n",
       "      <th>901134250.0</th>\n",
       "      <td>2</td>\n",
       "      <td>100.0</td>\n",
       "    </tr>\n",
       "    <tr>\n",
       "      <th>901133900.0</th>\n",
       "      <td>2</td>\n",
       "      <td>100.0</td>\n",
       "    </tr>\n",
       "    <tr>\n",
       "      <th>900148620.0</th>\n",
       "      <td>7</td>\n",
       "      <td>100.0</td>\n",
       "    </tr>\n",
       "    <tr>\n",
       "      <th>900118500.0</th>\n",
       "      <td>13</td>\n",
       "      <td>100.0</td>\n",
       "    </tr>\n",
       "    <tr>\n",
       "      <th>900183430.0</th>\n",
       "      <td>16</td>\n",
       "      <td>100.0</td>\n",
       "    </tr>\n",
       "    <tr>\n",
       "      <th>900312270.0</th>\n",
       "      <td>20</td>\n",
       "      <td>100.0</td>\n",
       "    </tr>\n",
       "    <tr>\n",
       "      <th>901144210.0</th>\n",
       "      <td>24</td>\n",
       "      <td>100.0</td>\n",
       "    </tr>\n",
       "    <tr>\n",
       "      <th>901369220.0</th>\n",
       "      <td>24</td>\n",
       "      <td>100.0</td>\n",
       "    </tr>\n",
       "    <tr>\n",
       "      <th>900517240.0</th>\n",
       "      <td>58</td>\n",
       "      <td>100.0</td>\n",
       "    </tr>\n",
       "    <tr>\n",
       "      <th>901344910.0</th>\n",
       "      <td>123</td>\n",
       "      <td>100.0</td>\n",
       "    </tr>\n",
       "    <tr>\n",
       "      <th>900722490.0</th>\n",
       "      <td>172</td>\n",
       "      <td>100.0</td>\n",
       "    </tr>\n",
       "    <tr>\n",
       "      <th>900516050.0</th>\n",
       "      <td>190</td>\n",
       "      <td>100.0</td>\n",
       "    </tr>\n",
       "    <tr>\n",
       "      <th>901536000.0</th>\n",
       "      <td>508</td>\n",
       "      <td>100.0</td>\n",
       "    </tr>\n",
       "    <tr>\n",
       "      <th>900337140.0</th>\n",
       "      <td>657</td>\n",
       "      <td>100.0</td>\n",
       "    </tr>\n",
       "    <tr>\n",
       "      <th>901306260.0</th>\n",
       "      <td>764</td>\n",
       "      <td>100.0</td>\n",
       "    </tr>\n",
       "    <tr>\n",
       "      <th>900554030.0</th>\n",
       "      <td>846</td>\n",
       "      <td>100.0</td>\n",
       "    </tr>\n",
       "    <tr>\n",
       "      <th>900566420.0</th>\n",
       "      <td>846</td>\n",
       "      <td>100.0</td>\n",
       "    </tr>\n",
       "    <tr>\n",
       "      <th>900502760.0</th>\n",
       "      <td>865</td>\n",
       "      <td>100.0</td>\n",
       "    </tr>\n",
       "    <tr>\n",
       "      <th>901156270.0</th>\n",
       "      <td>902</td>\n",
       "      <td>100.0</td>\n",
       "    </tr>\n",
       "  </tbody>\n",
       "</table>\n",
       "</div>"
      ],
      "text/plain": [
       "             VEH_COUNT  Percentage\n",
       "COUNTY_SUB                        \n",
       "900371390.0          1       100.0\n",
       "901134250.0          2       100.0\n",
       "901133900.0          2       100.0\n",
       "900148620.0          7       100.0\n",
       "900118500.0         13       100.0\n",
       "900183430.0         16       100.0\n",
       "900312270.0         20       100.0\n",
       "901144210.0         24       100.0\n",
       "901369220.0         24       100.0\n",
       "900517240.0         58       100.0\n",
       "901344910.0        123       100.0\n",
       "900722490.0        172       100.0\n",
       "900516050.0        190       100.0\n",
       "901536000.0        508       100.0\n",
       "900337140.0        657       100.0\n",
       "901306260.0        764       100.0\n",
       "900554030.0        846       100.0\n",
       "900566420.0        846       100.0\n",
       "900502760.0        865       100.0\n",
       "901156270.0        902       100.0"
      ]
     },
     "execution_count": 79,
     "metadata": {},
     "output_type": "execute_result"
    }
   ],
   "source": [
    "by_cty_only_fueltype_pctg.groupby(\"COUNTY_SUB\").sum().sort_values(\"VEH_COUNT\").head(20)"
   ]
  }
 ],
 "metadata": {
  "kernelspec": {
   "display_name": "Python 3 (ipykernel)",
   "language": "python",
   "name": "python3"
  },
  "language_info": {
   "codemirror_mode": {
    "name": "ipython",
    "version": 3
   },
   "file_extension": ".py",
   "mimetype": "text/x-python",
   "name": "python",
   "nbconvert_exporter": "python",
   "pygments_lexer": "ipython3",
   "version": "3.12.0"
  }
 },
 "nbformat": 4,
 "nbformat_minor": 5
}
