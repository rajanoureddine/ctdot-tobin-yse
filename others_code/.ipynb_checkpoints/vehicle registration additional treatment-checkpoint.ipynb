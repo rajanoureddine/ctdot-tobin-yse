{
 "cells": [
  {
   "cell_type": "code",
   "execution_count": 2,
   "metadata": {},
   "outputs": [],
   "source": [
    "import pandas as pd\n",
    "import numpy as np\n",
    "import os\n",
    "import re\n",
    "# import tabula"
   ]
  },
  {
   "cell_type": "code",
   "execution_count": 1,
   "metadata": {},
   "outputs": [
    {
     "ename": "SyntaxError",
     "evalue": "invalid syntax (2561552589.py, line 2)",
     "output_type": "error",
     "traceback": [
      "\u001b[1;36m  Cell \u001b[1;32mIn[1], line 2\u001b[1;36m\u001b[0m\n\u001b[1;33m    pip install git+https://github.com/pdftables/python-pdftables-api.git\u001b[0m\n\u001b[1;37m        ^\u001b[0m\n\u001b[1;31mSyntaxError\u001b[0m\u001b[1;31m:\u001b[0m invalid syntax\n"
     ]
    }
   ],
   "source": [
    "# install pdf to csv\n",
    "pip install git+https://github.com/pdftables/python-pdftables-api.git\n",
    "# see https://www.geeksforgeeks.org/convert-pdf-to-csv-using-python/ for reference"
   ]
  },
  {
   "cell_type": "markdown",
   "metadata": {},
   "source": [
    "keep track with the example below"
   ]
  },
  {
   "cell_type": "code",
   "execution_count": 3,
   "metadata": {},
   "outputs": [],
   "source": [
    "path = '../../1_rawdata/Vehicles_2022/Town files -- need additional treating/'\n",
    "sav_path = '../../1_rawdata/Vehicles_2022/Town files/'"
   ]
  },
  {
   "cell_type": "code",
   "execution_count": 4,
   "metadata": {},
   "outputs": [
    {
     "data": {
      "text/plain": [
       "['131_Southington_MV_21.xlsx']"
      ]
     },
     "execution_count": 4,
     "metadata": {},
     "output_type": "execute_result"
    }
   ],
   "source": [
    "os.listdir(path)"
   ]
  },
  {
   "cell_type": "markdown",
   "metadata": {},
   "source": [
    "# 2022.10.14 -- Guilford_MV_21.csv"
   ]
  },
  {
   "cell_type": "code",
   "execution_count": 49,
   "metadata": {},
   "outputs": [
    {
     "data": {
      "text/plain": [
       "['Bridgewater_MV_21.pdf',\n",
       " 'Guilford_MV_21.csv',\n",
       " 'Meriden_MV_21.pdf',\n",
       " 'Salem_MV_21.xls']"
      ]
     },
     "execution_count": 49,
     "metadata": {},
     "output_type": "execute_result"
    }
   ],
   "source": [
    "os.listdir(path)"
   ]
  },
  {
   "cell_type": "code",
   "execution_count": 62,
   "metadata": {},
   "outputs": [],
   "source": [
    "f = 'Guilford_MV_21.csv'"
   ]
  },
  {
   "cell_type": "code",
   "execution_count": 63,
   "metadata": {},
   "outputs": [],
   "source": [
    "df = pd.read_csv(path + f)"
   ]
  },
  {
   "cell_type": "code",
   "execution_count": 64,
   "metadata": {},
   "outputs": [],
   "source": [
    "df.TAXPAYER = df.TAXPAYER.str.strip()\n",
    "df.STREET = df.STREET.str.strip()\n",
    "df.CITY = df.CITY.str.strip()\n",
    "df.STATE = df.STATE.str.strip()\n",
    "df.VEHICLE_MAKE = df.VEHICLE_MAKE.str.strip()\n",
    "df.VEHICLE_MODEL = df.VEHICLE_MODEL.str.strip()\n",
    "df.VEHICLE_ID = df.VEHICLE_ID.str.strip()\n",
    "\n",
    "df.ZIP1 = df.ZIP1.astype(str).str.zfill(5)\n",
    "df.ZIP1 = df.ZIP1.replace('     ','')"
   ]
  },
  {
   "cell_type": "code",
   "execution_count": 65,
   "metadata": {},
   "outputs": [
    {
     "data": {
      "text/plain": [
       "'A & A EXCAVATING LLC'"
      ]
     },
     "execution_count": 65,
     "metadata": {},
     "output_type": "execute_result"
    }
   ],
   "source": [
    "df.loc[0,'TAXPAYER']"
   ]
  },
  {
   "cell_type": "code",
   "execution_count": 67,
   "metadata": {},
   "outputs": [],
   "source": [
    "df.to_csv(sav_path + f)"
   ]
  },
  {
   "cell_type": "markdown",
   "metadata": {},
   "source": [
    "# 2022.11.6 -- Meriden_MV_21.xlsx"
   ]
  },
  {
   "cell_type": "markdown",
   "metadata": {},
   "source": [
    "## begin"
   ]
  },
  {
   "cell_type": "code",
   "execution_count": 5,
   "metadata": {},
   "outputs": [
    {
     "data": {
      "text/plain": [
       "['Bridgewater_MV_21.pdf', 'Meriden_MV_21.xlsx']"
      ]
     },
     "execution_count": 5,
     "metadata": {},
     "output_type": "execute_result"
    }
   ],
   "source": [
    "os.listdir(path)"
   ]
  },
  {
   "cell_type": "code",
   "execution_count": 6,
   "metadata": {},
   "outputs": [],
   "source": [
    "f = 'Meriden_MV_21.xlsx'"
   ]
  },
  {
   "cell_type": "code",
   "execution_count": 7,
   "metadata": {},
   "outputs": [],
   "source": [
    "df = pd.read_excel(path + f)\n",
    "df_copy = df.copy()"
   ]
  },
  {
   "cell_type": "code",
   "execution_count": 8,
   "metadata": {},
   "outputs": [
    {
     "data": {
      "text/html": [
       "<div>\n",
       "<style scoped>\n",
       "    .dataframe tbody tr th:only-of-type {\n",
       "        vertical-align: middle;\n",
       "    }\n",
       "\n",
       "    .dataframe tbody tr th {\n",
       "        vertical-align: top;\n",
       "    }\n",
       "\n",
       "    .dataframe thead th {\n",
       "        text-align: right;\n",
       "    }\n",
       "</style>\n",
       "<table border=\"1\" class=\"dataframe\">\n",
       "  <thead>\n",
       "    <tr style=\"text-align: right;\">\n",
       "      <th></th>\n",
       "      <th>V1</th>\n",
       "      <th>V2</th>\n",
       "      <th>V3</th>\n",
       "      <th>V4</th>\n",
       "      <th>V5</th>\n",
       "      <th>V6</th>\n",
       "      <th>V1.1</th>\n",
       "      <th>V2.1</th>\n",
       "      <th>V3.1</th>\n",
       "      <th>V4.1</th>\n",
       "      <th>V5.1</th>\n",
       "      <th>V2.2</th>\n",
       "      <th>V3.2</th>\n",
       "      <th>V4.2</th>\n",
       "      <th>V5.2</th>\n",
       "      <th>V6.1</th>\n",
       "    </tr>\n",
       "  </thead>\n",
       "  <tbody>\n",
       "    <tr>\n",
       "      <th>0</th>\n",
       "      <td>50001</td>\n",
       "      <td>119 EMPIRE AVENUE LLC</td>\n",
       "      <td>5003 7100</td>\n",
       "      <td>31,480</td>\n",
       "      <td>NaN</td>\n",
       "      <td>NaN</td>\n",
       "      <td>NaN</td>\n",
       "      <td>119 EMPIRE AVE</td>\n",
       "      <td>3GCUYDED8KG101637</td>\n",
       "      <td>PICKUP</td>\n",
       "      <td>NaN</td>\n",
       "      <td>MERIDEN CT 06450-1928</td>\n",
       "      <td>CHEVR SILVERAD 2019 03</td>\n",
       "      <td>GRA</td>\n",
       "      <td>31,480</td>\n",
       "      <td>NaN</td>\n",
       "    </tr>\n",
       "    <tr>\n",
       "      <th>1</th>\n",
       "      <td>50002</td>\n",
       "      <td>480-492 CHAMBERLAIN HIGHWAY LLC</td>\n",
       "      <td>3300 5000</td>\n",
       "      <td>500</td>\n",
       "      <td>NaN</td>\n",
       "      <td>NaN</td>\n",
       "      <td>NaN</td>\n",
       "      <td>1400 OLD NORTH COLONY RD</td>\n",
       "      <td>98RC419975</td>\n",
       "      <td>PICKUP</td>\n",
       "      <td>NaN</td>\n",
       "      <td>MERIDEN CT 06450-1960</td>\n",
       "      <td>FORD NONE</td>\n",
       "      <td>1950 25</td>\n",
       "      <td>BLA</td>\n",
       "      <td>500</td>\n",
       "    </tr>\n",
       "    <tr>\n",
       "      <th>2</th>\n",
       "      <td>50003</td>\n",
       "      <td>A &amp; F TRUCKING LLC</td>\n",
       "      <td>18900 80000</td>\n",
       "      <td>43,200</td>\n",
       "      <td>NaN</td>\n",
       "      <td>NaN</td>\n",
       "      <td>NaN</td>\n",
       "      <td>622 HANOVER RD</td>\n",
       "      <td>1XPHD49X4CD167519</td>\n",
       "      <td>TT</td>\n",
       "      <td>NaN</td>\n",
       "      <td>MERIDEN CT 06451-5311</td>\n",
       "      <td>PTRB CONVENTI 2012 02</td>\n",
       "      <td>WHT</td>\n",
       "      <td>43,200</td>\n",
       "      <td>NaN</td>\n",
       "    </tr>\n",
       "    <tr>\n",
       "      <th>3</th>\n",
       "      <td>50004</td>\n",
       "      <td>A &amp; F TRUCKING LLC</td>\n",
       "      <td>16000 80000</td>\n",
       "      <td>50,750</td>\n",
       "      <td>NaN</td>\n",
       "      <td>NaN</td>\n",
       "      <td>NaN</td>\n",
       "      <td>622 HANOVER RD</td>\n",
       "      <td>1XPHD49X9DD191803</td>\n",
       "      <td>TT</td>\n",
       "      <td>NaN</td>\n",
       "      <td>MERIDEN CT 06451-5311</td>\n",
       "      <td>PTRB CONVENTI 2013 02</td>\n",
       "      <td>RED</td>\n",
       "      <td>50,750</td>\n",
       "      <td>NaN</td>\n",
       "    </tr>\n",
       "    <tr>\n",
       "      <th>4</th>\n",
       "      <td>50005</td>\n",
       "      <td>A &amp; F TRUCKING LLC</td>\n",
       "      <td>18000 80000</td>\n",
       "      <td>6,390</td>\n",
       "      <td>NaN</td>\n",
       "      <td>NaN</td>\n",
       "      <td>NaN</td>\n",
       "      <td>622 HANOVER RD</td>\n",
       "      <td>1FUYDPYB6RP547101</td>\n",
       "      <td>TRUCK</td>\n",
       "      <td>NaN</td>\n",
       "      <td>MERIDEN CT 06451-5311</td>\n",
       "      <td>FRHT CONV</td>\n",
       "      <td>1994 02</td>\n",
       "      <td>GRN</td>\n",
       "      <td>6,390</td>\n",
       "    </tr>\n",
       "  </tbody>\n",
       "</table>\n",
       "</div>"
      ],
      "text/plain": [
       "      V1                               V2           V3      V4   V5   V6  \\\n",
       "0  50001            119 EMPIRE AVENUE LLC    5003 7100  31,480  NaN  NaN   \n",
       "1  50002  480-492 CHAMBERLAIN HIGHWAY LLC    3300 5000     500  NaN  NaN   \n",
       "2  50003               A & F TRUCKING LLC  18900 80000  43,200  NaN  NaN   \n",
       "3  50004               A & F TRUCKING LLC  16000 80000  50,750  NaN  NaN   \n",
       "4  50005               A & F TRUCKING LLC  18000 80000   6,390  NaN  NaN   \n",
       "\n",
       "   V1.1                      V2.1               V3.1    V4.1 V5.1  \\\n",
       "0   NaN            119 EMPIRE AVE  3GCUYDED8KG101637  PICKUP  NaN   \n",
       "1   NaN  1400 OLD NORTH COLONY RD         98RC419975  PICKUP  NaN   \n",
       "2   NaN            622 HANOVER RD  1XPHD49X4CD167519      TT  NaN   \n",
       "3   NaN            622 HANOVER RD  1XPHD49X9DD191803      TT  NaN   \n",
       "4   NaN            622 HANOVER RD  1FUYDPYB6RP547101   TRUCK  NaN   \n",
       "\n",
       "                    V2.2                    V3.2     V4.2    V5.2   V6.1  \n",
       "0  MERIDEN CT 06450-1928  CHEVR SILVERAD 2019 03      GRA  31,480    NaN  \n",
       "1  MERIDEN CT 06450-1960               FORD NONE  1950 25     BLA    500  \n",
       "2  MERIDEN CT 06451-5311   PTRB CONVENTI 2012 02      WHT  43,200    NaN  \n",
       "3  MERIDEN CT 06451-5311   PTRB CONVENTI 2013 02      RED  50,750    NaN  \n",
       "4  MERIDEN CT 06451-5311               FRHT CONV  1994 02     GRN  6,390  "
      ]
     },
     "execution_count": 8,
     "metadata": {},
     "output_type": "execute_result"
    }
   ],
   "source": [
    "df.head()"
   ]
  },
  {
   "cell_type": "markdown",
   "metadata": {},
   "source": [
    "### check specific columns"
   ]
  },
  {
   "cell_type": "code",
   "execution_count": 9,
   "metadata": {},
   "outputs": [
    {
     "data": {
      "text/plain": [
       "array([ 3,  4,  5,  6,  7, 15, 16])"
      ]
     },
     "execution_count": 9,
     "metadata": {},
     "output_type": "execute_result"
    }
   ],
   "source": [
    "np.unique([len(str(i)) for i in df['V5.2']])"
   ]
  },
  {
   "cell_type": "code",
   "execution_count": 10,
   "metadata": {},
   "outputs": [
    {
     "data": {
      "text/plain": [
       "array([ 6,  3,  5,  7,  4, 16, 15], dtype=int64)"
      ]
     },
     "execution_count": 10,
     "metadata": {},
     "output_type": "execute_result"
    }
   ],
   "source": [
    "# if keep V5.2\n",
    "df['V52L'] = df['V5.2'].astype(str).map(len)\n",
    "df['V52L'].unique()"
   ]
  },
  {
   "cell_type": "code",
   "execution_count": 11,
   "metadata": {},
   "outputs": [
    {
     "data": {
      "text/plain": [
       "array(['SIERRA K 2005 01', 'FORTE EX 2014 01', '328IC AU 1997 01',\n",
       "       'RAM PROM 2015 03'], dtype=object)"
      ]
     },
     "execution_count": 11,
     "metadata": {},
     "output_type": "execute_result"
    }
   ],
   "source": [
    "df[df.V52L == 16]['V5.2'].unique()"
   ]
  },
  {
   "cell_type": "code",
   "execution_count": 12,
   "metadata": {},
   "outputs": [
    {
     "data": {
      "text/plain": [
       "array([ 3,  5,  6, 33, 32,  2, 23, 20, 34, 31, 22,  7, 44, 18, 19, 17, 21],\n",
       "      dtype=int64)"
      ]
     },
     "execution_count": 12,
     "metadata": {},
     "output_type": "execute_result"
    }
   ],
   "source": [
    "# if keep V6.1\n",
    "df['V61L'] = df['V6.1'].astype(str).map(len)\n",
    "df['V61L'].unique()"
   ]
  },
  {
   "cell_type": "code",
   "execution_count": 13,
   "metadata": {},
   "outputs": [
    {
     "data": {
      "text/plain": [
       "array(['1000 C            470'], dtype=object)"
      ]
     },
     "execution_count": 13,
     "metadata": {},
     "output_type": "execute_result"
    }
   ],
   "source": [
    "df[df.V61L == 21]['V6.1'].unique()"
   ]
  },
  {
   "cell_type": "markdown",
   "metadata": {},
   "source": [
    "## keep only targeted columns"
   ]
  },
  {
   "cell_type": "code",
   "execution_count": 14,
   "metadata": {},
   "outputs": [],
   "source": [
    "# keep only interested columns\n",
    "df = df[['V1', 'V2', 'V2.1', 'V3.1', 'V2.2', 'V3.2', 'V4.2', 'V5.2']]"
   ]
  },
  {
   "cell_type": "markdown",
   "metadata": {},
   "source": [
    "always matched:\n",
    "V1 -> UID, V2 -> Name, V2.1 -> Street, V3.1 -> VIN"
   ]
  },
  {
   "cell_type": "markdown",
   "metadata": {},
   "source": [
    "### check V2.2\n",
    "    three rows have error: UID = 59270, 64442, and 83884\n",
    "    manually add later"
   ]
  },
  {
   "cell_type": "code",
   "execution_count": 15,
   "metadata": {},
   "outputs": [
    {
     "data": {
      "text/plain": [
       "array([21, 17, 24, 23, 10, 25, 22, 20, 27, 19, 26, 15, 18, 16, 28,  5, 13,\n",
       "        6, 12, 30,  9], dtype=int64)"
      ]
     },
     "execution_count": 15,
     "metadata": {},
     "output_type": "execute_result"
    }
   ],
   "source": [
    "df['l'] = df['V2.2'].astype(str).map(len)\n",
    "df.l.unique()"
   ]
  },
  {
   "cell_type": "code",
   "execution_count": 16,
   "metadata": {},
   "outputs": [
    {
     "data": {
      "text/html": [
       "<div>\n",
       "<style scoped>\n",
       "    .dataframe tbody tr th:only-of-type {\n",
       "        vertical-align: middle;\n",
       "    }\n",
       "\n",
       "    .dataframe tbody tr th {\n",
       "        vertical-align: top;\n",
       "    }\n",
       "\n",
       "    .dataframe thead th {\n",
       "        text-align: right;\n",
       "    }\n",
       "</style>\n",
       "<table border=\"1\" class=\"dataframe\">\n",
       "  <thead>\n",
       "    <tr style=\"text-align: right;\">\n",
       "      <th></th>\n",
       "      <th>V1</th>\n",
       "      <th>V2</th>\n",
       "      <th>V2.1</th>\n",
       "      <th>V3.1</th>\n",
       "      <th>V2.2</th>\n",
       "      <th>V3.2</th>\n",
       "      <th>V4.2</th>\n",
       "      <th>V5.2</th>\n",
       "      <th>l</th>\n",
       "    </tr>\n",
       "  </thead>\n",
       "  <tbody>\n",
       "    <tr>\n",
       "      <th>9269</th>\n",
       "      <td>59270</td>\n",
       "      <td>CYR RICHARD J</td>\n",
       "      <td>76 BUTLER ST A1004</td>\n",
       "      <td>KMHDU46D98U407290</td>\n",
       "      <td>220 F</td>\n",
       "      <td>NaN</td>\n",
       "      <td>NaN</td>\n",
       "      <td>NaN</td>\n",
       "      <td>5</td>\n",
       "    </tr>\n",
       "    <tr>\n",
       "      <th>14441</th>\n",
       "      <td>64442</td>\n",
       "      <td>GARDNER ELLIOTT</td>\n",
       "      <td>113 EVERGREEN LANE</td>\n",
       "      <td>1FTRX14829FA86382</td>\n",
       "      <td>1000 E</td>\n",
       "      <td>NaN</td>\n",
       "      <td>NaN</td>\n",
       "      <td>NaN</td>\n",
       "      <td>6</td>\n",
       "    </tr>\n",
       "    <tr>\n",
       "      <th>33883</th>\n",
       "      <td>83884</td>\n",
       "      <td>RICHARDS MARYANNE L</td>\n",
       "      <td>360 BROAD ST APT C7</td>\n",
       "      <td>3N1AB7APXEL626350</td>\n",
       "      <td>1000 E</td>\n",
       "      <td>NaN</td>\n",
       "      <td>NaN</td>\n",
       "      <td>NaN</td>\n",
       "      <td>6</td>\n",
       "    </tr>\n",
       "    <tr>\n",
       "      <th>44825</th>\n",
       "      <td>94826</td>\n",
       "      <td>YANKEE GAS</td>\n",
       "      <td>107 SELDEN ST</td>\n",
       "      <td>3C6TRVAG8FE505450</td>\n",
       "      <td>BERLIN CT</td>\n",
       "      <td>-</td>\n",
       "      <td>RAM</td>\n",
       "      <td>RAM PROM 2015 03</td>\n",
       "      <td>9</td>\n",
       "    </tr>\n",
       "    <tr>\n",
       "      <th>44826</th>\n",
       "      <td>94827</td>\n",
       "      <td>YANKEE GAS</td>\n",
       "      <td>107 SELDEN ST</td>\n",
       "      <td>3C6TRVAGXFE505451</td>\n",
       "      <td>BERLIN CT</td>\n",
       "      <td>-</td>\n",
       "      <td>RAM</td>\n",
       "      <td>RAM PROM 2015 03</td>\n",
       "      <td>9</td>\n",
       "    </tr>\n",
       "  </tbody>\n",
       "</table>\n",
       "</div>"
      ],
      "text/plain": [
       "          V1                   V2                 V2.1               V3.1  \\\n",
       "9269   59270        CYR RICHARD J   76 BUTLER ST A1004  KMHDU46D98U407290   \n",
       "14441  64442      GARDNER ELLIOTT   113 EVERGREEN LANE  1FTRX14829FA86382   \n",
       "33883  83884  RICHARDS MARYANNE L  360 BROAD ST APT C7  3N1AB7APXEL626350   \n",
       "44825  94826           YANKEE GAS        107 SELDEN ST  3C6TRVAG8FE505450   \n",
       "44826  94827           YANKEE GAS        107 SELDEN ST  3C6TRVAGXFE505451   \n",
       "\n",
       "            V2.2 V3.2 V4.2              V5.2  l  \n",
       "9269       220 F  NaN  NaN               NaN  5  \n",
       "14441     1000 E  NaN  NaN               NaN  6  \n",
       "33883     1000 E  NaN  NaN               NaN  6  \n",
       "44825  BERLIN CT    -  RAM  RAM PROM 2015 03  9  \n",
       "44826  BERLIN CT    -  RAM  RAM PROM 2015 03  9  "
      ]
     },
     "execution_count": 16,
     "metadata": {},
     "output_type": "execute_result"
    }
   ],
   "source": [
    "df[df.l < 10]"
   ]
  },
  {
   "cell_type": "code",
   "execution_count": 17,
   "metadata": {},
   "outputs": [
    {
     "data": {
      "text/html": [
       "<div>\n",
       "<style scoped>\n",
       "    .dataframe tbody tr th:only-of-type {\n",
       "        vertical-align: middle;\n",
       "    }\n",
       "\n",
       "    .dataframe tbody tr th {\n",
       "        vertical-align: top;\n",
       "    }\n",
       "\n",
       "    .dataframe thead th {\n",
       "        text-align: right;\n",
       "    }\n",
       "</style>\n",
       "<table border=\"1\" class=\"dataframe\">\n",
       "  <thead>\n",
       "    <tr style=\"text-align: right;\">\n",
       "      <th></th>\n",
       "      <th>V1</th>\n",
       "      <th>V2</th>\n",
       "      <th>V3</th>\n",
       "      <th>V4</th>\n",
       "      <th>V5</th>\n",
       "      <th>V6</th>\n",
       "      <th>V1.1</th>\n",
       "      <th>V2.1</th>\n",
       "      <th>V3.1</th>\n",
       "      <th>V4.1</th>\n",
       "      <th>V5.1</th>\n",
       "      <th>V2.2</th>\n",
       "      <th>V3.2</th>\n",
       "      <th>V4.2</th>\n",
       "      <th>V5.2</th>\n",
       "      <th>V6.1</th>\n",
       "    </tr>\n",
       "  </thead>\n",
       "  <tbody>\n",
       "    <tr>\n",
       "      <th>33883</th>\n",
       "      <td>83884</td>\n",
       "      <td>RICHARDS MARYANNE L</td>\n",
       "      <td>2900</td>\n",
       "      <td>5,250</td>\n",
       "      <td>NaN</td>\n",
       "      <td>NaN</td>\n",
       "      <td>NaN</td>\n",
       "      <td>360 BROAD ST APT C7</td>\n",
       "      <td>3N1AB7APXEL626350</td>\n",
       "      <td>SEDAN</td>\n",
       "      <td>2000 A</td>\n",
       "      <td>1000 E</td>\n",
       "      <td>NaN</td>\n",
       "      <td>NaN</td>\n",
       "      <td>NaN</td>\n",
       "      <td>NaN</td>\n",
       "    </tr>\n",
       "  </tbody>\n",
       "</table>\n",
       "</div>"
      ],
      "text/plain": [
       "          V1                   V2    V3     V4   V5   V6  V1.1  \\\n",
       "33883  83884  RICHARDS MARYANNE L  2900  5,250  NaN  NaN   NaN   \n",
       "\n",
       "                      V2.1               V3.1   V4.1    V5.1    V2.2 V3.2  \\\n",
       "33883  360 BROAD ST APT C7  3N1AB7APXEL626350  SEDAN  2000 A  1000 E  NaN   \n",
       "\n",
       "      V4.2 V5.2 V6.1  \n",
       "33883  NaN  NaN  NaN  "
      ]
     },
     "execution_count": 17,
     "metadata": {},
     "output_type": "execute_result"
    }
   ],
   "source": [
    "df_copy[df_copy.V1 == 83884]"
   ]
  },
  {
   "cell_type": "code",
   "execution_count": 18,
   "metadata": {},
   "outputs": [],
   "source": [
    "df = df.drop(columns=['l'])"
   ]
  },
  {
   "cell_type": "markdown",
   "metadata": {},
   "source": [
    "## rename & harmonize"
   ]
  },
  {
   "cell_type": "code",
   "execution_count": 19,
   "metadata": {},
   "outputs": [],
   "source": [
    "# rename columns\n",
    "df = df.rename(columns={'V1': 'UID', 'V2': 'Name', 'V2.1': 'Street', 'V3.1': 'VIN', 'V2.2': 'City & Zip'})"
   ]
  },
  {
   "cell_type": "code",
   "execution_count": 20,
   "metadata": {},
   "outputs": [],
   "source": [
    "def extract_zip(s):\n",
    "    if s.find('-') == -1:\n",
    "        return np.nan\n",
    "    else:\n",
    "        return s[s.find('-') - 5: s.find('-')]\n",
    "\n",
    "def extract_state(s):\n",
    "    if s.find('-') == -1:\n",
    "        return s[-2:]\n",
    "    else:\n",
    "       return s[s.find('-') - 8: s.find('-') - 6]\n",
    "\n",
    "def extract_city(s):\n",
    "    if s.find('-') == -1:\n",
    "        return s[:-3]\n",
    "    else:\n",
    "       return s[:s.find('-') - 9]\n",
    "\n",
    "\n",
    "df['Zip'] = df['City & Zip'].astype(str).map(extract_zip)\n",
    "df['State'] = df['City & Zip'].astype(str).map(extract_state)\n",
    "df['City'] = df['City & Zip'].astype(str).map(extract_city)"
   ]
  },
  {
   "cell_type": "code",
   "execution_count": 21,
   "metadata": {},
   "outputs": [
    {
     "data": {
      "text/html": [
       "<div>\n",
       "<style scoped>\n",
       "    .dataframe tbody tr th:only-of-type {\n",
       "        vertical-align: middle;\n",
       "    }\n",
       "\n",
       "    .dataframe tbody tr th {\n",
       "        vertical-align: top;\n",
       "    }\n",
       "\n",
       "    .dataframe thead th {\n",
       "        text-align: right;\n",
       "    }\n",
       "</style>\n",
       "<table border=\"1\" class=\"dataframe\">\n",
       "  <thead>\n",
       "    <tr style=\"text-align: right;\">\n",
       "      <th></th>\n",
       "      <th>UID</th>\n",
       "      <th>Name</th>\n",
       "      <th>Street</th>\n",
       "      <th>VIN</th>\n",
       "      <th>City &amp; Zip</th>\n",
       "      <th>V3.2</th>\n",
       "      <th>V4.2</th>\n",
       "      <th>V5.2</th>\n",
       "      <th>Zip</th>\n",
       "      <th>State</th>\n",
       "      <th>City</th>\n",
       "    </tr>\n",
       "  </thead>\n",
       "  <tbody>\n",
       "    <tr>\n",
       "      <th>0</th>\n",
       "      <td>50001</td>\n",
       "      <td>119 EMPIRE AVENUE LLC</td>\n",
       "      <td>119 EMPIRE AVE</td>\n",
       "      <td>3GCUYDED8KG101637</td>\n",
       "      <td>MERIDEN CT 06450-1928</td>\n",
       "      <td>CHEVR SILVERAD 2019 03</td>\n",
       "      <td>GRA</td>\n",
       "      <td>31,480</td>\n",
       "      <td>06450</td>\n",
       "      <td>CT</td>\n",
       "      <td>MERIDEN</td>\n",
       "    </tr>\n",
       "    <tr>\n",
       "      <th>1</th>\n",
       "      <td>50002</td>\n",
       "      <td>480-492 CHAMBERLAIN HIGHWAY LLC</td>\n",
       "      <td>1400 OLD NORTH COLONY RD</td>\n",
       "      <td>98RC419975</td>\n",
       "      <td>MERIDEN CT 06450-1960</td>\n",
       "      <td>FORD NONE</td>\n",
       "      <td>1950 25</td>\n",
       "      <td>BLA</td>\n",
       "      <td>06450</td>\n",
       "      <td>CT</td>\n",
       "      <td>MERIDEN</td>\n",
       "    </tr>\n",
       "    <tr>\n",
       "      <th>2</th>\n",
       "      <td>50003</td>\n",
       "      <td>A &amp; F TRUCKING LLC</td>\n",
       "      <td>622 HANOVER RD</td>\n",
       "      <td>1XPHD49X4CD167519</td>\n",
       "      <td>MERIDEN CT 06451-5311</td>\n",
       "      <td>PTRB CONVENTI 2012 02</td>\n",
       "      <td>WHT</td>\n",
       "      <td>43,200</td>\n",
       "      <td>06451</td>\n",
       "      <td>CT</td>\n",
       "      <td>MERIDEN</td>\n",
       "    </tr>\n",
       "    <tr>\n",
       "      <th>3</th>\n",
       "      <td>50004</td>\n",
       "      <td>A &amp; F TRUCKING LLC</td>\n",
       "      <td>622 HANOVER RD</td>\n",
       "      <td>1XPHD49X9DD191803</td>\n",
       "      <td>MERIDEN CT 06451-5311</td>\n",
       "      <td>PTRB CONVENTI 2013 02</td>\n",
       "      <td>RED</td>\n",
       "      <td>50,750</td>\n",
       "      <td>06451</td>\n",
       "      <td>CT</td>\n",
       "      <td>MERIDEN</td>\n",
       "    </tr>\n",
       "    <tr>\n",
       "      <th>4</th>\n",
       "      <td>50005</td>\n",
       "      <td>A &amp; F TRUCKING LLC</td>\n",
       "      <td>622 HANOVER RD</td>\n",
       "      <td>1FUYDPYB6RP547101</td>\n",
       "      <td>MERIDEN CT 06451-5311</td>\n",
       "      <td>FRHT CONV</td>\n",
       "      <td>1994 02</td>\n",
       "      <td>GRN</td>\n",
       "      <td>06451</td>\n",
       "      <td>CT</td>\n",
       "      <td>MERIDEN</td>\n",
       "    </tr>\n",
       "  </tbody>\n",
       "</table>\n",
       "</div>"
      ],
      "text/plain": [
       "     UID                             Name                    Street  \\\n",
       "0  50001            119 EMPIRE AVENUE LLC            119 EMPIRE AVE   \n",
       "1  50002  480-492 CHAMBERLAIN HIGHWAY LLC  1400 OLD NORTH COLONY RD   \n",
       "2  50003               A & F TRUCKING LLC            622 HANOVER RD   \n",
       "3  50004               A & F TRUCKING LLC            622 HANOVER RD   \n",
       "4  50005               A & F TRUCKING LLC            622 HANOVER RD   \n",
       "\n",
       "                 VIN             City & Zip                    V3.2     V4.2  \\\n",
       "0  3GCUYDED8KG101637  MERIDEN CT 06450-1928  CHEVR SILVERAD 2019 03      GRA   \n",
       "1         98RC419975  MERIDEN CT 06450-1960               FORD NONE  1950 25   \n",
       "2  1XPHD49X4CD167519  MERIDEN CT 06451-5311   PTRB CONVENTI 2012 02      WHT   \n",
       "3  1XPHD49X9DD191803  MERIDEN CT 06451-5311   PTRB CONVENTI 2013 02      RED   \n",
       "4  1FUYDPYB6RP547101  MERIDEN CT 06451-5311               FRHT CONV  1994 02   \n",
       "\n",
       "     V5.2    Zip State     City  \n",
       "0  31,480  06450    CT  MERIDEN  \n",
       "1     BLA  06450    CT  MERIDEN  \n",
       "2  43,200  06451    CT  MERIDEN  \n",
       "3  50,750  06451    CT  MERIDEN  \n",
       "4     GRN  06451    CT  MERIDEN  "
      ]
     },
     "execution_count": 21,
     "metadata": {},
     "output_type": "execute_result"
    }
   ],
   "source": [
    "df.head()"
   ]
  },
  {
   "cell_type": "code",
   "execution_count": 22,
   "metadata": {},
   "outputs": [],
   "source": [
    "# append the third row together first, then extract\n",
    "df['Make, Model, and More'] = df['V3.2'] + ' ' + df['V4.2'] + ' ' + df['V5.2']\n",
    "df = df.drop(columns=['V3.2', 'V4.2', 'V5.2'])"
   ]
  },
  {
   "cell_type": "code",
   "execution_count": 23,
   "metadata": {},
   "outputs": [],
   "source": [
    "def extract_year(s):\n",
    "    match = re.search(r'.*([1-2][0129][0-9]{2})', s)\n",
    "    if match != None:\n",
    "        return match.group(1)\n",
    "    else:\n",
    "        return ''\n",
    "\n",
    "def extract_make(s):\n",
    "    return (s[:s.find(' ')])\n",
    "\n",
    "def extract_model(s):\n",
    "    return s[s.find(' ')+1 : s.find(extract_year(s))-1]\n",
    "\n",
    "df['Year'] = df['Make, Model, and More'].astype(str).map(extract_year)\n",
    "df['Make'] = df['Make, Model, and More'].astype(str).map(extract_make)\n",
    "df['Model'] = df['Make, Model, and More'].astype(str).map(extract_model)"
   ]
  },
  {
   "cell_type": "code",
   "execution_count": 24,
   "metadata": {},
   "outputs": [
    {
     "data": {
      "text/html": [
       "<div>\n",
       "<style scoped>\n",
       "    .dataframe tbody tr th:only-of-type {\n",
       "        vertical-align: middle;\n",
       "    }\n",
       "\n",
       "    .dataframe tbody tr th {\n",
       "        vertical-align: top;\n",
       "    }\n",
       "\n",
       "    .dataframe thead th {\n",
       "        text-align: right;\n",
       "    }\n",
       "</style>\n",
       "<table border=\"1\" class=\"dataframe\">\n",
       "  <thead>\n",
       "    <tr style=\"text-align: right;\">\n",
       "      <th></th>\n",
       "      <th>UID</th>\n",
       "      <th>Name</th>\n",
       "      <th>Street</th>\n",
       "      <th>VIN</th>\n",
       "      <th>City &amp; Zip</th>\n",
       "      <th>Zip</th>\n",
       "      <th>State</th>\n",
       "      <th>City</th>\n",
       "      <th>Make, Model, and More</th>\n",
       "      <th>Year</th>\n",
       "      <th>Make</th>\n",
       "      <th>Model</th>\n",
       "    </tr>\n",
       "  </thead>\n",
       "  <tbody>\n",
       "    <tr>\n",
       "      <th>0</th>\n",
       "      <td>50001</td>\n",
       "      <td>119 EMPIRE AVENUE LLC</td>\n",
       "      <td>119 EMPIRE AVE</td>\n",
       "      <td>3GCUYDED8KG101637</td>\n",
       "      <td>MERIDEN CT 06450-1928</td>\n",
       "      <td>06450</td>\n",
       "      <td>CT</td>\n",
       "      <td>MERIDEN</td>\n",
       "      <td>CHEVR SILVERAD 2019 03 GRA 31,480</td>\n",
       "      <td>2019</td>\n",
       "      <td>CHEVR</td>\n",
       "      <td>SILVERAD</td>\n",
       "    </tr>\n",
       "    <tr>\n",
       "      <th>1</th>\n",
       "      <td>50002</td>\n",
       "      <td>480-492 CHAMBERLAIN HIGHWAY LLC</td>\n",
       "      <td>1400 OLD NORTH COLONY RD</td>\n",
       "      <td>98RC419975</td>\n",
       "      <td>MERIDEN CT 06450-1960</td>\n",
       "      <td>06450</td>\n",
       "      <td>CT</td>\n",
       "      <td>MERIDEN</td>\n",
       "      <td>FORD NONE 1950 25 BLA</td>\n",
       "      <td>1950</td>\n",
       "      <td>FORD</td>\n",
       "      <td>NONE</td>\n",
       "    </tr>\n",
       "    <tr>\n",
       "      <th>2</th>\n",
       "      <td>50003</td>\n",
       "      <td>A &amp; F TRUCKING LLC</td>\n",
       "      <td>622 HANOVER RD</td>\n",
       "      <td>1XPHD49X4CD167519</td>\n",
       "      <td>MERIDEN CT 06451-5311</td>\n",
       "      <td>06451</td>\n",
       "      <td>CT</td>\n",
       "      <td>MERIDEN</td>\n",
       "      <td>PTRB CONVENTI 2012 02 WHT 43,200</td>\n",
       "      <td>2012</td>\n",
       "      <td>PTRB</td>\n",
       "      <td>CONVENTI</td>\n",
       "    </tr>\n",
       "    <tr>\n",
       "      <th>3</th>\n",
       "      <td>50004</td>\n",
       "      <td>A &amp; F TRUCKING LLC</td>\n",
       "      <td>622 HANOVER RD</td>\n",
       "      <td>1XPHD49X9DD191803</td>\n",
       "      <td>MERIDEN CT 06451-5311</td>\n",
       "      <td>06451</td>\n",
       "      <td>CT</td>\n",
       "      <td>MERIDEN</td>\n",
       "      <td>PTRB CONVENTI 2013 02 RED 50,750</td>\n",
       "      <td>2013</td>\n",
       "      <td>PTRB</td>\n",
       "      <td>CONVENTI</td>\n",
       "    </tr>\n",
       "    <tr>\n",
       "      <th>4</th>\n",
       "      <td>50005</td>\n",
       "      <td>A &amp; F TRUCKING LLC</td>\n",
       "      <td>622 HANOVER RD</td>\n",
       "      <td>1FUYDPYB6RP547101</td>\n",
       "      <td>MERIDEN CT 06451-5311</td>\n",
       "      <td>06451</td>\n",
       "      <td>CT</td>\n",
       "      <td>MERIDEN</td>\n",
       "      <td>FRHT CONV 1994 02 GRN</td>\n",
       "      <td>1994</td>\n",
       "      <td>FRHT</td>\n",
       "      <td>CONV</td>\n",
       "    </tr>\n",
       "  </tbody>\n",
       "</table>\n",
       "</div>"
      ],
      "text/plain": [
       "     UID                             Name                    Street  \\\n",
       "0  50001            119 EMPIRE AVENUE LLC            119 EMPIRE AVE   \n",
       "1  50002  480-492 CHAMBERLAIN HIGHWAY LLC  1400 OLD NORTH COLONY RD   \n",
       "2  50003               A & F TRUCKING LLC            622 HANOVER RD   \n",
       "3  50004               A & F TRUCKING LLC            622 HANOVER RD   \n",
       "4  50005               A & F TRUCKING LLC            622 HANOVER RD   \n",
       "\n",
       "                 VIN             City & Zip    Zip State     City  \\\n",
       "0  3GCUYDED8KG101637  MERIDEN CT 06450-1928  06450    CT  MERIDEN   \n",
       "1         98RC419975  MERIDEN CT 06450-1960  06450    CT  MERIDEN   \n",
       "2  1XPHD49X4CD167519  MERIDEN CT 06451-5311  06451    CT  MERIDEN   \n",
       "3  1XPHD49X9DD191803  MERIDEN CT 06451-5311  06451    CT  MERIDEN   \n",
       "4  1FUYDPYB6RP547101  MERIDEN CT 06451-5311  06451    CT  MERIDEN   \n",
       "\n",
       "               Make, Model, and More  Year   Make     Model  \n",
       "0  CHEVR SILVERAD 2019 03 GRA 31,480  2019  CHEVR  SILVERAD  \n",
       "1              FORD NONE 1950 25 BLA  1950   FORD      NONE  \n",
       "2   PTRB CONVENTI 2012 02 WHT 43,200  2012   PTRB  CONVENTI  \n",
       "3   PTRB CONVENTI 2013 02 RED 50,750  2013   PTRB  CONVENTI  \n",
       "4              FRHT CONV 1994 02 GRN  1994   FRHT      CONV  "
      ]
     },
     "execution_count": 24,
     "metadata": {},
     "output_type": "execute_result"
    }
   ],
   "source": [
    "df.head()"
   ]
  },
  {
   "cell_type": "markdown",
   "metadata": {},
   "source": [
    "### check"
   ]
  },
  {
   "cell_type": "code",
   "execution_count": 25,
   "metadata": {},
   "outputs": [
    {
     "data": {
      "text/plain": [
       "1833"
      ]
     },
     "execution_count": 25,
     "metadata": {},
     "output_type": "execute_result"
    }
   ],
   "source": [
    "len([i for i in df.Model.unique() if i.find(' ') != -1])"
   ]
  },
  {
   "cell_type": "code",
   "execution_count": 26,
   "metadata": {},
   "outputs": [
    {
     "data": {
      "text/html": [
       "<div>\n",
       "<style scoped>\n",
       "    .dataframe tbody tr th:only-of-type {\n",
       "        vertical-align: middle;\n",
       "    }\n",
       "\n",
       "    .dataframe tbody tr th {\n",
       "        vertical-align: top;\n",
       "    }\n",
       "\n",
       "    .dataframe thead th {\n",
       "        text-align: right;\n",
       "    }\n",
       "</style>\n",
       "<table border=\"1\" class=\"dataframe\">\n",
       "  <thead>\n",
       "    <tr style=\"text-align: right;\">\n",
       "      <th></th>\n",
       "      <th>UID</th>\n",
       "      <th>Name</th>\n",
       "      <th>Street</th>\n",
       "      <th>VIN</th>\n",
       "      <th>City &amp; Zip</th>\n",
       "      <th>Zip</th>\n",
       "      <th>State</th>\n",
       "      <th>City</th>\n",
       "      <th>Make, Model, and More</th>\n",
       "      <th>Year</th>\n",
       "      <th>Make</th>\n",
       "      <th>Model</th>\n",
       "    </tr>\n",
       "  </thead>\n",
       "  <tbody>\n",
       "    <tr>\n",
       "      <th>2463</th>\n",
       "      <td>52464</td>\n",
       "      <td>BAKULA THERESA C</td>\n",
       "      <td>40 COTTAGE ST</td>\n",
       "      <td>5WFBE1212LW102626</td>\n",
       "      <td>MERIDEN CT 06450-4404</td>\n",
       "      <td>06450</td>\n",
       "      <td>CT</td>\n",
       "      <td>MERIDEN</td>\n",
       "      <td>STEAL C6X12IF 2020 11 GRA 1,620</td>\n",
       "      <td>2020</td>\n",
       "      <td>STEAL</td>\n",
       "      <td>C6X12IF</td>\n",
       "    </tr>\n",
       "  </tbody>\n",
       "</table>\n",
       "</div>"
      ],
      "text/plain": [
       "        UID              Name         Street                VIN  \\\n",
       "2463  52464  BAKULA THERESA C  40 COTTAGE ST  5WFBE1212LW102626   \n",
       "\n",
       "                 City & Zip    Zip State     City  \\\n",
       "2463  MERIDEN CT 06450-4404  06450    CT  MERIDEN   \n",
       "\n",
       "                Make, Model, and More  Year   Make    Model  \n",
       "2463  STEAL C6X12IF 2020 11 GRA 1,620  2020  STEAL  C6X12IF  "
      ]
     },
     "execution_count": 26,
     "metadata": {},
     "output_type": "execute_result"
    }
   ],
   "source": [
    "df[df.Make == 'STEAL']"
   ]
  },
  {
   "cell_type": "code",
   "execution_count": 27,
   "metadata": {},
   "outputs": [],
   "source": [
    "s_test = 'CHEVR EXPRESS 2015 03 WHI 12,230'\n",
    "match = re.search(r'.*([1-2][0129][0-9]{2})', s_test)"
   ]
  },
  {
   "cell_type": "code",
   "execution_count": 28,
   "metadata": {},
   "outputs": [
    {
     "data": {
      "text/plain": [
       "'2015'"
      ]
     },
     "execution_count": 28,
     "metadata": {},
     "output_type": "execute_result"
    }
   ],
   "source": [
    "match.group(1)"
   ]
  },
  {
   "cell_type": "code",
   "execution_count": null,
   "metadata": {},
   "outputs": [],
   "source": []
  },
  {
   "cell_type": "markdown",
   "metadata": {},
   "source": [
    "## manually add info for errored lines\n",
    "    UID = 59270, 64442, and 83884"
   ]
  },
  {
   "cell_type": "code",
   "execution_count": 29,
   "metadata": {},
   "outputs": [
    {
     "data": {
      "text/html": [
       "<div>\n",
       "<style scoped>\n",
       "    .dataframe tbody tr th:only-of-type {\n",
       "        vertical-align: middle;\n",
       "    }\n",
       "\n",
       "    .dataframe tbody tr th {\n",
       "        vertical-align: top;\n",
       "    }\n",
       "\n",
       "    .dataframe thead th {\n",
       "        text-align: right;\n",
       "    }\n",
       "</style>\n",
       "<table border=\"1\" class=\"dataframe\">\n",
       "  <thead>\n",
       "    <tr style=\"text-align: right;\">\n",
       "      <th></th>\n",
       "      <th>UID</th>\n",
       "      <th>Name</th>\n",
       "      <th>Street</th>\n",
       "      <th>VIN</th>\n",
       "      <th>City &amp; Zip</th>\n",
       "      <th>Zip</th>\n",
       "      <th>State</th>\n",
       "      <th>City</th>\n",
       "      <th>Make, Model, and More</th>\n",
       "      <th>Year</th>\n",
       "      <th>Make</th>\n",
       "      <th>Model</th>\n",
       "    </tr>\n",
       "  </thead>\n",
       "  <tbody>\n",
       "    <tr>\n",
       "      <th>0</th>\n",
       "      <td>50001</td>\n",
       "      <td>119 EMPIRE AVENUE LLC</td>\n",
       "      <td>119 EMPIRE AVE</td>\n",
       "      <td>3GCUYDED8KG101637</td>\n",
       "      <td>MERIDEN CT 06450-1928</td>\n",
       "      <td>06450</td>\n",
       "      <td>CT</td>\n",
       "      <td>MERIDEN</td>\n",
       "      <td>CHEVR SILVERAD 2019 03 GRA 31,480</td>\n",
       "      <td>2019</td>\n",
       "      <td>CHEVR</td>\n",
       "      <td>SILVERAD</td>\n",
       "    </tr>\n",
       "    <tr>\n",
       "      <th>1</th>\n",
       "      <td>50002</td>\n",
       "      <td>480-492 CHAMBERLAIN HIGHWAY LLC</td>\n",
       "      <td>1400 OLD NORTH COLONY RD</td>\n",
       "      <td>98RC419975</td>\n",
       "      <td>MERIDEN CT 06450-1960</td>\n",
       "      <td>06450</td>\n",
       "      <td>CT</td>\n",
       "      <td>MERIDEN</td>\n",
       "      <td>FORD NONE 1950 25 BLA</td>\n",
       "      <td>1950</td>\n",
       "      <td>FORD</td>\n",
       "      <td>NONE</td>\n",
       "    </tr>\n",
       "    <tr>\n",
       "      <th>2</th>\n",
       "      <td>50003</td>\n",
       "      <td>A &amp; F TRUCKING LLC</td>\n",
       "      <td>622 HANOVER RD</td>\n",
       "      <td>1XPHD49X4CD167519</td>\n",
       "      <td>MERIDEN CT 06451-5311</td>\n",
       "      <td>06451</td>\n",
       "      <td>CT</td>\n",
       "      <td>MERIDEN</td>\n",
       "      <td>PTRB CONVENTI 2012 02 WHT 43,200</td>\n",
       "      <td>2012</td>\n",
       "      <td>PTRB</td>\n",
       "      <td>CONVENTI</td>\n",
       "    </tr>\n",
       "    <tr>\n",
       "      <th>3</th>\n",
       "      <td>50004</td>\n",
       "      <td>A &amp; F TRUCKING LLC</td>\n",
       "      <td>622 HANOVER RD</td>\n",
       "      <td>1XPHD49X9DD191803</td>\n",
       "      <td>MERIDEN CT 06451-5311</td>\n",
       "      <td>06451</td>\n",
       "      <td>CT</td>\n",
       "      <td>MERIDEN</td>\n",
       "      <td>PTRB CONVENTI 2013 02 RED 50,750</td>\n",
       "      <td>2013</td>\n",
       "      <td>PTRB</td>\n",
       "      <td>CONVENTI</td>\n",
       "    </tr>\n",
       "    <tr>\n",
       "      <th>4</th>\n",
       "      <td>50005</td>\n",
       "      <td>A &amp; F TRUCKING LLC</td>\n",
       "      <td>622 HANOVER RD</td>\n",
       "      <td>1FUYDPYB6RP547101</td>\n",
       "      <td>MERIDEN CT 06451-5311</td>\n",
       "      <td>06451</td>\n",
       "      <td>CT</td>\n",
       "      <td>MERIDEN</td>\n",
       "      <td>FRHT CONV 1994 02 GRN</td>\n",
       "      <td>1994</td>\n",
       "      <td>FRHT</td>\n",
       "      <td>CONV</td>\n",
       "    </tr>\n",
       "  </tbody>\n",
       "</table>\n",
       "</div>"
      ],
      "text/plain": [
       "     UID                             Name                    Street  \\\n",
       "0  50001            119 EMPIRE AVENUE LLC            119 EMPIRE AVE   \n",
       "1  50002  480-492 CHAMBERLAIN HIGHWAY LLC  1400 OLD NORTH COLONY RD   \n",
       "2  50003               A & F TRUCKING LLC            622 HANOVER RD   \n",
       "3  50004               A & F TRUCKING LLC            622 HANOVER RD   \n",
       "4  50005               A & F TRUCKING LLC            622 HANOVER RD   \n",
       "\n",
       "                 VIN             City & Zip    Zip State     City  \\\n",
       "0  3GCUYDED8KG101637  MERIDEN CT 06450-1928  06450    CT  MERIDEN   \n",
       "1         98RC419975  MERIDEN CT 06450-1960  06450    CT  MERIDEN   \n",
       "2  1XPHD49X4CD167519  MERIDEN CT 06451-5311  06451    CT  MERIDEN   \n",
       "3  1XPHD49X9DD191803  MERIDEN CT 06451-5311  06451    CT  MERIDEN   \n",
       "4  1FUYDPYB6RP547101  MERIDEN CT 06451-5311  06451    CT  MERIDEN   \n",
       "\n",
       "               Make, Model, and More  Year   Make     Model  \n",
       "0  CHEVR SILVERAD 2019 03 GRA 31,480  2019  CHEVR  SILVERAD  \n",
       "1              FORD NONE 1950 25 BLA  1950   FORD      NONE  \n",
       "2   PTRB CONVENTI 2012 02 WHT 43,200  2012   PTRB  CONVENTI  \n",
       "3   PTRB CONVENTI 2013 02 RED 50,750  2013   PTRB  CONVENTI  \n",
       "4              FRHT CONV 1994 02 GRN  1994   FRHT      CONV  "
      ]
     },
     "execution_count": 29,
     "metadata": {},
     "output_type": "execute_result"
    }
   ],
   "source": [
    "df.head()"
   ]
  },
  {
   "cell_type": "code",
   "execution_count": 30,
   "metadata": {},
   "outputs": [],
   "source": [
    "df.loc[df.UID == 59270, 'City & Zip'] =  'MERIDEN CT 06450-'\n",
    "df.loc[df.UID == 59270, 'Make, Model and More'] =  'HYUND ELANTRA 2008 01 GRA 1000 C 220 F'\n",
    "df.loc[df.UID == 59270, 'City'] =  'MERIDEN'\n",
    "df.loc[df.UID == 59270, 'State'] =  'CT'\n",
    "df.loc[df.UID == 59270, 'Zip'] =  '06450'\n",
    "df.loc[df.UID == 59270, 'Year'] =  '2008'\n",
    "df.loc[df.UID == 59270, 'Make'] =  'HYUND'\n",
    "df.loc[df.UID == 59270, 'Model'] =  'ELANTRA'"
   ]
  },
  {
   "cell_type": "code",
   "execution_count": 31,
   "metadata": {},
   "outputs": [],
   "source": [
    "df.loc[df.UID == 64442, 'City & Zip'] =  'MERIDEN CT 06450-'\n",
    "df.loc[df.UID == 64442, 'Make, Model and More'] =  'FORD F150 2009 01 GRA 1000 C 4,230 1000 E'\n",
    "df.loc[df.UID == 64442, 'City'] =  'MERIDEN'\n",
    "df.loc[df.UID == 64442, 'State'] =  'CT'\n",
    "df.loc[df.UID == 64442, 'Zip'] =  '06450'\n",
    "df.loc[df.UID == 64442, 'Year'] =  '2009'\n",
    "df.loc[df.UID == 64442, 'Make'] =  'FORD'\n",
    "df.loc[df.UID == 64442, 'Model'] =  'F150'"
   ]
  },
  {
   "cell_type": "code",
   "execution_count": 32,
   "metadata": {},
   "outputs": [],
   "source": [
    "df.loc[df.UID == 83884, 'City & Zip'] =  'MERIDEN CT 06450-'\n",
    "df.loc[df.UID == 83884, 'Make, Model and More'] =  'NISSA SENTRA S 2014 01 BLU 1000 C 1,250 1000 E'\n",
    "df.loc[df.UID == 83884, 'City'] =  'MERIDEN'\n",
    "df.loc[df.UID == 83884, 'State'] =  'CT'\n",
    "df.loc[df.UID == 83884, 'Zip'] =  '06450'\n",
    "df.loc[df.UID == 83884, 'Year'] =  '2014'\n",
    "df.loc[df.UID == 83884, 'Make'] =  'NISSA'\n",
    "df.loc[df.UID == 83884, 'Model'] =  'SENTRA S'"
   ]
  },
  {
   "cell_type": "markdown",
   "metadata": {},
   "source": [
    "## store"
   ]
  },
  {
   "cell_type": "code",
   "execution_count": 33,
   "metadata": {},
   "outputs": [
    {
     "data": {
      "text/plain": [
       "'Meriden_MV_21.xlsx'"
      ]
     },
     "execution_count": 33,
     "metadata": {},
     "output_type": "execute_result"
    }
   ],
   "source": [
    "f"
   ]
  },
  {
   "cell_type": "code",
   "execution_count": 34,
   "metadata": {},
   "outputs": [],
   "source": [
    "df.to_csv(sav_path + f.replace('xlsx', 'csv'))"
   ]
  },
  {
   "cell_type": "markdown",
   "metadata": {},
   "source": [
    "# 2022.11.7 -- Seymour_MV_21.xlsx; saved as csv"
   ]
  },
  {
   "cell_type": "code",
   "execution_count": 291,
   "metadata": {},
   "outputs": [
    {
     "data": {
      "text/plain": [
       "['Bridgewater_MV_21.pdf', 'Salem_MV_21.xls', 'Seymour_MV_21.xlsx']"
      ]
     },
     "execution_count": 291,
     "metadata": {},
     "output_type": "execute_result"
    }
   ],
   "source": [
    "os.listdir(path)"
   ]
  },
  {
   "cell_type": "markdown",
   "metadata": {},
   "source": [
    "## read"
   ]
  },
  {
   "cell_type": "code",
   "execution_count": 292,
   "metadata": {},
   "outputs": [],
   "source": [
    "f = 'Seymour_MV_21.xlsx'"
   ]
  },
  {
   "cell_type": "code",
   "execution_count": 293,
   "metadata": {},
   "outputs": [],
   "source": [
    "df = pd.read_excel(path + f)\n",
    "df_copy = df.copy()"
   ]
  },
  {
   "cell_type": "code",
   "execution_count": 294,
   "metadata": {},
   "outputs": [
    {
     "data": {
      "text/html": [
       "<div>\n",
       "<style scoped>\n",
       "    .dataframe tbody tr th:only-of-type {\n",
       "        vertical-align: middle;\n",
       "    }\n",
       "\n",
       "    .dataframe tbody tr th {\n",
       "        vertical-align: top;\n",
       "    }\n",
       "\n",
       "    .dataframe thead th {\n",
       "        text-align: right;\n",
       "    }\n",
       "</style>\n",
       "<table border=\"1\" class=\"dataframe\">\n",
       "  <thead>\n",
       "    <tr style=\"text-align: right;\">\n",
       "      <th></th>\n",
       "      <th>V2</th>\n",
       "      <th>V3</th>\n",
       "      <th>V4</th>\n",
       "      <th>V5</th>\n",
       "      <th>V6</th>\n",
       "      <th>V2.1</th>\n",
       "      <th>V3.1</th>\n",
       "    </tr>\n",
       "  </thead>\n",
       "  <tbody>\n",
       "    <tr>\n",
       "      <th>0</th>\n",
       "      <td>50001</td>\n",
       "      <td>A &amp; J GENERATOR AND EQUIPMENT LLC</td>\n",
       "      <td>2019</td>\n",
       "      <td>RAM</td>\n",
       "      <td>PROMASTE            ZFBHRFAB6K6N27426       16...</td>\n",
       "      <td>33 SAGAMORE DR SEYMOUR, CT 06483</td>\n",
       "      <td>16,000</td>\n",
       "    </tr>\n",
       "    <tr>\n",
       "      <th>1</th>\n",
       "      <td>50002</td>\n",
       "      <td>A &amp; J GENERATOR AND EQUIPMENT LLC</td>\n",
       "      <td>2020</td>\n",
       "      <td>RAM</td>\n",
       "      <td>PROMASTE            ZFBHRFAB9L6R60806       18...</td>\n",
       "      <td>33 SAGAMORE DR SEYMOUR, CT 06483</td>\n",
       "      <td>18,900</td>\n",
       "    </tr>\n",
       "    <tr>\n",
       "      <th>2</th>\n",
       "      <td>50003</td>\n",
       "      <td>A &amp; J GENERATOR AND EQUIPMENT LLC</td>\n",
       "      <td>2020</td>\n",
       "      <td>RAM</td>\n",
       "      <td>PROMASTE            ZFBHRFAB1L6R67782       18...</td>\n",
       "      <td>33 SAGAMORE DR SEYMOUR, CT 06483</td>\n",
       "      <td>18,900</td>\n",
       "    </tr>\n",
       "    <tr>\n",
       "      <th>3</th>\n",
       "      <td>50004</td>\n",
       "      <td>A. H. EMERY COMPANY THE</td>\n",
       "      <td>2011 FORD</td>\n",
       "      <td>ECONOLIN</td>\n",
       "      <td>1FTNE2EW5BDA03164           8,520</td>\n",
       "      <td>THE A.H. EMERY COMPANY D/B/A E SEYMOUR, CT 06483</td>\n",
       "      <td>8,520</td>\n",
       "    </tr>\n",
       "    <tr>\n",
       "      <th>4</th>\n",
       "      <td>50005</td>\n",
       "      <td>A1 DRIVING.COM LLC</td>\n",
       "      <td>2017</td>\n",
       "      <td>NISSA</td>\n",
       "      <td>SENTRA S            3N1AB7AP7HY208626         ...</td>\n",
       "      <td>214 W CHURCH ST SEYMOUR, CT 06483</td>\n",
       "      <td>9,780</td>\n",
       "    </tr>\n",
       "  </tbody>\n",
       "</table>\n",
       "</div>"
      ],
      "text/plain": [
       "      V2                                 V3         V4        V5  \\\n",
       "0  50001  A & J GENERATOR AND EQUIPMENT LLC       2019       RAM   \n",
       "1  50002  A & J GENERATOR AND EQUIPMENT LLC       2020       RAM   \n",
       "2  50003  A & J GENERATOR AND EQUIPMENT LLC       2020       RAM   \n",
       "3  50004            A. H. EMERY COMPANY THE  2011 FORD  ECONOLIN   \n",
       "4  50005                 A1 DRIVING.COM LLC       2017     NISSA   \n",
       "\n",
       "                                                  V6  \\\n",
       "0  PROMASTE            ZFBHRFAB6K6N27426       16...   \n",
       "1  PROMASTE            ZFBHRFAB9L6R60806       18...   \n",
       "2  PROMASTE            ZFBHRFAB1L6R67782       18...   \n",
       "3                  1FTNE2EW5BDA03164           8,520   \n",
       "4  SENTRA S            3N1AB7AP7HY208626         ...   \n",
       "\n",
       "                                               V2.1    V3.1  \n",
       "0                  33 SAGAMORE DR SEYMOUR, CT 06483  16,000  \n",
       "1                  33 SAGAMORE DR SEYMOUR, CT 06483  18,900  \n",
       "2                  33 SAGAMORE DR SEYMOUR, CT 06483  18,900  \n",
       "3  THE A.H. EMERY COMPANY D/B/A E SEYMOUR, CT 06483   8,520  \n",
       "4                 214 W CHURCH ST SEYMOUR, CT 06483   9,780  "
      ]
     },
     "execution_count": 294,
     "metadata": {},
     "output_type": "execute_result"
    }
   ],
   "source": [
    "df.head()"
   ]
  },
  {
   "cell_type": "markdown",
   "metadata": {},
   "source": [
    "### check specific columns"
   ]
  },
  {
   "cell_type": "code",
   "execution_count": 306,
   "metadata": {},
   "outputs": [
    {
     "data": {
      "text/plain": [
       "array([ 4,  9, 10,  2,  5,  8, 14], dtype=int64)"
      ]
     },
     "execution_count": 306,
     "metadata": {},
     "output_type": "execute_result"
    }
   ],
   "source": [
    "pd.Series([len(i) for i in df['V4']]).unique()"
   ]
  },
  {
   "cell_type": "code",
   "execution_count": 307,
   "metadata": {},
   "outputs": [],
   "source": [
    "df['l'] = df['V4'].astype(str).map(len)"
   ]
  },
  {
   "cell_type": "code",
   "execution_count": 308,
   "metadata": {},
   "outputs": [
    {
     "data": {
      "text/html": [
       "<div>\n",
       "<style scoped>\n",
       "    .dataframe tbody tr th:only-of-type {\n",
       "        vertical-align: middle;\n",
       "    }\n",
       "\n",
       "    .dataframe tbody tr th {\n",
       "        vertical-align: top;\n",
       "    }\n",
       "\n",
       "    .dataframe thead th {\n",
       "        text-align: right;\n",
       "    }\n",
       "</style>\n",
       "<table border=\"1\" class=\"dataframe\">\n",
       "  <thead>\n",
       "    <tr style=\"text-align: right;\">\n",
       "      <th></th>\n",
       "      <th>V2</th>\n",
       "      <th>V3</th>\n",
       "      <th>V4</th>\n",
       "      <th>V5</th>\n",
       "      <th>V6</th>\n",
       "      <th>V2.1</th>\n",
       "      <th>V3.1</th>\n",
       "      <th>l</th>\n",
       "    </tr>\n",
       "  </thead>\n",
       "  <tbody>\n",
       "    <tr>\n",
       "      <th>12263</th>\n",
       "      <td>62298</td>\n",
       "      <td>SCHRYVER</td>\n",
       "      <td>S TREE SERVICE</td>\n",
       "      <td>2012</td>\n",
       "      <td>CAM     4EC16               5JPBU2025CP028694 ...</td>\n",
       "      <td>18 ELAINE DR SEYMOUR, CT 06483</td>\n",
       "      <td>4,320</td>\n",
       "      <td>14</td>\n",
       "    </tr>\n",
       "  </tbody>\n",
       "</table>\n",
       "</div>"
      ],
      "text/plain": [
       "          V2        V3              V4    V5  \\\n",
       "12263  62298  SCHRYVER  S TREE SERVICE  2012   \n",
       "\n",
       "                                                      V6  \\\n",
       "12263  CAM     4EC16               5JPBU2025CP028694 ...   \n",
       "\n",
       "                                 V2.1   V3.1   l  \n",
       "12263  18 ELAINE DR SEYMOUR, CT 06483  4,320  14  "
      ]
     },
     "execution_count": 308,
     "metadata": {},
     "output_type": "execute_result"
    }
   ],
   "source": [
    "df[df.l == 14]"
   ]
  },
  {
   "cell_type": "markdown",
   "metadata": {},
   "source": [
    "## connect entries, then extract"
   ]
  },
  {
   "cell_type": "code",
   "execution_count": 315,
   "metadata": {},
   "outputs": [],
   "source": [
    "df = df.rename(columns={'V2': 'UID'})\n",
    "df['l1'] = df.V3 + ' ' + df.V4 + ' ' + df.V5 + ' ' + df.V6\n",
    "df['l2'] = df['V2.1'] + ' ' + df['V3.1']"
   ]
  },
  {
   "cell_type": "markdown",
   "metadata": {},
   "source": [
    "### deal with l1"
   ]
  },
  {
   "cell_type": "code",
   "execution_count": 316,
   "metadata": {},
   "outputs": [
    {
     "data": {
      "text/plain": [
       "['A & J GENERATOR AND EQUIPMENT LLC 2019 RAM PROMASTE            ZFBHRFAB6K6N27426       16,000',\n",
       " 'A & J GENERATOR AND EQUIPMENT LLC 2020 RAM PROMASTE            ZFBHRFAB9L6R60806       18,900',\n",
       " 'A & J GENERATOR AND EQUIPMENT LLC 2020 RAM PROMASTE            ZFBHRFAB1L6R67782       18,900',\n",
       " 'A. H. EMERY COMPANY THE 2011 FORD ECONOLIN 1FTNE2EW5BDA03164           8,520',\n",
       " 'A1 DRIVING.COM LLC 2017 NISSA SENTRA S            3N1AB7AP7HY208626           9,780']"
      ]
     },
     "execution_count": 316,
     "metadata": {},
     "output_type": "execute_result"
    }
   ],
   "source": [
    "df.l1.head().tolist()"
   ]
  },
  {
   "cell_type": "code",
   "execution_count": 321,
   "metadata": {},
   "outputs": [
    {
     "data": {
      "text/plain": [
       "'A. H. EMERY COMPANY THE 2011 FORD ECONOLIN 1FTNE2EW5BDA03164           8,520'"
      ]
     },
     "execution_count": 321,
     "metadata": {},
     "output_type": "execute_result"
    }
   ],
   "source": [
    "df.l1.str.strip()[3]"
   ]
  },
  {
   "cell_type": "code",
   "execution_count": 364,
   "metadata": {},
   "outputs": [],
   "source": [
    "def extract_year(s):\n",
    "    match = re.search(r'([1-2][0129][0-9]{2})', s)\n",
    "    if match != None:\n",
    "        return match.group(1)\n",
    "    else:\n",
    "        return ''\n",
    "\n",
    "def extract_name(s):\n",
    "    return (s[:s.find(extract_year(s))-1])"
   ]
  },
  {
   "cell_type": "code",
   "execution_count": 417,
   "metadata": {},
   "outputs": [],
   "source": [
    "def extract_make(s):\n",
    "    year_loc = s.find(extract_year(s))\n",
    "    # year has four digits\n",
    "    return s[year_loc+5: s.find(' ', year_loc + 5)]"
   ]
  },
  {
   "cell_type": "code",
   "execution_count": 423,
   "metadata": {},
   "outputs": [],
   "source": [
    "def extract_vin(s):\n",
    "    begin_text = re.findall(r'\\s{2}\\w', s_test)[0]\n",
    "    end_text = re.findall(r'\\w\\s{2}', s_test)[1]\n",
    "    return s[s.find(begin_text) + 2: s.find(end_text) + 1]"
   ]
  },
  {
   "cell_type": "code",
   "execution_count": 435,
   "metadata": {},
   "outputs": [],
   "source": [
    "def extract_model(s):\n",
    "    make_loc = s.find(extract_make(s))\n",
    "    len_make = len(extract_make(s))\n",
    "    return s[make_loc+len_make+1: s.find('  ', make_loc+len_make+1)]"
   ]
  },
  {
   "cell_type": "code",
   "execution_count": 438,
   "metadata": {},
   "outputs": [],
   "source": [
    "df['Year'] = df['l1'].astype(str).map(extract_year)\n",
    "df['Name'] = df['l1'].astype(str).map(extract_name)\n",
    "df['Make'] = df['l1'].astype(str).map(extract_make)\n",
    "df['VIN'] = df['l1'].astype(str).map(extract_vin)\n",
    "df['Model'] = df['l1'].astype(str).map(extract_model)"
   ]
  },
  {
   "cell_type": "markdown",
   "metadata": {},
   "source": [
    "### testing"
   ]
  },
  {
   "cell_type": "code",
   "execution_count": 365,
   "metadata": {},
   "outputs": [
    {
     "data": {
      "text/plain": [
       "array(['2019', '2020', '2011', '2017', '2016', '2015', '1972', '2012',\n",
       "       '1962', '2010', '2003', '2007', '2013', '2008', '2009', '2004',\n",
       "       '2018', '2021', '2006', '2014', '2005', '1998', '1974', '2001',\n",
       "       '1988', '1999', '1994', '1997', '2000', '1977', '1996', '1995',\n",
       "       '1987', '1982', '1986', '2002', '1990', '1991', '1964', '1978',\n",
       "       '1992', '1984', '1951', '1968', '1935', '1934', '2022', '1970',\n",
       "       '1985', '1969', '1993', '1989', '1976', '1973', '1980', '1959',\n",
       "       '1967', '1966', '1983', '1971', '1956', '1955', '1965', '1960',\n",
       "       '1949', '1975', '1939', '1936', '1981', '1979', '1953', '1933',\n",
       "       '1948', '1963', '1961', '1945', '1957', '1915', '1926', '1924',\n",
       "       '1927', '1952', '1930', '1947', '1932', '1931', '1941', '1940',\n",
       "       '1954', '1958'], dtype=object)"
      ]
     },
     "execution_count": 365,
     "metadata": {},
     "output_type": "execute_result"
    }
   ],
   "source": [
    "df.Year.unique()"
   ]
  },
  {
   "cell_type": "code",
   "execution_count": 379,
   "metadata": {},
   "outputs": [
    {
     "data": {
      "text/plain": [
       "'JARVIS WILLIAM 1915 FORD T                   699538                     500'"
      ]
     },
     "execution_count": 379,
     "metadata": {},
     "output_type": "execute_result"
    }
   ],
   "source": [
    "df[df.Year == '1915'].l1.tolist()[0]"
   ]
  },
  {
   "cell_type": "code",
   "execution_count": 386,
   "metadata": {},
   "outputs": [
    {
     "data": {
      "text/plain": [
       "21"
      ]
     },
     "execution_count": 386,
     "metadata": {},
     "output_type": "execute_result"
    }
   ],
   "source": [
    "s_test = 'ALVES JOE A 2007 AUDI A4 CABRL            WAUEF48H07K029967           4,670'\n",
    "s_test.find(' ', s_test.find('2007')+5)"
   ]
  },
  {
   "cell_type": "code",
   "execution_count": 412,
   "metadata": {},
   "outputs": [
    {
     "data": {
      "text/plain": [
       "'7  '"
      ]
     },
     "execution_count": 412,
     "metadata": {},
     "output_type": "execute_result"
    }
   ],
   "source": [
    "re.findall(r'\\s{2}\\w', s_test)[0]\n",
    "re.findall(r'\\w\\s{2}', s_test)[1]"
   ]
  },
  {
   "cell_type": "code",
   "execution_count": 387,
   "metadata": {},
   "outputs": [
    {
     "data": {
      "text/plain": [
       "' AUDI'"
      ]
     },
     "execution_count": 387,
     "metadata": {},
     "output_type": "execute_result"
    }
   ],
   "source": [
    "s_test[16:21]"
   ]
  },
  {
   "cell_type": "code",
   "execution_count": 388,
   "metadata": {},
   "outputs": [],
   "source": [
    "df['doublespace'] = df.l1.apply(lambda x: x.find('  '))"
   ]
  },
  {
   "cell_type": "code",
   "execution_count": 389,
   "metadata": {},
   "outputs": [
    {
     "data": {
      "text/html": [
       "<div>\n",
       "<style scoped>\n",
       "    .dataframe tbody tr th:only-of-type {\n",
       "        vertical-align: middle;\n",
       "    }\n",
       "\n",
       "    .dataframe tbody tr th {\n",
       "        vertical-align: top;\n",
       "    }\n",
       "\n",
       "    .dataframe thead th {\n",
       "        text-align: right;\n",
       "    }\n",
       "</style>\n",
       "<table border=\"1\" class=\"dataframe\">\n",
       "  <thead>\n",
       "    <tr style=\"text-align: right;\">\n",
       "      <th></th>\n",
       "      <th>UID</th>\n",
       "      <th>V3</th>\n",
       "      <th>V4</th>\n",
       "      <th>V5</th>\n",
       "      <th>V6</th>\n",
       "      <th>V2.1</th>\n",
       "      <th>V3.1</th>\n",
       "      <th>l</th>\n",
       "      <th>l1</th>\n",
       "      <th>l2</th>\n",
       "      <th>Year</th>\n",
       "      <th>Name</th>\n",
       "      <th>doublespace</th>\n",
       "    </tr>\n",
       "  </thead>\n",
       "  <tbody>\n",
       "  </tbody>\n",
       "</table>\n",
       "</div>"
      ],
      "text/plain": [
       "Empty DataFrame\n",
       "Columns: [UID, V3, V4, V5, V6, V2.1, V3.1, l, l1, l2, Year, Name, doublespace]\n",
       "Index: []"
      ]
     },
     "execution_count": 389,
     "metadata": {},
     "output_type": "execute_result"
    }
   ],
   "source": [
    "df[df.doublespace == -1]"
   ]
  },
  {
   "cell_type": "code",
   "execution_count": 390,
   "metadata": {},
   "outputs": [],
   "source": [
    "df = df.drop(columns=['doublespace'])"
   ]
  },
  {
   "cell_type": "markdown",
   "metadata": {},
   "source": [
    "### deal with l2"
   ]
  },
  {
   "cell_type": "code",
   "execution_count": 439,
   "metadata": {},
   "outputs": [
    {
     "data": {
      "text/plain": [
       "0              33 SAGAMORE DR SEYMOUR, CT 06483 16,000\n",
       "1              33 SAGAMORE DR SEYMOUR, CT 06483 18,900\n",
       "2              33 SAGAMORE DR SEYMOUR, CT 06483 18,900\n",
       "3    THE A.H. EMERY COMPANY D/B/A E SEYMOUR, CT 064...\n",
       "4              214 W CHURCH ST SEYMOUR, CT 06483 9,780\n",
       "Name: l2, dtype: object"
      ]
     },
     "execution_count": 439,
     "metadata": {},
     "output_type": "execute_result"
    }
   ],
   "source": [
    "df.l2.head()"
   ]
  },
  {
   "cell_type": "code",
   "execution_count": 450,
   "metadata": {},
   "outputs": [],
   "source": [
    "df['Street'] = df.l2.apply(lambda x: x[:x.find(',')])\n",
    "df['State'] = df.l2.apply(lambda x: x[x.find(',') + 2: x.find(',') + 4])\n",
    "\n",
    "def extract_zip(s):\n",
    "    match = re.search(r'([0-9]{5})', s)\n",
    "    if match != None:\n",
    "        return match.group(1)\n",
    "    else:\n",
    "        return ''\n",
    "\n",
    "df['Zip'] = df.l2.map(extract_zip)"
   ]
  },
  {
   "cell_type": "markdown",
   "metadata": {},
   "source": [
    "## keep wanted columns, and store"
   ]
  },
  {
   "cell_type": "code",
   "execution_count": 457,
   "metadata": {},
   "outputs": [],
   "source": [
    "df = df[['UID', 'l1', 'l2', 'Name', 'Street', 'State', 'Zip', 'Make', 'Model', 'Year', 'VIN']]"
   ]
  },
  {
   "cell_type": "code",
   "execution_count": 458,
   "metadata": {},
   "outputs": [
    {
     "data": {
      "text/plain": [
       "'Seymour_MV_21.xlsx'"
      ]
     },
     "execution_count": 458,
     "metadata": {},
     "output_type": "execute_result"
    }
   ],
   "source": [
    "f"
   ]
  },
  {
   "cell_type": "code",
   "execution_count": 459,
   "metadata": {},
   "outputs": [],
   "source": [
    "df.to_csv(sav_path + f.replace('xlsx', 'csv'))"
   ]
  },
  {
   "cell_type": "markdown",
   "metadata": {},
   "source": [
    "# 2022.11.11 -- Salem_MV_21.xls; saved as csv"
   ]
  },
  {
   "cell_type": "code",
   "execution_count": 6,
   "metadata": {},
   "outputs": [
    {
     "data": {
      "text/plain": [
       "['Bridgewater_MV_21.pdf', 'Salem_MV_21.xls']"
      ]
     },
     "execution_count": 6,
     "metadata": {},
     "output_type": "execute_result"
    }
   ],
   "source": [
    "os.listdir(path)"
   ]
  },
  {
   "cell_type": "markdown",
   "metadata": {},
   "source": [
    "## read"
   ]
  },
  {
   "cell_type": "code",
   "execution_count": 158,
   "metadata": {},
   "outputs": [],
   "source": [
    "f = 'Salem_MV_21.xls'"
   ]
  },
  {
   "cell_type": "code",
   "execution_count": 160,
   "metadata": {},
   "outputs": [],
   "source": [
    "df = pd.read_excel(path + f)\n",
    "df_copy = df.copy()"
   ]
  },
  {
   "cell_type": "markdown",
   "metadata": {},
   "source": [
    "## drop unwanted parts + find max UID"
   ]
  },
  {
   "cell_type": "code",
   "execution_count": 161,
   "metadata": {},
   "outputs": [],
   "source": [
    "df = df.dropna(how='all')"
   ]
  },
  {
   "cell_type": "code",
   "execution_count": 162,
   "metadata": {},
   "outputs": [],
   "source": [
    "empty_c_list = []\n",
    "for c in df.columns:\n",
    "    if len(df[c].unique().tolist()) == 1:\n",
    "        empty_c_list.append(c)\n",
    "df = df.drop(columns=empty_c_list)"
   ]
  },
  {
   "cell_type": "code",
   "execution_count": 163,
   "metadata": {},
   "outputs": [],
   "source": [
    "df = df.rename(columns={'Unnamed: 0': 'UID'})"
   ]
  },
  {
   "cell_type": "code",
   "execution_count": 164,
   "metadata": {},
   "outputs": [
    {
     "data": {
      "text/plain": [
       "array([10000, nan, 10001, ..., 280050, 280051, 'Page: Exemptions'],\n",
       "      dtype=object)"
      ]
     },
     "execution_count": 164,
     "metadata": {},
     "output_type": "execute_result"
    }
   ],
   "source": [
    "df.UID.unique()"
   ]
  },
  {
   "cell_type": "code",
   "execution_count": 165,
   "metadata": {},
   "outputs": [],
   "source": [
    "row_drop_list = df.loc[df.UID == 'Letter: Exemptions'].index.tolist() + df.loc[df.UID == 'Page: Exemptions'].index.tolist()"
   ]
  },
  {
   "cell_type": "code",
   "execution_count": 166,
   "metadata": {},
   "outputs": [],
   "source": [
    "df = df.drop(row_drop_list)"
   ]
  },
  {
   "cell_type": "code",
   "execution_count": 167,
   "metadata": {},
   "outputs": [
    {
     "data": {
      "text/plain": [
       "280064"
      ]
     },
     "execution_count": 167,
     "metadata": {},
     "output_type": "execute_result"
    }
   ],
   "source": [
    "df.UID.max()"
   ]
  },
  {
   "cell_type": "markdown",
   "metadata": {},
   "source": [
    "## rows for each UID"
   ]
  },
  {
   "cell_type": "code",
   "execution_count": 102,
   "metadata": {},
   "outputs": [],
   "source": [
    "df = df.reset_index().drop(columns=['index'])"
   ]
  },
  {
   "cell_type": "code",
   "execution_count": 130,
   "metadata": {},
   "outputs": [],
   "source": [
    "uid_row_dict = {}\n",
    "uid_missing_list = []\n",
    "for uid in df.UID.unique():\n",
    "    if uid == np.nan:\n",
    "        continue\n",
    "    if len(df[df.UID == uid].index.tolist()) == 0:\n",
    "        uid_missing_list.append(uid)\n",
    "    elif len(df[df.UID == uid].index.tolist()) == 1:\n",
    "        i = df[df.UID == uid].index.tolist()[0]\n",
    "    else:\n",
    "        print(uid)\n",
    "    uid_row_dict.update({uid: i})"
   ]
  },
  {
   "cell_type": "code",
   "execution_count": 134,
   "metadata": {},
   "outputs": [
    {
     "name": "stdout",
     "output_type": "stream",
     "text": [
      "[10000, nan]\n"
     ]
    }
   ],
   "source": [
    "# check data harmonization\n",
    "for i in range(0, len(df.UID.unique()) - 1):\n",
    "    uid_cur = [j for j in df.UID.unique() if j != np.nan][i]\n",
    "    uid_next = [j for j in df.UID.unique() if j != np.nan][i+1]\n",
    "    if uid_row_dict[uid_next] - uid_row_dict[uid_cur] != 4:\n",
    "        print([uid_cur, uid_next])\n"
   ]
  },
  {
   "cell_type": "markdown",
   "metadata": {},
   "source": [
    "## extract data"
   ]
  },
  {
   "cell_type": "code",
   "execution_count": 168,
   "metadata": {},
   "outputs": [
    {
     "data": {
      "text/html": [
       "<div>\n",
       "<style scoped>\n",
       "    .dataframe tbody tr th:only-of-type {\n",
       "        vertical-align: middle;\n",
       "    }\n",
       "\n",
       "    .dataframe tbody tr th {\n",
       "        vertical-align: top;\n",
       "    }\n",
       "\n",
       "    .dataframe thead th {\n",
       "        text-align: right;\n",
       "    }\n",
       "</style>\n",
       "<table border=\"1\" class=\"dataframe\">\n",
       "  <thead>\n",
       "    <tr style=\"text-align: right;\">\n",
       "      <th></th>\n",
       "      <th>UID</th>\n",
       "      <th>Unnamed: 2</th>\n",
       "      <th>Unnamed: 5</th>\n",
       "      <th>Unnamed: 8</th>\n",
       "      <th>Unnamed: 11</th>\n",
       "      <th>Unnamed: 15</th>\n",
       "      <th>Unnamed: 17</th>\n",
       "      <th>Unnamed: 19</th>\n",
       "      <th>Unnamed: 21</th>\n",
       "      <th>Unnamed: 22</th>\n",
       "      <th>Unnamed: 25</th>\n",
       "      <th>Unnamed: 29</th>\n",
       "      <th>Unnamed: 31</th>\n",
       "      <th>Unnamed: 34</th>\n",
       "      <th>Unnamed: 36</th>\n",
       "      <th>Unnamed: 38</th>\n",
       "      <th>Unnamed: 41</th>\n",
       "      <th>Unnamed: 42</th>\n",
       "    </tr>\n",
       "  </thead>\n",
       "  <tbody>\n",
       "    <tr>\n",
       "      <th>0</th>\n",
       "      <td>10000</td>\n",
       "      <td>ABETTI FRANK A</td>\n",
       "      <td>NaN</td>\n",
       "      <td>NaN</td>\n",
       "      <td>NaN</td>\n",
       "      <td>NaN</td>\n",
       "      <td>NaN</td>\n",
       "      <td>NaN</td>\n",
       "      <td>NaN</td>\n",
       "      <td>NaN</td>\n",
       "      <td>NaN</td>\n",
       "      <td>NaN</td>\n",
       "      <td>NaN</td>\n",
       "      <td>NaN</td>\n",
       "      <td>NaN</td>\n",
       "      <td>NaN</td>\n",
       "      <td>35210</td>\n",
       "      <td>NaN</td>\n",
       "    </tr>\n",
       "    <tr>\n",
       "      <th>1</th>\n",
       "      <td>NaN</td>\n",
       "      <td>ABETTI DANA S</td>\n",
       "      <td>NaN</td>\n",
       "      <td>NaN</td>\n",
       "      <td>NaN</td>\n",
       "      <td>BMW</td>\n",
       "      <td>NaN</td>\n",
       "      <td>2020.0</td>\n",
       "      <td>NaN</td>\n",
       "      <td>X3 XDRIV</td>\n",
       "      <td>1.0</td>\n",
       "      <td>NaN</td>\n",
       "      <td>NaN</td>\n",
       "      <td>NaN</td>\n",
       "      <td>NaN</td>\n",
       "      <td>NaN</td>\n",
       "      <td>NaN</td>\n",
       "      <td>NaN</td>\n",
       "    </tr>\n",
       "    <tr>\n",
       "      <th>3</th>\n",
       "      <td>NaN</td>\n",
       "      <td>4 ROUND HILL RD</td>\n",
       "      <td>NaN</td>\n",
       "      <td>NaN</td>\n",
       "      <td>NaN</td>\n",
       "      <td>SportU</td>\n",
       "      <td>NaN</td>\n",
       "      <td>4.0</td>\n",
       "      <td>BLU</td>\n",
       "      <td>NaN</td>\n",
       "      <td>NaN</td>\n",
       "      <td>NaN</td>\n",
       "      <td>NaN</td>\n",
       "      <td>NaN</td>\n",
       "      <td>NaN</td>\n",
       "      <td>NaN</td>\n",
       "      <td>35210</td>\n",
       "      <td>NaN</td>\n",
       "    </tr>\n",
       "    <tr>\n",
       "      <th>5</th>\n",
       "      <td>NaN</td>\n",
       "      <td>SALEM, CT 06420-3850</td>\n",
       "      <td>NaN</td>\n",
       "      <td>NaN</td>\n",
       "      <td>NaN</td>\n",
       "      <td>5UXTS1C00L9D06190</td>\n",
       "      <td>NaN</td>\n",
       "      <td>NaN</td>\n",
       "      <td>NaN</td>\n",
       "      <td>NaN</td>\n",
       "      <td>NaN</td>\n",
       "      <td>NaN</td>\n",
       "      <td>4600.0</td>\n",
       "      <td>NaN</td>\n",
       "      <td>NaN</td>\n",
       "      <td>NaN</td>\n",
       "      <td>NaN</td>\n",
       "      <td>NaN</td>\n",
       "    </tr>\n",
       "    <tr>\n",
       "      <th>9</th>\n",
       "      <td>10001</td>\n",
       "      <td>ABISSI CHRISTOPHER M</td>\n",
       "      <td>NaN</td>\n",
       "      <td>NaN</td>\n",
       "      <td>NaN</td>\n",
       "      <td>NaN</td>\n",
       "      <td>NaN</td>\n",
       "      <td>NaN</td>\n",
       "      <td>NaN</td>\n",
       "      <td>NaN</td>\n",
       "      <td>NaN</td>\n",
       "      <td>NaN</td>\n",
       "      <td>NaN</td>\n",
       "      <td>NaN</td>\n",
       "      <td>NaN</td>\n",
       "      <td>NaN</td>\n",
       "      <td>5160</td>\n",
       "      <td>NaN</td>\n",
       "    </tr>\n",
       "  </tbody>\n",
       "</table>\n",
       "</div>"
      ],
      "text/plain": [
       "     UID            Unnamed: 2  Unnamed: 5 Unnamed: 8  Unnamed: 11  \\\n",
       "0  10000        ABETTI FRANK A         NaN        NaN          NaN   \n",
       "1    NaN         ABETTI DANA S         NaN        NaN          NaN   \n",
       "3    NaN       4 ROUND HILL RD         NaN        NaN          NaN   \n",
       "5    NaN  SALEM, CT 06420-3850         NaN        NaN          NaN   \n",
       "9  10001  ABISSI CHRISTOPHER M         NaN        NaN          NaN   \n",
       "\n",
       "         Unnamed: 15 Unnamed: 17  Unnamed: 19 Unnamed: 21 Unnamed: 22  \\\n",
       "0                NaN         NaN          NaN         NaN         NaN   \n",
       "1                BMW         NaN       2020.0         NaN    X3 XDRIV   \n",
       "3             SportU         NaN          4.0         BLU         NaN   \n",
       "5  5UXTS1C00L9D06190         NaN          NaN         NaN         NaN   \n",
       "9                NaN         NaN          NaN         NaN         NaN   \n",
       "\n",
       "   Unnamed: 25  Unnamed: 29  Unnamed: 31 Unnamed: 34 Unnamed: 36 Unnamed: 38  \\\n",
       "0          NaN          NaN          NaN         NaN         NaN         NaN   \n",
       "1          1.0          NaN          NaN         NaN         NaN         NaN   \n",
       "3          NaN          NaN          NaN         NaN         NaN         NaN   \n",
       "5          NaN          NaN       4600.0         NaN         NaN         NaN   \n",
       "9          NaN          NaN          NaN         NaN         NaN         NaN   \n",
       "\n",
       "  Unnamed: 41  Unnamed: 42  \n",
       "0       35210          NaN  \n",
       "1         NaN          NaN  \n",
       "3       35210          NaN  \n",
       "5         NaN          NaN  \n",
       "9        5160          NaN  "
      ]
     },
     "execution_count": 168,
     "metadata": {},
     "output_type": "execute_result"
    }
   ],
   "source": [
    "df.head()"
   ]
  },
  {
   "cell_type": "code",
   "execution_count": 169,
   "metadata": {},
   "outputs": [],
   "source": [
    "# rename & keep only wanted columns\n",
    "df = df.rename(columns={\n",
    "    'Unnamed: 2': 'c1',\n",
    "    'Unnamed: 15': 'c2',\n",
    "    'Unnamed: 19': 'c3',\n",
    "    'Unnamed: 22': 'c4'\n",
    "})[['UID','c1','c2','c3','c4']]"
   ]
  },
  {
   "cell_type": "code",
   "execution_count": 181,
   "metadata": {},
   "outputs": [],
   "source": [
    "df = df.reset_index().drop(columns=['index'])"
   ]
  },
  {
   "cell_type": "code",
   "execution_count": 182,
   "metadata": {},
   "outputs": [
    {
     "data": {
      "text/html": [
       "<div>\n",
       "<style scoped>\n",
       "    .dataframe tbody tr th:only-of-type {\n",
       "        vertical-align: middle;\n",
       "    }\n",
       "\n",
       "    .dataframe tbody tr th {\n",
       "        vertical-align: top;\n",
       "    }\n",
       "\n",
       "    .dataframe thead th {\n",
       "        text-align: right;\n",
       "    }\n",
       "</style>\n",
       "<table border=\"1\" class=\"dataframe\">\n",
       "  <thead>\n",
       "    <tr style=\"text-align: right;\">\n",
       "      <th></th>\n",
       "      <th>UID</th>\n",
       "      <th>c1</th>\n",
       "      <th>c2</th>\n",
       "      <th>c3</th>\n",
       "      <th>c4</th>\n",
       "    </tr>\n",
       "  </thead>\n",
       "  <tbody>\n",
       "    <tr>\n",
       "      <th>0</th>\n",
       "      <td>10000</td>\n",
       "      <td>ABETTI FRANK A</td>\n",
       "      <td>NaN</td>\n",
       "      <td>NaN</td>\n",
       "      <td>NaN</td>\n",
       "    </tr>\n",
       "    <tr>\n",
       "      <th>1</th>\n",
       "      <td>NaN</td>\n",
       "      <td>ABETTI DANA S</td>\n",
       "      <td>BMW</td>\n",
       "      <td>2020.0</td>\n",
       "      <td>X3 XDRIV</td>\n",
       "    </tr>\n",
       "    <tr>\n",
       "      <th>2</th>\n",
       "      <td>NaN</td>\n",
       "      <td>4 ROUND HILL RD</td>\n",
       "      <td>SportU</td>\n",
       "      <td>4.0</td>\n",
       "      <td>NaN</td>\n",
       "    </tr>\n",
       "    <tr>\n",
       "      <th>3</th>\n",
       "      <td>NaN</td>\n",
       "      <td>SALEM, CT 06420-3850</td>\n",
       "      <td>5UXTS1C00L9D06190</td>\n",
       "      <td>NaN</td>\n",
       "      <td>NaN</td>\n",
       "    </tr>\n",
       "    <tr>\n",
       "      <th>4</th>\n",
       "      <td>10001</td>\n",
       "      <td>ABISSI CHRISTOPHER M</td>\n",
       "      <td>NaN</td>\n",
       "      <td>NaN</td>\n",
       "      <td>NaN</td>\n",
       "    </tr>\n",
       "    <tr>\n",
       "      <th>...</th>\n",
       "      <td>...</td>\n",
       "      <td>...</td>\n",
       "      <td>...</td>\n",
       "      <td>...</td>\n",
       "      <td>...</td>\n",
       "    </tr>\n",
       "    <tr>\n",
       "      <th>19321</th>\n",
       "      <td>NaN</td>\n",
       "      <td>JUHASZ CHERYL D</td>\n",
       "      <td>CHEVR</td>\n",
       "      <td>2003.0</td>\n",
       "      <td>S10</td>\n",
       "    </tr>\n",
       "    <tr>\n",
       "      <th>19322</th>\n",
       "      <td>NaN</td>\n",
       "      <td>306 Old Colchester Rd</td>\n",
       "      <td>PICKUP</td>\n",
       "      <td>6.0</td>\n",
       "      <td>NaN</td>\n",
       "    </tr>\n",
       "    <tr>\n",
       "      <th>19323</th>\n",
       "      <td>NaN</td>\n",
       "      <td>52</td>\n",
       "      <td>1GCCS14X438104002</td>\n",
       "      <td>NaN</td>\n",
       "      <td>NaN</td>\n",
       "    </tr>\n",
       "    <tr>\n",
       "      <th>19324</th>\n",
       "      <td>NaN</td>\n",
       "      <td>SALEM, CT 06420</td>\n",
       "      <td>NaN</td>\n",
       "      <td>NaN</td>\n",
       "      <td>NaN</td>\n",
       "    </tr>\n",
       "    <tr>\n",
       "      <th>19325</th>\n",
       "      <td>NaN</td>\n",
       "      <td>NaN</td>\n",
       "      <td>NaN</td>\n",
       "      <td>NaN</td>\n",
       "      <td>NaN</td>\n",
       "    </tr>\n",
       "  </tbody>\n",
       "</table>\n",
       "<p>19326 rows × 5 columns</p>\n",
       "</div>"
      ],
      "text/plain": [
       "         UID                     c1                 c2      c3        c4\n",
       "0      10000         ABETTI FRANK A                NaN     NaN       NaN\n",
       "1        NaN          ABETTI DANA S                BMW  2020.0  X3 XDRIV\n",
       "2        NaN        4 ROUND HILL RD             SportU     4.0       NaN\n",
       "3        NaN   SALEM, CT 06420-3850  5UXTS1C00L9D06190     NaN       NaN\n",
       "4      10001   ABISSI CHRISTOPHER M                NaN     NaN       NaN\n",
       "...      ...                    ...                ...     ...       ...\n",
       "19321    NaN        JUHASZ CHERYL D              CHEVR  2003.0       S10\n",
       "19322    NaN  306 Old Colchester Rd             PICKUP     6.0       NaN\n",
       "19323    NaN                     52  1GCCS14X438104002     NaN       NaN\n",
       "19324    NaN        SALEM, CT 06420                NaN     NaN       NaN\n",
       "19325    NaN                    NaN                NaN     NaN       NaN\n",
       "\n",
       "[19326 rows x 5 columns]"
      ]
     },
     "execution_count": 182,
     "metadata": {},
     "output_type": "execute_result"
    }
   ],
   "source": [
    "df"
   ]
  },
  {
   "cell_type": "code",
   "execution_count": 222,
   "metadata": {},
   "outputs": [],
   "source": [
    "# fix one problem\n",
    "df.loc[19323, 'c1'] = df.loc[19324, 'c1']"
   ]
  },
  {
   "cell_type": "code",
   "execution_count": 178,
   "metadata": {},
   "outputs": [],
   "source": [
    "df_treated = pd.DataFrame(\n",
    "    columns= ['Name','Street','City','State','Zip','Year','Make','Model','VIN'],\n",
    "    index=[int(i) for i in uid_row_dict if i >= 0]\n",
    ")"
   ]
  },
  {
   "cell_type": "code",
   "execution_count": 234,
   "metadata": {},
   "outputs": [],
   "source": [
    "def extract_city(s):\n",
    "    if s != s:      # check nan\n",
    "        return np.nan\n",
    "    elif s.find(',') == -1:\n",
    "        return np.nan\n",
    "    else:\n",
    "        return s[:s.find(',')]\n",
    "\n",
    "def extract_state(s):\n",
    "    if s != s:\n",
    "        return np.nan\n",
    "    elif s.find(',') == -1:\n",
    "        return np.nan\n",
    "    else:\n",
    "        return s[s.find(',') + 2: s.find(',') + 4]\n",
    "\n",
    "def extract_zip(s):\n",
    "    if s != s:\n",
    "        return np.nan\n",
    "    elif s.find(',') == -1:\n",
    "        return np.nan\n",
    "    else:\n",
    "        return s[s.find(',') + 5: s.find(',') + 10]\n",
    "\n",
    "for uid in df_treated.index:\n",
    "    row_begin = uid_row_dict[uid]\n",
    "    df_uid = df[row_begin:row_begin+4]\n",
    "    df_treated.loc[uid, 'Name'] = df.loc[row_begin, 'c1']\n",
    "    if df.loc[row_begin + 3, 'c1'] != df.loc[row_begin + 3, 'c1']:\n",
    "        df_treated.loc[uid, 'Street'] = df.loc[row_begin+1, 'c1']\n",
    "        city_state_zip = df.loc[row_begin+2, 'c1']\n",
    "    else:\n",
    "        df_treated.loc[uid, 'Street'] = df.loc[row_begin+2, 'c1']\n",
    "        city_state_zip = df.loc[row_begin+3, 'c1']\n",
    "    df_treated.loc[uid, 'City'] = extract_city(city_state_zip)\n",
    "    df_treated.loc[uid, 'State'] = extract_state(city_state_zip)\n",
    "    df_treated.loc[uid, 'Zip'] = extract_zip(city_state_zip)\n",
    "    df_treated.loc[uid, 'Year'] = int(df.loc[row_begin+1, 'c3'])\n",
    "    df_treated.loc[uid, 'Make'] = df.loc[row_begin+1, 'c2']\n",
    "    df_treated.loc[uid, 'Model'] = df.loc[row_begin+1, 'c4']\n",
    "    df_treated.loc[uid, 'VIN'] = df.loc[row_begin+3, 'c2']"
   ]
  },
  {
   "cell_type": "markdown",
   "metadata": {},
   "source": [
    "### check"
   ]
  },
  {
   "cell_type": "code",
   "execution_count": 237,
   "metadata": {},
   "outputs": [
    {
     "data": {
      "text/plain": [
       "array(['SALEM', 'ARLINGTON', 'MOOSUP', 'NORWICH', 'MYSTIC', 'COLCHESTER',\n",
       "       'CROMWELL', 'MOUNT LAUREL', 'BOZRAH', 'NEW HAVEN', 'EAST LYME',\n",
       "       'COLUMBIA', 'GROTON', 'NAUGATUCK', 'NEW MILFORD', 'ESSEX N',\n",
       "       'WINDSOR', 'WEST HAVEN', 'DULUTH', 'DEEP RIVER', 'DALLAS',\n",
       "       'BROOKFIELD', 'WATERFORD', 'STONINGTON', 'FORT WORTH', 'NIANTIC',\n",
       "       'UNCASVILLE', 'SPARKS', 'SOUTH WINDSOR', 'NEW HARTFORD',\n",
       "       'EAST HARTFORD', 'SUN CITY', 'WILMINGTON', 'WARREN', 'VERNON',\n",
       "       'TORRINGTON', 'HILLIARD', 'NORTH PORT', 'OAKDALE',\n",
       "       'MANSFIELD CENTER', 'EAST HADDAM', 'EAST GRANBY', 'PAWCATUCK',\n",
       "       'TORRANCE', 'PRESTON', 'ATLANTA', 'FOUNTAIN VALLEY', 'SOUTHINGTON',\n",
       "       'ST PETERSBURG', 'SUFFIELD', 'NEW BRITAIN', 'NAPLES', 'ALPHARETTA',\n",
       "       'AMSTON', 'BEACON FALLS', 'ALAMEDA', 'OLD LYME', 'OLD SAYBROOK',\n",
       "       'WINDHAM', 'MERIDEN', 'TERRYVILLE', 'SAMEM', 'SACRAMENTO',\n",
       "       'CANTERBURY', 'CLINTON', 'MOODUS', 'BROOKLYN', 'EAST NORTHPORT',\n",
       "       'WALLINGFORD', 'ROCKY HILL', 'LEBANON', 'ANSONIA', 'CHANDLER',\n",
       "       'FORT MYERS', 'OSHKOSH', 'DETROIT', 'LIBERTYVILLE', 'RIDGE MANOR',\n",
       "       'DES PLAINES', 'MARLBOROUGH'], dtype=object)"
      ]
     },
     "execution_count": 237,
     "metadata": {},
     "output_type": "execute_result"
    }
   ],
   "source": [
    "df_treated.City.unique()"
   ]
  },
  {
   "cell_type": "code",
   "execution_count": 230,
   "metadata": {},
   "outputs": [
    {
     "data": {
      "text/plain": [
       "array(['CT', 'TX', 'NJ', 'NY', 'GA', 'MD', 'AZ', 'NC', 'VT', 'OH', 'FL',\n",
       "       'CA', 'WI', 'MI', 'IL'], dtype=object)"
      ]
     },
     "execution_count": 230,
     "metadata": {},
     "output_type": "execute_result"
    }
   ],
   "source": [
    "df_treated.State.unique()"
   ]
  },
  {
   "cell_type": "code",
   "execution_count": 238,
   "metadata": {},
   "outputs": [
    {
     "data": {
      "text/plain": [
       "array(['06420', '76014', '06354', '06360', '06355', '06415', '06416',\n",
       "       '08054', '06334', '06511', '06333', '06237', '06340', '06770',\n",
       "       '06776', '12936', '06095', '06516', '30096', '06417', '75201',\n",
       "       '06804', '06385', '06378', '76177', '06357', '06382', '21152',\n",
       "       '06074', '06057', '06118', '85373', '21044', '28409', '05674',\n",
       "       '06066', '06790', '43026', '34287', '06370', '06250', '06423',\n",
       "       '06026', '06379', '90501', '06365', '06510', '30339', '92708',\n",
       "       '06489', '76101', '33703', '06078', '06053', '34114', '30009',\n",
       "       '06231', '06403', '94501', '06371', '06475', '06280', '06450',\n",
       "       '06786', '95865', '06331', '06413', '06469', '11234', '11731',\n",
       "       '06492', '06067', '06108', '00000', '06249', '06401', '85226',\n",
       "       '33908', '54902', '48226', '60048', '33523', '60016', '06447'],\n",
       "      dtype=object)"
      ]
     },
     "execution_count": 238,
     "metadata": {},
     "output_type": "execute_result"
    }
   ],
   "source": [
    "df_treated.Zip.unique()"
   ]
  },
  {
   "cell_type": "code",
   "execution_count": 240,
   "metadata": {},
   "outputs": [
    {
     "data": {
      "text/plain": [
       "array([ 3,  4,  5,  6,  7,  8,  9, 10, 11, 12, 13, 14, 15, 16, 17])"
      ]
     },
     "execution_count": 240,
     "metadata": {},
     "output_type": "execute_result"
    }
   ],
   "source": [
    "np.unique([len(i) for i in df_treated.VIN])"
   ]
  },
  {
   "cell_type": "code",
   "execution_count": 243,
   "metadata": {},
   "outputs": [],
   "source": [
    "df_treated['l'] = df_treated.VIN.map(len)"
   ]
  },
  {
   "cell_type": "code",
   "execution_count": 255,
   "metadata": {},
   "outputs": [
    {
     "data": {
      "text/html": [
       "<div>\n",
       "<style scoped>\n",
       "    .dataframe tbody tr th:only-of-type {\n",
       "        vertical-align: middle;\n",
       "    }\n",
       "\n",
       "    .dataframe tbody tr th {\n",
       "        vertical-align: top;\n",
       "    }\n",
       "\n",
       "    .dataframe thead th {\n",
       "        text-align: right;\n",
       "    }\n",
       "</style>\n",
       "<table border=\"1\" class=\"dataframe\">\n",
       "  <thead>\n",
       "    <tr style=\"text-align: right;\">\n",
       "      <th></th>\n",
       "      <th>Name</th>\n",
       "      <th>Street</th>\n",
       "      <th>City</th>\n",
       "      <th>State</th>\n",
       "      <th>Zip</th>\n",
       "      <th>Year</th>\n",
       "      <th>Make</th>\n",
       "      <th>Model</th>\n",
       "      <th>VIN</th>\n",
       "      <th>l</th>\n",
       "    </tr>\n",
       "  </thead>\n",
       "  <tbody>\n",
       "    <tr>\n",
       "      <th>210427</th>\n",
       "      <td>SWAN KANDIS M</td>\n",
       "      <td>117 SKYLINE DR</td>\n",
       "      <td>SALEM</td>\n",
       "      <td>CT</td>\n",
       "      <td>06420</td>\n",
       "      <td>1980</td>\n",
       "      <td>STERL</td>\n",
       "      <td>8514</td>\n",
       "      <td>908</td>\n",
       "      <td>3</td>\n",
       "    </tr>\n",
       "  </tbody>\n",
       "</table>\n",
       "</div>"
      ],
      "text/plain": [
       "                 Name          Street   City State    Zip  Year   Make Model  \\\n",
       "210427  SWAN KANDIS M  117 SKYLINE DR  SALEM    CT  06420  1980  STERL  8514   \n",
       "\n",
       "        VIN  l  \n",
       "210427  908  3  "
      ]
     },
     "execution_count": 255,
     "metadata": {},
     "output_type": "execute_result"
    }
   ],
   "source": [
    "df_treated[df_treated.l == 3]"
   ]
  },
  {
   "cell_type": "code",
   "execution_count": 256,
   "metadata": {},
   "outputs": [
    {
     "data": {
      "text/html": [
       "<div>\n",
       "<style scoped>\n",
       "    .dataframe tbody tr th:only-of-type {\n",
       "        vertical-align: middle;\n",
       "    }\n",
       "\n",
       "    .dataframe tbody tr th {\n",
       "        vertical-align: top;\n",
       "    }\n",
       "\n",
       "    .dataframe thead th {\n",
       "        text-align: right;\n",
       "    }\n",
       "</style>\n",
       "<table border=\"1\" class=\"dataframe\">\n",
       "  <thead>\n",
       "    <tr style=\"text-align: right;\">\n",
       "      <th></th>\n",
       "      <th>UID</th>\n",
       "      <th>c1</th>\n",
       "      <th>c2</th>\n",
       "      <th>c3</th>\n",
       "      <th>c4</th>\n",
       "    </tr>\n",
       "  </thead>\n",
       "  <tbody>\n",
       "    <tr>\n",
       "      <th>16520</th>\n",
       "      <td>210427</td>\n",
       "      <td>SWAN KANDIS M</td>\n",
       "      <td>NaN</td>\n",
       "      <td>NaN</td>\n",
       "      <td>NaN</td>\n",
       "    </tr>\n",
       "    <tr>\n",
       "      <th>16521</th>\n",
       "      <td>NaN</td>\n",
       "      <td>117 SKYLINE DR</td>\n",
       "      <td>STERL</td>\n",
       "      <td>1980.0</td>\n",
       "      <td>8514</td>\n",
       "    </tr>\n",
       "    <tr>\n",
       "      <th>16522</th>\n",
       "      <td>NaN</td>\n",
       "      <td>SALEM, CT 06420-4108</td>\n",
       "      <td>TRAILE</td>\n",
       "      <td>0.0</td>\n",
       "      <td>NaN</td>\n",
       "    </tr>\n",
       "    <tr>\n",
       "      <th>16523</th>\n",
       "      <td>NaN</td>\n",
       "      <td>NaN</td>\n",
       "      <td>908</td>\n",
       "      <td>NaN</td>\n",
       "      <td>NaN</td>\n",
       "    </tr>\n",
       "    <tr>\n",
       "      <th>16524</th>\n",
       "      <td>210428</td>\n",
       "      <td>SWAN KANDIS M</td>\n",
       "      <td>NaN</td>\n",
       "      <td>NaN</td>\n",
       "      <td>NaN</td>\n",
       "    </tr>\n",
       "  </tbody>\n",
       "</table>\n",
       "</div>"
      ],
      "text/plain": [
       "          UID                    c1      c2      c3    c4\n",
       "16520  210427         SWAN KANDIS M     NaN     NaN   NaN\n",
       "16521     NaN        117 SKYLINE DR   STERL  1980.0  8514\n",
       "16522     NaN  SALEM, CT 06420-4108  TRAILE     0.0   NaN\n",
       "16523     NaN                   NaN     908     NaN   NaN\n",
       "16524  210428         SWAN KANDIS M     NaN     NaN   NaN"
      ]
     },
     "execution_count": 256,
     "metadata": {},
     "output_type": "execute_result"
    }
   ],
   "source": [
    "a = uid_row_dict[210427]\n",
    "df[a: a+5]"
   ]
  },
  {
   "cell_type": "code",
   "execution_count": 257,
   "metadata": {},
   "outputs": [
    {
     "data": {
      "text/plain": [
       "array([2020, 2009, 2006, 2018, 2001, 2019, 2021, 2013, 2012, 2005, 2011,\n",
       "       1986, 2015, 2014, 2010, 1994, 2007, 1963, 2017, 2016, 2008, 1995,\n",
       "       1999, 1993, 2002, 1988, 2004, 1977, 1990, 1968, 1980, 1998, 2003,\n",
       "       2022, 1985, 1972, 1978, 1974, 2000, 1989, 1997, 1981, 1987, 1976,\n",
       "       1965, 1991, 1996, 1992, 1955, 1979, 1950, 1962, 1970, 1975, 1982,\n",
       "       1941, 1956, 1957, 1949, 1984, 1969, 1973, 1971, 1967, 1983, 1947,\n",
       "       1952, 1932, 1959, 1931, 1934, 1960, 1966, 1951, 1948, 1930, 1928,\n",
       "       1936, 1939, 1954], dtype=object)"
      ]
     },
     "execution_count": 257,
     "metadata": {},
     "output_type": "execute_result"
    }
   ],
   "source": [
    "df_treated.Year.unique()"
   ]
  },
  {
   "cell_type": "code",
   "execution_count": 258,
   "metadata": {},
   "outputs": [
    {
     "data": {
      "text/plain": [
       "array(['BMW', 'SUBAR', 'FORD', 'NISSA', 'TOYOT', 'CADIL', 'CHEVR', 'GMC',\n",
       "       'BUICK', 'TARTE', 'CARRY', 'JEEP', 'HONDA', 'DODGE', 'CORRE',\n",
       "       'STEAD', 'VOLKS', 'HYUND', 'THULE', 'CAM', 'STUDE', 'LOADR',\n",
       "       'KZ SP', 'KIA', 'JAYCO', 'HARLE', 'SURE-', 'WORKH', 'LONG', 'EZ',\n",
       "       'VENTU', 'LEXUS', 'LINCO', 'AUDI', 'MERCE', 'OLDSM', 'DILLY',\n",
       "       'SUPER', 'RAM', 'CHRYS', 'SUZUK', 'HOMEM', 'FOURW', 'CARGO',\n",
       "       'VOLVO', 'ACURA', 'HOME', 'REISE', 'NORTO', 'HM', 'DUCAT', 'KAWAS',\n",
       "       'HARLD', 'CARMA', 'TRIAD', 'BRIMA', 'SHORE', 'FREIG', 'HHYLI',\n",
       "       'COLEM', 'INFIN', 'SNOWB', 'KARAV', 'ALUMA', 'INTER', 'PONTI',\n",
       "       'SAAB', 'KEYST', 'ANDER', 'SU/TR', 'MINI', 'BIGT', 'KTM', 'WOODM',\n",
       "       'TARAV', 'SIERR', 'BGTEX', 'FORES', 'EAST', 'MAC T', 'VICTO',\n",
       "       'MAZDA', 'BRAVO', 'HURST', 'JAGUA', 'HOLSC', 'MG', 'MGA', 'SURE',\n",
       "       'THOR', 'BIG T', 'BISON', '5STAR', 'BWISE', 'QUALI', 'BRI-M',\n",
       "       'SALSC', 'BOWIE', 'NORTH', 'ROAD', 'CUSTO', 'HAULI', 'TRAIL',\n",
       "       'NUWAY', 'MAGIC', 'UNKNO', 'URAL', 'VERME', 'KAUF', 'MERCU',\n",
       "       'STRAT', 'TANZE', 'COYOT', 'YAMAH', 'BLACK', 'ROCKW', 'AMERI',\n",
       "       'FLOE', 'TRITO', 'VENTR', 'HIGHL', 'BIGTE', 'DESOT', 'WELLS',\n",
       "       'USCAR', 'LOAD', 'MONTA', 'FEATH', 'PACE', 'SALEM', 'JOHND',\n",
       "       'SATUR', 'SPRIN', 'CIRD', 'KZCOY', 'FLAGS', 'PETER', 'CHANG', 'HH',\n",
       "       'MATCH', 'PIAGG', 'VESPA', 'OPEN', 'ISUZU', 'CYNER', 'COTNE',\n",
       "       'JAY F', 'ECONO', 'TRANS', 'CAM S', 'HAUL', 'SULLI', 'KENWO',\n",
       "       'FELLI', 'EZ LO', 'CHEVY', 'CONTI', 'AMC', 'RANGE', 'INTEG',\n",
       "       'BIGTX', 'KAUFM', 'PARKE', 'GENES', 'SHORL', 'FLYER', 'OUTBA',\n",
       "       'SHOOP', 'MAXIM', 'WINNE', 'ROADM', 'TIMBE', 'WHITE', 'DELTA',\n",
       "       'P.J.', 'PROWL', 'FAN', 'MOTOG', 'WILDW', 'SGAC', 'VMA', 'COX',\n",
       "       'SUND', 'SAILB', 'SKEET', 'JACKS', 'SURVE', 'HOLSE', 'PACEA',\n",
       "       'EXPRE', 'SEALI', 'COREY', 'DOOLI', 'SMART', 'MOUNT', 'TEENE',\n",
       "       'SLEDB', 'EZLO', 'WILLY', 'PLYMO', 'COACH', 'TERRY', 'STARC',\n",
       "       'TRITN', 'SMITH', 'HMADE', 'VINTA', 'IN TE', 'CHALE', 'EXPRS',\n",
       "       'INDIA', 'PORSC', 'SERRO', 'WORTH', 'SKL', 'TRIUM', 'ANGEL',\n",
       "       'BULLE', 'SUNLI', 'MITSU', 'CITAT', 'SHAST', 'FIAT', 'EVERL',\n",
       "       'ARON', 'CAN-A', 'VALLE', 'TESLA', 'TOYTA', 'EAGER', 'HAWK',\n",
       "       'SKAMP', 'U-HAU', 'HUMME', 'SGREE', 'RIVER', 'MASER', 'HEART',\n",
       "       'PJ TR', 'SUNNY', 'LAND', 'COMPO', 'BOAT', 'PALOM', 'COMMO',\n",
       "       'EAGLE', 'SUNDO', 'SOLIT', 'EZLOA', 'MAST', 'RAMLI', 'SURET',\n",
       "       'EXISS', 'CHLG', 'BASS', 'N & N', 'EZDMP', 'MTT', 'NOVAE', 'HIGH',\n",
       "       'BLUE', 'ADMIR', 'MOTO', 'MYCO', 'DIMND', 'SOL', 'VEN', 'SUN',\n",
       "       'HURRI', 'PUMA', 'KZFRO', '4WINN', 'EZ DU', 'STEAL', 'TAMAR',\n",
       "       'TURTL', 'ESCOR', 'TRLX', 'PLEAS', 'DOWN', 'ELGIN', 'TRMPH',\n",
       "       'CHAIR', 'YONGQ', 'GLADI', 'DIAMO', 'KEYS', 'PEQUE', 'KAISE',\n",
       "       'JUNIO', 'FORD*', 'HAULN', 'CROSS', 'CAR M', 'UNITE', 'AUSHE',\n",
       "       'SPART', '5 STA', 'MAXEY', 'VENT', 'SNOPR', 'GOLDS', 'WARLO',\n",
       "       'HIPNT', 'LOOK', 'ITASC', 'CORR2', 'WESC', 'MACK', 'ARTIC',\n",
       "       'MASTE', 'NN TR', 'P J', 'RENEG', 'FLEET', 'BETTE', 'AMIDA',\n",
       "       'ALFA', 'LARK', 'FO/WI', 'GRAND', 'CHAMP', 'GEO', 'BIG', 'KINGS',\n",
       "       'REMEQ', 'M6', 'SEA R', 'NOAAN', 'SKIPP', 'DURA', 'STERL', 'GLASR',\n",
       "       'CM', 'LITE', 'S S T', 'HIGHC', 'FOXTR', 'ROCKE', 'TIDEW', 'HORNE',\n",
       "       'WILLO', 'LADY', 'BONAN', 'SEA L', 'TOUCH', 'E Z L', 'TRACK', 'PJ',\n",
       "       'HMMDE', 'NOMAN', 'LAUNC', 'CHERO', 'TEE N', 'JACO', 'NOMAD',\n",
       "       'BUELL', 'SNOW'], dtype=object)"
      ]
     },
     "execution_count": 258,
     "metadata": {},
     "output_type": "execute_result"
    }
   ],
   "source": [
    "df_treated.Make.unique()"
   ]
  },
  {
   "cell_type": "code",
   "execution_count": 270,
   "metadata": {},
   "outputs": [
    {
     "data": {
      "text/html": [
       "<div>\n",
       "<style scoped>\n",
       "    .dataframe tbody tr th:only-of-type {\n",
       "        vertical-align: middle;\n",
       "    }\n",
       "\n",
       "    .dataframe tbody tr th {\n",
       "        vertical-align: top;\n",
       "    }\n",
       "\n",
       "    .dataframe thead th {\n",
       "        text-align: right;\n",
       "    }\n",
       "</style>\n",
       "<table border=\"1\" class=\"dataframe\">\n",
       "  <thead>\n",
       "    <tr style=\"text-align: right;\">\n",
       "      <th></th>\n",
       "      <th>UID</th>\n",
       "      <th>c1</th>\n",
       "      <th>c2</th>\n",
       "      <th>c3</th>\n",
       "      <th>c4</th>\n",
       "    </tr>\n",
       "  </thead>\n",
       "  <tbody>\n",
       "    <tr>\n",
       "      <th>3848</th>\n",
       "      <td>60033</td>\n",
       "      <td>DAVIS KEVIN L</td>\n",
       "      <td>NaN</td>\n",
       "      <td>NaN</td>\n",
       "      <td>NaN</td>\n",
       "    </tr>\n",
       "    <tr>\n",
       "      <th>3849</th>\n",
       "      <td>NaN</td>\n",
       "      <td>209 OLD COLCHESTER R</td>\n",
       "      <td>EZ LO</td>\n",
       "      <td>1989.0</td>\n",
       "      <td>M17P1</td>\n",
       "    </tr>\n",
       "    <tr>\n",
       "      <th>3850</th>\n",
       "      <td>NaN</td>\n",
       "      <td>SALEM, CT 06420</td>\n",
       "      <td>TRAILE</td>\n",
       "      <td>0.0</td>\n",
       "      <td>NaN</td>\n",
       "    </tr>\n",
       "    <tr>\n",
       "      <th>3851</th>\n",
       "      <td>NaN</td>\n",
       "      <td>NaN</td>\n",
       "      <td>405117BMXKD000062</td>\n",
       "      <td>NaN</td>\n",
       "      <td>NaN</td>\n",
       "    </tr>\n",
       "    <tr>\n",
       "      <th>3852</th>\n",
       "      <td>60034</td>\n",
       "      <td>DAVIS KEVIN L</td>\n",
       "      <td>NaN</td>\n",
       "      <td>NaN</td>\n",
       "      <td>NaN</td>\n",
       "    </tr>\n",
       "  </tbody>\n",
       "</table>\n",
       "</div>"
      ],
      "text/plain": [
       "        UID                    c1                 c2      c3     c4\n",
       "3848  60033         DAVIS KEVIN L                NaN     NaN    NaN\n",
       "3849    NaN  209 OLD COLCHESTER R              EZ LO  1989.0  M17P1\n",
       "3850    NaN       SALEM, CT 06420             TRAILE     0.0    NaN\n",
       "3851    NaN                   NaN  405117BMXKD000062     NaN    NaN\n",
       "3852  60034         DAVIS KEVIN L                NaN     NaN    NaN"
      ]
     },
     "execution_count": 270,
     "metadata": {},
     "output_type": "execute_result"
    }
   ],
   "source": [
    "a = uid_row_dict[df_treated[df_treated.Make == 'EZ LO'].index.tolist()[0]]\n",
    "df[a: a+5]"
   ]
  },
  {
   "cell_type": "code",
   "execution_count": 275,
   "metadata": {},
   "outputs": [],
   "source": [
    "df_treated = df_treated.drop(columns=['l'])"
   ]
  },
  {
   "cell_type": "markdown",
   "metadata": {},
   "source": [
    "## store"
   ]
  },
  {
   "cell_type": "code",
   "execution_count": 276,
   "metadata": {},
   "outputs": [
    {
     "data": {
      "text/plain": [
       "'Salem_MV_21.xls'"
      ]
     },
     "execution_count": 276,
     "metadata": {},
     "output_type": "execute_result"
    }
   ],
   "source": [
    "f"
   ]
  },
  {
   "cell_type": "code",
   "execution_count": 277,
   "metadata": {},
   "outputs": [],
   "source": [
    "df_treated.to_csv(sav_path+f.replace('xls', 'csv'))"
   ]
  },
  {
   "cell_type": "markdown",
   "metadata": {},
   "source": [
    "# 2022.11.15 -- Bridgewater_MV_21.pdf; unsuccessful, consider other methods"
   ]
  },
  {
   "cell_type": "code",
   "execution_count": 4,
   "metadata": {},
   "outputs": [
    {
     "data": {
      "text/plain": [
       "['Bridgewater_MV_21.pdf']"
      ]
     },
     "execution_count": 4,
     "metadata": {},
     "output_type": "execute_result"
    }
   ],
   "source": [
    "os.listdir(path)"
   ]
  },
  {
   "cell_type": "markdown",
   "metadata": {},
   "source": [
    "## read"
   ]
  },
  {
   "cell_type": "code",
   "execution_count": 5,
   "metadata": {},
   "outputs": [],
   "source": [
    "f = 'Bridgewater_MV_21.pdf'"
   ]
  },
  {
   "cell_type": "code",
   "execution_count": 14,
   "metadata": {},
   "outputs": [],
   "source": [
    "tabula.convert_into(path + f, path + f.replace('.pdf', '_middle.csv'), output_format=\"csv\", pages='1-124')"
   ]
  },
  {
   "cell_type": "code",
   "execution_count": 68,
   "metadata": {},
   "outputs": [
    {
     "name": "stderr",
     "output_type": "stream",
     "text": [
      "C:\\Users\\leoqi\\AppData\\Roaming\\Python\\Python37\\site-packages\\pandas\\util\\_decorators.py:311: ParserWarning: Falling back to the 'python' engine because the 'c' engine does not support skipfooter; you can avoid this warning by specifying engine='python'.\n",
      "  return func(*args, **kwargs)\n"
     ]
    }
   ],
   "source": [
    "df = pd.read_csv(path + f.replace('.pdf', '_middle.csv'), skiprows=1, skipfooter=1)\n",
    "df = df.rename(columns={'UNIQUE#': 'UID', 'ADDRESS CITY/ST/ZIP': 'c1', 'Unnamed: 2': 'c2', 'Unnamed: 3': 'c3', 'CL': 'c4', \n",
    "'IDENTIFICATION':'c5', 'Unnamed: 6': 'c6', 'Unnamed: 7': 'c7', 'WEIGHT': 'c8', 'EXEMPT':'c9', 'EXEMPT.1': 'c10', 'NET': 'c11'})"
   ]
  },
  {
   "cell_type": "code",
   "execution_count": 69,
   "metadata": {},
   "outputs": [
    {
     "data": {
      "text/html": [
       "<div>\n",
       "<style scoped>\n",
       "    .dataframe tbody tr th:only-of-type {\n",
       "        vertical-align: middle;\n",
       "    }\n",
       "\n",
       "    .dataframe tbody tr th {\n",
       "        vertical-align: top;\n",
       "    }\n",
       "\n",
       "    .dataframe thead th {\n",
       "        text-align: right;\n",
       "    }\n",
       "</style>\n",
       "<table border=\"1\" class=\"dataframe\">\n",
       "  <thead>\n",
       "    <tr style=\"text-align: right;\">\n",
       "      <th></th>\n",
       "      <th>UID</th>\n",
       "      <th>c1</th>\n",
       "      <th>c2</th>\n",
       "      <th>c3</th>\n",
       "      <th>c4</th>\n",
       "      <th>c5</th>\n",
       "      <th>c6</th>\n",
       "      <th>c7</th>\n",
       "      <th>c8</th>\n",
       "      <th>c9</th>\n",
       "      <th>c10</th>\n",
       "      <th>c11</th>\n",
       "    </tr>\n",
       "  </thead>\n",
       "  <tbody>\n",
       "    <tr>\n",
       "      <th>0</th>\n",
       "      <td>50001</td>\n",
       "      <td>ABBETT LINDA J ABBETT MARILYN S</td>\n",
       "      <td>NaN</td>\n",
       "      <td>NaN</td>\n",
       "      <td>WHI 2016</td>\n",
       "      <td>TOYOT RAV4 LIM WAGON</td>\n",
       "      <td>NaN</td>\n",
       "      <td>NaN</td>\n",
       "      <td>3,616</td>\n",
       "      <td>NaN</td>\n",
       "      <td>NaN</td>\n",
       "      <td>17,240</td>\n",
       "    </tr>\n",
       "    <tr>\n",
       "      <th>1</th>\n",
       "      <td>50001</td>\n",
       "      <td>PO BOX 357 BRIDGEWATER CT 06752-0357</td>\n",
       "      <td>NaN</td>\n",
       "      <td>NaN</td>\n",
       "      <td>01</td>\n",
       "      <td>2T3DFREV1GW496859</td>\n",
       "      <td>NaN</td>\n",
       "      <td>NaN</td>\n",
       "      <td>6,000</td>\n",
       "      <td>NaN</td>\n",
       "      <td>NaN</td>\n",
       "      <td>17,240</td>\n",
       "    </tr>\n",
       "    <tr>\n",
       "      <th>2</th>\n",
       "      <td>NaN</td>\n",
       "      <td>121 CLATTER VALLEY RD BRIDGEWATER CT 06752-</td>\n",
       "      <td>NaN</td>\n",
       "      <td>NaN</td>\n",
       "      <td>NaN</td>\n",
       "      <td>NaN</td>\n",
       "      <td>NaN</td>\n",
       "      <td>NaN</td>\n",
       "      <td>NaN</td>\n",
       "      <td>NaN</td>\n",
       "      <td>NaN</td>\n",
       "      <td>NaN</td>\n",
       "    </tr>\n",
       "    <tr>\n",
       "      <th>3</th>\n",
       "      <td>50002</td>\n",
       "      <td>ABBETT LINDA J</td>\n",
       "      <td>NaN</td>\n",
       "      <td>NaN</td>\n",
       "      <td>BLU 2007</td>\n",
       "      <td>TOYOT RAV4</td>\n",
       "      <td>WAGON</td>\n",
       "      <td>NaN</td>\n",
       "      <td>NaN</td>\n",
       "      <td>NaN</td>\n",
       "      <td>NaN</td>\n",
       "      <td>5,250</td>\n",
       "    </tr>\n",
       "    <tr>\n",
       "      <th>4</th>\n",
       "      <td>50002</td>\n",
       "      <td>PO BOX 357 BRIDGEWATER CT 06752-0357</td>\n",
       "      <td>NaN</td>\n",
       "      <td>NaN</td>\n",
       "      <td>01</td>\n",
       "      <td>JTMBD33V476023102</td>\n",
       "      <td>NaN</td>\n",
       "      <td>NaN</td>\n",
       "      <td>NaN</td>\n",
       "      <td>NaN</td>\n",
       "      <td>NaN</td>\n",
       "      <td>5,250</td>\n",
       "    </tr>\n",
       "  </tbody>\n",
       "</table>\n",
       "</div>"
      ],
      "text/plain": [
       "     UID                                           c1   c2   c3        c4  \\\n",
       "0  50001              ABBETT LINDA J ABBETT MARILYN S  NaN  NaN  WHI 2016   \n",
       "1  50001         PO BOX 357 BRIDGEWATER CT 06752-0357  NaN  NaN        01   \n",
       "2    NaN  121 CLATTER VALLEY RD BRIDGEWATER CT 06752-  NaN  NaN       NaN   \n",
       "3  50002                               ABBETT LINDA J  NaN  NaN  BLU 2007   \n",
       "4  50002         PO BOX 357 BRIDGEWATER CT 06752-0357  NaN  NaN        01   \n",
       "\n",
       "                     c5     c6   c7     c8   c9  c10     c11  \n",
       "0  TOYOT RAV4 LIM WAGON    NaN  NaN  3,616  NaN  NaN  17,240  \n",
       "1     2T3DFREV1GW496859    NaN  NaN  6,000  NaN  NaN  17,240  \n",
       "2                   NaN    NaN  NaN    NaN  NaN  NaN     NaN  \n",
       "3            TOYOT RAV4  WAGON  NaN    NaN  NaN  NaN   5,250  \n",
       "4     JTMBD33V476023102    NaN  NaN    NaN  NaN  NaN   5,250  "
      ]
     },
     "execution_count": 69,
     "metadata": {},
     "output_type": "execute_result"
    }
   ],
   "source": [
    "df.head()"
   ]
  },
  {
   "cell_type": "code",
   "execution_count": 118,
   "metadata": {},
   "outputs": [],
   "source": [
    "# replace nan/none with ''\n",
    "df = df.fillna('')"
   ]
  },
  {
   "cell_type": "code",
   "execution_count": 70,
   "metadata": {},
   "outputs": [
    {
     "data": {
      "text/plain": [
       "\"\\nuid_text_list = []\\nfor i in df.index:\\n    try: \\n        float(df.loc[i,'UID'])\\n    except ValueError:\\n        uid_text_list.append(i)\\n\\ndf = df.drop(index=uid_text_list).reset_index().drop(columns=['index'])\\n\""
      ]
     },
     "execution_count": 70,
     "metadata": {},
     "output_type": "execute_result"
    }
   ],
   "source": [
    "# drop invalid rows\n",
    "'''\n",
    "uid_text_list = []\n",
    "for i in df.index:\n",
    "    try: \n",
    "        float(df.loc[i,'UID'])\n",
    "    except ValueError:\n",
    "        uid_text_list.append(i)\n",
    "\n",
    "df = df.drop(index=uid_text_list).reset_index().drop(columns=['index'])\n",
    "'''"
   ]
  },
  {
   "cell_type": "markdown",
   "metadata": {},
   "source": [
    "## append info"
   ]
  },
  {
   "cell_type": "code",
   "execution_count": 119,
   "metadata": {},
   "outputs": [],
   "source": [
    "uid_list = []\n",
    "uid_text_list = []\n",
    "for i in df.index:\n",
    "    try: \n",
    "        a = int(df.loc[i,'UID'])\n",
    "        if a >= 50000 and a <= 60000 and a not in uid_list:\n",
    "            uid_list.append(a)\n",
    "    except ValueError:\n",
    "        uid_text_list.append(i)"
   ]
  },
  {
   "cell_type": "code",
   "execution_count": 138,
   "metadata": {},
   "outputs": [],
   "source": [
    "df_treated = pd.DataFrame(index = uid_list)\n",
    "df_col_list = ['c{}'.format(i) for i in range(1, 12)]\n",
    "\n",
    "for uid in uid_list:\n",
    "    i_begin = df[df.UID == str(uid)].index[0]\n",
    "    l1 = ' '.join([df.loc[i_begin, c] for c in df_col_list])\n",
    "    l2 = ' '.join([df.loc[i_begin+1, c] for c in df_col_list])\n",
    "    if i_begin+2 in df.index and df.loc[i_begin+2, 'UID'] != '':\n",
    "        l3 = ' '.join([df.loc[i_begin+2, c] for c in df_col_list])\n",
    "    else:\n",
    "        l3 = ''\n",
    "    \n",
    "    df_treated.loc[uid, 'l1'] = l1\n",
    "    df_treated.loc[uid, 'l2'] = l2\n",
    "    df_treated.loc[uid, 'l3'] = l3\n",
    "\n",
    "    df_treated.loc[uid, 'Name'] = df.loc[i_begin, 'c1']\n",
    "\n",
    "df_treated = df_treated.reset_index().rename(columns={'index':'UID'})"
   ]
  },
  {
   "cell_type": "code",
   "execution_count": 139,
   "metadata": {},
   "outputs": [
    {
     "data": {
      "text/html": [
       "<div>\n",
       "<style scoped>\n",
       "    .dataframe tbody tr th:only-of-type {\n",
       "        vertical-align: middle;\n",
       "    }\n",
       "\n",
       "    .dataframe tbody tr th {\n",
       "        vertical-align: top;\n",
       "    }\n",
       "\n",
       "    .dataframe thead th {\n",
       "        text-align: right;\n",
       "    }\n",
       "</style>\n",
       "<table border=\"1\" class=\"dataframe\">\n",
       "  <thead>\n",
       "    <tr style=\"text-align: right;\">\n",
       "      <th></th>\n",
       "      <th>UID</th>\n",
       "      <th>l1</th>\n",
       "      <th>l2</th>\n",
       "      <th>l3</th>\n",
       "      <th>Name</th>\n",
       "    </tr>\n",
       "  </thead>\n",
       "  <tbody>\n",
       "    <tr>\n",
       "      <th>0</th>\n",
       "      <td>50001</td>\n",
       "      <td>ABBETT LINDA J ABBETT MARILYN S   WHI 2016 TOY...</td>\n",
       "      <td>PO BOX 357 BRIDGEWATER CT 06752-0357   01 2T3D...</td>\n",
       "      <td></td>\n",
       "      <td>ABBETT LINDA J ABBETT MARILYN S</td>\n",
       "    </tr>\n",
       "    <tr>\n",
       "      <th>1</th>\n",
       "      <td>50002</td>\n",
       "      <td>ABBETT LINDA J   BLU 2007 TOYOT RAV4 WAGON    ...</td>\n",
       "      <td>PO BOX 357 BRIDGEWATER CT 06752-0357   01 JTMB...</td>\n",
       "      <td></td>\n",
       "      <td>ABBETT LINDA J</td>\n",
       "    </tr>\n",
       "    <tr>\n",
       "      <th>2</th>\n",
       "      <td>50003</td>\n",
       "      <td>ABBETT MARILYN S ABBETT LINDA J   SIL 2016 TOY...</td>\n",
       "      <td>PO BOX 126 BRIDGEWATER CT 06752-0126   01 JTMD...</td>\n",
       "      <td></td>\n",
       "      <td>ABBETT MARILYN S ABBETT LINDA J</td>\n",
       "    </tr>\n",
       "    <tr>\n",
       "      <th>3</th>\n",
       "      <td>50004</td>\n",
       "      <td>ABBEY RESTAURANT LLC   GRA 2017 CHEVR EXPRESS ...</td>\n",
       "      <td>11 CEDAR HILL RD BRIDGEWATER CT 06752-1001   0...</td>\n",
       "      <td>ABBOTT CHARLES D   GRA 1988 KARAV KR2575 TRAIL...</td>\n",
       "      <td>ABBEY RESTAURANT LLC</td>\n",
       "    </tr>\n",
       "    <tr>\n",
       "      <th>4</th>\n",
       "      <td>50005</td>\n",
       "      <td>ABBOTT CHARLES D   GRA 1988 KARAV KR2575 TRAIL...</td>\n",
       "      <td>113 HENRY SANFORD RD BRIDGEWATER CT 06752-1214...</td>\n",
       "      <td>ABBOTT CHARLES D   TAN 1985 COLEM SEQOUIA TRAI...</td>\n",
       "      <td>ABBOTT CHARLES D</td>\n",
       "    </tr>\n",
       "    <tr>\n",
       "      <th>...</th>\n",
       "      <td>...</td>\n",
       "      <td>...</td>\n",
       "      <td>...</td>\n",
       "      <td>...</td>\n",
       "      <td>...</td>\n",
       "    </tr>\n",
       "    <tr>\n",
       "      <th>1619</th>\n",
       "      <td>52010</td>\n",
       "      <td>ZANDONELLA VICTORIA D   GRA 2005 BMW F650GS EN...</td>\n",
       "      <td>155 CHRISTIAN ST BRIDGEWATER CT 06752-1426  12...</td>\n",
       "      <td>ZANDONELLA VICTORIA D   GRA 2015 AUDI S3 PREMI...</td>\n",
       "      <td>ZANDONELLA VICTORIA D</td>\n",
       "    </tr>\n",
       "    <tr>\n",
       "      <th>1620</th>\n",
       "      <td>52011</td>\n",
       "      <td>ZANDONELLA VICTORIA D   GRA 2015 AUDI S3 PREMI...</td>\n",
       "      <td>155 CHRISTIAN ST BRIDGEWATER CT 06752-1426  01...</td>\n",
       "      <td>ZANDONELLA VICTORIA D   GRA 2019 VOLVO XC40 MO...</td>\n",
       "      <td>ZANDONELLA VICTORIA D</td>\n",
       "    </tr>\n",
       "    <tr>\n",
       "      <th>1621</th>\n",
       "      <td>52012</td>\n",
       "      <td>ZANDONELLA VICTORIA D   GRA 2019 VOLVO XC40 MO...</td>\n",
       "      <td>155 CHRISTIAN ST BRIDGEWATER CT 06752-1426  01...</td>\n",
       "      <td>ZUCCA RICHARD   GRA 2010 KARAV PK2400 BT TRL  ...</td>\n",
       "      <td>ZANDONELLA VICTORIA D</td>\n",
       "    </tr>\n",
       "    <tr>\n",
       "      <th>1622</th>\n",
       "      <td>52013</td>\n",
       "      <td>ZUCCA RICHARD   GRA 2010 KARAV PK2400 BT TRL  ...</td>\n",
       "      <td>25 BLUEBERRY HILL RD BRIDGEWATER CT 06752-  11...</td>\n",
       "      <td>ZUCCA RICHARD   RED 2016 JEEP CHEROKEE WAGON  ...</td>\n",
       "      <td>ZUCCA RICHARD</td>\n",
       "    </tr>\n",
       "    <tr>\n",
       "      <th>1623</th>\n",
       "      <td>52014</td>\n",
       "      <td>ZUCCA RICHARD   RED 2016 JEEP CHEROKEE WAGON  ...</td>\n",
       "      <td>25 BLUEBERRY HILL RD BRIDGEWATER CT 06752-  01...</td>\n",
       "      <td></td>\n",
       "      <td>ZUCCA RICHARD</td>\n",
       "    </tr>\n",
       "  </tbody>\n",
       "</table>\n",
       "<p>1624 rows × 5 columns</p>\n",
       "</div>"
      ],
      "text/plain": [
       "        UID                                                 l1  \\\n",
       "0     50001  ABBETT LINDA J ABBETT MARILYN S   WHI 2016 TOY...   \n",
       "1     50002  ABBETT LINDA J   BLU 2007 TOYOT RAV4 WAGON    ...   \n",
       "2     50003  ABBETT MARILYN S ABBETT LINDA J   SIL 2016 TOY...   \n",
       "3     50004  ABBEY RESTAURANT LLC   GRA 2017 CHEVR EXPRESS ...   \n",
       "4     50005  ABBOTT CHARLES D   GRA 1988 KARAV KR2575 TRAIL...   \n",
       "...     ...                                                ...   \n",
       "1619  52010  ZANDONELLA VICTORIA D   GRA 2005 BMW F650GS EN...   \n",
       "1620  52011  ZANDONELLA VICTORIA D   GRA 2015 AUDI S3 PREMI...   \n",
       "1621  52012  ZANDONELLA VICTORIA D   GRA 2019 VOLVO XC40 MO...   \n",
       "1622  52013  ZUCCA RICHARD   GRA 2010 KARAV PK2400 BT TRL  ...   \n",
       "1623  52014  ZUCCA RICHARD   RED 2016 JEEP CHEROKEE WAGON  ...   \n",
       "\n",
       "                                                     l2  \\\n",
       "0     PO BOX 357 BRIDGEWATER CT 06752-0357   01 2T3D...   \n",
       "1     PO BOX 357 BRIDGEWATER CT 06752-0357   01 JTMB...   \n",
       "2     PO BOX 126 BRIDGEWATER CT 06752-0126   01 JTMD...   \n",
       "3     11 CEDAR HILL RD BRIDGEWATER CT 06752-1001   0...   \n",
       "4     113 HENRY SANFORD RD BRIDGEWATER CT 06752-1214...   \n",
       "...                                                 ...   \n",
       "1619  155 CHRISTIAN ST BRIDGEWATER CT 06752-1426  12...   \n",
       "1620  155 CHRISTIAN ST BRIDGEWATER CT 06752-1426  01...   \n",
       "1621  155 CHRISTIAN ST BRIDGEWATER CT 06752-1426  01...   \n",
       "1622  25 BLUEBERRY HILL RD BRIDGEWATER CT 06752-  11...   \n",
       "1623  25 BLUEBERRY HILL RD BRIDGEWATER CT 06752-  01...   \n",
       "\n",
       "                                                     l3  \\\n",
       "0                                                         \n",
       "1                                                         \n",
       "2                                                         \n",
       "3     ABBOTT CHARLES D   GRA 1988 KARAV KR2575 TRAIL...   \n",
       "4     ABBOTT CHARLES D   TAN 1985 COLEM SEQOUIA TRAI...   \n",
       "...                                                 ...   \n",
       "1619  ZANDONELLA VICTORIA D   GRA 2015 AUDI S3 PREMI...   \n",
       "1620  ZANDONELLA VICTORIA D   GRA 2019 VOLVO XC40 MO...   \n",
       "1621  ZUCCA RICHARD   GRA 2010 KARAV PK2400 BT TRL  ...   \n",
       "1622  ZUCCA RICHARD   RED 2016 JEEP CHEROKEE WAGON  ...   \n",
       "1623                                                      \n",
       "\n",
       "                                 Name  \n",
       "0     ABBETT LINDA J ABBETT MARILYN S  \n",
       "1                      ABBETT LINDA J  \n",
       "2     ABBETT MARILYN S ABBETT LINDA J  \n",
       "3                ABBEY RESTAURANT LLC  \n",
       "4                    ABBOTT CHARLES D  \n",
       "...                               ...  \n",
       "1619            ZANDONELLA VICTORIA D  \n",
       "1620            ZANDONELLA VICTORIA D  \n",
       "1621            ZANDONELLA VICTORIA D  \n",
       "1622                    ZUCCA RICHARD  \n",
       "1623                    ZUCCA RICHARD  \n",
       "\n",
       "[1624 rows x 5 columns]"
      ]
     },
     "execution_count": 139,
     "metadata": {},
     "output_type": "execute_result"
    }
   ],
   "source": [
    "df_treated"
   ]
  },
  {
   "cell_type": "code",
   "execution_count": 140,
   "metadata": {},
   "outputs": [],
   "source": [
    "df_treated['space_in_name'] = df_treated.Name.apply(lambda x: len([i for i in x if i == ' ']))"
   ]
  },
  {
   "cell_type": "code",
   "execution_count": 141,
   "metadata": {},
   "outputs": [
    {
     "data": {
      "text/plain": [
       "array([5, 2, 3, 1, 4, 6, 7], dtype=int64)"
      ]
     },
     "execution_count": 141,
     "metadata": {},
     "output_type": "execute_result"
    }
   ],
   "source": [
    "df_treated.space_in_name.unique()"
   ]
  },
  {
   "cell_type": "code",
   "execution_count": 142,
   "metadata": {},
   "outputs": [
    {
     "data": {
      "text/html": [
       "<div>\n",
       "<style scoped>\n",
       "    .dataframe tbody tr th:only-of-type {\n",
       "        vertical-align: middle;\n",
       "    }\n",
       "\n",
       "    .dataframe tbody tr th {\n",
       "        vertical-align: top;\n",
       "    }\n",
       "\n",
       "    .dataframe thead th {\n",
       "        text-align: right;\n",
       "    }\n",
       "</style>\n",
       "<table border=\"1\" class=\"dataframe\">\n",
       "  <thead>\n",
       "    <tr style=\"text-align: right;\">\n",
       "      <th></th>\n",
       "      <th>UID</th>\n",
       "      <th>l1</th>\n",
       "      <th>l2</th>\n",
       "      <th>l3</th>\n",
       "      <th>Name</th>\n",
       "      <th>space_in_name</th>\n",
       "    </tr>\n",
       "  </thead>\n",
       "  <tbody>\n",
       "    <tr>\n",
       "      <th>40</th>\n",
       "      <td>50041</td>\n",
       "      <td>ALLOW ME PROPERTY MGMT SE  WHI 2015 CHEVR SILV...</td>\n",
       "      <td>PO BOX 2332 NEW PRESTON CT 06777-0332  02 1GB3...</td>\n",
       "      <td></td>\n",
       "      <td>ALLOW ME PROPERTY MGMT SE</td>\n",
       "      <td>4</td>\n",
       "    </tr>\n",
       "    <tr>\n",
       "      <th>152</th>\n",
       "      <td>50176</td>\n",
       "      <td>BONOMO INGRID H HUBATA HENRIETTA  GRA 2012 TOY...</td>\n",
       "      <td>102 WEWAKA BROOK RD BRIDGEWATER CT 06752-1712 ...</td>\n",
       "      <td>BORGEEST UWE F  GRA 2018 FORD EXPLORER SPORT  ...</td>\n",
       "      <td>BONOMO INGRID H HUBATA HENRIETTA</td>\n",
       "      <td>4</td>\n",
       "    </tr>\n",
       "    <tr>\n",
       "      <th>162</th>\n",
       "      <td>50202</td>\n",
       "      <td>BROWN COLIN N BROWN SHARON  BLA 2012 CHEVR SIL...</td>\n",
       "      <td>24 SARAH SANFORD RD BRIDGEWATER CT 06752-  01 ...</td>\n",
       "      <td></td>\n",
       "      <td>BROWN COLIN N BROWN SHARON</td>\n",
       "      <td>4</td>\n",
       "    </tr>\n",
       "    <tr>\n",
       "      <th>245</th>\n",
       "      <td>50315</td>\n",
       "      <td>CHARLES A GAAL CONSTRUCTION LLC</td>\n",
       "      <td>WHI 2004 FORD ECONOLIN CARGO   7,000   5,370</td>\n",
       "      <td>429 HUT HILL RD BRIDGEWATER CT 06752-   03 1FT...</td>\n",
       "      <td>CHARLES A GAAL CONSTRUCTION LLC</td>\n",
       "      <td>4</td>\n",
       "    </tr>\n",
       "    <tr>\n",
       "      <th>468</th>\n",
       "      <td>50599</td>\n",
       "      <td>ESPINOSA FERNANDO ESPINOSA REYNA A  GRA 2020  ...</td>\n",
       "      <td>64 TOWN LINE RD BRIDGEWATER CT 06752-1515  01 ...</td>\n",
       "      <td>ESPINOSA FERNANDO ESPINOSA REYNA A  2020  SUBA...</td>\n",
       "      <td>ESPINOSA FERNANDO ESPINOSA REYNA A</td>\n",
       "      <td>4</td>\n",
       "    </tr>\n",
       "    <tr>\n",
       "      <th>469</th>\n",
       "      <td>52042</td>\n",
       "      <td>ESPINOSA FERNANDO ESPINOSA REYNA A  2020  SUBA...</td>\n",
       "      <td>64 TOWN LINE ROAD BRIDGEWATER CT 06752-  01  J...</td>\n",
       "      <td>ESPINOSA FERNANDO  2013  VOLKS PASSAT S SEDAN ...</td>\n",
       "      <td>ESPINOSA FERNANDO ESPINOSA REYNA A</td>\n",
       "      <td>4</td>\n",
       "    </tr>\n",
       "    <tr>\n",
       "      <th>519</th>\n",
       "      <td>50674</td>\n",
       "      <td>FRATTALONE ANN GIARRATANO DONALD J  RED 1950 W...</td>\n",
       "      <td>15 BILBERRY RD BRIDGEWATER CT 06752-1302  25 6...</td>\n",
       "      <td>FREITAS ALEXANDRA W  WHI 2018 VOLVO XC60 T6 WA...</td>\n",
       "      <td>FRATTALONE ANN GIARRATANO DONALD J</td>\n",
       "      <td>4</td>\n",
       "    </tr>\n",
       "    <tr>\n",
       "      <th>533</th>\n",
       "      <td>50688</td>\n",
       "      <td>GALHARDI-BARROSO GUILHERME ALVARENGA ISABELLA ...</td>\n",
       "      <td>417 OLD TURNPIKE RD E BRIDGEWATER CT 06752-112...</td>\n",
       "      <td>GALLAGHER JO A  BLA 2014 HONDA CR-V LX WAGON  ...</td>\n",
       "      <td>GALHARDI-BARROSO GUILHERME ALVARENGA ISABELLA L</td>\n",
       "      <td>4</td>\n",
       "    </tr>\n",
       "    <tr>\n",
       "      <th>561</th>\n",
       "      <td>50716</td>\n",
       "      <td>GIARRATANO DONALD J FRATTALONE ANN   RED 2006 ...</td>\n",
       "      <td>33 MAIN ST N BRIDGEWATER CT 06752-1219   39 4X...</td>\n",
       "      <td>GILMORE LOIS S   SIL 2017 JEEP GRAND CH SPORT ...</td>\n",
       "      <td>GIARRATANO DONALD J FRATTALONE ANN</td>\n",
       "      <td>4</td>\n",
       "    </tr>\n",
       "    <tr>\n",
       "      <th>568</th>\n",
       "      <td>50723</td>\n",
       "      <td>GIUSTI ROBERT G GIUSTI GRACE   GRA 1999 PORSC ...</td>\n",
       "      <td>170 SKYLINE RIDGE RD BRIDGEWATER CT 06752-1729...</td>\n",
       "      <td></td>\n",
       "      <td>GIUSTI ROBERT G GIUSTI GRACE</td>\n",
       "      <td>4</td>\n",
       "    </tr>\n",
       "    <tr>\n",
       "      <th>596</th>\n",
       "      <td>50751</td>\n",
       "      <td>BOX 302 BRIDGEWATER CT 06752-0302  01 JM1NA351...</td>\n",
       "      <td>34 GARRITY LA BRIDGEWATER CT 06752-</td>\n",
       "      <td>GORDON GARY W  TAN 2015 JEEP CHEROKEE WAGON  1...</td>\n",
       "      <td>BOX 302 BRIDGEWATER CT 06752-0302</td>\n",
       "      <td>4</td>\n",
       "    </tr>\n",
       "    <tr>\n",
       "      <th>599</th>\n",
       "      <td>50754</td>\n",
       "      <td>GOVERNALE JOSHUA L GOVERNALE ANNEMARIE  BLA 20...</td>\n",
       "      <td>100 OLD TOWN HWY BRIDGEWATER CT 06752-1119  01...</td>\n",
       "      <td>GOVERNALE JOSHUA L GOVERNALE ANNEMARIE  GRA 20...</td>\n",
       "      <td>GOVERNALE JOSHUA L GOVERNALE ANNEMARIE</td>\n",
       "      <td>4</td>\n",
       "    </tr>\n",
       "    <tr>\n",
       "      <th>600</th>\n",
       "      <td>50755</td>\n",
       "      <td>GOVERNALE JOSHUA L GOVERNALE ANNEMARIE  GRA 20...</td>\n",
       "      <td>100 OLD TOWN HWY BRIDGEWATER CT 06752-1119  01...</td>\n",
       "      <td>GOWISNOCK BARBARA A  BLA 2017 MERCE GL550 4 SP...</td>\n",
       "      <td>GOVERNALE JOSHUA L GOVERNALE ANNEMARIE</td>\n",
       "      <td>4</td>\n",
       "    </tr>\n",
       "    <tr>\n",
       "      <th>629</th>\n",
       "      <td>50813</td>\n",
       "      <td>HAGER EDWARD HAGER BARBARA H   BLU 2009 TOYOT ...</td>\n",
       "      <td>212 MAIN ST N BRIDGEWATER CT 06752-1223   01 4...</td>\n",
       "      <td>HANLON JEAN D   SIL 2018 SUBAR CROSSTRE WAGON ...</td>\n",
       "      <td>HAGER EDWARD HAGER BARBARA H</td>\n",
       "      <td>4</td>\n",
       "    </tr>\n",
       "    <tr>\n",
       "      <th>709</th>\n",
       "      <td>50893</td>\n",
       "      <td>HOBBS KEVIN J HOBBS FRANZISKA   BLU 2016 VOLKS...</td>\n",
       "      <td>138 MAIN ST S BRIDGEWATER CT 06752-1518   01 3...</td>\n",
       "      <td>HOBBS KEVIN J HOBBS FRANZISKA   GRA 2017 VOLKS...</td>\n",
       "      <td>HOBBS KEVIN J HOBBS FRANZISKA</td>\n",
       "      <td>4</td>\n",
       "    </tr>\n",
       "    <tr>\n",
       "      <th>710</th>\n",
       "      <td>50894</td>\n",
       "      <td>HOBBS KEVIN J HOBBS FRANZISKA   GRA 2017 VOLKS...</td>\n",
       "      <td>138 MAIN ST S BRIDGEWATER CT 06752-1518   01 3...</td>\n",
       "      <td>HOCHSTETTER FRANCIS G   TAN 2007 TOYOT HIGHLAN...</td>\n",
       "      <td>HOBBS KEVIN J HOBBS FRANZISKA</td>\n",
       "      <td>4</td>\n",
       "    </tr>\n",
       "    <tr>\n",
       "      <th>740</th>\n",
       "      <td>50924</td>\n",
       "      <td>HRITZ ANNMARIE HRITZ KEVIN A BLA 2010 MERCE C3...</td>\n",
       "      <td>PO BOX 12 GAYLORDSVILLE CT 06755-0012 01 WDDGF...</td>\n",
       "      <td></td>\n",
       "      <td>HRITZ ANNMARIE HRITZ KEVIN A</td>\n",
       "      <td>4</td>\n",
       "    </tr>\n",
       "    <tr>\n",
       "      <th>776</th>\n",
       "      <td>50974</td>\n",
       "      <td>JP MORGAN CHASE BANK NA WHI 2021 SUBAR LEGACY ...</td>\n",
       "      <td>P O BOX 901098 FORT WORTH TX 76101- 01 4S3BWAC...</td>\n",
       "      <td></td>\n",
       "      <td>JP MORGAN CHASE BANK NA</td>\n",
       "      <td>4</td>\n",
       "    </tr>\n",
       "    <tr>\n",
       "      <th>777</th>\n",
       "      <td>50975</td>\n",
       "      <td>JP MORGAN CHASE BANK NA SIL 2018 SUBAR CROSSTR...</td>\n",
       "      <td>P O BOX 901098 FORT WORTH TX 76101- 01 JF2GTAB...</td>\n",
       "      <td></td>\n",
       "      <td>JP MORGAN CHASE BANK NA</td>\n",
       "      <td>4</td>\n",
       "    </tr>\n",
       "    <tr>\n",
       "      <th>778</th>\n",
       "      <td>50976</td>\n",
       "      <td>JP MORGAN CHASE BANK NA RED 2019 MAZDA CX-5 TO...</td>\n",
       "      <td>P O BOX 901098 FORT WORTH TX 76101- 01 JM3KFBC...</td>\n",
       "      <td></td>\n",
       "      <td>JP MORGAN CHASE BANK NA</td>\n",
       "      <td>4</td>\n",
       "    </tr>\n",
       "    <tr>\n",
       "      <th>779</th>\n",
       "      <td>50977</td>\n",
       "      <td>JP MORGAN CHASE BANK NA WHI 2019 SUBAR FORESTE...</td>\n",
       "      <td>P O BOX 901098 FORT WORTH TX 76101- 01 JF2SKAG...</td>\n",
       "      <td></td>\n",
       "      <td>JP MORGAN CHASE BANK NA</td>\n",
       "      <td>4</td>\n",
       "    </tr>\n",
       "    <tr>\n",
       "      <th>780</th>\n",
       "      <td>50978</td>\n",
       "      <td>JP MORGAN CHASE BANK NA BLU 2020 LAND RANGE RO...</td>\n",
       "      <td>P O BOX 901098 FORT WORTH TX 76101- 01 SALWR2S...</td>\n",
       "      <td></td>\n",
       "      <td>JP MORGAN CHASE BANK NA</td>\n",
       "      <td>4</td>\n",
       "    </tr>\n",
       "    <tr>\n",
       "      <th>781</th>\n",
       "      <td>50979</td>\n",
       "      <td>JP MORGAN CHASE BANK NA BLA 2020 MAZDA CX-5 SP...</td>\n",
       "      <td>P O BOX 901098 FORT WORTH TX 76101- 01 JM3KFBB...</td>\n",
       "      <td></td>\n",
       "      <td>JP MORGAN CHASE BANK NA</td>\n",
       "      <td>4</td>\n",
       "    </tr>\n",
       "    <tr>\n",
       "      <th>782</th>\n",
       "      <td>50980</td>\n",
       "      <td>JP MORGAN CHASE BANK NA SIL 2020 SUBAR IMPREZA...</td>\n",
       "      <td>P O BOX 901098 FORT WORTH TX 76101- 01 4S3GKAB...</td>\n",
       "      <td></td>\n",
       "      <td>JP MORGAN CHASE BANK NA</td>\n",
       "      <td>4</td>\n",
       "    </tr>\n",
       "    <tr>\n",
       "      <th>783</th>\n",
       "      <td>50981</td>\n",
       "      <td>JP MORGAN CHASE BANK NA ORA 2020 SUBAR CROSSTR...</td>\n",
       "      <td>P O BOX 901098 FORT WORTH TX 76101- 01 JF2GTAP...</td>\n",
       "      <td></td>\n",
       "      <td>JP MORGAN CHASE BANK NA</td>\n",
       "      <td>4</td>\n",
       "    </tr>\n",
       "    <tr>\n",
       "      <th>784</th>\n",
       "      <td>50982</td>\n",
       "      <td>JP MORGAN CHASE BANK NA BLA 2020 SUBAR OUTBACK...</td>\n",
       "      <td>P O BOX 901098 FORT WORTH TX 76101- 01 4S4BTAC...</td>\n",
       "      <td></td>\n",
       "      <td>JP MORGAN CHASE BANK NA</td>\n",
       "      <td>4</td>\n",
       "    </tr>\n",
       "    <tr>\n",
       "      <th>785</th>\n",
       "      <td>50983</td>\n",
       "      <td>JP MORGAN CHASE BANK NA GRA 2021 SUBAR CROSSTR...</td>\n",
       "      <td>P O BOX 901098 FORT WORTH TX 76101- 01 JF2GTAE...</td>\n",
       "      <td></td>\n",
       "      <td>JP MORGAN CHASE BANK NA</td>\n",
       "      <td>4</td>\n",
       "    </tr>\n",
       "    <tr>\n",
       "      <th>875</th>\n",
       "      <td>51072</td>\n",
       "      <td>LAMPLOUGH NICHOLAS J BRENNAN KRISTIN  YEL 1972...</td>\n",
       "      <td>TAXPAYER NAME 2ND NAME  D COL YEAR MAKE MODEL ...</td>\n",
       "      <td>ADDRESS CITY/ST/ZIP   CL IDENTIFICATION   WEIG...</td>\n",
       "      <td>LAMPLOUGH NICHOLAS J BRENNAN KRISTIN</td>\n",
       "      <td>4</td>\n",
       "    </tr>\n",
       "    <tr>\n",
       "      <th>1019</th>\n",
       "      <td>51294</td>\n",
       "      <td>MIDDENDORF RICHARD W ROSEN-MIDDENDORF NIKKI  T...</td>\n",
       "      <td>30 STUART RD E BRIDGEWATER CT 06752-1512  01 2...</td>\n",
       "      <td>MIHAYLO GEORGE  JR MIHAYLO ROSALIND  RED 2013 ...</td>\n",
       "      <td>MIDDENDORF RICHARD W ROSEN-MIDDENDORF NIKKI</td>\n",
       "      <td>4</td>\n",
       "    </tr>\n",
       "    <tr>\n",
       "      <th>1181</th>\n",
       "      <td>51484</td>\n",
       "      <td>RANNESTAD HAROLD RANNESTAD JOYCE E  WHI 2008 T...</td>\n",
       "      <td>PO BOX 446 BRIDGEWATER CT 06752-0446  01 4T1BE...</td>\n",
       "      <td></td>\n",
       "      <td>RANNESTAD HAROLD RANNESTAD JOYCE E</td>\n",
       "      <td>4</td>\n",
       "    </tr>\n",
       "    <tr>\n",
       "      <th>1182</th>\n",
       "      <td>51485</td>\n",
       "      <td>RANNESTAD JOYCE E RANNESTAD HAROLD  GRA 2015 S...</td>\n",
       "      <td>152 MAIN ST S BRIDGEWATER CT 06752-1518  01 4S...</td>\n",
       "      <td>READ CURTIS S JR  RED 2006 FORD F150 4 DOOR  2...</td>\n",
       "      <td>RANNESTAD JOYCE E RANNESTAD HAROLD</td>\n",
       "      <td>4</td>\n",
       "    </tr>\n",
       "    <tr>\n",
       "      <th>1249</th>\n",
       "      <td>51551</td>\n",
       "      <td>SARUBBI DONALD J SARUBBI MICHELLE  BLA 2014 CA...</td>\n",
       "      <td>58 HAMBROCK LN BRIDGEWATER CT 06752-1528  01 1...</td>\n",
       "      <td>SARUBBI MICHELLE  GRA 2011 KIA FORTE EX COUPE ...</td>\n",
       "      <td>SARUBBI DONALD J SARUBBI MICHELLE</td>\n",
       "      <td>4</td>\n",
       "    </tr>\n",
       "    <tr>\n",
       "      <th>1405</th>\n",
       "      <td>51737</td>\n",
       "      <td>STUART WILLIAM T SHALLOWBROOK FARM  WHI 2018 K...</td>\n",
       "      <td>1 CURTIS RD BRIDGEWATER CT 06752-1205  04 1K91...</td>\n",
       "      <td>STUART-BULLOCK DANA B  GRE 2019 SUBAR OUTBACK ...</td>\n",
       "      <td>STUART WILLIAM T SHALLOWBROOK FARM</td>\n",
       "      <td>4</td>\n",
       "    </tr>\n",
       "    <tr>\n",
       "      <th>1437</th>\n",
       "      <td>51789</td>\n",
       "      <td>THOMPSON LESLIE W AMOROSSI CHRISTINE  BLA 1964...</td>\n",
       "      <td>26 NEW MILFORD RD E BRIDGEWATER CT 06752-1137 ...</td>\n",
       "      <td>THOMPSON LESLIE W  BLA 2012 CARRY 6X86WZKP UTI...</td>\n",
       "      <td>THOMPSON LESLIE W AMOROSSI CHRISTINE</td>\n",
       "      <td>4</td>\n",
       "    </tr>\n",
       "    <tr>\n",
       "      <th>1476</th>\n",
       "      <td>51839</td>\n",
       "      <td>VALZANIA GEORGE VALZANIA BARBARA S  GRA 2018 H...</td>\n",
       "      <td>9 CAMBRIDGE CIR NEW MILFORD CT 06776-3921  01 ...</td>\n",
       "      <td>VANHEMERT DONALD  RED 1982 HOMEM CUSTOM TRAILE...</td>\n",
       "      <td>VALZANIA GEORGE VALZANIA BARBARA S</td>\n",
       "      <td>4</td>\n",
       "    </tr>\n",
       "    <tr>\n",
       "      <th>1584</th>\n",
       "      <td>51960</td>\n",
       "      <td>WISHMAN SEYMOUR A EVANS NANCY   BLA 2008 BMW 3...</td>\n",
       "      <td>66 SKYLINE RIDGE RD BRIDGEWATER CT 06752-1727 ...</td>\n",
       "      <td></td>\n",
       "      <td>WISHMAN SEYMOUR A EVANS NANCY</td>\n",
       "      <td>4</td>\n",
       "    </tr>\n",
       "  </tbody>\n",
       "</table>\n",
       "</div>"
      ],
      "text/plain": [
       "        UID                                                 l1  \\\n",
       "40    50041  ALLOW ME PROPERTY MGMT SE  WHI 2015 CHEVR SILV...   \n",
       "152   50176  BONOMO INGRID H HUBATA HENRIETTA  GRA 2012 TOY...   \n",
       "162   50202  BROWN COLIN N BROWN SHARON  BLA 2012 CHEVR SIL...   \n",
       "245   50315          CHARLES A GAAL CONSTRUCTION LLC             \n",
       "468   50599  ESPINOSA FERNANDO ESPINOSA REYNA A  GRA 2020  ...   \n",
       "469   52042  ESPINOSA FERNANDO ESPINOSA REYNA A  2020  SUBA...   \n",
       "519   50674  FRATTALONE ANN GIARRATANO DONALD J  RED 1950 W...   \n",
       "533   50688  GALHARDI-BARROSO GUILHERME ALVARENGA ISABELLA ...   \n",
       "561   50716  GIARRATANO DONALD J FRATTALONE ANN   RED 2006 ...   \n",
       "568   50723  GIUSTI ROBERT G GIUSTI GRACE   GRA 1999 PORSC ...   \n",
       "596   50751  BOX 302 BRIDGEWATER CT 06752-0302  01 JM1NA351...   \n",
       "599   50754  GOVERNALE JOSHUA L GOVERNALE ANNEMARIE  BLA 20...   \n",
       "600   50755  GOVERNALE JOSHUA L GOVERNALE ANNEMARIE  GRA 20...   \n",
       "629   50813  HAGER EDWARD HAGER BARBARA H   BLU 2009 TOYOT ...   \n",
       "709   50893  HOBBS KEVIN J HOBBS FRANZISKA   BLU 2016 VOLKS...   \n",
       "710   50894  HOBBS KEVIN J HOBBS FRANZISKA   GRA 2017 VOLKS...   \n",
       "740   50924  HRITZ ANNMARIE HRITZ KEVIN A BLA 2010 MERCE C3...   \n",
       "776   50974  JP MORGAN CHASE BANK NA WHI 2021 SUBAR LEGACY ...   \n",
       "777   50975  JP MORGAN CHASE BANK NA SIL 2018 SUBAR CROSSTR...   \n",
       "778   50976  JP MORGAN CHASE BANK NA RED 2019 MAZDA CX-5 TO...   \n",
       "779   50977  JP MORGAN CHASE BANK NA WHI 2019 SUBAR FORESTE...   \n",
       "780   50978  JP MORGAN CHASE BANK NA BLU 2020 LAND RANGE RO...   \n",
       "781   50979  JP MORGAN CHASE BANK NA BLA 2020 MAZDA CX-5 SP...   \n",
       "782   50980  JP MORGAN CHASE BANK NA SIL 2020 SUBAR IMPREZA...   \n",
       "783   50981  JP MORGAN CHASE BANK NA ORA 2020 SUBAR CROSSTR...   \n",
       "784   50982  JP MORGAN CHASE BANK NA BLA 2020 SUBAR OUTBACK...   \n",
       "785   50983  JP MORGAN CHASE BANK NA GRA 2021 SUBAR CROSSTR...   \n",
       "875   51072  LAMPLOUGH NICHOLAS J BRENNAN KRISTIN  YEL 1972...   \n",
       "1019  51294  MIDDENDORF RICHARD W ROSEN-MIDDENDORF NIKKI  T...   \n",
       "1181  51484  RANNESTAD HAROLD RANNESTAD JOYCE E  WHI 2008 T...   \n",
       "1182  51485  RANNESTAD JOYCE E RANNESTAD HAROLD  GRA 2015 S...   \n",
       "1249  51551  SARUBBI DONALD J SARUBBI MICHELLE  BLA 2014 CA...   \n",
       "1405  51737  STUART WILLIAM T SHALLOWBROOK FARM  WHI 2018 K...   \n",
       "1437  51789  THOMPSON LESLIE W AMOROSSI CHRISTINE  BLA 1964...   \n",
       "1476  51839  VALZANIA GEORGE VALZANIA BARBARA S  GRA 2018 H...   \n",
       "1584  51960  WISHMAN SEYMOUR A EVANS NANCY   BLA 2008 BMW 3...   \n",
       "\n",
       "                                                     l2  \\\n",
       "40    PO BOX 2332 NEW PRESTON CT 06777-0332  02 1GB3...   \n",
       "152   102 WEWAKA BROOK RD BRIDGEWATER CT 06752-1712 ...   \n",
       "162   24 SARAH SANFORD RD BRIDGEWATER CT 06752-  01 ...   \n",
       "245        WHI 2004 FORD ECONOLIN CARGO   7,000   5,370   \n",
       "468   64 TOWN LINE RD BRIDGEWATER CT 06752-1515  01 ...   \n",
       "469   64 TOWN LINE ROAD BRIDGEWATER CT 06752-  01  J...   \n",
       "519   15 BILBERRY RD BRIDGEWATER CT 06752-1302  25 6...   \n",
       "533   417 OLD TURNPIKE RD E BRIDGEWATER CT 06752-112...   \n",
       "561   33 MAIN ST N BRIDGEWATER CT 06752-1219   39 4X...   \n",
       "568   170 SKYLINE RIDGE RD BRIDGEWATER CT 06752-1729...   \n",
       "596       34 GARRITY LA BRIDGEWATER CT 06752-             \n",
       "599   100 OLD TOWN HWY BRIDGEWATER CT 06752-1119  01...   \n",
       "600   100 OLD TOWN HWY BRIDGEWATER CT 06752-1119  01...   \n",
       "629   212 MAIN ST N BRIDGEWATER CT 06752-1223   01 4...   \n",
       "709   138 MAIN ST S BRIDGEWATER CT 06752-1518   01 3...   \n",
       "710   138 MAIN ST S BRIDGEWATER CT 06752-1518   01 3...   \n",
       "740   PO BOX 12 GAYLORDSVILLE CT 06755-0012 01 WDDGF...   \n",
       "776   P O BOX 901098 FORT WORTH TX 76101- 01 4S3BWAC...   \n",
       "777   P O BOX 901098 FORT WORTH TX 76101- 01 JF2GTAB...   \n",
       "778   P O BOX 901098 FORT WORTH TX 76101- 01 JM3KFBC...   \n",
       "779   P O BOX 901098 FORT WORTH TX 76101- 01 JF2SKAG...   \n",
       "780   P O BOX 901098 FORT WORTH TX 76101- 01 SALWR2S...   \n",
       "781   P O BOX 901098 FORT WORTH TX 76101- 01 JM3KFBB...   \n",
       "782   P O BOX 901098 FORT WORTH TX 76101- 01 4S3GKAB...   \n",
       "783   P O BOX 901098 FORT WORTH TX 76101- 01 JF2GTAP...   \n",
       "784   P O BOX 901098 FORT WORTH TX 76101- 01 4S4BTAC...   \n",
       "785   P O BOX 901098 FORT WORTH TX 76101- 01 JF2GTAE...   \n",
       "875   TAXPAYER NAME 2ND NAME  D COL YEAR MAKE MODEL ...   \n",
       "1019  30 STUART RD E BRIDGEWATER CT 06752-1512  01 2...   \n",
       "1181  PO BOX 446 BRIDGEWATER CT 06752-0446  01 4T1BE...   \n",
       "1182  152 MAIN ST S BRIDGEWATER CT 06752-1518  01 4S...   \n",
       "1249  58 HAMBROCK LN BRIDGEWATER CT 06752-1528  01 1...   \n",
       "1405  1 CURTIS RD BRIDGEWATER CT 06752-1205  04 1K91...   \n",
       "1437  26 NEW MILFORD RD E BRIDGEWATER CT 06752-1137 ...   \n",
       "1476  9 CAMBRIDGE CIR NEW MILFORD CT 06776-3921  01 ...   \n",
       "1584  66 SKYLINE RIDGE RD BRIDGEWATER CT 06752-1727 ...   \n",
       "\n",
       "                                                     l3  \\\n",
       "40                                                        \n",
       "152   BORGEEST UWE F  GRA 2018 FORD EXPLORER SPORT  ...   \n",
       "162                                                       \n",
       "245   429 HUT HILL RD BRIDGEWATER CT 06752-   03 1FT...   \n",
       "468   ESPINOSA FERNANDO ESPINOSA REYNA A  2020  SUBA...   \n",
       "469   ESPINOSA FERNANDO  2013  VOLKS PASSAT S SEDAN ...   \n",
       "519   FREITAS ALEXANDRA W  WHI 2018 VOLVO XC60 T6 WA...   \n",
       "533   GALLAGHER JO A  BLA 2014 HONDA CR-V LX WAGON  ...   \n",
       "561   GILMORE LOIS S   SIL 2017 JEEP GRAND CH SPORT ...   \n",
       "568                                                       \n",
       "596   GORDON GARY W  TAN 2015 JEEP CHEROKEE WAGON  1...   \n",
       "599   GOVERNALE JOSHUA L GOVERNALE ANNEMARIE  GRA 20...   \n",
       "600   GOWISNOCK BARBARA A  BLA 2017 MERCE GL550 4 SP...   \n",
       "629   HANLON JEAN D   SIL 2018 SUBAR CROSSTRE WAGON ...   \n",
       "709   HOBBS KEVIN J HOBBS FRANZISKA   GRA 2017 VOLKS...   \n",
       "710   HOCHSTETTER FRANCIS G   TAN 2007 TOYOT HIGHLAN...   \n",
       "740                                                       \n",
       "776                                                       \n",
       "777                                                       \n",
       "778                                                       \n",
       "779                                                       \n",
       "780                                                       \n",
       "781                                                       \n",
       "782                                                       \n",
       "783                                                       \n",
       "784                                                       \n",
       "785                                                       \n",
       "875   ADDRESS CITY/ST/ZIP   CL IDENTIFICATION   WEIG...   \n",
       "1019  MIHAYLO GEORGE  JR MIHAYLO ROSALIND  RED 2013 ...   \n",
       "1181                                                      \n",
       "1182  READ CURTIS S JR  RED 2006 FORD F150 4 DOOR  2...   \n",
       "1249  SARUBBI MICHELLE  GRA 2011 KIA FORTE EX COUPE ...   \n",
       "1405  STUART-BULLOCK DANA B  GRE 2019 SUBAR OUTBACK ...   \n",
       "1437  THOMPSON LESLIE W  BLA 2012 CARRY 6X86WZKP UTI...   \n",
       "1476  VANHEMERT DONALD  RED 1982 HOMEM CUSTOM TRAILE...   \n",
       "1584                                                      \n",
       "\n",
       "                                                 Name  space_in_name  \n",
       "40                          ALLOW ME PROPERTY MGMT SE              4  \n",
       "152                  BONOMO INGRID H HUBATA HENRIETTA              4  \n",
       "162                        BROWN COLIN N BROWN SHARON              4  \n",
       "245                   CHARLES A GAAL CONSTRUCTION LLC              4  \n",
       "468                ESPINOSA FERNANDO ESPINOSA REYNA A              4  \n",
       "469                ESPINOSA FERNANDO ESPINOSA REYNA A              4  \n",
       "519                FRATTALONE ANN GIARRATANO DONALD J              4  \n",
       "533   GALHARDI-BARROSO GUILHERME ALVARENGA ISABELLA L              4  \n",
       "561                GIARRATANO DONALD J FRATTALONE ANN              4  \n",
       "568                      GIUSTI ROBERT G GIUSTI GRACE              4  \n",
       "596                 BOX 302 BRIDGEWATER CT 06752-0302              4  \n",
       "599            GOVERNALE JOSHUA L GOVERNALE ANNEMARIE              4  \n",
       "600            GOVERNALE JOSHUA L GOVERNALE ANNEMARIE              4  \n",
       "629                      HAGER EDWARD HAGER BARBARA H              4  \n",
       "709                     HOBBS KEVIN J HOBBS FRANZISKA              4  \n",
       "710                     HOBBS KEVIN J HOBBS FRANZISKA              4  \n",
       "740                      HRITZ ANNMARIE HRITZ KEVIN A              4  \n",
       "776                           JP MORGAN CHASE BANK NA              4  \n",
       "777                           JP MORGAN CHASE BANK NA              4  \n",
       "778                           JP MORGAN CHASE BANK NA              4  \n",
       "779                           JP MORGAN CHASE BANK NA              4  \n",
       "780                           JP MORGAN CHASE BANK NA              4  \n",
       "781                           JP MORGAN CHASE BANK NA              4  \n",
       "782                           JP MORGAN CHASE BANK NA              4  \n",
       "783                           JP MORGAN CHASE BANK NA              4  \n",
       "784                           JP MORGAN CHASE BANK NA              4  \n",
       "785                           JP MORGAN CHASE BANK NA              4  \n",
       "875              LAMPLOUGH NICHOLAS J BRENNAN KRISTIN              4  \n",
       "1019      MIDDENDORF RICHARD W ROSEN-MIDDENDORF NIKKI              4  \n",
       "1181               RANNESTAD HAROLD RANNESTAD JOYCE E              4  \n",
       "1182               RANNESTAD JOYCE E RANNESTAD HAROLD              4  \n",
       "1249                SARUBBI DONALD J SARUBBI MICHELLE              4  \n",
       "1405               STUART WILLIAM T SHALLOWBROOK FARM              4  \n",
       "1437             THOMPSON LESLIE W AMOROSSI CHRISTINE              4  \n",
       "1476               VALZANIA GEORGE VALZANIA BARBARA S              4  \n",
       "1584                    WISHMAN SEYMOUR A EVANS NANCY              4  "
      ]
     },
     "execution_count": 142,
     "metadata": {},
     "output_type": "execute_result"
    }
   ],
   "source": [
    "df_treated[df_treated.space_in_name == 4]"
   ]
  },
  {
   "cell_type": "code",
   "execution_count": null,
   "metadata": {},
   "outputs": [],
   "source": []
  },
  {
   "cell_type": "code",
   "execution_count": null,
   "metadata": {},
   "outputs": [],
   "source": []
  },
  {
   "cell_type": "code",
   "execution_count": null,
   "metadata": {},
   "outputs": [],
   "source": []
  },
  {
   "cell_type": "code",
   "execution_count": null,
   "metadata": {},
   "outputs": [],
   "source": []
  },
  {
   "cell_type": "code",
   "execution_count": null,
   "metadata": {},
   "outputs": [],
   "source": []
  },
  {
   "cell_type": "code",
   "execution_count": null,
   "metadata": {},
   "outputs": [],
   "source": []
  },
  {
   "cell_type": "code",
   "execution_count": null,
   "metadata": {},
   "outputs": [],
   "source": []
  },
  {
   "cell_type": "code",
   "execution_count": null,
   "metadata": {},
   "outputs": [],
   "source": []
  },
  {
   "cell_type": "code",
   "execution_count": null,
   "metadata": {},
   "outputs": [],
   "source": []
  },
  {
   "cell_type": "code",
   "execution_count": null,
   "metadata": {},
   "outputs": [],
   "source": []
  },
  {
   "cell_type": "code",
   "execution_count": null,
   "metadata": {},
   "outputs": [],
   "source": []
  },
  {
   "cell_type": "markdown",
   "metadata": {},
   "source": [
    "# 2022.12.13 -- 141_Thompson_MV_21.xlsx"
   ]
  },
  {
   "cell_type": "code",
   "execution_count": 15,
   "metadata": {},
   "outputs": [],
   "source": [
    "f = '141_Thompson_MV_21.xlsx'\n",
    "df = pd.read_excel(path + f)"
   ]
  },
  {
   "cell_type": "code",
   "execution_count": 16,
   "metadata": {},
   "outputs": [
    {
     "data": {
      "text/html": [
       "<div>\n",
       "<style scoped>\n",
       "    .dataframe tbody tr th:only-of-type {\n",
       "        vertical-align: middle;\n",
       "    }\n",
       "\n",
       "    .dataframe tbody tr th {\n",
       "        vertical-align: top;\n",
       "    }\n",
       "\n",
       "    .dataframe thead th {\n",
       "        text-align: right;\n",
       "    }\n",
       "</style>\n",
       "<table border=\"1\" class=\"dataframe\">\n",
       "  <thead>\n",
       "    <tr style=\"text-align: right;\">\n",
       "      <th></th>\n",
       "      <th>id</th>\n",
       "      <th>taxpayer_name</th>\n",
       "      <th>2nd_name</th>\n",
       "      <th>vin</th>\n",
       "      <th>mail_address</th>\n",
       "    </tr>\n",
       "  </thead>\n",
       "  <tbody>\n",
       "    <tr>\n",
       "      <th>0</th>\n",
       "      <td>50001</td>\n",
       "      <td>A J MANUFACTURING LLC</td>\n",
       "      <td>NaN</td>\n",
       "      <td>5J8TC2H76ML031311</td>\n",
       "      <td>PO BOX 435 THOMPSON CT 06277-0435</td>\n",
       "    </tr>\n",
       "    <tr>\n",
       "      <th>1</th>\n",
       "      <td>50002</td>\n",
       "      <td>A J MANUFACTURING LLC</td>\n",
       "      <td>BELLAVANCE PAMELA M</td>\n",
       "      <td>5NMS3CAA6LH159246</td>\n",
       "      <td>PO BOX 435 THOMPSON CT 06277-0435</td>\n",
       "    </tr>\n",
       "    <tr>\n",
       "      <th>2</th>\n",
       "      <td>50003</td>\n",
       "      <td>A J MANUFACTURING LLC</td>\n",
       "      <td>NaN</td>\n",
       "      <td>1FTNF21548ED70960</td>\n",
       "      <td>PO BOX 435 THOMPSON CT 06277-0435</td>\n",
       "    </tr>\n",
       "    <tr>\n",
       "      <th>3</th>\n",
       "      <td>50004</td>\n",
       "      <td>A J MANUFACTURING LLC</td>\n",
       "      <td>NaN</td>\n",
       "      <td>1TTEL718974010348</td>\n",
       "      <td>PO BOX 435 THOMPSON CT 06277-0435</td>\n",
       "    </tr>\n",
       "    <tr>\n",
       "      <th>4</th>\n",
       "      <td>50005</td>\n",
       "      <td>ABBAMONTE PATRICIA L</td>\n",
       "      <td>NaN</td>\n",
       "      <td>JTMRFREV3FD155271</td>\n",
       "      <td>9A MASON TERRACE GROSVENORDALE CT 06246-</td>\n",
       "    </tr>\n",
       "  </tbody>\n",
       "</table>\n",
       "</div>"
      ],
      "text/plain": [
       "      id          taxpayer_name                     2nd_name  \\\n",
       "0  50001  A J MANUFACTURING LLC                          NaN   \n",
       "1  50002  A J MANUFACTURING LLC  BELLAVANCE PAMELA M           \n",
       "2  50003  A J MANUFACTURING LLC                          NaN   \n",
       "3  50004  A J MANUFACTURING LLC                          NaN   \n",
       "4  50005   ABBAMONTE PATRICIA L                          NaN   \n",
       "\n",
       "                 vin                              mail_address  \n",
       "0  5J8TC2H76ML031311         PO BOX 435 THOMPSON CT 06277-0435  \n",
       "1  5NMS3CAA6LH159246         PO BOX 435 THOMPSON CT 06277-0435  \n",
       "2  1FTNF21548ED70960         PO BOX 435 THOMPSON CT 06277-0435  \n",
       "3  1TTEL718974010348         PO BOX 435 THOMPSON CT 06277-0435  \n",
       "4  JTMRFREV3FD155271  9A MASON TERRACE GROSVENORDALE CT 06246-  "
      ]
     },
     "execution_count": 16,
     "metadata": {},
     "output_type": "execute_result"
    }
   ],
   "source": [
    "df.head()"
   ]
  },
  {
   "cell_type": "code",
   "execution_count": 17,
   "metadata": {},
   "outputs": [],
   "source": [
    "def extract_zip(s):\n",
    "    return str(int(s[s.find('-') - 5: s.find('-')])).zfill(5)\n",
    "\n",
    "def extract_state(s):\n",
    "    zip = extract_zip(s)\n",
    "    return s[s.find(zip) - 3: s.find(zip) - 1]\n",
    "\n",
    "def extract_address(s):\n",
    "    st = extract_state(s)\n",
    "    return s[:s.find(st) - 1]\n",
    "\n",
    "df['zip'] = df.mail_address.map(extract_zip)\n",
    "df['state'] = df.mail_address.map(extract_state)\n",
    "df['street'] = df.mail_address.map(extract_address)"
   ]
  },
  {
   "cell_type": "code",
   "execution_count": 18,
   "metadata": {},
   "outputs": [],
   "source": [
    "df = df.drop(columns=['mail_address'])\n",
    "df.to_excel(sav_path + f)"
   ]
  },
  {
   "cell_type": "markdown",
   "metadata": {},
   "source": [
    "# 2022.10.14 -- 131_Southington_MV_21.xlsx"
   ]
  },
  {
   "cell_type": "code",
   "execution_count": 38,
   "metadata": {},
   "outputs": [],
   "source": [
    "f = '131_Southington_MV_21.xlsx'\n",
    "df = pd.read_excel(path + f)\n",
    "df = df.replace(np.nan, '')"
   ]
  },
  {
   "cell_type": "code",
   "execution_count": 41,
   "metadata": {},
   "outputs": [],
   "source": [
    "df['City'] = df['Town/State/Zip'].apply(lambda x: x[:x.find(',')])\n",
    "df['State'] = df['Town/State/Zip'].apply(lambda x: x[x.find(',')+2:x.find(',')+4])\n",
    "df['Zip'] = df['Town/State/Zip'].apply(lambda x: x[x.find(',')+5:x.find(',')+10])"
   ]
  },
  {
   "cell_type": "code",
   "execution_count": 42,
   "metadata": {},
   "outputs": [
    {
     "data": {
      "text/html": [
       "<div>\n",
       "<style scoped>\n",
       "    .dataframe tbody tr th:only-of-type {\n",
       "        vertical-align: middle;\n",
       "    }\n",
       "\n",
       "    .dataframe tbody tr th {\n",
       "        vertical-align: top;\n",
       "    }\n",
       "\n",
       "    .dataframe thead th {\n",
       "        text-align: right;\n",
       "    }\n",
       "</style>\n",
       "<table border=\"1\" class=\"dataframe\">\n",
       "  <thead>\n",
       "    <tr style=\"text-align: right;\">\n",
       "      <th></th>\n",
       "      <th>Name</th>\n",
       "      <th>Street Address</th>\n",
       "      <th>Town/State/Zip</th>\n",
       "      <th>Class</th>\n",
       "      <th>Year</th>\n",
       "      <th>Make</th>\n",
       "      <th>Model</th>\n",
       "      <th>Body</th>\n",
       "      <th>VIN</th>\n",
       "      <th>City</th>\n",
       "      <th>State</th>\n",
       "      <th>Zip</th>\n",
       "    </tr>\n",
       "  </thead>\n",
       "  <tbody>\n",
       "    <tr>\n",
       "      <th>33408</th>\n",
       "      <td>ROVILLO PHILIP JOHN</td>\n",
       "      <td>32 WEST CENTER ST</td>\n",
       "      <td></td>\n",
       "      <td>12</td>\n",
       "      <td>2002</td>\n",
       "      <td>MOTO</td>\n",
       "      <td>CALIFORN</td>\n",
       "      <td>MOTORC</td>\n",
       "      <td>ZGUKDBKD02M154290</td>\n",
       "      <td></td>\n",
       "      <td></td>\n",
       "      <td></td>\n",
       "    </tr>\n",
       "    <tr>\n",
       "      <th>34119</th>\n",
       "      <td>SANTIAGO DYANA</td>\n",
       "      <td>31 DARLING STREET</td>\n",
       "      <td></td>\n",
       "      <td>1</td>\n",
       "      <td>2009</td>\n",
       "      <td>MERCU</td>\n",
       "      <td>MARINER</td>\n",
       "      <td>WAGON4</td>\n",
       "      <td>4M2CU81749KJ03526</td>\n",
       "      <td></td>\n",
       "      <td></td>\n",
       "      <td></td>\n",
       "    </tr>\n",
       "  </tbody>\n",
       "</table>\n",
       "</div>"
      ],
      "text/plain": [
       "                      Name     Street Address Town/State/Zip  Class  Year  \\\n",
       "33408  ROVILLO PHILIP JOHN  32 WEST CENTER ST                    12  2002   \n",
       "34119       SANTIAGO DYANA  31 DARLING STREET                     1  2009   \n",
       "\n",
       "        Make     Model    Body                VIN City State Zip  \n",
       "33408   MOTO  CALIFORN  MOTORC  ZGUKDBKD02M154290                 \n",
       "34119  MERCU   MARINER  WAGON4  4M2CU81749KJ03526                 "
      ]
     },
     "execution_count": 42,
     "metadata": {},
     "output_type": "execute_result"
    }
   ],
   "source": [
    "df[df.Zip == '']"
   ]
  },
  {
   "cell_type": "code",
   "execution_count": 43,
   "metadata": {},
   "outputs": [
    {
     "data": {
      "text/plain": [
       "array(['06489', '06032', '06479', ..., '06849', 'SKYVI', ' MER '],\n",
       "      dtype=object)"
      ]
     },
     "execution_count": 43,
     "metadata": {},
     "output_type": "execute_result"
    }
   ],
   "source": [
    "df.Zip.unique()"
   ]
  },
  {
   "cell_type": "code",
   "execution_count": 48,
   "metadata": {},
   "outputs": [
    {
     "data": {
      "text/html": [
       "<div>\n",
       "<style scoped>\n",
       "    .dataframe tbody tr th:only-of-type {\n",
       "        vertical-align: middle;\n",
       "    }\n",
       "\n",
       "    .dataframe tbody tr th {\n",
       "        vertical-align: top;\n",
       "    }\n",
       "\n",
       "    .dataframe thead th {\n",
       "        text-align: right;\n",
       "    }\n",
       "</style>\n",
       "<table border=\"1\" class=\"dataframe\">\n",
       "  <thead>\n",
       "    <tr style=\"text-align: right;\">\n",
       "      <th></th>\n",
       "      <th>Name</th>\n",
       "      <th>Street Address</th>\n",
       "      <th>Town/State/Zip</th>\n",
       "      <th>Class</th>\n",
       "      <th>Year</th>\n",
       "      <th>Make</th>\n",
       "      <th>Model</th>\n",
       "      <th>Body</th>\n",
       "      <th>VIN</th>\n",
       "      <th>City</th>\n",
       "      <th>State</th>\n",
       "      <th>Zip</th>\n",
       "    </tr>\n",
       "  </thead>\n",
       "  <tbody>\n",
       "    <tr>\n",
       "      <th>79</th>\n",
       "      <td>A. FIORILLO &amp; CO. LLC</td>\n",
       "      <td>PO BOX 500</td>\n",
       "      <td>396 CLARK STREET</td>\n",
       "      <td>1</td>\n",
       "      <td>2016</td>\n",
       "      <td>CHEVR</td>\n",
       "      <td>EQUINOX</td>\n",
       "      <td>WAGON4</td>\n",
       "      <td>2GNFLEEKXG6207450</td>\n",
       "      <td>396 CLARK STREE</td>\n",
       "      <td>96</td>\n",
       "      <td>CLARK</td>\n",
       "    </tr>\n",
       "    <tr>\n",
       "      <th>95</th>\n",
       "      <td>AARON ROBERT J</td>\n",
       "      <td>AARON JODI ANN</td>\n",
       "      <td>107 MARCY DR</td>\n",
       "      <td>1</td>\n",
       "      <td>2015</td>\n",
       "      <td>HONDA</td>\n",
       "      <td>PILOT EX</td>\n",
       "      <td>WAGON4</td>\n",
       "      <td>5FNYF4H52FB066312</td>\n",
       "      <td>107 MARCY D</td>\n",
       "      <td>07</td>\n",
       "      <td>MARCY</td>\n",
       "    </tr>\n",
       "    <tr>\n",
       "      <th>96</th>\n",
       "      <td>AARON ROBERT J</td>\n",
       "      <td>AARON JODI ANN</td>\n",
       "      <td>107 MARCY DR</td>\n",
       "      <td>1</td>\n",
       "      <td>2017</td>\n",
       "      <td>HONDA</td>\n",
       "      <td>PILOT EX</td>\n",
       "      <td>WAGON4</td>\n",
       "      <td>5FNYF6H57HB023907</td>\n",
       "      <td>107 MARCY D</td>\n",
       "      <td>07</td>\n",
       "      <td>MARCY</td>\n",
       "    </tr>\n",
       "    <tr>\n",
       "      <th>99</th>\n",
       "      <td>ABASTILLAS RENATO S JR</td>\n",
       "      <td>ABASTILLAS ANNALIZA</td>\n",
       "      <td>174 ROCHELA DR</td>\n",
       "      <td>1</td>\n",
       "      <td>2018</td>\n",
       "      <td>TOYOT</td>\n",
       "      <td>SIENNA X</td>\n",
       "      <td>VAN</td>\n",
       "      <td>5TDDZ3DC8JS199682</td>\n",
       "      <td>174 ROCHELA D</td>\n",
       "      <td>74</td>\n",
       "      <td>ROCHE</td>\n",
       "    </tr>\n",
       "    <tr>\n",
       "      <th>114</th>\n",
       "      <td>ABBATIELLO SALVATORE J</td>\n",
       "      <td>ABBATIELLO MADELEINE</td>\n",
       "      <td>381 MULBERRY ST</td>\n",
       "      <td>1</td>\n",
       "      <td>2011</td>\n",
       "      <td>CHEVR</td>\n",
       "      <td>EQUINOX</td>\n",
       "      <td>WAGON4</td>\n",
       "      <td>2CNFLNE51B6414400</td>\n",
       "      <td>381 MULBERRY S</td>\n",
       "      <td>81</td>\n",
       "      <td>MULBE</td>\n",
       "    </tr>\n",
       "    <tr>\n",
       "      <th>...</th>\n",
       "      <td>...</td>\n",
       "      <td>...</td>\n",
       "      <td>...</td>\n",
       "      <td>...</td>\n",
       "      <td>...</td>\n",
       "      <td>...</td>\n",
       "      <td>...</td>\n",
       "      <td>...</td>\n",
       "      <td>...</td>\n",
       "      <td>...</td>\n",
       "      <td>...</td>\n",
       "      <td>...</td>\n",
       "    </tr>\n",
       "    <tr>\n",
       "      <th>42976</th>\n",
       "      <td>ZYSK ANDREW S</td>\n",
       "      <td>ZYSK CHRISTINE A</td>\n",
       "      <td>76 HOMESDALE AVE</td>\n",
       "      <td>1</td>\n",
       "      <td>2019</td>\n",
       "      <td>TOYOT</td>\n",
       "      <td>TACOMA D</td>\n",
       "      <td>PICKUP</td>\n",
       "      <td>3TMCZ5AN6KM242060</td>\n",
       "      <td>76 HOMESDALE AV</td>\n",
       "      <td>6</td>\n",
       "      <td>OMESD</td>\n",
       "    </tr>\n",
       "    <tr>\n",
       "      <th>42977</th>\n",
       "      <td>ZYSK CHRISTINE A</td>\n",
       "      <td>ZYSK ANDREW S</td>\n",
       "      <td>76 HOMESDALE AVE</td>\n",
       "      <td>1</td>\n",
       "      <td>2011</td>\n",
       "      <td>NISSA</td>\n",
       "      <td>ALTIMA S</td>\n",
       "      <td>SEDAN4</td>\n",
       "      <td>1N4BL2AP5BN490213</td>\n",
       "      <td>76 HOMESDALE AV</td>\n",
       "      <td>6</td>\n",
       "      <td>OMESD</td>\n",
       "    </tr>\n",
       "    <tr>\n",
       "      <th>42983</th>\n",
       "      <td>ZYSK LESZEK M</td>\n",
       "      <td>ZYSK RENATA</td>\n",
       "      <td>77 SUNNYSLOPE DR</td>\n",
       "      <td>1</td>\n",
       "      <td>2012</td>\n",
       "      <td>MERCE</td>\n",
       "      <td>ML350</td>\n",
       "      <td>WAGON4</td>\n",
       "      <td>4JGDA5HB0CA062719</td>\n",
       "      <td>77 SUNNYSLOPE D</td>\n",
       "      <td>7</td>\n",
       "      <td>UNNYS</td>\n",
       "    </tr>\n",
       "    <tr>\n",
       "      <th>42984</th>\n",
       "      <td>ZYSK LESZEK M</td>\n",
       "      <td>ZYSK RENATA</td>\n",
       "      <td>77 SUNNYSLOPE DR</td>\n",
       "      <td>1</td>\n",
       "      <td>2012</td>\n",
       "      <td>TOYOT</td>\n",
       "      <td>HIGHLAND</td>\n",
       "      <td>WAGON4</td>\n",
       "      <td>5TDDK3EH4CS140176</td>\n",
       "      <td>77 SUNNYSLOPE D</td>\n",
       "      <td>7</td>\n",
       "      <td>UNNYS</td>\n",
       "    </tr>\n",
       "    <tr>\n",
       "      <th>42987</th>\n",
       "      <td>ZYSK LESZEK M</td>\n",
       "      <td>ZYSK RENATA</td>\n",
       "      <td>77 SUNNYSLOPE DR</td>\n",
       "      <td>1</td>\n",
       "      <td>2010</td>\n",
       "      <td>TOYOT</td>\n",
       "      <td>SIENNA</td>\n",
       "      <td>SPORTV</td>\n",
       "      <td>5TDDK4CC2AS032360</td>\n",
       "      <td>77 SUNNYSLOPE D</td>\n",
       "      <td>7</td>\n",
       "      <td>UNNYS</td>\n",
       "    </tr>\n",
       "  </tbody>\n",
       "</table>\n",
       "<p>10089 rows × 12 columns</p>\n",
       "</div>"
      ],
      "text/plain": [
       "                         Name        Street Address    Town/State/Zip  Class  \\\n",
       "79      A. FIORILLO & CO. LLC            PO BOX 500  396 CLARK STREET      1   \n",
       "95             AARON ROBERT J        AARON JODI ANN      107 MARCY DR      1   \n",
       "96             AARON ROBERT J        AARON JODI ANN      107 MARCY DR      1   \n",
       "99     ABASTILLAS RENATO S JR   ABASTILLAS ANNALIZA    174 ROCHELA DR      1   \n",
       "114    ABBATIELLO SALVATORE J  ABBATIELLO MADELEINE   381 MULBERRY ST      1   \n",
       "...                       ...                   ...               ...    ...   \n",
       "42976           ZYSK ANDREW S      ZYSK CHRISTINE A  76 HOMESDALE AVE      1   \n",
       "42977        ZYSK CHRISTINE A         ZYSK ANDREW S  76 HOMESDALE AVE      1   \n",
       "42983           ZYSK LESZEK M           ZYSK RENATA  77 SUNNYSLOPE DR      1   \n",
       "42984           ZYSK LESZEK M           ZYSK RENATA  77 SUNNYSLOPE DR      1   \n",
       "42987           ZYSK LESZEK M           ZYSK RENATA  77 SUNNYSLOPE DR      1   \n",
       "\n",
       "       Year   Make     Model    Body                VIN             City  \\\n",
       "79     2016  CHEVR   EQUINOX  WAGON4  2GNFLEEKXG6207450  396 CLARK STREE   \n",
       "95     2015  HONDA  PILOT EX  WAGON4  5FNYF4H52FB066312      107 MARCY D   \n",
       "96     2017  HONDA  PILOT EX  WAGON4  5FNYF6H57HB023907      107 MARCY D   \n",
       "99     2018  TOYOT  SIENNA X     VAN  5TDDZ3DC8JS199682    174 ROCHELA D   \n",
       "114    2011  CHEVR   EQUINOX  WAGON4  2CNFLNE51B6414400   381 MULBERRY S   \n",
       "...     ...    ...       ...     ...                ...              ...   \n",
       "42976  2019  TOYOT  TACOMA D  PICKUP  3TMCZ5AN6KM242060  76 HOMESDALE AV   \n",
       "42977  2011  NISSA  ALTIMA S  SEDAN4  1N4BL2AP5BN490213  76 HOMESDALE AV   \n",
       "42983  2012  MERCE     ML350  WAGON4  4JGDA5HB0CA062719  77 SUNNYSLOPE D   \n",
       "42984  2012  TOYOT  HIGHLAND  WAGON4  5TDDK3EH4CS140176  77 SUNNYSLOPE D   \n",
       "42987  2010  TOYOT    SIENNA  SPORTV  5TDDK4CC2AS032360  77 SUNNYSLOPE D   \n",
       "\n",
       "      State    Zip  \n",
       "79       96  CLARK  \n",
       "95       07  MARCY  \n",
       "96       07  MARCY  \n",
       "99       74  ROCHE  \n",
       "114      81  MULBE  \n",
       "...     ...    ...  \n",
       "42976    6   OMESD  \n",
       "42977    6   OMESD  \n",
       "42983    7   UNNYS  \n",
       "42984    7   UNNYS  \n",
       "42987    7   UNNYS  \n",
       "\n",
       "[10089 rows x 12 columns]"
      ]
     },
     "execution_count": 48,
     "metadata": {},
     "output_type": "execute_result"
    }
   ],
   "source": [
    "df[df.Zip.str.isnumeric() != True]"
   ]
  },
  {
   "cell_type": "code",
   "execution_count": 53,
   "metadata": {},
   "outputs": [],
   "source": [
    "def replace_address(line):\n",
    "    if line['Zip'].isnumeric():\n",
    "        return line['Street Address']\n",
    "    else:\n",
    "        return line['Town/State/Zip']\n",
    "\n",
    "df['Street Address'] = df.apply(replace_address, axis=1)"
   ]
  },
  {
   "cell_type": "code",
   "execution_count": 60,
   "metadata": {},
   "outputs": [],
   "source": [
    "df.loc[df['Street Address'] == df['Town/State/Zip'], 'City'] = ''\n",
    "df.loc[df['Street Address'] == df['Town/State/Zip'], 'State'] = ''\n",
    "df.loc[df['Street Address'] == df['Town/State/Zip'], 'Zip'] = ''\n",
    "df.loc[df['Street Address'] == df['Town/State/Zip'], 'Town/State/Zip'] = ''"
   ]
  },
  {
   "cell_type": "code",
   "execution_count": 61,
   "metadata": {},
   "outputs": [
    {
     "data": {
      "text/html": [
       "<div>\n",
       "<style scoped>\n",
       "    .dataframe tbody tr th:only-of-type {\n",
       "        vertical-align: middle;\n",
       "    }\n",
       "\n",
       "    .dataframe tbody tr th {\n",
       "        vertical-align: top;\n",
       "    }\n",
       "\n",
       "    .dataframe thead th {\n",
       "        text-align: right;\n",
       "    }\n",
       "</style>\n",
       "<table border=\"1\" class=\"dataframe\">\n",
       "  <thead>\n",
       "    <tr style=\"text-align: right;\">\n",
       "      <th></th>\n",
       "      <th>Name</th>\n",
       "      <th>Street Address</th>\n",
       "      <th>Town/State/Zip</th>\n",
       "      <th>Class</th>\n",
       "      <th>Year</th>\n",
       "      <th>Make</th>\n",
       "      <th>Model</th>\n",
       "      <th>Body</th>\n",
       "      <th>VIN</th>\n",
       "      <th>City</th>\n",
       "      <th>State</th>\n",
       "      <th>Zip</th>\n",
       "    </tr>\n",
       "  </thead>\n",
       "  <tbody>\n",
       "    <tr>\n",
       "      <th>0</th>\n",
       "      <td>18FORE18 INC</td>\n",
       "      <td>201 PATTONWOOD DR</td>\n",
       "      <td>SOUTHINGTON, CT 06489-1632</td>\n",
       "      <td>11</td>\n",
       "      <td>2002</td>\n",
       "      <td>USCAR</td>\n",
       "      <td>USCL58SA</td>\n",
       "      <td>TRAILE</td>\n",
       "      <td>4X4TSE0112X053369</td>\n",
       "      <td>SOUTHINGTON</td>\n",
       "      <td>CT</td>\n",
       "      <td>06489</td>\n",
       "    </tr>\n",
       "    <tr>\n",
       "      <th>1</th>\n",
       "      <td>3 BROTHERS PROPERTY PRESERVATION SE</td>\n",
       "      <td>461C COOKE ST</td>\n",
       "      <td>FARMINGTON, CT 06032</td>\n",
       "      <td>3</td>\n",
       "      <td>2013</td>\n",
       "      <td>FORD</td>\n",
       "      <td>F350 SUP</td>\n",
       "      <td>PICKUP</td>\n",
       "      <td>1FTRF3B68DEA53496</td>\n",
       "      <td>FARMINGTON</td>\n",
       "      <td>CT</td>\n",
       "      <td>06032</td>\n",
       "    </tr>\n",
       "    <tr>\n",
       "      <th>2</th>\n",
       "      <td>A &amp; A SURPLUS INC.</td>\n",
       "      <td>389 MARION AVE</td>\n",
       "      <td>PLANTSVILLE, CT 06479</td>\n",
       "      <td>3</td>\n",
       "      <td>2008</td>\n",
       "      <td>TOYOT</td>\n",
       "      <td>TUNDRA D</td>\n",
       "      <td>CREWPI</td>\n",
       "      <td>5TBBV54198S491700</td>\n",
       "      <td>PLANTSVILLE</td>\n",
       "      <td>CT</td>\n",
       "      <td>06479</td>\n",
       "    </tr>\n",
       "    <tr>\n",
       "      <th>3</th>\n",
       "      <td>A &amp; A SURPLUS INC.</td>\n",
       "      <td>389 MARION AVE</td>\n",
       "      <td>PLANTSVILLE, CT 06479</td>\n",
       "      <td>2</td>\n",
       "      <td>2012</td>\n",
       "      <td>FREIG</td>\n",
       "      <td>M2 106 M</td>\n",
       "      <td>FLAT-B</td>\n",
       "      <td>1FVACXDT5CHBV1762</td>\n",
       "      <td>PLANTSVILLE</td>\n",
       "      <td>CT</td>\n",
       "      <td>06479</td>\n",
       "    </tr>\n",
       "    <tr>\n",
       "      <th>4</th>\n",
       "      <td>A AND A SURPLUS INC</td>\n",
       "      <td>389 MARION AVE</td>\n",
       "      <td>PLANTSVILLE, CT 06479-1403</td>\n",
       "      <td>2</td>\n",
       "      <td>1999</td>\n",
       "      <td>INTER</td>\n",
       "      <td>4000 SER</td>\n",
       "      <td>CONVEN</td>\n",
       "      <td>1HTSCAAM3XH688887</td>\n",
       "      <td>PLANTSVILLE</td>\n",
       "      <td>CT</td>\n",
       "      <td>06479</td>\n",
       "    </tr>\n",
       "    <tr>\n",
       "      <th>...</th>\n",
       "      <td>...</td>\n",
       "      <td>...</td>\n",
       "      <td>...</td>\n",
       "      <td>...</td>\n",
       "      <td>...</td>\n",
       "      <td>...</td>\n",
       "      <td>...</td>\n",
       "      <td>...</td>\n",
       "      <td>...</td>\n",
       "      <td>...</td>\n",
       "      <td>...</td>\n",
       "      <td>...</td>\n",
       "    </tr>\n",
       "    <tr>\n",
       "      <th>42991</th>\n",
       "      <td>ZZIP ELECTRIC INC</td>\n",
       "      <td>350 DUNHAM ST</td>\n",
       "      <td>SOUTHINGTON, CT 06489-1215</td>\n",
       "      <td>10</td>\n",
       "      <td>2014</td>\n",
       "      <td>BELMO</td>\n",
       "      <td>SSTD2214</td>\n",
       "      <td>TRAILE</td>\n",
       "      <td>1B9TD2225EL657496</td>\n",
       "      <td>SOUTHINGTON</td>\n",
       "      <td>CT</td>\n",
       "      <td>06489</td>\n",
       "    </tr>\n",
       "    <tr>\n",
       "      <th>42992</th>\n",
       "      <td>ZZIP ELECTRIC INC</td>\n",
       "      <td>350 DUNHAM STREET</td>\n",
       "      <td>SOUTHINGTON, CT 06489</td>\n",
       "      <td>2</td>\n",
       "      <td>1997</td>\n",
       "      <td>CHEVR</td>\n",
       "      <td>G3500</td>\n",
       "      <td>CUTAWA</td>\n",
       "      <td>1GBHG31R6V1003858</td>\n",
       "      <td>SOUTHINGTON</td>\n",
       "      <td>CT</td>\n",
       "      <td>06489</td>\n",
       "    </tr>\n",
       "    <tr>\n",
       "      <th>42993</th>\n",
       "      <td>ZZIP ELECTRIC INC</td>\n",
       "      <td>350 DUNHAM STREET</td>\n",
       "      <td>SOUTHINGTON, CT 06489</td>\n",
       "      <td>2</td>\n",
       "      <td>2011</td>\n",
       "      <td>GMC</td>\n",
       "      <td>SIERRA K</td>\n",
       "      <td>CREWCH</td>\n",
       "      <td>1GD422CLXBF157043</td>\n",
       "      <td>SOUTHINGTON</td>\n",
       "      <td>CT</td>\n",
       "      <td>06489</td>\n",
       "    </tr>\n",
       "    <tr>\n",
       "      <th>42994</th>\n",
       "      <td>ZZIP ELECTRIC INC</td>\n",
       "      <td>350 DUNHAM ST</td>\n",
       "      <td>SOUTHINGTON, CT 06489-1215</td>\n",
       "      <td>3</td>\n",
       "      <td>2015</td>\n",
       "      <td>GMC</td>\n",
       "      <td>SAVANA G</td>\n",
       "      <td>CARGOV</td>\n",
       "      <td>1GTW7FCF3F1903772</td>\n",
       "      <td>SOUTHINGTON</td>\n",
       "      <td>CT</td>\n",
       "      <td>06489</td>\n",
       "    </tr>\n",
       "    <tr>\n",
       "      <th>42995</th>\n",
       "      <td>ZZIP ELECTRIC INC</td>\n",
       "      <td>350 DUNHAM STREET</td>\n",
       "      <td>SOUTHINGTON, CT 06489</td>\n",
       "      <td>10</td>\n",
       "      <td>2020</td>\n",
       "      <td>CAM</td>\n",
       "      <td>7CAM616L</td>\n",
       "      <td>DUMP</td>\n",
       "      <td>5JWCA1628LP506187</td>\n",
       "      <td>SOUTHINGTON</td>\n",
       "      <td>CT</td>\n",
       "      <td>06489</td>\n",
       "    </tr>\n",
       "  </tbody>\n",
       "</table>\n",
       "<p>42996 rows × 12 columns</p>\n",
       "</div>"
      ],
      "text/plain": [
       "                                      Name     Street Address  \\\n",
       "0                             18FORE18 INC  201 PATTONWOOD DR   \n",
       "1      3 BROTHERS PROPERTY PRESERVATION SE      461C COOKE ST   \n",
       "2                       A & A SURPLUS INC.     389 MARION AVE   \n",
       "3                       A & A SURPLUS INC.     389 MARION AVE   \n",
       "4                      A AND A SURPLUS INC     389 MARION AVE   \n",
       "...                                    ...                ...   \n",
       "42991                    ZZIP ELECTRIC INC      350 DUNHAM ST   \n",
       "42992                    ZZIP ELECTRIC INC  350 DUNHAM STREET   \n",
       "42993                    ZZIP ELECTRIC INC  350 DUNHAM STREET   \n",
       "42994                    ZZIP ELECTRIC INC      350 DUNHAM ST   \n",
       "42995                    ZZIP ELECTRIC INC  350 DUNHAM STREET   \n",
       "\n",
       "                   Town/State/Zip  Class  Year   Make     Model    Body  \\\n",
       "0      SOUTHINGTON, CT 06489-1632     11  2002  USCAR  USCL58SA  TRAILE   \n",
       "1            FARMINGTON, CT 06032      3  2013   FORD  F350 SUP  PICKUP   \n",
       "2           PLANTSVILLE, CT 06479      3  2008  TOYOT  TUNDRA D  CREWPI   \n",
       "3           PLANTSVILLE, CT 06479      2  2012  FREIG  M2 106 M  FLAT-B   \n",
       "4      PLANTSVILLE, CT 06479-1403      2  1999  INTER  4000 SER  CONVEN   \n",
       "...                           ...    ...   ...    ...       ...     ...   \n",
       "42991  SOUTHINGTON, CT 06489-1215     10  2014  BELMO  SSTD2214  TRAILE   \n",
       "42992       SOUTHINGTON, CT 06489      2  1997  CHEVR     G3500  CUTAWA   \n",
       "42993       SOUTHINGTON, CT 06489      2  2011    GMC  SIERRA K  CREWCH   \n",
       "42994  SOUTHINGTON, CT 06489-1215      3  2015    GMC  SAVANA G  CARGOV   \n",
       "42995       SOUTHINGTON, CT 06489     10  2020    CAM  7CAM616L    DUMP   \n",
       "\n",
       "                     VIN         City State    Zip  \n",
       "0      4X4TSE0112X053369  SOUTHINGTON    CT  06489  \n",
       "1      1FTRF3B68DEA53496   FARMINGTON    CT  06032  \n",
       "2      5TBBV54198S491700  PLANTSVILLE    CT  06479  \n",
       "3      1FVACXDT5CHBV1762  PLANTSVILLE    CT  06479  \n",
       "4      1HTSCAAM3XH688887  PLANTSVILLE    CT  06479  \n",
       "...                  ...          ...   ...    ...  \n",
       "42991  1B9TD2225EL657496  SOUTHINGTON    CT  06489  \n",
       "42992  1GBHG31R6V1003858  SOUTHINGTON    CT  06489  \n",
       "42993  1GD422CLXBF157043  SOUTHINGTON    CT  06489  \n",
       "42994  1GTW7FCF3F1903772  SOUTHINGTON    CT  06489  \n",
       "42995  5JWCA1628LP506187  SOUTHINGTON    CT  06489  \n",
       "\n",
       "[42996 rows x 12 columns]"
      ]
     },
     "execution_count": 61,
     "metadata": {},
     "output_type": "execute_result"
    }
   ],
   "source": [
    "df"
   ]
  },
  {
   "cell_type": "code",
   "execution_count": 62,
   "metadata": {},
   "outputs": [
    {
     "data": {
      "text/plain": [
       "array(['CT', 'PA', '', 'TX', 'AL', 'NJ', 'RI', 'GA', 'OH', 'IL', 'MA',\n",
       "       'OT', 'SD', 'MD', 'NC', 'VA', 'TE', 'MO', 'FL', 'MN', 'CA', 'ME',\n",
       "       'SC', 'UT', 'PT', 'NH', 'NY', 'MI', 'AZ', 'WI'], dtype=object)"
      ]
     },
     "execution_count": 62,
     "metadata": {},
     "output_type": "execute_result"
    }
   ],
   "source": [
    "df.State.unique()"
   ]
  },
  {
   "cell_type": "code",
   "execution_count": 64,
   "metadata": {},
   "outputs": [],
   "source": [
    "df = df.drop(columns=['Town/State/Zip'])\n",
    "df.to_excel(sav_path + f)"
   ]
  },
  {
   "cell_type": "markdown",
   "metadata": {},
   "source": [
    "# todo"
   ]
  },
  {
   "cell_type": "code",
   "execution_count": null,
   "metadata": {},
   "outputs": [],
   "source": []
  }
 ],
 "metadata": {
  "kernelspec": {
   "display_name": "Python 3 (ipykernel)",
   "language": "python",
   "name": "python3"
  },
  "language_info": {
   "codemirror_mode": {
    "name": "ipython",
    "version": 3
   },
   "file_extension": ".py",
   "mimetype": "text/x-python",
   "name": "python",
   "nbconvert_exporter": "python",
   "pygments_lexer": "ipython3",
   "version": "3.9.12"
  },
  "vscode": {
   "interpreter": {
    "hash": "6858684b0690039435734b219ec74a1cbe2c1f746d4b33fc6fde6499d58fa4fb"
   }
  }
 },
 "nbformat": 4,
 "nbformat_minor": 2
}
