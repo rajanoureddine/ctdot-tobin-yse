{
 "cells": [
  {
   "cell_type": "markdown",
   "id": "11673358",
   "metadata": {},
   "source": [
    "# Setup"
   ]
  },
  {
   "cell_type": "code",
   "execution_count": 3,
   "id": "29136146",
   "metadata": {},
   "outputs": [
    {
     "name": "stdout",
     "output_type": "stream",
     "text": [
      "Requirement already satisfied: fsspec in c:\\users\\rajan\\anaconda3\\lib\\site-packages (2022.2.0)\n"
     ]
    }
   ],
   "source": [
    "!pip install fsspec"
   ]
  },
  {
   "cell_type": "code",
   "execution_count": 17,
   "id": "058d6422",
   "metadata": {},
   "outputs": [],
   "source": [
    "import requests\n",
    "import pandas as pd\n",
    "import pathlib"
   ]
  },
  {
   "cell_type": "code",
   "execution_count": 5,
   "id": "c1c99704",
   "metadata": {},
   "outputs": [],
   "source": [
    "census_api_key = '529389300296df4951e09f06b7628da596dd8eeb'"
   ]
  },
  {
   "cell_type": "code",
   "execution_count": 18,
   "id": "278beb5c",
   "metadata": {},
   "outputs": [],
   "source": [
    "DATA_PATH = pathlib.Path().resolve() / \"data\""
   ]
  },
  {
   "cell_type": "markdown",
   "id": "8486bc2d",
   "metadata": {},
   "source": [
    "# Call API"
   ]
  },
  {
   "cell_type": "markdown",
   "id": "2e6c0a22",
   "metadata": {},
   "source": [
    "## Set up API Call"
   ]
  },
  {
   "cell_type": "code",
   "execution_count": 6,
   "id": "9fc1eecb",
   "metadata": {},
   "outputs": [],
   "source": [
    "# Set Census API URL and year\n",
    "host = 'https://api.census.gov/data'\n",
    "year = '/2018'\n",
    "\n",
    "# We are using data from the 2018 ACS\n",
    "dataset_acronym = '/acs/acs1/subject/variables'\n",
    "\n",
    "# Set the action to get\n",
    "g = '?get='\n",
    "\n",
    "# Set the state to get\n",
    "# location = '&for=state:*'\n",
    "# Try with codes - setting for all counties in connecticut\n",
    "location = '&for=county:*&in=state:09'\n",
    "\n",
    "# Set the user key\n",
    "usr_key = f\"&key={census_api_key}\""
   ]
  },
  {
   "cell_type": "markdown",
   "id": "b27dc1a4",
   "metadata": {},
   "source": [
    "## Set the variables to extract"
   ]
  },
  {
   "cell_type": "code",
   "execution_count": 23,
   "id": "c65a223b",
   "metadata": {},
   "outputs": [],
   "source": [
    "# See here https://api.census.gov/data/2018/acs/acs1/subject/groups/S1901.html\n",
    "series = \"S1901_C01_\"\n",
    "all_categories = [series+f'{x:03}'+\"E\" for x in range(1,14)]"
   ]
  },
  {
   "cell_type": "code",
   "execution_count": 24,
   "id": "f13a3dc8",
   "metadata": {
    "scrolled": true
   },
   "outputs": [
    {
     "data": {
      "text/plain": [
       "'S1901_C01_001E,S1901_C01_002E,S1901_C01_003E,S1901_C01_004E,S1901_C01_005E,S1901_C01_006E,S1901_C01_007E,S1901_C01_008E,S1901_C01_009E,S1901_C01_010E,S1901_C01_011E,S1901_C01_012E,S1901_C01_013E'"
      ]
     },
     "execution_count": 24,
     "metadata": {},
     "output_type": "execute_result"
    }
   ],
   "source": [
    "variables = ','.join(all_categories)\n",
    "variables"
   ]
  },
  {
   "cell_type": "code",
   "execution_count": 25,
   "id": "4252fb9d",
   "metadata": {},
   "outputs": [],
   "source": [
    "# Let's also name them using a dictionary\n",
    "var_names = {\n",
    "    \"S1901_C01_001E\" : \"Households - Total\",\n",
    "    \"S1901_C01_002E\" : \"Less than 10,000\",\n",
    "    \"S1901_C01_003E\" : \"10,000 to 14,999\",\n",
    "    \"S1901_C01_004E\" : \"15,000 to 24,999\",\n",
    "    \"S1901_C01_005E\" : \"25,000 to 34,999\",\n",
    "    \"S1901_C01_006E\" : \"34,000 to 49,999\",\n",
    "    \"S1901_C01_007E\" : \"50,000 to 75,999\",\n",
    "    \"S1901_C01_008E\" : \"75,000 to 99,999\", \n",
    "    \"S1901_C01_009E\" : \"100,000 to 149,999\",\n",
    "    \"S1901_C01_010E\" : \"150,000 to 199,999\",\n",
    "    \"S1901_C01_011E\" : \"200,000 or more\",\n",
    "    \"S1901_C01_012E\" : \"Median\",\n",
    "    \"S1901_C01_013E\" : \"Mean\"\n",
    "}"
   ]
  },
  {
   "cell_type": "markdown",
   "id": "34cde410",
   "metadata": {},
   "source": [
    "## Create the call"
   ]
  },
  {
   "cell_type": "code",
   "execution_count": 26,
   "id": "cf05da57",
   "metadata": {},
   "outputs": [],
   "source": [
    "#Put it all together in one f-string:\n",
    "query_url = f\"{host}{year}{dataset_acronym}{g}{variables}{location}{usr_key}\""
   ]
  },
  {
   "cell_type": "code",
   "execution_count": 27,
   "id": "9b915c8f",
   "metadata": {},
   "outputs": [
    {
     "data": {
      "text/plain": [
       "'https://api.census.gov/data/2018/acs/acs1/subject/variables?get=S1901_C01_001E,S1901_C01_002E,S1901_C01_003E,S1901_C01_004E,S1901_C01_005E,S1901_C01_006E,S1901_C01_007E,S1901_C01_008E,S1901_C01_009E,S1901_C01_010E,S1901_C01_011E,S1901_C01_012E,S1901_C01_013E&for=county:*&in=state:09&key=529389300296df4951e09f06b7628da596dd8eeb'"
      ]
     },
     "execution_count": 27,
     "metadata": {},
     "output_type": "execute_result"
    }
   ],
   "source": [
    "# Check the query url\n",
    "query_url"
   ]
  },
  {
   "cell_type": "code",
   "execution_count": 28,
   "id": "8958646c",
   "metadata": {},
   "outputs": [],
   "source": [
    "# Use requests package to call out to the API\n",
    "response = requests.get(query_url)"
   ]
  },
  {
   "cell_type": "code",
   "execution_count": 13,
   "id": "680a0652",
   "metadata": {},
   "outputs": [
    {
     "data": {
      "text/plain": [
       "<Response [200]>"
      ]
     },
     "execution_count": 13,
     "metadata": {},
     "output_type": "execute_result"
    }
   ],
   "source": [
    "response"
   ]
  },
  {
   "cell_type": "code",
   "execution_count": 14,
   "id": "9530141e",
   "metadata": {},
   "outputs": [
    {
     "data": {
      "text/plain": [
       "'[[\"S1901_C01_001E\",\"S1901_C01_002E\",\"S1901_C01_003E\",\"S1901_C01_004E\",\"S1901_C01_005E\",\"S1901_C01_006E\",\"S1901_C01_007E\",\"S1901_C01_008E\",\"S1901_C01_009E\",\"S1901_C01_010E\",\"S1901_C01_011E\",\"state\",\"county\"],\\n[\"335539\",\"5.8\",\"5.0\",\"7.6\",\"8.1\",\"11.3\",\"16.4\",\"12.7\",\"15.4\",\"8.4\",\"9.3\",\"09\",\"009\"],\\n[\"348049\",\"5.7\",\"4.1\",\"8.0\",\"7.7\",\"10.2\",\"15.1\",\"12.4\",\"17.3\",\"8.8\",\"10.7\",\"09\",\"003\"],\\n[\"73598\",\"3.4\",\"2.9\",\"7.6\",\"9.7\",\"9.2\",\"16.8\",\"13.0\",\"20.8\",\"8.3\",\"8.4\",\"09\",\"005\"],\\n[\"44571\",\"6.8\",\"3.6\",\"8.7\",\"5.8\",\"11.2\",\"21.6\",\"14.4\",\"15.8\",\"7.1\",\"4.9\",\"09\",\"015\"],\\n[\"108098\",\"4.5\",\"4.4\",\"8.1\",\"6.2\",\"10.9\",\"20.0\",\"13.0\",\"17.1\",\"8.9\",\"7.0\",\"09\",\"011\"],\\n[\"66983\",\"3.5\",\"2.3\",\"6.2\",\"6.9\",\"9.3\",\"14.7\",\"12.6\",\"20.6\",\"11.6\",\"12.2\",\"09\",\"007\"],\\n[\"55619\",\"4.3\",\"3.7\",\"5.5\",\"4.9\",\"7.7\",\"12.5\",\"15.0\",\"24.0\",\"11.2\",\"11.2\",\"09\",\"013\"],\\n[\"345634\",\"5.4\",\"3.0\",\"6.0\",\"6.1\",\"9.0\",\"13.3\",\"10.5\",\"15.2\",\"10.6\",\"20.8\",\"09\",\"001\"]]'"
      ]
     },
     "execution_count": 14,
     "metadata": {},
     "output_type": "execute_result"
    }
   ],
   "source": [
    "response.text"
   ]
  },
  {
   "cell_type": "code",
   "execution_count": 29,
   "id": "7a20edfc",
   "metadata": {},
   "outputs": [],
   "source": [
    "# Convert JSON response into dataframe\n",
    "df = pd.read_json(response.text)\n",
    "\n",
    "# Set the first row as the column names\n",
    "df. columns = df.iloc[0] \n",
    "\n",
    "# Now get rid of the first row, that is now duplicated\n",
    "df = df[1:]\n",
    "\n",
    "# Now reset the index\n",
    "df = df.reset_index(drop=True)\n",
    "\n",
    "# Set the column names\n",
    "df.rename(columns=var_names, inplace=True)"
   ]
  },
  {
   "cell_type": "code",
   "execution_count": 30,
   "id": "85bcba57",
   "metadata": {},
   "outputs": [],
   "source": [
    "# Save\n",
    "df.to_csv(DATA_PATH / \"S1901_CT.csv\")"
   ]
  }
 ],
 "metadata": {
  "kernelspec": {
   "display_name": "Python 3 (ipykernel)",
   "language": "python",
   "name": "python3"
  },
  "language_info": {
   "codemirror_mode": {
    "name": "ipython",
    "version": 3
   },
   "file_extension": ".py",
   "mimetype": "text/x-python",
   "name": "python",
   "nbconvert_exporter": "python",
   "pygments_lexer": "ipython3",
   "version": "3.9.12"
  }
 },
 "nbformat": 4,
 "nbformat_minor": 5
}
